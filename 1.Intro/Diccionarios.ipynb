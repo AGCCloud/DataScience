{
  "nbformat": 4,
  "nbformat_minor": 0,
  "metadata": {
    "colab": {
      "name": "Diccionarios.ipynb",
      "provenance": [],
      "authorship_tag": "ABX9TyNcR0P6QOJfCEuSfr/BpyL/",
      "include_colab_link": true
    },
    "kernelspec": {
      "name": "python3",
      "display_name": "Python 3"
    },
    "language_info": {
      "name": "python"
    }
  },
  "cells": [
    {
      "cell_type": "markdown",
      "metadata": {
        "id": "view-in-github",
        "colab_type": "text"
      },
      "source": [
        "<a href=\"https://colab.research.google.com/github/al34n1x/DataScience/blob/master/1.Intro/Diccionarios.ipynb\" target=\"_parent\"><img src=\"https://colab.research.google.com/assets/colab-badge.svg\" alt=\"Open In Colab\"/></a>"
      ]
    },
    {
      "cell_type": "markdown",
      "metadata": {
        "colab_type": "toc",
        "id": "tcryrJc9HF6m"
      },
      "source": [
        ">[Dictionaries](#updateTitle=true&folderId=1hYY6URNFLa2w5I3uQbpDlwOox_am-5cM&scrollTo=HS7z1Swy73cv)\n",
        "\n",
        ">>[A Simple Dictionary](#updateTitle=true&folderId=1hYY6URNFLa2w5I3uQbpDlwOox_am-5cM&scrollTo=9lSP0pmF78FH)\n",
        "\n",
        ">>[Accessing Values in a Dictionary](#updateTitle=true&folderId=1hYY6URNFLa2w5I3uQbpDlwOox_am-5cM&scrollTo=Jx18F46F9JJD)\n",
        "\n",
        ">>[Adding New Key-Value Pairs](#updateTitle=true&folderId=1hYY6URNFLa2w5I3uQbpDlwOox_am-5cM&scrollTo=oWR5E7L-9l4F)\n",
        "\n",
        ">>[Starting with an Empty Dictionary](#updateTitle=true&folderId=1hYY6URNFLa2w5I3uQbpDlwOox_am-5cM&scrollTo=kzEp44bS-PS_)\n",
        "\n",
        ">>[Modifying Values in a Dictionary](#updateTitle=true&folderId=1hYY6URNFLa2w5I3uQbpDlwOox_am-5cM&scrollTo=3RjlXan4-aSv)\n",
        "\n",
        ">>[Removing Key-Value Pairs](#updateTitle=true&folderId=1hYY6URNFLa2w5I3uQbpDlwOox_am-5cM&scrollTo=X_Ef5Fk4_RCX)\n",
        "\n",
        ">>[A Dictionary of Similar Objects](#updateTitle=true&folderId=1hYY6URNFLa2w5I3uQbpDlwOox_am-5cM&scrollTo=Rv0AHq50_gdM)\n",
        "\n",
        ">>[Using get() to Access Values](#updateTitle=true&folderId=1hYY6URNFLa2w5I3uQbpDlwOox_am-5cM&scrollTo=lhwK6E-B_-Q3)\n",
        "\n",
        ">>[Looping Through a Dictionary](#updateTitle=true&folderId=1hYY6URNFLa2w5I3uQbpDlwOox_am-5cM&scrollTo=LnpUWH2iA6f4)\n",
        "\n",
        ">>>[Looping Through All Key-Value Pairs](#updateTitle=true&folderId=1hYY6URNFLa2w5I3uQbpDlwOox_am-5cM&scrollTo=nrfS2OzsBapq)\n",
        "\n",
        ">>>[Looping Through All the Keys in a Dictionary](#updateTitle=true&folderId=1hYY6URNFLa2w5I3uQbpDlwOox_am-5cM&scrollTo=-TqG5cqTCIIB)\n",
        "\n",
        ">>>[Looping Through a Dictionary’s Keys in a Particular Order](#updateTitle=true&folderId=1hYY6URNFLa2w5I3uQbpDlwOox_am-5cM&scrollTo=gaKVkM_nDX7U)\n",
        "\n",
        ">>>[Looping Through All Values in a Dictionary](#updateTitle=true&folderId=1hYY6URNFLa2w5I3uQbpDlwOox_am-5cM&scrollTo=ig848DNjDzI0)\n",
        "\n",
        ">>[Nesting](#updateTitle=true&folderId=1hYY6URNFLa2w5I3uQbpDlwOox_am-5cM&scrollTo=j5Y08UVNECHl)\n",
        "\n",
        ">>>[A List of Dictionaries](#updateTitle=true&folderId=1hYY6URNFLa2w5I3uQbpDlwOox_am-5cM&scrollTo=yYhJ5UdJEGmU)\n",
        "\n",
        ">>>[A List in a Dictionary](#updateTitle=true&folderId=1hYY6URNFLa2w5I3uQbpDlwOox_am-5cM&scrollTo=y8EWUF60Fi42)\n",
        "\n",
        ">>>[A Dictionary in a Dictionary](#updateTitle=true&folderId=1hYY6URNFLa2w5I3uQbpDlwOox_am-5cM&scrollTo=2AfblR__GR2c)\n",
        "\n"
      ]
    },
    {
      "cell_type": "markdown",
      "metadata": {
        "id": "HS7z1Swy73cv"
      },
      "source": [
        "# Dictionaries\n",
        "\n",
        "Understanding dictionaries allows you to model a variety of real-world objects more accurately. You’ll be able to create a dictionary representing a person and then store as much information as you want about that person. You can store their name, age, location, profession, and any other aspect of a person you can describe. You’ll be able to store any two kinds of information that can be matched up, such as a list of words and their meanings, a list of people’s names and their favorite numbers, a list of mountains and their elevations, and so forth."
      ]
    },
    {
      "cell_type": "markdown",
      "metadata": {
        "id": "9lSP0pmF78FH"
      },
      "source": [
        "## A Simple Dictionary\n",
        "\n",
        "Consider a game featuring aliens that can have different colors and point values. This simple dictionary stores information about a particular alien:"
      ]
    },
    {
      "cell_type": "code",
      "metadata": {
        "id": "brgp7PVT7kxR"
      },
      "source": [
        "alien = {'color': 'green', 'points': 5}"
      ],
      "execution_count": null,
      "outputs": []
    },
    {
      "cell_type": "markdown",
      "metadata": {
        "id": "pqPHjUno87ib"
      },
      "source": [
        "A dictionary in Python is a collection of key-value pairs. Each key is connected to a value, and you can use a key to access the value associated with that key. A key’s value can be a number, a string, a list, or even another dictionary. In fact, you can use any object that you can create in Python as a value in a dictionary.\n",
        "\n",
        "In Python, a dictionary is wrapped in braces, {}, with a series of key-value pairs inside the braces, as shown in the earlier example.\n",
        "\n",
        "A key-value pair is a set of values associated with each other. When you provide a key, Python returns the value associated with that key. Every key is connected to its value by a colon, and individual key-value pairs are separated by commas. You can store as many key-value pairs as you want in a dictionary"
      ]
    },
    {
      "cell_type": "markdown",
      "metadata": {
        "id": "Jx18F46F9JJD"
      },
      "source": [
        "## Accessing Values in a Dictionary\n",
        "To get the value associated with a key, give the name of the dictionary and then place the key inside a set of square brackets, as shown here:"
      ]
    },
    {
      "cell_type": "code",
      "metadata": {
        "id": "gsHc5MYo9Gxp"
      },
      "source": [
        "print(alien['color'])\n",
        "print(alien['points'])\n",
        "\n",
        "# The dictionary alien_0 stores the alien’s color and point value. \n",
        "# The last two lines access and display that information, as shown here:"
      ],
      "execution_count": null,
      "outputs": []
    },
    {
      "cell_type": "markdown",
      "metadata": {
        "id": "U0EqPkOX9ePY"
      },
      "source": [
        "Now you can access either the color or the point value of alien_0. If a player shoots down this alien, you can look up how many points they should earn using code like this:"
      ]
    },
    {
      "cell_type": "code",
      "metadata": {
        "id": "5NTT1KqK9dcO"
      },
      "source": [
        "new_points = alien['points']\n",
        "print(f\"You just earned {new_points} points!\")"
      ],
      "execution_count": null,
      "outputs": []
    },
    {
      "cell_type": "markdown",
      "metadata": {
        "id": "oWR5E7L-9l4F"
      },
      "source": [
        "## Adding New Key-Value Pairs\n",
        "Dictionaries are dynamic structures, and you can add new key-value pairs to a dictionary at any time. For example, to add a new key-value pair, you would give the name of the dictionary followed by the new key in square brackets along with the new value.\n",
        "\n",
        "Let’s add two new pieces of information to the alien_0 dictionary: the alien’s x- and y-coordinates, which will help us display the alien in a particular position on the screen. Let’s place the alien on the left edge of the screen, 25 pixels down from the top. Because screen coordinates usually start at the upper-left corner of the screen, we’ll place the alien on the left edge of the screen by setting the x-coordinate to 0 and 25 pixels from the top by setting its y-coordinate to positive 25, as shown here:"
      ]
    },
    {
      "cell_type": "code",
      "metadata": {
        "colab": {
          "base_uri": "https://localhost:8080/"
        },
        "id": "KwkUJDEP93lM",
        "outputId": "4f9f3ec3-bdec-40e1-a7c4-b92bdc0ca682"
      },
      "source": [
        "alien['x_position'] = 0\n",
        "alien['y_position'] = 25\n",
        "print(alien)\n",
        "\n",
        "# As of Python 3.7, dictionaries retain the order in which they were defined. \n",
        "# When you print a dictionary or loop through its elements, \n",
        "# you will see the elements in the same order in which they were added to the dictionary."
      ],
      "execution_count": 5,
      "outputs": [
        {
          "output_type": "stream",
          "text": [
            "{'color': 'green', 'points': 5, 'x_position': 0, 'y_position': 25}\n"
          ],
          "name": "stdout"
        }
      ]
    },
    {
      "cell_type": "markdown",
      "metadata": {
        "id": "kzEp44bS-PS_"
      },
      "source": [
        "## Starting with an Empty Dictionary\n",
        "It’s sometimes convenient, or even necessary, to start with an empty dictionary and then add each new item to it. To start filling an empty dictionary, define a dictionary with an empty set of braces and then add each key-value pair on its own line. For example, here’s how to build the alien_0 dictionary using this approach:"
      ]
    },
    {
      "cell_type": "code",
      "metadata": {
        "colab": {
          "base_uri": "https://localhost:8080/"
        },
        "id": "aTrXajig-Fvj",
        "outputId": "426cafbd-e4b9-49f8-b0d3-bc6fc7b24a0d"
      },
      "source": [
        "alien = {}\n",
        "\n",
        "alien['color'] = 'green'\n",
        "alien['points'] = 5\n",
        "\n",
        "print(alien)"
      ],
      "execution_count": 7,
      "outputs": [
        {
          "output_type": "stream",
          "text": [
            "{'color': 'green', 'points': 5}\n"
          ],
          "name": "stdout"
        }
      ]
    },
    {
      "cell_type": "markdown",
      "metadata": {
        "id": "3RjlXan4-aSv"
      },
      "source": [
        "## Modifying Values in a Dictionary\n",
        "To modify a value in a dictionary, give the name of the dictionary with the key in square brackets and then the new value you want associated with that key. For example, consider an alien that changes from green to yellow as a game progresses:"
      ]
    },
    {
      "cell_type": "code",
      "metadata": {
        "colab": {
          "base_uri": "https://localhost:8080/"
        },
        "id": "oUPA31OF-eDs",
        "outputId": "3ec532e3-98d9-45b8-de3f-1d190ae59331"
      },
      "source": [
        "alien = {'color': 'green'}\n",
        "print(f\"The alien is {alien ['color']}.\")\n",
        "\n",
        "#Insertar código\n",
        "print(f\"The alien is now {alien ['color']}.\")"
      ],
      "execution_count": 8,
      "outputs": [
        {
          "output_type": "stream",
          "text": [
            "The alien is green.\n",
            "The alien is now yellow.\n"
          ],
          "name": "stdout"
        }
      ]
    },
    {
      "cell_type": "markdown",
      "metadata": {
        "id": "6TR1vo6C-zNe"
      },
      "source": [
        "For a more interesting example, let’s track the position of an alien that can move at different speeds. We’ll store a value representing the alien’s current speed and then use it to determine how far to the right the alien should move:"
      ]
    },
    {
      "cell_type": "code",
      "metadata": {
        "colab": {
          "base_uri": "https://localhost:8080/"
        },
        "id": "X4bKTBJe-2Ho",
        "outputId": "cd4828eb-758e-466a-d04e-6c277f6e1c73"
      },
      "source": [
        "   alien = {'x_position': 0, 'y_position': 25, 'speed': 'medium'}\n",
        "   print(f\"Original position: {alien['x_position']}\")\n",
        "\n",
        "   # Move the alien to the right.\n",
        "   # Determine how far to move the alien based on its current speed.\n",
        "   if alien['speed'] == 'slow':\n",
        "       x_increment = 1\n",
        "   elif alien['speed'] == 'medium':\n",
        "       x_increment = 2\n",
        "   else:\n",
        "       # This must be a fast alien.\n",
        "       x_increment = 3\n",
        "\n",
        "   # The new position is the old position plus the increment.\n",
        "   alien['x_position'] = alien['x_position'] + x_increment\n",
        "\n",
        "   print(f\"New X position: {alien['x_position']}\")"
      ],
      "execution_count": 10,
      "outputs": [
        {
          "output_type": "stream",
          "text": [
            "Original position: 0\n",
            "New X position: 2\n"
          ],
          "name": "stdout"
        }
      ]
    },
    {
      "cell_type": "markdown",
      "metadata": {
        "id": "X_Ef5Fk4_RCX"
      },
      "source": [
        "## Removing Key-Value Pairs\n",
        "When you no longer need a piece of information that’s stored in a dictionary, you can use the del statement to completely remove a key-value pair. All del needs is the name of the dictionary and the key that you want to remove.\n",
        "\n",
        "For example, let’s remove the key 'points' from the alien_0 dictionary along with its value:"
      ]
    },
    {
      "cell_type": "code",
      "metadata": {
        "colab": {
          "base_uri": "https://localhost:8080/"
        },
        "id": "p8RQTkqQ_QFf",
        "outputId": "2012a919-3a79-450d-f111-7bd50a3f70c1"
      },
      "source": [
        "  alien = {'color': 'green', 'points': 5}\n",
        "  print(alien)\n",
        "\n",
        "  del alien['points']\n",
        "  print(alien)"
      ],
      "execution_count": 11,
      "outputs": [
        {
          "output_type": "stream",
          "text": [
            "{'color': 'green', 'points': 5}\n",
            "{'color': 'green'}\n"
          ],
          "name": "stdout"
        }
      ]
    },
    {
      "cell_type": "markdown",
      "metadata": {
        "id": "Rv0AHq50_gdM"
      },
      "source": [
        "## A Dictionary of Similar Objects\n",
        "The previous example involved storing different kinds of information about one object, an alien in a game. You can also use a dictionary to store one kind of information about many objects. For example, say you want to poll a number of people and ask them what their favorite programming language is. A dictionary is useful for storing the results of a simple poll, like this:"
      ]
    },
    {
      "cell_type": "code",
      "metadata": {
        "id": "vroA6h52_iw3"
      },
      "source": [
        "favorite_languages = {    ## Mismo resultado, se hace así para poder tener una mejor lectura\n",
        "    'jen': 'python',\n",
        "    'sarah': 'c',\n",
        "    'edward': 'ruby',\n",
        "    'phil': 'python',\n",
        "    }"
      ],
      "execution_count": 13,
      "outputs": []
    },
    {
      "cell_type": "code",
      "metadata": {
        "colab": {
          "base_uri": "https://localhost:8080/"
        },
        "id": "a3Vm49TT_wNg",
        "outputId": "f43cba47-94a3-4172-db88-8a4da1092abf"
      },
      "source": [
        "  language = favorite_languages['sarah'].title() #Recuerda que estamos realizando con la llamada al método .title()?\n",
        "  print(f\"Sarah's favorite language is {language}.\")"
      ],
      "execution_count": 14,
      "outputs": [
        {
          "output_type": "stream",
          "text": [
            "Sarah's favorite language is C.\n"
          ],
          "name": "stdout"
        }
      ]
    },
    {
      "cell_type": "markdown",
      "metadata": {
        "id": "lhwK6E-B_-Q3"
      },
      "source": [
        "## Using get() to Access Values\n",
        "Using keys in square brackets to retrieve the value you’re interested in from a dictionary might cause one potential problem: if the key you ask for doesn’t exist, you’ll get an error.\n",
        "\n"
      ]
    },
    {
      "cell_type": "code",
      "metadata": {
        "colab": {
          "base_uri": "https://localhost:8080/",
          "height": 182
        },
        "id": "LWnED5byAQne",
        "outputId": "f7eba861-0623-493d-a1fe-1f7c58877a9e"
      },
      "source": [
        "alien = {'color': 'green', 'speed': 'slow'}\n",
        "print(alien['points'])"
      ],
      "execution_count": 15,
      "outputs": [
        {
          "output_type": "error",
          "ename": "KeyError",
          "evalue": "ignored",
          "traceback": [
            "\u001b[0;31m---------------------------------------------------------------------------\u001b[0m",
            "\u001b[0;31mKeyError\u001b[0m                                  Traceback (most recent call last)",
            "\u001b[0;32m<ipython-input-15-6ca2cb870d0a>\u001b[0m in \u001b[0;36m<module>\u001b[0;34m()\u001b[0m\n\u001b[1;32m      1\u001b[0m \u001b[0malien\u001b[0m \u001b[0;34m=\u001b[0m \u001b[0;34m{\u001b[0m\u001b[0;34m'color'\u001b[0m\u001b[0;34m:\u001b[0m \u001b[0;34m'green'\u001b[0m\u001b[0;34m,\u001b[0m \u001b[0;34m'speed'\u001b[0m\u001b[0;34m:\u001b[0m \u001b[0;34m'slow'\u001b[0m\u001b[0;34m}\u001b[0m\u001b[0;34m\u001b[0m\u001b[0;34m\u001b[0m\u001b[0m\n\u001b[0;32m----> 2\u001b[0;31m \u001b[0mprint\u001b[0m\u001b[0;34m(\u001b[0m\u001b[0malien\u001b[0m\u001b[0;34m[\u001b[0m\u001b[0;34m'points'\u001b[0m\u001b[0;34m]\u001b[0m\u001b[0;34m)\u001b[0m\u001b[0;34m\u001b[0m\u001b[0;34m\u001b[0m\u001b[0m\n\u001b[0m",
            "\u001b[0;31mKeyError\u001b[0m: 'points'"
          ]
        }
      ]
    },
    {
      "cell_type": "markdown",
      "metadata": {
        "id": "VJthL0wRATt9"
      },
      "source": [
        "The get() method requires a key as a first argument. As a second optional argument, you can pass the value to be returned if the key doesn’t exist:"
      ]
    },
    {
      "cell_type": "code",
      "metadata": {
        "colab": {
          "base_uri": "https://localhost:8080/"
        },
        "id": "e7RfnAXlAUPC",
        "outputId": "66e3d44d-4c13-4717-c09f-967d813a14fe"
      },
      "source": [
        "point_value = alien.get('points', 'No point value assigned.') \n",
        "# El primer argument es por si existe, en caso que no exista, muestra el segundo argumento\n",
        "# Si no agregamos el segundo argumento, Python devolverá None\n",
        "print(point_value)"
      ],
      "execution_count": 16,
      "outputs": [
        {
          "output_type": "stream",
          "text": [
            "No point value assigned.\n"
          ],
          "name": "stdout"
        }
      ]
    },
    {
      "cell_type": "markdown",
      "metadata": {
        "id": "LnpUWH2iA6f4"
      },
      "source": [
        "## Looping Through a Dictionary\n",
        "A single Python dictionary can contain just a few key-value pairs or millions of pairs. Because a dictionary can contain large amounts of data, Python lets you loop through a dictionary. Dictionaries can be used to store information in a variety of ways; therefore, several different ways exist to loop through them. You can loop through all of a dictionary’s key-value pairs, through its keys, or through its values."
      ]
    },
    {
      "cell_type": "markdown",
      "metadata": {
        "id": "nrfS2OzsBapq"
      },
      "source": [
        "### Looping Through All Key-Value Pairs\n",
        "Before we explore the different approaches to looping, let’s consider a new dictionary designed to store information about a user on a website. The following dictionary would store one person’s username, first name, and last name:"
      ]
    },
    {
      "cell_type": "code",
      "metadata": {
        "id": "vG4S_ehzBeko"
      },
      "source": [
        "user = {\n",
        "    'username': 'dlarusso',\n",
        "    'first': 'Daniel',\n",
        "    'last': 'Larusso',\n",
        "    }"
      ],
      "execution_count": 17,
      "outputs": []
    },
    {
      "cell_type": "markdown",
      "metadata": {
        "id": "5P4_rxmsBrdw"
      },
      "source": [
        "You can access any single piece of information about user_0 based on what you’ve already learned in this chapter. But what if you wanted to see everything stored in this user’s dictionary? To do so, you could loop through the dictionary using a for loop:"
      ]
    },
    {
      "cell_type": "code",
      "metadata": {
        "id": "T3VGtyrzBufb"
      },
      "source": [
        "for key, value in user.items():\n",
        "  print(f\"\\nKey: {key}\")\n",
        "  print(f\"Value: {value}\")"
      ],
      "execution_count": null,
      "outputs": []
    },
    {
      "cell_type": "markdown",
      "metadata": {
        "id": "-TqG5cqTCIIB"
      },
      "source": [
        "### Looping Through All the Keys in a Dictionary\n",
        "The keys() method is useful when you don’t need to work with all of the values in a dictionary. Let’s loop through the favorite_languages dictionary and print the names of everyone who took the poll:"
      ]
    },
    {
      "cell_type": "code",
      "metadata": {
        "colab": {
          "base_uri": "https://localhost:8080/"
        },
        "id": "gB_sagUiCKtz",
        "outputId": "b03ebe36-e831-41aa-c423-4c33048616f7"
      },
      "source": [
        "for name in favorite_languages.keys():\n",
        "  print(name.title())"
      ],
      "execution_count": 19,
      "outputs": [
        {
          "output_type": "stream",
          "text": [
            "Jen\n",
            "Sarah\n",
            "Edward\n",
            "Phil\n"
          ],
          "name": "stdout"
        }
      ]
    },
    {
      "cell_type": "code",
      "metadata": {
        "colab": {
          "base_uri": "https://localhost:8080/"
        },
        "id": "I99U0FJKCgC-",
        "outputId": "462219e8-54af-480d-dab0-fdcbdd1780ba"
      },
      "source": [
        "favorite_languages = {    \n",
        "    'jen': 'python',\n",
        "    'sarah': 'c',\n",
        "    'edward': 'ruby',\n",
        "    'phil': 'python',\n",
        "    }\n",
        "\n",
        "# Agregamos una lista de Friends con dos nombres\n",
        "friends = ['phil', 'sarah']\n",
        "for name in favorite_languages.keys():\n",
        "  print(f\"Hi {name.title()}.\")\n",
        "  if name in friends:\n",
        "    language = favorite_languages[name].title()\n",
        "    print(f\"\\t{name.title()}, I see you love {language}!\")"
      ],
      "execution_count": 20,
      "outputs": [
        {
          "output_type": "stream",
          "text": [
            "Hi Jen.\n",
            "Hi Sarah.\n",
            "\tSarah, I see you love C!\n",
            "Hi Edward.\n",
            "Hi Phil.\n",
            "\tPhil, I see you love Python!\n"
          ],
          "name": "stdout"
        }
      ]
    },
    {
      "cell_type": "markdown",
      "metadata": {
        "id": "gaKVkM_nDX7U"
      },
      "source": [
        "### Looping Through a Dictionary’s Keys in a Particular Order\n",
        "Starting in Python 3.7, looping through a dictionary returns the items in the same order they were inserted. Sometimes, though, you’ll want to loop through a dictionary in a different order.\n",
        "\n",
        "One way to do this is to sort the keys as they’re returned in the for loop. You can use the sorted() function to get a copy of the keys in order:"
      ]
    },
    {
      "cell_type": "code",
      "metadata": {
        "colab": {
          "base_uri": "https://localhost:8080/"
        },
        "id": "E_33CXarDpve",
        "outputId": "9f2501d7-dccb-480c-c119-1a02bc0a2ac1"
      },
      "source": [
        "for name in sorted(favorite_languages.keys()):\n",
        "  print(f\"{name.title()}, thank you for taking the poll.\")"
      ],
      "execution_count": 21,
      "outputs": [
        {
          "output_type": "stream",
          "text": [
            "Edward, thank you for taking the poll.\n",
            "Jen, thank you for taking the poll.\n",
            "Phil, thank you for taking the poll.\n",
            "Sarah, thank you for taking the poll.\n"
          ],
          "name": "stdout"
        }
      ]
    },
    {
      "cell_type": "markdown",
      "metadata": {
        "id": "ig848DNjDzI0"
      },
      "source": [
        "### Looping Through All Values in a Dictionary\n",
        "If you are primarily interested in the values that a dictionary contains, you can use the values() method to return a list of values without any keys. For example, say we simply want a list of all languages chosen in our programming language poll without the name of the person who chose each language:"
      ]
    },
    {
      "cell_type": "code",
      "metadata": {
        "colab": {
          "base_uri": "https://localhost:8080/"
        },
        "id": "KDQ_PD51D1Zg",
        "outputId": "23485df2-1704-4783-b1c8-c44fc04b2118"
      },
      "source": [
        "print(\"The following languages have been mentioned:\")\n",
        "for language in favorite_languages.values():\n",
        "  print(language.title())"
      ],
      "execution_count": 22,
      "outputs": [
        {
          "output_type": "stream",
          "text": [
            "The following languages have been mentioned:\n",
            "Python\n",
            "C\n",
            "Ruby\n",
            "Python\n"
          ],
          "name": "stdout"
        }
      ]
    },
    {
      "cell_type": "markdown",
      "metadata": {
        "id": "j5Y08UVNECHl"
      },
      "source": [
        "## Nesting\n",
        "Sometimes you’ll want to store multiple dictionaries in a list, or a list of items as a value in a dictionary. This is called nesting. You can nest dictionaries inside a list, a list of items inside a dictionary, or even a dictionary inside another dictionary. Nesting is a powerful feature, as the following examples will demonstrate.\n"
      ]
    },
    {
      "cell_type": "markdown",
      "metadata": {
        "id": "yYhJ5UdJEGmU"
      },
      "source": [
        "### A List of Dictionaries\n",
        "The alien dictionary contains a variety of information about one alien, but it has no room to store information about a second alien, much less a screen full of aliens. How can you manage a fleet of aliens? One way is to make a list of aliens in which each alien is a dictionary of information about that alien. For example, the following code builds a list of three aliens:"
      ]
    },
    {
      "cell_type": "code",
      "metadata": {
        "id": "CQlV8EaYEMkd"
      },
      "source": [
        "alien_0 = {'color': 'green', 'points': 5}\n",
        "alien_1 = {'color': 'yellow', 'points': 10}\n",
        "alien_2 = {'color': 'red', 'points': 15}\n",
        "\n",
        "# Qué herramienta podríamos utilizar para poder agruparlos? "
      ],
      "execution_count": 23,
      "outputs": []
    },
    {
      "cell_type": "code",
      "metadata": {
        "colab": {
          "base_uri": "https://localhost:8080/"
        },
        "id": "R3OaOU5QET8n",
        "outputId": "ab462cfa-2c57-4809-ad85-59ac8cdf4f8c"
      },
      "source": [
        "aliens = [alien_0, alien_1, alien_2]\n",
        "\n",
        "for alien in aliens:\n",
        "  print(alien)"
      ],
      "execution_count": 24,
      "outputs": [
        {
          "output_type": "stream",
          "text": [
            "{'color': 'green', 'points': 5}\n",
            "{'color': 'yellow', 'points': 10}\n",
            "{'color': 'red', 'points': 15}\n"
          ],
          "name": "stdout"
        }
      ]
    },
    {
      "cell_type": "code",
      "metadata": {
        "colab": {
          "base_uri": "https://localhost:8080/"
        },
        "id": "9iPGGcf-Ef_I",
        "outputId": "b6d9a51b-5051-4e3a-b37e-6f22a89ad0a9"
      },
      "source": [
        "# Make an empty list for storing aliens.\n",
        "aliens = []\n",
        "\n",
        "   # Make 30 green aliens.\n",
        "for alien_number in range(30):\n",
        "  new_alien = {'color': 'green', 'points': 5, 'speed': 'slow'}\n",
        "  aliens.append(new_alien)\n",
        "\n",
        "   # Show the first 5 aliens.\n",
        "for alien in aliens[:5]:\n",
        "  print(alien)\n",
        "  print(\"...\")\n",
        "\n",
        "   # Show how many aliens have been created.\n",
        "print(f\"Total number of aliens: {len(aliens)}\")"
      ],
      "execution_count": 26,
      "outputs": [
        {
          "output_type": "stream",
          "text": [
            "{'color': 'green', 'points': 5, 'speed': 'slow'}\n",
            "...\n",
            "{'color': 'green', 'points': 5, 'speed': 'slow'}\n",
            "...\n",
            "{'color': 'green', 'points': 5, 'speed': 'slow'}\n",
            "...\n",
            "{'color': 'green', 'points': 5, 'speed': 'slow'}\n",
            "...\n",
            "{'color': 'green', 'points': 5, 'speed': 'slow'}\n",
            "...\n",
            "Total number of aliens: 30\n"
          ],
          "name": "stdout"
        }
      ]
    },
    {
      "cell_type": "code",
      "metadata": {
        "colab": {
          "base_uri": "https://localhost:8080/"
        },
        "id": "kbnKUy8QEzq9",
        "outputId": "6007a688-4bed-4640-aab4-7ad3d16fa279"
      },
      "source": [
        "# Make an empty list for storing aliens.\n",
        "aliens = []\n",
        "\n",
        "   # Make 30 green aliens.\n",
        "for alien_number in range(30):\n",
        "  if ((alien_number%2==0)):\n",
        "    new_alien = {'number': alien_number,'color': 'green', 'points': 5, 'speed': 'slow'}\n",
        "    aliens.append(new_alien)\n",
        "  else: \n",
        "    new_alien = {'number': alien_number,'color': 'Yellow', 'points': 10, 'speed': 'medium'}\n",
        "    aliens.append(new_alien)\n",
        "\n",
        "   # Show the first 5 aliens.\n",
        "for alien in aliens[:5]:\n",
        "  print(alien)\n",
        "  print(\"...\")\n",
        "\n",
        "   # Show how many aliens have been created.\n",
        "print(f\"Total number of aliens: {len(aliens)}\")"
      ],
      "execution_count": 30,
      "outputs": [
        {
          "output_type": "stream",
          "text": [
            "{'number': 0, 'color': 'green', 'points': 5, 'speed': 'slow'}\n",
            "...\n",
            "{'number': 1, 'color': 'Yellow', 'points': 10, 'speed': 'medium'}\n",
            "...\n",
            "{'number': 2, 'color': 'green', 'points': 5, 'speed': 'slow'}\n",
            "...\n",
            "{'number': 3, 'color': 'Yellow', 'points': 10, 'speed': 'medium'}\n",
            "...\n",
            "{'number': 4, 'color': 'green', 'points': 5, 'speed': 'slow'}\n",
            "...\n",
            "Total number of aliens: 30\n"
          ],
          "name": "stdout"
        }
      ]
    },
    {
      "cell_type": "markdown",
      "metadata": {
        "id": "y8EWUF60Fi42"
      },
      "source": [
        "### A List in a Dictionary\n",
        "Rather than putting a dictionary inside a list, it’s sometimes useful to put a list inside a dictionary. For example, consider how you might describe a pizza that someone is ordering. If you were to use only a list, all you could really store is a list of the pizza’s toppings. With a dictionary, a list of toppings can be just one aspect of the pizza you’re describing.\n",
        "\n",
        "In the following example, two kinds of information are stored for each pizza: a type of crust and a list of toppings. The list of toppings is a value associated with the key 'toppings'. To use the items in the list, we give the name of the dictionary and the key 'toppings', as we would any value in the dictionary. Instead of returning a single value, we get a list of toppings:"
      ]
    },
    {
      "cell_type": "code",
      "metadata": {
        "colab": {
          "base_uri": "https://localhost:8080/"
        },
        "id": "a2lq-ZB7Fh5k",
        "outputId": "cc5dfdf3-4f58-46e7-8c4a-9feb1c150c8b"
      },
      "source": [
        "pizza = {\n",
        "       'crust': 'thick',\n",
        "       'toppings': ['mushrooms', 'extra cheese'], #Lista dentro de un diccionario\n",
        "       }\n",
        "# Orden.\n",
        "print(f\"You ordered a {pizza['crust']}-crust pizza \"\n",
        "       \"with the following toppings:\")\n",
        "\n",
        "for topping in pizza['toppings']:\n",
        "  print(f\"\\t{topping}\")"
      ],
      "execution_count": 31,
      "outputs": [
        {
          "output_type": "stream",
          "text": [
            "You ordered a thick-crust pizza with the following toppings:\n",
            "\tmushrooms\n",
            "\textra cheese\n"
          ],
          "name": "stdout"
        }
      ]
    },
    {
      "cell_type": "code",
      "metadata": {
        "colab": {
          "base_uri": "https://localhost:8080/"
        },
        "id": "uLxkbwq-F7fM",
        "outputId": "693b5db6-574a-45b2-a037-535779018dd3"
      },
      "source": [
        "favorite_languages = {\n",
        "       'jen': ['python', 'ruby'],\n",
        "       'sarah': ['c'],\n",
        "       'edward': ['ruby', 'go'],\n",
        "       'phil': ['python', 'haskell'],\n",
        "       }\n",
        "\n",
        "for name, languages in favorite_languages.items():\n",
        "  print(f\"\\n{name.title()}'s favorite languages are:\")\n",
        "# En este código hay un error, veamos la impresión y discutamos como podemos solucionarlo   \n",
        "for language in languages:\n",
        "  print(f\"\\t{language.title()}\")"
      ],
      "execution_count": 35,
      "outputs": [
        {
          "output_type": "stream",
          "text": [
            "\n",
            "Jen's favorite languages are:\n",
            "\n",
            "Sarah's favorite languages are:\n",
            "\n",
            "Edward's favorite languages are:\n",
            "\n",
            "Phil's favorite languages are:\n",
            "\tPython\n",
            "\tHaskell\n"
          ],
          "name": "stdout"
        }
      ]
    },
    {
      "cell_type": "markdown",
      "metadata": {
        "id": "2AfblR__GR2c"
      },
      "source": [
        "### A Dictionary in a Dictionary\n",
        "You can nest a dictionary inside another dictionary, but your code can get complicated quickly when you do. For example, if you have several users for a website, each with a unique username, you can use the usernames as the keys in a dictionary. You can then store information about each user by using a dictionary as the value associated with their username. In the following listing, we store three pieces of information about each user: their first name, last name, and location. We’ll access this information by looping through the usernames and the dictionary of information associated with each username:"
      ]
    },
    {
      "cell_type": "code",
      "metadata": {
        "id": "Fi1g-kuaGUwz"
      },
      "source": [
        "users = {\n",
        "       'aeinstein': {\n",
        "           'first': 'albert',\n",
        "           'last': 'einstein',\n",
        "           'location': 'princeton',\n",
        "           },\n",
        "\n",
        "       'mcurie': {\n",
        "           'first': 'marie',\n",
        "           'last': 'curie',\n",
        "           'location': 'paris',\n",
        "           },\n",
        "       }"
      ],
      "execution_count": 37,
      "outputs": []
    },
    {
      "cell_type": "code",
      "metadata": {
        "colab": {
          "base_uri": "https://localhost:8080/"
        },
        "id": "z9sYw41XGXE_",
        "outputId": "ae68f30a-245e-4988-c260-c868f6a3cc42"
      },
      "source": [
        "for username, user_info in users.items(): #username viene a ser Key, y user_info value\n",
        "  print(f\"\\nUsername: {username}\")\n",
        "  full_name = f\"{user_info['first']} {user_info['last']}\"\n",
        "  location = user_info['location']\n",
        "  print(f\"\\tFull name: {full_name.title()}\")  # \\t nos brinda tabulación en el formato\n",
        "  print(f\"\\tLocation: {location.title()}\")    # \\t nos brinda tabulación en el formato"
      ],
      "execution_count": 38,
      "outputs": [
        {
          "output_type": "stream",
          "text": [
            "\n",
            "Username: aeinstein\n",
            "\tFull name: Albert Einstein\n",
            "\tLocation: Princeton\n",
            "\n",
            "Username: mcurie\n",
            "\tFull name: Marie Curie\n",
            "\tLocation: Paris\n"
          ],
          "name": "stdout"
        }
      ]
    }
  ]
}