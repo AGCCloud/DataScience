{
  "nbformat": 4,
  "nbformat_minor": 0,
  "metadata": {
    "colab": {
      "name": "Diccionarios.ipynb",
      "provenance": [],
      "authorship_tag": "ABX9TyNACjBJPmp/wcDRFHiHDkmv",
      "include_colab_link": true
    },
    "kernelspec": {
      "name": "python3",
      "display_name": "Python 3"
    },
    "language_info": {
      "name": "python"
    }
  },
  "cells": [
    {
      "cell_type": "markdown",
      "metadata": {
        "id": "view-in-github",
        "colab_type": "text"
      },
      "source": [
        "<a href=\"https://colab.research.google.com/github/al34n1x/DataScience/blob/master/1.Intro/Diccionarios.ipynb\" target=\"_parent\"><img src=\"https://colab.research.google.com/assets/colab-badge.svg\" alt=\"Open In Colab\"/></a>"
      ]
    },
    {
      "cell_type": "markdown",
      "metadata": {
        "id": "HS7z1Swy73cv"
      },
      "source": [
        "# Dictionaries\n",
        "\n",
        "Understanding dictionaries allows you to model a variety of real-world objects more accurately. You’ll be able to create a dictionary representing a person and then store as much information as you want about that person. You can store their name, age, location, profession, and any other aspect of a person you can describe. You’ll be able to store any two kinds of information that can be matched up, such as a list of words and their meanings, a list of people’s names and their favorite numbers, a list of mountains and their elevations, and so forth."
      ]
    },
    {
      "cell_type": "markdown",
      "metadata": {
        "id": "9lSP0pmF78FH"
      },
      "source": [
        "## A Simple Dictionary\n",
        "\n",
        "Consider a game featuring aliens that can have different colors and point values. This simple dictionary stores information about a particular alien:"
      ]
    },
    {
      "cell_type": "code",
      "metadata": {
        "id": "brgp7PVT7kxR"
      },
      "source": [
        "alien = {'color': 'green', 'points': 5}"
      ],
      "execution_count": null,
      "outputs": []
    },
    {
      "cell_type": "markdown",
      "metadata": {
        "id": "pqPHjUno87ib"
      },
      "source": [
        "A dictionary in Python is a collection of key-value pairs. Each key is connected to a value, and you can use a key to access the value associated with that key. A key’s value can be a number, a string, a list, or even another dictionary. In fact, you can use any object that you can create in Python as a value in a dictionary.\n",
        "\n",
        "In Python, a dictionary is wrapped in braces, {}, with a series of key-value pairs inside the braces, as shown in the earlier example.\n",
        "\n",
        "A key-value pair is a set of values associated with each other. When you provide a key, Python returns the value associated with that key. Every key is connected to its value by a colon, and individual key-value pairs are separated by commas. You can store as many key-value pairs as you want in a dictionary"
      ]
    },
    {
      "cell_type": "markdown",
      "metadata": {
        "id": "Jx18F46F9JJD"
      },
      "source": [
        "## Accessing Values in a Dictionary\n",
        "To get the value associated with a key, give the name of the dictionary and then place the key inside a set of square brackets, as shown here:"
      ]
    },
    {
      "cell_type": "code",
      "metadata": {
        "id": "gsHc5MYo9Gxp"
      },
      "source": [
        "print(alien['color'])\n",
        "print(alien['points'])\n",
        "\n",
        "# The dictionary alien_0 stores the alien’s color and point value. \n",
        "# The last two lines access and display that information, as shown here:"
      ],
      "execution_count": null,
      "outputs": []
    },
    {
      "cell_type": "markdown",
      "metadata": {
        "id": "U0EqPkOX9ePY"
      },
      "source": [
        "Now you can access either the color or the point value of alien_0. If a player shoots down this alien, you can look up how many points they should earn using code like this:"
      ]
    },
    {
      "cell_type": "code",
      "metadata": {
        "id": "5NTT1KqK9dcO"
      },
      "source": [
        "new_points = alien['points']\n",
        "print(f\"You just earned {new_points} points!\")"
      ],
      "execution_count": null,
      "outputs": []
    },
    {
      "cell_type": "markdown",
      "metadata": {
        "id": "oWR5E7L-9l4F"
      },
      "source": [
        "## Adding New Key-Value Pairs\n",
        "Dictionaries are dynamic structures, and you can add new key-value pairs to a dictionary at any time. For example, to add a new key-value pair, you would give the name of the dictionary followed by the new key in square brackets along with the new value.\n",
        "\n",
        "Let’s add two new pieces of information to the alien_0 dictionary: the alien’s x- and y-coordinates, which will help us display the alien in a particular position on the screen. Let’s place the alien on the left edge of the screen, 25 pixels down from the top. Because screen coordinates usually start at the upper-left corner of the screen, we’ll place the alien on the left edge of the screen by setting the x-coordinate to 0 and 25 pixels from the top by setting its y-coordinate to positive 25, as shown here:"
      ]
    },
    {
      "cell_type": "code",
      "metadata": {
        "colab": {
          "base_uri": "https://localhost:8080/"
        },
        "id": "KwkUJDEP93lM",
        "outputId": "4f9f3ec3-bdec-40e1-a7c4-b92bdc0ca682"
      },
      "source": [
        "alien['x_position'] = 0\n",
        "alien['y_position'] = 25\n",
        "print(alien)\n",
        "\n",
        "# As of Python 3.7, dictionaries retain the order in which they were defined. \n",
        "# When you print a dictionary or loop through its elements, \n",
        "# you will see the elements in the same order in which they were added to the dictionary."
      ],
      "execution_count": 5,
      "outputs": [
        {
          "output_type": "stream",
          "text": [
            "{'color': 'green', 'points': 5, 'x_position': 0, 'y_position': 25}\n"
          ],
          "name": "stdout"
        }
      ]
    },
    {
      "cell_type": "markdown",
      "metadata": {
        "id": "kzEp44bS-PS_"
      },
      "source": [
        "## Starting with an Empty Dictionary\n",
        "It’s sometimes convenient, or even necessary, to start with an empty dictionary and then add each new item to it. To start filling an empty dictionary, define a dictionary with an empty set of braces and then add each key-value pair on its own line. For example, here’s how to build the alien_0 dictionary using this approach:"
      ]
    },
    {
      "cell_type": "code",
      "metadata": {
        "colab": {
          "base_uri": "https://localhost:8080/"
        },
        "id": "aTrXajig-Fvj",
        "outputId": "426cafbd-e4b9-49f8-b0d3-bc6fc7b24a0d"
      },
      "source": [
        "alien = {}\n",
        "\n",
        "alien['color'] = 'green'\n",
        "alien['points'] = 5\n",
        "\n",
        "print(alien)"
      ],
      "execution_count": 7,
      "outputs": [
        {
          "output_type": "stream",
          "text": [
            "{'color': 'green', 'points': 5}\n"
          ],
          "name": "stdout"
        }
      ]
    },
    {
      "cell_type": "markdown",
      "metadata": {
        "id": "3RjlXan4-aSv"
      },
      "source": [
        "## Modifying Values in a Dictionary\n",
        "To modify a value in a dictionary, give the name of the dictionary with the key in square brackets and then the new value you want associated with that key. For example, consider an alien that changes from green to yellow as a game progresses:"
      ]
    },
    {
      "cell_type": "code",
      "metadata": {
        "colab": {
          "base_uri": "https://localhost:8080/"
        },
        "id": "oUPA31OF-eDs",
        "outputId": "3ec532e3-98d9-45b8-de3f-1d190ae59331"
      },
      "source": [
        "alien = {'color': 'green'}\n",
        "print(f\"The alien is {alien ['color']}.\")\n",
        "\n",
        "#Insertar código\n",
        "print(f\"The alien is now {alien ['color']}.\")"
      ],
      "execution_count": 8,
      "outputs": [
        {
          "output_type": "stream",
          "text": [
            "The alien is green.\n",
            "The alien is now yellow.\n"
          ],
          "name": "stdout"
        }
      ]
    },
    {
      "cell_type": "markdown",
      "metadata": {
        "id": "6TR1vo6C-zNe"
      },
      "source": [
        "For a more interesting example, let’s track the position of an alien that can move at different speeds. We’ll store a value representing the alien’s current speed and then use it to determine how far to the right the alien should move:"
      ]
    },
    {
      "cell_type": "code",
      "metadata": {
        "colab": {
          "base_uri": "https://localhost:8080/"
        },
        "id": "X4bKTBJe-2Ho",
        "outputId": "cd4828eb-758e-466a-d04e-6c277f6e1c73"
      },
      "source": [
        "   alien = {'x_position': 0, 'y_position': 25, 'speed': 'medium'}\n",
        "   print(f\"Original position: {alien['x_position']}\")\n",
        "\n",
        "   # Move the alien to the right.\n",
        "   # Determine how far to move the alien based on its current speed.\n",
        "   if alien['speed'] == 'slow':\n",
        "       x_increment = 1\n",
        "   elif alien['speed'] == 'medium':\n",
        "       x_increment = 2\n",
        "   else:\n",
        "       # This must be a fast alien.\n",
        "       x_increment = 3\n",
        "\n",
        "   # The new position is the old position plus the increment.\n",
        "   alien['x_position'] = alien['x_position'] + x_increment\n",
        "\n",
        "   print(f\"New X position: {alien['x_position']}\")"
      ],
      "execution_count": 10,
      "outputs": [
        {
          "output_type": "stream",
          "text": [
            "Original position: 0\n",
            "New X position: 2\n"
          ],
          "name": "stdout"
        }
      ]
    },
    {
      "cell_type": "markdown",
      "metadata": {
        "id": "X_Ef5Fk4_RCX"
      },
      "source": [
        "## Removing Key-Value Pairs\n",
        "When you no longer need a piece of information that’s stored in a dictionary, you can use the del statement to completely remove a key-value pair. All del needs is the name of the dictionary and the key that you want to remove.\n",
        "\n",
        "For example, let’s remove the key 'points' from the alien_0 dictionary along with its value:"
      ]
    },
    {
      "cell_type": "code",
      "metadata": {
        "colab": {
          "base_uri": "https://localhost:8080/"
        },
        "id": "p8RQTkqQ_QFf",
        "outputId": "2012a919-3a79-450d-f111-7bd50a3f70c1"
      },
      "source": [
        "  alien = {'color': 'green', 'points': 5}\n",
        "  print(alien)\n",
        "\n",
        "  del alien['points']\n",
        "  print(alien)"
      ],
      "execution_count": 11,
      "outputs": [
        {
          "output_type": "stream",
          "text": [
            "{'color': 'green', 'points': 5}\n",
            "{'color': 'green'}\n"
          ],
          "name": "stdout"
        }
      ]
    },
    {
      "cell_type": "markdown",
      "metadata": {
        "id": "Rv0AHq50_gdM"
      },
      "source": [
        "## A Dictionary of Similar Objects\n",
        "The previous example involved storing different kinds of information about one object, an alien in a game. You can also use a dictionary to store one kind of information about many objects. For example, say you want to poll a number of people and ask them what their favorite programming language is. A dictionary is useful for storing the results of a simple poll, like this:"
      ]
    },
    {
      "cell_type": "code",
      "metadata": {
        "id": "vroA6h52_iw3"
      },
      "source": [
        "favorite_languages = {    ## Mismo resultado, se hace así para poder tener una mejor lectura\n",
        "    'jen': 'python',\n",
        "    'sarah': 'c',\n",
        "    'edward': 'ruby',\n",
        "    'phil': 'python',\n",
        "    }"
      ],
      "execution_count": 13,
      "outputs": []
    },
    {
      "cell_type": "code",
      "metadata": {
        "colab": {
          "base_uri": "https://localhost:8080/"
        },
        "id": "a3Vm49TT_wNg",
        "outputId": "f43cba47-94a3-4172-db88-8a4da1092abf"
      },
      "source": [
        "  language = favorite_languages['sarah'].title() #Recuerda que estamos realizando con la llamada al método .title()?\n",
        "  print(f\"Sarah's favorite language is {language}.\")"
      ],
      "execution_count": 14,
      "outputs": [
        {
          "output_type": "stream",
          "text": [
            "Sarah's favorite language is C.\n"
          ],
          "name": "stdout"
        }
      ]
    },
    {
      "cell_type": "markdown",
      "metadata": {
        "id": "lhwK6E-B_-Q3"
      },
      "source": [
        "## Using get() to Access Values\n",
        "Using keys in square brackets to retrieve the value you’re interested in from a dictionary might cause one potential problem: if the key you ask for doesn’t exist, you’ll get an error.\n",
        "\n"
      ]
    },
    {
      "cell_type": "code",
      "metadata": {
        "colab": {
          "base_uri": "https://localhost:8080/",
          "height": 182
        },
        "id": "LWnED5byAQne",
        "outputId": "f7eba861-0623-493d-a1fe-1f7c58877a9e"
      },
      "source": [
        "alien = {'color': 'green', 'speed': 'slow'}\n",
        "print(alien['points'])"
      ],
      "execution_count": 15,
      "outputs": [
        {
          "output_type": "error",
          "ename": "KeyError",
          "evalue": "ignored",
          "traceback": [
            "\u001b[0;31m---------------------------------------------------------------------------\u001b[0m",
            "\u001b[0;31mKeyError\u001b[0m                                  Traceback (most recent call last)",
            "\u001b[0;32m<ipython-input-15-6ca2cb870d0a>\u001b[0m in \u001b[0;36m<module>\u001b[0;34m()\u001b[0m\n\u001b[1;32m      1\u001b[0m \u001b[0malien\u001b[0m \u001b[0;34m=\u001b[0m \u001b[0;34m{\u001b[0m\u001b[0;34m'color'\u001b[0m\u001b[0;34m:\u001b[0m \u001b[0;34m'green'\u001b[0m\u001b[0;34m,\u001b[0m \u001b[0;34m'speed'\u001b[0m\u001b[0;34m:\u001b[0m \u001b[0;34m'slow'\u001b[0m\u001b[0;34m}\u001b[0m\u001b[0;34m\u001b[0m\u001b[0;34m\u001b[0m\u001b[0m\n\u001b[0;32m----> 2\u001b[0;31m \u001b[0mprint\u001b[0m\u001b[0;34m(\u001b[0m\u001b[0malien\u001b[0m\u001b[0;34m[\u001b[0m\u001b[0;34m'points'\u001b[0m\u001b[0;34m]\u001b[0m\u001b[0;34m)\u001b[0m\u001b[0;34m\u001b[0m\u001b[0;34m\u001b[0m\u001b[0m\n\u001b[0m",
            "\u001b[0;31mKeyError\u001b[0m: 'points'"
          ]
        }
      ]
    },
    {
      "cell_type": "markdown",
      "metadata": {
        "id": "VJthL0wRATt9"
      },
      "source": [
        "The get() method requires a key as a first argument. As a second optional argument, you can pass the value to be returned if the key doesn’t exist:"
      ]
    },
    {
      "cell_type": "code",
      "metadata": {
        "colab": {
          "base_uri": "https://localhost:8080/"
        },
        "id": "e7RfnAXlAUPC",
        "outputId": "66e3d44d-4c13-4717-c09f-967d813a14fe"
      },
      "source": [
        "point_value = alien.get('points', 'No point value assigned.') \n",
        "# El primer argument es por si existe, en caso que no exista, muestra el segundo argumento\n",
        "# Si no agregamos el segundo argumento, Python devolverá None\n",
        "print(point_value)"
      ],
      "execution_count": 16,
      "outputs": [
        {
          "output_type": "stream",
          "text": [
            "No point value assigned.\n"
          ],
          "name": "stdout"
        }
      ]
    }
  ]
}