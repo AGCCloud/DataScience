{
  "nbformat": 4,
  "nbformat_minor": 0,
  "metadata": {
    "colab": {
      "name": "Ejercicios_Diccionarios_Archivos.ipynb",
      "provenance": [],
      "authorship_tag": "ABX9TyPcjn2fZBCyWwYF09cHSIU7",
      "include_colab_link": true
    },
    "kernelspec": {
      "name": "python3",
      "display_name": "Python 3"
    },
    "language_info": {
      "name": "python"
    }
  },
  "cells": [
    {
      "cell_type": "markdown",
      "metadata": {
        "id": "view-in-github",
        "colab_type": "text"
      },
      "source": [
        "<a href=\"https://colab.research.google.com/github/al34n1x/DataScience/blob/master/1.Intro/Ejercicios_Diccionarios_Archivos.ipynb\" target=\"_parent\"><img src=\"https://colab.research.google.com/assets/colab-badge.svg\" alt=\"Open In Colab\"/></a>"
      ]
    },
    {
      "cell_type": "markdown",
      "metadata": {
        "id": "A5ECzMJ2V3Cw"
      },
      "source": [
        "1. Realizar un programa que permita ingresar el nombre, apellido y edad de un usuario y lo guarde en un diccionario. (Utilizar funciones)"
      ]
    },
    {
      "cell_type": "code",
      "metadata": {
        "id": "QknrRlvsVx5t"
      },
      "source": [
        ""
      ],
      "execution_count": null,
      "outputs": []
    },
    {
      "cell_type": "markdown",
      "metadata": {
        "id": "sKJBt4KGWJm2"
      },
      "source": [
        "2. Realizar un programa que permita cargar multiples usuarios en una lista de objetos e imprimir por pantalla. (Utilizar la función del ejercicio 1)"
      ]
    },
    {
      "cell_type": "code",
      "metadata": {
        "id": "t24k8WFJWJND"
      },
      "source": [
        ""
      ],
      "execution_count": null,
      "outputs": []
    },
    {
      "cell_type": "markdown",
      "metadata": {
        "id": "f1RyhPC4WX0u"
      },
      "source": [
        "3. Utilizando la siguiente estructura, cargar datos por teclado y guardarlo en una lista.\n",
        "\n",
        "```\n",
        "username:\n",
        "  Nombre:\n",
        "  Apellido:\n",
        "  Location:\n",
        "```\n",
        "\n",
        "(Utilizar Funciones)"
      ]
    },
    {
      "cell_type": "code",
      "metadata": {
        "id": "hDanxBcTWv6b"
      },
      "source": [
        ""
      ],
      "execution_count": null,
      "outputs": []
    },
    {
      "cell_type": "markdown",
      "metadata": {
        "id": "Ncsr_9MhWxVe"
      },
      "source": [
        "4. Generar una estructura de datos cualesquiera, guardarlo en un archivo y luego abrir el mismo para imprimirlo por pantalla.\n",
        "(Utilizar Funciones)"
      ]
    },
    {
      "cell_type": "code",
      "metadata": {
        "id": "EgyN_3rYW_QU"
      },
      "source": [
        ""
      ],
      "execution_count": null,
      "outputs": []
    }
  ]
}