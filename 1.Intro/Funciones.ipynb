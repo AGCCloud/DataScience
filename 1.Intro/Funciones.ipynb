{
  "nbformat": 4,
  "nbformat_minor": 0,
  "metadata": {
    "colab": {
      "name": "Funciones.ipynb",
      "provenance": [],
      "authorship_tag": "ABX9TyNwS7SotEWwTHnN4aDYMdTh",
      "include_colab_link": true
    },
    "kernelspec": {
      "name": "python3",
      "display_name": "Python 3"
    },
    "language_info": {
      "name": "python"
    }
  },
  "cells": [
    {
      "cell_type": "markdown",
      "metadata": {
        "id": "view-in-github",
        "colab_type": "text"
      },
      "source": [
        "<a href=\"https://colab.research.google.com/github/al34n1x/DataScience/blob/master/1.Intro/Funciones.ipynb\" target=\"_parent\"><img src=\"https://colab.research.google.com/assets/colab-badge.svg\" alt=\"Open In Colab\"/></a>"
      ]
    },
    {
      "cell_type": "markdown",
      "metadata": {
        "id": "q9cZz5doFp_T"
      },
      "source": [
        "# Functions\n",
        "\n",
        "When you want to perform a particular task that you’ve defined in a function, you call the function responsible for it. If you need to perform that task multiple times throughout your program, you don’t need to type all the code for the same task again and again; you just call the function dedicated to handling that task, and the call tells Python to run the code inside the function. You’ll find that using functions makes your programs easier to write, read, test, and fix."
      ]
    },
    {
      "cell_type": "code",
      "metadata": {
        "colab": {
          "base_uri": "https://localhost:8080/"
        },
        "id": "mDBvt74ZFnyG",
        "outputId": "3a77f370-d688-4459-b22d-d7c3890cccf7"
      },
      "source": [
        "def greet_user():\n",
        "  \"\"\"Display a simple greeting.\"\"\"\n",
        "  print(\"Hello!\")\n",
        "  \n",
        "greet_user()"
      ],
      "execution_count": 1,
      "outputs": [
        {
          "output_type": "stream",
          "text": [
            "Hello!\n"
          ],
          "name": "stdout"
        }
      ]
    },
    {
      "cell_type": "markdown",
      "metadata": {
        "id": "qY3mffaDF99i"
      },
      "source": [
        "## Passing Information to a Function\n",
        "\n",
        "Modified slightly, the function greet_user() can not only tell the user Hello! but also greet them by name. For the function to do this, you enter username in the parentheses of the function’s definition at def greet_user(). By adding username here you allow the function to accept any value of username you specify. The function now expects you to provide a value for username each time you call it. When you call greet_user(), you can pass it a name, such as 'jesse', inside the parentheses:"
      ]
    },
    {
      "cell_type": "code",
      "metadata": {
        "colab": {
          "base_uri": "https://localhost:8080/"
        },
        "id": "K1yvq25iFyxz",
        "outputId": "af447dd1-71c8-40f2-bd5b-8fc0ad59bd70"
      },
      "source": [
        "def greet_user(username):\n",
        "    \"\"\"Display a simple greeting.\"\"\"\n",
        "    print(f\"Hello, {username.title()}!\")\n",
        "    \"\"\"\n",
        "    print(f\"{}\")\n",
        "    A formatted string literal or f-string is a string literal that is prefixed with 'f' or 'F'. \n",
        "    These strings may contain replacement fields, which are expressions delimited by curly braces {}. \n",
        "    \"\"\"\n",
        "\n",
        "greet_user('Pikachu')"
      ],
      "execution_count": 4,
      "outputs": [
        {
          "output_type": "stream",
          "text": [
            "Hello, Pikachu!\n"
          ],
          "name": "stdout"
        }
      ]
    },
    {
      "cell_type": "markdown",
      "metadata": {
        "id": "FcXBsMgNGhRG"
      },
      "source": [
        "## Passing Arguments\n",
        "\n",
        "Because a function definition can have multiple parameters, a function call may need multiple arguments. You can pass arguments to your functions in a number of ways. You can use positional arguments, which need to be in the same order the parameters were written; keyword arguments, where each argument consists of a variable name and a value; and lists and dictionaries of values. Let’s look at each of these in turn."
      ]
    },
    {
      "cell_type": "code",
      "metadata": {
        "id": "AzvtlwdfGwCz"
      },
      "source": [
        "def describe_pet(animal_type, pet_name):\n",
        "       \"\"\"Display information about a pet.\"\"\"\n",
        "       print(f\"\\nTengo un {animal_type}.\")\n",
        "       print(f\"Mi {animal_type} se llama {pet_name.title()}.\")\n",
        "\n",
        "describe_pet('hamster', 'harry')"
      ],
      "execution_count": null,
      "outputs": []
    },
    {
      "cell_type": "markdown",
      "metadata": {
        "id": "DL9a2HsvHD1r"
      },
      "source": [
        "###  Keyword Arguments\n",
        "A keyword argument is a name-value pair that you pass to a function. You directly associate the name and the value within the argument, so when you pass the argument to the function, there’s no confusion (you won’t end up with a harry named Hamster). Keyword arguments free you from having to worry about correctly ordering your arguments in the function call, and they clarify the role of each value in the function call."
      ]
    },
    {
      "cell_type": "code",
      "metadata": {
        "id": "pnyv8nxdHGiq"
      },
      "source": [
        "def describe_pet(animal_type, pet_name):\n",
        "       \"\"\"Display information about a pet.\"\"\"\n",
        "       print(f\"\\nTengo un {animal_type}.\")\n",
        "       print(f\"Mi {animal_type} se llama {pet_name.title()}.\")\n",
        "\n",
        "describe_pet(animal_type='hamster', pet_name='harry')"
      ],
      "execution_count": null,
      "outputs": []
    },
    {
      "cell_type": "code",
      "metadata": {
        "id": "sLll5q-HHMHI"
      },
      "source": [
        "describe_pet(pet_name='harry', animal_type='hamster')"
      ],
      "execution_count": null,
      "outputs": []
    },
    {
      "cell_type": "markdown",
      "metadata": {
        "id": "WMef9asvHWQ_"
      },
      "source": [
        "## Default Values\n",
        "When writing a function, you can define a default value for each parameter. If an argument for a parameter is provided in the function call, Python uses the argument value. If not, it uses the parameter’s default value. So when you define a default value for a parameter, you can exclude the corresponding argument you’d usually write in the function call. Using default values can simplify your function calls and clarify the ways in which your functions are typically used."
      ]
    },
    {
      "cell_type": "code",
      "metadata": {
        "colab": {
          "base_uri": "https://localhost:8080/"
        },
        "id": "jLhqNHcdHZit",
        "outputId": "fa83d19b-2e5b-4cc5-d605-bbc7737bf4d8"
      },
      "source": [
        "def describe_pet(pet_name, animal_type='perro'):\n",
        "    \"\"\"Display information about a pet.\"\"\"\n",
        "    print(f\"\\nTengo un {animal_type}.\")\n",
        "    print(f\"Mi {animal_type} se llama {pet_name.title()}.\")\n",
        "\n",
        "describe_pet(pet_name='willie')"
      ],
      "execution_count": 9,
      "outputs": [
        {
          "output_type": "stream",
          "text": [
            "\n",
            "Tengo un perro.\n",
            "Mi perro se llama Willie.\n"
          ],
          "name": "stdout"
        }
      ]
    },
    {
      "cell_type": "markdown",
      "metadata": {
        "id": "WV0mIlYrHkYE"
      },
      "source": [
        "## Return Values\n",
        "\n",
        "A function doesn’t always have to display its output directly. Instead, it can process some data and then return a value or set of values. The value the function returns is called a return value. The return statement takes a value from inside a function and sends it back to the line that called the function. Return values allow you to move much of your program’s grunt work into functions, which can simplify the body of your program."
      ]
    },
    {
      "cell_type": "code",
      "metadata": {
        "id": "nxS0YiwfHj59"
      },
      "source": [
        "def get_formatted_name(first_name, last_name):\n",
        "       \"\"\"Return a full name, neatly formatted.\"\"\"\n",
        "       full_name = f\"{first_name} {last_name}\"\n",
        "       return full_name.title()"
      ],
      "execution_count": null,
      "outputs": []
    },
    {
      "cell_type": "code",
      "metadata": {
        "id": "FmcFL2u1H1e3"
      },
      "source": [
        "musician = get_formatted_name('jimi', 'hendrix') # Llamada a la función, envío parámetros  \n",
        "print(musician)"
      ],
      "execution_count": null,
      "outputs": []
    },
    {
      "cell_type": "markdown",
      "metadata": {
        "id": "qAZkP0cbIHuw"
      },
      "source": [
        "## Make an argument optional\n",
        "\n",
        "To make the middle name optional, we can give the middle_name argument an empty default value and ignore the argument unless the user provides a value. To make get_formatted_name() work without a middle name, we set the default value of middle_name to an empty string and move it to the end of the list of parameters:"
      ]
    },
    {
      "cell_type": "code",
      "metadata": {
        "id": "ndVHoL9OIG4S"
      },
      "source": [
        "def get_formatted_name(first_name, last_name, middle_name=''):\n",
        "       \"\"\"Return a full name, neatly formatted.\"\"\"\n",
        "       if middle_name:\n",
        "           full_name = f\"{first_name} {middle_name} {last_name}\"\n",
        "       else:\n",
        "           full_name = f\"{first_name} {last_name}\"\n",
        "       return full_name.title()"
      ],
      "execution_count": 11,
      "outputs": []
    },
    {
      "cell_type": "code",
      "metadata": {
        "id": "RSsqyjs-IZDo"
      },
      "source": [
        "musician = get_formatted_name('jimi', 'hendrix')\n",
        "print(musician)"
      ],
      "execution_count": null,
      "outputs": []
    },
    {
      "cell_type": "code",
      "metadata": {
        "id": "M5eSAk5NIatJ"
      },
      "source": [
        "musician = get_formatted_name('john', 'hooker', 'lee')\n",
        "print(musician)"
      ],
      "execution_count": null,
      "outputs": []
    },
    {
      "cell_type": "markdown",
      "metadata": {
        "id": "3U8GJJTKIpNt"
      },
      "source": [
        "## Passing a List\n",
        "\n",
        "You’ll often find it useful to pass a list to a function, whether it’s a list of names, numbers, or more complex objects, such as dictionaries. When you pass a list to a function, the function gets direct access to the contents of the list. Let’s use functions to make working with lists more efficient.\n",
        "\n",
        "Say we have a list of users and want to print a greeting to each. The following example sends a list of names to a function called greet_users(), which greets each person in the list individually"
      ]
    },
    {
      "cell_type": "code",
      "metadata": {
        "id": "7aKyw6MYIsSJ"
      },
      "source": [
        "def greet_users(names):\n",
        "       \"\"\"Print a simple greeting to each user in the list.\"\"\"\n",
        "       for name in names:\n",
        "           msg = f\"Hello, {name.title()}!\"\n",
        "           print(msg)"
      ],
      "execution_count": 14,
      "outputs": []
    },
    {
      "cell_type": "code",
      "metadata": {
        "colab": {
          "base_uri": "https://localhost:8080/"
        },
        "id": "4MlbRxtVIuzZ",
        "outputId": "91e74b86-beb3-446f-f19e-f81ca3552310"
      },
      "source": [
        "usernames = ['Deadpool', 'Cable', 'Wolverine']\n",
        "greet_users(usernames)"
      ],
      "execution_count": 16,
      "outputs": [
        {
          "output_type": "stream",
          "text": [
            "Hello, Deadpool!\n",
            "Hello, Cable!\n",
            "Hello, Wolverine!\n"
          ],
          "name": "stdout"
        }
      ]
    },
    {
      "cell_type": "markdown",
      "metadata": {
        "id": "UbdApiC_JvUC"
      },
      "source": [
        "## Modifying a List in a Function\n",
        "\n",
        "When you pass a list to a function, the function can modify the list. Any changes made to the list inside the function’s body are permanent, allowing you to work efficiently even when you’re dealing with large amounts of data.\n",
        "\n",
        "Consider a company that creates 3D printed models of designs that users submit. Designs that need to be printed are stored in a list, and after being printed they’re moved to a separate list. The following code does this without using functions:"
      ]
    },
    {
      "cell_type": "code",
      "metadata": {
        "id": "YZXouwRWJM81"
      },
      "source": [
        "def print_models(unprinted_designs, completed_models):\n",
        "       \"\"\"\n",
        "       Simulate printing each design, until none are left.\n",
        "       Move each design to completed_models after printing.\n",
        "       \"\"\"\n",
        "       while unprinted_designs:\n",
        "           current_design = unprinted_designs.pop()\n",
        "           print(f\"Printing model: {current_design}\")\n",
        "           completed_models.append(current_design)\n",
        "\n",
        "def show_completed_models(completed_models):\n",
        "       \"\"\"Show all the models that were printed.\"\"\"\n",
        "       print(\"\\nThe following models have been printed:\")\n",
        "       for completed_model in completed_models:\n",
        "           print(completed_model)\n",
        "\n"
      ],
      "execution_count": 17,
      "outputs": []
    },
    {
      "cell_type": "code",
      "metadata": {
        "id": "0AhoO0u5JS6S"
      },
      "source": [
        "unprinted_designs = ['phone case', 'robot pendant', 'dodecahedron']\n",
        "completed_models = []\n",
        "print (unprinted_designs)\n",
        "print (completed_models)"
      ],
      "execution_count": null,
      "outputs": []
    },
    {
      "cell_type": "code",
      "metadata": {
        "id": "PwrC-TYJJo_B"
      },
      "source": [
        "print_models(unprinted_designs, completed_models)\n",
        "show_completed_models(completed_models)"
      ],
      "execution_count": null,
      "outputs": []
    },
    {
      "cell_type": "code",
      "metadata": {
        "id": "SW9ZpPvXJSuG"
      },
      "source": [
        "print (unprinted_designs)\n",
        "print (completed_models)"
      ],
      "execution_count": null,
      "outputs": []
    }
  ]
}