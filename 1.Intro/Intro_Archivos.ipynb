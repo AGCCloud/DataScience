{
  "nbformat": 4,
  "nbformat_minor": 0,
  "metadata": {
    "colab": {
      "name": "Intro_Archivos.ipynb",
      "provenance": [],
      "collapsed_sections": [],
      "toc_visible": true,
      "authorship_tag": "ABX9TyNjqb0jv9oH2915C7Qpo6lp",
      "include_colab_link": true
    },
    "kernelspec": {
      "name": "python3",
      "display_name": "Python 3"
    },
    "language_info": {
      "name": "python"
    }
  },
  "cells": [
    {
      "cell_type": "markdown",
      "metadata": {
        "id": "view-in-github",
        "colab_type": "text"
      },
      "source": [
        "<a href=\"https://colab.research.google.com/github/al34n1x/DataScience/blob/master/1.Intro/Intro_Archivos.ipynb\" target=\"_parent\"><img src=\"https://colab.research.google.com/assets/colab-badge.svg\" alt=\"Open In Colab\"/></a>"
      ]
    },
    {
      "cell_type": "markdown",
      "metadata": {
        "id": "1xtQKHUuJIBX"
      },
      "source": [
        "# Archivos\n",
        "\n",
        "Aprender a trabajar con archivos y guardar datos hará que sus programas sean más fáciles de usar para las personas. Los usuarios podrán elegir qué datos ingresar y cuándo ingresarlos. Las personas pueden ejecutar su programa, trabajar un poco y luego cerrar el programa y continuar donde lo dejaron más tarde. Aprender a manejar las excepciones lo ayudará a lidiar con situaciones en las que los archivos no existen y a lidiar con otros problemas que pueden hacer que sus programas fallen. Esto hará que sus programas sean más robustos cuando encuentren datos incorrectos, ya sea que provengan de errores inocentes o de intentos maliciosos de romper sus programas.\n"
      ]
    },
    {
      "cell_type": "markdown",
      "metadata": {
        "id": "fLepwBOrJRE6"
      },
      "source": [
        "## Leyendo desde un archivo\n",
        "\n",
        "Cuando desee trabajar con la información de un archivo de texto, el primer paso es leer el archivo en la memoria. Puede leer todo el contenido de un archivo o puede trabajar en el archivo una línea a la vez.\n",
        "\n",
        "Para empezar, necesitamos un archivo con algunas líneas de texto. Comencemos con un archivo que contiene pi con 30 decimales, con 10 decimales por línea.\n",
        "```\n",
        "3.1415926535\n",
        "  8979323846\n",
        "  2643383279\n",
        "```\n",
        "\n",
        "Cree un nuevo archivo en colab. Recuerde donde lo almacena ya que con ese Path deberá hacer el llamado al mismo.\n"
      ]
    },
    {
      "cell_type": "markdown",
      "metadata": {
        "id": "6qK7sSyaJscw"
      },
      "source": [
        "Este código te ayudará a visualizar el contenido del archivo."
      ]
    },
    {
      "cell_type": "code",
      "metadata": {
        "id": "8RbyinUsI9ib"
      },
      "source": [
        "with open('pi_digits.txt') as file_object:\n",
        "    contents = file_object.read()\n",
        "print(contents)"
      ],
      "execution_count": null,
      "outputs": []
    }
  ]
}