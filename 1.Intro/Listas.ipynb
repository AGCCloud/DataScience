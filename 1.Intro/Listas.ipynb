{
  "nbformat": 4,
  "nbformat_minor": 0,
  "metadata": {
    "colab": {
      "name": "Listas.ipynb",
      "provenance": [],
      "collapsed_sections": [],
      "include_colab_link": true
    },
    "kernelspec": {
      "name": "python3",
      "display_name": "Python 3"
    },
    "language_info": {
      "name": "python"
    }
  },
  "cells": [
    {
      "cell_type": "markdown",
      "metadata": {
        "id": "view-in-github",
        "colab_type": "text"
      },
      "source": [
        "<a href=\"https://colab.research.google.com/github/al34n1x/DataScience/blob/master/1.Intro/Listas.ipynb\" target=\"_parent\"><img src=\"https://colab.research.google.com/assets/colab-badge.svg\" alt=\"Open In Colab\"/></a>"
      ]
    },
    {
      "cell_type": "markdown",
      "metadata": {
        "colab_type": "toc",
        "id": "gw4syQrSDtD5"
      },
      "source": [
        ">[Listas](#scrollTo=enNql_q0xJTg)\n",
        "\n",
        ">>[Accessing Elements in a List](#scrollTo=Tyic_TA3xdwx)\n",
        "\n",
        ">>[Modifying Elements in a List](#scrollTo=HimGB7HNymz-)\n",
        "\n",
        ">>[Adding Elements to a List](#scrollTo=F4Z6xEVFy0Vq)\n",
        "\n",
        ">>>[Appending Elements to the End of a List](#scrollTo=Ba24cUfpy90R)\n",
        "\n",
        ">>>[Inserting Elements into a List](#scrollTo=fqtISzVRzbV6)\n",
        "\n",
        ">>>[Removing Elements from a List](#scrollTo=pm0eckUFzqis)\n",
        "\n",
        ">>>[Removing an Item Using the pop() Method](#scrollTo=--Dk1cTl0AfD)\n",
        "\n",
        ">>>[Removing an Item by Value](#scrollTo=mc0Zgy5z0hYD)\n",
        "\n",
        ">>[Organizing List](#scrollTo=vRZpM4AVCnM-)\n",
        "\n"
      ]
    },
    {
      "cell_type": "markdown",
      "metadata": {
        "id": "enNql_q0xJTg"
      },
      "source": [
        "# Listas\n",
        "\n",
        "A list is a collection of items in a particular order. You can make a list that includes the letters of the alphabet, the digits from 0–9, or the names of all the people in your family. You can put anything you want into a list, and the items in your list don’t have to be related in any particular way. Because a list usually contains more than one element, it’s a good idea to make the name of your list plural, such as letters, digits, or names.\n",
        "\n",
        "In Python, square brackets ([]) indicate a list, and individual elements in the list are separated by commas."
      ]
    },
    {
      "cell_type": "code",
      "metadata": {
        "id": "j4U_6b-wxIW9"
      },
      "source": [
        "deadpool = ['banana', 'unicornio', 'Dopinder', 'Cable', 'Colossus', '<3 Wolverine <3']"
      ],
      "execution_count": null,
      "outputs": []
    },
    {
      "cell_type": "markdown",
      "metadata": {
        "id": "Tyic_TA3xdwx"
      },
      "source": [
        "## Accessing Elements in a List\n",
        "Lists are ordered collections, so you can access any element in a list by telling Python the position, or index, of the item desired. To access an element in a list, write the name of the list followed by the index of the item enclosed in square brackets."
      ]
    },
    {
      "cell_type": "code",
      "metadata": {
        "id": "CqJJonu9xoIu"
      },
      "source": [
        "print (deadpool[0])"
      ],
      "execution_count": null,
      "outputs": []
    },
    {
      "cell_type": "code",
      "metadata": {
        "id": "pkSpe5XBxs7R"
      },
      "source": [
        "deadpool[0]"
      ],
      "execution_count": null,
      "outputs": []
    },
    {
      "cell_type": "markdown",
      "metadata": {
        "id": "Ortkfoj_x86S"
      },
      "source": [
        "You can also use the string methods on any element in this list. For example, you can format the element 'banana' more neatly by using the title() method:"
      ]
    },
    {
      "cell_type": "code",
      "metadata": {
        "id": "-xcO5zFSyC2w"
      },
      "source": [
        "deadpool[0].title()"
      ],
      "execution_count": null,
      "outputs": []
    },
    {
      "cell_type": "markdown",
      "metadata": {
        "id": "wGiX2O1KyYZo"
      },
      "source": [
        "Python has a special syntax for accessing the last element in a list. By asking for the item at index -1, Python always returns the last item in the list:"
      ]
    },
    {
      "cell_type": "code",
      "metadata": {
        "id": "W6J3KMGsyaIs"
      },
      "source": [
        "deadpool[-1]"
      ],
      "execution_count": null,
      "outputs": []
    },
    {
      "cell_type": "markdown",
      "metadata": {
        "id": "HimGB7HNymz-"
      },
      "source": [
        "## Modifying Elements in a List\n",
        "\n",
        "The syntax for modifying an element is similar to the syntax for accessing an element in a list. To change an element, use the name of the list followed by the index of the element you want to change, and then provide the new value you want that item to have"
      ]
    },
    {
      "cell_type": "code",
      "metadata": {
        "id": "vjgUjHvayp8x"
      },
      "source": [
        "deadpool[0] = 'Minion'\n",
        "deadpool"
      ],
      "execution_count": null,
      "outputs": []
    },
    {
      "cell_type": "markdown",
      "metadata": {
        "id": "F4Z6xEVFy0Vq"
      },
      "source": [
        "## Adding Elements to a List\n",
        "\n",
        "You might want to add a new element to a list for many reasons. For example, you might want to make new aliens appear in a game, add new data to a visualization, or add new registered users to a website you’ve built. Python provides several ways to add new data to existing lists."
      ]
    },
    {
      "cell_type": "markdown",
      "metadata": {
        "id": "Ba24cUfpy90R"
      },
      "source": [
        "### Appending Elements to the End of a List\n",
        "\n",
        "The simplest way to add a new element to a list is to append the item to the list. When you append an item to a list, the new element is added to the end of the list. Using the same list we had in the previous example, we’ll add the new element 'Xavier' to the end of the list:"
      ]
    },
    {
      "cell_type": "code",
      "metadata": {
        "id": "7AERovjWzHBT"
      },
      "source": [
        "deadpool.append('Xavier')\n",
        "deadpool"
      ],
      "execution_count": null,
      "outputs": []
    },
    {
      "cell_type": "markdown",
      "metadata": {
        "id": "fqtISzVRzbV6"
      },
      "source": [
        "### Inserting Elements into a List\n",
        "\n",
        "You can add a new element at any position in your list by using the insert() method. You do this by specifying the index of the new element and the value of the new item."
      ]
    },
    {
      "cell_type": "code",
      "metadata": {
        "id": "Svz6ziDEzeEf"
      },
      "source": [
        "deadpool.insert(0,'banana')\n",
        "deadpool"
      ],
      "execution_count": null,
      "outputs": []
    },
    {
      "cell_type": "markdown",
      "metadata": {
        "id": "pm0eckUFzqis"
      },
      "source": [
        "### Removing Elements from a List\n",
        "\n",
        "Often, you’ll want to remove an item or a set of items from a list. For example, when a player shoots down an alien from the sky, you’ll most likely want to remove it from the list of active aliens. Or when a user decides to cancel their account on a web application you created, you’ll want to remove that user from the list of active users. You can remove an item according to its position in the list or according to its value."
      ]
    },
    {
      "cell_type": "code",
      "metadata": {
        "id": "ubwhjfPfzv3N"
      },
      "source": [
        "del deadpool[1]\n",
        "deadpool"
      ],
      "execution_count": null,
      "outputs": []
    },
    {
      "cell_type": "markdown",
      "metadata": {
        "id": "--Dk1cTl0AfD"
      },
      "source": [
        "### Removing an Item Using the pop() Method\n",
        "\n",
        "Sometimes you’ll want to use the value of an item after you remove it from a list. For example, you might want to get the x and y position of an alien that was just shot down, so you can draw an explosion at that position. In a web application, you might want to remove a user from a list of active members and then add that user to a list of inactive members.\n",
        "\n",
        "The pop() method removes the last item in a list, but it lets you work with that item after removing it. The term pop comes from thinking of a list as a stack of items and popping one item off the top of the stack. In this analogy, the top of a stack corresponds to the end of a list."
      ]
    },
    {
      "cell_type": "code",
      "metadata": {
        "id": "BlY_JQg70IBC"
      },
      "source": [
        "deadpool.pop()\n",
        "deadpool"
      ],
      "execution_count": null,
      "outputs": []
    },
    {
      "cell_type": "code",
      "metadata": {
        "id": "-R8oEZLd0Q0b"
      },
      "source": [
        "deadpool.pop(0)\n",
        "deadpool"
      ],
      "execution_count": null,
      "outputs": []
    },
    {
      "cell_type": "markdown",
      "metadata": {
        "id": "mc0Zgy5z0hYD"
      },
      "source": [
        "### Removing an Item by Value\n",
        "\n",
        "Sometimes you won’t know the position of the value you want to remove from a list. If you only know the value of the item you want to remove, you can use the remove() method.\n",
        "\n",
        "For example, let’s say we want to remove the value 'Cable' from the list of deadpool."
      ]
    },
    {
      "cell_type": "code",
      "metadata": {
        "id": "2cirjU8d0mLj"
      },
      "source": [
        "deadpool.remove('Cable')\n",
        "deadpool"
      ],
      "execution_count": null,
      "outputs": []
    },
    {
      "cell_type": "markdown",
      "metadata": {
        "id": "W3DUHmLa0zrK"
      },
      "source": [
        "The remove() method deletes only the first occurrence of the value you specify. If there’s a possibility the value appears more than once in the list, you’ll need to use a function to remove all the occurrences.\n",
        "\n",
        "What you can do? Let's use the following list as example"
      ]
    },
    {
      "cell_type": "code",
      "metadata": {
        "id": "uPgoU1CJ1BPt"
      },
      "source": [
        "deadpool = ['banana', 'unicornio', 'Dopinder', 'Cable', 'Colossus', '<3 Wolverine <3', 'Cable'] # Remove all the Cable entries\n",
        "deadpool"
      ],
      "execution_count": null,
      "outputs": []
    },
    {
      "cell_type": "code",
      "metadata": {
        "id": "-nxqx1h21Kxi"
      },
      "source": [
        "i = 0\n",
        "list_len = len(deadpool)\n",
        "print (list_len)\n",
        "for i in range (len(deadpool)):\n",
        "  print (deadpool[i])\n",
        "  if (deadpool[i] == 'Cable'):\n",
        "    deadpool.remove('Cable')\n",
        "\n",
        "deadpool\n",
        "\n",
        "# Cuál es el error? "
      ],
      "execution_count": null,
      "outputs": []
    },
    {
      "cell_type": "code",
      "metadata": {
        "id": "xrdHQiI89Q5C"
      },
      "source": [
        "deadpool = ['banana', 'unicornio', 'Dopinder', 'Cable', 'Colossus', '<3 Wolverine <3', 'Cable'] # Remove all the Cable entries\n",
        "deadpool"
      ],
      "execution_count": null,
      "outputs": []
    },
    {
      "cell_type": "code",
      "metadata": {
        "id": "kmWCv6TZ87b_"
      },
      "source": [
        "i = 0\n",
        "\n",
        "while (i < len(deadpool)):\n",
        "  i += 1\n",
        "  if (deadpool[i] == 'Cable'):\n",
        "    deadpool.remove('Cable')\n",
        "\n",
        "deadpool"
      ],
      "execution_count": null,
      "outputs": []
    },
    {
      "cell_type": "markdown",
      "metadata": {
        "id": "vRZpM4AVCnM-"
      },
      "source": [
        "## Organizing List\n",
        "\n",
        "Often, your lists will be created in an unpredictable order, because you can’t always control the order in which your users provide their data. Although this is unavoidable in most circumstances, you’ll frequently want to present your information in a particular order. Sometimes you’ll want to preserve the original order of your list, and other times you’ll want to change the original order. Python provides a number of different ways to organize your lists, depending on the situation."
      ]
    },
    {
      "cell_type": "code",
      "metadata": {
        "id": "K2JbWmn_CvUn"
      },
      "source": [
        "deadpool.sort()\n",
        "deadpool"
      ],
      "execution_count": null,
      "outputs": []
    },
    {
      "cell_type": "markdown",
      "metadata": {
        "id": "v6zZKUKhC77b"
      },
      "source": [
        "To maintain the original order of a list but present it in a sorted order, you can use the sorted() function. The sorted() function lets you display your list in a particular order but doesn’t affect the actual order of the list."
      ]
    },
    {
      "cell_type": "code",
      "metadata": {
        "id": "Cxjjz8z_C9-A"
      },
      "source": [
        "deadpool = ['banana', 'unicornio', 'Dopinder', 'Cable', 'Colossus', '<3 Wolverine <3', 'Cable']\n",
        "deadpool"
      ],
      "execution_count": null,
      "outputs": []
    },
    {
      "cell_type": "code",
      "metadata": {
        "id": "Ye5vm7_WDEX9"
      },
      "source": [
        "print (sorted(deadpool))"
      ],
      "execution_count": null,
      "outputs": []
    },
    {
      "cell_type": "code",
      "metadata": {
        "id": "imkCMxqmDH__"
      },
      "source": [
        "deadpool"
      ],
      "execution_count": null,
      "outputs": []
    },
    {
      "cell_type": "markdown",
      "metadata": {
        "id": "vwZrw2gqDOxH"
      },
      "source": [
        "To reverse the original order of a list, you can use the reverse() method. If we originally stored the list of cars in chronological order according to when we owned them, we could easily rearrange the list into reverse chronological order:"
      ]
    },
    {
      "cell_type": "code",
      "metadata": {
        "id": "vp-tT6OuDRT7"
      },
      "source": [
        "deadpool.reverse()\n",
        "deadpool"
      ],
      "execution_count": null,
      "outputs": []
    }
  ]
}