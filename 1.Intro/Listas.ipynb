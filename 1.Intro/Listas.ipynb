{
  "nbformat": 4,
  "nbformat_minor": 0,
  "metadata": {
    "colab": {
      "name": "Listas.ipynb",
      "provenance": [],
      "collapsed_sections": [],
      "include_colab_link": true
    },
    "kernelspec": {
      "name": "python3",
      "display_name": "Python 3"
    },
    "language_info": {
      "name": "python"
    }
  },
  "cells": [
    {
      "cell_type": "markdown",
      "metadata": {
        "id": "view-in-github",
        "colab_type": "text"
      },
      "source": [
        "<a href=\"https://colab.research.google.com/github/al34n1x/DataScience/blob/master/1.Intro/Listas.ipynb\" target=\"_parent\"><img src=\"https://colab.research.google.com/assets/colab-badge.svg\" alt=\"Open In Colab\"/></a>"
      ]
    },
    {
      "cell_type": "markdown",
      "metadata": {
        "id": "enNql_q0xJTg"
      },
      "source": [
        "# Listas\n",
        "\n",
        "A list is a collection of items in a particular order. You can make a list that includes the letters of the alphabet, the digits from 0–9, or the names of all the people in your family. You can put anything you want into a list, and the items in your list don’t have to be related in any particular way. Because a list usually contains more than one element, it’s a good idea to make the name of your list plural, such as letters, digits, or names.\n",
        "\n",
        "In Python, square brackets ([]) indicate a list, and individual elements in the list are separated by commas."
      ]
    },
    {
      "cell_type": "code",
      "metadata": {
        "id": "j4U_6b-wxIW9"
      },
      "source": [
        "deadpool = ['banana', 'unicornio', 'Dopinder', 'Cable', 'Colossus', '<3 Wolverine <3']"
      ],
      "execution_count": null,
      "outputs": []
    },
    {
      "cell_type": "markdown",
      "metadata": {
        "id": "Tyic_TA3xdwx"
      },
      "source": [
        "## Accessing Elements in a List\n",
        "Lists are ordered collections, so you can access any element in a list by telling Python the position, or index, of the item desired. To access an element in a list, write the name of the list followed by the index of the item enclosed in square brackets."
      ]
    },
    {
      "cell_type": "code",
      "metadata": {
        "colab": {
          "base_uri": "https://localhost:8080/"
        },
        "id": "CqJJonu9xoIu",
        "outputId": "e7399438-0fa6-434c-e2fc-1a267f81569b"
      },
      "source": [
        "print (deadpool[0])"
      ],
      "execution_count": null,
      "outputs": [
        {
          "output_type": "stream",
          "text": [
            "banana\n"
          ],
          "name": "stdout"
        }
      ]
    },
    {
      "cell_type": "code",
      "metadata": {
        "colab": {
          "base_uri": "https://localhost:8080/",
          "height": 35
        },
        "id": "pkSpe5XBxs7R",
        "outputId": "e54bf661-9bbc-405f-e216-eab4d073c907"
      },
      "source": [
        "deadpool[0]"
      ],
      "execution_count": null,
      "outputs": [
        {
          "output_type": "execute_result",
          "data": {
            "application/vnd.google.colaboratory.intrinsic+json": {
              "type": "string"
            },
            "text/plain": [
              "'banana'"
            ]
          },
          "metadata": {
            "tags": []
          },
          "execution_count": 3
        }
      ]
    },
    {
      "cell_type": "markdown",
      "metadata": {
        "id": "Ortkfoj_x86S"
      },
      "source": [
        "You can also use the string methods on any element in this list. For example, you can format the element 'banana' more neatly by using the title() method:"
      ]
    },
    {
      "cell_type": "code",
      "metadata": {
        "colab": {
          "base_uri": "https://localhost:8080/",
          "height": 35
        },
        "id": "-xcO5zFSyC2w",
        "outputId": "fd8c11a2-6513-4634-d4f7-d682f82d0a70"
      },
      "source": [
        "deadpool[0].title()"
      ],
      "execution_count": null,
      "outputs": [
        {
          "output_type": "execute_result",
          "data": {
            "application/vnd.google.colaboratory.intrinsic+json": {
              "type": "string"
            },
            "text/plain": [
              "'Banana'"
            ]
          },
          "metadata": {
            "tags": []
          },
          "execution_count": 7
        }
      ]
    },
    {
      "cell_type": "markdown",
      "metadata": {
        "id": "wGiX2O1KyYZo"
      },
      "source": [
        "Python has a special syntax for accessing the last element in a list. By asking for the item at index -1, Python always returns the last item in the list:"
      ]
    },
    {
      "cell_type": "code",
      "metadata": {
        "colab": {
          "base_uri": "https://localhost:8080/",
          "height": 35
        },
        "id": "W6J3KMGsyaIs",
        "outputId": "61f3877b-8930-4d31-a26d-44fe63b2ada0"
      },
      "source": [
        "deadpool[-1]"
      ],
      "execution_count": null,
      "outputs": [
        {
          "output_type": "execute_result",
          "data": {
            "application/vnd.google.colaboratory.intrinsic+json": {
              "type": "string"
            },
            "text/plain": [
              "'<3 Wolverine <3'"
            ]
          },
          "metadata": {
            "tags": []
          },
          "execution_count": 8
        }
      ]
    },
    {
      "cell_type": "markdown",
      "metadata": {
        "id": "HimGB7HNymz-"
      },
      "source": [
        "## Modifying Elements in a List\n",
        "\n",
        "The syntax for modifying an element is similar to the syntax for accessing an element in a list. To change an element, use the name of the list followed by the index of the element you want to change, and then provide the new value you want that item to have"
      ]
    },
    {
      "cell_type": "code",
      "metadata": {
        "colab": {
          "base_uri": "https://localhost:8080/"
        },
        "id": "vjgUjHvayp8x",
        "outputId": "57e01e76-1399-428b-9bbd-1ae1c99de078"
      },
      "source": [
        "deadpool[0] = 'Minion'\n",
        "deadpool"
      ],
      "execution_count": null,
      "outputs": [
        {
          "output_type": "execute_result",
          "data": {
            "text/plain": [
              "['Minion', 'unicornio', 'Dopinder', 'Cable', 'Colossus', '<3 Wolverine <3']"
            ]
          },
          "metadata": {
            "tags": []
          },
          "execution_count": 10
        }
      ]
    },
    {
      "cell_type": "markdown",
      "metadata": {
        "id": "F4Z6xEVFy0Vq"
      },
      "source": [
        "## Adding Elements to a List\n",
        "\n",
        "You might want to add a new element to a list for many reasons. For example, you might want to make new aliens appear in a game, add new data to a visualization, or add new registered users to a website you’ve built. Python provides several ways to add new data to existing lists."
      ]
    },
    {
      "cell_type": "markdown",
      "metadata": {
        "id": "Ba24cUfpy90R"
      },
      "source": [
        "### Appending Elements to the End of a List\n",
        "\n",
        "The simplest way to add a new element to a list is to append the item to the list. When you append an item to a list, the new element is added to the end of the list. Using the same list we had in the previous example, we’ll add the new element 'Xavier' to the end of the list:"
      ]
    },
    {
      "cell_type": "code",
      "metadata": {
        "id": "7AERovjWzHBT"
      },
      "source": [
        "deadpool.append('Xavier')\n",
        "deadpool"
      ],
      "execution_count": null,
      "outputs": []
    },
    {
      "cell_type": "markdown",
      "metadata": {
        "id": "fqtISzVRzbV6"
      },
      "source": [
        "### Inserting Elements into a List\n",
        "\n",
        "You can add a new element at any position in your list by using the insert() method. You do this by specifying the index of the new element and the value of the new item."
      ]
    },
    {
      "cell_type": "code",
      "metadata": {
        "colab": {
          "base_uri": "https://localhost:8080/"
        },
        "id": "Svz6ziDEzeEf",
        "outputId": "980d32f0-6de3-4d2e-b20e-2c0c63d5ae43"
      },
      "source": [
        "deadpool.insert(0,'banana')\n",
        "deadpool"
      ],
      "execution_count": null,
      "outputs": [
        {
          "output_type": "execute_result",
          "data": {
            "text/plain": [
              "['banana',\n",
              " 'Minion',\n",
              " 'unicornio',\n",
              " 'Dopinder',\n",
              " 'Cable',\n",
              " 'Colossus',\n",
              " '<3 Wolverine <3',\n",
              " 'Xavier']"
            ]
          },
          "metadata": {
            "tags": []
          },
          "execution_count": 13
        }
      ]
    },
    {
      "cell_type": "markdown",
      "metadata": {
        "id": "pm0eckUFzqis"
      },
      "source": [
        "### Removing Elements from a List\n",
        "\n",
        "Often, you’ll want to remove an item or a set of items from a list. For example, when a player shoots down an alien from the sky, you’ll most likely want to remove it from the list of active aliens. Or when a user decides to cancel their account on a web application you created, you’ll want to remove that user from the list of active users. You can remove an item according to its position in the list or according to its value."
      ]
    },
    {
      "cell_type": "code",
      "metadata": {
        "colab": {
          "base_uri": "https://localhost:8080/"
        },
        "id": "ubwhjfPfzv3N",
        "outputId": "6e149c67-0804-4b62-ce73-3754a5a5e3f0"
      },
      "source": [
        "del deadpool[1]\n",
        "deadpool"
      ],
      "execution_count": null,
      "outputs": [
        {
          "output_type": "execute_result",
          "data": {
            "text/plain": [
              "['banana',\n",
              " 'unicornio',\n",
              " 'Dopinder',\n",
              " 'Cable',\n",
              " 'Colossus',\n",
              " '<3 Wolverine <3',\n",
              " 'Xavier']"
            ]
          },
          "metadata": {
            "tags": []
          },
          "execution_count": 14
        }
      ]
    },
    {
      "cell_type": "markdown",
      "metadata": {
        "id": "--Dk1cTl0AfD"
      },
      "source": [
        "### Removing an Item Using the pop() Method\n",
        "\n",
        "Sometimes you’ll want to use the value of an item after you remove it from a list. For example, you might want to get the x and y position of an alien that was just shot down, so you can draw an explosion at that position. In a web application, you might want to remove a user from a list of active members and then add that user to a list of inactive members.\n",
        "\n",
        "The pop() method removes the last item in a list, but it lets you work with that item after removing it. The term pop comes from thinking of a list as a stack of items and popping one item off the top of the stack. In this analogy, the top of a stack corresponds to the end of a list."
      ]
    },
    {
      "cell_type": "code",
      "metadata": {
        "colab": {
          "base_uri": "https://localhost:8080/"
        },
        "id": "BlY_JQg70IBC",
        "outputId": "649d1204-bc68-4555-a5bc-6a57e8626aa3"
      },
      "source": [
        "deadpool.pop()\n",
        "deadpool"
      ],
      "execution_count": null,
      "outputs": [
        {
          "output_type": "execute_result",
          "data": {
            "text/plain": [
              "['banana', 'unicornio', 'Dopinder', 'Cable', 'Colossus', '<3 Wolverine <3']"
            ]
          },
          "metadata": {
            "tags": []
          },
          "execution_count": 15
        }
      ]
    },
    {
      "cell_type": "code",
      "metadata": {
        "colab": {
          "base_uri": "https://localhost:8080/"
        },
        "id": "-R8oEZLd0Q0b",
        "outputId": "0ff5b7f9-84e4-4c23-935b-e8ec16a6bc7b"
      },
      "source": [
        "deadpool.pop(0)\n",
        "deadpool"
      ],
      "execution_count": null,
      "outputs": [
        {
          "output_type": "execute_result",
          "data": {
            "text/plain": [
              "['unicornio', 'Dopinder', 'Cable', 'Colossus', '<3 Wolverine <3']"
            ]
          },
          "metadata": {
            "tags": []
          },
          "execution_count": 16
        }
      ]
    },
    {
      "cell_type": "markdown",
      "metadata": {
        "id": "mc0Zgy5z0hYD"
      },
      "source": [
        "### Removing an Item by Value\n",
        "\n",
        "Sometimes you won’t know the position of the value you want to remove from a list. If you only know the value of the item you want to remove, you can use the remove() method.\n",
        "\n",
        "For example, let’s say we want to remove the value 'Cable' from the list of deadpool."
      ]
    },
    {
      "cell_type": "code",
      "metadata": {
        "colab": {
          "base_uri": "https://localhost:8080/"
        },
        "id": "2cirjU8d0mLj",
        "outputId": "6e9d0feb-d91f-4a21-cca2-0712a15291fd"
      },
      "source": [
        "deadpool.remove('Cable')\n",
        "deadpool"
      ],
      "execution_count": null,
      "outputs": [
        {
          "output_type": "execute_result",
          "data": {
            "text/plain": [
              "['unicornio', 'Dopinder', 'Colossus', '<3 Wolverine <3']"
            ]
          },
          "metadata": {
            "tags": []
          },
          "execution_count": 17
        }
      ]
    },
    {
      "cell_type": "markdown",
      "metadata": {
        "id": "W3DUHmLa0zrK"
      },
      "source": [
        "The remove() method deletes only the first occurrence of the value you specify. If there’s a possibility the value appears more than once in the list, you’ll need to use a function to remove all the occurrences.\n",
        "\n",
        "What you can do? Let's use the following list as example"
      ]
    },
    {
      "cell_type": "code",
      "metadata": {
        "colab": {
          "base_uri": "https://localhost:8080/"
        },
        "id": "uPgoU1CJ1BPt",
        "outputId": "be1cf86a-cd90-4fec-afd0-01052d252e20"
      },
      "source": [
        "deadpool = ['banana', 'unicornio', 'Dopinder', 'Cable', 'Colossus', '<3 Wolverine <3', 'Cable'] # Remove all the Cable entries\n",
        "deadpool"
      ],
      "execution_count": null,
      "outputs": [
        {
          "output_type": "execute_result",
          "data": {
            "text/plain": [
              "['banana',\n",
              " 'unicornio',\n",
              " 'Dopinder',\n",
              " 'Cable',\n",
              " 'Colossus',\n",
              " '<3 Wolverine <3',\n",
              " 'Cable']"
            ]
          },
          "metadata": {
            "tags": []
          },
          "execution_count": 34
        }
      ]
    },
    {
      "cell_type": "code",
      "metadata": {
        "colab": {
          "base_uri": "https://localhost:8080/",
          "height": 351
        },
        "id": "-nxqx1h21Kxi",
        "outputId": "1dfe0f31-b460-4af0-cb7d-184d68f7d212"
      },
      "source": [
        "i = 0\n",
        "list_len = len(deadpool)\n",
        "print (list_len)\n",
        "for i in range (len(deadpool)):\n",
        "  print (deadpool[i])\n",
        "  if (deadpool[i] == 'Cable'):\n",
        "    deadpool.remove('Cable')\n",
        "\n",
        "deadpool"
      ],
      "execution_count": null,
      "outputs": [
        {
          "output_type": "stream",
          "text": [
            "7\n",
            "banana\n",
            "unicornio\n",
            "Dopinder\n",
            "Cable\n",
            "<3 Wolverine <3\n",
            "Cable\n"
          ],
          "name": "stdout"
        },
        {
          "output_type": "error",
          "ename": "IndexError",
          "evalue": "ignored",
          "traceback": [
            "\u001b[0;31m---------------------------------------------------------------------------\u001b[0m",
            "\u001b[0;31mIndexError\u001b[0m                                Traceback (most recent call last)",
            "\u001b[0;32m<ipython-input-35-66f2d5cd63fe>\u001b[0m in \u001b[0;36m<module>\u001b[0;34m()\u001b[0m\n\u001b[1;32m      3\u001b[0m \u001b[0mprint\u001b[0m \u001b[0;34m(\u001b[0m\u001b[0mlist_len\u001b[0m\u001b[0;34m)\u001b[0m\u001b[0;34m\u001b[0m\u001b[0;34m\u001b[0m\u001b[0m\n\u001b[1;32m      4\u001b[0m \u001b[0;32mfor\u001b[0m \u001b[0mi\u001b[0m \u001b[0;32min\u001b[0m \u001b[0mrange\u001b[0m \u001b[0;34m(\u001b[0m\u001b[0mlen\u001b[0m\u001b[0;34m(\u001b[0m\u001b[0mdeadpool\u001b[0m\u001b[0;34m)\u001b[0m\u001b[0;34m)\u001b[0m\u001b[0;34m:\u001b[0m\u001b[0;34m\u001b[0m\u001b[0;34m\u001b[0m\u001b[0m\n\u001b[0;32m----> 5\u001b[0;31m   \u001b[0mprint\u001b[0m \u001b[0;34m(\u001b[0m\u001b[0mdeadpool\u001b[0m\u001b[0;34m[\u001b[0m\u001b[0mi\u001b[0m\u001b[0;34m]\u001b[0m\u001b[0;34m)\u001b[0m\u001b[0;34m\u001b[0m\u001b[0;34m\u001b[0m\u001b[0m\n\u001b[0m\u001b[1;32m      6\u001b[0m   \u001b[0;32mif\u001b[0m \u001b[0;34m(\u001b[0m\u001b[0mdeadpool\u001b[0m\u001b[0;34m[\u001b[0m\u001b[0mi\u001b[0m\u001b[0;34m]\u001b[0m \u001b[0;34m==\u001b[0m \u001b[0;34m'Cable'\u001b[0m\u001b[0;34m)\u001b[0m\u001b[0;34m:\u001b[0m\u001b[0;34m\u001b[0m\u001b[0;34m\u001b[0m\u001b[0m\n\u001b[1;32m      7\u001b[0m     \u001b[0mdeadpool\u001b[0m\u001b[0;34m.\u001b[0m\u001b[0mremove\u001b[0m\u001b[0;34m(\u001b[0m\u001b[0;34m'Cable'\u001b[0m\u001b[0;34m)\u001b[0m\u001b[0;34m\u001b[0m\u001b[0;34m\u001b[0m\u001b[0m\n",
            "\u001b[0;31mIndexError\u001b[0m: list index out of range"
          ]
        }
      ]
    }
  ]
}