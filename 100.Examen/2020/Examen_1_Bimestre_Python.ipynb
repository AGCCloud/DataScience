{
  "nbformat": 4,
  "nbformat_minor": 0,
  "metadata": {
    "colab": {
      "name": "Examen_1_Bimestre_Python.ipynb",
      "provenance": [],
      "authorship_tag": "ABX9TyPj6jAWtDAHCOB5zUjJxkdL",
      "include_colab_link": true
    },
    "kernelspec": {
      "name": "python3",
      "display_name": "Python 3"
    },
    "language_info": {
      "name": "python"
    }
  },
  "cells": [
    {
      "cell_type": "markdown",
      "metadata": {
        "id": "view-in-github",
        "colab_type": "text"
      },
      "source": [
        "<a href=\"https://colab.research.google.com/github/al34n1x/DataScience/blob/master/100.Examen/Examen_1_Bimestre_Python.ipynb\" target=\"_parent\"><img src=\"https://colab.research.google.com/assets/colab-badge.svg\" alt=\"Open In Colab\"/></a>"
      ]
    },
    {
      "cell_type": "markdown",
      "metadata": {
        "colab_type": "toc",
        "id": "NbB5A6Kiti5o"
      },
      "source": [
        ">[Examen Diplomatura de Ciencias de Datos (Python)](#updateTitle=true&folderId=1hYY6URNFLa2w5I3uQbpDlwOox_am-5cM&scrollTo=i0zFildainmZ)\n",
        "\n",
        ">>[Datos del Grupo (Ingrese los datos de los miembros del grupo)](#updateTitle=true&folderId=1hYY6URNFLa2w5I3uQbpDlwOox_am-5cM&scrollTo=DpCP10zljkUr)\n",
        "\n",
        ">>[Criterio de evaluación](#updateTitle=true&folderId=1hYY6URNFLa2w5I3uQbpDlwOox_am-5cM&scrollTo=aQ3knDmSjoC4)\n",
        "\n",
        ">>[Herramientas utilizadas](#updateTitle=true&folderId=1hYY6URNFLa2w5I3uQbpDlwOox_am-5cM&scrollTo=ELfqvndSj9Ur)\n",
        "\n",
        ">>[Problema](#updateTitle=true&folderId=1hYY6URNFLa2w5I3uQbpDlwOox_am-5cM&scrollTo=hXPW4ICqknzA)\n",
        "\n",
        ">>[Carga de datos](#updateTitle=true&folderId=1hYY6URNFLa2w5I3uQbpDlwOox_am-5cM&scrollTo=9C6E_XIYkFY9)\n",
        "\n",
        ">>[Preparación de datos](#updateTitle=true&folderId=1hYY6URNFLa2w5I3uQbpDlwOox_am-5cM&scrollTo=QF80Zxg1kIyw)\n",
        "\n",
        ">>[Análisis](#updateTitle=true&folderId=1hYY6URNFLa2w5I3uQbpDlwOox_am-5cM&scrollTo=zBlq7CMHkTe9)\n",
        "\n",
        ">>[Visualizaciones](#updateTitle=true&folderId=1hYY6URNFLa2w5I3uQbpDlwOox_am-5cM&scrollTo=Tr34SrWqkWNo)\n",
        "\n",
        ">>[Persistencia (Almacenamiento)](#updateTitle=true&folderId=1hYY6URNFLa2w5I3uQbpDlwOox_am-5cM&scrollTo=cHHGyZyhkZyU)\n",
        "\n"
      ]
    },
    {
      "cell_type": "markdown",
      "metadata": {
        "id": "i0zFildainmZ"
      },
      "source": [
        "# Examen Diplomatura de Ciencias de Datos (Python)\n",
        "\n",
        "A continuación, se detallan las indicaciones para la resolución del examen. Tengan a bien leer todas las instrucciones y no dude en consultar si tiene alguna duda.\n",
        "\n",
        "1. El examen se realiza de forma grupal de acuerdo a la asignación previamente realizada (Grupo 1, Grupo 2, Grupo 3, Grupo 4, Grupo 5, Grupo 6)\n",
        "2. La fecha de entrega es el Lunes 10 de Mayo a las 9:00 AM hs (Argentina). La entrega se deberá realizar por correo electrónico.\n",
        "3. Tanto el código como el análisis y las visualizaciones se deben entregan en un notebook en formato **.ipynb**\n",
        "4. Puede utilizar diferentes herramientas para el desarrollo como Jupyter, Colab, Spypder o VSCodium, sin embargo, el trabajo final debe ser entregado en un notebook como estipulado en el punto 3.\n",
        "5. Para visualizaciones se debe utilizar la librería **matplotlib** solamente.\n",
        "6. La defensa del trabajo se realizará el Lunes 10 de Mayo a las 18:30 hs de forma grupal. Se les brindará un espacio de 20 minutos para la exposición y espacio a preguntas.\n",
        "7. La nota se obtendrá en base a un promedio entre el desarrollo del trabajo, defensa del mismo en forma grupal y exposición individual. \n",
        "8. Los archivos a utilizar se encuentran almacenados en la siguientes URL:\n",
        "\n",
        "https://github.com/al34n1x/DataScience/blob/master/100.Examen/examen_births.csv\n",
        "\n",
        "https://github.com/al34n1x/DataScience/blob/master/100.Examen/examen_life_expectancy.csv\n",
        "\n",
        "---\n",
        "\n",
        "\n"
      ]
    },
    {
      "cell_type": "markdown",
      "metadata": {
        "id": "DpCP10zljkUr"
      },
      "source": [
        "## Datos del Grupo (Ingrese los datos de los miembros del grupo)\n",
        "\n",
        "Nombre y Apellido | LU\n",
        "------------------|---\n",
        "Alumno 1 | 111111\n",
        "Alumno 2 | 222222\n",
        "\n"
      ]
    },
    {
      "cell_type": "markdown",
      "metadata": {
        "id": "aQ3knDmSjoC4"
      },
      "source": [
        "## Criterio de evaluación\n",
        "\n",
        "Se les brindará dos archivos los cuales deben ser importados y proceder a trabajar con los mismos aplicando los conceptos de explicados en clase.\n",
        "\n",
        "Como parte del examen se evaluarán los siguientes conceptos:\n",
        "\n",
        "* Importar datos desde fuentes externas\n",
        "* Preparación de datos en estructuras tipo diccionarios/arreglos \n",
        "* Gestión de datos\n",
        "* Visualizaciones\n",
        "* Almacenamiento de resultados\n",
        "\n",
        "\n",
        "---\n"
      ]
    },
    {
      "cell_type": "markdown",
      "metadata": {
        "id": "ELfqvndSj9Ur"
      },
      "source": [
        "## Herramientas utilizadas\n",
        "\n",
        "A continuación detallen las herramientas utilizadas para el desarrollo del examen.\n",
        "\n",
        "*Ingrese aquí*\n",
        "\n",
        "\n",
        "---"
      ]
    },
    {
      "cell_type": "markdown",
      "metadata": {
        "id": "hXPW4ICqknzA"
      },
      "source": [
        "## Problema\n",
        "\n",
        "El ayuntamiento de Barcelona le ha solicitado al equipo de científicos de datos realizar un análisis sobre la expectativa de vida y el nivel de natalidad en cada uno de los distritos de la comunidad.\n",
        "Para ello les requieren:\n",
        "\n",
        "* Cargar los datos provistos en formato CSV en estructuras de diccionarios.\n",
        "* Para cada distrito obtener el promedio de expectativa de vida, discriminado por genero.\n",
        "* Obtener el/los distritos con mayor y menor natalidad respectivamente.\n",
        "* Realizar una comparación entre los distritos con mayor expectativa de vida y su nivel de natalidad\n",
        "* Generar visualizaciones que muestren los resultados como parte del análisis.\n",
        "* Desarrollar una conclusión sobre el análisis. \n",
        "* Almacenar los resultados en archivos en formato CSV.\n",
        "\n"
      ]
    },
    {
      "cell_type": "markdown",
      "metadata": {
        "id": "9C6E_XIYkFY9"
      },
      "source": [
        "## Carga de datos\n",
        "\n",
        "<Introducir proceso/comentarios aquí>"
      ]
    },
    {
      "cell_type": "code",
      "metadata": {
        "id": "gr0dFlxnikW1"
      },
      "source": [
        "# Introduzca su código aquí"
      ],
      "execution_count": null,
      "outputs": []
    },
    {
      "cell_type": "markdown",
      "metadata": {
        "id": "QF80Zxg1kIyw"
      },
      "source": [
        "## Preparación de datos \n",
        "\n",
        "<Introducir proceso/comentarios aquí>"
      ]
    },
    {
      "cell_type": "code",
      "metadata": {
        "id": "sZv-BQwhkOfJ"
      },
      "source": [
        "# Introduzca su código aquí"
      ],
      "execution_count": null,
      "outputs": []
    },
    {
      "cell_type": "markdown",
      "metadata": {
        "id": "zBlq7CMHkTe9"
      },
      "source": [
        "## Análisis\n",
        "\n",
        "<Introducir proceso/comentarios aquí>"
      ]
    },
    {
      "cell_type": "code",
      "metadata": {
        "id": "mprBwyU1kVoX"
      },
      "source": [
        "# Introduzca su código aquí"
      ],
      "execution_count": null,
      "outputs": []
    },
    {
      "cell_type": "markdown",
      "metadata": {
        "id": "Tr34SrWqkWNo"
      },
      "source": [
        "## Visualizaciones\n",
        "\n",
        "<Introducir proceso/comentarios aquí>"
      ]
    },
    {
      "cell_type": "code",
      "metadata": {
        "id": "7a3gNznLkYXR"
      },
      "source": [
        "# Introduzca su código aquí"
      ],
      "execution_count": null,
      "outputs": []
    },
    {
      "cell_type": "markdown",
      "metadata": {
        "id": "5VV58D2TuD2e"
      },
      "source": [
        "## Conclusión\n",
        "\n",
        "<Insertar texto aquí>"
      ]
    },
    {
      "cell_type": "markdown",
      "metadata": {
        "id": "cHHGyZyhkZyU"
      },
      "source": [
        "## Persistencia (Almacenamiento)\n",
        "\n",
        "<Introducir proceso/comentarios aquí>"
      ]
    },
    {
      "cell_type": "code",
      "metadata": {
        "id": "_V7CA3k-kc3B"
      },
      "source": [
        "# Introduzca su código aquí"
      ],
      "execution_count": null,
      "outputs": []
    }
  ]
}