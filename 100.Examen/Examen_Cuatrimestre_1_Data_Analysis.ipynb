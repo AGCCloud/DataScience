{
  "nbformat": 4,
  "nbformat_minor": 0,
  "metadata": {
    "colab": {
      "name": "Examen_Cuatrimestre_1_Data_Analysis",
      "provenance": [],
      "collapsed_sections": [],
      "authorship_tag": "ABX9TyOE5q1z5ofh6acSW7Pijwzm",
      "include_colab_link": true
    },
    "kernelspec": {
      "name": "python3",
      "display_name": "Python 3"
    }
  },
  "cells": [
    {
      "cell_type": "markdown",
      "metadata": {
        "id": "view-in-github",
        "colab_type": "text"
      },
      "source": [
        "<a href=\"https://colab.research.google.com/github/al34n1x/DataScience/blob/master/100.Examen/Examen_Cuatrimestre_1_Data_Analysis.ipynb\" target=\"_parent\"><img src=\"https://colab.research.google.com/assets/colab-badge.svg\" alt=\"Open In Colab\"/></a>"
      ]
    },
    {
      "cell_type": "markdown",
      "metadata": {
        "id": "K1GZdTu_qma5",
        "colab_type": "toc"
      },
      "source": [
        ">[Examen Diplomatura de Ciencias de Datos (Gestión y Análisis de datos)](#updateTitle=true&folderId=1hYY6URNFLa2w5I3uQbpDlwOox_am-5cM&scrollTo=AHONY2VzigaP)\n",
        "\n",
        ">>[Datos del Grupo (Ingrese los datos de los miembros del grupo)](#updateTitle=true&folderId=1hYY6URNFLa2w5I3uQbpDlwOox_am-5cM&scrollTo=F2tqo5cDpTwh)\n",
        "\n",
        ">>[Herramientas utilizadas](#updateTitle=true&folderId=1hYY6URNFLa2w5I3uQbpDlwOox_am-5cM&scrollTo=X2C709eFqRDd)\n",
        "\n",
        ">>[Carga de datos](#updateTitle=true&folderId=1hYY6URNFLa2w5I3uQbpDlwOox_am-5cM&scrollTo=RzO8w1ysoR5P)\n",
        "\n",
        ">>[Limpieza de datos](#updateTitle=true&folderId=1hYY6URNFLa2w5I3uQbpDlwOox_am-5cM&scrollTo=KAjjl-EDoYZ_)\n",
        "\n",
        ">>[Transformación de datos](#updateTitle=true&folderId=1hYY6URNFLa2w5I3uQbpDlwOox_am-5cM&scrollTo=1Ht6Zro3oje8)\n",
        "\n",
        ">>[Análisis y Visualizaciones](#updateTitle=true&folderId=1hYY6URNFLa2w5I3uQbpDlwOox_am-5cM&scrollTo=-oZALeyloq56)\n",
        "\n",
        ">>[Conclusión](#updateTitle=true&folderId=1hYY6URNFLa2w5I3uQbpDlwOox_am-5cM&scrollTo=q7ppUWSYpA7A)\n",
        "\n",
        ">>[Almacenamiento de resultados](#updateTitle=true&folderId=1hYY6URNFLa2w5I3uQbpDlwOox_am-5cM&scrollTo=4nsbdrUgpL4k)\n",
        "\n"
      ]
    },
    {
      "cell_type": "markdown",
      "metadata": {
        "id": "AHONY2VzigaP",
        "colab_type": "text"
      },
      "source": [
        "# Examen Diplomatura de Ciencias de Datos (Gestión y Análisis de datos)\n",
        "\n",
        "A continuación, se detallan las indicaciones para la resolución del examen. Tenga a bien leer todas las instrucciones y no dude en consultar si tiene alguna duda.\n",
        "\n",
        "1. El examen se realiza de forma grupal de acuerdo a la asignación previamente realizada (Grupo 1, Grupo 2, Grupo 3)\n",
        "2. La fecha de entrega de trabajo es el viernes 3 de Julio a las 18:30 hs (Argentina)\n",
        "3. Tanto el código como el análisis y las visualizaciones se deben entregan en un notebook en formato **.ipynb**\n",
        "4. Puede utilizar diferentes herramientas para el desarrollo como Jupyter, Collab, Spypder o VSCodium, sin embargo, el trabajo final debe ser entregado en un notebook como estipulado en el punto 3\n",
        "5. Para visualizaciones se deben usar librerías **matplotlib** y **seaborn**, \n",
        "al menos 3 visualizaciones deben estar realizadas directamente sobre **matplotlib**\n",
        "6. La defensa del trabajo se realizará el Sábado 4 de Julio de forma grupal. Se les brindará un espacio de 20-30 minutos para la exposición y espacio a preguntas.\n",
        "7. La nota se obtendrá en base a un promedio entre el desarrollo del trabajo, defensa del mismo en forma grupal y exposición individual. \n",
        "8. Los archivos a utilizar se encuentran almacenados en la siguiente URL:\n",
        "\n",
        "https://github.com/al34n1x/DataScience/tree/master/100.Examen\n",
        "\n",
        "\n",
        "---\n",
        "\n",
        "\n"
      ]
    },
    {
      "cell_type": "markdown",
      "metadata": {
        "id": "F2tqo5cDpTwh",
        "colab_type": "text"
      },
      "source": [
        "## Datos del Grupo (Ingrese los datos de los miembros del grupo)\n",
        "\n",
        "Nombre y Apellido | LU\n",
        "------------------|---\n",
        "Alumno 1 | 111111\n",
        "Alumno 2 | 222222\n",
        "\n",
        "\n",
        "\n",
        "---\n",
        "\n",
        "\n"
      ]
    },
    {
      "cell_type": "markdown",
      "metadata": {
        "id": "0Uv0eAi_yqJM",
        "colab_type": "text"
      },
      "source": [
        "## Criterio de evaluación\n",
        "\n",
        "Se les brindará dos archivos los cuales deben ser importados y proceder a trabajar con los mismos aplicando los conceptos de limpieza, gestión y transformaciones con el objetivo de encontrar patrones y realizar visualizaciones.\n",
        "\n",
        "Como parte del examen se evaluarán los siguientes conceptos:\n",
        "\n",
        "* Importar datos desde fuentes externas\n",
        "* Limpieza de datos\n",
        "* Gestión de datos y transformaciones\n",
        "* Visualizaciones\n",
        "* Almacenamiento de resultados\n",
        "* [BONUS]: Se tendrá en consideración el agregado de algún tipo de regresión o análisis predictivo como parte de la conclusión.\n",
        "\n",
        "---\n",
        "\n"
      ]
    },
    {
      "cell_type": "markdown",
      "metadata": {
        "id": "X2C709eFqRDd",
        "colab_type": "text"
      },
      "source": [
        "## Herramientas utilizadas\n",
        "\n",
        "A continuación detallen las herramientas utilizadas para el desarrollo del examen.\n",
        "\n",
        "*Ingrese aquí*\n",
        "\n",
        "\n",
        "---\n",
        "\n",
        "\n"
      ]
    },
    {
      "cell_type": "markdown",
      "metadata": {
        "id": "RzO8w1ysoR5P",
        "colab_type": "text"
      },
      "source": [
        "## Carga de datos"
      ]
    },
    {
      "cell_type": "code",
      "metadata": {
        "id": "CxWDctuiiZGX",
        "colab_type": "code",
        "colab": {}
      },
      "source": [
        "# Introduzca su código aquí"
      ],
      "execution_count": null,
      "outputs": []
    },
    {
      "cell_type": "markdown",
      "metadata": {
        "id": "KAjjl-EDoYZ_",
        "colab_type": "text"
      },
      "source": [
        "## Limpieza de datos"
      ]
    },
    {
      "cell_type": "code",
      "metadata": {
        "id": "3__CVMilodU_",
        "colab_type": "code",
        "colab": {}
      },
      "source": [
        "# Introduzca su código aquí"
      ],
      "execution_count": null,
      "outputs": []
    },
    {
      "cell_type": "code",
      "metadata": {
        "id": "qG4Wz0ulofCs",
        "colab_type": "code",
        "colab": {}
      },
      "source": [
        "# Introduzca su código aquí"
      ],
      "execution_count": null,
      "outputs": []
    },
    {
      "cell_type": "code",
      "metadata": {
        "id": "WxfyKGVgofny",
        "colab_type": "code",
        "colab": {}
      },
      "source": [
        "# Introduzca su código aquí"
      ],
      "execution_count": null,
      "outputs": []
    },
    {
      "cell_type": "markdown",
      "metadata": {
        "id": "1Ht6Zro3oje8",
        "colab_type": "text"
      },
      "source": [
        "## Transformación de datos"
      ]
    },
    {
      "cell_type": "code",
      "metadata": {
        "id": "2Mm_EPq6oo1X",
        "colab_type": "code",
        "colab": {}
      },
      "source": [
        "# Introduzca su código aquí"
      ],
      "execution_count": null,
      "outputs": []
    },
    {
      "cell_type": "code",
      "metadata": {
        "id": "R2ezdWulopZ7",
        "colab_type": "code",
        "colab": {}
      },
      "source": [
        "# Introduzca su código aquí"
      ],
      "execution_count": null,
      "outputs": []
    },
    {
      "cell_type": "code",
      "metadata": {
        "id": "s7QhynVUopuU",
        "colab_type": "code",
        "colab": {}
      },
      "source": [
        "# Introduzca su código aquí"
      ],
      "execution_count": null,
      "outputs": []
    },
    {
      "cell_type": "markdown",
      "metadata": {
        "id": "-oZALeyloq56",
        "colab_type": "text"
      },
      "source": [
        "## Análisis y Visualizaciones\n",
        "\n",
        "*Ingrese su análisis aquí*\n"
      ]
    },
    {
      "cell_type": "code",
      "metadata": {
        "id": "C-sOWcJho2mD",
        "colab_type": "code",
        "colab": {}
      },
      "source": [
        "# Ingrese su código de visualización aquí"
      ],
      "execution_count": null,
      "outputs": []
    },
    {
      "cell_type": "code",
      "metadata": {
        "id": "qaW4HTZFo-UB",
        "colab_type": "code",
        "colab": {}
      },
      "source": [
        "# Ingrese su código de visualización aquí"
      ],
      "execution_count": null,
      "outputs": []
    },
    {
      "cell_type": "code",
      "metadata": {
        "id": "_awIuxWoo-o7",
        "colab_type": "code",
        "colab": {}
      },
      "source": [
        "# Ingrese su código de visualización aquí"
      ],
      "execution_count": null,
      "outputs": []
    },
    {
      "cell_type": "markdown",
      "metadata": {
        "id": "q7ppUWSYpA7A",
        "colab_type": "text"
      },
      "source": [
        "## Conclusión\n",
        "\n",
        "*Ingrese conclusión aquí*"
      ]
    },
    {
      "cell_type": "code",
      "metadata": {
        "id": "KJCmCpYIpJAB",
        "colab_type": "code",
        "colab": {}
      },
      "source": [
        "# Ingrese código aquí"
      ],
      "execution_count": null,
      "outputs": []
    },
    {
      "cell_type": "markdown",
      "metadata": {
        "id": "4nsbdrUgpL4k",
        "colab_type": "text"
      },
      "source": [
        "## Almacenamiento de resultados"
      ]
    },
    {
      "cell_type": "code",
      "metadata": {
        "id": "xfn-lOPKpPxf",
        "colab_type": "code",
        "colab": {}
      },
      "source": [
        "## Ingrese código aquí"
      ],
      "execution_count": null,
      "outputs": []
    }
  ]
}