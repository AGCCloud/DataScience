{
  "nbformat": 4,
  "nbformat_minor": 0,
  "metadata": {
    "colab": {
      "name": "Pandas_Intro.ipynb",
      "provenance": [],
      "collapsed_sections": []
    },
    "kernelspec": {
      "name": "python3",
      "display_name": "Python 3"
    }
  },
  "cells": [
    {
      "cell_type": "markdown",
      "metadata": {
        "id": "fIoAUiid427K",
        "colab_type": "toc"
      },
      "source": [
        ">[Pandas](#updateTitle=true&folderId=1hYY6URNFLa2w5I3uQbpDlwOox_am-5cM&scrollTo=75YpFVg5xBXX)\n",
        "\n",
        ">>[Series](#updateTitle=true&folderId=1hYY6URNFLa2w5I3uQbpDlwOox_am-5cM&scrollTo=Ew9sUZAZzHP4)\n",
        "\n"
      ]
    },
    {
      "cell_type": "markdown",
      "metadata": {
        "id": "75YpFVg5xBXX",
        "colab_type": "text"
      },
      "source": [
        "#Pandas\n",
        "\n",
        "\n",
        "Pandas será una herramienta importante durante gran parte del resto de la cursada. Contiene estructuras y herramientas de manipulación de datos diseñadas para hacer que la limpieza y el análisis de datos sean rápidos y fáciles en Python. Pandas a menudo se usa en conjunto con herramientas de cómputo numérico como **NumPy** y **SciPy**, bibliotecas analíticas como **statsmodels** y **scikit-learn**, y bibliotecas de visualización de datos como **matplotlib**. Pandas adopta partes significativas de nomenclaturas utilizadas con NumPy, especialmente funciones basadas en arreglos y la facilidad de procesamiento de datos sin bucles.\n",
        "\n",
        "Mientras que Pandas adopta muchos modismos de codificación de NumPy, la mayor diferencia es que Panda está diseñado para trabajar con datos tabulares o heterogéneos. NumPy, por el contrario, es más adecuado para trabajar con datos de matriz numérica homogénea.\n",
        "\n",
        "![](https://i.pinimg.com/originals/4e/64/5f/4e645ff4125038aa70f156918323ecb1.jpg)\n",
        "\n"
      ]
    },
    {
      "cell_type": "markdown",
      "metadata": {
        "id": "DKaseIgiyhhS",
        "colab_type": "text"
      },
      "source": [
        "Para comenzar con Pandas, deberás sentirse cómodo con sus dos estructuras de datos más importantes: **Series** y **DataFrame**. Si bien no son una solución universal para cada problema, proporcionan una base sólida y fácil de usar para la mayoría de las aplicaciones que iremos trabajando.\n"
      ]
    },
    {
      "cell_type": "markdown",
      "metadata": {
        "id": "Ew9sUZAZzHP4",
        "colab_type": "text"
      },
      "source": [
        "## Series\n",
        "\n",
        "Una serie es un objeto matriz unidimensional que contiene una secuencia de valores *(de tipos similares a los tipos NumPy)* y una matriz asociada de etiquetas de datos, denominada **índice**. La serie más simple está formada solo por una matriz de datos:\n",
        "\n"
      ]
    },
    {
      "cell_type": "code",
      "metadata": {
        "id": "MZeLFSM3xAhi",
        "colab_type": "code",
        "colab": {}
      },
      "source": [
        "import pandas as pd\n",
        "from pandas import Series, DataFrame\n",
        "obj = pd.Series([4, 7, -5, 3])\n",
        "obj"
      ],
      "execution_count": 0,
      "outputs": []
    },
    {
      "cell_type": "markdown",
      "metadata": {
        "id": "RXyQ8Efiz42Y",
        "colab_type": "text"
      },
      "source": [
        "En algunas circunstancias es posible que desees crear tus propios labels para los índices, puedes hacerlo de la siguiente forma.\n"
      ]
    },
    {
      "cell_type": "code",
      "metadata": {
        "id": "i4vlZt5u0Jc_",
        "colab_type": "code",
        "colab": {}
      },
      "source": [
        "obj2 = pd.Series([4, 7, -5, 3], index=['d', 'b', 'a', 'c']) # Le agregamos los lables de los índices. El orden se mantiene 1:1\n",
        "obj2"
      ],
      "execution_count": 0,
      "outputs": []
    },
    {
      "cell_type": "markdown",
      "metadata": {
        "id": "76lDgKL30k8c",
        "colab_type": "text"
      },
      "source": [
        "Ahora bien, para que puedo utilizar ese índice? A diferencia de NumPy puedo utilizarlos para referenciar a un valor o un set de valores"
      ]
    },
    {
      "cell_type": "code",
      "metadata": {
        "id": "nH7gGYXQ0gfq",
        "colab_type": "code",
        "colab": {}
      },
      "source": [
        "obj2['a']"
      ],
      "execution_count": 0,
      "outputs": []
    },
    {
      "cell_type": "markdown",
      "metadata": {
        "id": "qWjEhqbN0yHr",
        "colab_type": "text"
      },
      "source": [
        "Usar funciones o operaciones aritméticas como filtrado, multiplicaciones de escalares o arreglos de booleans, perseverá el valor del índice\n"
      ]
    },
    {
      "cell_type": "code",
      "metadata": {
        "id": "GA6ovM2d1CU-",
        "colab_type": "code",
        "colab": {}
      },
      "source": [
        "obj2[obj2 > 0]"
      ],
      "execution_count": 0,
      "outputs": []
    },
    {
      "cell_type": "code",
      "metadata": {
        "id": "c1b_UiTU1DcW",
        "colab_type": "code",
        "colab": {}
      },
      "source": [
        "obj2 * 2"
      ],
      "execution_count": 0,
      "outputs": []
    },
    {
      "cell_type": "markdown",
      "metadata": {
        "id": "uedsokHj1SKC",
        "colab_type": "text"
      },
      "source": [
        "Otra forma de pensar en series podría ser un diccionario de longitud fija, que mapea índices con valores. Puede ser utilizado en muchos contextos.\n"
      ]
    },
    {
      "cell_type": "code",
      "metadata": {
        "id": "GpJ66Xua1gQ4",
        "colab_type": "code",
        "colab": {}
      },
      "source": [
        "sdata = {'Buenos Aires': 35000, 'Rosario': 71000, 'Mendoza': 16000, 'Córdoba': 5000}\n",
        "obj3 = pd.Series(sdata)\n",
        "obj3"
      ],
      "execution_count": 0,
      "outputs": []
    },
    {
      "cell_type": "code",
      "metadata": {
        "id": "16FbL3EU10qf",
        "colab_type": "code",
        "colab": {}
      },
      "source": [
        "provincias = ['Tucumán', 'Buenos Aires', 'Rosario', 'Mendoza']\n",
        "obj4 = pd.Series(sdata, index=provincias)\n",
        "obj4"
      ],
      "execution_count": 0,
      "outputs": []
    },
    {
      "cell_type": "markdown",
      "metadata": {
        "id": "-SIDOhB83I_n",
        "colab_type": "text"
      },
      "source": [
        "Como recuerdan en Python todo se comporta como objetos, y series no son las excepciones. Las series poseen un índice y atributos de nombre, los cuales pueden ser utilizados con otras herramientas de Panda.\n"
      ]
    },
    {
      "cell_type": "code",
      "metadata": {
        "id": "4F0uICA-4Vwy",
        "colab_type": "code",
        "colab": {}
      },
      "source": [
        "obj4.name = 'Población'\n",
        "obj4.index.name = 'Provincias Argentinas'\n",
        "obj4\n"
      ],
      "execution_count": 0,
      "outputs": []
    },
    {
      "cell_type": "markdown",
      "metadata": {
        "id": "YEQGk9px4hmx",
        "colab_type": "text"
      },
      "source": [
        "## DataFrame\n",
        "\n",
        "Un DataFrame representa una tabla rectangular de datos que contiene una colección ordenadas de colunas, cuales pueden ser de diferente tipo de valor (númerico, cadenas, booleanos, etc). El DataFrame tiene un índice para las filas y otro para las columnas. Destrás de escena, lo que sucede es que los datos son almacenados como uno o mas bloques de datos de dos dimensiones.\n"
      ]
    },
    {
      "cell_type": "code",
      "metadata": {
        "id": "S4Pv3ToSWBfc",
        "colab_type": "code",
        "colab": {}
      },
      "source": [
        "data = {'provincia': ['Buenos Aires', 'Buenos Aires', 'Buenos Aires', 'Córdoba', 'Córdoba', 'Córdoba'],\n",
        "        'año': [2000, 2001, 2002, 2001, 2002, 2003],\n",
        "        'pob': [1.5, 1.7, 3.6, 2.4, 2.9, 3.2]}\n",
        "frame = pd.DataFrame(data)"
      ],
      "execution_count": 0,
      "outputs": []
    },
    {
      "cell_type": "markdown",
      "metadata": {
        "id": "PTfM1XbbWpTH",
        "colab_type": "text"
      },
      "source": [
        "Si te encontras trabajando con grandes datasets, el método **head** selecciona las primeras 5 filas del mismo.\n"
      ]
    },
    {
      "cell_type": "code",
      "metadata": {
        "id": "N33_nvugWn0b",
        "colab_type": "code",
        "colab": {}
      },
      "source": [
        "frame.head()"
      ],
      "execution_count": 0,
      "outputs": []
    },
    {
      "cell_type": "markdown",
      "metadata": {
        "id": "zB5cW8wWXAJS",
        "colab_type": "text"
      },
      "source": [
        "Se puede especificar el orden de las columnas"
      ]
    },
    {
      "cell_type": "code",
      "metadata": {
        "id": "S5mJe2D9XDmZ",
        "colab_type": "code",
        "colab": {}
      },
      "source": [
        "pd.DataFrame(data, columns=['año', 'provincia', 'pob']) "
      ],
      "execution_count": 0,
      "outputs": []
    },
    {
      "cell_type": "markdown",
      "metadata": {
        "id": "4J4hVNX7XZ9I",
        "colab_type": "text"
      },
      "source": [
        "Que pasará si enviamos una columna que no posee datos en el DataSet?"
      ]
    },
    {
      "cell_type": "code",
      "metadata": {
        "id": "-w4keC7FXdou",
        "colab_type": "code",
        "colab": {}
      },
      "source": [
        "frame2 = pd.DataFrame(data, columns=['año', 'provincia', 'pob', 'deuda'], \n",
        "                      index=['uno', 'dos', 'tres', 'cuatro','cinco', 'seis'])\n",
        "frame2"
      ],
      "execution_count": 0,
      "outputs": []
    },
    {
      "cell_type": "markdown",
      "metadata": {
        "id": "SW-1guanX2in",
        "colab_type": "text"
      },
      "source": [
        "También podemos obtener información de un Dataset como una serie"
      ]
    },
    {
      "cell_type": "code",
      "metadata": {
        "id": "ptLBNnqWX-zO",
        "colab_type": "code",
        "colab": {}
      },
      "source": [
        "frame2['provincia'] # Le pasamos como parámetro la columna que deseamos visualizar"
      ],
      "execution_count": 0,
      "outputs": []
    },
    {
      "cell_type": "markdown",
      "metadata": {
        "id": "XfpDv5h4YPUe",
        "colab_type": "text"
      },
      "source": [
        "Filas también pueden ser obtenidas por posición mediante el atributo especial **loc**"
      ]
    },
    {
      "cell_type": "code",
      "metadata": {
        "id": "4YR07u1AYa21",
        "colab_type": "code",
        "colab": {}
      },
      "source": [
        "frame2.loc[] # Como hacemos para obtener la tercera fila del dataframe?"
      ],
      "execution_count": 0,
      "outputs": []
    },
    {
      "cell_type": "markdown",
      "metadata": {
        "id": "SfP-OWRWaGfI",
        "colab_type": "text"
      },
      "source": [
        "Las columnas pueden ser modificadas por asignación. Por ejemplo, tomemos la columna vacía **Deuda**, podríamos asinar un escalar o un arreglo de valores:\n"
      ]
    },
    {
      "cell_type": "code",
      "metadata": {
        "id": "5HWLHjyKaUMr",
        "colab_type": "code",
        "colab": {}
      },
      "source": [
        "frame2['deuda'] = np.arange(6.) # Que hace esta función? \n",
        "frame2"
      ],
      "execution_count": 0,
      "outputs": []
    }
  ]
}