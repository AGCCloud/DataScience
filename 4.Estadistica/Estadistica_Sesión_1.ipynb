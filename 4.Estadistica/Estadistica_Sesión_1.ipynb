{
  "nbformat": 4,
  "nbformat_minor": 0,
  "metadata": {
    "kernelspec": {
      "display_name": "Python 3.6",
      "language": "python",
      "name": "python36"
    },
    "language_info": {
      "codemirror_mode": {
        "name": "ipython",
        "version": 3
      },
      "file_extension": ".py",
      "mimetype": "text/x-python",
      "name": "python",
      "nbconvert_exporter": "python",
      "pygments_lexer": "ipython3",
      "version": "3.6.3"
    },
    "colab": {
      "name": "Estadistica Sesión 1.ipynb",
      "provenance": [],
      "toc_visible": true,
      "include_colab_link": true
    }
  },
  "cells": [
    {
      "cell_type": "markdown",
      "metadata": {
        "id": "view-in-github",
        "colab_type": "text"
      },
      "source": [
        "<a href=\"https://colab.research.google.com/github/al34n1x/DataScience/blob/master/4.Estadistica/Estadistica_Sesi%C3%B3n_1.ipynb\" target=\"_parent\"><img src=\"https://colab.research.google.com/assets/colab-badge.svg\" alt=\"Open In Colab\"/></a>"
      ]
    },
    {
      "cell_type": "markdown",
      "metadata": {
        "id": "FhuZLbCTfr2N",
        "colab_type": "text"
      },
      "source": [
        "\n",
        "# Introducción a la estadística\n",
        "\n"
      ]
    },
    {
      "cell_type": "markdown",
      "metadata": {
        "id": "veXoVLy1fr2P",
        "colab_type": "text"
      },
      "source": [
        "## Objetivo\n",
        "\n",
        "La mayoría de ustedes ya habrá realizado estadística en el pasado - quizá sin entrar en mucho detalle. Esta sección se concentrará en:\n",
        "\n",
        "* Enseñarles aplicaciones prácticas de conceptos estadísticos.\n",
        "* Enseñarles la manera de usar Python para encarar el análisis estístico de los datos.\n",
        "* Práctica de algunos gráfico en Python*\n",
        "\n",
        "Este curso **no** se va a centrar en la teoría matemática de la estadística subyacente."
      ]
    },
    {
      "cell_type": "markdown",
      "metadata": {
        "id": "jndfjiSrfr2Q",
        "colab_type": "text"
      },
      "source": [
        "## Qué es la estadística?\n",
        "1. Ciencia que utiliza conjuntos de datos numéricos para obtener, a partir de ellos, inferencias basadas en el cálculo de probabilidades.\n",
        "\"hizo un curso de introducción a la estadística\"\n",
        "2. Estudio que reúne, clasifica y recuenta todos los hechos que tienen una determinada característica en común, para poder llegar a conclusiones a partir de los datos numéricos extraídos.\n",
        "\n",
        "Se compone de métodos para describir y analizar fenómenos no deterministicos.\n",
        "\n",
        "### ¿Qué queremos decir con esto?\n",
        "\n",
        "Fenómenos deterministas: se pueden predecir con precisión:\n",
        "\n",
        "* Órbitas de planetas.\n",
        "* Reacciones químicas.\n",
        "\n",
        "Fenómenos no deterministas: incluyen aleatoriedad:\n",
        "\n",
        "* Alturas de personas en el Reino Unido.\n",
        "* Mediciones de edades minerales en muestra de roca.\n",
        "* Longitudes de un determinado fósil de una determinada localidad.\n"
      ]
    },
    {
      "cell_type": "markdown",
      "metadata": {
        "id": "WJbCwShNfr2S",
        "colab_type": "text"
      },
      "source": [
        "## Poblaciones y distribuciones\n",
        "\n",
        "Población: todo el universo subyacente de posibles valores. ¡Esto normalmente es inalcanzable!\n",
        "\n",
        "* Medidas de altura de todas las personas en el Reino Unido.\n",
        "* Longitudes de CADA espécimen fósil de la localidad.\n",
        "\n",
        "Distribución - forma del histograma de población.\n",
        "\n",
        "Veamos algunos ejemplos:"
      ]
    },
    {
      "cell_type": "code",
      "metadata": {
        "id": "zMUOtmbVfr2U",
        "colab_type": "code",
        "outputId": "5d316805-3b5e-4a11-94fa-b256ce26067e",
        "colab": {
          "base_uri": "https://localhost:8080/",
          "height": 269
        }
      },
      "source": [
        "# Aquí importamos la biblioteca de trazado estándar de matplotlib,\n",
        "#  y le damos el alias 'plt'.\n",
        "from scipy import stats\n",
        "import matplotlib.pyplot as plt\n",
        "\n",
        "# Este comando simplemente garantiza que todas las ventanas matplotlib\n",
        "# se abran en el cuaderno y no como ventanas emergentes\n",
        "%matplotlib inline\n",
        "\n",
        "# Generar distribución normal.\n",
        "x = stats.norm.rvs(size=100000)\n",
        "\n",
        "# Trazar un histograma\n",
        "plt.hist(x, density=True, bins=100)\n",
        "\n",
        "# El histograma usa los datos de entrada de 'x', \n",
        "# los separa en '100' contenedores.\n",
        "\n",
        "#   axis: x0,x1,y0, y1\n",
        "plt.axis([-4, 4, 0, 0.45])\n",
        "\n",
        "plt.show()"
      ],
      "execution_count": 2,
      "outputs": [
        {
          "output_type": "display_data",
          "data": {
            "image/png": "[encoded data removed]",
            "text/plain": [
              "<Figure size 432x288 with 1 Axes>"
            ]
          },
          "metadata": {
            "tags": [],
            "needs_background": "light"
          }
        }
      ]
    },
    {
      "cell_type": "code",
      "metadata": {
        "id": "_mhqq7hRfr2f",
        "colab_type": "code",
        "outputId": "ea5024ef-d7d1-45f6-9de2-191207d61d93",
        "colab": {
          "base_uri": "https://localhost:8080/",
          "height": 269
        }
      },
      "source": [
        "# Generar dsitribución de Wald\n",
        "x = stats.wald.rvs(size=200000)\n",
        "\n",
        "# Trazar un histograma\n",
        "plt.hist(x, density=True, bins=300)\n",
        "plt.axis([0, 5, 0, 1.2])\n",
        "plt.show()"
      ],
      "execution_count": 3,
      "outputs": [
        {
          "output_type": "display_data",
          "data": {
            "image/png": "[encoded data removed]",
            "text/plain": [
              "<Figure size 432x288 with 1 Axes>"
            ]
          },
          "metadata": {
            "tags": [],
            "needs_background": "light"
          }
        }
      ]
    },
    {
      "cell_type": "code",
      "metadata": {
        "id": "cCDG5kLHfr2s",
        "colab_type": "code",
        "outputId": "733dcf6a-e270-4a35-8d56-418665ed0628",
        "colab": {
          "base_uri": "https://localhost:8080/",
          "height": 269
        }
      },
      "source": [
        "# Generar distribución exponencial\n",
        "x = stats.expon.rvs(size=100000)\n",
        "\n",
        "# Trazar un histograma\n",
        "plt.hist(x, density=True, bins=300)\n",
        "plt.axis([0, 5, 0, 1.0])\n",
        "plt.show()\n"
      ],
      "execution_count": 4,
      "outputs": [
        {
          "output_type": "display_data",
          "data": {
            "image/png": "[encoded data removed]",
            "text/plain": [
              "<Figure size 432x288 with 1 Axes>"
            ]
          },
          "metadata": {
            "tags": [],
            "needs_background": "light"
          }
        }
      ]
    },
    {
      "cell_type": "markdown",
      "metadata": {
        "id": "s127uU2ifr2x",
        "colab_type": "text"
      },
      "source": [
        "## Muestra\n",
        "Una muestra es un subconjunto de la población que realmente hemos medido.\n",
        "\n",
        "* Alturas de todas las personas en esta sala.\n",
        "* Longitudes de fósiles en una colección.\n",
        "\n",
        "La estadística implica el uso de muestras para representar poblaciones.\n",
        "\n",
        "¡Las muestras deben ser imparciales para que las estadísticas sean de utilidad!\n",
        "\n",
        "## Muestreo sesgado\n",
        "Ejemplo popular: en las [Elecciones presidenciales de EE. UU. De 1936](http://en.wikipedia.org/wiki/United_States_presidential_election,_1936), Literary Digest realizó una encuesta preelectoral masiva. Enviaron 10 millones de cuestionarios a la lista de nombres obtenidos de las guías telefónicas y las listas de registro de automóviles. La encuesta predijo un derrumbe republicano ... el resultado real fue el mayor derrumbe demócrata en el siglo XX: Roosevelt recibió el 98,49% de los votos electorales, el porcentaje más alto desde la elección incontestada de 1820. [Se cometieron dos errores clave](http://en.wikipedia.org/wiki/United_States_presidential_election,_1936#Campaign):\n",
        "(1) solo los que tenían mejores automóviles y teléfonos y eran estadísticamente más propensos a votar por los republicanos; (2) como la encuesta era voluntaria, generalmente solo los votantes realmente apasionados que no estaban contentos con el status quo (es decir, demócrata) respondieron a la encuesta.\n",
        "\n",
        "¿Es probable que nuestro primer conjunto de muestras también esté sesgado?\n",
        "\n",
        "* Alturas de todas las personas en esta sala.\n",
        "* Longitudes de fósiles en una colección.\n",
        "\n",
        "¿Hay mejores formas de tomar muestras de estas poblaciones?\n",
        "\n",
        "No voy a hablar más en este curso sobre la necesidad de muestras no sesgadas (aleatorias). Sin embargo, el sesgo de muestra puede meterte en serios problemas, así que tenlo en cuenta (considera estos otros ejemplos divertidos: sesgo de muestreo en el registro fósil, el efecto Caveman; o el sesgo de supervivencia).\n",
        "![picture](https://www.lucasdima.com/wp-content/uploads/2019/01/Survivorship-bias.png)\n",
        "\n"
      ]
    },
    {
      "cell_type": "markdown",
      "metadata": {
        "id": "0IskHqEJfr2y",
        "colab_type": "text"
      },
      "source": [
        "## Ramas de estadísticas\n",
        "\n",
        "Dos ramas / clases de estadísticas:\n",
        "\n",
        "**Estadísticas descriptivas:** Números utilizados para resumir muestras (y, por lo tanto, con suerte poblaciones) p. promedios\n",
        "\n",
        "**Estadísticas inferenciales:** Métodos para extraer conclusiones de muestras o combinaciones de muestras, ej. \"Según mis muestras, ¿qué tan probable es que la altura y el tamaño del zapato estén relacionados?\"\n",
        "\n",
        "En este curso nos enfocaremos en las estadísticas descriptivas."
      ]
    },
    {
      "cell_type": "markdown",
      "metadata": {
        "id": "Y1e6JqAQfr20",
        "colab_type": "text"
      },
      "source": [
        "## Promedios\n",
        "\n",
        "Los promedios son *medidas de tendencia central*. Existen varios tipos de promedio. Los más utilizados son:\n",
        "\n",
        "* **Media** (técnicamente media aritmética)."
      ]
    },
    {
      "cell_type": "code",
      "metadata": {
        "id": "rGJ8uzLSfr21",
        "colab_type": "code",
        "outputId": "648409fe-b422-4538-85c9-b7f487bd02f3",
        "colab": {
          "base_uri": "https://localhost:8080/",
          "height": 34
        }
      },
      "source": [
        "import numpy as np \n",
        "\n",
        "values = np.array([1, 3, 5, 2, 4, 7, 2, 6, 8, 3, 2, 3, 5])\n",
        "\n",
        "# Here we use conditional formatting. We add curly braces in the string, and whatever \n",
        "# is in '.format()' will be inserted in their place.\n",
        "print (\"Mean = {}\".format(np.mean(values)))"
      ],
      "execution_count": 5,
      "outputs": [
        {
          "output_type": "stream",
          "text": [
            "Mean = 3.923076923076923\n"
          ],
          "name": "stdout"
        }
      ]
    },
    {
      "cell_type": "markdown",
      "metadata": {
        "id": "mTIYE-F-fr2-",
        "colab_type": "text"
      },
      "source": [
        "* **Mediana**: valor medio cuando se ordenan los números."
      ]
    },
    {
      "cell_type": "code",
      "metadata": {
        "id": "qP1wBV_Vfr2_",
        "colab_type": "code",
        "outputId": "f928d9db-3d4e-4a06-ca5b-0cebcac4fe15",
        "colab": {
          "base_uri": "https://localhost:8080/",
          "height": 34
        }
      },
      "source": [
        "# Here there are two sets of braces, and format has two arguments. This way you can\n",
        "# insert multiple strings, lists, and floats into a string!\n",
        "print (\"Sorted array = {}, Median = {}\".format(np.sort(values), np.median(values)))\n"
      ],
      "execution_count": 6,
      "outputs": [
        {
          "output_type": "stream",
          "text": [
            "Sorted array = [1 2 2 2 3 3 3 4 5 5 6 7 8], Median = 3.0\n"
          ],
          "name": "stdout"
        }
      ]
    },
    {
      "cell_type": "markdown",
      "metadata": {
        "id": "zWmD3EBQfr3D",
        "colab_type": "text"
      },
      "source": [
        "En este ejemplo, hay 13 números, por lo que la mediana es el $ 7 ^ {mo} $ número en la matriz ordenada. Si hubiera 14 números (por ejemplo, si se agrega el número 10 a la matriz), entonces la mediana sería la media de los valores $ 7 ^ {mo} $ y $ 8 ^ {vo} $, es decir, 3.5 en este caso.\n",
        "\n",
        "* **Moda**: valor más común."
      ]
    },
    {
      "cell_type": "code",
      "metadata": {
        "id": "CYUh5z7tfr3E",
        "colab_type": "code",
        "outputId": "7c778859-1915-4687-c199-4f4fb64ecc59",
        "colab": {
          "base_uri": "https://localhost:8080/",
          "height": 34
        }
      },
      "source": [
        "# Aunque no hemos ido muy lejos, rápidamente encontramos que tenemos que buscar\n",
        "# el Módulo de estadísticas de python para proporcionar un método para el modo.\n",
        "from scipy import stats\n",
        "\n",
        "mode, count = stats.mode(values)\n",
        "\n",
        "print (\"Moda = {}\".format(mode))\n"
      ],
      "execution_count": 7,
      "outputs": [
        {
          "output_type": "stream",
          "text": [
            "Moda = [2]\n"
          ],
          "name": "stdout"
        }
      ]
    },
    {
      "cell_type": "markdown",
      "metadata": {
        "id": "Blx2DB1sfr3J",
        "colab_type": "text"
      },
      "source": [
        "Tenga en cuenta que para cuando hay varios modos, solo se devuelve el primero.\n",
        "\n",
        "La media y la mediana son los dos promedios más comunes. Las ventajas de la mediana sobre la media son:\n",
        "\n",
        "* Puede ser mejor para distribuciones sesgadas.\n",
        "* Reduce el efecto de los valores atípicos.\n",
        "* No es necesario conocer los valores de los valores finales.\n",
        "\n",
        "En la práctica, el modo se usa mucho menos.\n",
        "\n"
      ]
    },
    {
      "cell_type": "markdown",
      "metadata": {
        "id": "_7-kHpu4fr3K",
        "colab_type": "text"
      },
      "source": [
        "## Medidas de dispersión\n",
        "\n",
        "Hay mucho más en una distribución que el promedio. Estas muestras tienen la misma media y mediana:"
      ]
    },
    {
      "cell_type": "code",
      "metadata": {
        "id": "HySqoPU-fr3L",
        "colab_type": "code",
        "outputId": "fe16b21a-1c14-4739-b701-057390856f73",
        "colab": {
          "base_uri": "https://localhost:8080/",
          "height": 51
        }
      },
      "source": [
        "values1 = np.array([-0.2, -0.1, -0.1, 0.0, 0.0, 0.0 , 0.1 , 0.1 , 0.2])\n",
        "print (\"values1 mean = {}, median = {}\".format(np.mean(values1), np.median(values1)))\n",
        "\n",
        "values2 = np.array([-1000, -500, 0, 500, 1000])\n",
        "print (\"values2 mean = {}, median = {}\".format(np.mean(values2), np.median(values2)))"
      ],
      "execution_count": 8,
      "outputs": [
        {
          "output_type": "stream",
          "text": [
            "values1 mean = 0.0, median = 0.0\n",
            "values2 mean = 0.0, median = 0.0\n"
          ],
          "name": "stdout"
        }
      ]
    },
    {
      "cell_type": "markdown",
      "metadata": {
        "id": "XGVc3Z0sfr3R",
        "colab_type": "text"
      },
      "source": [
        "...pero tienen dispersiones bien diferentes..."
      ]
    },
    {
      "cell_type": "code",
      "metadata": {
        "id": "MkaUVyhhfr3R",
        "colab_type": "code",
        "outputId": "c02aff88-2c71-4586-b134-d20808623da2",
        "colab": {
          "base_uri": "https://localhost:8080/",
          "height": 51
        }
      },
      "source": [
        "print (\"values1 spread = \", np.ptp(values1)) \n",
        "print (\"values1 spread = \", np.ptp(values2))\n",
        "# numpy.ptp(a, axis=None, out=None, keepdims=<no value>)[source]\n",
        "# Range of values (maximum - minimum) along an axis.\n",
        "# The name of the function comes from the acronym for ‘peak to peak’."
      ],
      "execution_count": 9,
      "outputs": [
        {
          "output_type": "stream",
          "text": [
            "values1 spread =  0.4\n",
            "values1 spread =  2000\n"
          ],
          "name": "stdout"
        }
      ]
    },
    {
      "cell_type": "markdown",
      "metadata": {
        "id": "J8Kt8yubfr3W",
        "colab_type": "text"
      },
      "source": [
        "## Percentil\n",
        "Esto se explica mejor con las distribuciones: primero definamos una distribución normal:"
      ]
    },
    {
      "cell_type": "code",
      "metadata": {
        "id": "ksjaP4qufr3X",
        "colab_type": "code",
        "outputId": "f75a06d1-0c0e-4823-bcf6-98f8c5fbf18a",
        "colab": {
          "base_uri": "https://localhost:8080/",
          "height": 265
        }
      },
      "source": [
        "mu, std = 0, 1\n",
        "xmin, xmax = [-4, 4]\n",
        "x = np.linspace(xmin, xmax, 100)\n",
        "p = stats.norm.pdf(x, mu, std)\n",
        "plt.plot(x, p, 'k')\n",
        "plt.show()"
      ],
      "execution_count": 10,
      "outputs": [
        {
          "output_type": "display_data",
          "data": {
            "image/png": "[encoded data removed]",
            "text/plain": [
              "<Figure size 432x288 with 1 Axes>"
            ]
          },
          "metadata": {
            "tags": [],
            "needs_background": "light"
          }
        }
      ]
    },
    {
      "cell_type": "markdown",
      "metadata": {
        "id": "VmBuc7c1fr3e",
        "colab_type": "text"
      },
      "source": [
        "El percentil 20 indica que el 20% de todos los valores son inferiores a este valor, la región sombreada a continuación:"
      ]
    },
    {
      "cell_type": "code",
      "metadata": {
        "id": "W9huy4cLfr3f",
        "colab_type": "code",
        "outputId": "c9313db3-d54c-41f0-b7e6-5befc7e7ea69",
        "colab": {
          "base_uri": "https://localhost:8080/",
          "height": 265
        }
      },
      "source": [
        "plt.plot(x, p, 'k')\n",
        "plt.fill_between(x, 0, p, interpolate=True,\n",
        "                 where=(x<=stats.norm.ppf(0.2)))\n",
        "plt.show()"
      ],
      "execution_count": 11,
      "outputs": [
        {
          "output_type": "display_data",
          "data": {
            "image/png": "[encoded data removed]",
            "text/plain": [
              "<Figure size 432x288 with 1 Axes>"
            ]
          },
          "metadata": {
            "tags": [],
            "needs_background": "light"
          }
        }
      ]
    },
    {
      "cell_type": "markdown",
      "metadata": {
        "id": "kM1tr2T8fr3j",
        "colab_type": "text"
      },
      "source": [
        "Hay cuatro percentiles que reciben su propio nombre:\n",
        "* El percentil 25 también se conoce como el primer cuartil (Q1)\n",
        "* Percentil 50 como la mediana o el segundo cuartil (Q2)\n",
        "* Percentil 75 como el tercer cuartil (Q3)\n",
        "* El rango intercuartilco (IQ) varía de Q1 a Q3."
      ]
    },
    {
      "cell_type": "code",
      "metadata": {
        "id": "64Yeq8Shfr3k",
        "colab_type": "code",
        "outputId": "980a18f1-6f52-4070-c9d4-3ba53aabe185",
        "colab": {
          "base_uri": "https://localhost:8080/",
          "height": 265
        }
      },
      "source": [
        "# First quartile (Q1)\n",
        "plt.plot(x, p, 'k')\n",
        "plt.fill_between(x, 0, p, interpolate=True,\n",
        "                 where=(x<=stats.norm.ppf(0.25)))\n",
        "plt.show()"
      ],
      "execution_count": 12,
      "outputs": [
        {
          "output_type": "display_data",
          "data": {
            "image/png": "[encoded data removed]",
            "text/plain": [
              "<Figure size 432x288 with 1 Axes>"
            ]
          },
          "metadata": {
            "tags": [],
            "needs_background": "light"
          }
        }
      ]
    },
    {
      "cell_type": "code",
      "metadata": {
        "id": "vsbWKE8qfr3q",
        "colab_type": "code",
        "outputId": "2212dd70-d9a7-4e74-9b69-6b13f62eaf1d",
        "colab": {
          "base_uri": "https://localhost:8080/",
          "height": 265
        }
      },
      "source": [
        "# Median or second quartile (Q2)\n",
        "plt.plot(x, p, 'k')\n",
        "plt.fill_between(x, 0, p, interpolate=True,\n",
        "                 where=(x<=stats.norm.ppf(0.5)))\n",
        "plt.show()"
      ],
      "execution_count": 13,
      "outputs": [
        {
          "output_type": "display_data",
          "data": {
            "image/png": "[encoded data removed]",
            "text/plain": [
              "<Figure size 432x288 with 1 Axes>"
            ]
          },
          "metadata": {
            "tags": [],
            "needs_background": "light"
          }
        }
      ]
    },
    {
      "cell_type": "code",
      "metadata": {
        "id": "_PI-nVEKfr3u",
        "colab_type": "code",
        "outputId": "655eebdd-abcd-4c94-fe1e-fd6c038b5e8c",
        "colab": {
          "base_uri": "https://localhost:8080/",
          "height": 265
        }
      },
      "source": [
        "# Third quartile (Q3)\n",
        "plt.plot(x, p, 'k')\n",
        "plt.fill_between(x, 0, p, interpolate=True,\n",
        "                 where=(x<=stats.norm.ppf(0.75)))\n",
        "plt.show()"
      ],
      "execution_count": 14,
      "outputs": [
        {
          "output_type": "display_data",
          "data": {
            "image/png": "[encoded data removed]",
            "text/plain": [
              "<Figure size 432x288 with 1 Axes>"
            ]
          },
          "metadata": {
            "tags": [],
            "needs_background": "light"
          }
        }
      ]
    },
    {
      "cell_type": "code",
      "metadata": {
        "id": "o2YlroAqfr3y",
        "colab_type": "code",
        "outputId": "fa8e5de2-25e7-4968-bf9f-3d2beff19931",
        "colab": {
          "base_uri": "https://localhost:8080/",
          "height": 299
        }
      },
      "source": [
        "# * Interquartile (IQ) range range from Q2 to Q3.\n",
        "plt.plot(x, p, 'k')\n",
        "\n",
        "plt.fill_between(x, 0, p, interpolate=True,\n",
        "                 where=((x>=stats.norm.ppf(0.25)) & (x<=stats.norm.ppf(0.75))))\n",
        "print (stats.norm.ppf(0.25))\n",
        "print (stats.norm.ppf(0.75))\n",
        "\n",
        "\n",
        "plt.show()"
      ],
      "execution_count": 15,
      "outputs": [
        {
          "output_type": "stream",
          "text": [
            "-0.6744897501960817\n",
            "0.6744897501960817\n"
          ],
          "name": "stdout"
        },
        {
          "output_type": "display_data",
          "data": {
            "image/png": "[encoded data removed]",
            "text/plain": [
              "<Figure size 432x288 with 1 Axes>"
            ]
          },
          "metadata": {
            "tags": [],
            "needs_background": "light"
          }
        }
      ]
    },
    {
      "cell_type": "markdown",
      "metadata": {
        "id": "JrwItaeZfr31",
        "colab_type": "text"
      },
      "source": [
        "## Varianza y desviación estándar\n",
        "\n",
        "Estas son las medidas de propagación más utilizadas. La varianza muestral es:\n",
        "\n",
        "$$ v = \\frac{1}{N-1} \\sum_{i=1}^{N} \\left( x_i - \\bar{x}\\right)^2 ,$$\n",
        "\n",
        "donde $N$ es el número de mediciones, $x_i$ es cada medición individual y $\\bar{x}$ es la media de la muestra. Podemos interpretar esta expresión (casi) como el promedio de distancias al cuadrado de la media muestral. De hecho, esto intuitivamente nos da la dispersión. Sin embargo, en lugar del esperado $\\frac{1}{N}$ tenemos $\\frac{1}{N-1}$. Esto se conoce como corrección de Bessel y corrige el sesgo en la estimación de la varianza de la población.\n",
        "\n",
        "El desvío estándar de la muestra es la raíz cuadrada de la varianza de la muestra: $s = \\sqrt{v}$. Da una medida de dispersión en las mismas unidades que las medidas mismas."
      ]
    },
    {
      "cell_type": "markdown",
      "metadata": {
        "id": "w0Qsp2c9fr33",
        "colab_type": "text"
      },
      "source": [
        "# Ejercicio 1.1\n",
        "\n",
        "\n",
        "\n",
        "1. Inspeccione el archivo [qzpercentages.csv](https://github.com/al34n1x/DataScience/blob/master/data/qzpercentages.csv).\n",
        "2. Escriba un programa para leer los datos. **Antes de comenzar a escribir su propia función de lectura considere si ya existe una * forma correcta * de hacerlo.** El mismo sabio consejo se aplica a todas las tareas que se dan aquí.\n",
        "3. Calcule la media, la mediana, el rango, el rango intercuartil, la desviación estándar, la varianza y la moda.\n",
        "\n"
      ]
    },
    {
      "cell_type": "code",
      "metadata": {
        "id": "kqtMgPK2fr34",
        "colab_type": "code",
        "colab": {}
      },
      "source": [
        "# Escriba su solución aquí...\n"
      ],
      "execution_count": 0,
      "outputs": []
    },
    {
      "cell_type": "markdown",
      "metadata": {
        "id": "SPBPczG1fr38",
        "colab_type": "text"
      },
      "source": [
        "# Trazar gráficos\n",
        "\n",
        "Vamos a usar matplotlib\n"
      ]
    },
    {
      "cell_type": "markdown",
      "metadata": {
        "id": "enehwjfofr4B",
        "colab_type": "text"
      },
      "source": [
        "## Gráfica de barras\n",
        "\n",
        "Los gráficos de barras son un tipo de gráfico común. Se utilizan para trazar datos discretos, por ejemplo:\n",
        "\n",
        "* Tamaño del zapato.\n",
        "* Países.\n",
        "\n",
        "Los gráficos de barras no deben confundirse con los histogramas. En el ejemplo aquí tenemos especies fósiles de cierta localidad."
      ]
    },
    {
      "cell_type": "code",
      "metadata": {
        "id": "NbauoHS5fr4C",
        "colab_type": "code",
        "outputId": "5f2dfd80-2a85-4625-f4c1-f839e4df3650",
        "colab": {
          "base_uri": "https://localhost:8080/",
          "height": 353
        }
      },
      "source": [
        "# Programa de muestra para gráfico de barras de abundancias relativas de 5 especies de fósiles de una localidad\n",
        "\n",
        "# Hallazgos de cada fósil\n",
        "bardata = np.array([121, 59, 16, 20, 81])       \n",
        "species=[\"Apatobolus micula\", \"Lingulella davisii\", \"Divobolus quadratus\",\n",
        "         \"Tarphyteina taylori\", \"Bathmoleca addisoni\"]\n",
        "\n",
        "# Colores para usar en el gráfico de barras\n",
        "# colours=[\"red\", \"green\", \"blue\", \"orange\", \"purple\"] \n",
        "colours=['r', '#eeefff', \"blue\", (.5, 0, .1), '0.75']\n",
        "\n",
        "# admite nombres o iniciales de colores básicos\n",
        "# valores en hex (2 posiciones para r,g,b) y opcionalmente dos más para alpha\n",
        "# tupla con un número entre 0 y 1 para r,g,b y un valor opcional para alpha\n",
        "\n",
        "\n",
        "# Configurar gráfico con 5 barras usando mis valores y colores\n",
        "plt.bar([1, 2, 3, 4, 5], bardata, 1, 0, color=colours)\n",
        "\n",
        "# Agregar etiquetas de datos al eje x\n",
        "plt.xticks([1, 2, 3, 4, 5],species, rotation=45, style='italic')\n",
        "\n",
        "# Título para el eje y.\n",
        "plt.ylabel(\"Number of specimens found\")\n",
        "\n",
        "# Título del gráfico\n",
        "plt.title(\"Brachiopod fossils from locality #23\", weight='bold', color=(.5, .1, .1))\n",
        "plt.show()\n"
      ],
      "execution_count": 17,
      "outputs": [
        {
          "output_type": "display_data",
          "data": {
            "image/png": "[encoded data removed]",
            "text/plain": [
              "<Figure size 432x288 with 1 Axes>"
            ]
          },
          "metadata": {
            "tags": [],
            "needs_background": "light"
          }
        }
      ]
    },
    {
      "cell_type": "markdown",
      "metadata": {
        "id": "KHoQ-oYKfr4G",
        "colab_type": "text"
      },
      "source": [
        "## Histogramas\n",
        "\n",
        "Los histogramas son una forma de resumir distribuciones. La distribución se divide en categorías o *bins*, generalmente de igual tamaño. El tamaño de los contenedores es arbitrario, lo que funcione mejor para la tarea en cuestión.\n",
        "\n",
        "Se cuenta el número de muestras que caen en cada contenedor: esta es la frecuencia. Luego se trazan como rectángulos adyacentes similares a un gráfico de barras. El perfil de un histograma se aproxima a la distribución de probabilidad de la población.\n",
        "\n"
      ]
    },
    {
      "cell_type": "markdown",
      "metadata": {
        "id": "Mf7kVxHXfr4G",
        "colab_type": "text"
      },
      "source": [
        "# Ejercicio 1.2\n",
        "\n",
        "Genere un histograma de [qzpercentages.csv](https://github.com/al34n1x/DataScience/blob/master/data/qzpercentages.csv).\n",
        "\n",
        "Su histograma debe incluir las siguientes características:\n",
        "\n",
        "1. Rotular los ejes x e y.\n",
        "2. Necesita arreglar las etiquetas del eje x para asegurarse de que todos los contenedores estén etiquetados.\n",
        "3. Es necesario arreglar los ticks del eje y para evitar que '0' se estrelle contra '20'.\n",
        "4. Especifique el número de contenedores.\n",
        "5. Incrementa el grosor de la línea en su trazado.\n",
        "6. Especifique el color.\n",
        "7. Añade un título."
      ]
    },
    {
      "cell_type": "code",
      "metadata": {
        "id": "_axW0UiUfr4I",
        "colab_type": "code",
        "colab": {}
      },
      "source": [
        "# Su solución aquí"
      ],
      "execution_count": 0,
      "outputs": []
    },
    {
      "cell_type": "markdown",
      "metadata": {
        "id": "_ID5VORofr4N",
        "colab_type": "text"
      },
      "source": [
        "# Ejercicio 1.3\n",
        "\n",
        "Ahora que ha hecho un gráfico de barras y un histograma, intentemos hacer otro gráfico estadístico simple.\n",
        "¡Un gráfico circular! Como sabe, los gráficos circulares son una forma sencilla de mostrar los tamaños relativos de datos en un\n",
        "conjunto dado Los gráficos circulares son fáciles de hacer en matplotlib y solo requieren una función. La mayoría de las funciones en matplotlib usan argumentos similares, si no idénticos, para hacer ciertas cosas, como 'color' en el ejemplo del gráfico de barras. ¡Esto se puede usar para descifrar qué argumentos podría tomar una función!\n",
        "\n",
        "Aunque no hay ejemplos de gráficos circulares en esta página, es relativamente simple y se puede encontrar en los documentos de matplotlib [aquí](http://matplotlib.org/api/pyplot_api.html). La función es matplotlib.pylot.pie (...)\n",
        "\n",
        "Use los datos a continuación y:\n",
        "\n",
        "1. Haz un gráfico circular\n",
        "2. Haga el gráfico circular circular y no una elipse\n",
        "3. Haz que el gráfico circular use los colores correctos para que la broma funcione\n",
        "4. Gire la tabla de modo que el chiste sea claro\n",
        "5. Agregue etiquetas a cada sección, de modo que cualquiera pueda obtenerla\n",
        "6. Agregue un título como la guinda del pastel\n",
        "\n",
        "**BONUS**\n",
        "7. 'explotar' la pequeña cuña y darle sombra.\n",
        "\n",
        "**PISTA**\n",
        "\n",
        "Comience de manera simple y aumente. RECUERDE: Los documentos en línea le darán la función con TODOS\n",
        "Sus posibles argumentos. Sin embargo, solo aquellos sin un signo igual (por ejemplo, plt.xxx (X, etiqueta = ...)) son obligatorios (X en este caso). Aquellos con un signo igual (etiqueta) no son necesarios para que la función funcione, pero permiten más\n",
        "personalización si lo desea.\n",
        "\n",
        "La mayoría de los trucos que usará aquí son aplicables en otras parcelas y figuras a lo largo de este curso, no los olvide, ya que pueden facilitarle la vida más adelante.\n",
        "\n"
      ]
    },
    {
      "cell_type": "code",
      "metadata": {
        "id": "WMrGQTEgfr4O",
        "colab_type": "code",
        "colab": {}
      },
      "source": [
        "import matplotlib.pyplot as plt\n",
        " \n",
        "# This is your data to plot\n",
        "data = np.array([['Pacman','not Pacman'],[270, 90]])\n"
      ],
      "execution_count": 0,
      "outputs": []
    }
  ]
}