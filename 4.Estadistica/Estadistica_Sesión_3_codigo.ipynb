{
  "nbformat": 4,
  "nbformat_minor": 0,
  "metadata": {
    "kernelspec": {
      "name": "python3",
      "display_name": "Python 3"
    },
    "colab": {
      "name": "Estadistica Sesión 3.ipynb",
      "provenance": [],
      "include_colab_link": true
    }
  },
  "cells": [
    {
      "cell_type": "markdown",
      "metadata": {
        "id": "view-in-github",
        "colab_type": "text"
      },
      "source": [
        "<a href=\"https://colab.research.google.com/github/al34n1x/DataScience/blob/master/4.Estadistica/Estadistica_Sesi%C3%B3n_3_codigo.ipynb\" target=\"_parent\"><img src=\"https://colab.research.google.com/assets/colab-badge.svg\" alt=\"Open In Colab\"/></a>"
      ]
    },
    {
      "cell_type": "markdown",
      "metadata": {
        "id": "2It4OM1uvWwW",
        "colab_type": "text"
      },
      "source": [
        "# Intro a la estadística (Sesión 3)\n",
        "\n",
        "---\n",
        "\n"
      ]
    },
    {
      "cell_type": "markdown",
      "metadata": {
        "id": "3HSW8WUsvWwY",
        "colab_type": "text"
      },
      "source": [
        "## Estadística inferencial\n",
        "\n",
        "Teniendo en cuenta los datos a continuación, ¿cómo respondemos preguntas como: ¿es el tamaño de grano mayor en el depósito B que en el depósito A?\n",
        "\n",
        "![grain size](https://github.com/al34n1x/DataScience/blob/master/img/example-grain-size.png?raw=true)\n",
        "\n",
        "Interesado en saber si los niveles de energía eran diferentes en los depósitos A y B. Esto tendrá relación con las teorías de cómo se formaron. La muestra de B tiene una media más alta, pero ¿es solo una variación casual?\n",
        "\n",
        "Para responder a esta pregunta, nosotros:\n",
        "\n",
        "* Formular hipótesis formales.\n",
        "* Aplicar prueba de hipótesis estadística apropiada."
      ]
    },
    {
      "cell_type": "markdown",
      "metadata": {
        "id": "6uUr5hhovWwb",
        "colab_type": "text"
      },
      "source": [
        "## Hipótesis\n",
        "\n",
        "Formulamos dos hipótesis:\n",
        "La *hipótesis nula* (H0):\n",
        "\n",
        "> *No hay diferencia en el tamaño medio máximo de grano para las muestras obtenidas de los depósitos A y B.*\n",
        "\n",
        "... y una *hipótesis alternativa* (H1):\n",
        "\n",
        "> *El tamaño medio máximo de grano es mayor en la muestra B que en la muestra A.*\n",
        "\n",
        "Solo acepte H1 si es muy poco probable que H0 pueda explicar nuestras observaciones; de lo contrario, rechace H1."
      ]
    },
    {
      "cell_type": "markdown",
      "metadata": {
        "id": "cBEMUPGFvWwd",
        "colab_type": "text"
      },
      "source": [
        "## Prueba de hipótesis\n",
        "\n",
        "Existen muchos tipos diferentes de pruebas estadísticas:\n",
        "\n",
        "* Para probar diferentes tipos de hipótesis.\n",
        "* Para manejar diferentes tipos de datos."
      ]
    },
    {
      "cell_type": "markdown",
      "metadata": {
        "id": "L_5lzIU5vWwe",
        "colab_type": "text"
      },
      "source": [
        "### Prueba T de Student\n",
        "\n",
        "[La estadística t fue introducida en 1908 por William Sealy Gosset, un químico que trabajaba para la fábrica de cerveza Guinness en Dublín, Irlanda (\"Student\" era su seudónimo).](http://en.wikipedia.org/wiki/Student%27s_t-test) La prueba T de Student accede a la probabilidad de que dos muestras tengan la misma media subyacente. Python proporciona el método\n",
        "[scipy.stats.ttest_ind](http://docs.scipy.org/doc/scipy/reference/generated/scipy.stats.ttest_ind.html). Esta es una prueba para la hipótesis nula de que 2 muestras independientes tienen valores promedio (esperados) idénticos. Esta prueba supone que las poblaciones tienen variaciones idénticas.\n",
        "\n",
        "* Toma dos matrices de valores (es decir, dos muestras).\n",
        "* Devuelve *t-statistic*, que describe cuán diferentes son las medias.\n",
        "* Devuelve *valor p*, le indica la probabilidad de observar lo que hicimos si la hipótesis nula es cierta.\n",
        "\n",
        "En el ejemplo de tamaño de grano anterior, el estadístico t y los valores p son -1.1 y 0.28 respectivamente. **¿Es una probabilidad de 0.28 suficiente para rechazar H0?**"
      ]
    },
    {
      "cell_type": "code",
      "metadata": {
        "id": "-V5bcysTvWwg",
        "colab_type": "code",
        "colab": {
          "base_uri": "https://localhost:8080/",
          "height": 54
        },
        "outputId": "56b47748-3d82-493f-8c65-27bb733e5fbb"
      },
      "source": [
        "# Nuevamente, hagamos un ejemplo trivial para asegurarnos de que sabemos lo que está sucediendo allí. \n",
        "import scipy.stats as stats\n",
        "\n",
        "# Genero dos conjuntos de datos aleatorios con una distribución normal\n",
        "# y la misma media.\n",
        "d1 = stats.norm.rvs(size=100000)\n",
        "d2 = stats.norm.rvs(size=100000)\n",
        "\n",
        "# ttest_ind es una prueba de dos lados para la hipótesis nula de que 2 muestras \n",
        "# independientes tienen valores promedio (esperados) idénticos.\n",
        "t_statistic, p_value = stats.ttest_ind(d1, d2)\n",
        "print (\"t-statistic = \", t_statistic)\n",
        "print (\"p-value = \", p_value)"
      ],
      "execution_count": 47,
      "outputs": [
        {
          "output_type": "stream",
          "text": [
            "t-statistic =  1.211746362285783\n",
            "p-value =  0.2256109176729592\n"
          ],
          "name": "stdout"
        }
      ]
    },
    {
      "cell_type": "markdown",
      "metadata": {
        "id": "9OUakyQIvWwr",
        "colab_type": "text"
      },
      "source": [
        "## Valor P\n",
        "\n",
        "El valor p se usa para determinar la probabilidad de que la hipótesis nula fuera verdadera: es la probabilidad de observar un estadístico de prueba más extremo en la dirección de la hipótesis alternativa. Por ejemplo, si el valor p es muy pequeño, entonces la hipótesis nula es \"improbable\". Si el valor p es mayor que algún umbral preestablecido, entonces se considera \"probable\".\n",
        "\n",
        "Por lo tanto, si el valor p es menor que (o igual a) $\\alpha$, entonces la hipótesis nula se rechaza a favor de la hipótesis alternativa. Y, si el valor P es mayor que $ \\alpha $, entonces la hipótesis nula no se rechaza. Comúnmente, el umbral se establece en $ p = 0.05 $, ¡pero es arbitrario!\n",
        "\n",
        "Los pasos involucrados en el uso del enfoque del valor P para realizar cualquier prueba de hipótesis son:\n",
        "\n",
        "* Especifique las hipótesis nulas y alternativas y elija la prueba adecuada.\n",
        "* Decide el nivel de significación para el valor p, $ \\alpha $.\n",
        "* Calcular el valor del estadístico de prueba y el valor p.\n",
        "* Considere, si la hipótesis nula es verdadera, ¿cuál es la probabilidad de que observemos un estadístico de prueba más extremo en la dirección de la hipótesis alternativa que lo que hicimos? Observe cómo esta pregunta es equivalente a la pregunta respondida en los juicios penales: \"Si el acusado es inocente, ¿cuál es la posibilidad de que observemos evidencia criminal tan extrema?\"\n",
        "* Si el valor p es menor que (o igual a) $ \\alpha $, rechace la hipótesis nula a favor de la hipótesis alternativa. De lo contrario, acepte la hipótesis nula.\n",
        "\n",
        "> En 2012, es probable que haya escuchado en las noticias el descubrimiento del bosón de Higgs. La frase *five-sigma* se usó para describir la fuerza del descubrimiento. Este es un valor p de 3x10$^{-7} $. [Leer más.](Http://blogs.scientificamerican.com/observations/five-sigmawhats-that/)\n",
        "\n",
        "En el ejemplo de tamaño de grano anterior, el valor p es 0.28, que está muy por encima del nivel significativo de 0.05. Por lo tanto, se dice que el resultado es *no significativo*: evidencia insuficiente para rechazar H0."
      ]
    },
    {
      "cell_type": "markdown",
      "metadata": {
        "id": "S-bZgO5vvWws",
        "colab_type": "text"
      },
      "source": [
        "## Colas y niveles de significación\n",
        "\n",
        "**Prueba de una cola**:\n",
        "Formule la hipótesis H1: *El tamaño medio máximo de grano es mayor en la muestra B que en la muestra A*. Ahora estamos probando si la media de B es mayor que la media de A, no es diferente de la media de A.\n",
        "\n",
        "La figura a continuación ilustra la distribución de todos los valores t posibles: el resultado es significativo si el valor cae en la región azul.\t"
      ]
    },
    {
      "cell_type": "code",
      "metadata": {
        "id": "NszMQCvovWwt",
        "colab_type": "code",
        "colab": {
          "base_uri": "https://localhost:8080/",
          "height": 265
        },
        "outputId": "c2067e45-14de-4d9d-8889-f5cfad698d68"
      },
      "source": [
        "import numpy as np\n",
        "import matplotlib.pyplot as plt\n",
        "\n",
        "n = 100\n",
        "df = n-1\n",
        "x = np.linspace(stats.t.ppf(0.001, df), stats.t.ppf(0.999, df), n)\n",
        "p = stats.t.pdf(x, df)\n",
        "\n",
        "plt.plot(x, p, 'k')\n",
        "plt.fill_between(x, 0, p, interpolate=True,\n",
        "                 where=(x<=stats.t.ppf(0.05, df)))\n",
        "plt.show()"
      ],
      "execution_count": 48,
      "outputs": [
        {
          "output_type": "display_data",
          "data": {
            "image/png": "[encoded data removed]",
            "text/plain": [
              "<Figure size 432x288 with 1 Axes>"
            ]
          },
          "metadata": {
            "tags": [],
            "needs_background": "light"
          }
        }
      ]
    },
    {
      "cell_type": "markdown",
      "metadata": {
        "id": "3v-N0zQ6vWw0",
        "colab_type": "text"
      },
      "source": [
        "**Prueba de dos colas**: Hipótesis de forma H1: *El tamaño medio máximo de grano es diferente en las dos muestras*. Hay dos formas posibles en que puede ser diferente: mayor que *o* menor que. La prueba de dos colas tiene dos *regiones de significación* - una en cada cola - cada mitad del tamaño de la región de significación de una cola."
      ]
    },
    {
      "cell_type": "code",
      "metadata": {
        "id": "sy5W0TqQvWw1",
        "colab_type": "code",
        "colab": {
          "base_uri": "https://localhost:8080/",
          "height": 265
        },
        "outputId": "7afb0b97-7d5e-4c4e-fbe1-8261fdaf9107"
      },
      "source": [
        "plt.plot(x, p, 'k')\n",
        "plt.fill_between(x, 0, p, interpolate=True,\n",
        "                 where=((x<=stats.t.ppf(0.05, df)) | (x>=stats.t.ppf(0.95, df))))\n",
        "plt.show()"
      ],
      "execution_count": 3,
      "outputs": [
        {
          "output_type": "display_data",
          "data": {
            "image/png": "[encoded data removed]",
            "text/plain": [
              "<Figure size 432x288 with 1 Axes>"
            ]
          },
          "metadata": {
            "tags": [],
            "needs_background": "light"
          }
        }
      ]
    },
    {
      "cell_type": "markdown",
      "metadata": {
        "id": "bi-O8ImzvWw8",
        "colab_type": "text"
      },
      "source": [
        "### Colas en la práctica\n",
        "\n",
        "1. ¡Decide si tu prueba es de una o dos colas ANTES de hacerlo!\n",
        "2. Valores devueltos por [scipy.stats](http://docs.scipy.org/doc/scipy/reference/stats.html) funciones (por ejemplo, [ttest_ind](http://docs.scipy.org/doc/scipy/reference/generate/scipy.stats.ttest_ind.html#scipy.stats.ttest_ind)) son para pruebas de dos colas (¡en su mayoría!)\n",
        "  1. Si su prueba es de dos colas, no hay problema\n",
        "  2. Si la prueba es de una cola, reduzca a la mitad el valor p antes de interpretarlo.\n",
        "En el ejemplo anterior, el valor p fue de 0.28, pero este es un valor de dos colas mientras que la prueba fue de una cola. El valor real para la prueba fue 0.14. En este caso todavía no es significativo (> 0.05), pero la reducción a la mitad podría marcar la diferencia fácilmente."
      ]
    },
    {
      "cell_type": "markdown",
      "metadata": {
        "id": "_rVN7SP0vWw9",
        "colab_type": "text"
      },
      "source": [
        "## Más sobre la prueba t.\n",
        "\n",
        "La prueba T es la prueba estadística más utilizada, pero no siempre es adecuada. Hace varias suposiciones.\n",
        "\n",
        "* Los resultados sensibles necesitan tamaños de muestra razonablemente grandes.\n",
        "  * Esto también se aplica a otras pruebas.\n",
        "* Asume que los datos en las muestras se distribuyen normalmente:\n",
        "  * Puede o no ser realmente cierto.\n",
        "  * Si no, considere usar pruebas no paramétricas."
      ]
    },
    {
      "cell_type": "markdown",
      "metadata": {
        "id": "Fv6Npca6vWxA",
        "colab_type": "text"
      },
      "source": [
        "## Equivalentes no paramétricos\n",
        "\n",
        "La prueba no paramétrica más utilizada es la [prueba U de Mann-Whitney](http://docs.scipy.org/doc/scipy/reference/generated/scipy.stats.mannwhitneyu.html#scipy.stats.mannwhitneyu) .\n",
        "\n",
        "* Utiliza rangos de datos (como la correlación de Spearman).\n",
        "* No requiere que las distribuciones de datos sean normales.\n",
        "* Prueba menos potente (más falsos negativos) si las distribuciones son normales (como todas las pruebas no paramétricas).\n",
        "\n",
        "Cuando hay un modelo matemático disponible, la [Prueba de Kolmorogov-Smirnov (KS)](http://docs.scipy.org/doc/scipy/reference/generated/scipy.stats.kstest.html#scipy.stats.kstest) es comúnmente utilizado.\n",
        "\n",
        "* La prueba K-S es para \"bondad de ajuste\": qué tan bien se ajusta una distribución a un modelo matemático.\n",
        "* La variante de prueba K-S \"Dos muestras\" se puede utilizar como una alternativa no paramétrica a una prueba t.\n",
        "* Prueba más que solo la diferencia de medias: prueba otros aspectos de la forma de distribución.\n",
        "* Se utiliza para responder preguntas como '¿parecen estas dos muestras provenir de la misma población subyacente'?"
      ]
    },
    {
      "cell_type": "markdown",
      "metadata": {
        "id": "YSYMhLg7vWxB",
        "colab_type": "text"
      },
      "source": [
        "## Pruebas de hipótesis de correlación\n",
        "\n",
        "Ya hemos visto que los valores de p pueden obtenerse para correlaciones (Pearson o Spearman). Podemos probar hipótesis de correlación con estos.\n",
        "\n",
        "* H0: \"La marca de Dorset y la marca de fin de año no están relacionadas\"\n",
        "* H1: \"Hay una correlación entre la marca de Dorset y la marca de fin de año\"\n",
        "\n",
        "Esta es una prueba de dos colas y utilizaremos un nivel de significancia del 5%.\n",
        "\n",
        "* Pearson R es 0.27, p = 0.014 --- significativo, por lo tanto, rechace H0 a favor de H1.\n",
        "* Spearman R es 0.19, p = 0.087 --- no significativo, por lo tanto, acepte H0.\n",
        "\n",
        "Entonces, si podemos usar Pearson, podemos aceptar H1, pero con Spearman no podemos, no hay suficiente evidencia. ¡Necesitamos hacer un mejor trabajo para decidir cuál usar!\n",
        "\t\t\t"
      ]
    },
    {
      "cell_type": "markdown",
      "metadata": {
        "id": "U0NzmT34vWxC",
        "colab_type": "text"
      },
      "source": [
        "## Pruebas de normalidad\n",
        "\n",
        "En lugar de adivinar si una distribución es normal, ¿podemos probarla?\n",
        "\n",
        "Sí, simplemente se convierte en otra prueba de hipótesis:\n",
        "\n",
        "* $H_0$: 'La distribución subyacente es normal'.\n",
        "* $H_1$: 'La distribución subyacente no es normal'.\n",
        "\n",
        "Existen muchas pruebas diferentes de normalidad, sin acuerdo universal sobre cuál es el mejor. Una buena solución es la prueba combinada *D'Agostino y Pearson*, proporcionada por Python mediante el método [scipy.stats.normaltest](http://docs.scipy.org/doc/scipy/reference/generated/scipy.stats.normaltest.html). Esta función prueba la hipótesis nula de que una muestra proviene de una distribución normal.\n",
        "\n",
        "Esta también es una buena oportunidad para ilustrar claramente el uso del valor p utilizando dos casos de prueba muy claros."
      ]
    },
    {
      "cell_type": "code",
      "metadata": {
        "id": "UVLxiM6pvWxD",
        "colab_type": "code",
        "colab": {
          "base_uri": "https://localhost:8080/",
          "height": 283
        },
        "outputId": "862a321b-f71b-4eb0-aead-ca8d7ecfabbe"
      },
      "source": [
        "import numpy as np\n",
        "from scipy import stats\n",
        "import pylab as pl\n",
        "%pylab inline\n",
        "\n",
        "# Crear una distribución normal.\n",
        "values = stats.norm.rvs(size=100000)\n",
        "statistic, pvalue = stats.normaltest(values)\n",
        "pl.hist(values, bins=20, density=True)   #podemos agregar mas escalones para hacer el plot más suave?\n",
        "pl.legend((\"p-value=%.2g\"%pvalue, ))\n",
        "pl.show()"
      ],
      "execution_count": 62,
      "outputs": [
        {
          "output_type": "stream",
          "text": [
            "Populating the interactive namespace from numpy and matplotlib\n"
          ],
          "name": "stdout"
        },
        {
          "output_type": "display_data",
          "data": {
            "image/png": "[encoded data removed]",
            "text/plain": [
              "<Figure size 432x288 with 1 Axes>"
            ]
          },
          "metadata": {
            "tags": [],
            "needs_background": "light"
          }
        }
      ]
    },
    {
      "cell_type": "code",
      "metadata": {
        "id": "R4d-CEgCvWxL",
        "colab_type": "code",
        "colab": {
          "base_uri": "https://localhost:8080/",
          "height": 381
        },
        "outputId": "8cf2f4eb-ec07-4791-adb4-9c47215a8ab4"
      },
      "source": [
        "# Sin embargo, observe cómo varía para diferentes conjuntos de datos.\n",
        "# ¡Incluso con datos perfectos puede obtener falsos positivos!\n",
        "for i in range(20):\n",
        "    values = stats.norm.rvs(size=100)\n",
        "    statistic, pvalue = stats.normaltest(values)\n",
        "    print (i, \"p-value = \", pvalue)\n",
        "\n",
        "# En la implementación de SciPy de estas pruebas, puede interpretar el valor p de la siguiente manera.\n",
        "\n",
        "# p <= alfa: rechazar H0, no es distrib normal.\n",
        "# p> alfa: no puede rechazar H0,es distrib normal."
      ],
      "execution_count": 69,
      "outputs": [
        {
          "output_type": "stream",
          "text": [
            "0 p-value =  0.01803576896536886\n",
            "1 p-value =  0.5691725741053766\n",
            "2 p-value =  0.8856203189809586\n",
            "3 p-value =  0.32057712191024995\n",
            "4 p-value =  0.36586676597128004\n",
            "5 p-value =  0.006677287008348342\n",
            "6 p-value =  0.7218992538602963\n",
            "7 p-value =  0.4814338574068291\n",
            "8 p-value =  0.7942771451044244\n",
            "9 p-value =  0.17913837730969223\n",
            "10 p-value =  0.559085343398112\n",
            "11 p-value =  0.714283430187147\n",
            "12 p-value =  0.6239637512031834\n",
            "13 p-value =  0.6380015173697346\n",
            "14 p-value =  0.3201051441200493\n",
            "15 p-value =  0.30509706563910793\n",
            "16 p-value =  0.5859474907308833\n",
            "17 p-value =  0.31429079333328763\n",
            "18 p-value =  0.7983255560528026\n",
            "19 p-value =  0.085846729947212\n"
          ],
          "name": "stdout"
        }
      ]
    },
    {
      "cell_type": "code",
      "metadata": {
        "id": "4XcJYSPrvWxQ",
        "colab_type": "code",
        "colab": {
          "base_uri": "https://localhost:8080/",
          "height": 267
        },
        "outputId": "2ea47adc-78b1-457f-d3bb-9866b8680567"
      },
      "source": [
        "# Sin embargo, el grado de variabilidad para el valor p se pone en contexto\n",
        "# cuando lo compara con otros tipos de distribuciones, p. ej. La distribución exponencial.\n",
        "values = stats.expon.rvs(size=1000)\n",
        "statistic, pvalue = stats.normaltest(values)\n",
        "pylab.hist(values)\n",
        "pylab.legend((\"p-value=%.2g\"%pvalue, ))\n",
        "pylab.show()"
      ],
      "execution_count": 77,
      "outputs": [
        {
          "output_type": "display_data",
          "data": {
            "image/png": "[encoded data removed]",
            "text/plain": [
              "<Figure size 432x288 with 1 Axes>"
            ]
          },
          "metadata": {
            "tags": [],
            "needs_background": "light"
          }
        }
      ]
    },
    {
      "cell_type": "code",
      "metadata": {
        "id": "EvCUJQGdD_rt",
        "colab_type": "code",
        "colab": {
          "base_uri": "https://localhost:8080/",
          "height": 1000
        },
        "outputId": "27aca233-7730-4e28-8f90-b48f74da7857"
      },
      "source": [
        "# Y si hacemos varias veces el test?\n",
        "for i in range(100):\n",
        "    values = stats.expon.rvs(size=1000)\n",
        "    statistic, pvalue = stats.normaltest(values)\n",
        "    print (i, \"p-value = \", pvalue)\n",
        "\n",
        "# En la implementación de SciPy de estas pruebas, puede interpretar el valor p de la siguiente manera.\n",
        "\n",
        "# p <= alfa: rechazar H0, no normal.\n",
        "# p> alfa: no puede rechazar H0, normal."
      ],
      "execution_count": 79,
      "outputs": [
        {
          "output_type": "stream",
          "text": [
            "0 p-value =  1.3757080719676188e-94\n",
            "1 p-value =  1.1301884850435976e-86\n",
            "2 p-value =  4.2954978819397925e-112\n",
            "3 p-value =  5.40026901615063e-97\n",
            "4 p-value =  7.451512269217693e-110\n",
            "5 p-value =  4.1006832612513416e-81\n",
            "6 p-value =  3.54200960387363e-79\n",
            "7 p-value =  1.7353024401138918e-101\n",
            "8 p-value =  1.193130554721621e-76\n",
            "9 p-value =  1.918830734097962e-103\n",
            "10 p-value =  1.1537457117953384e-109\n",
            "11 p-value =  2.2604365736699472e-93\n",
            "12 p-value =  8.919291512049077e-86\n",
            "13 p-value =  3.398012969752386e-101\n",
            "14 p-value =  1.6005742629186093e-86\n",
            "15 p-value =  1.4358246016032464e-69\n",
            "16 p-value =  4.480501241545396e-108\n",
            "17 p-value =  6.32592643110276e-85\n",
            "18 p-value =  1.9279390051939134e-131\n",
            "19 p-value =  6.039617393075431e-85\n",
            "20 p-value =  1.8613950583270026e-82\n",
            "21 p-value =  1.8166316552846462e-70\n",
            "22 p-value =  5.670771928119182e-80\n",
            "23 p-value =  2.374752824811099e-78\n",
            "24 p-value =  6.732965653438064e-79\n",
            "25 p-value =  2.822398907261291e-119\n",
            "26 p-value =  7.577214351639392e-110\n",
            "27 p-value =  4.843430571440371e-90\n",
            "28 p-value =  7.703282276800626e-100\n",
            "29 p-value =  1.4251730955113052e-84\n",
            "30 p-value =  2.6630433306634928e-79\n",
            "31 p-value =  4.9649171060450314e-88\n",
            "32 p-value =  1.5768226333349285e-93\n",
            "33 p-value =  2.3674524317644323e-74\n",
            "34 p-value =  4.0272349166870226e-67\n",
            "35 p-value =  2.8197504996233233e-106\n",
            "36 p-value =  1.5647938284888589e-115\n",
            "37 p-value =  6.918656395817785e-97\n",
            "38 p-value =  9.295182054483903e-92\n",
            "39 p-value =  7.974877156188972e-82\n",
            "40 p-value =  2.90855460312406e-100\n",
            "41 p-value =  2.1131069306807876e-82\n",
            "42 p-value =  1.985959982995477e-94\n",
            "43 p-value =  9.527961268130394e-100\n",
            "44 p-value =  5.513732221121054e-89\n",
            "45 p-value =  1.0169803292217086e-114\n",
            "46 p-value =  8.509955469770935e-92\n",
            "47 p-value =  9.228108382214597e-89\n",
            "48 p-value =  1.2589058932506602e-92\n",
            "49 p-value =  2.6085547784342973e-81\n",
            "50 p-value =  4.783987750420375e-96\n",
            "51 p-value =  1.3361869682169307e-99\n",
            "52 p-value =  7.823302996215535e-93\n",
            "53 p-value =  6.54170599735489e-83\n",
            "54 p-value =  6.779984345710594e-118\n",
            "55 p-value =  6.242041502480625e-102\n",
            "56 p-value =  5.93710212841118e-106\n",
            "57 p-value =  1.507602335253538e-85\n",
            "58 p-value =  3.3942425586906327e-99\n",
            "59 p-value =  9.49702502999206e-92\n",
            "60 p-value =  1.1285020933335948e-79\n",
            "61 p-value =  5.3400893074079805e-99\n",
            "62 p-value =  1.7821109703765855e-87\n",
            "63 p-value =  2.454139109941988e-89\n",
            "64 p-value =  3.416128916267519e-120\n",
            "65 p-value =  1.4693168322951038e-73\n",
            "66 p-value =  3.701231235655039e-107\n",
            "67 p-value =  3.917837309029707e-113\n",
            "68 p-value =  4.754032093958719e-78\n",
            "69 p-value =  2.558805760014475e-87\n",
            "70 p-value =  6.1014256880599205e-86\n",
            "71 p-value =  1.616377762378537e-66\n",
            "72 p-value =  2.5152534976664265e-81\n",
            "73 p-value =  1.4337244730882254e-69\n",
            "74 p-value =  2.35892756209369e-99\n",
            "75 p-value =  1.0987041698333545e-73\n",
            "76 p-value =  1.1939411570081732e-64\n",
            "77 p-value =  7.54474741431918e-88\n",
            "78 p-value =  1.4202690647356606e-71\n",
            "79 p-value =  8.992684230701185e-98\n",
            "80 p-value =  3.998007727341596e-98\n",
            "81 p-value =  6.167267223460587e-86\n",
            "82 p-value =  7.368213632430745e-114\n",
            "83 p-value =  8.35801124551974e-70\n",
            "84 p-value =  3.7062735246421956e-109\n",
            "85 p-value =  1.0996345022640297e-88\n",
            "86 p-value =  7.423487153108311e-96\n",
            "87 p-value =  1.1255566096117286e-75\n",
            "88 p-value =  1.8611831300820132e-85\n",
            "89 p-value =  8.425448770456667e-91\n",
            "90 p-value =  6.784461851704052e-101\n",
            "91 p-value =  2.547242902380635e-85\n",
            "92 p-value =  6.650396662324135e-74\n",
            "93 p-value =  9.704718252108993e-85\n",
            "94 p-value =  2.163718433660536e-89\n",
            "95 p-value =  3.888252906774867e-83\n",
            "96 p-value =  4.57079349328299e-118\n",
            "97 p-value =  3.056585290801265e-87\n",
            "98 p-value =  4.6870214683450205e-86\n",
            "99 p-value =  4.604439218051585e-69\n"
          ],
          "name": "stdout"
        }
      ]
    },
    {
      "cell_type": "markdown",
      "metadata": {
        "id": "8DsBrrBGvWxU",
        "colab_type": "text"
      },
      "source": [
        "# Demostración: ¿son normales las distribuciones de marcas en el ejemplo de marcas del primer año?"
      ]
    },
    {
      "cell_type": "code",
      "metadata": {
        "id": "JBSySOyKvWxW",
        "colab_type": "code",
        "colab": {
          "base_uri": "https://localhost:8080/",
          "height": 35
        },
        "outputId": "36917318-24cd-49a2-9e21-4068889658bf"
      },
      "source": [
        "# Leemos los registros\n",
        "record = np.recfromcsv(\"http://cdn.jsdelivr.net/gh/al34n1x/DataScience/data/first_year_marks.csv\") \n",
        "\n",
        "print (record.dtype.names)"
      ],
      "execution_count": 80,
      "outputs": [
        {
          "output_type": "stream",
          "text": [
            "('field_mark', 'overall_year')\n"
          ],
          "name": "stdout"
        }
      ]
    },
    {
      "cell_type": "code",
      "metadata": {
        "id": "ueaGJ8FfvWxb",
        "colab_type": "code",
        "colab": {
          "base_uri": "https://localhost:8080/",
          "height": 319
        },
        "outputId": "71160089-39d7-4fd9-d604-56e8aab29336"
      },
      "source": [
        "field_mark = np.array(record[\"field_mark\"], dtype=float)\n",
        "\n",
        "k2, p = stats.normaltest(field_mark)\n",
        "print (\"Skew = \", k2) #asimetría\n",
        "print (\"H0 - field marks tiene distrib normal: \")\n",
        "if p<0.05:\n",
        "    print (\"Rechazo a favor de H1.\")\n",
        "else:\n",
        "    print (\"Acepto.\")\n",
        "\n",
        "pl.hist(field_mark, bins=10)\n",
        "pl.legend((\"p-value=%.2g\"%p, ))\n",
        "pl.show()"
      ],
      "execution_count": 81,
      "outputs": [
        {
          "output_type": "stream",
          "text": [
            "Skew =  11.90871817961577\n",
            "H0 - field marks tiene distrib normal: \n",
            "Rechazo a favor de H1.\n"
          ],
          "name": "stdout"
        },
        {
          "output_type": "display_data",
          "data": {
            "image/png": "[encoded data removed]",
            "text/plain": [
              "<Figure size 432x288 with 1 Axes>"
            ]
          },
          "metadata": {
            "tags": [],
            "needs_background": "light"
          }
        }
      ]
    },
    {
      "cell_type": "code",
      "metadata": {
        "id": "k7uAatQIvWxh",
        "colab_type": "code",
        "colab": {
          "base_uri": "https://localhost:8080/",
          "height": 319
        },
        "outputId": "e50d3c2f-5212-4ef9-f259-8cbe9e2f87e2"
      },
      "source": [
        "overall_year = np.array(record[\"overall_year\"], dtype=float)\n",
        "\n",
        "k2, p = stats.normaltest(overall_year)\n",
        "print (\"Skew = \", k2)\n",
        "print (\"H0 - overall year tiene distrib normal: \")\n",
        "if p<0.05:\n",
        "    print  (\"Rechazo a favor de H1.\")\n",
        "else:\n",
        "    print (\"Acepto.\")\n",
        "\n",
        "pl.hist(overall_year, bins=10)\n",
        "pl.legend((\"p-value=%.2g\"%p, ))\n",
        "pl.show()"
      ],
      "execution_count": 83,
      "outputs": [
        {
          "output_type": "stream",
          "text": [
            "Skew =  0.0402331177377869\n",
            "H0 - overall year tiene distrib normal: \n",
            "Acepto.\n"
          ],
          "name": "stdout"
        },
        {
          "output_type": "display_data",
          "data": {
            "image/png": "[encoded data removed]",
            "text/plain": [
              "<Figure size 432x288 with 1 Axes>"
            ]
          },
          "metadata": {
            "tags": [],
            "needs_background": "light"
          }
        }
      ]
    },
    {
      "cell_type": "markdown",
      "metadata": {
        "id": "LzqMlBRRvWxl",
        "colab_type": "text"
      },
      "source": [
        "Como al menos uno de estos conjuntos de datos no tiene una distribución normal, debemos usar la prueba de correlación de Spearman."
      ]
    },
    {
      "cell_type": "markdown",
      "metadata": {
        "id": "4pg2-ao0vWxm",
        "colab_type": "text"
      },
      "source": [
        "# Ejercicio 7.1: Prueba de hipótesis\n",
        "\n",
        "1. Tengo dos conjuntos de fósiles de trilobites de diferentes localidades. Creo que son de la misma especie, pero quiero una confirmación cuantitativa, sobre la base de su relación media de longitud:ancho ([triloshape1.csv](http://cdn.jsdelivr.net/gh/al34n1x/DataScience/data/triloshape1.csv), [triloshape2.csv](http://cdn.jsdelivr.net/gh/al34n1x/DataScience/data/triloshape2.csv)) ¿hay evidencia de que son diferentes?\n",
        "2. He medido porcentajes de mica en muestras de rocas ígneas de dos localidades diferentes ([micapercent1.csv](http://cdn.jsdelivr.net/gh/al34n1x/DataScience/data/micapercent1.csv), [micapercent2.csv ](http://cdn.jsdelivr.net/gh/al34n1x/DataScience/data/micapercent2.csv)). El porcentaje medio de mica es menor en la segunda localidad y tengo una teoría geológica que puede explicar esto, pero primero necesito descartar la posibilidad de que el menor contenido de mica se deba al azar.\n",
        "\n",
        "En cada caso, construya (es decir, escriba) sus dos hipótesis, decida cómo están redactadas si son de una o dos colas, luego use su programa para evaluar cuál debe aceptar.\n",
        "\n",
        "Consejos:\n",
        "\n",
        "* Probar conjuntos de datos para normalidad (es decir, tienen distribución normal). Use la prueba D'Agostino & Pearson para proporcionar probabilidades de normalidad.\n",
        "* Pruebe si sus medias difieren significativamente. Al probar si las medias son diferentes, debe usar un valor p de Mann-Whitney de dos colas o un valor p de la prueba T de dos colas, según el resultado de la prueba de normalidad. Recuerde que la función scipy.stats Mann-Whitney devuelve un valor p de una cola.\n",
        "\n"
      ]
    },
    {
      "cell_type": "code",
      "metadata": {
        "id": "3MJO7FuxvWxo",
        "colab_type": "code",
        "colab": {}
      },
      "source": [
        "# Su solución aquí"
      ],
      "execution_count": 0,
      "outputs": []
    },
    {
      "cell_type": "markdown",
      "metadata": {
        "id": "LZb4IwGGvWxu",
        "colab_type": "text"
      },
      "source": [
        "# Práctica 7.2: Prueba de Kolmogorov-Smirnov\n",
        "\n",
        "* Utilice los datos de trilobite anteriores y realice una prueba de Kolmogorov-Smirnov a dos caras (dos muestras) para determinar si provienen de la misma distribución o no.\n",
        "* Pruebe si cada dato de trilobites proviene de una distribución exponencial o no. (Deberá generar una distribución exponencial para esta pregunta y normalizar todas las distribuciones primero)\n",
        "\n",
        "**NB**: La función necesaria PUEDE encontrarse en scipy.stats [aquí](https://docs.scipy.org/doc/scipy/reference/generated/scipy.stats.ks_2samp.html)\n",
        "\n",
        "## BONUS (más difícil)\n",
        "\n",
        "* Trace las funciones de distribución acumulativa (CDF) para los datos de trilobites en una figura como gráficos lineales.\n",
        "* Trace un CDF exponencial encima de esto también (con una línea discontinua)\n",
        "* ¿Alguna vez hubo alguna sospecha de que los datos pudieran ser exponenciales?\n",
        "\n",
        "**PISTA** los histogramas tienen un argumento acumulativo que puede utilizar."
      ]
    },
    {
      "cell_type": "code",
      "metadata": {
        "id": "SD_l6tz6vWxu",
        "colab_type": "code",
        "colab": {}
      },
      "source": [
        "# Su solución aquí"
      ],
      "execution_count": 0,
      "outputs": []
    },
    {
      "cell_type": "code",
      "metadata": {
        "id": "WyXRCtL9948j",
        "colab_type": "code",
        "colab": {}
      },
      "source": [
        "import numpy as np\n",
        "from scipy import stats\n",
        "import matplotlib.pyplot as plt\n",
        "\n",
        "#leemos\n",
        "record1 = recfromtxt(\"http://cdn.jsdelivr.net/gh/al34n1x/DataScience/data/triloshape1.csv\")\n",
        "record2 = recfromtxt(\"http://cdn.jsdelivr.net/gh/al34n1x/DataScience/data/triloshape2.csv\")"
      ],
      "execution_count": 0,
      "outputs": []
    },
    {
      "cell_type": "code",
      "metadata": {
        "id": "LQzLz4Kn-Sng",
        "colab_type": "code",
        "colab": {
          "base_uri": "https://localhost:8080/",
          "height": 108
        },
        "outputId": "2d8cb7e4-fad2-4eb6-dff0-dfdb73836a38"
      },
      "source": [
        "record1"
      ],
      "execution_count": 85,
      "outputs": [
        {
          "output_type": "execute_result",
          "data": {
            "text/plain": [
              "rec.array([0.82, 1.57, 1.11, 0.84, 1.05, 1.05, 1.04, 1.19, 1.26, 1.28,\n",
              "           0.91, 0.98, 1.08, 1.55, 0.96, 1.28, 0.95, 0.95, 0.75, 1.78,\n",
              "           1.46, 0.87, 0.25, 1.4 , 0.86, 0.84, 0.99, 1.25, 0.71, 0.72,\n",
              "           1.2 , 1.12, 0.65, 1.08, 1.24, 1.34, 0.43, 1.05],\n",
              "          dtype=float64)"
            ]
          },
          "metadata": {
            "tags": []
          },
          "execution_count": 85
        }
      ]
    },
    {
      "cell_type": "code",
      "metadata": {
        "id": "G4x7GTyV-gWl",
        "colab_type": "code",
        "colab": {
          "base_uri": "https://localhost:8080/",
          "height": 72
        },
        "outputId": "7dc3c791-3578-4418-aedb-6119dd1d993c"
      },
      "source": [
        "\n",
        "D, p = stats.ks_2samp(record1, record2)\n",
        "\n",
        "print (\"p-value = {}\".format(p))\n",
        "if p <= 0.05:\n",
        "  print (\"Rechazo\",)\n",
        "else:\n",
        "  print (\"Acepto\",)\n",
        "print(\"la hipotesis de que las muestras provienen de la misma distribución.\")"
      ],
      "execution_count": 88,
      "outputs": [
        {
          "output_type": "stream",
          "text": [
            "p-value = 0.14937368340991186\n",
            "Acepto\n",
            "la hipotesis de que las muestras provienen de la misma distribución.\n"
          ],
          "name": "stdout"
        }
      ]
    },
    {
      "cell_type": "code",
      "metadata": {
        "id": "TCNz9lOM_dlm",
        "colab_type": "code",
        "colab": {
          "base_uri": "https://localhost:8080/",
          "height": 279
        },
        "outputId": "ae71abe3-9565-4fc0-f636-15deccb2a5ab"
      },
      "source": [
        "plt.figure()\n",
        "\n",
        "n, bins, patches = plt.hist(record1, bins=10, density=True)\n",
        "plt.plot(bins, stats.expon.pdf(bins),color = 'k', lw = 2.,\n",
        "        linestyle='--', label = 'Distribución Exponencial')\n",
        "plt.xlim(0,2)\n",
        "plt.xlabel('Muestras')\n",
        "plt.ylabel('ratio largo:ancho prom.')\n",
        "plt.legend(loc = 'best')\n",
        "\n",
        "\n",
        "\n",
        "\n",
        "plt.show()"
      ],
      "execution_count": 95,
      "outputs": [
        {
          "output_type": "display_data",
          "data": {
            "image/png": "[encoded data removed]",
            "text/plain": [
              "<Figure size 432x288 with 1 Axes>"
            ]
          },
          "metadata": {
            "tags": [],
            "needs_background": "light"
          }
        }
      ]
    },
    {
      "cell_type": "code",
      "metadata": {
        "id": "nipbwTjiBTG_",
        "colab_type": "code",
        "colab": {
          "base_uri": "https://localhost:8080/",
          "height": 90
        },
        "outputId": "b3eb932a-4965-45ef-b147-2ec916dd7d1f"
      },
      "source": [
        "D1, p1 =stats.ks_2samp(record1, stats.expon.pdf(bins))\n",
        "print(\"H0: Trilobyte ds 1 es una dsitrib expon\")\n",
        "print (\"p-value = {}\".format(p1))\n",
        "if p1 <= 0.05:\n",
        "  print (\"Rechazo\",)\n",
        "else:\n",
        "  print (\"Acepto\",)\n",
        "print(\"que las muestras provienen de una distrib expon\")"
      ],
      "execution_count": 97,
      "outputs": [
        {
          "output_type": "stream",
          "text": [
            "H0: Trilobyte ds 1 es una dsitrib expon\n",
            "p-value = 9.945113702558572e-07\n",
            "Rechazo\n",
            "que las muestras provienen de una distrib expon\n"
          ],
          "name": "stdout"
        }
      ]
    },
    {
      "cell_type": "code",
      "metadata": {
        "id": "DK5Wn4rzCT50",
        "colab_type": "code",
        "colab": {
          "base_uri": "https://localhost:8080/",
          "height": 352
        },
        "outputId": "4ba675fc-fb86-4676-ea01-2bb2b0418a13"
      },
      "source": [
        "plt.figure()\n",
        "\n",
        "n, bins, patches = plt.hist(record2, bins=10, density=True)\n",
        "plt.plot(bins, stats.expon.pdf(bins),color = 'k', lw = 2.,\n",
        "        linestyle='--', label = 'Distribución Exponencial')\n",
        "plt.xlim(0,2)\n",
        "plt.xlabel('Muestras')\n",
        "plt.ylabel('ratio largo:ancho prom.')\n",
        "plt.legend(loc = 'best')\n",
        "\n",
        "\n",
        "\n",
        "\n",
        "plt.show()\n",
        "D1, p1 =stats.ks_2samp(record2, stats.expon.pdf(bins))\n",
        "print(\"H0: Trilobyte ds 2 es una dsitrib expon\")\n",
        "print (\"p-value = {}\".format(p1))\n",
        "if p1 <= 0.05:\n",
        "  print (\"Rechazo\",)\n",
        "else:\n",
        "  print (\"Acepto\",)\n",
        "print(\"que las muestras provienen de una distrib expon\")"
      ],
      "execution_count": 98,
      "outputs": [
        {
          "output_type": "display_data",
          "data": {
            "image/png": "[encoded data removed]",
            "text/plain": [
              "<Figure size 432x288 with 1 Axes>"
            ]
          },
          "metadata": {
            "tags": [],
            "needs_background": "light"
          }
        },
        {
          "output_type": "stream",
          "text": [
            "H0: Trilobyte ds 2 es una dsitrib expon\n",
            "p-value = 5.218048215738236e-15\n",
            "Rechazo\n",
            "que las muestras provienen de una distrib expon\n"
          ],
          "name": "stdout"
        }
      ]
    }
  ]
}