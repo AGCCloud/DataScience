{
  "nbformat": 4,
  "nbformat_minor": 0,
  "metadata": {
    "colab": {
      "name": "Agregación de datos.ipynb",
      "provenance": [],
      "collapsed_sections": [],
      "authorship_tag": "ABX9TyMD90sGXzO30mtke3Ndip5s",
      "include_colab_link": true
    },
    "kernelspec": {
      "name": "python3",
      "display_name": "Python 3"
    }
  },
  "cells": [
    {
      "cell_type": "markdown",
      "metadata": {
        "id": "view-in-github",
        "colab_type": "text"
      },
      "source": [
        "<a href=\"https://colab.research.google.com/github/al34n1x/DataScience/blob/master/6.Gestion_de_datos/Agregaci%C3%B3n_de_datos.ipynb\" target=\"_parent\"><img src=\"https://colab.research.google.com/assets/colab-badge.svg\" alt=\"Open In Colab\"/></a>"
      ]
    },
    {
      "cell_type": "markdown",
      "metadata": {
        "id": "BFynk27lvXm6",
        "colab_type": "text"
      },
      "source": [
        "# Agregación de datos y operaciones de grupo\n",
        "\n",
        "La categorización de un conjunto de datos y la aplicación de una función a cada grupo, ya sea una agregación o transformación, es un componente crítico del trabajo de análisis de datos. Después de cargar, fusionar y preparar un conjunto de datos, es posible que debas calcular estadísticas de grupo o posiblemente tablas dinámicas para fines de informes o visualización. Pandas proporciona una interfaz de grupo flexible, que te permite cortar, cortar en dados y resumir conjuntos de datos de forma natural.\n",
        "\n",
        "Como verás, con la expresividad de Python y pandas, podemos realizar operaciones grupales bastante complejas utilizando cualquier función que acepte un objeto pandas o una matriz NumPy. "
      ]
    },
    {
      "cell_type": "markdown",
      "metadata": {
        "id": "EMGwZJuAv306",
        "colab_type": "text"
      },
      "source": [
        "## Actividades que veremos en este apartado\n",
        "\n",
        "* Dividir un objeto pandas en pedazos usando una o más claves (en forma de funciones, matrices o nombres de columna de DataFrame)\n",
        "\n",
        "* Calcular estadísticas de resumen de grupo, como conteo, media o desviación estándar, o una función definida por el usuario\n",
        "\n",
        "* Aplique transformaciones dentro del grupo u otras manipulaciones, como normalización, regresión lineal, clasificación o selección de subconjuntos\n",
        "\n",
        "* Calcular tablas dinámicas y tabulaciones cruzadas\n",
        "\n",
        "* Realizar análisis cuantiles y otros análisis de grupos estadísticos."
      ]
    },
    {
      "cell_type": "markdown",
      "metadata": {
        "id": "F1ju7vADwWy1",
        "colab_type": "text"
      },
      "source": [
        "## Mecánica del GroupBy\n",
        "\n",
        "Existe un término conocido entre los analistas que describe operaciones de grupo,*split-apply-combine* \n",
        "En la primera parte de este proceso dividimos (split) dataframes o series en grupos basados en una o más keys. Una vez realizado la división, realizamos la función *apply* a cada grupo, produciendo un nuevo valor. \n",
        "Finalmente, tomamos el resultado de esas operaciones y las combinamos en un objeto.\n",
        "\n",
        "![alt text](https://raw.githubusercontent.com/al34n1x/DataScience/master/img/split-apply-combine.png)\n",
        "\n",
        "*source: Python for Data Analysis, 2nd Edition*\n",
        "\n"
      ]
    },
    {
      "cell_type": "code",
      "metadata": {
        "id": "NbOGS3vovXEr",
        "colab_type": "code",
        "colab": {}
      },
      "source": [
        "import pandas as pd\n",
        "import numpy as np\n",
        "df = pd.DataFrame({'key1' : ['a', 'a', 'b', 'b', 'a'],\n",
        "                   'key2' : ['one', 'two', 'one', 'two', 'one'],\n",
        "                   'data1' : np.random.randn(5),\n",
        "                   'data2' : np.random.randn(5)})\n",
        "df"
      ],
      "execution_count": 0,
      "outputs": []
    },
    {
      "cell_type": "markdown",
      "metadata": {
        "id": "BxNpTDnDzAOt",
        "colab_type": "text"
      },
      "source": [
        "Supongamos que deseas calcular la media *(mean())* de la columna data1 usando las etiquetas de key1"
      ]
    },
    {
      "cell_type": "code",
      "metadata": {
        "id": "Ip7mww3yyqBE",
        "colab_type": "code",
        "colab": {
          "base_uri": "https://localhost:8080/",
          "height": 34
        },
        "outputId": "6d075ea7-1a7b-43d3-ffb6-99789cca49ab"
      },
      "source": [
        "grouped = df['data1'].groupby(df['key1'])\n",
        "grouped"
      ],
      "execution_count": 7,
      "outputs": [
        {
          "output_type": "execute_result",
          "data": {
            "text/plain": [
              "<pandas.core.groupby.generic.SeriesGroupBy object at 0x7fa610c04c18>"
            ]
          },
          "metadata": {
            "tags": []
          },
          "execution_count": 7
        }
      ]
    },
    {
      "cell_type": "code",
      "metadata": {
        "id": "uTPAa6D8yrYF",
        "colab_type": "code",
        "colab": {}
      },
      "source": [
        "grouped.mean()"
      ],
      "execution_count": 0,
      "outputs": []
    },
    {
      "cell_type": "markdown",
      "metadata": {
        "id": "r5CsULB8zhw7",
        "colab_type": "text"
      },
      "source": [
        "Aquí agrupamos los datos usando dos claves, y la Serie resultante ahora tiene un índice jerárquico."
      ]
    },
    {
      "cell_type": "code",
      "metadata": {
        "id": "B9IChMQuzjNw",
        "colab_type": "code",
        "colab": {
          "base_uri": "https://localhost:8080/",
          "height": 121
        },
        "outputId": "5b1a03ef-a2b2-498d-8091-0c8e4de938d2"
      },
      "source": [
        "media = df['data1'].groupby([df['key1'], df['key2']]).mean()\n",
        "media"
      ],
      "execution_count": 9,
      "outputs": [
        {
          "output_type": "execute_result",
          "data": {
            "text/plain": [
              "key1  key2\n",
              "a     one    -0.319943\n",
              "      two     0.546181\n",
              "b     one    -2.620541\n",
              "      two     0.987506\n",
              "Name: data1, dtype: float64"
            ]
          },
          "metadata": {
            "tags": []
          },
          "execution_count": 9
        }
      ]
    },
    {
      "cell_type": "code",
      "metadata": {
        "id": "0Q09b12lzugW",
        "colab_type": "code",
        "colab": {}
      },
      "source": [
        "media.unstack()"
      ],
      "execution_count": 0,
      "outputs": []
    },
    {
      "cell_type": "markdown",
      "metadata": {
        "id": "VvowjZ25z3RS",
        "colab_type": "text"
      },
      "source": [
        "En el siguiente ejemplo todo el grupo de keys son series, de esta manera podría haber cualquier arreglo de la longitud correcta "
      ]
    },
    {
      "cell_type": "code",
      "metadata": {
        "id": "BPb4TiJa0N1L",
        "colab_type": "code",
        "colab": {}
      },
      "source": [
        "prov = np.array(['Buenos Aires', 'Buenos Aires', 'Córdoba', 'Córdoba', 'Tucumán'])\n",
        "anios = np.array([2005, 2005, 2006, 2005, 2006])"
      ],
      "execution_count": 0,
      "outputs": []
    },
    {
      "cell_type": "code",
      "metadata": {
        "id": "W-AeL8DO0SUE",
        "colab_type": "code",
        "colab": {}
      },
      "source": [
        "df['data1'].groupby([prov, anios]).mean()"
      ],
      "execution_count": 0,
      "outputs": []
    },
    {
      "cell_type": "markdown",
      "metadata": {
        "id": "_SAtsTx-1xjS",
        "colab_type": "text"
      },
      "source": [
        "## Seleccionando una columna o subset de columnas\n",
        "\n",
        "La indexación de un objeto **GroupBy** creado a partir de un DataFrame con un nombre de columna o matriz de nombres de columna, genera un subconjunto de columnas para la agregación."
      ]
    },
    {
      "cell_type": "code",
      "metadata": {
        "id": "Ock1N3TL2BWx",
        "colab_type": "code",
        "colab": {}
      },
      "source": [
        "df.groupby('key1')['data1'] # Equivalente a df['data1'].groupby(df['key1'])\n",
        "df.groupby('key1')[['data2']] # Equivalente a df[['data2']].groupby(df['key1'])"
      ],
      "execution_count": 0,
      "outputs": []
    },
    {
      "cell_type": "markdown",
      "metadata": {
        "id": "dHeua-rw2ghN",
        "colab_type": "text"
      },
      "source": [
        "Especialmente para grandes conjuntos de datos, puede ser conveniente agregar solo unas pocas columnas. Por ejemplo, en el conjunto de datos anterior, para calcular medios solo para la columna data2 y obtener el resultado como un DataFrame, podríamos escribir:"
      ]
    },
    {
      "cell_type": "code",
      "metadata": {
        "id": "Ei1BEtyD3OFc",
        "colab_type": "code",
        "colab": {}
      },
      "source": [
        "df.groupby(['key1', 'key2'])[['data2']].mean()"
      ],
      "execution_count": 0,
      "outputs": []
    },
    {
      "cell_type": "markdown",
      "metadata": {
        "id": "A_Dgzoor3tU7",
        "colab_type": "text"
      },
      "source": [
        "El objeto devuelto por esta operación de indexación es un DataFrame agrupado si se pasa una lista o matriz o una Serie agrupada si solo se pasa un solo nombre de columna como escalar"
      ]
    },
    {
      "cell_type": "code",
      "metadata": {
        "id": "NWWVxT0p3y8v",
        "colab_type": "code",
        "colab": {
          "base_uri": "https://localhost:8080/",
          "height": 121
        },
        "outputId": "c4ce051f-a58f-4116-be1b-9ec33a4197fd"
      },
      "source": [
        "s_grouped = df.groupby(['key1', 'key2'])['data2']\n",
        "s_grouped.mean()"
      ],
      "execution_count": 22,
      "outputs": [
        {
          "output_type": "execute_result",
          "data": {
            "text/plain": [
              "key1  key2\n",
              "a     one     0.625985\n",
              "      two     1.098123\n",
              "b     one     1.264394\n",
              "      two    -0.223157\n",
              "Name: data2, dtype: float64"
            ]
          },
          "metadata": {
            "tags": []
          },
          "execution_count": 22
        }
      ]
    }
  ]
}