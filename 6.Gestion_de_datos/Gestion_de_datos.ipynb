{
  "nbformat": 4,
  "nbformat_minor": 0,
  "metadata": {
    "colab": {
      "name": "Gestion_de_datos.ipynb",
      "provenance": [],
      "collapsed_sections": [],
      "authorship_tag": "ABX9TyMB7DWAbtYxU/digGi7sHYG",
      "include_colab_link": true
    },
    "kernelspec": {
      "name": "python3",
      "display_name": "Python 3"
    }
  },
  "cells": [
    {
      "cell_type": "markdown",
      "metadata": {
        "id": "view-in-github",
        "colab_type": "text"
      },
      "source": [
        "<a href=\"https://colab.research.google.com/github/al34n1x/DataScience/blob/master/6.Gestion_de_datos/Gestion_de_datos.ipynb\" target=\"_parent\"><img src=\"https://colab.research.google.com/assets/colab-badge.svg\" alt=\"Open In Colab\"/></a>"
      ]
    },
    {
      "cell_type": "markdown",
      "metadata": {
        "id": "37Vujga1JOOK",
        "colab_type": "text"
      },
      "source": [
        "# Gestión de datos: Join, Combine, y Reshape\n",
        "\n",
        "En muchas aplicaciones, los datos son distrbuidos a través de un diferentes archivos y base de datos, o en un formato que no es fácil de analizar. \n",
        "Para ello, utilizaremos herramientas que nos facilitarán el proceso de preparación de los datos. \n",
        "Algunas de ellas ya las hemos visto como parte de otros capítulos, por lo que destacaremos las más importantes."
      ]
    },
    {
      "cell_type": "markdown",
      "metadata": {
        "id": "g-QfwPOyJ0JO",
        "colab_type": "text"
      },
      "source": [
        "## Indice Jerárquico\n",
        "\n",
        "Es una herramienta importante de Pandas. Permite tener multiples índices en un mismo eje. Para ponerlo un poco más simple, te permite trabajar con datos de una dimensión superior en una inferiór (Ejemplo, ventas por local y a través del tiempo)"
      ]
    },
    {
      "cell_type": "code",
      "metadata": {
        "id": "E71q1egDJBEp",
        "colab_type": "code",
        "colab": {}
      },
      "source": [
        "import pandas as pd\n",
        "import numpy as np\n",
        "data = pd.Series(np.random.randn(9),\n",
        "                 index=[['a', 'a', 'a', 'b', 'b', 'c', 'c', 'd', 'd'],\n",
        "                        [1, 2, 3, 1, 3, 1, 2, 2, 3]])\n",
        "data"
      ],
      "execution_count": 0,
      "outputs": []
    },
    {
      "cell_type": "markdown",
      "metadata": {
        "id": "VIKxDh-yLQf3",
        "colab_type": "text"
      },
      "source": [
        "Lo que está viendo es una vista predefinida de una Serie con un MultiIndex como índice. Los espacios en la visualización del índice significan \"usar la etiqueta directamente arriba\".\n",
        "Con este tipo de índices puedes realizar lo que se llama partial-index, lo que permite obtener un subset de los datos."
      ]
    },
    {
      "cell_type": "code",
      "metadata": {
        "id": "L3acL0c9LmhI",
        "colab_type": "code",
        "colab": {}
      },
      "source": [
        "data['b']"
      ],
      "execution_count": 0,
      "outputs": []
    },
    {
      "cell_type": "code",
      "metadata": {
        "id": "H-HSqi0ULyES",
        "colab_type": "code",
        "colab": {}
      },
      "source": [
        "data.loc[:, 2] # La selección es posible incluso desde dentro del nivel"
      ],
      "execution_count": 0,
      "outputs": []
    },
    {
      "cell_type": "markdown",
      "metadata": {
        "id": "5W6k8FuPMOUs",
        "colab_type": "text"
      },
      "source": [
        "Los índices jerárquicos juegan un rol importante en el modelado y agrupamiento de datos. Por ejemplo, podemos reordenar los datos anteriores en un Dataframe usando el método **unstack**"
      ]
    },
    {
      "cell_type": "code",
      "metadata": {
        "id": "GTs0n3XVMlKy",
        "colab_type": "code",
        "colab": {}
      },
      "source": [
        "data.unstack()"
      ],
      "execution_count": 0,
      "outputs": []
    },
    {
      "cell_type": "code",
      "metadata": {
        "id": "gNPfvGC2MrO8",
        "colab_type": "code",
        "colab": {}
      },
      "source": [
        "data.unstack().stack() # Es la función inversa"
      ],
      "execution_count": 0,
      "outputs": []
    },
    {
      "cell_type": "markdown",
      "metadata": {
        "id": "fW0-QPnwM2X2",
        "colab_type": "text"
      },
      "source": [
        "## Reordenando los diferentes niveles\n",
        "Con los Dataframe, los ejes pueden tener índice jerárquicos también. Veamos el siguiente ejemplo:"
      ]
    },
    {
      "cell_type": "code",
      "metadata": {
        "id": "d1YpZCTZM14I",
        "colab_type": "code",
        "colab": {}
      },
      "source": [
        "df = pd.DataFrame(np.arange(12).reshape((4, 3)),\n",
        "                     index=[['a', 'a', 'b', 'b'], [1, 2, 1, 2]],\n",
        "                     columns=[['Marty', 'Marty', 'Doc'],\n",
        "                              ['Lorraine', 'George', 'Delorean']])\n",
        "df"
      ],
      "execution_count": 0,
      "outputs": []
    },
    {
      "cell_type": "code",
      "metadata": {
        "id": "izL50eEaNyTX",
        "colab_type": "code",
        "colab": {}
      },
      "source": [
        "df.index.names = ['key1', 'key2'] # Los niveles pueden tener nombres. \n",
        "df"
      ],
      "execution_count": 0,
      "outputs": []
    },
    {
      "cell_type": "code",
      "metadata": {
        "id": "W9wShIDgN81e",
        "colab_type": "code",
        "colab": {}
      },
      "source": [
        "df['Marty'] # Podemos seleccionar datos parciales"
      ],
      "execution_count": 0,
      "outputs": []
    },
    {
      "cell_type": "code",
      "metadata": {
        "id": "0mb1Xn6XOG2C",
        "colab_type": "code",
        "colab": {}
      },
      "source": [
        "df.swaplevel('key1','key2') # También es posible reordenar por niveles"
      ],
      "execution_count": 0,
      "outputs": []
    },
    {
      "cell_type": "markdown",
      "metadata": {
        "id": "UR3X9lmvOloE",
        "colab_type": "text"
      },
      "source": [
        "Finalmente, podemos aplicar funciones estasdísticas en Dataframes o series, como agregación en un eje particular. \n",
        "Considerando el ejemplo anterior, podemos realizar una agregación por nivel, ya sea por fila o columna: "
      ]
    },
    {
      "cell_type": "code",
      "metadata": {
        "id": "1oxBAT-5OkUX",
        "colab_type": "code",
        "colab": {}
      },
      "source": [
        "df.sum(level='key2')"
      ],
      "execution_count": 0,
      "outputs": []
    },
    {
      "cell_type": "markdown",
      "metadata": {
        "id": "5nEdvsjbPN9y",
        "colab_type": "text"
      },
      "source": [
        "## Indexing columnas en un Dataframe\n",
        "Es muy común que algunas veces desees mover algunos índices de columnas a filas, o viceversa. Para ello podemos utilizar la función **set_index**"
      ]
    },
    {
      "cell_type": "code",
      "metadata": {
        "id": "rZkcVpCgPNhh",
        "colab_type": "code",
        "colab": {}
      },
      "source": [
        "df = pd.DataFrame({'a': range(7), 'b': range(7, 0, -1),\n",
        "                      'c': ['one', 'one', 'one', 'two', 'two',\n",
        "                            'two', 'two'],\n",
        "                      'd': [0, 1, 2, 0, 1, 2, 3]})\n",
        "df"
      ],
      "execution_count": 0,
      "outputs": []
    },
    {
      "cell_type": "code",
      "metadata": {
        "id": "143QWLFvPjPP",
        "colab_type": "code",
        "colab": {}
      },
      "source": [
        "df2 = df.set_index(['c', 'd']) # Si agregamos el parámetro drop = false las columnas no se eliminaran del df\n",
        "df2"
      ],
      "execution_count": 0,
      "outputs": []
    },
    {
      "cell_type": "markdown",
      "metadata": {
        "id": "ONyrRGhIQQaE",
        "colab_type": "text"
      },
      "source": [
        "# Combinando datasets\n",
        "\n",
        "Los datos contenidos en los objetos pandas se pueden combinar de varias maneras:\n",
        "\n",
        "**pandas.merge** conecta filas en DataFrames en función de una o más claves. Esto será familiar para los usuarios de SQL u otras bases de datos relacionales, ya que implementa operaciones de unión de bases de datos.\n",
        "\n",
        "**pandas.concat** concatena o \"apila\" objetos juntos a lo largo de un eje.\n",
        "\n",
        "El método de instancia **combine_first** permite unir datos superpuestos para completar los valores faltantes en un objeto con valores de otro."
      ]
    },
    {
      "cell_type": "markdown",
      "metadata": {
        "id": "4aHveRwpQkdS",
        "colab_type": "text"
      },
      "source": [
        "## Database-Style joins en Dataframes\n",
        "\n",
        "Las operaciones de merge o join combinan conjuntos de datos al vincular filas con una o más claves. Estas operaciones son centrales para las bases de datos relacionales. La función merge en pandas es el principal punto de entrada para usar estos algoritmos en sus datos."
      ]
    },
    {
      "cell_type": "code",
      "metadata": {
        "id": "ONe0mhEWQ6sE",
        "colab_type": "code",
        "colab": {}
      },
      "source": [
        "df1 = pd.DataFrame({'key': ['b', 'b', 'a', 'c', 'a', 'a', 'b'],\n",
        "                    'data1': range(7)})\n",
        "df2 = pd.DataFrame({'key': ['a', 'b', 'd'],\n",
        "                    'data2': range(3)})\n",
        "print(df1)\n",
        "print('\\n')\n",
        "print(df2)"
      ],
      "execution_count": 0,
      "outputs": []
    },
    {
      "cell_type": "markdown",
      "metadata": {
        "id": "1vxjkZqRTIHY",
        "colab_type": "text"
      },
      "source": [
        "Este es un ejemplo de una unión de muchos a uno; los datos en df1 tienen varias filas etiquetadas con a y b, mientras que df2 tiene solo una fila para cada valor en la columna clave. Llamando a fusionar con estos objetos obtenemos:  "
      ]
    },
    {
      "cell_type": "code",
      "metadata": {
        "id": "dk5aY6AnRLF2",
        "colab_type": "code",
        "colab": {}
      },
      "source": [
        "pd.merge(df1,df2)"
      ],
      "execution_count": 0,
      "outputs": []
    }
  ]
}