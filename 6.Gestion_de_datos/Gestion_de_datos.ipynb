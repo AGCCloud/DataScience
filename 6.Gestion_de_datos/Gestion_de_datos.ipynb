{
  "nbformat": 4,
  "nbformat_minor": 0,
  "metadata": {
    "colab": {
      "name": "Gestion_de_datos.ipynb",
      "provenance": [],
      "collapsed_sections": [],
      "authorship_tag": "ABX9TyPNvUUMZfrwRQyMxNYugoe6",
      "include_colab_link": true
    },
    "kernelspec": {
      "name": "python3",
      "display_name": "Python 3"
    }
  },
  "cells": [
    {
      "cell_type": "markdown",
      "metadata": {
        "id": "view-in-github",
        "colab_type": "text"
      },
      "source": [
        "<a href=\"https://colab.research.google.com/github/al34n1x/DataScience/blob/master/6.Gestion_de_datos/Gestion_de_datos.ipynb\" target=\"_parent\"><img src=\"https://colab.research.google.com/assets/colab-badge.svg\" alt=\"Open In Colab\"/></a>"
      ]
    },
    {
      "cell_type": "markdown",
      "metadata": {
        "id": "o5ixhOWpDnNt",
        "colab_type": "toc"
      },
      "source": [
        ">[Gestión de datos: Join, Combine, y Reshape](#updateTitle=true&folderId=1hYY6URNFLa2w5I3uQbpDlwOox_am-5cM&scrollTo=37Vujga1JOOK)\n",
        "\n",
        ">>[Indice Jerárquico](#updateTitle=true&folderId=1hYY6URNFLa2w5I3uQbpDlwOox_am-5cM&scrollTo=g-QfwPOyJ0JO)\n",
        "\n",
        ">>[Reordenando los diferentes niveles](#updateTitle=true&folderId=1hYY6URNFLa2w5I3uQbpDlwOox_am-5cM&scrollTo=fW0-QPnwM2X2)\n",
        "\n",
        ">>[Indexing columnas en un Dataframe](#updateTitle=true&folderId=1hYY6URNFLa2w5I3uQbpDlwOox_am-5cM&scrollTo=5nEdvsjbPN9y)\n",
        "\n",
        ">[Combinando datasets](#updateTitle=true&folderId=1hYY6URNFLa2w5I3uQbpDlwOox_am-5cM&scrollTo=ONyrRGhIQQaE)\n",
        "\n",
        ">>[Database-Style joins en Dataframes](#updateTitle=true&folderId=1hYY6URNFLa2w5I3uQbpDlwOox_am-5cM&scrollTo=4aHveRwpQkdS)\n",
        "\n",
        ">>>[Argumentos de la función Merge](#updateTitle=true&folderId=1hYY6URNFLa2w5I3uQbpDlwOox_am-5cM&scrollTo=S3dWfNjVkOfp)\n",
        "\n",
        ">>[Merge en el índice](#updateTitle=true&folderId=1hYY6URNFLa2w5I3uQbpDlwOox_am-5cM&scrollTo=SnS0Dvcs0pFL)\n",
        "\n",
        ">>[Concatenando entre ejes](#updateTitle=true&folderId=1hYY6URNFLa2w5I3uQbpDlwOox_am-5cM&scrollTo=DI3tPxyq4z_l)\n",
        "\n",
        ">>[Reshaping y Pivot](#updateTitle=true&folderId=1hYY6URNFLa2w5I3uQbpDlwOox_am-5cM&scrollTo=VqNU7hfT7B75)\n",
        "\n",
        ">>>[Pivotar el formato \"largo\" a \"ancho\"](#updateTitle=true&folderId=1hYY6URNFLa2w5I3uQbpDlwOox_am-5cM&scrollTo=AKcrY6W3ADtt)\n",
        "\n"
      ]
    },
    {
      "cell_type": "markdown",
      "metadata": {
        "id": "37Vujga1JOOK",
        "colab_type": "text"
      },
      "source": [
        "# Gestión de datos: Join, Combine, y Reshape\n",
        "\n",
        "En muchas aplicaciones, los datos son distrbuidos a través de un diferentes archivos y base de datos, o en un formato que no es fácil de analizar. \n",
        "Para ello, utilizaremos herramientas que nos facilitarán el proceso de preparación de los datos. \n",
        "Algunas de ellas ya las hemos visto como parte de otros capítulos, por lo que destacaremos las más importantes."
      ]
    },
    {
      "cell_type": "markdown",
      "metadata": {
        "id": "g-QfwPOyJ0JO",
        "colab_type": "text"
      },
      "source": [
        "## Indice Jerárquico\n",
        "\n",
        "Es una herramienta importante de Pandas. Permite tener multiples índices en un mismo eje. Para ponerlo un poco más simple, te permite trabajar con datos de una dimensión superior en una inferiór (Ejemplo, ventas por local y a través del tiempo)"
      ]
    },
    {
      "cell_type": "code",
      "metadata": {
        "id": "E71q1egDJBEp",
        "colab_type": "code",
        "colab": {}
      },
      "source": [
        "import pandas as pd\n",
        "import numpy as np\n",
        "data = pd.Series(np.random.randn(9),\n",
        "                 index=[['a', 'a', 'a', 'b', 'b', 'c', 'c', 'd', 'd'],\n",
        "                        [1, 2, 3, 1, 3, 1, 2, 2, 3]])\n",
        "data"
      ],
      "execution_count": 0,
      "outputs": []
    },
    {
      "cell_type": "markdown",
      "metadata": {
        "id": "VIKxDh-yLQf3",
        "colab_type": "text"
      },
      "source": [
        "Lo que está viendo es una vista predefinida de una Serie con un MultiIndex como índice. Los espacios en la visualización del índice significan \"usar la etiqueta directamente arriba\".\n",
        "Con este tipo de índices puedes realizar lo que se llama partial-index, lo que permite obtener un subset de los datos."
      ]
    },
    {
      "cell_type": "code",
      "metadata": {
        "id": "L3acL0c9LmhI",
        "colab_type": "code",
        "colab": {}
      },
      "source": [
        "data['b']"
      ],
      "execution_count": 0,
      "outputs": []
    },
    {
      "cell_type": "code",
      "metadata": {
        "id": "H-HSqi0ULyES",
        "colab_type": "code",
        "colab": {}
      },
      "source": [
        "data.loc[:, 2] # La selección es posible incluso desde dentro del nivel"
      ],
      "execution_count": 0,
      "outputs": []
    },
    {
      "cell_type": "markdown",
      "metadata": {
        "id": "5W6k8FuPMOUs",
        "colab_type": "text"
      },
      "source": [
        "Los índices jerárquicos juegan un rol importante en el modelado y agrupamiento de datos. Por ejemplo, podemos reordenar los datos anteriores en un Dataframe usando el método **unstack**"
      ]
    },
    {
      "cell_type": "code",
      "metadata": {
        "id": "GTs0n3XVMlKy",
        "colab_type": "code",
        "colab": {}
      },
      "source": [
        "data.unstack()"
      ],
      "execution_count": 0,
      "outputs": []
    },
    {
      "cell_type": "code",
      "metadata": {
        "id": "gNPfvGC2MrO8",
        "colab_type": "code",
        "colab": {}
      },
      "source": [
        "data.unstack().stack() # Es la función inversa"
      ],
      "execution_count": 0,
      "outputs": []
    },
    {
      "cell_type": "markdown",
      "metadata": {
        "id": "fW0-QPnwM2X2",
        "colab_type": "text"
      },
      "source": [
        "## Reordenando los diferentes niveles\n",
        "Con los Dataframe, los ejes pueden tener índice jerárquicos también. Veamos el siguiente ejemplo:"
      ]
    },
    {
      "cell_type": "code",
      "metadata": {
        "id": "d1YpZCTZM14I",
        "colab_type": "code",
        "colab": {
          "base_uri": "https://localhost:8080/",
          "height": 206
        },
        "outputId": "e004a3ef-7abb-44cf-8a3a-7ac6c61d3f56"
      },
      "source": [
        "df = pd.DataFrame(np.arange(12).reshape((4, 3)),\n",
        "                     index=[['a', 'a', 'b', 'b'], [1, 2, 1, 2]],\n",
        "                     columns=[['Marty', 'Marty', 'Doc'],\n",
        "                              ['Lorraine', 'George', 'Delorean']])\n",
        "df"
      ],
      "execution_count": 85,
      "outputs": [
        {
          "output_type": "execute_result",
          "data": {
            "text/html": [
              "<div>\n",
              "<style scoped>\n",
              "    .dataframe tbody tr th:only-of-type {\n",
              "        vertical-align: middle;\n",
              "    }\n",
              "\n",
              "    .dataframe tbody tr th {\n",
              "        vertical-align: top;\n",
              "    }\n",
              "\n",
              "    .dataframe thead tr th {\n",
              "        text-align: left;\n",
              "    }\n",
              "</style>\n",
              "<table border=\"1\" class=\"dataframe\">\n",
              "  <thead>\n",
              "    <tr>\n",
              "      <th></th>\n",
              "      <th></th>\n",
              "      <th colspan=\"2\" halign=\"left\">Marty</th>\n",
              "      <th>Doc</th>\n",
              "    </tr>\n",
              "    <tr>\n",
              "      <th></th>\n",
              "      <th></th>\n",
              "      <th>Lorraine</th>\n",
              "      <th>George</th>\n",
              "      <th>Delorean</th>\n",
              "    </tr>\n",
              "  </thead>\n",
              "  <tbody>\n",
              "    <tr>\n",
              "      <th rowspan=\"2\" valign=\"top\">a</th>\n",
              "      <th>1</th>\n",
              "      <td>0</td>\n",
              "      <td>1</td>\n",
              "      <td>2</td>\n",
              "    </tr>\n",
              "    <tr>\n",
              "      <th>2</th>\n",
              "      <td>3</td>\n",
              "      <td>4</td>\n",
              "      <td>5</td>\n",
              "    </tr>\n",
              "    <tr>\n",
              "      <th rowspan=\"2\" valign=\"top\">b</th>\n",
              "      <th>1</th>\n",
              "      <td>6</td>\n",
              "      <td>7</td>\n",
              "      <td>8</td>\n",
              "    </tr>\n",
              "    <tr>\n",
              "      <th>2</th>\n",
              "      <td>9</td>\n",
              "      <td>10</td>\n",
              "      <td>11</td>\n",
              "    </tr>\n",
              "  </tbody>\n",
              "</table>\n",
              "</div>"
            ],
            "text/plain": [
              "       Marty             Doc\n",
              "    Lorraine George Delorean\n",
              "a 1        0      1        2\n",
              "  2        3      4        5\n",
              "b 1        6      7        8\n",
              "  2        9     10       11"
            ]
          },
          "metadata": {
            "tags": []
          },
          "execution_count": 85
        }
      ]
    },
    {
      "cell_type": "code",
      "metadata": {
        "id": "izL50eEaNyTX",
        "colab_type": "code",
        "colab": {}
      },
      "source": [
        "df.index.names = ['key1', 'key2'] # Los niveles pueden tener nombres. \n",
        "df"
      ],
      "execution_count": 0,
      "outputs": []
    },
    {
      "cell_type": "code",
      "metadata": {
        "id": "W9wShIDgN81e",
        "colab_type": "code",
        "colab": {}
      },
      "source": [
        "df['Marty'] # Podemos seleccionar datos parciales"
      ],
      "execution_count": 0,
      "outputs": []
    },
    {
      "cell_type": "code",
      "metadata": {
        "id": "0mb1Xn6XOG2C",
        "colab_type": "code",
        "colab": {}
      },
      "source": [
        "df.swaplevel('key1','key2') # También es posible reordenar por niveles"
      ],
      "execution_count": 0,
      "outputs": []
    },
    {
      "cell_type": "markdown",
      "metadata": {
        "id": "UR3X9lmvOloE",
        "colab_type": "text"
      },
      "source": [
        "Finalmente, podemos aplicar funciones estadísticas en Dataframes o series, como agregación en un eje particular. \n",
        "Considerando el ejemplo anterior, podemos realizar una agregación por nivel, ya sea por fila o columna: "
      ]
    },
    {
      "cell_type": "code",
      "metadata": {
        "id": "1oxBAT-5OkUX",
        "colab_type": "code",
        "colab": {}
      },
      "source": [
        "df.sum(level='key2')"
      ],
      "execution_count": 0,
      "outputs": []
    },
    {
      "cell_type": "markdown",
      "metadata": {
        "id": "5nEdvsjbPN9y",
        "colab_type": "text"
      },
      "source": [
        "## Indexing columnas en un Dataframe\n",
        "Es muy común que algunas veces desees mover algunos índices de columnas a filas, o viceversa. Para ello podemos utilizar la función **set_index**"
      ]
    },
    {
      "cell_type": "code",
      "metadata": {
        "id": "rZkcVpCgPNhh",
        "colab_type": "code",
        "colab": {
          "base_uri": "https://localhost:8080/",
          "height": 269
        },
        "outputId": "c4a6d525-1c2b-4487-a9d6-3caed7606f19"
      },
      "source": [
        "df = pd.DataFrame({'a': range(7), 'b': range(7, 0, -1),\n",
        "                      'c': ['one', 'one', 'one', 'two', 'two',\n",
        "                            'two', 'two'],\n",
        "                      'd': [0, 1, 2, 0, 1, 2, 3]})\n",
        "df"
      ],
      "execution_count": 92,
      "outputs": [
        {
          "output_type": "execute_result",
          "data": {
            "text/html": [
              "<div>\n",
              "<style scoped>\n",
              "    .dataframe tbody tr th:only-of-type {\n",
              "        vertical-align: middle;\n",
              "    }\n",
              "\n",
              "    .dataframe tbody tr th {\n",
              "        vertical-align: top;\n",
              "    }\n",
              "\n",
              "    .dataframe thead th {\n",
              "        text-align: right;\n",
              "    }\n",
              "</style>\n",
              "<table border=\"1\" class=\"dataframe\">\n",
              "  <thead>\n",
              "    <tr style=\"text-align: right;\">\n",
              "      <th></th>\n",
              "      <th>a</th>\n",
              "      <th>b</th>\n",
              "      <th>c</th>\n",
              "      <th>d</th>\n",
              "    </tr>\n",
              "  </thead>\n",
              "  <tbody>\n",
              "    <tr>\n",
              "      <th>0</th>\n",
              "      <td>0</td>\n",
              "      <td>7</td>\n",
              "      <td>one</td>\n",
              "      <td>0</td>\n",
              "    </tr>\n",
              "    <tr>\n",
              "      <th>1</th>\n",
              "      <td>1</td>\n",
              "      <td>6</td>\n",
              "      <td>one</td>\n",
              "      <td>1</td>\n",
              "    </tr>\n",
              "    <tr>\n",
              "      <th>2</th>\n",
              "      <td>2</td>\n",
              "      <td>5</td>\n",
              "      <td>one</td>\n",
              "      <td>2</td>\n",
              "    </tr>\n",
              "    <tr>\n",
              "      <th>3</th>\n",
              "      <td>3</td>\n",
              "      <td>4</td>\n",
              "      <td>two</td>\n",
              "      <td>0</td>\n",
              "    </tr>\n",
              "    <tr>\n",
              "      <th>4</th>\n",
              "      <td>4</td>\n",
              "      <td>3</td>\n",
              "      <td>two</td>\n",
              "      <td>1</td>\n",
              "    </tr>\n",
              "    <tr>\n",
              "      <th>5</th>\n",
              "      <td>5</td>\n",
              "      <td>2</td>\n",
              "      <td>two</td>\n",
              "      <td>2</td>\n",
              "    </tr>\n",
              "    <tr>\n",
              "      <th>6</th>\n",
              "      <td>6</td>\n",
              "      <td>1</td>\n",
              "      <td>two</td>\n",
              "      <td>3</td>\n",
              "    </tr>\n",
              "  </tbody>\n",
              "</table>\n",
              "</div>"
            ],
            "text/plain": [
              "   a  b    c  d\n",
              "0  0  7  one  0\n",
              "1  1  6  one  1\n",
              "2  2  5  one  2\n",
              "3  3  4  two  0\n",
              "4  4  3  two  1\n",
              "5  5  2  two  2\n",
              "6  6  1  two  3"
            ]
          },
          "metadata": {
            "tags": []
          },
          "execution_count": 92
        }
      ]
    },
    {
      "cell_type": "code",
      "metadata": {
        "id": "143QWLFvPjPP",
        "colab_type": "code",
        "colab": {}
      },
      "source": [
        "df2 = df.set_index(['c', 'd']) # Si agregamos el parámetro drop = false las columnas no se eliminaran del df\n",
        "df2"
      ],
      "execution_count": 0,
      "outputs": []
    },
    {
      "cell_type": "markdown",
      "metadata": {
        "id": "ONyrRGhIQQaE",
        "colab_type": "text"
      },
      "source": [
        "# Combinando datasets\n",
        "\n",
        "Los datos contenidos en los objetos pandas se pueden combinar de varias maneras:\n",
        "\n",
        "**pandas.merge** conecta filas en DataFrames en función de una o más claves. Esto será familiar para los usuarios de SQL u otras bases de datos relacionales, ya que implementa operaciones de unión de bases de datos.\n",
        "\n",
        "**pandas.concat** concatena o \"apila\" objetos juntos a lo largo de un eje.\n",
        "\n",
        "El método de instancia **combine_first** permite unir datos superpuestos para completar los valores faltantes en un objeto con valores de otro."
      ]
    },
    {
      "cell_type": "markdown",
      "metadata": {
        "id": "4aHveRwpQkdS",
        "colab_type": "text"
      },
      "source": [
        "## Database-Style joins en Dataframes\n",
        "\n",
        "Las operaciones de merge o join combinan conjuntos de datos al vincular filas con una o más claves. Estas operaciones son centrales para las bases de datos relacionales. La función merge en pandas es el principal punto de entrada para usar estos algoritmos en sus datos."
      ]
    },
    {
      "cell_type": "code",
      "metadata": {
        "id": "ONe0mhEWQ6sE",
        "colab_type": "code",
        "colab": {
          "base_uri": "https://localhost:8080/",
          "height": 266
        },
        "outputId": "b6fc71d1-ce06-4a01-e175-152c6770010b"
      },
      "source": [
        "df1 = pd.DataFrame({'key': ['b', 'b', 'a', 'c', 'a', 'a', 'b'],\n",
        "                    'data1': range(7)})\n",
        "df2 = pd.DataFrame({'key': ['a', 'b', 'd'],\n",
        "                    'data2': range(3)})\n",
        "print(df1)\n",
        "print('\\n')\n",
        "print(df2)"
      ],
      "execution_count": 94,
      "outputs": [
        {
          "output_type": "stream",
          "text": [
            "  key  data1\n",
            "0   b      0\n",
            "1   b      1\n",
            "2   a      2\n",
            "3   c      3\n",
            "4   a      4\n",
            "5   a      5\n",
            "6   b      6\n",
            "\n",
            "\n",
            "  key  data2\n",
            "0   a      0\n",
            "1   b      1\n",
            "2   d      2\n"
          ],
          "name": "stdout"
        }
      ]
    },
    {
      "cell_type": "markdown",
      "metadata": {
        "id": "1vxjkZqRTIHY",
        "colab_type": "text"
      },
      "source": [
        "Este es un ejemplo de una unión de muchos a uno; los datos en df1 tienen varias filas etiquetadas con a y b, mientras que df2 tiene solo una fila para cada valor en la columna clave. Llamando a fusionar con estos objetos obtenemos:  "
      ]
    },
    {
      "cell_type": "code",
      "metadata": {
        "id": "dk5aY6AnRLF2",
        "colab_type": "code",
        "colab": {
          "base_uri": "https://localhost:8080/",
          "height": 237
        },
        "outputId": "a03cf861-9e82-43b1-f4c7-f34b563231f4"
      },
      "source": [
        "pd.merge(df1,df2)"
      ],
      "execution_count": 97,
      "outputs": [
        {
          "output_type": "execute_result",
          "data": {
            "text/html": [
              "<div>\n",
              "<style scoped>\n",
              "    .dataframe tbody tr th:only-of-type {\n",
              "        vertical-align: middle;\n",
              "    }\n",
              "\n",
              "    .dataframe tbody tr th {\n",
              "        vertical-align: top;\n",
              "    }\n",
              "\n",
              "    .dataframe thead th {\n",
              "        text-align: right;\n",
              "    }\n",
              "</style>\n",
              "<table border=\"1\" class=\"dataframe\">\n",
              "  <thead>\n",
              "    <tr style=\"text-align: right;\">\n",
              "      <th></th>\n",
              "      <th>key</th>\n",
              "      <th>data1</th>\n",
              "      <th>data2</th>\n",
              "    </tr>\n",
              "  </thead>\n",
              "  <tbody>\n",
              "    <tr>\n",
              "      <th>0</th>\n",
              "      <td>b</td>\n",
              "      <td>0</td>\n",
              "      <td>1</td>\n",
              "    </tr>\n",
              "    <tr>\n",
              "      <th>1</th>\n",
              "      <td>b</td>\n",
              "      <td>1</td>\n",
              "      <td>1</td>\n",
              "    </tr>\n",
              "    <tr>\n",
              "      <th>2</th>\n",
              "      <td>b</td>\n",
              "      <td>6</td>\n",
              "      <td>1</td>\n",
              "    </tr>\n",
              "    <tr>\n",
              "      <th>3</th>\n",
              "      <td>a</td>\n",
              "      <td>2</td>\n",
              "      <td>0</td>\n",
              "    </tr>\n",
              "    <tr>\n",
              "      <th>4</th>\n",
              "      <td>a</td>\n",
              "      <td>4</td>\n",
              "      <td>0</td>\n",
              "    </tr>\n",
              "    <tr>\n",
              "      <th>5</th>\n",
              "      <td>a</td>\n",
              "      <td>5</td>\n",
              "      <td>0</td>\n",
              "    </tr>\n",
              "  </tbody>\n",
              "</table>\n",
              "</div>"
            ],
            "text/plain": [
              "  key  data1  data2\n",
              "0   b      0      1\n",
              "1   b      1      1\n",
              "2   b      6      1\n",
              "3   a      2      0\n",
              "4   a      4      0\n",
              "5   a      5      0"
            ]
          },
          "metadata": {
            "tags": []
          },
          "execution_count": 97
        }
      ]
    },
    {
      "cell_type": "markdown",
      "metadata": {
        "id": "PkeN9A15f4vO",
        "colab_type": "text"
      },
      "source": [
        "Puedes observar que no especifiqué en qué columna unir. Si no se especifica esa información, la combinación usa los nombres de columna superpuestos como las claves. Sin embargo, es una buena práctica especificar explícitamente:"
      ]
    },
    {
      "cell_type": "code",
      "metadata": {
        "id": "iHzz4hdWgCP-",
        "colab_type": "code",
        "colab": {}
      },
      "source": [
        "pd.merge(df1, df2, on='key')"
      ],
      "execution_count": 0,
      "outputs": []
    },
    {
      "cell_type": "markdown",
      "metadata": {
        "id": "fW4ACge7gQA2",
        "colab_type": "text"
      },
      "source": [
        "Como en las sentencias SQL, si los nombres de las columnas son diferentes en cada objeto, se puede especificar de forma separada."
      ]
    },
    {
      "cell_type": "code",
      "metadata": {
        "id": "uz5Z3qP2gaqz",
        "colab_type": "code",
        "colab": {
          "base_uri": "https://localhost:8080/",
          "height": 266
        },
        "outputId": "9cb68b12-8d81-4865-fc42-f06d1697cf84"
      },
      "source": [
        "df3 = pd.DataFrame({'lkey': ['b', 'b', 'a', 'c', 'a', 'a', 'b'],\n",
        "                    'data1': range(7)})\n",
        "df4 = pd.DataFrame({'rkey': ['a', 'b', 'd'],\n",
        "                    'data2': range(3)})\n",
        "print (df3)\n",
        "print('\\n')\n",
        "print(df4)"
      ],
      "execution_count": 100,
      "outputs": [
        {
          "output_type": "stream",
          "text": [
            "  lkey  data1\n",
            "0    b      0\n",
            "1    b      1\n",
            "2    a      2\n",
            "3    c      3\n",
            "4    a      4\n",
            "5    a      5\n",
            "6    b      6\n",
            "\n",
            "\n",
            "  rkey  data2\n",
            "0    a      0\n",
            "1    b      1\n",
            "2    d      2\n"
          ],
          "name": "stdout"
        }
      ]
    },
    {
      "cell_type": "code",
      "metadata": {
        "id": "53qGPFYegjVI",
        "colab_type": "code",
        "colab": {}
      },
      "source": [
        "pd.merge(df3, df4, left_on='lkey', right_on='rkey')"
      ],
      "execution_count": 0,
      "outputs": []
    },
    {
      "cell_type": "markdown",
      "metadata": {
        "id": "xyFw4iWhh17Z",
        "colab_type": "text"
      },
      "source": [
        "Puedes notar que los valores **c** y **d** y los datos asociados faltan en el resultado. Por defecto, merge hace una unión 'interna' (inner join); Las claves en el resultado son la intersección, o el conjunto común que se encuentra en ambas tablas. Otras opciones posibles son **izquierda**, **derecha** y **exterior**. La unión externa toma la unión de las claves, combinando el efecto de aplicar las uniones izquierda y derecha.\n",
        "A continuación encontrarás un diagrama con de SQL joins con su correspondiente sentencia en ese lenguaje que te será de utilidad para el desarrollo de tus actividades\n",
        "\n",
        "<img src = \"https://i.pinimg.com/564x/42/48/72/424872ac0b25c05e117b521d55616551.jpg\">\n"
      ]
    },
    {
      "cell_type": "markdown",
      "metadata": {
        "id": "aHnXpV7JjDda",
        "colab_type": "text"
      },
      "source": [
        "A continuación se detallan las opciones que se encuentran disponibles en Pandas con el compartamiento asociado\n",
        "\n",
        "Opción | Comportamiento\n",
        "-------|-------\n",
        "**inner**| Utiliza solo la combinación de claves comunes para ambas tablas\n",
        "**left** | Utiliza solo la combinación de claves encontradas en la tabla declarada a izquierda\n",
        "**right** | Utiliza solo la combinación de claves encontradas en la tabla declarada a derecha\n",
        "**outer** | Utiliza solo la combinación de claves observada en ambas tablas juntas "
      ]
    },
    {
      "cell_type": "code",
      "metadata": {
        "id": "rlLsqB4bVOTz",
        "colab_type": "code",
        "colab": {}
      },
      "source": [
        "df1 = pd.DataFrame({'key': ['b', 'b', 'a', 'c', 'a', 'a', 'b'],\n",
        "                    'data1': range(7)})\n",
        "df2 = pd.DataFrame({'key': ['a', 'b', 'd'],\n",
        "                    'data2': range(3)})\n",
        "print(df1)\n",
        "print('\\n')\n",
        "print(df2)"
      ],
      "execution_count": 0,
      "outputs": []
    },
    {
      "cell_type": "code",
      "metadata": {
        "id": "v86X2n76iuZH",
        "colab_type": "code",
        "colab": {}
      },
      "source": [
        "pd.merge(df1, df2, how='inner')"
      ],
      "execution_count": 0,
      "outputs": []
    },
    {
      "cell_type": "markdown",
      "metadata": {
        "id": "nKv8o0Xmj7M9",
        "colab_type": "text"
      },
      "source": [
        "Para realizar merge con multiples keys, debemos pasar una lista de nombres de columnas"
      ]
    },
    {
      "cell_type": "code",
      "metadata": {
        "id": "G6I4PUfYjxuq",
        "colab_type": "code",
        "colab": {}
      },
      "source": [
        "left = pd.DataFrame({'key1': ['foo', 'foo', 'bar'],\n",
        "                     'key2': ['one', 'two', 'one'],\n",
        "                     'lval': [1, 2, 3]})\n",
        "right = pd.DataFrame({'key1': ['foo', 'foo', 'bar', 'bar'],\n",
        "                      'key2': ['one', 'one', 'one', 'two'],\n",
        "                      'rval': [4, 5, 6, 7]})\n"
      ],
      "execution_count": 0,
      "outputs": []
    },
    {
      "cell_type": "code",
      "metadata": {
        "id": "pLqjUY9DVjmb",
        "colab_type": "code",
        "colab": {
          "base_uri": "https://localhost:8080/",
          "height": 213
        },
        "outputId": "65e4d466-e762-4922-e332-485537dce820"
      },
      "source": [
        "print (left)\n",
        "print ('\\n')\n",
        "print(right)"
      ],
      "execution_count": 111,
      "outputs": [
        {
          "output_type": "stream",
          "text": [
            "  key1 key2  lval\n",
            "0  foo  one     1\n",
            "1  foo  two     2\n",
            "2  bar  one     3\n",
            "\n",
            "\n",
            "  key1 key2  rval\n",
            "0  foo  one     4\n",
            "1  foo  one     5\n",
            "2  bar  one     6\n",
            "3  bar  two     7\n"
          ],
          "name": "stdout"
        }
      ]
    },
    {
      "cell_type": "code",
      "metadata": {
        "id": "ZpTQIyBhVjAh",
        "colab_type": "code",
        "colab": {}
      },
      "source": [
        "pd.merge(left, right, on=['key1', 'key2'], how='inner')"
      ],
      "execution_count": 0,
      "outputs": []
    },
    {
      "cell_type": "markdown",
      "metadata": {
        "id": "S3dWfNjVkOfp",
        "colab_type": "text"
      },
      "source": [
        "###Argumentos de la función **Merge**\n",
        "\n",
        "A continuación se detallan los argumentos más utilizados con la función **merge** asociados a su descripción.\n",
        "\n",
        "Argumento | Descripción\n",
        "---------|------------\n",
        "left | Dataframe se fusiona en el lado izquierdo\n",
        "right | Data frame se fusiona en el lado derecho\n",
        "how | con parámetro 'inner', 'outer', 'left', o 'right'. Default 'inner'\n",
        "on | La unión se hace en base a nombre de columnas. Deben estar presentes en ambos Dataframes\n",
        "left_on| Se utilizan las columnas del Dataframe izquierdo como claves\n",
        "right_on| Análogo al 'left_on'\n",
        "left_index|Utiliza  el índice de fila en la izquierda como clave del join.\n",
        "right_index|Análogo al 'left_index'\n",
        "sort | Ordena datos fusionados lexicográficamente por las claves.\n",
        "suffixes|Tupla de valores de cadenas a agregar a una coluna en caso de sobreposición. Si por ejemplo tenemos data en ambos dataframes podemos agregar data_x, data_y como sufijos\n",
        "copy|Si es falso, evita copiar datos en la estructura resultante.\n",
        "indicator|Agrega una columna especial '_merge' que indica la fuente de cada fila. Valores pueden ser 'left_only', 'right_only', o, 'both'.\n",
        "\n",
        "\n"
      ]
    },
    {
      "cell_type": "markdown",
      "metadata": {
        "id": "SnS0Dvcs0pFL",
        "colab_type": "text"
      },
      "source": [
        "## Merge en el índice\n",
        "\n",
        "En algunos casos, la clave del merge se dará en el índice. En este caso, puedes pasar el parámetro **left_index=true** o **right_index=true** (o ambos) para indicar que el índice será usado como clave de merge. \n"
      ]
    },
    {
      "cell_type": "code",
      "metadata": {
        "id": "lcnLxyc8kN_X",
        "colab_type": "code",
        "colab": {}
      },
      "source": [
        "left1 = pd.DataFrame({'key': ['a', 'b', 'a', 'a', 'b', 'c'],\n",
        "              'value': range(6)})\n",
        "\n",
        "right1 = pd.DataFrame({'group_val': [3.5, 7]}, index=['a', 'b'])"
      ],
      "execution_count": 0,
      "outputs": []
    },
    {
      "cell_type": "code",
      "metadata": {
        "id": "nYQ8V4Im1JbB",
        "colab_type": "code",
        "colab": {}
      },
      "source": [
        "print (left1)\n",
        "print ('\\n')\n",
        "print (right1)"
      ],
      "execution_count": 0,
      "outputs": []
    },
    {
      "cell_type": "code",
      "metadata": {
        "id": "r8X1IO561X_c",
        "colab_type": "code",
        "colab": {}
      },
      "source": [
        "pd.merge(left1, right1, left_on='key', right_index=True) # Qué sucede aquí?"
      ],
      "execution_count": 0,
      "outputs": []
    },
    {
      "cell_type": "code",
      "metadata": {
        "id": "UZYtarz81uK4",
        "colab_type": "code",
        "colab": {}
      },
      "source": [
        "pd.merge(left1, right1, left_on='key', right_index=True, how='outer') # y aquí?"
      ],
      "execution_count": 0,
      "outputs": []
    },
    {
      "cell_type": "code",
      "metadata": {
        "id": "474Qv0s23ywY",
        "colab_type": "code",
        "colab": {}
      },
      "source": [
        "left2 = pd.DataFrame([[1., 2.], [3., 4.], [5., 6.]],\n",
        "            index=['a', 'c', 'e'],\n",
        "            columns=['Devoto', 'Palermo'])\n",
        "\n",
        "right2 = pd.DataFrame([[7., 8.], [9., 10.], [11., 12.], [13, 14]],\n",
        "            index=['b', 'c', 'd', 'e'],\n",
        "            columns=['Belgrano', 'Colegiales'])\n",
        "\n",
        "otro_df= pd.DataFrame([[7., 8.], [9., 10.], [11., 12.], [16., 17.]],\n",
        "            index=['a', 'c', 'e', 'f'],\n",
        "            columns=['Villa Urquiza', 'Nuñez'])"
      ],
      "execution_count": 0,
      "outputs": []
    },
    {
      "cell_type": "code",
      "metadata": {
        "id": "n9yxFSkIoBrY",
        "colab_type": "code",
        "colab": {
          "base_uri": "https://localhost:8080/",
          "height": 143
        },
        "outputId": "26a14ebb-db83-4cc0-964a-d945feb68bbb"
      },
      "source": [
        "left2"
      ],
      "execution_count": 120,
      "outputs": [
        {
          "output_type": "execute_result",
          "data": {
            "text/html": [
              "<div>\n",
              "<style scoped>\n",
              "    .dataframe tbody tr th:only-of-type {\n",
              "        vertical-align: middle;\n",
              "    }\n",
              "\n",
              "    .dataframe tbody tr th {\n",
              "        vertical-align: top;\n",
              "    }\n",
              "\n",
              "    .dataframe thead th {\n",
              "        text-align: right;\n",
              "    }\n",
              "</style>\n",
              "<table border=\"1\" class=\"dataframe\">\n",
              "  <thead>\n",
              "    <tr style=\"text-align: right;\">\n",
              "      <th></th>\n",
              "      <th>Devoto</th>\n",
              "      <th>Palermo</th>\n",
              "    </tr>\n",
              "  </thead>\n",
              "  <tbody>\n",
              "    <tr>\n",
              "      <th>a</th>\n",
              "      <td>1.0</td>\n",
              "      <td>2.0</td>\n",
              "    </tr>\n",
              "    <tr>\n",
              "      <th>c</th>\n",
              "      <td>3.0</td>\n",
              "      <td>4.0</td>\n",
              "    </tr>\n",
              "    <tr>\n",
              "      <th>e</th>\n",
              "      <td>5.0</td>\n",
              "      <td>6.0</td>\n",
              "    </tr>\n",
              "  </tbody>\n",
              "</table>\n",
              "</div>"
            ],
            "text/plain": [
              "   Devoto  Palermo\n",
              "a     1.0      2.0\n",
              "c     3.0      4.0\n",
              "e     5.0      6.0"
            ]
          },
          "metadata": {
            "tags": []
          },
          "execution_count": 120
        }
      ]
    },
    {
      "cell_type": "code",
      "metadata": {
        "id": "mhQ5XfnBoDJ4",
        "colab_type": "code",
        "colab": {
          "base_uri": "https://localhost:8080/",
          "height": 175
        },
        "outputId": "74e04279-21ae-4276-c0cc-25e5c30caf91"
      },
      "source": [
        "right2"
      ],
      "execution_count": 121,
      "outputs": [
        {
          "output_type": "execute_result",
          "data": {
            "text/html": [
              "<div>\n",
              "<style scoped>\n",
              "    .dataframe tbody tr th:only-of-type {\n",
              "        vertical-align: middle;\n",
              "    }\n",
              "\n",
              "    .dataframe tbody tr th {\n",
              "        vertical-align: top;\n",
              "    }\n",
              "\n",
              "    .dataframe thead th {\n",
              "        text-align: right;\n",
              "    }\n",
              "</style>\n",
              "<table border=\"1\" class=\"dataframe\">\n",
              "  <thead>\n",
              "    <tr style=\"text-align: right;\">\n",
              "      <th></th>\n",
              "      <th>Belgrano</th>\n",
              "      <th>Colegiales</th>\n",
              "    </tr>\n",
              "  </thead>\n",
              "  <tbody>\n",
              "    <tr>\n",
              "      <th>b</th>\n",
              "      <td>7.0</td>\n",
              "      <td>8.0</td>\n",
              "    </tr>\n",
              "    <tr>\n",
              "      <th>c</th>\n",
              "      <td>9.0</td>\n",
              "      <td>10.0</td>\n",
              "    </tr>\n",
              "    <tr>\n",
              "      <th>d</th>\n",
              "      <td>11.0</td>\n",
              "      <td>12.0</td>\n",
              "    </tr>\n",
              "    <tr>\n",
              "      <th>e</th>\n",
              "      <td>13.0</td>\n",
              "      <td>14.0</td>\n",
              "    </tr>\n",
              "  </tbody>\n",
              "</table>\n",
              "</div>"
            ],
            "text/plain": [
              "   Belgrano  Colegiales\n",
              "b       7.0         8.0\n",
              "c       9.0        10.0\n",
              "d      11.0        12.0\n",
              "e      13.0        14.0"
            ]
          },
          "metadata": {
            "tags": []
          },
          "execution_count": 121
        }
      ]
    },
    {
      "cell_type": "code",
      "metadata": {
        "id": "uNfec04OoETI",
        "colab_type": "code",
        "colab": {
          "base_uri": "https://localhost:8080/",
          "height": 175
        },
        "outputId": "68354004-1ad0-40b0-fabc-faa163bb80e0"
      },
      "source": [
        "otro_df"
      ],
      "execution_count": 122,
      "outputs": [
        {
          "output_type": "execute_result",
          "data": {
            "text/html": [
              "<div>\n",
              "<style scoped>\n",
              "    .dataframe tbody tr th:only-of-type {\n",
              "        vertical-align: middle;\n",
              "    }\n",
              "\n",
              "    .dataframe tbody tr th {\n",
              "        vertical-align: top;\n",
              "    }\n",
              "\n",
              "    .dataframe thead th {\n",
              "        text-align: right;\n",
              "    }\n",
              "</style>\n",
              "<table border=\"1\" class=\"dataframe\">\n",
              "  <thead>\n",
              "    <tr style=\"text-align: right;\">\n",
              "      <th></th>\n",
              "      <th>Villa Urquiza</th>\n",
              "      <th>Nuñez</th>\n",
              "    </tr>\n",
              "  </thead>\n",
              "  <tbody>\n",
              "    <tr>\n",
              "      <th>a</th>\n",
              "      <td>7.0</td>\n",
              "      <td>8.0</td>\n",
              "    </tr>\n",
              "    <tr>\n",
              "      <th>c</th>\n",
              "      <td>9.0</td>\n",
              "      <td>10.0</td>\n",
              "    </tr>\n",
              "    <tr>\n",
              "      <th>e</th>\n",
              "      <td>11.0</td>\n",
              "      <td>12.0</td>\n",
              "    </tr>\n",
              "    <tr>\n",
              "      <th>f</th>\n",
              "      <td>16.0</td>\n",
              "      <td>17.0</td>\n",
              "    </tr>\n",
              "  </tbody>\n",
              "</table>\n",
              "</div>"
            ],
            "text/plain": [
              "   Villa Urquiza  Nuñez\n",
              "a            7.0    8.0\n",
              "c            9.0   10.0\n",
              "e           11.0   12.0\n",
              "f           16.0   17.0"
            ]
          },
          "metadata": {
            "tags": []
          },
          "execution_count": 122
        }
      ]
    },
    {
      "cell_type": "markdown",
      "metadata": {
        "id": "FMJ_aL9I4Kwt",
        "colab_type": "text"
      },
      "source": [
        "Para merge simples de índice sobre índice, puede pasar una lista de DataFrames para unirse como alternativa al uso de la función concat más general que se describe en la siguiente sección"
      ]
    },
    {
      "cell_type": "code",
      "metadata": {
        "id": "8XJA8gWW4KQB",
        "colab_type": "code",
        "colab": {}
      },
      "source": [
        "left2.join([right2, otro_df])"
      ],
      "execution_count": 0,
      "outputs": []
    },
    {
      "cell_type": "markdown",
      "metadata": {
        "id": "DI3tPxyq4z_l",
        "colab_type": "text"
      },
      "source": [
        "## Concatenando entre ejes\n",
        "Otro tipo de operación de combinación de datos se conoce indistintamente como concatenación, enlace o apilamiento. La función concatenada de NumPy puede hacer esto con las matrices NumPy"
      ]
    },
    {
      "cell_type": "code",
      "metadata": {
        "id": "AzuuLCMt4-0B",
        "colab_type": "code",
        "colab": {}
      },
      "source": [
        "arreglo = np.arange(12).reshape((3,4))\n",
        "arreglo"
      ],
      "execution_count": 0,
      "outputs": []
    },
    {
      "cell_type": "code",
      "metadata": {
        "id": "zxKF1G-o5Jt1",
        "colab_type": "code",
        "colab": {}
      },
      "source": [
        "np.concatenate([arreglo, arreglo], axis=1)"
      ],
      "execution_count": 0,
      "outputs": []
    },
    {
      "cell_type": "markdown",
      "metadata": {
        "id": "BToz4P3q5WIn",
        "colab_type": "text"
      },
      "source": [
        "En el contexto de objetos pandas como Series y DataFrame, tener ejes etiquetados le permite generalizar aún más la concatenación de matriz"
      ]
    },
    {
      "cell_type": "code",
      "metadata": {
        "id": "jXV6fRXC5X4w",
        "colab_type": "code",
        "colab": {}
      },
      "source": [
        "s1 = pd.Series([0, 1], index=['a', 'b'])\n",
        "s2 = pd.Series([2, 3, 4], index=['c', 'd', 'e'])\n",
        "s3 = pd.Series([5, 6], index=['f', 'g'])"
      ],
      "execution_count": 0,
      "outputs": []
    },
    {
      "cell_type": "code",
      "metadata": {
        "id": "lsVLUmjx5cke",
        "colab_type": "code",
        "colab": {}
      },
      "source": [
        "pd.concat([s1, s2, s3])"
      ],
      "execution_count": 0,
      "outputs": []
    },
    {
      "cell_type": "markdown",
      "metadata": {
        "id": "zMty7o8F5nsO",
        "colab_type": "text"
      },
      "source": [
        "Por defecto, concat funciona a lo largo de axis = 0, produciendo otra serie. Si pasa axis = 1, el resultado será un DataFrame (axis = 1 son las columnas)"
      ]
    },
    {
      "cell_type": "code",
      "metadata": {
        "id": "Qb4gu7L35pt8",
        "colab_type": "code",
        "colab": {}
      },
      "source": [
        "pd.concat([s1, s2, s3], axis=1)"
      ],
      "execution_count": 0,
      "outputs": []
    },
    {
      "cell_type": "code",
      "metadata": {
        "id": "qsD8IV7e6ggD",
        "colab_type": "code",
        "colab": {}
      },
      "source": [
        "pd.concat([s1, s2, s3], axis=1, keys=['uno', 'dos', 'tres'])"
      ],
      "execution_count": 0,
      "outputs": []
    },
    {
      "cell_type": "markdown",
      "metadata": {
        "id": "VqNU7hfT7B75",
        "colab_type": "text"
      },
      "source": [
        "## Reshaping y Pivot\n",
        "\n",
        "Existen varias operaciones básicas para reorganizar datos tabulares. Estos se denominan alternativamente operaciones de Reshaping y Pivot.\n",
        "\n",
        "La indexación jerárquica proporciona una forma consistente de reorganizar los datos en un DataFrame. Hay dos acciones principales:\n",
        "\n",
        "**Apilar**\n",
        "Esto \"gira\" las columnas en los datos a las filas\n",
        "\n",
        "**Desapilar**\n",
        "Esto gira de las filas a las columnas\n",
        "Ilustraré estas operaciones a través de una serie de ejemplos. Considere un pequeño DataFrame con matrices de cadenas como índices de fila y columna:"
      ]
    },
    {
      "cell_type": "code",
      "metadata": {
        "id": "Fck2TAtH7nlJ",
        "colab_type": "code",
        "colab": {
          "base_uri": "https://localhost:8080/",
          "height": 143
        },
        "outputId": "6fd78e95-2417-40d9-8d49-5fdb9b671539"
      },
      "source": [
        "data = pd.DataFrame(np.arange(6).reshape((2, 3)), \n",
        "                    index=pd.Index(['Ohio', 'Colorado'], name='Estado'),\n",
        "                    columns=pd.Index(['Uno', 'Dos', 'Tres'], name='Número'))\n",
        "data"
      ],
      "execution_count": 130,
      "outputs": [
        {
          "output_type": "execute_result",
          "data": {
            "text/html": [
              "<div>\n",
              "<style scoped>\n",
              "    .dataframe tbody tr th:only-of-type {\n",
              "        vertical-align: middle;\n",
              "    }\n",
              "\n",
              "    .dataframe tbody tr th {\n",
              "        vertical-align: top;\n",
              "    }\n",
              "\n",
              "    .dataframe thead th {\n",
              "        text-align: right;\n",
              "    }\n",
              "</style>\n",
              "<table border=\"1\" class=\"dataframe\">\n",
              "  <thead>\n",
              "    <tr style=\"text-align: right;\">\n",
              "      <th>Número</th>\n",
              "      <th>Uno</th>\n",
              "      <th>Dos</th>\n",
              "      <th>Tres</th>\n",
              "    </tr>\n",
              "    <tr>\n",
              "      <th>Estado</th>\n",
              "      <th></th>\n",
              "      <th></th>\n",
              "      <th></th>\n",
              "    </tr>\n",
              "  </thead>\n",
              "  <tbody>\n",
              "    <tr>\n",
              "      <th>Ohio</th>\n",
              "      <td>0</td>\n",
              "      <td>1</td>\n",
              "      <td>2</td>\n",
              "    </tr>\n",
              "    <tr>\n",
              "      <th>Colorado</th>\n",
              "      <td>3</td>\n",
              "      <td>4</td>\n",
              "      <td>5</td>\n",
              "    </tr>\n",
              "  </tbody>\n",
              "</table>\n",
              "</div>"
            ],
            "text/plain": [
              "Número    Uno  Dos  Tres\n",
              "Estado                  \n",
              "Ohio        0    1     2\n",
              "Colorado    3    4     5"
            ]
          },
          "metadata": {
            "tags": []
          },
          "execution_count": 130
        }
      ]
    },
    {
      "cell_type": "code",
      "metadata": {
        "id": "r2vQbyZi72Zl",
        "colab_type": "code",
        "colab": {
          "base_uri": "https://localhost:8080/",
          "height": 159
        },
        "outputId": "5e1e8f34-271c-46ba-e451-69793c878417"
      },
      "source": [
        "resultado = data.stack()\n",
        "resultado"
      ],
      "execution_count": 131,
      "outputs": [
        {
          "output_type": "execute_result",
          "data": {
            "text/plain": [
              "Estado    Número\n",
              "Ohio      Uno       0\n",
              "          Dos       1\n",
              "          Tres      2\n",
              "Colorado  Uno       3\n",
              "          Dos       4\n",
              "          Tres      5\n",
              "dtype: int64"
            ]
          },
          "metadata": {
            "tags": []
          },
          "execution_count": 131
        }
      ]
    },
    {
      "cell_type": "code",
      "metadata": {
        "id": "ZofhtEKC8IAm",
        "colab_type": "code",
        "colab": {
          "base_uri": "https://localhost:8080/",
          "height": 143
        },
        "outputId": "4687cf6d-a4be-44ee-c071-17d54617e9c7"
      },
      "source": [
        "resultado.unstack()"
      ],
      "execution_count": 134,
      "outputs": [
        {
          "output_type": "execute_result",
          "data": {
            "text/html": [
              "<div>\n",
              "<style scoped>\n",
              "    .dataframe tbody tr th:only-of-type {\n",
              "        vertical-align: middle;\n",
              "    }\n",
              "\n",
              "    .dataframe tbody tr th {\n",
              "        vertical-align: top;\n",
              "    }\n",
              "\n",
              "    .dataframe thead th {\n",
              "        text-align: right;\n",
              "    }\n",
              "</style>\n",
              "<table border=\"1\" class=\"dataframe\">\n",
              "  <thead>\n",
              "    <tr style=\"text-align: right;\">\n",
              "      <th>Número</th>\n",
              "      <th>Uno</th>\n",
              "      <th>Dos</th>\n",
              "      <th>Tres</th>\n",
              "    </tr>\n",
              "    <tr>\n",
              "      <th>Estado</th>\n",
              "      <th></th>\n",
              "      <th></th>\n",
              "      <th></th>\n",
              "    </tr>\n",
              "  </thead>\n",
              "  <tbody>\n",
              "    <tr>\n",
              "      <th>Ohio</th>\n",
              "      <td>0</td>\n",
              "      <td>1</td>\n",
              "      <td>2</td>\n",
              "    </tr>\n",
              "    <tr>\n",
              "      <th>Colorado</th>\n",
              "      <td>3</td>\n",
              "      <td>4</td>\n",
              "      <td>5</td>\n",
              "    </tr>\n",
              "  </tbody>\n",
              "</table>\n",
              "</div>"
            ],
            "text/plain": [
              "Número    Uno  Dos  Tres\n",
              "Estado                  \n",
              "Ohio        0    1     2\n",
              "Colorado    3    4     5"
            ]
          },
          "metadata": {
            "tags": []
          },
          "execution_count": 134
        }
      ]
    },
    {
      "cell_type": "markdown",
      "metadata": {
        "id": "Y3bqIVMl8nx4",
        "colab_type": "text"
      },
      "source": [
        "Desapilar podría introducir datos faltantes si no se encuentran todos los valores en el nivel en cada uno de los subgrupos:"
      ]
    },
    {
      "cell_type": "code",
      "metadata": {
        "id": "lQ1xn4_x8pCC",
        "colab_type": "code",
        "colab": {}
      },
      "source": [
        "s1 = pd.Series([0, 1, 2, 3], index=['a', 'b', 'c', 'd'])\n",
        "s2 = pd.Series([4, 5, 6], index=['c', 'd', 'e'])\n",
        "data2 = pd.concat([s1, s2], keys=['one', 'two'])"
      ],
      "execution_count": 0,
      "outputs": []
    },
    {
      "cell_type": "code",
      "metadata": {
        "id": "Af8_esru8umX",
        "colab_type": "code",
        "colab": {
          "base_uri": "https://localhost:8080/",
          "height": 159
        },
        "outputId": "e231d3cf-3050-40c5-b128-f1a2c04c1e8e"
      },
      "source": [
        "data2"
      ],
      "execution_count": 137,
      "outputs": [
        {
          "output_type": "execute_result",
          "data": {
            "text/plain": [
              "one  a    0\n",
              "     b    1\n",
              "     c    2\n",
              "     d    3\n",
              "two  c    4\n",
              "     d    5\n",
              "     e    6\n",
              "dtype: int64"
            ]
          },
          "metadata": {
            "tags": []
          },
          "execution_count": 137
        }
      ]
    },
    {
      "cell_type": "code",
      "metadata": {
        "id": "R6GFLjxJ8w4x",
        "colab_type": "code",
        "colab": {
          "base_uri": "https://localhost:8080/",
          "height": 112
        },
        "outputId": "d92a10ba-69f6-4c0e-f9d1-7d4b0f1670ca"
      },
      "source": [
        "data2.unstack()"
      ],
      "execution_count": 138,
      "outputs": [
        {
          "output_type": "execute_result",
          "data": {
            "text/html": [
              "<div>\n",
              "<style scoped>\n",
              "    .dataframe tbody tr th:only-of-type {\n",
              "        vertical-align: middle;\n",
              "    }\n",
              "\n",
              "    .dataframe tbody tr th {\n",
              "        vertical-align: top;\n",
              "    }\n",
              "\n",
              "    .dataframe thead th {\n",
              "        text-align: right;\n",
              "    }\n",
              "</style>\n",
              "<table border=\"1\" class=\"dataframe\">\n",
              "  <thead>\n",
              "    <tr style=\"text-align: right;\">\n",
              "      <th></th>\n",
              "      <th>a</th>\n",
              "      <th>b</th>\n",
              "      <th>c</th>\n",
              "      <th>d</th>\n",
              "      <th>e</th>\n",
              "    </tr>\n",
              "  </thead>\n",
              "  <tbody>\n",
              "    <tr>\n",
              "      <th>one</th>\n",
              "      <td>0.0</td>\n",
              "      <td>1.0</td>\n",
              "      <td>2.0</td>\n",
              "      <td>3.0</td>\n",
              "      <td>NaN</td>\n",
              "    </tr>\n",
              "    <tr>\n",
              "      <th>two</th>\n",
              "      <td>NaN</td>\n",
              "      <td>NaN</td>\n",
              "      <td>4.0</td>\n",
              "      <td>5.0</td>\n",
              "      <td>6.0</td>\n",
              "    </tr>\n",
              "  </tbody>\n",
              "</table>\n",
              "</div>"
            ],
            "text/plain": [
              "       a    b    c    d    e\n",
              "one  0.0  1.0  2.0  3.0  NaN\n",
              "two  NaN  NaN  4.0  5.0  6.0"
            ]
          },
          "metadata": {
            "tags": []
          },
          "execution_count": 138
        }
      ]
    },
    {
      "cell_type": "markdown",
      "metadata": {
        "id": "08BNlOP1988_",
        "colab_type": "text"
      },
      "source": [
        "Cuando se desapila en un DataFrame, el nivel desapilado se convierte en el nivel más bajo en el resultado:"
      ]
    },
    {
      "cell_type": "code",
      "metadata": {
        "id": "Nlh6siUj-B1o",
        "colab_type": "code",
        "colab": {
          "base_uri": "https://localhost:8080/",
          "height": 269
        },
        "outputId": "0e6a8515-eb32-4a1d-a756-7d97d4c847ae"
      },
      "source": [
        "df = pd.DataFrame({'left': resultado, 'right': resultado + 5},\n",
        "                  columns=pd.Index(['left', 'right'], name='Lado'))\n",
        "df"
      ],
      "execution_count": 139,
      "outputs": [
        {
          "output_type": "execute_result",
          "data": {
            "text/html": [
              "<div>\n",
              "<style scoped>\n",
              "    .dataframe tbody tr th:only-of-type {\n",
              "        vertical-align: middle;\n",
              "    }\n",
              "\n",
              "    .dataframe tbody tr th {\n",
              "        vertical-align: top;\n",
              "    }\n",
              "\n",
              "    .dataframe thead th {\n",
              "        text-align: right;\n",
              "    }\n",
              "</style>\n",
              "<table border=\"1\" class=\"dataframe\">\n",
              "  <thead>\n",
              "    <tr style=\"text-align: right;\">\n",
              "      <th></th>\n",
              "      <th>Lado</th>\n",
              "      <th>left</th>\n",
              "      <th>right</th>\n",
              "    </tr>\n",
              "    <tr>\n",
              "      <th>Estado</th>\n",
              "      <th>Número</th>\n",
              "      <th></th>\n",
              "      <th></th>\n",
              "    </tr>\n",
              "  </thead>\n",
              "  <tbody>\n",
              "    <tr>\n",
              "      <th rowspan=\"3\" valign=\"top\">Ohio</th>\n",
              "      <th>Uno</th>\n",
              "      <td>0</td>\n",
              "      <td>5</td>\n",
              "    </tr>\n",
              "    <tr>\n",
              "      <th>Dos</th>\n",
              "      <td>1</td>\n",
              "      <td>6</td>\n",
              "    </tr>\n",
              "    <tr>\n",
              "      <th>Tres</th>\n",
              "      <td>2</td>\n",
              "      <td>7</td>\n",
              "    </tr>\n",
              "    <tr>\n",
              "      <th rowspan=\"3\" valign=\"top\">Colorado</th>\n",
              "      <th>Uno</th>\n",
              "      <td>3</td>\n",
              "      <td>8</td>\n",
              "    </tr>\n",
              "    <tr>\n",
              "      <th>Dos</th>\n",
              "      <td>4</td>\n",
              "      <td>9</td>\n",
              "    </tr>\n",
              "    <tr>\n",
              "      <th>Tres</th>\n",
              "      <td>5</td>\n",
              "      <td>10</td>\n",
              "    </tr>\n",
              "  </tbody>\n",
              "</table>\n",
              "</div>"
            ],
            "text/plain": [
              "Lado             left  right\n",
              "Estado   Número             \n",
              "Ohio     Uno        0      5\n",
              "         Dos        1      6\n",
              "         Tres       2      7\n",
              "Colorado Uno        3      8\n",
              "         Dos        4      9\n",
              "         Tres       5     10"
            ]
          },
          "metadata": {
            "tags": []
          },
          "execution_count": 139
        }
      ]
    },
    {
      "cell_type": "code",
      "metadata": {
        "id": "I-s6LYEM-Nfn",
        "colab_type": "code",
        "colab": {
          "base_uri": "https://localhost:8080/",
          "height": 206
        },
        "outputId": "a344a34f-8a27-4cf7-f172-cf55df3c4c03"
      },
      "source": [
        "df.unstack('Estado')"
      ],
      "execution_count": 140,
      "outputs": [
        {
          "output_type": "execute_result",
          "data": {
            "text/html": [
              "<div>\n",
              "<style scoped>\n",
              "    .dataframe tbody tr th:only-of-type {\n",
              "        vertical-align: middle;\n",
              "    }\n",
              "\n",
              "    .dataframe tbody tr th {\n",
              "        vertical-align: top;\n",
              "    }\n",
              "\n",
              "    .dataframe thead tr th {\n",
              "        text-align: left;\n",
              "    }\n",
              "\n",
              "    .dataframe thead tr:last-of-type th {\n",
              "        text-align: right;\n",
              "    }\n",
              "</style>\n",
              "<table border=\"1\" class=\"dataframe\">\n",
              "  <thead>\n",
              "    <tr>\n",
              "      <th>Lado</th>\n",
              "      <th colspan=\"2\" halign=\"left\">left</th>\n",
              "      <th colspan=\"2\" halign=\"left\">right</th>\n",
              "    </tr>\n",
              "    <tr>\n",
              "      <th>Estado</th>\n",
              "      <th>Ohio</th>\n",
              "      <th>Colorado</th>\n",
              "      <th>Ohio</th>\n",
              "      <th>Colorado</th>\n",
              "    </tr>\n",
              "    <tr>\n",
              "      <th>Número</th>\n",
              "      <th></th>\n",
              "      <th></th>\n",
              "      <th></th>\n",
              "      <th></th>\n",
              "    </tr>\n",
              "  </thead>\n",
              "  <tbody>\n",
              "    <tr>\n",
              "      <th>Uno</th>\n",
              "      <td>0</td>\n",
              "      <td>3</td>\n",
              "      <td>5</td>\n",
              "      <td>8</td>\n",
              "    </tr>\n",
              "    <tr>\n",
              "      <th>Dos</th>\n",
              "      <td>1</td>\n",
              "      <td>4</td>\n",
              "      <td>6</td>\n",
              "      <td>9</td>\n",
              "    </tr>\n",
              "    <tr>\n",
              "      <th>Tres</th>\n",
              "      <td>2</td>\n",
              "      <td>5</td>\n",
              "      <td>7</td>\n",
              "      <td>10</td>\n",
              "    </tr>\n",
              "  </tbody>\n",
              "</table>\n",
              "</div>"
            ],
            "text/plain": [
              "Lado   left          right         \n",
              "Estado Ohio Colorado  Ohio Colorado\n",
              "Número                             \n",
              "Uno       0        3     5        8\n",
              "Dos       1        4     6        9\n",
              "Tres      2        5     7       10"
            ]
          },
          "metadata": {
            "tags": []
          },
          "execution_count": 140
        }
      ]
    },
    {
      "cell_type": "code",
      "metadata": {
        "id": "Y-IKX8EZ-XVu",
        "colab_type": "code",
        "colab": {
          "base_uri": "https://localhost:8080/",
          "height": 269
        },
        "outputId": "f5a5bcfd-bcc9-4480-9d2e-761081ea0198"
      },
      "source": [
        "df.unstack('Estado').stack('Lado')"
      ],
      "execution_count": 141,
      "outputs": [
        {
          "output_type": "execute_result",
          "data": {
            "text/html": [
              "<div>\n",
              "<style scoped>\n",
              "    .dataframe tbody tr th:only-of-type {\n",
              "        vertical-align: middle;\n",
              "    }\n",
              "\n",
              "    .dataframe tbody tr th {\n",
              "        vertical-align: top;\n",
              "    }\n",
              "\n",
              "    .dataframe thead th {\n",
              "        text-align: right;\n",
              "    }\n",
              "</style>\n",
              "<table border=\"1\" class=\"dataframe\">\n",
              "  <thead>\n",
              "    <tr style=\"text-align: right;\">\n",
              "      <th></th>\n",
              "      <th>Estado</th>\n",
              "      <th>Colorado</th>\n",
              "      <th>Ohio</th>\n",
              "    </tr>\n",
              "    <tr>\n",
              "      <th>Número</th>\n",
              "      <th>Lado</th>\n",
              "      <th></th>\n",
              "      <th></th>\n",
              "    </tr>\n",
              "  </thead>\n",
              "  <tbody>\n",
              "    <tr>\n",
              "      <th rowspan=\"2\" valign=\"top\">Uno</th>\n",
              "      <th>left</th>\n",
              "      <td>3</td>\n",
              "      <td>0</td>\n",
              "    </tr>\n",
              "    <tr>\n",
              "      <th>right</th>\n",
              "      <td>8</td>\n",
              "      <td>5</td>\n",
              "    </tr>\n",
              "    <tr>\n",
              "      <th rowspan=\"2\" valign=\"top\">Dos</th>\n",
              "      <th>left</th>\n",
              "      <td>4</td>\n",
              "      <td>1</td>\n",
              "    </tr>\n",
              "    <tr>\n",
              "      <th>right</th>\n",
              "      <td>9</td>\n",
              "      <td>6</td>\n",
              "    </tr>\n",
              "    <tr>\n",
              "      <th rowspan=\"2\" valign=\"top\">Tres</th>\n",
              "      <th>left</th>\n",
              "      <td>5</td>\n",
              "      <td>2</td>\n",
              "    </tr>\n",
              "    <tr>\n",
              "      <th>right</th>\n",
              "      <td>10</td>\n",
              "      <td>7</td>\n",
              "    </tr>\n",
              "  </tbody>\n",
              "</table>\n",
              "</div>"
            ],
            "text/plain": [
              "Estado        Colorado  Ohio\n",
              "Número Lado                 \n",
              "Uno    left          3     0\n",
              "       right         8     5\n",
              "Dos    left          4     1\n",
              "       right         9     6\n",
              "Tres   left          5     2\n",
              "       right        10     7"
            ]
          },
          "metadata": {
            "tags": []
          },
          "execution_count": 141
        }
      ]
    },
    {
      "cell_type": "markdown",
      "metadata": {
        "id": "AKcrY6W3ADtt",
        "colab_type": "text"
      },
      "source": [
        "### Pivotar el formato \"largo\" a \"ancho\"\n",
        "\n",
        "Una forma común de almacenar múltiples series de tiempo en bases de datos y CSV es en el llamado formato largo o apilado. Carguemos algunos datos de ejemplo y hagamos una pequeña cantidad de disputas de series de tiempo y otra limpieza de datos:"
      ]
    },
    {
      "cell_type": "code",
      "metadata": {
        "id": "5JqYKj1qAED6",
        "colab_type": "code",
        "colab": {
          "base_uri": "https://localhost:8080/",
          "height": 206
        },
        "outputId": "07295e70-e27a-48f0-a764-14e34afa4100"
      },
      "source": [
        "data = pd.read_csv('https://raw.githubusercontent.com/al34n1x/DataScience/master/6.Gestion_de_datos/macrodata.csv')\n",
        "data.head()"
      ],
      "execution_count": 142,
      "outputs": [
        {
          "output_type": "execute_result",
          "data": {
            "text/html": [
              "<div>\n",
              "<style scoped>\n",
              "    .dataframe tbody tr th:only-of-type {\n",
              "        vertical-align: middle;\n",
              "    }\n",
              "\n",
              "    .dataframe tbody tr th {\n",
              "        vertical-align: top;\n",
              "    }\n",
              "\n",
              "    .dataframe thead th {\n",
              "        text-align: right;\n",
              "    }\n",
              "</style>\n",
              "<table border=\"1\" class=\"dataframe\">\n",
              "  <thead>\n",
              "    <tr style=\"text-align: right;\">\n",
              "      <th></th>\n",
              "      <th>year</th>\n",
              "      <th>quarter</th>\n",
              "      <th>realgdp</th>\n",
              "      <th>realcons</th>\n",
              "      <th>realinv</th>\n",
              "      <th>realgovt</th>\n",
              "      <th>realdpi</th>\n",
              "      <th>cpi</th>\n",
              "      <th>m1</th>\n",
              "      <th>tbilrate</th>\n",
              "      <th>unemp</th>\n",
              "      <th>pop</th>\n",
              "      <th>infl</th>\n",
              "      <th>realint</th>\n",
              "    </tr>\n",
              "  </thead>\n",
              "  <tbody>\n",
              "    <tr>\n",
              "      <th>0</th>\n",
              "      <td>1959.0</td>\n",
              "      <td>1.0</td>\n",
              "      <td>2710.349</td>\n",
              "      <td>1707.4</td>\n",
              "      <td>286.898</td>\n",
              "      <td>470.045</td>\n",
              "      <td>1886.9</td>\n",
              "      <td>28.98</td>\n",
              "      <td>139.7</td>\n",
              "      <td>2.82</td>\n",
              "      <td>5.8</td>\n",
              "      <td>177.146</td>\n",
              "      <td>0.00</td>\n",
              "      <td>0.00</td>\n",
              "    </tr>\n",
              "    <tr>\n",
              "      <th>1</th>\n",
              "      <td>1959.0</td>\n",
              "      <td>2.0</td>\n",
              "      <td>2778.801</td>\n",
              "      <td>1733.7</td>\n",
              "      <td>310.859</td>\n",
              "      <td>481.301</td>\n",
              "      <td>1919.7</td>\n",
              "      <td>29.15</td>\n",
              "      <td>141.7</td>\n",
              "      <td>3.08</td>\n",
              "      <td>5.1</td>\n",
              "      <td>177.830</td>\n",
              "      <td>2.34</td>\n",
              "      <td>0.74</td>\n",
              "    </tr>\n",
              "    <tr>\n",
              "      <th>2</th>\n",
              "      <td>1959.0</td>\n",
              "      <td>3.0</td>\n",
              "      <td>2775.488</td>\n",
              "      <td>1751.8</td>\n",
              "      <td>289.226</td>\n",
              "      <td>491.260</td>\n",
              "      <td>1916.4</td>\n",
              "      <td>29.35</td>\n",
              "      <td>140.5</td>\n",
              "      <td>3.82</td>\n",
              "      <td>5.3</td>\n",
              "      <td>178.657</td>\n",
              "      <td>2.74</td>\n",
              "      <td>1.09</td>\n",
              "    </tr>\n",
              "    <tr>\n",
              "      <th>3</th>\n",
              "      <td>1959.0</td>\n",
              "      <td>4.0</td>\n",
              "      <td>2785.204</td>\n",
              "      <td>1753.7</td>\n",
              "      <td>299.356</td>\n",
              "      <td>484.052</td>\n",
              "      <td>1931.3</td>\n",
              "      <td>29.37</td>\n",
              "      <td>140.0</td>\n",
              "      <td>4.33</td>\n",
              "      <td>5.6</td>\n",
              "      <td>179.386</td>\n",
              "      <td>0.27</td>\n",
              "      <td>4.06</td>\n",
              "    </tr>\n",
              "    <tr>\n",
              "      <th>4</th>\n",
              "      <td>1960.0</td>\n",
              "      <td>1.0</td>\n",
              "      <td>2847.699</td>\n",
              "      <td>1770.5</td>\n",
              "      <td>331.722</td>\n",
              "      <td>462.199</td>\n",
              "      <td>1955.5</td>\n",
              "      <td>29.54</td>\n",
              "      <td>139.6</td>\n",
              "      <td>3.50</td>\n",
              "      <td>5.2</td>\n",
              "      <td>180.007</td>\n",
              "      <td>2.31</td>\n",
              "      <td>1.19</td>\n",
              "    </tr>\n",
              "  </tbody>\n",
              "</table>\n",
              "</div>"
            ],
            "text/plain": [
              "     year  quarter   realgdp  realcons  ...  unemp      pop  infl  realint\n",
              "0  1959.0      1.0  2710.349    1707.4  ...    5.8  177.146  0.00     0.00\n",
              "1  1959.0      2.0  2778.801    1733.7  ...    5.1  177.830  2.34     0.74\n",
              "2  1959.0      3.0  2775.488    1751.8  ...    5.3  178.657  2.74     1.09\n",
              "3  1959.0      4.0  2785.204    1753.7  ...    5.6  179.386  0.27     4.06\n",
              "4  1960.0      1.0  2847.699    1770.5  ...    5.2  180.007  2.31     1.19\n",
              "\n",
              "[5 rows x 14 columns]"
            ]
          },
          "metadata": {
            "tags": []
          },
          "execution_count": 142
        }
      ]
    },
    {
      "cell_type": "code",
      "metadata": {
        "id": "KENkLwInAF8x",
        "colab_type": "code",
        "colab": {}
      },
      "source": [
        "periodos = pd.PeriodIndex(year=data.year, quarter=data.quarter,\n",
        "                         name='fecha')\n",
        "\n",
        "'''\n",
        "El método PeriodIndex combina las columnas de año y trimestre\n",
        "para crear un tipo de intervalo de tiempo.\n",
        "\n",
        "'''\n",
        "\n",
        "columnas = pd.Index(['realgdp', 'infl', 'unemp'], name='item')\n",
        "data = data.reindex(columns=columnas)\n",
        "data.index = periodos.to_timestamp('D', 'end')\n",
        "ldata = data.stack().reset_index().rename(columns={0: 'valor'})"
      ],
      "execution_count": 0,
      "outputs": []
    },
    {
      "cell_type": "code",
      "metadata": {
        "id": "U9LMTt6aAMUs",
        "colab_type": "code",
        "colab": {
          "base_uri": "https://localhost:8080/",
          "height": 363
        },
        "outputId": "53b5d445-470e-4603-9f14-9525e39a5e19"
      },
      "source": [
        "ldata[:10]"
      ],
      "execution_count": 146,
      "outputs": [
        {
          "output_type": "execute_result",
          "data": {
            "text/html": [
              "<div>\n",
              "<style scoped>\n",
              "    .dataframe tbody tr th:only-of-type {\n",
              "        vertical-align: middle;\n",
              "    }\n",
              "\n",
              "    .dataframe tbody tr th {\n",
              "        vertical-align: top;\n",
              "    }\n",
              "\n",
              "    .dataframe thead th {\n",
              "        text-align: right;\n",
              "    }\n",
              "</style>\n",
              "<table border=\"1\" class=\"dataframe\">\n",
              "  <thead>\n",
              "    <tr style=\"text-align: right;\">\n",
              "      <th></th>\n",
              "      <th>fecha</th>\n",
              "      <th>item</th>\n",
              "      <th>valor</th>\n",
              "    </tr>\n",
              "  </thead>\n",
              "  <tbody>\n",
              "    <tr>\n",
              "      <th>0</th>\n",
              "      <td>1959-03-31 23:59:59.999999999</td>\n",
              "      <td>realgdp</td>\n",
              "      <td>2710.349</td>\n",
              "    </tr>\n",
              "    <tr>\n",
              "      <th>1</th>\n",
              "      <td>1959-03-31 23:59:59.999999999</td>\n",
              "      <td>infl</td>\n",
              "      <td>0.000</td>\n",
              "    </tr>\n",
              "    <tr>\n",
              "      <th>2</th>\n",
              "      <td>1959-03-31 23:59:59.999999999</td>\n",
              "      <td>unemp</td>\n",
              "      <td>5.800</td>\n",
              "    </tr>\n",
              "    <tr>\n",
              "      <th>3</th>\n",
              "      <td>1959-06-30 23:59:59.999999999</td>\n",
              "      <td>realgdp</td>\n",
              "      <td>2778.801</td>\n",
              "    </tr>\n",
              "    <tr>\n",
              "      <th>4</th>\n",
              "      <td>1959-06-30 23:59:59.999999999</td>\n",
              "      <td>infl</td>\n",
              "      <td>2.340</td>\n",
              "    </tr>\n",
              "    <tr>\n",
              "      <th>5</th>\n",
              "      <td>1959-06-30 23:59:59.999999999</td>\n",
              "      <td>unemp</td>\n",
              "      <td>5.100</td>\n",
              "    </tr>\n",
              "    <tr>\n",
              "      <th>6</th>\n",
              "      <td>1959-09-30 23:59:59.999999999</td>\n",
              "      <td>realgdp</td>\n",
              "      <td>2775.488</td>\n",
              "    </tr>\n",
              "    <tr>\n",
              "      <th>7</th>\n",
              "      <td>1959-09-30 23:59:59.999999999</td>\n",
              "      <td>infl</td>\n",
              "      <td>2.740</td>\n",
              "    </tr>\n",
              "    <tr>\n",
              "      <th>8</th>\n",
              "      <td>1959-09-30 23:59:59.999999999</td>\n",
              "      <td>unemp</td>\n",
              "      <td>5.300</td>\n",
              "    </tr>\n",
              "    <tr>\n",
              "      <th>9</th>\n",
              "      <td>1959-12-31 23:59:59.999999999</td>\n",
              "      <td>realgdp</td>\n",
              "      <td>2785.204</td>\n",
              "    </tr>\n",
              "  </tbody>\n",
              "</table>\n",
              "</div>"
            ],
            "text/plain": [
              "                          fecha     item     valor\n",
              "0 1959-03-31 23:59:59.999999999  realgdp  2710.349\n",
              "1 1959-03-31 23:59:59.999999999     infl     0.000\n",
              "2 1959-03-31 23:59:59.999999999    unemp     5.800\n",
              "3 1959-06-30 23:59:59.999999999  realgdp  2778.801\n",
              "4 1959-06-30 23:59:59.999999999     infl     2.340\n",
              "5 1959-06-30 23:59:59.999999999    unemp     5.100\n",
              "6 1959-09-30 23:59:59.999999999  realgdp  2775.488\n",
              "7 1959-09-30 23:59:59.999999999     infl     2.740\n",
              "8 1959-09-30 23:59:59.999999999    unemp     5.300\n",
              "9 1959-12-31 23:59:59.999999999  realgdp  2785.204"
            ]
          },
          "metadata": {
            "tags": []
          },
          "execution_count": 146
        }
      ]
    },
    {
      "cell_type": "markdown",
      "metadata": {
        "id": "VmBp0LxpCicz",
        "colab_type": "text"
      },
      "source": [
        "Este es el llamado formato largo para múltiples series de tiempo u otros datos de observación con dos o más claves (aquí, nuestras claves son fecha y elemento). Cada fila de la tabla representa una sola observación."
      ]
    },
    {
      "cell_type": "markdown",
      "metadata": {
        "id": "QPiGXQ4tCqkP",
        "colab_type": "text"
      },
      "source": [
        "Los datos se almacenan con frecuencia de esta manera en bases de datos relacionales como MySQL, ya que un esquema fijo (nombres de columna y tipos de datos) permite que el número de valores distintos en la columna del elemento cambie a medida que se agregan datos a la tabla. En el ejemplo anterior, la fecha y el elemento generalmente serían las claves principales (en el lenguaje de la base de datos relacional), ofreciendo integridad relacional y uniones más fáciles. En algunos casos, los datos pueden ser más difíciles de trabajar en este formato; es posible que prefieras tener un DataFrame que contenga una columna por valor de elemento distinto indexado por marcas de tiempo en la columna de fecha. El método pivote de DataFrame realiza exactamente esta transformación:"
      ]
    },
    {
      "cell_type": "code",
      "metadata": {
        "id": "LeFN_4ehAPAZ",
        "colab_type": "code",
        "colab": {
          "base_uri": "https://localhost:8080/",
          "height": 455
        },
        "outputId": "9da18fa2-a6fa-46b2-c5a8-2bb03523862a"
      },
      "source": [
        "pivoted = ldata.pivot('fecha', 'item', 'valor')\n",
        "pivoted"
      ],
      "execution_count": 147,
      "outputs": [
        {
          "output_type": "execute_result",
          "data": {
            "text/html": [
              "<div>\n",
              "<style scoped>\n",
              "    .dataframe tbody tr th:only-of-type {\n",
              "        vertical-align: middle;\n",
              "    }\n",
              "\n",
              "    .dataframe tbody tr th {\n",
              "        vertical-align: top;\n",
              "    }\n",
              "\n",
              "    .dataframe thead th {\n",
              "        text-align: right;\n",
              "    }\n",
              "</style>\n",
              "<table border=\"1\" class=\"dataframe\">\n",
              "  <thead>\n",
              "    <tr style=\"text-align: right;\">\n",
              "      <th>item</th>\n",
              "      <th>infl</th>\n",
              "      <th>realgdp</th>\n",
              "      <th>unemp</th>\n",
              "    </tr>\n",
              "    <tr>\n",
              "      <th>fecha</th>\n",
              "      <th></th>\n",
              "      <th></th>\n",
              "      <th></th>\n",
              "    </tr>\n",
              "  </thead>\n",
              "  <tbody>\n",
              "    <tr>\n",
              "      <th>1959-03-31 23:59:59.999999999</th>\n",
              "      <td>0.00</td>\n",
              "      <td>2710.349</td>\n",
              "      <td>5.8</td>\n",
              "    </tr>\n",
              "    <tr>\n",
              "      <th>1959-06-30 23:59:59.999999999</th>\n",
              "      <td>2.34</td>\n",
              "      <td>2778.801</td>\n",
              "      <td>5.1</td>\n",
              "    </tr>\n",
              "    <tr>\n",
              "      <th>1959-09-30 23:59:59.999999999</th>\n",
              "      <td>2.74</td>\n",
              "      <td>2775.488</td>\n",
              "      <td>5.3</td>\n",
              "    </tr>\n",
              "    <tr>\n",
              "      <th>1959-12-31 23:59:59.999999999</th>\n",
              "      <td>0.27</td>\n",
              "      <td>2785.204</td>\n",
              "      <td>5.6</td>\n",
              "    </tr>\n",
              "    <tr>\n",
              "      <th>1960-03-31 23:59:59.999999999</th>\n",
              "      <td>2.31</td>\n",
              "      <td>2847.699</td>\n",
              "      <td>5.2</td>\n",
              "    </tr>\n",
              "    <tr>\n",
              "      <th>...</th>\n",
              "      <td>...</td>\n",
              "      <td>...</td>\n",
              "      <td>...</td>\n",
              "    </tr>\n",
              "    <tr>\n",
              "      <th>2008-09-30 23:59:59.999999999</th>\n",
              "      <td>-3.16</td>\n",
              "      <td>13324.600</td>\n",
              "      <td>6.0</td>\n",
              "    </tr>\n",
              "    <tr>\n",
              "      <th>2008-12-31 23:59:59.999999999</th>\n",
              "      <td>-8.79</td>\n",
              "      <td>13141.920</td>\n",
              "      <td>6.9</td>\n",
              "    </tr>\n",
              "    <tr>\n",
              "      <th>2009-03-31 23:59:59.999999999</th>\n",
              "      <td>0.94</td>\n",
              "      <td>12925.410</td>\n",
              "      <td>8.1</td>\n",
              "    </tr>\n",
              "    <tr>\n",
              "      <th>2009-06-30 23:59:59.999999999</th>\n",
              "      <td>3.37</td>\n",
              "      <td>12901.504</td>\n",
              "      <td>9.2</td>\n",
              "    </tr>\n",
              "    <tr>\n",
              "      <th>2009-09-30 23:59:59.999999999</th>\n",
              "      <td>3.56</td>\n",
              "      <td>12990.341</td>\n",
              "      <td>9.6</td>\n",
              "    </tr>\n",
              "  </tbody>\n",
              "</table>\n",
              "<p>203 rows × 3 columns</p>\n",
              "</div>"
            ],
            "text/plain": [
              "item                           infl    realgdp  unemp\n",
              "fecha                                                \n",
              "1959-03-31 23:59:59.999999999  0.00   2710.349    5.8\n",
              "1959-06-30 23:59:59.999999999  2.34   2778.801    5.1\n",
              "1959-09-30 23:59:59.999999999  2.74   2775.488    5.3\n",
              "1959-12-31 23:59:59.999999999  0.27   2785.204    5.6\n",
              "1960-03-31 23:59:59.999999999  2.31   2847.699    5.2\n",
              "...                             ...        ...    ...\n",
              "2008-09-30 23:59:59.999999999 -3.16  13324.600    6.0\n",
              "2008-12-31 23:59:59.999999999 -8.79  13141.920    6.9\n",
              "2009-03-31 23:59:59.999999999  0.94  12925.410    8.1\n",
              "2009-06-30 23:59:59.999999999  3.37  12901.504    9.2\n",
              "2009-09-30 23:59:59.999999999  3.56  12990.341    9.6\n",
              "\n",
              "[203 rows x 3 columns]"
            ]
          },
          "metadata": {
            "tags": []
          },
          "execution_count": 147
        }
      ]
    },
    {
      "cell_type": "markdown",
      "metadata": {
        "id": "jfzLyzOlC5CM",
        "colab_type": "text"
      },
      "source": [
        "Los primeros dos valores son las columnas que se utilizarán respectivamente como el índice de fila y columna, luego, finalmente, una columna de valor opcional para llenar el DataFrame. Suponga que tiene dos columnas de valor que desea remodelar simultáneamente:"
      ]
    },
    {
      "cell_type": "code",
      "metadata": {
        "id": "tnp_8vHtASwl",
        "colab_type": "code",
        "colab": {
          "base_uri": "https://localhost:8080/",
          "height": 363
        },
        "outputId": "e8b20300-4494-4e01-dca1-24866e3f97c1"
      },
      "source": [
        "ldata['valor2'] = np.random.randn(len(ldata))\n",
        "ldata[:10]"
      ],
      "execution_count": 148,
      "outputs": [
        {
          "output_type": "execute_result",
          "data": {
            "text/html": [
              "<div>\n",
              "<style scoped>\n",
              "    .dataframe tbody tr th:only-of-type {\n",
              "        vertical-align: middle;\n",
              "    }\n",
              "\n",
              "    .dataframe tbody tr th {\n",
              "        vertical-align: top;\n",
              "    }\n",
              "\n",
              "    .dataframe thead th {\n",
              "        text-align: right;\n",
              "    }\n",
              "</style>\n",
              "<table border=\"1\" class=\"dataframe\">\n",
              "  <thead>\n",
              "    <tr style=\"text-align: right;\">\n",
              "      <th></th>\n",
              "      <th>fecha</th>\n",
              "      <th>item</th>\n",
              "      <th>valor</th>\n",
              "      <th>valor2</th>\n",
              "    </tr>\n",
              "  </thead>\n",
              "  <tbody>\n",
              "    <tr>\n",
              "      <th>0</th>\n",
              "      <td>1959-03-31 23:59:59.999999999</td>\n",
              "      <td>realgdp</td>\n",
              "      <td>2710.349</td>\n",
              "      <td>0.272121</td>\n",
              "    </tr>\n",
              "    <tr>\n",
              "      <th>1</th>\n",
              "      <td>1959-03-31 23:59:59.999999999</td>\n",
              "      <td>infl</td>\n",
              "      <td>0.000</td>\n",
              "      <td>-0.788349</td>\n",
              "    </tr>\n",
              "    <tr>\n",
              "      <th>2</th>\n",
              "      <td>1959-03-31 23:59:59.999999999</td>\n",
              "      <td>unemp</td>\n",
              "      <td>5.800</td>\n",
              "      <td>1.825369</td>\n",
              "    </tr>\n",
              "    <tr>\n",
              "      <th>3</th>\n",
              "      <td>1959-06-30 23:59:59.999999999</td>\n",
              "      <td>realgdp</td>\n",
              "      <td>2778.801</td>\n",
              "      <td>-0.364031</td>\n",
              "    </tr>\n",
              "    <tr>\n",
              "      <th>4</th>\n",
              "      <td>1959-06-30 23:59:59.999999999</td>\n",
              "      <td>infl</td>\n",
              "      <td>2.340</td>\n",
              "      <td>0.766380</td>\n",
              "    </tr>\n",
              "    <tr>\n",
              "      <th>5</th>\n",
              "      <td>1959-06-30 23:59:59.999999999</td>\n",
              "      <td>unemp</td>\n",
              "      <td>5.100</td>\n",
              "      <td>0.905111</td>\n",
              "    </tr>\n",
              "    <tr>\n",
              "      <th>6</th>\n",
              "      <td>1959-09-30 23:59:59.999999999</td>\n",
              "      <td>realgdp</td>\n",
              "      <td>2775.488</td>\n",
              "      <td>-1.526048</td>\n",
              "    </tr>\n",
              "    <tr>\n",
              "      <th>7</th>\n",
              "      <td>1959-09-30 23:59:59.999999999</td>\n",
              "      <td>infl</td>\n",
              "      <td>2.740</td>\n",
              "      <td>0.634709</td>\n",
              "    </tr>\n",
              "    <tr>\n",
              "      <th>8</th>\n",
              "      <td>1959-09-30 23:59:59.999999999</td>\n",
              "      <td>unemp</td>\n",
              "      <td>5.300</td>\n",
              "      <td>0.839670</td>\n",
              "    </tr>\n",
              "    <tr>\n",
              "      <th>9</th>\n",
              "      <td>1959-12-31 23:59:59.999999999</td>\n",
              "      <td>realgdp</td>\n",
              "      <td>2785.204</td>\n",
              "      <td>-0.076978</td>\n",
              "    </tr>\n",
              "  </tbody>\n",
              "</table>\n",
              "</div>"
            ],
            "text/plain": [
              "                          fecha     item     valor    valor2\n",
              "0 1959-03-31 23:59:59.999999999  realgdp  2710.349  0.272121\n",
              "1 1959-03-31 23:59:59.999999999     infl     0.000 -0.788349\n",
              "2 1959-03-31 23:59:59.999999999    unemp     5.800  1.825369\n",
              "3 1959-06-30 23:59:59.999999999  realgdp  2778.801 -0.364031\n",
              "4 1959-06-30 23:59:59.999999999     infl     2.340  0.766380\n",
              "5 1959-06-30 23:59:59.999999999    unemp     5.100  0.905111\n",
              "6 1959-09-30 23:59:59.999999999  realgdp  2775.488 -1.526048\n",
              "7 1959-09-30 23:59:59.999999999     infl     2.740  0.634709\n",
              "8 1959-09-30 23:59:59.999999999    unemp     5.300  0.839670\n",
              "9 1959-12-31 23:59:59.999999999  realgdp  2785.204 -0.076978"
            ]
          },
          "metadata": {
            "tags": []
          },
          "execution_count": 148
        }
      ]
    },
    {
      "cell_type": "markdown",
      "metadata": {
        "id": "LhH-b6wKDReJ",
        "colab_type": "text"
      },
      "source": [
        "Omitiendo el último argumento, obtienes un DataFrame con columnas jerárquicas"
      ]
    },
    {
      "cell_type": "code",
      "metadata": {
        "id": "bOeK14sEAVPy",
        "colab_type": "code",
        "colab": {}
      },
      "source": [
        "pivoted = ldata.pivot('fecha', 'item')\n",
        "pivoted[:5]"
      ],
      "execution_count": 0,
      "outputs": []
    },
    {
      "cell_type": "code",
      "metadata": {
        "id": "aZ9w3UAqB-FG",
        "colab_type": "code",
        "colab": {}
      },
      "source": [
        "pivoted['valor'][:5]"
      ],
      "execution_count": 0,
      "outputs": []
    },
    {
      "cell_type": "markdown",
      "metadata": {
        "id": "xnGABHVCDe4r",
        "colab_type": "text"
      },
      "source": [
        "Pivot es equivalente a crear un índice jerárquico usando **set_index** es seguido de una llamada para desapilar"
      ]
    },
    {
      "cell_type": "code",
      "metadata": {
        "id": "qo0rSzKuAXYB",
        "colab_type": "code",
        "colab": {}
      },
      "source": [
        "unstacked = ldata.set_index(['fecha', 'item']).unstack('item')\n",
        "unstacked[:7]"
      ],
      "execution_count": 0,
      "outputs": []
    },
    {
      "cell_type": "markdown",
      "metadata": {
        "id": "cZwm56LqDw_6",
        "colab_type": "text"
      },
      "source": [
        "### Pivotar el formato \"ancho\" a \"largo\"\n",
        "\n",
        "Una operación inversa para pivotar en DataFrames es **pandas.melt**. En lugar de transformar una columna en muchas en un nuevo DataFrame, combina varias columnas en una, produciendo un DataFrame que es más largo que la entrada."
      ]
    },
    {
      "cell_type": "code",
      "metadata": {
        "id": "Os6a2-ekEFHF",
        "colab_type": "code",
        "colab": {
          "base_uri": "https://localhost:8080/",
          "height": 143
        },
        "outputId": "6e389fea-ab35-4689-fd67-831338f581a9"
      },
      "source": [
        "df = pd.DataFrame({'key': ['foo', 'bar', 'baz'],\n",
        "                   'A': [1, 2, 3],\n",
        "                   'B': [4, 5, 6],\n",
        "                   'C': [7, 8, 9]})\n",
        "df"
      ],
      "execution_count": 154,
      "outputs": [
        {
          "output_type": "execute_result",
          "data": {
            "text/html": [
              "<div>\n",
              "<style scoped>\n",
              "    .dataframe tbody tr th:only-of-type {\n",
              "        vertical-align: middle;\n",
              "    }\n",
              "\n",
              "    .dataframe tbody tr th {\n",
              "        vertical-align: top;\n",
              "    }\n",
              "\n",
              "    .dataframe thead th {\n",
              "        text-align: right;\n",
              "    }\n",
              "</style>\n",
              "<table border=\"1\" class=\"dataframe\">\n",
              "  <thead>\n",
              "    <tr style=\"text-align: right;\">\n",
              "      <th></th>\n",
              "      <th>key</th>\n",
              "      <th>A</th>\n",
              "      <th>B</th>\n",
              "      <th>C</th>\n",
              "    </tr>\n",
              "  </thead>\n",
              "  <tbody>\n",
              "    <tr>\n",
              "      <th>0</th>\n",
              "      <td>foo</td>\n",
              "      <td>1</td>\n",
              "      <td>4</td>\n",
              "      <td>7</td>\n",
              "    </tr>\n",
              "    <tr>\n",
              "      <th>1</th>\n",
              "      <td>bar</td>\n",
              "      <td>2</td>\n",
              "      <td>5</td>\n",
              "      <td>8</td>\n",
              "    </tr>\n",
              "    <tr>\n",
              "      <th>2</th>\n",
              "      <td>baz</td>\n",
              "      <td>3</td>\n",
              "      <td>6</td>\n",
              "      <td>9</td>\n",
              "    </tr>\n",
              "  </tbody>\n",
              "</table>\n",
              "</div>"
            ],
            "text/plain": [
              "   key  A  B  C\n",
              "0  foo  1  4  7\n",
              "1  bar  2  5  8\n",
              "2  baz  3  6  9"
            ]
          },
          "metadata": {
            "tags": []
          },
          "execution_count": 154
        }
      ]
    },
    {
      "cell_type": "code",
      "metadata": {
        "id": "dXpKf5I9ELGo",
        "colab_type": "code",
        "colab": {
          "base_uri": "https://localhost:8080/",
          "height": 332
        },
        "outputId": "d0888db2-c01e-49ae-9488-ef34d8a19a83"
      },
      "source": [
        "union = pd.melt(df, ['key'])\n",
        "union"
      ],
      "execution_count": 155,
      "outputs": [
        {
          "output_type": "execute_result",
          "data": {
            "text/html": [
              "<div>\n",
              "<style scoped>\n",
              "    .dataframe tbody tr th:only-of-type {\n",
              "        vertical-align: middle;\n",
              "    }\n",
              "\n",
              "    .dataframe tbody tr th {\n",
              "        vertical-align: top;\n",
              "    }\n",
              "\n",
              "    .dataframe thead th {\n",
              "        text-align: right;\n",
              "    }\n",
              "</style>\n",
              "<table border=\"1\" class=\"dataframe\">\n",
              "  <thead>\n",
              "    <tr style=\"text-align: right;\">\n",
              "      <th></th>\n",
              "      <th>key</th>\n",
              "      <th>variable</th>\n",
              "      <th>value</th>\n",
              "    </tr>\n",
              "  </thead>\n",
              "  <tbody>\n",
              "    <tr>\n",
              "      <th>0</th>\n",
              "      <td>foo</td>\n",
              "      <td>A</td>\n",
              "      <td>1</td>\n",
              "    </tr>\n",
              "    <tr>\n",
              "      <th>1</th>\n",
              "      <td>bar</td>\n",
              "      <td>A</td>\n",
              "      <td>2</td>\n",
              "    </tr>\n",
              "    <tr>\n",
              "      <th>2</th>\n",
              "      <td>baz</td>\n",
              "      <td>A</td>\n",
              "      <td>3</td>\n",
              "    </tr>\n",
              "    <tr>\n",
              "      <th>3</th>\n",
              "      <td>foo</td>\n",
              "      <td>B</td>\n",
              "      <td>4</td>\n",
              "    </tr>\n",
              "    <tr>\n",
              "      <th>4</th>\n",
              "      <td>bar</td>\n",
              "      <td>B</td>\n",
              "      <td>5</td>\n",
              "    </tr>\n",
              "    <tr>\n",
              "      <th>5</th>\n",
              "      <td>baz</td>\n",
              "      <td>B</td>\n",
              "      <td>6</td>\n",
              "    </tr>\n",
              "    <tr>\n",
              "      <th>6</th>\n",
              "      <td>foo</td>\n",
              "      <td>C</td>\n",
              "      <td>7</td>\n",
              "    </tr>\n",
              "    <tr>\n",
              "      <th>7</th>\n",
              "      <td>bar</td>\n",
              "      <td>C</td>\n",
              "      <td>8</td>\n",
              "    </tr>\n",
              "    <tr>\n",
              "      <th>8</th>\n",
              "      <td>baz</td>\n",
              "      <td>C</td>\n",
              "      <td>9</td>\n",
              "    </tr>\n",
              "  </tbody>\n",
              "</table>\n",
              "</div>"
            ],
            "text/plain": [
              "   key variable  value\n",
              "0  foo        A      1\n",
              "1  bar        A      2\n",
              "2  baz        A      3\n",
              "3  foo        B      4\n",
              "4  bar        B      5\n",
              "5  baz        B      6\n",
              "6  foo        C      7\n",
              "7  bar        C      8\n",
              "8  baz        C      9"
            ]
          },
          "metadata": {
            "tags": []
          },
          "execution_count": 155
        }
      ]
    },
    {
      "cell_type": "code",
      "metadata": {
        "id": "eHvxvMNuETb1",
        "colab_type": "code",
        "colab": {}
      },
      "source": [
        "'''\n",
        "Usando pivot, podemos volver a dar forma al diseño original\n",
        "'''\n",
        "reshaped = union.pivot('key', 'variable', 'value')\n",
        "reshaped"
      ],
      "execution_count": 0,
      "outputs": []
    },
    {
      "cell_type": "markdown",
      "metadata": {
        "id": "4vICfQXAExXs",
        "colab_type": "text"
      },
      "source": [
        "Dado que el resultado de pivot crea un índice a partir de la columna utilizada como etiquetas de fila, es posible que queramos usar reset_index para mover los datos nuevamente a una columna"
      ]
    },
    {
      "cell_type": "code",
      "metadata": {
        "id": "Nlpp2yEkEfXl",
        "colab_type": "code",
        "colab": {}
      },
      "source": [
        "reshaped.reset_index()"
      ],
      "execution_count": 0,
      "outputs": []
    },
    {
      "cell_type": "code",
      "metadata": {
        "id": "VYQE3OWwEn2j",
        "colab_type": "code",
        "colab": {}
      },
      "source": [
        "pd.melt(df, id_vars=['key'], value_vars=['A', 'B'])"
      ],
      "execution_count": 0,
      "outputs": []
    }
  ]
}