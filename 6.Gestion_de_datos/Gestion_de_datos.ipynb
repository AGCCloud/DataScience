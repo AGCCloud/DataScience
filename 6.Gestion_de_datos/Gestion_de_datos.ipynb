{
  "nbformat": 4,
  "nbformat_minor": 0,
  "metadata": {
    "colab": {
      "name": "Gestion_de_datos.ipynb",
      "provenance": [],
      "collapsed_sections": [],
      "authorship_tag": "ABX9TyO9eDI47BYCBmK1lgqkE4ND",
      "include_colab_link": true
    },
    "kernelspec": {
      "name": "python3",
      "display_name": "Python 3"
    }
  },
  "cells": [
    {
      "cell_type": "markdown",
      "metadata": {
        "id": "view-in-github",
        "colab_type": "text"
      },
      "source": [
        "<a href=\"https://colab.research.google.com/github/al34n1x/DataScience/blob/master/6.Gestion_de_datos/Gestion_de_datos.ipynb\" target=\"_parent\"><img src=\"https://colab.research.google.com/assets/colab-badge.svg\" alt=\"Open In Colab\"/></a>"
      ]
    },
    {
      "cell_type": "markdown",
      "metadata": {
        "id": "37Vujga1JOOK",
        "colab_type": "text"
      },
      "source": [
        "# Gestión de datos: Join, Combine, y Reshape\n",
        "\n",
        "En muchas aplicaciones, los datos son distrbuidos a través de un diferentes archivos y base de datos, o en un formato que no es fácil de analizar. \n",
        "Para ello, utilizaremos herramientas que nos facilitarán el proceso de preparación de los datos. \n",
        "Algunas de ellas ya las hemos visto como parte de otros capítulos, por lo que destacaremos las más importantes."
      ]
    },
    {
      "cell_type": "markdown",
      "metadata": {
        "id": "g-QfwPOyJ0JO",
        "colab_type": "text"
      },
      "source": [
        "## Indice Jerárquico\n",
        "\n",
        "Es una herramienta importante de Pandas. Permite tener multiples índices en un mismo eje. Para ponerlo un poco más simple, te permite trabajar con datos de una dimensión superior en una inferiór (Ejemplo, ventas por local y a través del tiempo)"
      ]
    },
    {
      "cell_type": "code",
      "metadata": {
        "id": "E71q1egDJBEp",
        "colab_type": "code",
        "colab": {}
      },
      "source": [
        "import pandas as pd\n",
        "import numpy as np\n",
        "data = pd.Series(np.random.randn(9),\n",
        "                 index=[['a', 'a', 'a', 'b', 'b', 'c', 'c', 'd', 'd'],\n",
        "                        [1, 2, 3, 1, 3, 1, 2, 2, 3]])\n",
        "data"
      ],
      "execution_count": 0,
      "outputs": []
    },
    {
      "cell_type": "markdown",
      "metadata": {
        "id": "VIKxDh-yLQf3",
        "colab_type": "text"
      },
      "source": [
        "Lo que está viendo es una vista predefinida de una Serie con un MultiIndex como índice. Los espacios en la visualización del índice significan \"usar la etiqueta directamente arriba\".\n",
        "Con este tipo de índices puedes realizar lo que se llama partial-index, lo que permite obtener un subset de los datos."
      ]
    },
    {
      "cell_type": "code",
      "metadata": {
        "id": "L3acL0c9LmhI",
        "colab_type": "code",
        "colab": {}
      },
      "source": [
        "data['b']"
      ],
      "execution_count": 0,
      "outputs": []
    },
    {
      "cell_type": "code",
      "metadata": {
        "id": "H-HSqi0ULyES",
        "colab_type": "code",
        "colab": {}
      },
      "source": [
        "data.loc[:, 2] # La selección es posible incluso desde dentro del nivel"
      ],
      "execution_count": 0,
      "outputs": []
    },
    {
      "cell_type": "markdown",
      "metadata": {
        "id": "5W6k8FuPMOUs",
        "colab_type": "text"
      },
      "source": [
        "Los índices jerárquicos juegan un rol importante en el modelado y agrupamiento de datos. Por ejemplo, podemos reordenar los datos anteriores en un Dataframe usando el método **unstack**"
      ]
    },
    {
      "cell_type": "code",
      "metadata": {
        "id": "GTs0n3XVMlKy",
        "colab_type": "code",
        "colab": {}
      },
      "source": [
        "data.unstack()"
      ],
      "execution_count": 0,
      "outputs": []
    },
    {
      "cell_type": "code",
      "metadata": {
        "id": "gNPfvGC2MrO8",
        "colab_type": "code",
        "colab": {}
      },
      "source": [
        "data.unstack().stack() # Es la función inversa"
      ],
      "execution_count": 0,
      "outputs": []
    },
    {
      "cell_type": "markdown",
      "metadata": {
        "id": "fW0-QPnwM2X2",
        "colab_type": "text"
      },
      "source": [
        "## Reordenando los diferentes niveles\n",
        "Con los Dataframe, los ejes pueden tener índice jerárquicos también. Veamos el siguiente ejemplo:"
      ]
    },
    {
      "cell_type": "code",
      "metadata": {
        "id": "d1YpZCTZM14I",
        "colab_type": "code",
        "colab": {}
      },
      "source": [
        "df = pd.DataFrame(np.arange(12).reshape((4, 3)),\n",
        "                     index=[['a', 'a', 'b', 'b'], [1, 2, 1, 2]],\n",
        "                     columns=[['Marty', 'Marty', 'Doc'],\n",
        "                              ['Lorraine', 'George', 'Delorean']])\n",
        "df"
      ],
      "execution_count": 0,
      "outputs": []
    },
    {
      "cell_type": "code",
      "metadata": {
        "id": "izL50eEaNyTX",
        "colab_type": "code",
        "colab": {}
      },
      "source": [
        "df.index.names = ['key1', 'key2'] # Los niveles pueden tener nombres. \n",
        "df"
      ],
      "execution_count": 0,
      "outputs": []
    },
    {
      "cell_type": "code",
      "metadata": {
        "id": "W9wShIDgN81e",
        "colab_type": "code",
        "colab": {}
      },
      "source": [
        "df['Marty'] # Podemos seleccionar datos parciales"
      ],
      "execution_count": 0,
      "outputs": []
    },
    {
      "cell_type": "code",
      "metadata": {
        "id": "0mb1Xn6XOG2C",
        "colab_type": "code",
        "colab": {}
      },
      "source": [
        "df.swaplevel('key1','key2') # También es posible reordenar por niveles"
      ],
      "execution_count": 0,
      "outputs": []
    },
    {
      "cell_type": "markdown",
      "metadata": {
        "id": "UR3X9lmvOloE",
        "colab_type": "text"
      },
      "source": [
        "Finalmente, podemos aplicar funciones estasdísticas en Dataframes o series, como agregación en un eje particular. \n",
        "Considerando el ejemplo anterior, podemos realizar una agregación por nivel, ya sea por fila o columna: "
      ]
    },
    {
      "cell_type": "code",
      "metadata": {
        "id": "1oxBAT-5OkUX",
        "colab_type": "code",
        "colab": {}
      },
      "source": [
        "df.sum(level='key2')"
      ],
      "execution_count": 0,
      "outputs": []
    },
    {
      "cell_type": "markdown",
      "metadata": {
        "id": "5nEdvsjbPN9y",
        "colab_type": "text"
      },
      "source": [
        "## Indexing columnas en un Dataframe\n",
        "Es muy común que algunas veces desees mover algunos índices de columnas a filas, o viceversa. Para ello podemos utilizar la función **set_index**"
      ]
    },
    {
      "cell_type": "code",
      "metadata": {
        "id": "rZkcVpCgPNhh",
        "colab_type": "code",
        "colab": {}
      },
      "source": [
        "df = pd.DataFrame({'a': range(7), 'b': range(7, 0, -1),\n",
        "                      'c': ['one', 'one', 'one', 'two', 'two',\n",
        "                            'two', 'two'],\n",
        "                      'd': [0, 1, 2, 0, 1, 2, 3]})\n",
        "df"
      ],
      "execution_count": 0,
      "outputs": []
    },
    {
      "cell_type": "code",
      "metadata": {
        "id": "143QWLFvPjPP",
        "colab_type": "code",
        "colab": {}
      },
      "source": [
        "df2 = df.set_index(['c', 'd']) # Si agregamos el parámetro drop = false las columnas no se eliminaran del df\n",
        "df2"
      ],
      "execution_count": 0,
      "outputs": []
    },
    {
      "cell_type": "markdown",
      "metadata": {
        "id": "ONyrRGhIQQaE",
        "colab_type": "text"
      },
      "source": [
        "# Combinando datasets\n",
        "\n",
        "Los datos contenidos en los objetos pandas se pueden combinar de varias maneras:\n",
        "\n",
        "**pandas.merge** conecta filas en DataFrames en función de una o más claves. Esto será familiar para los usuarios de SQL u otras bases de datos relacionales, ya que implementa operaciones de unión de bases de datos.\n",
        "\n",
        "**pandas.concat** concatena o \"apila\" objetos juntos a lo largo de un eje.\n",
        "\n",
        "El método de instancia **combine_first** permite unir datos superpuestos para completar los valores faltantes en un objeto con valores de otro."
      ]
    },
    {
      "cell_type": "markdown",
      "metadata": {
        "id": "4aHveRwpQkdS",
        "colab_type": "text"
      },
      "source": [
        "## Database-Style joins en Dataframes\n",
        "\n",
        "Las operaciones de merge o join combinan conjuntos de datos al vincular filas con una o más claves. Estas operaciones son centrales para las bases de datos relacionales. La función merge en pandas es el principal punto de entrada para usar estos algoritmos en sus datos."
      ]
    },
    {
      "cell_type": "code",
      "metadata": {
        "id": "ONe0mhEWQ6sE",
        "colab_type": "code",
        "colab": {}
      },
      "source": [
        "df1 = pd.DataFrame({'key': ['b', 'b', 'a', 'c', 'a', 'a', 'b'],\n",
        "                    'data1': range(7)})\n",
        "df2 = pd.DataFrame({'key': ['a', 'b', 'd'],\n",
        "                    'data2': range(3)})\n",
        "print(df1)\n",
        "print('\\n')\n",
        "print(df2)"
      ],
      "execution_count": 0,
      "outputs": []
    },
    {
      "cell_type": "markdown",
      "metadata": {
        "id": "1vxjkZqRTIHY",
        "colab_type": "text"
      },
      "source": [
        "Este es un ejemplo de una unión de muchos a uno; los datos en df1 tienen varias filas etiquetadas con a y b, mientras que df2 tiene solo una fila para cada valor en la columna clave. Llamando a fusionar con estos objetos obtenemos:  "
      ]
    },
    {
      "cell_type": "code",
      "metadata": {
        "id": "dk5aY6AnRLF2",
        "colab_type": "code",
        "colab": {}
      },
      "source": [
        "pd.merge(df1,df2)"
      ],
      "execution_count": 0,
      "outputs": []
    },
    {
      "cell_type": "markdown",
      "metadata": {
        "id": "PkeN9A15f4vO",
        "colab_type": "text"
      },
      "source": [
        "Puedes observar que no especifiqué en qué columna unir. Si no se especifica esa información, la combinación usa los nombres de columna superpuestos como las claves. Sin embargo, es una buena práctica especificar explícitamente:"
      ]
    },
    {
      "cell_type": "code",
      "metadata": {
        "id": "iHzz4hdWgCP-",
        "colab_type": "code",
        "colab": {}
      },
      "source": [
        "pd.merge(df1, df2, on='key')"
      ],
      "execution_count": 0,
      "outputs": []
    },
    {
      "cell_type": "markdown",
      "metadata": {
        "id": "fW4ACge7gQA2",
        "colab_type": "text"
      },
      "source": [
        "Como en las sentencias SQL, si los nombres de las columnas son diferentes en cada objeto, se puede especificar de forma separada."
      ]
    },
    {
      "cell_type": "code",
      "metadata": {
        "id": "uz5Z3qP2gaqz",
        "colab_type": "code",
        "colab": {}
      },
      "source": [
        "df3 = pd.DataFrame({'lkey': ['b', 'b', 'a', 'c', 'a', 'a', 'b'],\n",
        "                    'data1': range(7)})\n",
        "df4 = pd.DataFrame({'rkey': ['a', 'b', 'd'],\n",
        "                    'data2': range(3)})\n",
        "print (df3)\n",
        "print('\\n')\n",
        "print(df4)"
      ],
      "execution_count": 0,
      "outputs": []
    },
    {
      "cell_type": "code",
      "metadata": {
        "id": "53qGPFYegjVI",
        "colab_type": "code",
        "colab": {}
      },
      "source": [
        "pd.merge(df3, df4, left_on='lkey', right_on='rkey')"
      ],
      "execution_count": 0,
      "outputs": []
    },
    {
      "cell_type": "markdown",
      "metadata": {
        "id": "xyFw4iWhh17Z",
        "colab_type": "text"
      },
      "source": [
        "Puedes notar que los valores **c** y **d** y los datos asociados faltan en el resultado. Por defecto, merge hace una unión 'interna' (inner join); Las claves en el resultado son la intersección, o el conjunto común que se encuentra en ambas tablas. Otras opciones posibles son **izquierda**, **derecha** y **exterior**. La unión externa toma la unión de las claves, combinando el efecto de aplicar las uniones izquierda y derecha.\n",
        "A continuación encontrarás un diagrama con de SQL joins con su correspondiente sentencia en ese lenguaje que te será de utilidad para el desarrollo de tus actividades\n",
        "\n",
        "<img src = \"https://i.pinimg.com/564x/42/48/72/424872ac0b25c05e117b521d55616551.jpg\">\n"
      ]
    },
    {
      "cell_type": "markdown",
      "metadata": {
        "id": "aHnXpV7JjDda",
        "colab_type": "text"
      },
      "source": [
        "A continuación se detallan las opciones que se encuentran disponibles en Pandas con el compartamiento asociado\n",
        "\n",
        "Opción | Comportamiento\n",
        "-------|-------\n",
        "**inner**| Utiliza solo la combinación de claves comunes para ambas tablas\n",
        "**left** | Utiliza solo la combinación de claves encontradas en la tabla declarada a izquierda\n",
        "**right** | Utiliza solo la combinación de claves encontradas en la tabla declarada a derecha\n",
        "**outter** | Utiliza solo la combinación de claves observada en ambas tablas juntas "
      ]
    },
    {
      "cell_type": "code",
      "metadata": {
        "id": "v86X2n76iuZH",
        "colab_type": "code",
        "colab": {}
      },
      "source": [
        "pd.merge(df1, df2, how='outer')"
      ],
      "execution_count": 0,
      "outputs": []
    },
    {
      "cell_type": "markdown",
      "metadata": {
        "id": "nKv8o0Xmj7M9",
        "colab_type": "text"
      },
      "source": [
        "Para realizar merge con multiples keys, debemos pasar una lista de nombres de columnas"
      ]
    },
    {
      "cell_type": "code",
      "metadata": {
        "id": "G6I4PUfYjxuq",
        "colab_type": "code",
        "colab": {}
      },
      "source": [
        "left = pd.DataFrame({'key1': ['foo', 'foo', 'bar'],\n",
        "                     'key2': ['one', 'two', 'one'],\n",
        "                     'lval': [1, 2, 3]})\n",
        "right = pd.DataFrame({'key1': ['foo', 'foo', 'bar', 'bar'],\n",
        "                      'key2': ['one', 'one', 'one', 'two'],\n",
        "                      'rval': [4, 5, 6, 7]})\n",
        "pd.merge(left, right, on=['key1', 'key2'], how='outer')"
      ],
      "execution_count": 0,
      "outputs": []
    },
    {
      "cell_type": "markdown",
      "metadata": {
        "id": "S3dWfNjVkOfp",
        "colab_type": "text"
      },
      "source": [
        "###Argumentos de la función **Merge**\n",
        "\n",
        "A continuación se detallan los argumentos más utilizados con la función **merge** asociados a su descripción.\n",
        "\n",
        "Argumento | Descripción\n",
        "---------|------------\n",
        "left | Dataframe se fusiona en el lado izquierdo\n",
        "right | Data frame se fusiona en el lado derecho\n",
        "how | con parámetro 'inner', 'outer', 'left', o 'right'. Default 'inner'\n",
        "on | La unión se hace en base a nombre de columnas. Deben estar presentes en ambos Dataframes\n",
        "left_on| Se utilizan las columnas del Dataframe izquierdo como claves\n",
        "right_on| Análogo al 'left_on'\n",
        "left_index|Utiliza  el índice de fila en la izquierda como clave del join.\n",
        "right_index|Análogo al 'left_index'\n",
        "sort | Ordena datos fusionados lexicográficamente por las claves.\n",
        "suffixes|Tupla de valores de cadenas a agregar a una coluna en caso de sobreposición. Si por ejemplo tenemos data en ambos dataframes podemos agregar data_x, data_y como sufijos\n",
        "copy|Si es falso, evita copiar datos en la estructura resultante.\n",
        "indicator|Agrega una columna especial '_merge' que indica la fuente de cada fila. Valores pueden ser 'left_only', 'right_only', o, 'both'.\n",
        "\n",
        "\n"
      ]
    },
    {
      "cell_type": "code",
      "metadata": {
        "id": "lcnLxyc8kN_X",
        "colab_type": "code",
        "colab": {}
      },
      "source": [
        ""
      ],
      "execution_count": 0,
      "outputs": []
    }
  ]
}