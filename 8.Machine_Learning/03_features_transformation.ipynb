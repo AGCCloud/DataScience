{
  "nbformat": 4,
  "nbformat_minor": 0,
  "metadata": {
    "colab": {
      "name": "03_features_transformation.ipynb",
      "provenance": [],
      "include_colab_link": true
    },
    "kernelspec": {
      "name": "python3",
      "display_name": "Python 3"
    }
  },
  "cells": [
    {
      "cell_type": "markdown",
      "metadata": {
        "id": "view-in-github",
        "colab_type": "text"
      },
      "source": [
        "<a href=\"https://colab.research.google.com/github/al34n1x/DataScience/blob/master/99.Machine_Learning/03_features_transformation.ipynb\" target=\"_parent\"><img src=\"https://colab.research.google.com/assets/colab-badge.svg\" alt=\"Open In Colab\"/></a>"
      ]
    },
    {
      "cell_type": "markdown",
      "metadata": {
        "id": "Va42QVywwwaE",
        "colab_type": "text"
      },
      "source": [
        "\n",
        "\n",
        "# Transformación de variables"
      ]
    },
    {
      "cell_type": "markdown",
      "metadata": {
        "id": "EJto6Hj5wwaF",
        "colab_type": "text"
      },
      "source": [
        "\n",
        "\n",
        "# Reescalado de variables\n",
        "\n",
        "Reescalar consiste en ajustar los datos a una escala determinada, con unos límites superior e inferior. Una de escalas más usadas es la minmax, en la que se escalan los valores mediante la siguiente expresión.\n",
        "\n",
        "\n"
      ]
    },
    {
      "cell_type": "markdown",
      "metadata": {
        "id": "pz8ol-JjwwaJ",
        "colab_type": "text"
      },
      "source": [
        "\n",
        "\n",
        "\\begin{equation}\n",
        "Z = \\frac{x - min(x)}{max(x) - min(x)}\n",
        "\\end{equation}"
      ]
    },
    {
      "cell_type": "markdown",
      "metadata": {
        "id": "LuicNnUzwwaK",
        "colab_type": "text"
      },
      "source": [
        "\n",
        "\n",
        "En Python podemos aplicar esta escala con los siguiente pasos."
      ]
    },
    {
      "cell_type": "code",
      "metadata": {
        "id": "lSKDB4uFwwaM",
        "colab_type": "code",
        "colab": {}
      },
      "source": [
        "from sklearn import preprocessing\n",
        "import numpy as np"
      ],
      "execution_count": 0,
      "outputs": []
    },
    {
      "cell_type": "markdown",
      "metadata": {
        "id": "XnetXRFVwwaS",
        "colab_type": "text"
      },
      "source": [
        "\n",
        "\n",
        "Creamos un conjunto de datos"
      ]
    },
    {
      "cell_type": "code",
      "metadata": {
        "id": "uWSSLM9BwwaU",
        "colab_type": "code",
        "colab": {}
      },
      "source": [
        "\n",
        "x = np.array([[-500.5], \n",
        "              [-100.1], \n",
        "              [0], \n",
        "              [100.1], \n",
        "              [900.9]])"
      ],
      "execution_count": 0,
      "outputs": []
    },
    {
      "cell_type": "markdown",
      "metadata": {
        "id": "W_QI2Jkewwad",
        "colab_type": "text"
      },
      "source": [
        "\n",
        "\n",
        "Creamos una objeto MinMaxScaler"
      ]
    },
    {
      "cell_type": "code",
      "metadata": {
        "id": "ZH3kzyJEwwae",
        "colab_type": "code",
        "colab": {}
      },
      "source": [
        "minmax_scale = preprocessing.MinMaxScaler(feature_range=(0, 1))"
      ],
      "execution_count": 0,
      "outputs": []
    },
    {
      "cell_type": "markdown",
      "metadata": {
        "id": "roJvq4Ppwwak",
        "colab_type": "text"
      },
      "source": [
        "\n",
        "\n",
        "Aplicamos la escala"
      ]
    },
    {
      "cell_type": "code",
      "metadata": {
        "id": "NzmLH58Wwwam",
        "colab_type": "code",
        "colab": {}
      },
      "source": [
        "x_scale = minmax_scale.fit_transform(x)"
      ],
      "execution_count": 0,
      "outputs": []
    },
    {
      "cell_type": "markdown",
      "metadata": {
        "id": "tivCKriOwwav",
        "colab_type": "text"
      },
      "source": [
        "\n",
        "\n",
        "Vemos la transformación"
      ]
    },
    {
      "cell_type": "code",
      "metadata": {
        "id": "PgPWM1oZwwaw",
        "colab_type": "code",
        "colab": {
          "base_uri": "https://localhost:8080/",
          "height": 108
        },
        "outputId": "06777281-9e59-4337-f76c-593b817d24a4"
      },
      "source": [
        "x_scale"
      ],
      "execution_count": 5,
      "outputs": [
        {
          "output_type": "execute_result",
          "data": {
            "text/plain": [
              "array([[0.        ],\n",
              "       [0.28571429],\n",
              "       [0.35714286],\n",
              "       [0.42857143],\n",
              "       [1.        ]])"
            ]
          },
          "metadata": {
            "tags": []
          },
          "execution_count": 5
        }
      ]
    },
    {
      "cell_type": "markdown",
      "metadata": {
        "id": "o5om5W-Kwwa0",
        "colab_type": "text"
      },
      "source": [
        "\n",
        "\n",
        "# Standarización de variables\n",
        "\n",
        "La standarización es otro método de escalado. Consiste en reescalar una variable para que tenga media 0 y una varianza igual a 1.\n",
        "\n",
        "Vemos como aplicarlo en Python.\n",
        "\n"
      ]
    },
    {
      "cell_type": "code",
      "metadata": {
        "id": "XZ2MiRTrwwa2",
        "colab_type": "code",
        "colab": {}
      },
      "source": [
        "from sklearn import preprocessing\n",
        "import numpy as np"
      ],
      "execution_count": 0,
      "outputs": []
    },
    {
      "cell_type": "markdown",
      "metadata": {
        "id": "qruR4XMEwwa7",
        "colab_type": "text"
      },
      "source": [
        "\n",
        "\n",
        "Creamos un conjutno de datos"
      ]
    },
    {
      "cell_type": "code",
      "metadata": {
        "id": "QzFn-IOewwa8",
        "colab_type": "code",
        "colab": {}
      },
      "source": [
        "x = np.array([[-500.5], \n",
        "              [-100.1], \n",
        "              [0], \n",
        "              [100.1], \n",
        "              [900.9]])"
      ],
      "execution_count": 0,
      "outputs": []
    },
    {
      "cell_type": "markdown",
      "metadata": {
        "id": "ENxiF18BwwbC",
        "colab_type": "text"
      },
      "source": [
        "\n",
        "\n",
        "Creamos el objeto para escalar"
      ]
    },
    {
      "cell_type": "code",
      "metadata": {
        "id": "W7ifkjMGwwbD",
        "colab_type": "code",
        "colab": {}
      },
      "source": [
        "scaler = preprocessing.StandardScaler()"
      ],
      "execution_count": 0,
      "outputs": []
    },
    {
      "cell_type": "markdown",
      "metadata": {
        "id": "y2Sltn1SwwbJ",
        "colab_type": "text"
      },
      "source": [
        "\n",
        "\n",
        "Lo aplicamos"
      ]
    },
    {
      "cell_type": "code",
      "metadata": {
        "id": "9Z-Yp6u2wwbL",
        "colab_type": "code",
        "colab": {}
      },
      "source": [
        "standardized = scaler.fit_transform(x)"
      ],
      "execution_count": 0,
      "outputs": []
    },
    {
      "cell_type": "markdown",
      "metadata": {
        "id": "lDruzCj1wwbQ",
        "colab_type": "text"
      },
      "source": [
        "\n",
        "\n",
        "Vemos la transformación"
      ]
    },
    {
      "cell_type": "code",
      "metadata": {
        "id": "BPG-BtHcwwbS",
        "colab_type": "code",
        "colab": {
          "base_uri": "https://localhost:8080/",
          "height": 108
        },
        "outputId": "8fcf3ad6-5c4b-4315-f1b5-a75049b68e3d"
      },
      "source": [
        "standardized"
      ],
      "execution_count": 10,
      "outputs": [
        {
          "output_type": "execute_result",
          "data": {
            "text/plain": [
              "array([[-1.26687088],\n",
              "       [-0.39316683],\n",
              "       [-0.17474081],\n",
              "       [ 0.0436852 ],\n",
              "       [ 1.79109332]])"
            ]
          },
          "metadata": {
            "tags": []
          },
          "execution_count": 10
        }
      ]
    },
    {
      "cell_type": "markdown",
      "metadata": {
        "id": "i1NgvOFVwwbW",
        "colab_type": "text"
      },
      "source": [
        "\n",
        "\n",
        "# Discretización de variables\n",
        "\n",
        "Consiste en el proceso de asignar los datos a una serie de valores discretos."
      ]
    },
    {
      "cell_type": "code",
      "metadata": {
        "id": "kUYQ6volwwbX",
        "colab_type": "code",
        "colab": {}
      },
      "source": [
        "from sklearn.preprocessing import Binarizer\n",
        "import numpy as np"
      ],
      "execution_count": 0,
      "outputs": []
    },
    {
      "cell_type": "code",
      "metadata": {
        "id": "jFqLQPTZwwbb",
        "colab_type": "code",
        "colab": {}
      },
      "source": [
        "age = np.array([[6], \n",
        "                [12], \n",
        "                [20], \n",
        "                [36], \n",
        "                [65]])"
      ],
      "execution_count": 0,
      "outputs": []
    },
    {
      "cell_type": "markdown",
      "metadata": {
        "id": "UegOUnUXwwbh",
        "colab_type": "text"
      },
      "source": [
        "\n",
        "\n",
        "Tenemos dos opciones en Python, usar un Binarizer, que asigna un valor u otro en función de un límite, o crear unos bins."
      ]
    },
    {
      "cell_type": "markdown",
      "metadata": {
        "id": "OVKUFQgVwwbh",
        "colab_type": "text"
      },
      "source": [
        "\n",
        "\n",
        "Creamos el Binarizer indicando el límite de edad de 18"
      ]
    },
    {
      "cell_type": "code",
      "metadata": {
        "id": "d5uJHXH-wwbi",
        "colab_type": "code",
        "colab": {}
      },
      "source": [
        "binarizer = Binarizer(18)"
      ],
      "execution_count": 0,
      "outputs": []
    },
    {
      "cell_type": "markdown",
      "metadata": {
        "id": "qlzfaYFswwbm",
        "colab_type": "text"
      },
      "source": [
        "\n",
        "\n",
        "Aplicamos la transformación"
      ]
    },
    {
      "cell_type": "code",
      "metadata": {
        "id": "tb2rfKpPwwbm",
        "colab_type": "code",
        "colab": {
          "base_uri": "https://localhost:8080/",
          "height": 108
        },
        "outputId": "58a4ac4e-016d-49aa-8495-f8796d95db76"
      },
      "source": [
        "binarizer.fit_transform(age)"
      ],
      "execution_count": 14,
      "outputs": [
        {
          "output_type": "execute_result",
          "data": {
            "text/plain": [
              "array([[0],\n",
              "       [0],\n",
              "       [1],\n",
              "       [1],\n",
              "       [1]])"
            ]
          },
          "metadata": {
            "tags": []
          },
          "execution_count": 14
        }
      ]
    },
    {
      "cell_type": "markdown",
      "metadata": {
        "id": "HnuPREO6wwbr",
        "colab_type": "text"
      },
      "source": [
        "\n",
        "\n",
        "Creamos una serir de bins a los que asignar los valores"
      ]
    },
    {
      "cell_type": "code",
      "metadata": {
        "id": "6zkZKPCuwwbr",
        "colab_type": "code",
        "colab": {
          "base_uri": "https://localhost:8080/",
          "height": 108
        },
        "outputId": "0f76962f-8375-4515-ced6-1c3f528a4f6a"
      },
      "source": [
        "np.digitize(age, bins=[20,30,64])"
      ],
      "execution_count": 15,
      "outputs": [
        {
          "output_type": "execute_result",
          "data": {
            "text/plain": [
              "array([[0],\n",
              "       [0],\n",
              "       [1],\n",
              "       [2],\n",
              "       [3]])"
            ]
          },
          "metadata": {
            "tags": []
          },
          "execution_count": 15
        }
      ]
    },
    {
      "cell_type": "markdown",
      "metadata": {
        "id": "3-t1RU04wwbv",
        "colab_type": "text"
      },
      "source": [
        "\n",
        "\n",
        "# Reshape\n",
        "\n",
        "El proceso de reshape consiste en dar una nueva forma a la estructura de los datos, sin modificarlos.\n",
        "\n"
      ]
    },
    {
      "cell_type": "markdown",
      "metadata": {
        "id": "RE4DooEewwbv",
        "colab_type": "text"
      },
      "source": [
        "\n",
        "\n",
        "Por ejemplo, dada la matriz 4x3"
      ]
    },
    {
      "cell_type": "code",
      "metadata": {
        "id": "oVhj6bMlwwbw",
        "colab_type": "code",
        "colab": {
          "base_uri": "https://localhost:8080/",
          "height": 90
        },
        "outputId": "c83edf19-9152-46f6-8961-b89e439a265d"
      },
      "source": [
        "matrix = np.array([[1, 2, 3],\n",
        "                   [4, 5, 6],\n",
        "                   [7, 8, 9],\n",
        "                   [10, 11, 12]])\n",
        "matrix"
      ],
      "execution_count": 16,
      "outputs": [
        {
          "output_type": "execute_result",
          "data": {
            "text/plain": [
              "array([[ 1,  2,  3],\n",
              "       [ 4,  5,  6],\n",
              "       [ 7,  8,  9],\n",
              "       [10, 11, 12]])"
            ]
          },
          "metadata": {
            "tags": []
          },
          "execution_count": 16
        }
      ]
    },
    {
      "cell_type": "markdown",
      "metadata": {
        "id": "tsxQYTH0wwb0",
        "colab_type": "text"
      },
      "source": [
        "\n",
        "\n",
        "Podemos transformar los datos por ejemplo en una matriz de 2x6"
      ]
    },
    {
      "cell_type": "code",
      "metadata": {
        "id": "ysPG8vfRwwb3",
        "colab_type": "code",
        "colab": {
          "base_uri": "https://localhost:8080/",
          "height": 53
        },
        "outputId": "b85b92f9-9534-4e25-d2e2-bbb320bff18b"
      },
      "source": [
        "matrix.reshape(2, 6)"
      ],
      "execution_count": 17,
      "outputs": [
        {
          "output_type": "execute_result",
          "data": {
            "text/plain": [
              "array([[ 1,  2,  3,  4,  5,  6],\n",
              "       [ 7,  8,  9, 10, 11, 12]])"
            ]
          },
          "metadata": {
            "tags": []
          },
          "execution_count": 17
        }
      ]
    },
    {
      "cell_type": "markdown",
      "metadata": {
        "id": "P5ZZ86_Jwwb6",
        "colab_type": "text"
      },
      "source": [
        "\n",
        "\n",
        "# One-Hot Encoder\n",
        "\n",
        "El proceso de One-hot encoding consiste en la transformación de variables categóricas en una nueva forma que se puede alimentar a los algoritmos de modo que de lugar a una mejora en las predicciones.\n"
      ]
    },
    {
      "cell_type": "code",
      "metadata": {
        "id": "XPyBYeLzwwb7",
        "colab_type": "code",
        "colab": {}
      },
      "source": [
        "from sklearn.preprocessing import MultiLabelBinarizer\n",
        "import numpy as np\n",
        "import pandas as pd\n",
        "from sklearn import linear_model, decomposition, datasets\n",
        "from sklearn.pipeline import Pipeline\n",
        "from sklearn.model_selection import GridSearchCV, cross_val_score\n",
        "from sklearn.preprocessing import StandardScaler\n"
      ],
      "execution_count": 0,
      "outputs": []
    },
    {
      "cell_type": "markdown",
      "metadata": {
        "id": "W6DzYHYVwwb_",
        "colab_type": "text"
      },
      "source": [
        "\n",
        "\n",
        "Creamos unos datos categóricos de ejemplo"
      ]
    },
    {
      "cell_type": "code",
      "metadata": {
        "id": "oVbLhDHWwwcB",
        "colab_type": "code",
        "colab": {
          "base_uri": "https://localhost:8080/",
          "height": 108
        },
        "outputId": "0bcdcac1-5971-4bc0-e186-d85f625529a0"
      },
      "source": [
        "y = [('Texas', 'Florida'), \n",
        "    ('California', 'Alabama'), \n",
        "    ('Texas', 'Florida'), \n",
        "    ('Delware', 'Florida'), \n",
        "    ('Texas', 'Alabama')]\n",
        "y"
      ],
      "execution_count": 19,
      "outputs": [
        {
          "output_type": "execute_result",
          "data": {
            "text/plain": [
              "[('Texas', 'Florida'),\n",
              " ('California', 'Alabama'),\n",
              " ('Texas', 'Florida'),\n",
              " ('Delware', 'Florida'),\n",
              " ('Texas', 'Alabama')]"
            ]
          },
          "metadata": {
            "tags": []
          },
          "execution_count": 19
        }
      ]
    },
    {
      "cell_type": "markdown",
      "metadata": {
        "id": "elakffI6wwcF",
        "colab_type": "text"
      },
      "source": [
        "\n",
        "\n",
        "Donde tenemos 5 grupos con 5 elementos únicos. Podemos transformar esta información en un array de 5x5 en cada elemento esté representado por un 1 ó 0, indicando la existencia o no del mismo."
      ]
    },
    {
      "cell_type": "markdown",
      "metadata": {
        "id": "XoT_vuNbwwcG",
        "colab_type": "text"
      },
      "source": [
        "\n",
        "\n",
        "Creamos un objeto MultiLabelBinarizer"
      ]
    },
    {
      "cell_type": "code",
      "metadata": {
        "id": "GaFcrvdNwwcG",
        "colab_type": "code",
        "colab": {}
      },
      "source": [
        "one_hot = MultiLabelBinarizer()\n"
      ],
      "execution_count": 0,
      "outputs": []
    },
    {
      "cell_type": "markdown",
      "metadata": {
        "id": "gWb6h_w3wwcM",
        "colab_type": "text"
      },
      "source": [
        "\n",
        "\n",
        "Realizamos la transformación"
      ]
    },
    {
      "cell_type": "code",
      "metadata": {
        "id": "Uhvyo9WRwwcM",
        "colab_type": "code",
        "colab": {
          "base_uri": "https://localhost:8080/",
          "height": 108
        },
        "outputId": "bf790627-eacc-4120-e940-892f1e51f851"
      },
      "source": [
        "one_hot.fit_transform(y)"
      ],
      "execution_count": 21,
      "outputs": [
        {
          "output_type": "execute_result",
          "data": {
            "text/plain": [
              "array([[0, 0, 0, 1, 1],\n",
              "       [1, 1, 0, 0, 0],\n",
              "       [0, 0, 0, 1, 1],\n",
              "       [0, 0, 1, 1, 0],\n",
              "       [1, 0, 0, 0, 1]])"
            ]
          },
          "metadata": {
            "tags": []
          },
          "execution_count": 21
        }
      ]
    },
    {
      "cell_type": "markdown",
      "metadata": {
        "id": "Z37l0Xs5wwcP",
        "colab_type": "text"
      },
      "source": [
        "\n",
        "\n",
        "Vemos cúal es el mapeo de datos"
      ]
    },
    {
      "cell_type": "code",
      "metadata": {
        "id": "04wWIoLCwwcQ",
        "colab_type": "code",
        "colab": {
          "base_uri": "https://localhost:8080/",
          "height": 53
        },
        "outputId": "863f8936-cd7f-457f-adc5-ec2899cc285e"
      },
      "source": [
        "one_hot.classes_"
      ],
      "execution_count": 22,
      "outputs": [
        {
          "output_type": "execute_result",
          "data": {
            "text/plain": [
              "array(['Alabama', 'California', 'Delware', 'Florida', 'Texas'],\n",
              "      dtype=object)"
            ]
          },
          "metadata": {
            "tags": []
          },
          "execution_count": 22
        }
      ]
    },
    {
      "cell_type": "markdown",
      "metadata": {
        "id": "Etw8U6UJwwcU",
        "colab_type": "text"
      },
      "source": [
        "\n",
        "\n",
        "# Pipelines\n",
        "\n",
        "Un pipeline consiste en una serie encadenada de transformaciones sobre los datos ( por ejemplo normalizar númericos, tratar NaNs, etc...) junto con un estimador (algoritmo). Este proceso permite realizar todos los procesos en bloque."
      ]
    },
    {
      "cell_type": "markdown",
      "metadata": {
        "id": "RT6_VIyRwwcU",
        "colab_type": "text"
      },
      "source": [
        "\n",
        "\n",
        "Cargamos una dataset de ejemplo con datos sobre cancer"
      ]
    },
    {
      "cell_type": "code",
      "metadata": {
        "id": "7M3QyAenwwcV",
        "colab_type": "code",
        "colab": {}
      },
      "source": [
        "dataset = datasets.load_breast_cancer()"
      ],
      "execution_count": 0,
      "outputs": []
    },
    {
      "cell_type": "markdown",
      "metadata": {
        "id": "iU4aWUGYwwcZ",
        "colab_type": "text"
      },
      "source": [
        "\n",
        "\n",
        "Create X from the dataset's features"
      ]
    },
    {
      "cell_type": "code",
      "metadata": {
        "id": "q1F5m0JuwwcZ",
        "colab_type": "code",
        "colab": {}
      },
      "source": [
        "X = dataset.data"
      ],
      "execution_count": 0,
      "outputs": []
    },
    {
      "cell_type": "markdown",
      "metadata": {
        "id": "VgSLF9HMwwco",
        "colab_type": "text"
      },
      "source": [
        "\n",
        "\n",
        "Create y from the dataset's output"
      ]
    },
    {
      "cell_type": "code",
      "metadata": {
        "id": "zELNwlA8wwcp",
        "colab_type": "code",
        "colab": {}
      },
      "source": [
        "y = dataset.target"
      ],
      "execution_count": 0,
      "outputs": []
    },
    {
      "cell_type": "markdown",
      "metadata": {
        "id": "qW2abbjEwwcr",
        "colab_type": "text"
      },
      "source": [
        "\n",
        "\n",
        "A continuación creamos una serie de transformaciones sobre los datos:\n",
        "\n",
        "    - escalado\n",
        "    - reducción de dimensiones mediante un PCA\n",
        "\n",
        "Y por último aplicamos un estimador, en este caso una LogisticRegression.\n"
      ]
    },
    {
      "cell_type": "markdown",
      "metadata": {
        "id": "6FHoWnBKwwcs",
        "colab_type": "text"
      },
      "source": [
        "\n",
        "\n",
        "Creamos el objeto de escalado"
      ]
    },
    {
      "cell_type": "code",
      "metadata": {
        "id": "Dl61NlqYwwcs",
        "colab_type": "code",
        "colab": {}
      },
      "source": [
        "sc = StandardScaler()"
      ],
      "execution_count": 0,
      "outputs": []
    },
    {
      "cell_type": "markdown",
      "metadata": {
        "id": "ZYPDT6PFwwcv",
        "colab_type": "text"
      },
      "source": [
        "\n",
        "\n",
        "Creamos el objeto PCA"
      ]
    },
    {
      "cell_type": "code",
      "metadata": {
        "id": "03oP2vsgwwcw",
        "colab_type": "code",
        "colab": {}
      },
      "source": [
        "pca = decomposition.PCA()"
      ],
      "execution_count": 0,
      "outputs": []
    },
    {
      "cell_type": "markdown",
      "metadata": {
        "id": "qJe2nAxNwwc1",
        "colab_type": "text"
      },
      "source": [
        "\n",
        "\n",
        "Creamos el estimador logistic regression"
      ]
    },
    {
      "cell_type": "code",
      "metadata": {
        "id": "3OJdJhxgwwc2",
        "colab_type": "code",
        "colab": {}
      },
      "source": [
        "logistic = linear_model.LogisticRegression()"
      ],
      "execution_count": 0,
      "outputs": []
    },
    {
      "cell_type": "markdown",
      "metadata": {
        "id": "9b-Rvxhfwwc5",
        "colab_type": "text"
      },
      "source": [
        "\n",
        "\n",
        "Por último enlazamos en un pipeline los 3 pasos."
      ]
    },
    {
      "cell_type": "code",
      "metadata": {
        "id": "lmAwA0LNwwc6",
        "colab_type": "code",
        "colab": {}
      },
      "source": [
        "pipe = Pipeline(steps=[('sc', sc), \n",
        "                       ('pca', pca), \n",
        "                       ('logistic', logistic)])"
      ],
      "execution_count": 0,
      "outputs": []
    },
    {
      "cell_type": "markdown",
      "metadata": {
        "id": "18NUrq0nwwc8",
        "colab_type": "text"
      },
      "source": [
        "\n",
        "\n",
        "Adicionalmente creamos una rejilla de parámetros que nos permita obtener el modelo con mejores métricas."
      ]
    },
    {
      "cell_type": "markdown",
      "metadata": {
        "id": "JjIJZbs8wwc9",
        "colab_type": "text"
      },
      "source": [
        "\n",
        "\n",
        "Creamos una lista de componentes para el PCA"
      ]
    },
    {
      "cell_type": "code",
      "metadata": {
        "id": "DW-8yrAbwwc9",
        "colab_type": "code",
        "colab": {}
      },
      "source": [
        "n_components = list(range(1,X.shape[1]+1,1))\n",
        "n_components = [2,3,4,5]"
      ],
      "execution_count": 0,
      "outputs": []
    },
    {
      "cell_type": "markdown",
      "metadata": {
        "id": "8KRr8pirwwc_",
        "colab_type": "text"
      },
      "source": [
        "\n",
        "\n",
        "Creamos una lista de componentes para el parámetro de regularización de la regresión."
      ]
    },
    {
      "cell_type": "code",
      "metadata": {
        "id": "qfZBjuAtwwdA",
        "colab_type": "code",
        "colab": {}
      },
      "source": [
        "C = np.logspace(-4, 4, 50)"
      ],
      "execution_count": 0,
      "outputs": []
    },
    {
      "cell_type": "markdown",
      "metadata": {
        "id": "9ymvXSVpwwdD",
        "colab_type": "text"
      },
      "source": [
        "\n",
        "\n",
        "Creamos una lista de componentes para la penalización de la regresión."
      ]
    },
    {
      "cell_type": "code",
      "metadata": {
        "id": "1YVukTaWwwdE",
        "colab_type": "code",
        "colab": {}
      },
      "source": [
        "penalty = ['l2']\n",
        "#penalty = ['l1','l2']"
      ],
      "execution_count": 0,
      "outputs": []
    },
    {
      "cell_type": "markdown",
      "metadata": {
        "id": "YZjZVf72wwdG",
        "colab_type": "text"
      },
      "source": [
        "\n",
        "\n",
        "Por último generamos un diccionario con todos estos parámetros."
      ]
    },
    {
      "cell_type": "code",
      "metadata": {
        "id": "bw0UtiUHwwdH",
        "colab_type": "code",
        "colab": {}
      },
      "source": [
        "parameters = dict(pca__n_components=n_components, \n",
        "                  logistic__C=C,\n",
        "                  logistic__penalty=penalty)"
      ],
      "execution_count": 0,
      "outputs": []
    },
    {
      "cell_type": "markdown",
      "metadata": {
        "id": "rJGRE6DXwwdK",
        "colab_type": "text"
      },
      "source": [
        "\n",
        "\n",
        "Uniendo estos elementos en un objeto GridSearchCV podemos hacer una búsqueda de los parámetros que optimizan el resultado y evaluarlo mediante validación cruzada."
      ]
    },
    {
      "cell_type": "markdown",
      "metadata": {
        "id": "ccI6EV_rwwdK",
        "colab_type": "text"
      },
      "source": [
        "\n",
        "\n",
        "Creamos un objeto gridsearch"
      ]
    },
    {
      "cell_type": "code",
      "metadata": {
        "id": "1nuS2E6hwwdL",
        "colab_type": "code",
        "colab": {}
      },
      "source": [
        "clf = GridSearchCV(pipe, parameters)\n"
      ],
      "execution_count": 0,
      "outputs": []
    },
    {
      "cell_type": "markdown",
      "metadata": {
        "id": "tFWCucy8wwdN",
        "colab_type": "text"
      },
      "source": [
        "\n",
        "\n",
        "Ajustamos la rejilla"
      ]
    },
    {
      "cell_type": "code",
      "metadata": {
        "id": "R3toestZwwdO",
        "colab_type": "code",
        "colab": {
          "base_uri": "https://localhost:8080/",
          "height": 489
        },
        "outputId": "cec25ade-a936-43aa-ab6d-5001f01e53a5"
      },
      "source": [
        "clf.fit(X, y)"
      ],
      "execution_count": 35,
      "outputs": [
        {
          "output_type": "execute_result",
          "data": {
            "text/plain": [
              "GridSearchCV(cv=None, error_score=nan,\n",
              "             estimator=Pipeline(memory=None,\n",
              "                                steps=[('sc',\n",
              "                                        StandardScaler(copy=True,\n",
              "                                                       with_mean=True,\n",
              "                                                       with_std=True)),\n",
              "                                       ('pca',\n",
              "                                        PCA(copy=True, iterated_power='auto',\n",
              "                                            n_components=None,\n",
              "                                            random_state=None,\n",
              "                                            svd_solver='auto', tol=0.0,\n",
              "                                            whiten=False)),\n",
              "                                       ('logistic',\n",
              "                                        LogisticRegression(C=1.0,\n",
              "                                                           class_weight=None,\n",
              "                                                           dual=False,\n",
              "                                                           fit_intercept=True,\n",
              "                                                           intercep...\n",
              "       7.54312006e+01, 1.09854114e+02, 1.59985872e+02, 2.32995181e+02,\n",
              "       3.39322177e+02, 4.94171336e+02, 7.19685673e+02, 1.04811313e+03,\n",
              "       1.52641797e+03, 2.22299648e+03, 3.23745754e+03, 4.71486636e+03,\n",
              "       6.86648845e+03, 1.00000000e+04]),\n",
              "                         'logistic__penalty': ['l2'],\n",
              "                         'pca__n_components': [2, 3, 4, 5]},\n",
              "             pre_dispatch='2*n_jobs', refit=True, return_train_score=False,\n",
              "             scoring=None, verbose=0)"
            ]
          },
          "metadata": {
            "tags": []
          },
          "execution_count": 35
        }
      ]
    },
    {
      "cell_type": "markdown",
      "metadata": {
        "id": "um97de6AwwdQ",
        "colab_type": "text"
      },
      "source": [
        "\n",
        "\n",
        "Vemos los mejores parámetros"
      ]
    },
    {
      "cell_type": "code",
      "metadata": {
        "id": "FWLLZExmwwdQ",
        "colab_type": "code",
        "colab": {
          "base_uri": "https://localhost:8080/",
          "height": 72
        },
        "outputId": "89701703-b374-429d-9a8c-f56ea9e18393"
      },
      "source": [
        "print('Best Penalty:', clf.best_estimator_.get_params()['logistic__penalty'])\n",
        "print('Best C:', clf.best_estimator_.get_params()['logistic__C'])\n",
        "print('Best Number Of Components:', clf.best_estimator_.get_params()['pca__n_components'])"
      ],
      "execution_count": 36,
      "outputs": [
        {
          "output_type": "stream",
          "text": [
            "Best Penalty: l2\n",
            "Best C: 0.3906939937054613\n",
            "Best Number Of Components: 5\n"
          ],
          "name": "stdout"
        }
      ]
    },
    {
      "cell_type": "markdown",
      "metadata": {
        "id": "_qOuVxRvwwdV",
        "colab_type": "text"
      },
      "source": [
        "\n",
        "\n",
        "Ajustamos el gridsearch usando validación cruzada con k=3"
      ]
    },
    {
      "cell_type": "code",
      "metadata": {
        "id": "Z15kMPelwwdW",
        "colab_type": "code",
        "colab": {
          "base_uri": "https://localhost:8080/",
          "height": 35
        },
        "outputId": "0026385c-907b-488b-c6fd-ed4436751bd4"
      },
      "source": [
        "cross_val_score(clf, X, y)"
      ],
      "execution_count": 37,
      "outputs": [
        {
          "output_type": "execute_result",
          "data": {
            "text/plain": [
              "array([0.96491228, 0.94736842, 0.97368421, 0.95614035, 0.99115044])"
            ]
          },
          "metadata": {
            "tags": []
          },
          "execution_count": 37
        }
      ]
    },
    {
      "cell_type": "markdown",
      "metadata": {
        "id": "_l72qE_2wwdY",
        "colab_type": "text"
      },
      "source": [
        "\n",
        "\n",
        "# Ejercicios \n",
        "\n",
        "Dados los siguientes datos, la representación gráfica de las variables numéricas y la accuracy de un KNN."
      ]
    },
    {
      "cell_type": "code",
      "metadata": {
        "id": "obuF6TBXwwdZ",
        "colab_type": "code",
        "colab": {}
      },
      "source": [
        "import pandas as pd"
      ],
      "execution_count": 0,
      "outputs": []
    },
    {
      "cell_type": "code",
      "metadata": {
        "id": "LA2XwZsawwda",
        "colab_type": "code",
        "colab": {}
      },
      "source": [
        "X_train = pd.read_csv('https://github.com/al34n1x/DataScience/raw/master/data/X_train.csv',squeeze=True, delimiter=',')\n",
        "Y_train = pd.read_csv('https://github.com/al34n1x/DataScience/raw/master/data/Y_train.csv',squeeze=True, delimiter=',')\n",
        "X_test = pd.read_csv('https://github.com/al34n1x/DataScience/raw/master/data/X_test.csv',squeeze=True, delimiter=',')\n",
        "Y_test = pd.read_csv('https://github.com/al34n1x/DataScience/raw/master/data/Y_test.csv',squeeze=True, delimiter=',')"
      ],
      "execution_count": 0,
      "outputs": []
    },
    {
      "cell_type": "code",
      "metadata": {
        "id": "UdGCyjgRwwdd",
        "colab_type": "code",
        "colab": {
          "base_uri": "https://localhost:8080/",
          "height": 162
        },
        "outputId": "3b8f55b9-bbd8-4f1d-8b5a-ee8cea5a5a0b"
      },
      "source": [
        "print (X_train.head())"
      ],
      "execution_count": 40,
      "outputs": [
        {
          "output_type": "stream",
          "text": [
            "    Loan_ID Gender Married  ... Loan_Amount_Term Credit_History Property_Area\n",
            "0  LP001032   Male      No  ...              360              1         Urban\n",
            "1  LP001824   Male     Yes  ...              480              1     Semiurban\n",
            "2  LP002928   Male     Yes  ...              180              1     Semiurban\n",
            "3  LP001814   Male     Yes  ...              360              1         Urban\n",
            "4  LP002244   Male     Yes  ...              360              1         Urban\n",
            "\n",
            "[5 rows x 12 columns]\n"
          ],
          "name": "stdout"
        }
      ]
    },
    {
      "cell_type": "code",
      "metadata": {
        "id": "m2wen5LKwwdh",
        "colab_type": "code",
        "colab": {}
      },
      "source": [
        "import matplotlib.pyplot as plt\n",
        "%matplotlib inline"
      ],
      "execution_count": 0,
      "outputs": []
    },
    {
      "cell_type": "markdown",
      "metadata": {
        "id": "ROcJqMtZwwdj",
        "colab_type": "text"
      },
      "source": [
        "\n",
        "\n",
        "Representamos las variables numéricas"
      ]
    },
    {
      "cell_type": "code",
      "metadata": {
        "id": "oGAKbvwjwwdk",
        "colab_type": "code",
        "colab": {
          "base_uri": "https://localhost:8080/",
          "height": 789
        },
        "outputId": "7e837ded-7067-4454-fdf7-bb70e5625bda"
      },
      "source": [
        "X_train[X_train.dtypes[(X_train.dtypes==\"float64\")|(X_train.dtypes==\"int64\")]\n",
        "                        .index.values].hist(figsize=[11,11])"
      ],
      "execution_count": 42,
      "outputs": [
        {
          "output_type": "execute_result",
          "data": {
            "text/plain": [
              "array([[<matplotlib.axes._subplots.AxesSubplot object at 0x7f9318edd048>,\n",
              "        <matplotlib.axes._subplots.AxesSubplot object at 0x7f93189d58d0>],\n",
              "       [<matplotlib.axes._subplots.AxesSubplot object at 0x7f9318971b38>,\n",
              "        <matplotlib.axes._subplots.AxesSubplot object at 0x7f931898cda0>],\n",
              "       [<matplotlib.axes._subplots.AxesSubplot object at 0x7f931893afd0>,\n",
              "        <matplotlib.axes._subplots.AxesSubplot object at 0x7f93188f92b0>]],\n",
              "      dtype=object)"
            ]
          },
          "metadata": {
            "tags": []
          },
          "execution_count": 42
        },
        {
          "output_type": "display_data",
          "data": {
            "image/png": "[encoded data removed]",
            "text/plain": [
              "<Figure size 792x792 with 6 Axes>"
            ]
          },
          "metadata": {
            "tags": [],
            "needs_background": "light"
          }
        }
      ]
    },
    {
      "cell_type": "markdown",
      "metadata": {
        "id": "smxDkv2Mwwdn",
        "colab_type": "text"
      },
      "source": [
        "\n",
        "\n",
        "Ajustamos a un modelo KNN"
      ]
    },
    {
      "cell_type": "code",
      "metadata": {
        "id": "jHM94rjLwwdn",
        "colab_type": "code",
        "colab": {
          "base_uri": "https://localhost:8080/",
          "height": 72
        },
        "outputId": "659eba1e-953b-4ee7-bc21-5d0523226d33"
      },
      "source": [
        "from sklearn.neighbors import KNeighborsClassifier\n",
        "knn=KNeighborsClassifier(n_neighbors=5)\n",
        "knn.fit(X_train[['ApplicantIncome', 'CoapplicantIncome','LoanAmount', \n",
        "                   'Loan_Amount_Term', 'Credit_History']],Y_train)"
      ],
      "execution_count": 43,
      "outputs": [
        {
          "output_type": "execute_result",
          "data": {
            "text/plain": [
              "KNeighborsClassifier(algorithm='auto', leaf_size=30, metric='minkowski',\n",
              "                     metric_params=None, n_jobs=None, n_neighbors=5, p=2,\n",
              "                     weights='uniform')"
            ]
          },
          "metadata": {
            "tags": []
          },
          "execution_count": 43
        }
      ]
    },
    {
      "cell_type": "markdown",
      "metadata": {
        "id": "ItGG7Lkrwwdq",
        "colab_type": "text"
      },
      "source": [
        "\n",
        "\n",
        "Obtenemos el valor de accuracy"
      ]
    },
    {
      "cell_type": "code",
      "metadata": {
        "id": "6XK4F5Mwwwdr",
        "colab_type": "code",
        "colab": {
          "base_uri": "https://localhost:8080/",
          "height": 35
        },
        "outputId": "97ca5b12-9c2d-45ca-e589-f94a0a38350e"
      },
      "source": [
        "from sklearn.metrics import accuracy_score\n",
        "accuracy_score(Y_test,knn.predict(X_test[['ApplicantIncome', 'CoapplicantIncome',\n",
        "                             'LoanAmount', 'Loan_Amount_Term', 'Credit_History']]))"
      ],
      "execution_count": 44,
      "outputs": [
        {
          "output_type": "execute_result",
          "data": {
            "text/plain": [
              "0.6145833333333334"
            ]
          },
          "metadata": {
            "tags": []
          },
          "execution_count": 44
        }
      ]
    },
    {
      "cell_type": "markdown",
      "metadata": {
        "id": "KFLPCTngwwdt",
        "colab_type": "text"
      },
      "source": [
        "\n",
        "\n",
        "- a. Realice un escalado min/max sobre las variables numéricas y represente su distribución.\n",
        "- b. Estudie como afecta al resultado del clasificador la aplicación de un escalado min/max."
      ]
    },
    {
      "cell_type": "markdown",
      "metadata": {
        "id": "o1NSrKsOwwdu",
        "colab_type": "text"
      },
      "source": [
        "\n",
        "\n",
        "Realice un escalado min/max sobre las variables numéricas y represente su distribución."
      ]
    },
    {
      "cell_type": "code",
      "metadata": {
        "id": "Q5JltKgKwwdu",
        "colab_type": "code",
        "colab": {}
      },
      "source": [
        "# Respuesta aqui"
      ],
      "execution_count": 0,
      "outputs": []
    },
    {
      "cell_type": "code",
      "metadata": {
        "id": "-350TOnNwwdv",
        "colab_type": "code",
        "colab": {}
      },
      "source": [
        "# Respuesta aqui"
      ],
      "execution_count": 0,
      "outputs": []
    },
    {
      "cell_type": "code",
      "metadata": {
        "id": "qyJuO8kcwwd0",
        "colab_type": "code",
        "colab": {}
      },
      "source": [
        "# Respuesta aqui"
      ],
      "execution_count": 0,
      "outputs": []
    },
    {
      "cell_type": "markdown",
      "metadata": {
        "id": "iJiZue-hwwd3",
        "colab_type": "text"
      },
      "source": [
        "\n",
        "\n",
        "Estudie como afecta al resultado del clasificador la aplicación de un escalado min/max."
      ]
    },
    {
      "cell_type": "code",
      "metadata": {
        "id": "E6_jsUuHwwd3",
        "colab_type": "code",
        "colab": {}
      },
      "source": [
        "# Respuesta aqui"
      ],
      "execution_count": 0,
      "outputs": []
    }
  ]
}