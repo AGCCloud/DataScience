{
  "nbformat": 4,
  "nbformat_minor": 0,
  "metadata": {
    "colab": {
      "provenance": [],
      "authorship_tag": "ABX9TyMXIw0ZMEaAbcCgFLDYugEQ",
      "include_colab_link": true
    },
    "kernelspec": {
      "name": "python3",
      "display_name": "Python 3"
    },
    "language_info": {
      "name": "python"
    }
  },
  "cells": [
    {
      "cell_type": "markdown",
      "metadata": {
        "id": "view-in-github",
        "colab_type": "text"
      },
      "source": [
        "<a href=\"https://colab.research.google.com/github/al34n1x/DataScience/blob/master/8.Machine_Learning/descriptores/6.object_detection.ipynb\" target=\"_parent\"><img src=\"https://colab.research.google.com/assets/colab-badge.svg\" alt=\"Open In Colab\"/></a>"
      ]
    },
    {
      "cell_type": "code",
      "source": [
        "import warnings\n",
        "warnings.filterwarnings('ignore')"
      ],
      "metadata": {
        "id": "3ERYmC_4HwER"
      },
      "execution_count": 14,
      "outputs": []
    },
    {
      "cell_type": "code",
      "source": [
        "!pip install cvlib\n",
        "!pip install h5py\n",
        "!pip install typing-extensions\n",
        "!pip install wheel\n",
        "!pip install imageai\n",
        "!pip install tensorflow"
      ],
      "metadata": {
        "id": "vWYzOUbBFSt5"
      },
      "execution_count": null,
      "outputs": []
    },
    {
      "cell_type": "code",
      "execution_count": 7,
      "metadata": {
        "id": "aZov2dWMFKsT"
      },
      "outputs": [],
      "source": [
        "import datetime\n",
        "import os\n",
        "import json\n",
        "import numpy as np\n",
        "import cv2\n",
        "import cvlib as cv\n",
        "from cvlib.object_detection import draw_bbox\n",
        "from imageai.Detection import VideoObjectDetection\n",
        "from bson import json_util\n",
        "import tensorflow as tf"
      ]
    },
    {
      "cell_type": "code",
      "source": [
        "def detect_and_draw_box(img_filepath, img_output, model=\"yolo.h5\", confidence=0.5):\n",
        "\n",
        "  img = cv2.imread(img_filepath)\n",
        "  bbox, label, conf = cv.detect_common_objects(img, confidence=confidence, model=model)\n",
        "  output_image = draw_bbox(img, bbox, label, conf) \n",
        "  output_image_path = os.path.join(img_output, 'output_image.jpg')\n",
        "  cv2.imwrite(output_image_path, output_image)\n",
        "\n",
        "  response = write_response(bbox, label, conf, width = img.shape[1], height= img.shape[0])\n",
        "  write_json(img_output, \"out_response.json\", data=response)\n",
        "  #add_data(response)\n",
        "  filetype = 'image'\n",
        "  \n",
        "  return output_image_path, response, filetype"
      ],
      "metadata": {
        "id": "J10ez5ACFNkb"
      },
      "execution_count": 4,
      "outputs": []
    },
    {
      "cell_type": "code",
      "source": [
        "def write_response(bbox, label, conf,width, height):\n",
        "    \"\"\" Adds model results to a dictionary to create a response object\n",
        "    Parameters:\n",
        "        bbox (list):\n",
        "        label (list of str):\n",
        "        conf (list of float):\n",
        "        width (float):\n",
        "        height  (float):\n",
        "    Returns:\n",
        "        response (dict): A dictionary containing response data from the model's results.\n",
        "    \"\"\"\n",
        "    response= dict()\n",
        "    response['Bounding Box Coordinates'] = bbox\n",
        "    response['Object Class'] = label\n",
        "    response['Confidence'] = conf\n",
        "    now = datetime.datetime.now()\n",
        "    timestamp = str(now.strftime(\"%Y-%m-%d_%H:%M:%S\"))\n",
        "    response['Timestamp'] = timestamp\n",
        "    response['Image Metadata'] = {'width': width, 'height': height}\n",
        "\n",
        "    return response"
      ],
      "metadata": {
        "id": "t1FLJUAMGPJ4"
      },
      "execution_count": 2,
      "outputs": []
    },
    {
      "cell_type": "code",
      "source": [
        "def write_json(target_path, target_file, data):\n",
        "\n",
        "    with open(os.path.join(target_path, target_file), 'w') as f:\n",
        "        json.dump(data, f)"
      ],
      "metadata": {
        "id": "FcikSK4IGkDX"
      },
      "execution_count": 3,
      "outputs": []
    },
    {
      "cell_type": "code",
      "source": [
        "INPUT_FOLDER = os.path.join('images', 'input', 'photographer.png')\n",
        "OUTPUT_FOLDER = os.path.join('images', 'output')\n",
        "\n",
        "output_image_path, response, filetype = detect_and_draw_box(INPUT_FOLDER, OUTPUT_FOLDER)"
      ],
      "metadata": {
        "colab": {
          "base_uri": "https://localhost:8080/"
        },
        "id": "7Z2LNIrbICJA",
        "outputId": "ed2b8bf1-8784-4bd0-bae5-9ff3b85e5468"
      },
      "execution_count": 9,
      "outputs": [
        {
          "output_type": "stream",
          "name": "stdout",
          "text": [
            "Downloading yolov3.cfg from https://github.com/arunponnusamy/object-detection-opencv/raw/master/yolov3.cfg\n"
          ]
        },
        {
          "output_type": "stream",
          "name": "stderr",
          "text": [
            "  0% |                                                                        |\r"
          ]
        },
        {
          "output_type": "stream",
          "name": "stdout",
          "text": [
            "Downloading yolov3.weights from https://pjreddie.com/media/files/yolov3.weights\n"
          ]
        },
        {
          "output_type": "stream",
          "name": "stderr",
          "text": []
        },
        {
          "output_type": "stream",
          "name": "stdout",
          "text": [
            "Downloading yolov3_classes.txt from https://github.com/arunponnusamy/object-detection-opencv/raw/master/yolov3.txt\n"
          ]
        },
        {
          "output_type": "stream",
          "name": "stderr",
          "text": []
        }
      ]
    },
    {
      "cell_type": "code",
      "source": [
        "INPUT_FOLDER = os.path.join('images', 'input', 'car_pedestrian.png')\n",
        "OUTPUT_FOLDER = os.path.join('images', 'output')\n",
        "\n",
        "output_image_path, response, filetype = detect_and_draw_box(INPUT_FOLDER, OUTPUT_FOLDER)"
      ],
      "metadata": {
        "id": "_E-_VDSFJcbq"
      },
      "execution_count": 10,
      "outputs": []
    }
  ]
}