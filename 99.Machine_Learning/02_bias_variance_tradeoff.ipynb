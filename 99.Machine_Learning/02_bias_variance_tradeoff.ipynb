{
  "nbformat": 4,
  "nbformat_minor": 0,
  "metadata": {
    "colab": {
      "name": "02_bias_variance_tradeoff.ipynb",
      "provenance": [],
      "include_colab_link": true
    },
    "kernelspec": {
      "name": "python3",
      "display_name": "Python 3"
    }
  },
  "cells": [
    {
      "cell_type": "markdown",
      "metadata": {
        "id": "view-in-github",
        "colab_type": "text"
      },
      "source": [
        "<a href=\"https://colab.research.google.com/github/al34n1x/DataScience/blob/master/99.Machine_Learning/02_bias_variance_tradeoff.ipynb\" target=\"_parent\"><img src=\"https://colab.research.google.com/assets/colab-badge.svg\" alt=\"Open In Colab\"/></a>"
      ]
    },
    {
      "cell_type": "markdown",
      "metadata": {
        "id": "BHeCGJRfwcwV",
        "colab_type": "text"
      },
      "source": [
        "\n",
        "\n",
        "# Equilibrio entre Sesgo y Varianza"
      ]
    },
    {
      "cell_type": "markdown",
      "metadata": {
        "id": "LE_3QQqXwcwX",
        "colab_type": "text"
      },
      "source": [
        "\n",
        "\n",
        "Todos los modelos tienen un error asociado a sus predicciones. Al entrenar modelos con **muestras de una población más grande**, estos siempre reflejarán error debido al muestreo realizado.\n",
        "\n",
        "- Los modelos **demasiado sencillos**, sufren de error de tipo **sesgo**, en el que NO son sensibles a las variabilidades de la muestra con que se entrenan. Generalizan mejor, memorizan peor, más orientados a predicción.\n",
        "- Los modelos **demasiado complejos**, sufren de error de tipo **varianza**, en el que son hipersensibles a las variabilidades de la muestra con que se entrenan. Generalizan peor, memorizan mejor, más orientados a análisis.\n",
        "- Los modelos **equilibrados entre sencillez y complejidad**, tienden a minimizar el error total del modelo. Sin embargo, siempre hay un error irreducible."
      ]
    },
    {
      "cell_type": "code",
      "metadata": {
        "id": "GVUiLyc2wcwZ",
        "colab_type": "code",
        "colab": {}
      },
      "source": [
        "import numpy as np\n",
        "from matplotlib import pyplot as plt\n",
        "%matplotlib inline"
      ],
      "execution_count": 0,
      "outputs": []
    },
    {
      "cell_type": "markdown",
      "metadata": {
        "id": "_O3bX2Xmwcwf",
        "colab_type": "text"
      },
      "source": [
        "\n",
        "\n",
        "# Creacion de la poblacion"
      ]
    },
    {
      "cell_type": "code",
      "metadata": {
        "id": "l6fj8waIwcwh",
        "colab_type": "code",
        "colab": {}
      },
      "source": [
        "X = np.arange(-3,3,.01)\n",
        "noise = [np.random.normal(0,.3) for _ in X]\n",
        "#noise = 0\n",
        "system1 = np.poly1d([.03,.02,.01])\n",
        "system2 = np.sin\n",
        "population = system2(X) + noise"
      ],
      "execution_count": 0,
      "outputs": []
    },
    {
      "cell_type": "markdown",
      "metadata": {
        "id": "dvpsgNLKwcwn",
        "colab_type": "text"
      },
      "source": [
        "\n",
        "\n",
        "## Muestreo inicial"
      ]
    },
    {
      "cell_type": "code",
      "metadata": {
        "id": "o-4ksmyKwcwo",
        "colab_type": "code",
        "colab": {}
      },
      "source": [
        "sample_i = np.random.choice(list(range(len(population))),20)\n",
        "sample_i = np.sort(sample_i)\n"
      ],
      "execution_count": 0,
      "outputs": []
    },
    {
      "cell_type": "code",
      "metadata": {
        "id": "i2muAgNEwcwu",
        "colab_type": "code",
        "colab": {
          "base_uri": "https://localhost:8080/",
          "height": 269
        },
        "outputId": "70578922-b210-4489-a024-025fcc04435a"
      },
      "source": [
        "plt.scatter(X[sample_i],population[sample_i],c=\"k\")\n",
        "plt.ylim(-2,2)\n",
        "plt.show()"
      ],
      "execution_count": 4,
      "outputs": [
        {
          "output_type": "display_data",
          "data": {
            "image/png": "[encoded data removed]",
            "text/plain": [
              "<Figure size 432x288 with 1 Axes>"
            ]
          },
          "metadata": {
            "tags": [],
            "needs_background": "light"
          }
        }
      ]
    },
    {
      "cell_type": "markdown",
      "metadata": {
        "id": "YoIV9Au1wcw1",
        "colab_type": "text"
      },
      "source": [
        "\n",
        "\n",
        "## Entrenamiento de modelos y representar predicción"
      ]
    },
    {
      "cell_type": "markdown",
      "metadata": {
        "id": "aQ2j4-Dcwcw4",
        "colab_type": "text"
      },
      "source": [
        "\n",
        "\n",
        "Entrenamos modelos que se ajusten a las muestras extraidas de la población"
      ]
    },
    {
      "cell_type": "markdown",
      "metadata": {
        "id": "Ben7vgruwcw5",
        "colab_type": "text"
      },
      "source": [
        "\n",
        "\n",
        "Un modelo sencillo"
      ]
    },
    {
      "cell_type": "code",
      "metadata": {
        "id": "O9fseWDXwcw6",
        "colab_type": "code",
        "colab": {
          "base_uri": "https://localhost:8080/",
          "height": 526
        },
        "outputId": "823d136c-4dba-44c2-8283-5965ab1084f2"
      },
      "source": [
        "Z_simple = np.polyfit(X[sample_i], population[sample_i],1)\n",
        "Z_simple = np.poly1d(Z_simple)\n",
        "print(Z_simple)\n",
        "\n",
        "# A balanced model\n",
        "Z_balanced = np.polyfit(X[sample_i], population[sample_i],3)\n",
        "Z_balanced = np.poly1d(Z_balanced)\n",
        "print(Z_balanced)\n",
        "\n",
        "# A complex model\n",
        "Z_complex = np.polyfit(X[sample_i], population[sample_i],50)\n",
        "Z_complex = np.poly1d(Z_complex)\n",
        "print(Z_complex)"
      ],
      "execution_count": 5,
      "outputs": [
        {
          "output_type": "stream",
          "text": [
            " \n",
            "0.3502 x + 0.02042\n",
            "         3           2\n",
            "-0.1031 x - 0.02611 x + 0.9191 x + 0.02254\n",
            "            50             49             48             47\n",
            "-1.398e-18 x  + 1.797e-18 x  - 9.705e-18 x  + 5.896e-18 x \n",
            "              46             45             44             43\n",
            " - 6.428e-17 x  - 3.123e-17 x  - 3.955e-16 x  - 9.568e-16 x \n",
            "              42             41             40             39\n",
            " - 2.121e-15 x  - 1.381e-14 x  - 7.865e-15 x  - 1.612e-13 x \n",
            "              38             37             36             35\n",
            " + 1.704e-14 x  - 1.672e-12 x  + 8.519e-13 x  - 1.574e-11 x \n",
            "             34             33             32             31\n",
            " + 1.34e-11 x  - 1.333e-10 x  + 1.688e-10 x  - 9.631e-10 x \n",
            "             30             29            28             27\n",
            " + 1.91e-09 x  - 4.918e-09 x  + 1.96e-08 x  + 3.345e-09 x \n",
            "              26             25             24             23\n",
            " + 1.722e-07 x  + 5.333e-07 x  + 1.026e-06 x  + 8.916e-06 x \n",
            "             22             21             20             19\n",
            " - 2.52e-06 x  + 9.715e-05 x  - 0.0001928 x  + 0.0006727 x \n",
            "             18             17           16           15          14\n",
            " - 0.003114 x  + 0.0004803 x  - 0.02143 x  - 0.05534 x  + 0.1736 x \n",
            "           13         12         11         10         9         8\n",
            " - 0.4957 x  + 3.905 x  + 3.911 x  - 32.74 x  - 7.893 x + 98.09 x\n",
            "          7         6         5         4         3        2\n",
            " + 6.744 x - 139.8 x - 7.482 x + 95.53 x + 10.07 x - 26.1 x - 3.533 x + 0.9103\n"
          ],
          "name": "stdout"
        },
        {
          "output_type": "stream",
          "text": [
            "/usr/local/lib/python3.6/dist-packages/IPython/core/interactiveshell.py:2882: RankWarning: Polyfit may be poorly conditioned\n",
            "  exec(code_obj, self.user_global_ns, self.user_ns)\n"
          ],
          "name": "stderr"
        }
      ]
    },
    {
      "cell_type": "code",
      "metadata": {
        "id": "36WlEuNPwcw_",
        "colab_type": "code",
        "colab": {}
      },
      "source": [
        "Y_simple = Z_simple(X[sample_i])\n",
        "Y_balanced = Z_balanced(X[sample_i])\n",
        "Y_complex = Z_complex(X[sample_i])"
      ],
      "execution_count": 0,
      "outputs": []
    },
    {
      "cell_type": "code",
      "metadata": {
        "id": "OXrdq_NtwcxC",
        "colab_type": "code",
        "colab": {
          "base_uri": "https://localhost:8080/",
          "height": 269
        },
        "outputId": "8d0e9e5b-cfb5-457f-8c25-b4c281b4c1c8"
      },
      "source": [
        "plt.scatter(X[sample_i], population[sample_i], c=\"k\")\n",
        "plt.plot(X[sample_i], Y_simple, c=\"g\")\n",
        "plt.plot(X[sample_i], Y_balanced, c=\"y\")\n",
        "plt.plot(X[sample_i], Y_complex, c=\"r\")\n",
        "plt.ylim(-2,2)\n",
        "plt.show()\n"
      ],
      "execution_count": 7,
      "outputs": [
        {
          "output_type": "display_data",
          "data": {
            "image/png": "[encoded data removed]",
            "text/plain": [
              "<Figure size 432x288 with 1 Axes>"
            ]
          },
          "metadata": {
            "tags": [],
            "needs_background": "light"
          }
        }
      ]
    },
    {
      "cell_type": "markdown",
      "metadata": {
        "id": "5bHsLN4ywcxI",
        "colab_type": "text"
      },
      "source": [
        "\n",
        "\n",
        "- Primera aproximación, modelo más simple asume que los datos son incrementales, mínima precisión en esta muestra.\n",
        "\n",
        "- Segunda aproximación, modelo intermedio, sensible a la **forma** de los datos.  \n",
        "\n",
        "- Tercera aproximación, modelo más complejo, hipersensible a la forma de los datos, máxima precisión en esta muestra."
      ]
    },
    {
      "cell_type": "markdown",
      "metadata": {
        "id": "ZjcD0n2lwcxI",
        "colab_type": "text"
      },
      "source": [
        "\n",
        "\n",
        "## Estudio de los modelos"
      ]
    },
    {
      "cell_type": "markdown",
      "metadata": {
        "id": "yfVDl9f_wcxK",
        "colab_type": "text"
      },
      "source": [
        "\n",
        "\n",
        "Para ver como responderían estos modelos ante todas las entradas de X (NO de la poblacion), dibujamos los modelos completamente."
      ]
    },
    {
      "cell_type": "code",
      "metadata": {
        "id": "eoZ6-FeDwcxL",
        "colab_type": "code",
        "colab": {}
      },
      "source": [
        "Y_simple_ = Z_simple(X)\n",
        "Y_balanced_ = Z_balanced(X)\n",
        "Y_complex_ = Z_complex(X)"
      ],
      "execution_count": 0,
      "outputs": []
    },
    {
      "cell_type": "code",
      "metadata": {
        "id": "TZTsftscwcxR",
        "colab_type": "code",
        "colab": {
          "base_uri": "https://localhost:8080/",
          "height": 269
        },
        "outputId": "0e699620-f520-42e0-f1ca-f583b9bab6c2"
      },
      "source": [
        "plt.scatter(X[sample_i], population[sample_i], c=\"k\")\n",
        "plt.plot(X, Y_simple_, c=\"g\")\n",
        "plt.plot(X, Y_balanced_,c =\"y\")\n",
        "plt.plot(X, Y_complex_, c=\"r\")\n",
        "plt.ylim(-6,6)\n",
        "plt.show()\n"
      ],
      "execution_count": 9,
      "outputs": [
        {
          "output_type": "display_data",
          "data": {
            "image/png": "[encoded data removed]",
            "text/plain": [
              "<Figure size 432x288 with 1 Axes>"
            ]
          },
          "metadata": {
            "tags": [],
            "needs_background": "light"
          }
        }
      ]
    },
    {
      "cell_type": "markdown",
      "metadata": {
        "id": "QsdlUzQXwcxX",
        "colab_type": "text"
      },
      "source": [
        "\n",
        "\n",
        "## Errores"
      ]
    },
    {
      "cell_type": "code",
      "metadata": {
        "id": "pDSXr9EhwcxX",
        "colab_type": "code",
        "colab": {}
      },
      "source": [
        "error_simple = abs(Y_simple-population[sample_i])\n",
        "error_balanced = abs(Y_balanced-population[sample_i])\n",
        "error_complex = abs(Y_complex-population[sample_i])"
      ],
      "execution_count": 0,
      "outputs": []
    },
    {
      "cell_type": "code",
      "metadata": {
        "id": "gNOqfXotwcxd",
        "colab_type": "code",
        "colab": {
          "base_uri": "https://localhost:8080/",
          "height": 265
        },
        "outputId": "48574a5e-bf6d-401f-af39-cf1b3f233045"
      },
      "source": [
        "plt.plot(X[sample_i], error_simple,c=\"g\")\n",
        "plt.plot(X[sample_i], error_balanced,c=\"y\")\n",
        "plt.plot(X[sample_i], error_complex,c=\"r\")\n",
        "plt.show()"
      ],
      "execution_count": 11,
      "outputs": [
        {
          "output_type": "display_data",
          "data": {
            "image/png": "[encoded data removed]",
            "text/plain": [
              "<Figure size 432x288 with 1 Axes>"
            ]
          },
          "metadata": {
            "tags": [],
            "needs_background": "light"
          }
        }
      ]
    },
    {
      "cell_type": "code",
      "metadata": {
        "id": "nvt2jAfIwcxg",
        "colab_type": "code",
        "colab": {
          "base_uri": "https://localhost:8080/",
          "height": 72
        },
        "outputId": "86dfce9b-d7c2-4742-c496-62f134b6f122"
      },
      "source": [
        "from sklearn.metrics import mean_squared_error \n",
        "from math import sqrt \n",
        "\n",
        "rms_simple = sqrt(mean_squared_error(population[sample_i], Y_simple)) \n",
        "print(rms_simple)\n",
        "rms_balanced = sqrt(mean_squared_error(population[sample_i], Y_balanced)) \n",
        "print(rms_balanced)\n",
        "rms_complex = sqrt(mean_squared_error(population[sample_i], Y_complex)) \n",
        "print(rms_complex)"
      ],
      "execution_count": 12,
      "outputs": [
        {
          "output_type": "stream",
          "text": [
            "0.52374443685381\n",
            "0.28495132995813777\n",
            "1.3099287455910587e-10\n"
          ],
          "name": "stdout"
        }
      ]
    },
    {
      "cell_type": "markdown",
      "metadata": {
        "id": "JCXlC5UQwcxm",
        "colab_type": "text"
      },
      "source": [
        "\n",
        "\n",
        "El modelo que menor error comete en la muestra usada (conjunto de entreamiento) es el más complejo. Podemos utilizar los coeficientes para analizar esta muestra."
      ]
    },
    {
      "cell_type": "markdown",
      "metadata": {
        "id": "ot5kOTaWwcxn",
        "colab_type": "text"
      },
      "source": [
        "\n",
        "\n",
        "# Nuevos datos"
      ]
    },
    {
      "cell_type": "markdown",
      "metadata": {
        "id": "Xzl-WoXGwcxo",
        "colab_type": "text"
      },
      "source": [
        "\n",
        "\n",
        "Con una nueva muestra de la población, evaluamos los modelos generados.  \n",
        "Para ello tomamos 20 nuevos indices de la poblacion, y realizamos predicciones con los modelos creados."
      ]
    },
    {
      "cell_type": "code",
      "metadata": {
        "id": "e-HQdfIPwcxp",
        "colab_type": "code",
        "colab": {}
      },
      "source": [
        "sample_new = np.random.choice(list(range(len(population))),20)\n",
        "sample_new = np.sort(sample_new)"
      ],
      "execution_count": 0,
      "outputs": []
    },
    {
      "cell_type": "code",
      "metadata": {
        "id": "39XPzz-ywcxt",
        "colab_type": "code",
        "colab": {}
      },
      "source": [
        "Y_simple_new = Z_simple(X[sample_new])\n",
        "Y_balanced_new = Z_balanced(X[sample_new])\n",
        "Y_complex_new = Z_complex(X[sample_new])"
      ],
      "execution_count": 0,
      "outputs": []
    },
    {
      "cell_type": "markdown",
      "metadata": {
        "id": "hksAkj3Zwcxx",
        "colab_type": "text"
      },
      "source": [
        "\n",
        "\n",
        "Representamos las predicciones de los modelos para la nueva muestra."
      ]
    },
    {
      "cell_type": "code",
      "metadata": {
        "id": "AZ4OOzgswcxy",
        "colab_type": "code",
        "colab": {
          "base_uri": "https://localhost:8080/",
          "height": 269
        },
        "outputId": "0729f62d-7be0-4144-8e02-a89e060daffe"
      },
      "source": [
        "plt.scatter(X[sample_new], population[sample_new] ,c=\"b\")\n",
        "plt.plot(X[sample_new], Y_simple_new ,c=\"g\")\n",
        "plt.plot(X[sample_new], Y_balanced_new ,c=\"y\")\n",
        "plt.plot(X[sample_new], Y_complex_new ,c=\"r\")\n",
        "plt.ylim(-3,3)\n",
        "plt.show()"
      ],
      "execution_count": 15,
      "outputs": [
        {
          "output_type": "display_data",
          "data": {
            "image/png": "[encoded data removed]",
            "text/plain": [
              "<Figure size 432x288 with 1 Axes>"
            ]
          },
          "metadata": {
            "tags": [],
            "needs_background": "light"
          }
        }
      ]
    },
    {
      "cell_type": "code",
      "metadata": {
        "id": "1n3Qv1t-wcx2",
        "colab_type": "code",
        "colab": {}
      },
      "source": [
        "from sklearn.metrics import mean_squared_error"
      ],
      "execution_count": 0,
      "outputs": []
    },
    {
      "cell_type": "code",
      "metadata": {
        "id": "Ug4m-9XBwcx5",
        "colab_type": "code",
        "colab": {
          "base_uri": "https://localhost:8080/",
          "height": 72
        },
        "outputId": "173486e3-15e9-41ab-a094-f85611f29f74"
      },
      "source": [
        "rms_simple = sqrt(mean_squared_error(sample_new, Y_simple_new)) \n",
        "print(rms_simple)\n",
        "rms_balanced = sqrt(mean_squared_error(sample_new, Y_balanced_new)) \n",
        "print(rms_balanced)\n",
        "rms_complex = sqrt(mean_squared_error(sample_new, Y_complex_new)) \n",
        "print(rms_complex)"
      ],
      "execution_count": 17,
      "outputs": [
        {
          "output_type": "stream",
          "text": [
            "362.3083774538541\n",
            "362.1356551269593\n",
            "1706.4073138971853\n"
          ],
          "name": "stdout"
        }
      ]
    },
    {
      "cell_type": "markdown",
      "metadata": {
        "id": "fcYaZgCdwcx-",
        "colab_type": "text"
      },
      "source": [
        "\n",
        "\n",
        "El modelo más complejo es el que comete más error al recibir nuevos datos. Los modelos más sencillos son también más robustos. \n",
        "> Por tanto para predicción es mejor **modelos que generalicen bien, sin perder la sensibilidad a la forma**."
      ]
    }
  ]
}