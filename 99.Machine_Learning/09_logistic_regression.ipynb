{
  "nbformat": 4,
  "nbformat_minor": 0,
  "metadata": {
    "colab": {
      "name": "09_logistic_regression.ipynb",
      "provenance": [],
      "collapsed_sections": [],
      "include_colab_link": true
    },
    "kernelspec": {
      "name": "python3",
      "display_name": "Python 3"
    }
  },
  "cells": [
    {
      "cell_type": "markdown",
      "metadata": {
        "id": "view-in-github",
        "colab_type": "text"
      },
      "source": [
        "<a href=\"https://colab.research.google.com/github/al34n1x/DataScience/blob/master/99.Machine_Learning/09_logistic_regression.ipynb\" target=\"_parent\"><img src=\"https://colab.research.google.com/assets/colab-badge.svg\" alt=\"Open In Colab\"/></a>"
      ]
    },
    {
      "cell_type": "markdown",
      "metadata": {
        "id": "m9UahsNhWoR5",
        "colab_type": "text"
      },
      "source": [
        "\n",
        "\n",
        "# Clasificación: Regresión Logística"
      ]
    },
    {
      "cell_type": "code",
      "metadata": {
        "id": "eGVVTTZbWoSs",
        "colab_type": "code",
        "colab": {}
      },
      "source": [
        "%matplotlib inline\n",
        "import matplotlib.pyplot as plt\n",
        "import numpy as np"
      ],
      "execution_count": 0,
      "outputs": []
    },
    {
      "cell_type": "code",
      "metadata": {
        "id": "YjsGgWBVWoTB",
        "colab_type": "code",
        "colab": {
          "base_uri": "https://localhost:8080/",
          "height": 73
        },
        "outputId": "b9e4173c-a9f5-48d6-c3ab-63f724e2f65a"
      },
      "source": [
        "import seaborn as sns"
      ],
      "execution_count": 2,
      "outputs": [
        {
          "output_type": "stream",
          "text": [
            "/usr/local/lib/python3.6/dist-packages/statsmodels/tools/_testing.py:19: FutureWarning: pandas.util.testing is deprecated. Use the functions in the public API at pandas.testing instead.\n",
            "  import pandas.util.testing as tm\n"
          ],
          "name": "stderr"
        }
      ]
    },
    {
      "cell_type": "markdown",
      "metadata": {
        "id": "iQXvz5CJWoTc",
        "colab_type": "text"
      },
      "source": [
        "\n",
        "\n",
        "En este notebook vamos a estudiar los conceptos básicos de Clasificación y como podemos aplicarla usando la API de scikit-learn. Nos focalizaremos en Regresión Logística, pero veréis que es muy fácil aplicar otros algoritmos con la api de scikit-learn."
      ]
    },
    {
      "cell_type": "markdown",
      "metadata": {
        "id": "GOf10KvoWoTs",
        "colab_type": "text"
      },
      "source": [
        "\n",
        "\n",
        "Para empezar, vamos a crear un dataset sintético que podamos aplicar en nuestro primer problema de clasificación.\n",
        "Será un problema de clasificación binaria en el que, para ir entendiendo los conceptos, sólo utilizaremos dos predictores."
      ]
    },
    {
      "cell_type": "code",
      "metadata": {
        "id": "KVQb8jXGWoTy",
        "colab_type": "code",
        "outputId": "e3c1251f-c213-41c1-e26b-8bd40cfe3bb8",
        "colab": {
          "base_uri": "https://localhost:8080/",
          "height": 217
        }
      },
      "source": [
        "from sklearn.datasets import make_blobs\n",
        "\n",
        "X, y = make_blobs(centers=2, random_state=0, n_samples=200)\n",
        "\n",
        "print('X ~ n_samples x n_features:', X.shape)\n",
        "print('y ~ n_samples:', y.shape)\n",
        "\n",
        "print('\\nFirst 5 samples:\\n', X[:5, :])\n",
        "print('\\nFirst 5 labels:', y[:5])"
      ],
      "execution_count": 3,
      "outputs": [
        {
          "output_type": "stream",
          "text": [
            "X ~ n_samples x n_features: (200, 2)\n",
            "y ~ n_samples: (200,)\n",
            "\n",
            "First 5 samples:\n",
            " [[2.8219307  1.25395648]\n",
            " [1.65581849 1.26771955]\n",
            " [3.12377692 0.44427786]\n",
            " [1.4178305  0.50039185]\n",
            " [2.50904929 5.7731461 ]]\n",
            "\n",
            "First 5 labels: [1 1 1 1 0]\n"
          ],
          "name": "stdout"
        }
      ]
    },
    {
      "cell_type": "markdown",
      "metadata": {
        "id": "ZR1ZaWysWoUE",
        "colab_type": "text"
      },
      "source": [
        "\n",
        "\n",
        "Como hemos hecho que nuestros datos sean bidimiensionales, podemos mostrarlos en un plot 2D donde la primera característica corresponda al eje *x* y la segunda característica al eje *y*. "
      ]
    },
    {
      "cell_type": "code",
      "metadata": {
        "id": "e4Vv71erWoUO",
        "colab_type": "code",
        "outputId": "5ce98c38-904f-4c69-eb90-28f6682f2033",
        "colab": {
          "base_uri": "https://localhost:8080/",
          "height": 279
        }
      },
      "source": [
        "plt.scatter(X[y == 0, 0], X[y == 0, 1], s=40, label='0', marker='^')\n",
        "plt.scatter(X[y == 1, 0], X[y == 1, 1], s=40, label='1', c='orange', marker='x')\n",
        "\n",
        "plt.xlabel('first feature')\n",
        "plt.ylabel('second feature')\n",
        "plt.legend(loc='upper right');"
      ],
      "execution_count": 4,
      "outputs": [
        {
          "output_type": "display_data",
          "data": {
            "image/png": "[encoded data removed]",
            "text/plain": [
              "<Figure size 432x288 with 1 Axes>"
            ]
          },
          "metadata": {
            "tags": [],
            "needs_background": "light"
          }
        }
      ]
    },
    {
      "cell_type": "markdown",
      "metadata": {
        "id": "CYsKgIBBWoUi",
        "colab_type": "text"
      },
      "source": [
        "\n",
        "\n",
        "Para evaluar los modelos que vamos a crear, vamos a separar el dataset en *train* y *test*. Recordad que estos dos conjuntos nos permiten:\n",
        "\n",
        "1. **Training**: Ajustar el modelo a los datos de entrenamiento.\n",
        "2. **Test**: Evaluar la capacidad de generalizar del modelo.\n",
        "\n",
        "\n",
        "Para separar los dos conjuntos utilizamos la función `train_test_split` del módulo `model_selection`. Separaremos ambos conjuntos con un ratio de 75/25."
      ]
    },
    {
      "cell_type": "code",
      "metadata": {
        "id": "wSS8NCgNWoU6",
        "colab_type": "code",
        "colab": {}
      },
      "source": [
        "from sklearn.model_selection import train_test_split\n",
        "\n",
        "X_train, X_test, y_train, y_test = train_test_split(X, y,\n",
        "                                                    test_size=0.25,\n",
        "                                                    random_state=1234,\n",
        "                                                    stratify=y)   # Attention: we pass the \"y\""
      ],
      "execution_count": 0,
      "outputs": []
    },
    {
      "cell_type": "code",
      "metadata": {
        "id": "CzOsZAPlWoVb",
        "colab_type": "code",
        "outputId": "6f91dc27-3dd6-4a80-efa9-3b2c0423669f",
        "colab": {
          "base_uri": "https://localhost:8080/",
          "height": 35
        }
      },
      "source": [
        "X_train.shape"
      ],
      "execution_count": 6,
      "outputs": [
        {
          "output_type": "execute_result",
          "data": {
            "text/plain": [
              "(150, 2)"
            ]
          },
          "metadata": {
            "tags": []
          },
          "execution_count": 6
        }
      ]
    },
    {
      "cell_type": "code",
      "metadata": {
        "id": "TqhCMHGGWoVx",
        "colab_type": "code",
        "outputId": "3da14c70-bff0-42e0-ce20-fba8db36d635",
        "colab": {
          "base_uri": "https://localhost:8080/",
          "height": 35
        }
      },
      "source": [
        "y_train.shape"
      ],
      "execution_count": 7,
      "outputs": [
        {
          "output_type": "execute_result",
          "data": {
            "text/plain": [
              "(150,)"
            ]
          },
          "metadata": {
            "tags": []
          },
          "execution_count": 7
        }
      ]
    },
    {
      "cell_type": "markdown",
      "metadata": {
        "id": "lq3sxHUxWoWQ",
        "colab_type": "text"
      },
      "source": [
        "\n",
        "\n",
        "Todos los algoritmos implementados en scikit-learn están expuestos en su API mediante objetos de tipo *Estimator*, que garantiza que todos los modelos disponen de la misma API:\n",
        "\n",
        "- `Estimator.`**`fit(X, y)`**: ajusta los parámetros del modelo a los datos\n",
        "- `Estimator.`**`predict(X)`**: predicce los valores de salida para datos nuevos\n",
        "- `Estimator.`**`score(X, y)`**: evalúa los resultados de la predicción\n",
        "\n",
        "Nosotros utilizaremos el objeto LogisticRegression para nuestra tarea de clasificación:"
      ]
    },
    {
      "cell_type": "code",
      "metadata": {
        "id": "JwYFeXYOWoWX",
        "colab_type": "code",
        "colab": {}
      },
      "source": [
        "from sklearn.linear_model import LogisticRegression\n",
        "\n",
        "classifier = LogisticRegression()"
      ],
      "execution_count": 0,
      "outputs": []
    },
    {
      "cell_type": "markdown",
      "metadata": {
        "id": "yzi84HHTWoXB",
        "colab_type": "text"
      },
      "source": [
        "\n",
        "\n",
        "Para entrenar el modelo, simplemente tenemos que llamar al método **`fit`** de nuestro objeto `classifier`, indicándole los datos de entrenamiento y las etiquetas asociadas a esos datos: "
      ]
    },
    {
      "cell_type": "code",
      "metadata": {
        "id": "C_ImFfP8WoXH",
        "colab_type": "code",
        "outputId": "ae1e6644-b19e-4efe-fb10-3bb1c7c6d660",
        "colab": {
          "base_uri": "https://localhost:8080/",
          "height": 108
        }
      },
      "source": [
        "classifier.fit(X_train, y_train)"
      ],
      "execution_count": 9,
      "outputs": [
        {
          "output_type": "execute_result",
          "data": {
            "text/plain": [
              "LogisticRegression(C=1.0, class_weight=None, dual=False, fit_intercept=True,\n",
              "                   intercept_scaling=1, l1_ratio=None, max_iter=100,\n",
              "                   multi_class='auto', n_jobs=None, penalty='l2',\n",
              "                   random_state=None, solver='lbfgs', tol=0.0001, verbose=0,\n",
              "                   warm_start=False)"
            ]
          },
          "metadata": {
            "tags": []
          },
          "execution_count": 9
        }
      ]
    },
    {
      "cell_type": "code",
      "metadata": {
        "id": "kZ7ENisHXVWp",
        "colab_type": "code",
        "outputId": "e2dc2cd4-218e-4db1-a94a-e527ceaa344a",
        "colab": {
          "base_uri": "https://localhost:8080/",
          "height": 35
        }
      },
      "source": [
        "classifier.coef_"
      ],
      "execution_count": 10,
      "outputs": [
        {
          "output_type": "execute_result",
          "data": {
            "text/plain": [
              "array([[ 0.89634307, -2.62074832]])"
            ]
          },
          "metadata": {
            "tags": []
          },
          "execution_count": 10
        }
      ]
    },
    {
      "cell_type": "code",
      "metadata": {
        "id": "_bGzSX-yXaR_",
        "colab_type": "code",
        "outputId": "b039ebba-c3d4-4c23-95fd-f795b1e46a95",
        "colab": {
          "base_uri": "https://localhost:8080/",
          "height": 35
        }
      },
      "source": [
        "classifier.intercept_"
      ],
      "execution_count": 11,
      "outputs": [
        {
          "output_type": "execute_result",
          "data": {
            "text/plain": [
              "array([5.14609874])"
            ]
          },
          "metadata": {
            "tags": []
          },
          "execution_count": 11
        }
      ]
    },
    {
      "cell_type": "markdown",
      "metadata": {
        "id": "P-UIs2zRWoXe",
        "colab_type": "text"
      },
      "source": [
        "\n",
        "\n",
        "Una vez tenemos el modelo entrenado, podemos empezar a realizar predicciones con datos nuevos:"
      ]
    },
    {
      "cell_type": "code",
      "metadata": {
        "id": "PN2GKQluWoXo",
        "colab_type": "code",
        "outputId": "7a5b15b7-e9b0-4cd1-b068-d35b469673ce",
        "colab": {
          "base_uri": "https://localhost:8080/",
          "height": 72
        }
      },
      "source": [
        "prediction = classifier.predict(X_test)\n",
        "prediction"
      ],
      "execution_count": 12,
      "outputs": [
        {
          "output_type": "execute_result",
          "data": {
            "text/plain": [
              "array([1, 0, 0, 1, 0, 0, 1, 0, 1, 0, 1, 0, 1, 1, 1, 1, 0, 0, 0, 0, 0, 1,\n",
              "       0, 0, 1, 0, 1, 0, 0, 1, 1, 1, 0, 0, 0, 0, 0, 1, 1, 1, 0, 0, 0, 1,\n",
              "       0, 1, 1, 0, 1, 1])"
            ]
          },
          "metadata": {
            "tags": []
          },
          "execution_count": 12
        }
      ]
    },
    {
      "cell_type": "code",
      "metadata": {
        "id": "m86uFb2RWoX_",
        "colab_type": "code",
        "outputId": "d4531cb9-04a5-470f-cb08-852accf74a49",
        "colab": {
          "base_uri": "https://localhost:8080/",
          "height": 925
        }
      },
      "source": [
        "classifier.predict_proba(X_test).round(2)"
      ],
      "execution_count": 13,
      "outputs": [
        {
          "output_type": "execute_result",
          "data": {
            "text/plain": [
              "array([[0.01, 0.99],\n",
              "       [1.  , 0.  ],\n",
              "       [1.  , 0.  ],\n",
              "       [0.  , 1.  ],\n",
              "       [0.98, 0.02],\n",
              "       [0.99, 0.01],\n",
              "       [0.  , 1.  ],\n",
              "       [0.99, 0.01],\n",
              "       [0.04, 0.96],\n",
              "       [0.74, 0.26],\n",
              "       [0.17, 0.83],\n",
              "       [0.9 , 0.1 ],\n",
              "       [0.07, 0.93],\n",
              "       [0.  , 1.  ],\n",
              "       [0.34, 0.66],\n",
              "       [0.01, 0.99],\n",
              "       [1.  , 0.  ],\n",
              "       [1.  , 0.  ],\n",
              "       [0.5 , 0.5 ],\n",
              "       [0.93, 0.07],\n",
              "       [1.  , 0.  ],\n",
              "       [0.  , 1.  ],\n",
              "       [0.97, 0.03],\n",
              "       [0.89, 0.11],\n",
              "       [0.37, 0.63],\n",
              "       [1.  , 0.  ],\n",
              "       [0.  , 1.  ],\n",
              "       [1.  , 0.  ],\n",
              "       [0.99, 0.01],\n",
              "       [0.02, 0.98],\n",
              "       [0.36, 0.64],\n",
              "       [0.  , 1.  ],\n",
              "       [1.  , 0.  ],\n",
              "       [1.  , 0.  ],\n",
              "       [0.99, 0.01],\n",
              "       [1.  , 0.  ],\n",
              "       [0.99, 0.01],\n",
              "       [0.  , 1.  ],\n",
              "       [0.  , 1.  ],\n",
              "       [0.  , 1.  ],\n",
              "       [1.  , 0.  ],\n",
              "       [0.93, 0.07],\n",
              "       [1.  , 0.  ],\n",
              "       [0.01, 0.99],\n",
              "       [0.58, 0.42],\n",
              "       [0.  , 1.  ],\n",
              "       [0.  , 1.  ],\n",
              "       [1.  , 0.  ],\n",
              "       [0.08, 0.92],\n",
              "       [0.01, 0.99]])"
            ]
          },
          "metadata": {
            "tags": []
          },
          "execution_count": 13
        }
      ]
    },
    {
      "cell_type": "markdown",
      "metadata": {
        "id": "oWed46rXWoYa",
        "colab_type": "text"
      },
      "source": [
        "\n",
        "\n",
        "Podemos comparar visualmente las predicciones con los valores de $y$ reales:"
      ]
    },
    {
      "cell_type": "code",
      "metadata": {
        "id": "nqzL5mobWoYf",
        "colab_type": "code",
        "outputId": "561344a5-eb75-4dd8-fb3d-87487dbfaeef",
        "colab": {
          "base_uri": "https://localhost:8080/",
          "height": 53
        }
      },
      "source": [
        "print(prediction[:20])\n",
        "print(y_test[:20])"
      ],
      "execution_count": 14,
      "outputs": [
        {
          "output_type": "stream",
          "text": [
            "[1 0 0 1 0 0 1 0 1 0 1 0 1 1 1 1 0 0 0 0]\n",
            "[1 0 0 1 0 0 1 0 1 0 1 0 1 1 1 1 0 0 1 0]\n"
          ],
          "name": "stdout"
        }
      ]
    },
    {
      "cell_type": "markdown",
      "metadata": {
        "id": "MI0nqWCzWoYr",
        "colab_type": "text"
      },
      "source": [
        "\n",
        "\n",
        "Para evaluarlo cuantitativamente, podemos computar qué fracción de las predicciones es correcta. A esta métrica se le llama **accuracy**:"
      ]
    },
    {
      "cell_type": "code",
      "metadata": {
        "id": "rgCPPHMqWoYv",
        "colab_type": "code",
        "outputId": "9bd72ec0-577b-47fe-c94b-508fbe8c77a2",
        "colab": {
          "base_uri": "https://localhost:8080/",
          "height": 35
        }
      },
      "source": [
        "np.mean(prediction == y_test)"
      ],
      "execution_count": 15,
      "outputs": [
        {
          "output_type": "execute_result",
          "data": {
            "text/plain": [
              "0.92"
            ]
          },
          "metadata": {
            "tags": []
          },
          "execution_count": 15
        }
      ]
    },
    {
      "cell_type": "markdown",
      "metadata": {
        "id": "c52jALRkWoY7",
        "colab_type": "text"
      },
      "source": [
        "\n",
        "\n",
        "Por supuesto, scikit-learn nos provee la función **`score`** para computar el **accuracy** directamente:"
      ]
    },
    {
      "cell_type": "code",
      "metadata": {
        "id": "GZs4mD0IWoZD",
        "colab_type": "code",
        "outputId": "2234202b-608c-4c49-a942-26e634994dbb",
        "colab": {
          "base_uri": "https://localhost:8080/",
          "height": 35
        }
      },
      "source": [
        "classifier.score(X_test, y_test)"
      ],
      "execution_count": 16,
      "outputs": [
        {
          "output_type": "execute_result",
          "data": {
            "text/plain": [
              "0.92"
            ]
          },
          "metadata": {
            "tags": []
          },
          "execution_count": 16
        }
      ]
    },
    {
      "cell_type": "code",
      "metadata": {
        "id": "sCd6ZtAnYnuF",
        "colab_type": "code",
        "outputId": "28e96893-83e3-4b9e-e140-9b090daa678a",
        "colab": {
          "base_uri": "https://localhost:8080/",
          "height": 35
        }
      },
      "source": [
        "classifier.score(X_train, y_train)"
      ],
      "execution_count": 17,
      "outputs": [
        {
          "output_type": "execute_result",
          "data": {
            "text/plain": [
              "0.9866666666666667"
            ]
          },
          "metadata": {
            "tags": []
          },
          "execution_count": 17
        }
      ]
    },
    {
      "cell_type": "code",
      "metadata": {
        "id": "NUHxaEAiXuMt",
        "colab_type": "code",
        "colab": {}
      },
      "source": [
        "#dir(classifier)"
      ],
      "execution_count": 0,
      "outputs": []
    },
    {
      "cell_type": "markdown",
      "metadata": {
        "id": "BzqbHT1bWoZp",
        "colab_type": "text"
      },
      "source": [
        "\n",
        "\n",
        "Suele ser muy útil comparar la capacidad de generalización del modelo en el conjunto de test con el accuracy en los datos de entrenamiento (veremos por qué más adelante):\n"
      ]
    },
    {
      "cell_type": "markdown",
      "metadata": {
        "id": "qeHW3_oxWoaS",
        "colab_type": "text"
      },
      "source": [
        "\n",
        "\n",
        "La Regresión Logística es un modelo linear, esto es, un modelo que crea una decisión que es lineal en el espacio de entrada. En nuestro dataset, esto significa que el umbral de decisión es una recta que separa las dos variables de entrada:"
      ]
    },
    {
      "cell_type": "code",
      "metadata": {
        "id": "FcCd_SnZWoaW",
        "colab_type": "code",
        "outputId": "6941e70e-8b35-4d07-edb0-1f736cccdcc2",
        "colab": {
          "base_uri": "https://localhost:8080/",
          "height": 279
        }
      },
      "source": [
        "#from seaborn import figures\n",
        "import numpy as np\n",
        "import matplotlib.pyplot as plt\n",
        "\n",
        "plt.scatter(X[y == 0, 0], X[y == 0, 1], s=40, label='0', marker='^')\n",
        "plt.scatter(X[y == 1, 0], X[y == 1, 1], s=40, label='1', c='orange', marker='x')\n",
        "\n",
        "plt.xlabel(\"first feature\")\n",
        "plt.ylabel(\"second feature\")\n",
        "#mglearn.plot_2d_separator(classifier, X)\n",
        "plt.legend(loc='upper right');"
      ],
      "execution_count": 19,
      "outputs": [
        {
          "output_type": "display_data",
          "data": {
            "image/png": "[encoded data removed]",
            "text/plain": [
              "<Figure size 432x288 with 1 Axes>"
            ]
          },
          "metadata": {
            "tags": [],
            "needs_background": "light"
          }
        }
      ]
    },
    {
      "cell_type": "code",
      "metadata": {
        "id": "EJs8rMKKMP4U",
        "colab_type": "code",
        "colab": {
          "base_uri": "https://localhost:8080/",
          "height": 279
        },
        "outputId": "a08bf4be-de1b-48ad-ee53-e3de93ab956e"
      },
      "source": [
        "#from seaborn import figures\n",
        "import numpy as np\n",
        "import matplotlib.pyplot as plt\n",
        "\n",
        "\n",
        "\n",
        "\n",
        "# Plot the decision boundary. For that, we will assign a color to each\n",
        "# point in the mesh [x_min, x_max]x[y_min, y_max].\n",
        "x_min, x_max = X[:, 0].min() - .5, X[:, 0].max() + .5\n",
        "y_min, y_max = X[:, 1].min() - .5, X[:, 1].max() + .5\n",
        "h = .02  # step size in the mesh\n",
        "xx, yy = np.meshgrid(np.arange(x_min, x_max, h), np.arange(y_min, y_max, h))\n",
        "Z = classifier.predict(np.c_[xx.ravel(), yy.ravel()])\n",
        "# Put the result into a color plot\n",
        "Z = Z.reshape(xx.shape)\n",
        "plt.figure(1, figsize=(7, 4))\n",
        "plt.pcolormesh(xx, yy, Z, cmap=plt.cm.Paired)\n",
        "\n",
        "\n",
        "plt.scatter(X[y == 0, 0], X[y == 0, 1], s=40, label='0', marker='^')\n",
        "plt.scatter(X[y == 1, 0], X[y == 1, 1], s=40, label='1', c='orange', marker='x')\n",
        "\n",
        "plt.xlabel(\"first feature\")\n",
        "plt.ylabel(\"second feature\")\n",
        "#mglearn.plot_2d_separator(classifier, X)\n",
        "plt.legend(loc='upper right');"
      ],
      "execution_count": 20,
      "outputs": [
        {
          "output_type": "display_data",
          "data": {
            "image/png": "[encoded data removed]",
            "text/plain": [
              "<Figure size 504x288 with 1 Axes>"
            ]
          },
          "metadata": {
            "tags": [],
            "needs_background": "light"
          }
        }
      ]
    },
    {
      "cell_type": "markdown",
      "metadata": {
        "id": "jWH9Z9bCWoaz",
        "colab_type": "text"
      },
      "source": [
        "\n",
        "\n",
        "Podemos obtener otras métricas como F-Score, etc."
      ]
    },
    {
      "cell_type": "code",
      "metadata": {
        "id": "gXUIgmZxWoa2",
        "colab_type": "code",
        "outputId": "dce01bea-77f5-427c-fe84-324015346e28",
        "colab": {
          "base_uri": "https://localhost:8080/",
          "height": 72
        }
      },
      "source": [
        "from sklearn.metrics import f1_score, precision_score, recall_score\n",
        "\n",
        "print('Precision:', precision_score(y_test, prediction))\n",
        "print('Recall:   ', recall_score(y_test, prediction))\n",
        "print('Fscore:   ', f1_score(y_test, prediction))"
      ],
      "execution_count": 21,
      "outputs": [
        {
          "output_type": "stream",
          "text": [
            "Precision: 0.9565217391304348\n",
            "Recall:    0.88\n",
            "Fscore:    0.9166666666666666\n"
          ],
          "name": "stdout"
        }
      ]
    },
    {
      "cell_type": "markdown",
      "metadata": {
        "id": "LsYe6oJSWobC",
        "colab_type": "text"
      },
      "source": [
        "\n",
        "\n",
        "Además es posible obtener los parámetros de la regresión:"
      ]
    },
    {
      "cell_type": "code",
      "metadata": {
        "id": "GcQ2NQYXWobH",
        "colab_type": "code",
        "outputId": "a97632d5-89d6-4d93-fed2-d3a8641206c2",
        "colab": {
          "base_uri": "https://localhost:8080/",
          "height": 53
        }
      },
      "source": [
        "print(classifier.coef_)\n",
        "print(classifier.intercept_)"
      ],
      "execution_count": 22,
      "outputs": [
        {
          "output_type": "stream",
          "text": [
            "[[ 0.89634307 -2.62074832]]\n",
            "[5.14609874]\n"
          ],
          "name": "stdout"
        }
      ]
    }
  ]
}