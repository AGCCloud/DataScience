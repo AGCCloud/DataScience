{
  "nbformat": 4,
  "nbformat_minor": 0,
  "metadata": {
    "colab": {
      "name": "15_hierarchical_clustering.ipynb",
      "provenance": [],
      "toc_visible": true,
      "include_colab_link": true
    },
    "kernelspec": {
      "name": "python3",
      "display_name": "Python 3"
    }
  },
  "cells": [
    {
      "cell_type": "markdown",
      "metadata": {
        "id": "view-in-github",
        "colab_type": "text"
      },
      "source": [
        "<a href=\"https://colab.research.google.com/github/al34n1x/DataScience/blob/master/99.Machine_Learning/15_hierarchical_clustering.ipynb\" target=\"_parent\"><img src=\"https://colab.research.google.com/assets/colab-badge.svg\" alt=\"Open In Colab\"/></a>"
      ]
    },
    {
      "cell_type": "markdown",
      "metadata": {
        "id": "8lgbMhpGDtqB",
        "colab_type": "text"
      },
      "source": [
        "\n",
        "\n",
        "<h1>Table of Contents<span class=\"tocSkip\"></span></h1>\n",
        "<div class=\"toc\"><ul class=\"toc-item\"><li><span><a href=\"#Clustering-jerárquico\" data-toc-modified-id=\"Clustering-jerárquico-1\"><span class=\"toc-item-num\">1&nbsp;&nbsp;</span>Clustering jerárquico</a></span></li><li><span><a href=\"#Ejemplo:-Cluster-Analysis-and-Segmentation\" data-toc-modified-id=\"Ejemplo:-Cluster-Analysis-and-Segmentation-2\"><span class=\"toc-item-num\">2&nbsp;&nbsp;</span>Ejemplo: Cluster Analysis and Segmentation</a></span><ul class=\"toc-item\"><li><span><a href=\"#a)-Carga-de-los-datos\" data-toc-modified-id=\"a)-Carga-de-los-datos-2.1\"><span class=\"toc-item-num\">2.1&nbsp;&nbsp;</span>a) Carga de los datos</a></span></li><li><span><a href=\"#b)-Análisis-exploratorio-de-los-datos\" data-toc-modified-id=\"b)-Análisis-exploratorio-de-los-datos-2.2\"><span class=\"toc-item-num\">2.2&nbsp;&nbsp;</span>b) Análisis exploratorio de los datos</a></span></li><li><span><a href=\"#c)-Normalizacion-de-los-datos\" data-toc-modified-id=\"c)-Normalizacion-de-los-datos-2.3\"><span class=\"toc-item-num\">2.3&nbsp;&nbsp;</span>c) Normalizacion de los datos</a></span></li><li><span><a href=\"#d)-Selección-de-atributos\" data-toc-modified-id=\"d)-Selección-de-atributos-2.4\"><span class=\"toc-item-num\">2.4&nbsp;&nbsp;</span>d) Selección de atributos</a></span></li><li><span><a href=\"#e)-Medida-de-distancia\" data-toc-modified-id=\"e)-Medida-de-distancia-2.5\"><span class=\"toc-item-num\">2.5&nbsp;&nbsp;</span>e) Medida de distancia</a></span></li><li><span><a href=\"#f)-Método-de-clustering.-Clustering-Jerárquico\" data-toc-modified-id=\"f)-Método-de-clustering.-Clustering-Jerárquico-2.6\"><span class=\"toc-item-num\">2.6&nbsp;&nbsp;</span>f) Método de clustering. Clustering Jerárquico</a></span></li><li><span><a href=\"#g)-Método-de-clustering.-K-means\" data-toc-modified-id=\"g)-Método-de-clustering.-K-means-2.7\"><span class=\"toc-item-num\">2.7&nbsp;&nbsp;</span>g) Método de clustering. K-means</a></span><ul class=\"toc-item\"><li><span><a href=\"#Validación-K-means\" data-toc-modified-id=\"Validación-K-means-2.7.1\"><span class=\"toc-item-num\">2.7.1&nbsp;&nbsp;</span>Validación K-means</a></span></li></ul></li><li><span><a href=\"#h)-Perfil-de-los-segmentos\" data-toc-modified-id=\"h)-Perfil-de-los-segmentos-2.8\"><span class=\"toc-item-num\">2.8&nbsp;&nbsp;</span>h) Perfil de los segmentos</a></span><ul class=\"toc-item\"><li><span><a href=\"#Comparacion-del-resultado-con-ambos-metodos-de-clustering\" data-toc-modified-id=\"Comparacion-del-resultado-con-ambos-metodos-de-clustering-2.8.1\"><span class=\"toc-item-num\">2.8.1&nbsp;&nbsp;</span>Comparacion del resultado con ambos metodos de clustering</a></span></li></ul></li></ul></li></ul></div>"
      ]
    },
    {
      "cell_type": "markdown",
      "metadata": {
        "id": "KiZDZ6qODtqB",
        "colab_type": "text"
      },
      "source": [
        "\n",
        "\n",
        "---\n",
        "\n",
        "## Clustering jerárquico\n",
        "\n",
        "Otra forma de agrupar datos es mediante el clustering jerárquico, que organiza los datos en un árbol  llamado dendrograma. Existen dos formas de analizar los datos para construir el árbol:\n",
        "\n",
        "- Bottom-Up (de abajo a arriba): cada dato es un cluster, después se juntan los dos datos más parecidos, se va repitiendo este proceso hasta que sólo hay un clúster.\n",
        "\n",
        "- Top-Down (de arriba a abajo): empezamos con un clúster que agrupa a todos los datos, después dividimos en dos por aquella división que más separe los clusters resultantes. Este proceso se repite hasta que cada dato es un clúster en sí mismo.\n",
        "\n",
        "En el eje x del dendograma están los índices de cada dato, mientras que en el eje y están las distancias a las cuales los clusters fueron unidos para formar otro clúster. El algoritmo tiene que computar estas distancias y hay varias formas de hacerlo:\n",
        "\n",
        "- Link simple: considerar la distancia entre dos clusters como la distancia entre sus miembros más cercanos. Puede crear efectos de cadena.\n",
        "- Link completo: considerar la distancia entre dos clusters como la distancia entre sus miembros más lejanos. Puede crear efectos de cadena.\n",
        "- Media: considerar la distancia entre dos clusters como la distancia media."
      ]
    },
    {
      "cell_type": "code",
      "metadata": {
        "id": "T8n9UfLHDtqC",
        "colab_type": "code",
        "colab": {
          "base_uri": "https://localhost:8080/",
          "height": 34
        },
        "outputId": "e291ef83-2b27-4cf3-f1fd-d8a600292070"
      },
      "source": [
        "from matplotlib import pyplot as plt\n",
        "from scipy.cluster.hierarchy import dendrogram, linkage\n",
        "import numpy as np\n",
        "\n",
        "np.set_printoptions(precision=5, suppress=True)\n",
        "\n",
        "# We generated two clusters with 100 and 50 points respectively.\n",
        "\n",
        "np.random.seed(4711)\n",
        "a = np.random.multivariate_normal([10, 0], [[3, 1], [1, 4]], size=[100,])\n",
        "b = np.random.multivariate_normal([0, 20], [[3, 1], [1, 4]], size=[50,])\n",
        "features = np.concatenate((a, b),)\n",
        "\n",
        "print (features.shape)"
      ],
      "execution_count": null,
      "outputs": [
        {
          "output_type": "stream",
          "text": [
            "(150, 2)\n"
          ],
          "name": "stdout"
        }
      ]
    },
    {
      "cell_type": "code",
      "metadata": {
        "id": "XjfgckonDtqE",
        "colab_type": "code",
        "colab": {
          "base_uri": "https://localhost:8080/",
          "height": 266
        },
        "outputId": "41f4b718-c980-4970-dbee-90f53f91a07c"
      },
      "source": [
        "plt.scatter(features[:,0], features[:,1])\n",
        "plt.show()"
      ],
      "execution_count": null,
      "outputs": [
        {
          "output_type": "display_data",
          "data": {
            "image/png": "[encoded data removed]",
            "text/plain": [
              "<Figure size 432x288 with 1 Axes>"
            ]
          },
          "metadata": {
            "tags": [],
            "needs_background": "light"
          }
        }
      ]
    },
    {
      "cell_type": "markdown",
      "metadata": {
        "id": "u3KAUolRDtqH",
        "colab_type": "text"
      },
      "source": [
        "\n",
        "\n",
        "Generamos la matriz de enlace"
      ]
    },
    {
      "cell_type": "code",
      "metadata": {
        "id": "SPJcayX-DtqI",
        "colab_type": "code",
        "colab": {}
      },
      "source": [
        "Z= linkage(features, 'ward')"
      ],
      "execution_count": null,
      "outputs": []
    },
    {
      "cell_type": "code",
      "metadata": {
        "id": "DlrMKRofDtqK",
        "colab_type": "code",
        "colab": {
          "base_uri": "https://localhost:8080/",
          "height": 1000
        },
        "outputId": "4d5600db-67f4-4408-eaf6-bed3888113da"
      },
      "source": [
        "Z"
      ],
      "execution_count": null,
      "outputs": [
        {
          "output_type": "execute_result",
          "data": {
            "text/plain": [
              "array([[ 52.     ,  53.     ,   0.04151,   2.     ],\n",
              "       [ 14.     ,  79.     ,   0.05914,   2.     ],\n",
              "       [ 33.     ,  68.     ,   0.07107,   2.     ],\n",
              "       [ 17.     ,  73.     ,   0.07137,   2.     ],\n",
              "       [  1.     ,   8.     ,   0.07543,   2.     ],\n",
              "       [ 85.     ,  95.     ,   0.10928,   2.     ],\n",
              "       [108.     , 131.     ,   0.11007,   2.     ],\n",
              "       [  9.     ,  66.     ,   0.11302,   2.     ],\n",
              "       [ 15.     ,  69.     ,   0.11429,   2.     ],\n",
              "       [ 63.     ,  98.     ,   0.1212 ,   2.     ],\n",
              "       [107.     , 115.     ,   0.12167,   2.     ],\n",
              "       [ 65.     ,  74.     ,   0.1249 ,   2.     ],\n",
              "       [ 58.     ,  61.     ,   0.14028,   2.     ],\n",
              "       [ 62.     , 152.     ,   0.1726 ,   3.     ],\n",
              "       [ 41.     , 158.     ,   0.1779 ,   3.     ],\n",
              "       [ 10.     ,  83.     ,   0.18635,   2.     ],\n",
              "       [114.     , 139.     ,   0.20419,   2.     ],\n",
              "       [ 39.     ,  88.     ,   0.20628,   2.     ],\n",
              "       [ 70.     ,  96.     ,   0.21931,   2.     ],\n",
              "       [ 46.     ,  50.     ,   0.22049,   2.     ],\n",
              "       [109.     , 113.     ,   0.22499,   2.     ],\n",
              "       [ 31.     ,  80.     ,   0.23286,   2.     ],\n",
              "       [ 22.     , 150.     ,   0.23608,   3.     ],\n",
              "       [ 28.     ,  35.     ,   0.24282,   2.     ],\n",
              "       [ 18.     ,  34.     ,   0.24839,   2.     ],\n",
              "       [105.     , 137.     ,   0.25928,   2.     ],\n",
              "       [ 21.     ,  71.     ,   0.262  ,   2.     ],\n",
              "       [  3.     ,  32.     ,   0.26651,   2.     ],\n",
              "       [123.     , 145.     ,   0.27191,   2.     ],\n",
              "       [ 11.     ,  44.     ,   0.2914 ,   2.     ],\n",
              "       [ 76.     ,  99.     ,   0.29709,   2.     ],\n",
              "       [ 47.     ,  59.     ,   0.29906,   2.     ],\n",
              "       [  5.     ,  91.     ,   0.3392 ,   2.     ],\n",
              "       [ 90.     , 181.     ,   0.33976,   3.     ],\n",
              "       [124.     , 143.     ,   0.34521,   2.     ],\n",
              "       [ 43.     ,  55.     ,   0.34593,   2.     ],\n",
              "       [ 51.     ,  64.     ,   0.34655,   2.     ],\n",
              "       [ 54.     ,  97.     ,   0.35581,   2.     ],\n",
              "       [  2.     ,  93.     ,   0.37556,   2.     ],\n",
              "       [100.     , 160.     ,   0.38091,   3.     ],\n",
              "       [ 12.     ,  78.     ,   0.40147,   2.     ],\n",
              "       [118.     , 133.     ,   0.4051 ,   2.     ],\n",
              "       [ 26.     , 167.     ,   0.41213,   3.     ],\n",
              "       [ 82.     , 163.     ,   0.41898,   4.     ],\n",
              "       [  0.     , 168.     ,   0.42536,   3.     ],\n",
              "       [144.     , 156.     ,   0.44317,   3.     ],\n",
              "       [130.     , 149.     ,   0.44579,   2.     ],\n",
              "       [154.     , 164.     ,   0.4601 ,   5.     ],\n",
              "       [ 29.     ,  89.     ,   0.47034,   2.     ],\n",
              "       [102.     , 147.     ,   0.4713 ,   2.     ],\n",
              "       [ 86.     , 155.     ,   0.47217,   3.     ],\n",
              "       [101.     , 134.     ,   0.47825,   2.     ],\n",
              "       [ 19.     , 177.     ,   0.48948,   3.     ],\n",
              "       [  6.     ,  84.     ,   0.49974,   2.     ],\n",
              "       [151.     , 173.     ,   0.5052 ,   4.     ],\n",
              "       [ 45.     ,  92.     ,   0.52446,   2.     ],\n",
              "       [ 13.     , 165.     ,   0.52623,   3.     ],\n",
              "       [110.     , 178.     ,   0.5291 ,   3.     ],\n",
              "       [ 42.     , 202.     ,   0.53388,   4.     ],\n",
              "       [153.     , 174.     ,   0.53756,   4.     ],\n",
              "       [ 49.     ,  75.     ,   0.5812 ,   2.     ],\n",
              "       [106.     , 142.     ,   0.59033,   2.     ],\n",
              "       [116.     , 136.     ,   0.59151,   2.     ],\n",
              "       [175.     , 196.     ,   0.59716,   4.     ],\n",
              "       [169.     , 176.     ,   0.62949,   4.     ],\n",
              "       [ 56.     , 190.     ,   0.64014,   3.     ],\n",
              "       [171.     , 198.     ,   0.64371,   4.     ],\n",
              "       [111.     , 126.     ,   0.65935,   2.     ],\n",
              "       [159.     , 193.     ,   0.67665,   6.     ],\n",
              "       [157.     , 188.     ,   0.71004,   4.     ],\n",
              "       [ 72.     ,  94.     ,   0.72996,   2.     ],\n",
              "       [ 81.     , 206.     ,   0.748  ,   4.     ],\n",
              "       [ 16.     ,  77.     ,   0.75378,   2.     ],\n",
              "       [ 67.     , 192.     ,   0.77247,   4.     ],\n",
              "       [112.     , 132.     ,   0.79273,   2.     ],\n",
              "       [103.     , 122.     ,   0.8106 ,   2.     ],\n",
              "       [119.     , 170.     ,   0.81731,   3.     ],\n",
              "       [186.     , 205.     ,   0.83284,   4.     ],\n",
              "       [148.     , 199.     ,   0.85439,   3.     ],\n",
              "       [ 24.     , 162.     ,   0.86511,   3.     ],\n",
              "       [135.     , 184.     ,   0.87732,   3.     ],\n",
              "       [ 23.     , 179.     ,   0.90927,   3.     ],\n",
              "       [ 30.     , 203.     ,   0.912  ,   3.     ],\n",
              "       [ 87.     , 187.     ,   0.92306,   3.     ],\n",
              "       [104.     , 191.     ,   0.93716,   3.     ],\n",
              "       [121.     , 195.     ,   0.97324,   4.     ],\n",
              "       [ 20.     , 210.     ,   1.01209,   3.     ],\n",
              "       [ 37.     ,  57.     ,   1.01374,   2.     ],\n",
              "       [146.     , 226.     ,   1.0306 ,   4.     ],\n",
              "       [172.     , 214.     ,   1.03456,   7.     ],\n",
              "       [ 48.     , 209.     ,   1.04092,   5.     ],\n",
              "       [189.     , 230.     ,   1.05574,   6.     ],\n",
              "       [  7.     ,  38.     ,   1.08173,   2.     ],\n",
              "       [128.     , 166.     ,   1.12389,   3.     ],\n",
              "       [117.     , 212.     ,   1.15172,   3.     ],\n",
              "       [183.     , 200.     ,   1.15312,   6.     ],\n",
              "       [ 25.     , 223.     ,   1.17325,   5.     ],\n",
              "       [ 36.     , 180.     ,   1.18423,   3.     ],\n",
              "       [185.     , 216.     ,   1.19546,   6.     ],\n",
              "       [211.     , 224.     ,   1.22482,   4.     ],\n",
              "       [140.     , 225.     ,   1.32626,   3.     ],\n",
              "       [138.     , 207.     ,   1.35046,   4.     ],\n",
              "       [161.     , 222.     ,   1.49318,   4.     ],\n",
              "       [194.     , 197.     ,   1.49619,   8.     ],\n",
              "       [220.     , 239.     ,   1.59175,   9.     ],\n",
              "       [215.     , 231.     ,   1.6701 ,   6.     ],\n",
              "       [129.     , 141.     ,   1.6758 ,   2.     ],\n",
              "       [201.     , 251.     ,   1.699  ,   6.     ],\n",
              "       [204.     , 240.     ,   1.70929,   9.     ],\n",
              "       [ 27.     ,  60.     ,   1.75073,   2.     ],\n",
              "       [213.     , 228.     ,   1.79407,   7.     ],\n",
              "       [227.     , 233.     ,   1.84758,   7.     ],\n",
              "       [120.     , 234.     ,   1.88067,   4.     ],\n",
              "       [208.     , 255.     ,   1.92114,  10.     ],\n",
              "       [235.     , 249.     ,   2.03403,   8.     ],\n",
              "       [219.     , 237.     ,   2.15902,   6.     ],\n",
              "       [125.     , 250.     ,   2.23528,   4.     ],\n",
              "       [232.     , 246.     ,   2.26166,   8.     ],\n",
              "       [221.     , 245.     ,   2.42437,  10.     ],\n",
              "       [241.     , 257.     ,   2.46289,  12.     ],\n",
              "       [218.     , 253.     ,   2.48409,  14.     ],\n",
              "       [229.     , 248.     ,   2.61009,   9.     ],\n",
              "       [217.     , 244.     ,   2.75678,   5.     ],\n",
              "       [127.     , 262.     ,   2.83419,   5.     ],\n",
              "       [  4.     , 259.     ,   3.10981,   3.     ],\n",
              "       [242.     , 261.     ,   3.32706,   9.     ],\n",
              "       [236.     , 271.     ,   3.48016,  12.     ],\n",
              "       [182.     , 267.     ,   3.72097,  10.     ],\n",
              "       [247.     , 268.     ,   3.83145,  13.     ],\n",
              "       [243.     , 260.     ,   4.003  ,  10.     ],\n",
              "       [238.     , 256.     ,   4.03585,   6.     ],\n",
              "       [264.     , 273.     ,   4.11676,  13.     ],\n",
              "       [252.     , 265.     ,   4.17761,  10.     ],\n",
              "       [254.     , 263.     ,   5.05391,  19.     ],\n",
              "       [258.     , 276.     ,   5.31023,  21.     ],\n",
              "       [269.     , 272.     ,   6.20388,  17.     ],\n",
              "       [270.     , 283.     ,   6.44512,  33.     ],\n",
              "       [279.     , 281.     ,   6.5936 ,  23.     ],\n",
              "       [274.     , 275.     ,   6.65622,  12.     ],\n",
              "       [ 40.     , 278.     ,   7.11106,  14.     ],\n",
              "       [277.     , 288.     ,   7.86879,  22.     ],\n",
              "       [266.     , 280.     ,   8.04935,  10.     ],\n",
              "       [285.     , 291.     ,   8.74822,  27.     ],\n",
              "       [282.     , 289.     ,   9.84428,  24.     ],\n",
              "       [284.     , 286.     ,  12.42735,  54.     ],\n",
              "       [290.     , 294.     ,  15.11533,  76.     ],\n",
              "       [287.     , 292.     ,  17.11527,  50.     ],\n",
              "       [293.     , 295.     ,  23.12199, 100.     ],\n",
              "       [296.     , 297.     , 180.27043, 150.     ]])"
            ]
          },
          "metadata": {
            "tags": []
          },
          "execution_count": 5
        }
      ]
    },
    {
      "cell_type": "markdown",
      "metadata": {
        "id": "neOrygz_DtqN",
        "colab_type": "text"
      },
      "source": [
        "\n",
        "\n",
        "Vamos a ver el Dendograma en modo vectorial para no perder detalle"
      ]
    },
    {
      "cell_type": "code",
      "metadata": {
        "id": "vba6eqUFDtqN",
        "colab_type": "code",
        "colab": {
          "base_uri": "https://localhost:8080/",
          "height": 970
        },
        "outputId": "4c6883d2-a09e-47a0-b529-3f00377aac66"
      },
      "source": [
        "from IPython.display import set_matplotlib_formats\n",
        "set_matplotlib_formats('pdf', 'svg')\n",
        "\n",
        "\n",
        "# We calculate the complete dendrogram\n",
        "plt.figure(figsize=(12, 12))\n",
        "plt.title(u'Dendrogram')\n",
        "plt.xlabel(u'index')\n",
        "plt.ylabel(u'distance')\n",
        "dendrogram(Z)\n",
        "plt.show()"
      ],
      "execution_count": null,
      "outputs": [
        {
          "output_type": "display_data",
          "data": {
            "application/pdf": "[encoded data removed]",
            "text/plain": [
              "<Figure size 864x864 with 1 Axes>"
            ],
            "image/svg+xml": "<?xml version=\"1.0\" encoding=\"utf-8\" standalone=\"no\"?>\n<!DOCTYPE svg PUBLIC \"-//W3C//DTD SVG 1.1//EN\"\n  \"http://www.w3.org/Graphics/SVG/1.1/DTD/svg11.dtd\">\n<!-- Created with matplotlib (https://matplotlib.org/) -->\n<svg height=\"712.06pt\" version=\"1.1\" viewBox=\"0 0 723.953156 712.06\" width=\"723.953156pt\" xmlns=\"http://www.w3.org/2000/svg\" xmlns:xlink=\"http://www.w3.org/1999/xlink\">\n <defs>\n  <style type=\"text/css\">\n*{stroke-linecap:butt;stroke-linejoin:round;}\n  </style>\n </defs>\n <g id=\"figure_1\">\n  <g id=\"patch_1\">\n   <path d=\"M 0 712.06 \nL 723.953156 712.06 \nL 723.953156 0 \nL 0 0 \nz\n\" style=\"fill:none;\"/>\n  </g>\n  <g id=\"axes_1\">\n   <g id=\"patch_2\">\n    <path d=\"M 46.965625 674.638125 \nL 716.565625 674.638125 \nL 716.565625 22.318125 \nL 46.965625 22.318125 \nz\n\" style=\"fill:#ffffff;\"/>\n   </g>\n   <g id=\"matplotlib.axis_1\">\n    <g id=\"xtick_1\">\n     <g id=\"text_1\">\n      <!-- 128 -->\n      <defs>\n       <path d=\"M 12.40625 8.296875 \nL 28.515625 8.296875 \nL 28.515625 63.921875 \nL 10.984375 60.40625 \nL 10.984375 69.390625 \nL 28.421875 72.90625 \nL 38.28125 72.90625 \nL 38.28125 8.296875 \nL 54.390625 8.296875 \nL 54.390625 0 \nL 12.40625 0 \nz\n\" id=\"DejaVuSans-49\"/>\n       <path d=\"M 19.1875 8.296875 \nL 53.609375 8.296875 \nL 53.609375 0 \nL 7.328125 0 \nL 7.328125 8.296875 \nQ 12.9375 14.109375 22.625 23.890625 \nQ 32.328125 33.6875 34.8125 36.53125 \nQ 39.546875 41.84375 41.421875 45.53125 \nQ 43.3125 49.21875 43.3125 52.78125 \nQ 43.3125 58.59375 39.234375 62.25 \nQ 35.15625 65.921875 28.609375 65.921875 \nQ 23.96875 65.921875 18.8125 64.3125 \nQ 13.671875 62.703125 7.8125 59.421875 \nL 7.8125 69.390625 \nQ 13.765625 71.78125 18.9375 73 \nQ 24.125 74.21875 28.421875 74.21875 \nQ 39.75 74.21875 46.484375 68.546875 \nQ 53.21875 62.890625 53.21875 53.421875 \nQ 53.21875 48.921875 51.53125 44.890625 \nQ 49.859375 40.875 45.40625 35.40625 \nQ 44.1875 33.984375 37.640625 27.21875 \nQ 31.109375 20.453125 19.1875 8.296875 \nz\n\" id=\"DejaVuSans-50\"/>\n       <path d=\"M 31.78125 34.625 \nQ 24.75 34.625 20.71875 30.859375 \nQ 16.703125 27.09375 16.703125 20.515625 \nQ 16.703125 13.921875 20.71875 10.15625 \nQ 24.75 6.390625 31.78125 6.390625 \nQ 38.8125 6.390625 42.859375 10.171875 \nQ 46.921875 13.96875 46.921875 20.515625 \nQ 46.921875 27.09375 42.890625 30.859375 \nQ 38.875 34.625 31.78125 34.625 \nz\nM 21.921875 38.8125 \nQ 15.578125 40.375 12.03125 44.71875 \nQ 8.5 49.078125 8.5 55.328125 \nQ 8.5 64.0625 14.71875 69.140625 \nQ 20.953125 74.21875 31.78125 74.21875 \nQ 42.671875 74.21875 48.875 69.140625 \nQ 55.078125 64.0625 55.078125 55.328125 \nQ 55.078125 49.078125 51.53125 44.71875 \nQ 48 40.375 41.703125 38.8125 \nQ 48.828125 37.15625 52.796875 32.3125 \nQ 56.78125 27.484375 56.78125 20.515625 \nQ 56.78125 9.90625 50.3125 4.234375 \nQ 43.84375 -1.421875 31.78125 -1.421875 \nQ 19.734375 -1.421875 13.25 4.234375 \nQ 6.78125 9.90625 6.78125 20.515625 \nQ 6.78125 27.484375 10.78125 32.3125 \nQ 14.796875 37.15625 21.921875 38.8125 \nz\nM 18.3125 54.390625 \nQ 18.3125 48.734375 21.84375 45.5625 \nQ 25.390625 42.390625 31.78125 42.390625 \nQ 38.140625 42.390625 41.71875 45.5625 \nQ 45.3125 48.734375 45.3125 54.390625 \nQ 45.3125 60.0625 41.71875 63.234375 \nQ 38.140625 66.40625 31.78125 66.40625 \nQ 25.390625 66.40625 21.84375 63.234375 \nQ 18.3125 60.0625 18.3125 54.390625 \nz\n\" id=\"DejaVuSans-56\"/>\n      </defs>\n      <g transform=\"translate(50.577313 691.181875)rotate(-90)scale(0.05 -0.05)\">\n       <use xlink:href=\"#DejaVuSans-49\"/>\n       <use x=\"63.623047\" xlink:href=\"#DejaVuSans-50\"/>\n       <use x=\"127.246094\" xlink:href=\"#DejaVuSans-56\"/>\n      </g>\n     </g>\n    </g>\n    <g id=\"xtick_2\">\n     <g id=\"text_2\">\n      <!-- 114 -->\n      <defs>\n       <path d=\"M 37.796875 64.3125 \nL 12.890625 25.390625 \nL 37.796875 25.390625 \nz\nM 35.203125 72.90625 \nL 47.609375 72.90625 \nL 47.609375 25.390625 \nL 58.015625 25.390625 \nL 58.015625 17.1875 \nL 47.609375 17.1875 \nL 47.609375 0 \nL 37.796875 0 \nL 37.796875 17.1875 \nL 4.890625 17.1875 \nL 4.890625 26.703125 \nz\n\" id=\"DejaVuSans-52\"/>\n      </defs>\n      <g transform=\"translate(55.041313 691.181875)rotate(-90)scale(0.05 -0.05)\">\n       <use xlink:href=\"#DejaVuSans-49\"/>\n       <use x=\"63.623047\" xlink:href=\"#DejaVuSans-49\"/>\n       <use x=\"127.246094\" xlink:href=\"#DejaVuSans-52\"/>\n      </g>\n     </g>\n    </g>\n    <g id=\"xtick_3\">\n     <g id=\"text_3\">\n      <!-- 139 -->\n      <defs>\n       <path d=\"M 40.578125 39.3125 \nQ 47.65625 37.796875 51.625 33 \nQ 55.609375 28.21875 55.609375 21.1875 \nQ 55.609375 10.40625 48.1875 4.484375 \nQ 40.765625 -1.421875 27.09375 -1.421875 \nQ 22.515625 -1.421875 17.65625 -0.515625 \nQ 12.796875 0.390625 7.625 2.203125 \nL 7.625 11.71875 \nQ 11.71875 9.328125 16.59375 8.109375 \nQ 21.484375 6.890625 26.8125 6.890625 \nQ 36.078125 6.890625 40.9375 10.546875 \nQ 45.796875 14.203125 45.796875 21.1875 \nQ 45.796875 27.640625 41.28125 31.265625 \nQ 36.765625 34.90625 28.71875 34.90625 \nL 20.21875 34.90625 \nL 20.21875 43.015625 \nL 29.109375 43.015625 \nQ 36.375 43.015625 40.234375 45.921875 \nQ 44.09375 48.828125 44.09375 54.296875 \nQ 44.09375 59.90625 40.109375 62.90625 \nQ 36.140625 65.921875 28.71875 65.921875 \nQ 24.65625 65.921875 20.015625 65.03125 \nQ 15.375 64.15625 9.8125 62.3125 \nL 9.8125 71.09375 \nQ 15.4375 72.65625 20.34375 73.4375 \nQ 25.25 74.21875 29.59375 74.21875 \nQ 40.828125 74.21875 47.359375 69.109375 \nQ 53.90625 64.015625 53.90625 55.328125 \nQ 53.90625 49.265625 50.4375 45.09375 \nQ 46.96875 40.921875 40.578125 39.3125 \nz\n\" id=\"DejaVuSans-51\"/>\n       <path d=\"M 10.984375 1.515625 \nL 10.984375 10.5 \nQ 14.703125 8.734375 18.5 7.8125 \nQ 22.3125 6.890625 25.984375 6.890625 \nQ 35.75 6.890625 40.890625 13.453125 \nQ 46.046875 20.015625 46.78125 33.40625 \nQ 43.953125 29.203125 39.59375 26.953125 \nQ 35.25 24.703125 29.984375 24.703125 \nQ 19.046875 24.703125 12.671875 31.3125 \nQ 6.296875 37.9375 6.296875 49.421875 \nQ 6.296875 60.640625 12.9375 67.421875 \nQ 19.578125 74.21875 30.609375 74.21875 \nQ 43.265625 74.21875 49.921875 64.515625 \nQ 56.59375 54.828125 56.59375 36.375 \nQ 56.59375 19.140625 48.40625 8.859375 \nQ 40.234375 -1.421875 26.421875 -1.421875 \nQ 22.703125 -1.421875 18.890625 -0.6875 \nQ 15.09375 0.046875 10.984375 1.515625 \nz\nM 30.609375 32.421875 \nQ 37.25 32.421875 41.125 36.953125 \nQ 45.015625 41.5 45.015625 49.421875 \nQ 45.015625 57.28125 41.125 61.84375 \nQ 37.25 66.40625 30.609375 66.40625 \nQ 23.96875 66.40625 20.09375 61.84375 \nQ 16.21875 57.28125 16.21875 49.421875 \nQ 16.21875 41.5 20.09375 36.953125 \nQ 23.96875 32.421875 30.609375 32.421875 \nz\n\" id=\"DejaVuSans-57\"/>\n      </defs>\n      <g transform=\"translate(59.505313 691.181875)rotate(-90)scale(0.05 -0.05)\">\n       <use xlink:href=\"#DejaVuSans-49\"/>\n       <use x=\"63.623047\" xlink:href=\"#DejaVuSans-51\"/>\n       <use x=\"127.246094\" xlink:href=\"#DejaVuSans-57\"/>\n      </g>\n     </g>\n    </g>\n    <g id=\"xtick_4\">\n     <g id=\"text_4\">\n      <!-- 105 -->\n      <defs>\n       <path d=\"M 31.78125 66.40625 \nQ 24.171875 66.40625 20.328125 58.90625 \nQ 16.5 51.421875 16.5 36.375 \nQ 16.5 21.390625 20.328125 13.890625 \nQ 24.171875 6.390625 31.78125 6.390625 \nQ 39.453125 6.390625 43.28125 13.890625 \nQ 47.125 21.390625 47.125 36.375 \nQ 47.125 51.421875 43.28125 58.90625 \nQ 39.453125 66.40625 31.78125 66.40625 \nz\nM 31.78125 74.21875 \nQ 44.046875 74.21875 50.515625 64.515625 \nQ 56.984375 54.828125 56.984375 36.375 \nQ 56.984375 17.96875 50.515625 8.265625 \nQ 44.046875 -1.421875 31.78125 -1.421875 \nQ 19.53125 -1.421875 13.0625 8.265625 \nQ 6.59375 17.96875 6.59375 36.375 \nQ 6.59375 54.828125 13.0625 64.515625 \nQ 19.53125 74.21875 31.78125 74.21875 \nz\n\" id=\"DejaVuSans-48\"/>\n       <path d=\"M 10.796875 72.90625 \nL 49.515625 72.90625 \nL 49.515625 64.59375 \nL 19.828125 64.59375 \nL 19.828125 46.734375 \nQ 21.96875 47.46875 24.109375 47.828125 \nQ 26.265625 48.1875 28.421875 48.1875 \nQ 40.625 48.1875 47.75 41.5 \nQ 54.890625 34.8125 54.890625 23.390625 \nQ 54.890625 11.625 47.5625 5.09375 \nQ 40.234375 -1.421875 26.90625 -1.421875 \nQ 22.3125 -1.421875 17.546875 -0.640625 \nQ 12.796875 0.140625 7.71875 1.703125 \nL 7.71875 11.625 \nQ 12.109375 9.234375 16.796875 8.0625 \nQ 21.484375 6.890625 26.703125 6.890625 \nQ 35.15625 6.890625 40.078125 11.328125 \nQ 45.015625 15.765625 45.015625 23.390625 \nQ 45.015625 31 40.078125 35.4375 \nQ 35.15625 39.890625 26.703125 39.890625 \nQ 22.75 39.890625 18.8125 39.015625 \nQ 14.890625 38.140625 10.796875 36.28125 \nz\n\" id=\"DejaVuSans-53\"/>\n      </defs>\n      <g transform=\"translate(63.969313 691.181875)rotate(-90)scale(0.05 -0.05)\">\n       <use xlink:href=\"#DejaVuSans-49\"/>\n       <use x=\"63.623047\" xlink:href=\"#DejaVuSans-48\"/>\n       <use x=\"127.246094\" xlink:href=\"#DejaVuSans-53\"/>\n      </g>\n     </g>\n    </g>\n    <g id=\"xtick_5\">\n     <g id=\"text_5\">\n      <!-- 137 -->\n      <defs>\n       <path d=\"M 8.203125 72.90625 \nL 55.078125 72.90625 \nL 55.078125 68.703125 \nL 28.609375 0 \nL 18.3125 0 \nL 43.21875 64.59375 \nL 8.203125 64.59375 \nz\n\" id=\"DejaVuSans-55\"/>\n      </defs>\n      <g transform=\"translate(68.433313 691.181875)rotate(-90)scale(0.05 -0.05)\">\n       <use xlink:href=\"#DejaVuSans-49\"/>\n       <use x=\"63.623047\" xlink:href=\"#DejaVuSans-51\"/>\n       <use x=\"127.246094\" xlink:href=\"#DejaVuSans-55\"/>\n      </g>\n     </g>\n    </g>\n    <g id=\"xtick_6\">\n     <g id=\"text_6\">\n      <!-- 130 -->\n      <g transform=\"translate(72.897313 691.181875)rotate(-90)scale(0.05 -0.05)\">\n       <use xlink:href=\"#DejaVuSans-49\"/>\n       <use x=\"63.623047\" xlink:href=\"#DejaVuSans-51\"/>\n       <use x=\"127.246094\" xlink:href=\"#DejaVuSans-48\"/>\n      </g>\n     </g>\n    </g>\n    <g id=\"xtick_7\">\n     <g id=\"text_7\">\n      <!-- 149 -->\n      <g transform=\"translate(77.361313 691.181875)rotate(-90)scale(0.05 -0.05)\">\n       <use xlink:href=\"#DejaVuSans-49\"/>\n       <use x=\"63.623047\" xlink:href=\"#DejaVuSans-52\"/>\n       <use x=\"127.246094\" xlink:href=\"#DejaVuSans-57\"/>\n      </g>\n     </g>\n    </g>\n    <g id=\"xtick_8\">\n     <g id=\"text_8\">\n      <!-- 148 -->\n      <g transform=\"translate(81.825313 691.181875)rotate(-90)scale(0.05 -0.05)\">\n       <use xlink:href=\"#DejaVuSans-49\"/>\n       <use x=\"63.623047\" xlink:href=\"#DejaVuSans-52\"/>\n       <use x=\"127.246094\" xlink:href=\"#DejaVuSans-56\"/>\n      </g>\n     </g>\n    </g>\n    <g id=\"xtick_9\">\n     <g id=\"text_9\">\n      <!-- 102 -->\n      <g transform=\"translate(86.289313 691.181875)rotate(-90)scale(0.05 -0.05)\">\n       <use xlink:href=\"#DejaVuSans-49\"/>\n       <use x=\"63.623047\" xlink:href=\"#DejaVuSans-48\"/>\n       <use x=\"127.246094\" xlink:href=\"#DejaVuSans-50\"/>\n      </g>\n     </g>\n    </g>\n    <g id=\"xtick_10\">\n     <g id=\"text_10\">\n      <!-- 147 -->\n      <g transform=\"translate(90.753313 691.181875)rotate(-90)scale(0.05 -0.05)\">\n       <use xlink:href=\"#DejaVuSans-49\"/>\n       <use x=\"63.623047\" xlink:href=\"#DejaVuSans-52\"/>\n       <use x=\"127.246094\" xlink:href=\"#DejaVuSans-55\"/>\n      </g>\n     </g>\n    </g>\n    <g id=\"xtick_11\">\n     <g id=\"text_11\">\n      <!-- 121 -->\n      <g transform=\"translate(95.217313 691.181875)rotate(-90)scale(0.05 -0.05)\">\n       <use xlink:href=\"#DejaVuSans-49\"/>\n       <use x=\"63.623047\" xlink:href=\"#DejaVuSans-50\"/>\n       <use x=\"127.246094\" xlink:href=\"#DejaVuSans-49\"/>\n      </g>\n     </g>\n    </g>\n    <g id=\"xtick_12\">\n     <g id=\"text_12\">\n      <!-- 144 -->\n      <g transform=\"translate(99.681313 691.181875)rotate(-90)scale(0.05 -0.05)\">\n       <use xlink:href=\"#DejaVuSans-49\"/>\n       <use x=\"63.623047\" xlink:href=\"#DejaVuSans-52\"/>\n       <use x=\"127.246094\" xlink:href=\"#DejaVuSans-52\"/>\n      </g>\n     </g>\n    </g>\n    <g id=\"xtick_13\">\n     <g id=\"text_13\">\n      <!-- 108 -->\n      <g transform=\"translate(104.145313 691.181875)rotate(-90)scale(0.05 -0.05)\">\n       <use xlink:href=\"#DejaVuSans-49\"/>\n       <use x=\"63.623047\" xlink:href=\"#DejaVuSans-48\"/>\n       <use x=\"127.246094\" xlink:href=\"#DejaVuSans-56\"/>\n      </g>\n     </g>\n    </g>\n    <g id=\"xtick_14\">\n     <g id=\"text_14\">\n      <!-- 131 -->\n      <g transform=\"translate(108.609313 691.181875)rotate(-90)scale(0.05 -0.05)\">\n       <use xlink:href=\"#DejaVuSans-49\"/>\n       <use x=\"63.623047\" xlink:href=\"#DejaVuSans-51\"/>\n       <use x=\"127.246094\" xlink:href=\"#DejaVuSans-49\"/>\n      </g>\n     </g>\n    </g>\n    <g id=\"xtick_15\">\n     <g id=\"text_15\">\n      <!-- 106 -->\n      <defs>\n       <path d=\"M 33.015625 40.375 \nQ 26.375 40.375 22.484375 35.828125 \nQ 18.609375 31.296875 18.609375 23.390625 \nQ 18.609375 15.53125 22.484375 10.953125 \nQ 26.375 6.390625 33.015625 6.390625 \nQ 39.65625 6.390625 43.53125 10.953125 \nQ 47.40625 15.53125 47.40625 23.390625 \nQ 47.40625 31.296875 43.53125 35.828125 \nQ 39.65625 40.375 33.015625 40.375 \nz\nM 52.59375 71.296875 \nL 52.59375 62.3125 \nQ 48.875 64.0625 45.09375 64.984375 \nQ 41.3125 65.921875 37.59375 65.921875 \nQ 27.828125 65.921875 22.671875 59.328125 \nQ 17.53125 52.734375 16.796875 39.40625 \nQ 19.671875 43.65625 24.015625 45.921875 \nQ 28.375 48.1875 33.59375 48.1875 \nQ 44.578125 48.1875 50.953125 41.515625 \nQ 57.328125 34.859375 57.328125 23.390625 \nQ 57.328125 12.15625 50.6875 5.359375 \nQ 44.046875 -1.421875 33.015625 -1.421875 \nQ 20.359375 -1.421875 13.671875 8.265625 \nQ 6.984375 17.96875 6.984375 36.375 \nQ 6.984375 53.65625 15.1875 63.9375 \nQ 23.390625 74.21875 37.203125 74.21875 \nQ 40.921875 74.21875 44.703125 73.484375 \nQ 48.484375 72.75 52.59375 71.296875 \nz\n\" id=\"DejaVuSans-54\"/>\n      </defs>\n      <g transform=\"translate(113.073313 691.181875)rotate(-90)scale(0.05 -0.05)\">\n       <use xlink:href=\"#DejaVuSans-49\"/>\n       <use x=\"63.623047\" xlink:href=\"#DejaVuSans-48\"/>\n       <use x=\"127.246094\" xlink:href=\"#DejaVuSans-54\"/>\n      </g>\n     </g>\n    </g>\n    <g id=\"xtick_16\">\n     <g id=\"text_16\">\n      <!-- 142 -->\n      <g transform=\"translate(117.537313 691.181875)rotate(-90)scale(0.05 -0.05)\">\n       <use xlink:href=\"#DejaVuSans-49\"/>\n       <use x=\"63.623047\" xlink:href=\"#DejaVuSans-52\"/>\n       <use x=\"127.246094\" xlink:href=\"#DejaVuSans-50\"/>\n      </g>\n     </g>\n    </g>\n    <g id=\"xtick_17\">\n     <g id=\"text_17\">\n      <!-- 112 -->\n      <g transform=\"translate(122.001313 691.181875)rotate(-90)scale(0.05 -0.05)\">\n       <use xlink:href=\"#DejaVuSans-49\"/>\n       <use x=\"63.623047\" xlink:href=\"#DejaVuSans-49\"/>\n       <use x=\"127.246094\" xlink:href=\"#DejaVuSans-50\"/>\n      </g>\n     </g>\n    </g>\n    <g id=\"xtick_18\">\n     <g id=\"text_18\">\n      <!-- 132 -->\n      <g transform=\"translate(126.465313 691.181875)rotate(-90)scale(0.05 -0.05)\">\n       <use xlink:href=\"#DejaVuSans-49\"/>\n       <use x=\"63.623047\" xlink:href=\"#DejaVuSans-51\"/>\n       <use x=\"127.246094\" xlink:href=\"#DejaVuSans-50\"/>\n      </g>\n     </g>\n    </g>\n    <g id=\"xtick_19\">\n     <g id=\"text_19\">\n      <!-- 127 -->\n      <g transform=\"translate(130.929313 691.181875)rotate(-90)scale(0.05 -0.05)\">\n       <use xlink:href=\"#DejaVuSans-49\"/>\n       <use x=\"63.623047\" xlink:href=\"#DejaVuSans-50\"/>\n       <use x=\"127.246094\" xlink:href=\"#DejaVuSans-55\"/>\n      </g>\n     </g>\n    </g>\n    <g id=\"xtick_20\">\n     <g id=\"text_20\">\n      <!-- 120 -->\n      <g transform=\"translate(135.393313 691.181875)rotate(-90)scale(0.05 -0.05)\">\n       <use xlink:href=\"#DejaVuSans-49\"/>\n       <use x=\"63.623047\" xlink:href=\"#DejaVuSans-50\"/>\n       <use x=\"127.246094\" xlink:href=\"#DejaVuSans-48\"/>\n      </g>\n     </g>\n    </g>\n    <g id=\"xtick_21\">\n     <g id=\"text_21\">\n      <!-- 104 -->\n      <g transform=\"translate(139.857313 691.181875)rotate(-90)scale(0.05 -0.05)\">\n       <use xlink:href=\"#DejaVuSans-49\"/>\n       <use x=\"63.623047\" xlink:href=\"#DejaVuSans-48\"/>\n       <use x=\"127.246094\" xlink:href=\"#DejaVuSans-52\"/>\n      </g>\n     </g>\n    </g>\n    <g id=\"xtick_22\">\n     <g id=\"text_22\">\n      <!-- 118 -->\n      <g transform=\"translate(144.321313 691.181875)rotate(-90)scale(0.05 -0.05)\">\n       <use xlink:href=\"#DejaVuSans-49\"/>\n       <use x=\"63.623047\" xlink:href=\"#DejaVuSans-49\"/>\n       <use x=\"127.246094\" xlink:href=\"#DejaVuSans-56\"/>\n      </g>\n     </g>\n    </g>\n    <g id=\"xtick_23\">\n     <g id=\"text_23\">\n      <!-- 133 -->\n      <g transform=\"translate(148.785313 691.181875)rotate(-90)scale(0.05 -0.05)\">\n       <use xlink:href=\"#DejaVuSans-49\"/>\n       <use x=\"63.623047\" xlink:href=\"#DejaVuSans-51\"/>\n       <use x=\"127.246094\" xlink:href=\"#DejaVuSans-51\"/>\n      </g>\n     </g>\n    </g>\n    <g id=\"xtick_24\">\n     <g id=\"text_24\">\n      <!-- 100 -->\n      <g transform=\"translate(153.249313 691.181875)rotate(-90)scale(0.05 -0.05)\">\n       <use xlink:href=\"#DejaVuSans-49\"/>\n       <use x=\"63.623047\" xlink:href=\"#DejaVuSans-48\"/>\n       <use x=\"127.246094\" xlink:href=\"#DejaVuSans-48\"/>\n      </g>\n     </g>\n    </g>\n    <g id=\"xtick_25\">\n     <g id=\"text_25\">\n      <!-- 107 -->\n      <g transform=\"translate(157.713313 691.181875)rotate(-90)scale(0.05 -0.05)\">\n       <use xlink:href=\"#DejaVuSans-49\"/>\n       <use x=\"63.623047\" xlink:href=\"#DejaVuSans-48\"/>\n       <use x=\"127.246094\" xlink:href=\"#DejaVuSans-55\"/>\n      </g>\n     </g>\n    </g>\n    <g id=\"xtick_26\">\n     <g id=\"text_26\">\n      <!-- 115 -->\n      <g transform=\"translate(162.177313 691.181875)rotate(-90)scale(0.05 -0.05)\">\n       <use xlink:href=\"#DejaVuSans-49\"/>\n       <use x=\"63.623047\" xlink:href=\"#DejaVuSans-49\"/>\n       <use x=\"127.246094\" xlink:href=\"#DejaVuSans-53\"/>\n      </g>\n     </g>\n    </g>\n    <g id=\"xtick_27\">\n     <g id=\"text_27\">\n      <!-- 135 -->\n      <g transform=\"translate(166.641313 691.181875)rotate(-90)scale(0.05 -0.05)\">\n       <use xlink:href=\"#DejaVuSans-49\"/>\n       <use x=\"63.623047\" xlink:href=\"#DejaVuSans-51\"/>\n       <use x=\"127.246094\" xlink:href=\"#DejaVuSans-53\"/>\n      </g>\n     </g>\n    </g>\n    <g id=\"xtick_28\">\n     <g id=\"text_28\">\n      <!-- 124 -->\n      <g transform=\"translate(171.105313 691.181875)rotate(-90)scale(0.05 -0.05)\">\n       <use xlink:href=\"#DejaVuSans-49\"/>\n       <use x=\"63.623047\" xlink:href=\"#DejaVuSans-50\"/>\n       <use x=\"127.246094\" xlink:href=\"#DejaVuSans-52\"/>\n      </g>\n     </g>\n    </g>\n    <g id=\"xtick_29\">\n     <g id=\"text_29\">\n      <!-- 143 -->\n      <g transform=\"translate(175.569313 691.181875)rotate(-90)scale(0.05 -0.05)\">\n       <use xlink:href=\"#DejaVuSans-49\"/>\n       <use x=\"63.623047\" xlink:href=\"#DejaVuSans-52\"/>\n       <use x=\"127.246094\" xlink:href=\"#DejaVuSans-51\"/>\n      </g>\n     </g>\n    </g>\n    <g id=\"xtick_30\">\n     <g id=\"text_30\">\n      <!-- 101 -->\n      <g transform=\"translate(180.033313 691.181875)rotate(-90)scale(0.05 -0.05)\">\n       <use xlink:href=\"#DejaVuSans-49\"/>\n       <use x=\"63.623047\" xlink:href=\"#DejaVuSans-48\"/>\n       <use x=\"127.246094\" xlink:href=\"#DejaVuSans-49\"/>\n      </g>\n     </g>\n    </g>\n    <g id=\"xtick_31\">\n     <g id=\"text_31\">\n      <!-- 134 -->\n      <g transform=\"translate(184.497313 691.181875)rotate(-90)scale(0.05 -0.05)\">\n       <use xlink:href=\"#DejaVuSans-49\"/>\n       <use x=\"63.623047\" xlink:href=\"#DejaVuSans-51\"/>\n       <use x=\"127.246094\" xlink:href=\"#DejaVuSans-52\"/>\n      </g>\n     </g>\n    </g>\n    <g id=\"xtick_32\">\n     <g id=\"text_32\">\n      <!-- 138 -->\n      <g transform=\"translate(188.961313 691.181875)rotate(-90)scale(0.05 -0.05)\">\n       <use xlink:href=\"#DejaVuSans-49\"/>\n       <use x=\"63.623047\" xlink:href=\"#DejaVuSans-51\"/>\n       <use x=\"127.246094\" xlink:href=\"#DejaVuSans-56\"/>\n      </g>\n     </g>\n    </g>\n    <g id=\"xtick_33\">\n     <g id=\"text_33\">\n      <!-- 110 -->\n      <g transform=\"translate(193.425313 691.181875)rotate(-90)scale(0.05 -0.05)\">\n       <use xlink:href=\"#DejaVuSans-49\"/>\n       <use x=\"63.623047\" xlink:href=\"#DejaVuSans-49\"/>\n       <use x=\"127.246094\" xlink:href=\"#DejaVuSans-48\"/>\n      </g>\n     </g>\n    </g>\n    <g id=\"xtick_34\">\n     <g id=\"text_34\">\n      <!-- 123 -->\n      <g transform=\"translate(197.889313 691.181875)rotate(-90)scale(0.05 -0.05)\">\n       <use xlink:href=\"#DejaVuSans-49\"/>\n       <use x=\"63.623047\" xlink:href=\"#DejaVuSans-50\"/>\n       <use x=\"127.246094\" xlink:href=\"#DejaVuSans-51\"/>\n      </g>\n     </g>\n    </g>\n    <g id=\"xtick_35\">\n     <g id=\"text_35\">\n      <!-- 145 -->\n      <g transform=\"translate(202.353313 691.181875)rotate(-90)scale(0.05 -0.05)\">\n       <use xlink:href=\"#DejaVuSans-49\"/>\n       <use x=\"63.623047\" xlink:href=\"#DejaVuSans-52\"/>\n       <use x=\"127.246094\" xlink:href=\"#DejaVuSans-53\"/>\n      </g>\n     </g>\n    </g>\n    <g id=\"xtick_36\">\n     <g id=\"text_36\">\n      <!-- 111 -->\n      <g transform=\"translate(206.817313 691.181875)rotate(-90)scale(0.05 -0.05)\">\n       <use xlink:href=\"#DejaVuSans-49\"/>\n       <use x=\"63.623047\" xlink:href=\"#DejaVuSans-49\"/>\n       <use x=\"127.246094\" xlink:href=\"#DejaVuSans-49\"/>\n      </g>\n     </g>\n    </g>\n    <g id=\"xtick_37\">\n     <g id=\"text_37\">\n      <!-- 126 -->\n      <g transform=\"translate(211.281313 691.181875)rotate(-90)scale(0.05 -0.05)\">\n       <use xlink:href=\"#DejaVuSans-49\"/>\n       <use x=\"63.623047\" xlink:href=\"#DejaVuSans-50\"/>\n       <use x=\"127.246094\" xlink:href=\"#DejaVuSans-54\"/>\n      </g>\n     </g>\n    </g>\n    <g id=\"xtick_38\">\n     <g id=\"text_38\">\n      <!-- 117 -->\n      <g transform=\"translate(215.745313 691.181875)rotate(-90)scale(0.05 -0.05)\">\n       <use xlink:href=\"#DejaVuSans-49\"/>\n       <use x=\"63.623047\" xlink:href=\"#DejaVuSans-49\"/>\n       <use x=\"127.246094\" xlink:href=\"#DejaVuSans-55\"/>\n      </g>\n     </g>\n    </g>\n    <g id=\"xtick_39\">\n     <g id=\"text_39\">\n      <!-- 116 -->\n      <g transform=\"translate(220.209313 691.181875)rotate(-90)scale(0.05 -0.05)\">\n       <use xlink:href=\"#DejaVuSans-49\"/>\n       <use x=\"63.623047\" xlink:href=\"#DejaVuSans-49\"/>\n       <use x=\"127.246094\" xlink:href=\"#DejaVuSans-54\"/>\n      </g>\n     </g>\n    </g>\n    <g id=\"xtick_40\">\n     <g id=\"text_40\">\n      <!-- 136 -->\n      <g transform=\"translate(224.673313 691.181875)rotate(-90)scale(0.05 -0.05)\">\n       <use xlink:href=\"#DejaVuSans-49\"/>\n       <use x=\"63.623047\" xlink:href=\"#DejaVuSans-51\"/>\n       <use x=\"127.246094\" xlink:href=\"#DejaVuSans-54\"/>\n      </g>\n     </g>\n    </g>\n    <g id=\"xtick_41\">\n     <g id=\"text_41\">\n      <!-- 125 -->\n      <g transform=\"translate(229.137313 691.181875)rotate(-90)scale(0.05 -0.05)\">\n       <use xlink:href=\"#DejaVuSans-49\"/>\n       <use x=\"63.623047\" xlink:href=\"#DejaVuSans-50\"/>\n       <use x=\"127.246094\" xlink:href=\"#DejaVuSans-53\"/>\n      </g>\n     </g>\n    </g>\n    <g id=\"xtick_42\">\n     <g id=\"text_42\">\n      <!-- 140 -->\n      <g transform=\"translate(233.601313 691.181875)rotate(-90)scale(0.05 -0.05)\">\n       <use xlink:href=\"#DejaVuSans-49\"/>\n       <use x=\"63.623047\" xlink:href=\"#DejaVuSans-52\"/>\n       <use x=\"127.246094\" xlink:href=\"#DejaVuSans-48\"/>\n      </g>\n     </g>\n    </g>\n    <g id=\"xtick_43\">\n     <g id=\"text_43\">\n      <!-- 103 -->\n      <g transform=\"translate(238.065313 691.181875)rotate(-90)scale(0.05 -0.05)\">\n       <use xlink:href=\"#DejaVuSans-49\"/>\n       <use x=\"63.623047\" xlink:href=\"#DejaVuSans-48\"/>\n       <use x=\"127.246094\" xlink:href=\"#DejaVuSans-51\"/>\n      </g>\n     </g>\n    </g>\n    <g id=\"xtick_44\">\n     <g id=\"text_44\">\n      <!-- 122 -->\n      <g transform=\"translate(242.529313 691.181875)rotate(-90)scale(0.05 -0.05)\">\n       <use xlink:href=\"#DejaVuSans-49\"/>\n       <use x=\"63.623047\" xlink:href=\"#DejaVuSans-50\"/>\n       <use x=\"127.246094\" xlink:href=\"#DejaVuSans-50\"/>\n      </g>\n     </g>\n    </g>\n    <g id=\"xtick_45\">\n     <g id=\"text_45\">\n      <!-- 146 -->\n      <g transform=\"translate(246.993313 691.181875)rotate(-90)scale(0.05 -0.05)\">\n       <use xlink:href=\"#DejaVuSans-49\"/>\n       <use x=\"63.623047\" xlink:href=\"#DejaVuSans-52\"/>\n       <use x=\"127.246094\" xlink:href=\"#DejaVuSans-54\"/>\n      </g>\n     </g>\n    </g>\n    <g id=\"xtick_46\">\n     <g id=\"text_46\">\n      <!-- 119 -->\n      <g transform=\"translate(251.457313 691.181875)rotate(-90)scale(0.05 -0.05)\">\n       <use xlink:href=\"#DejaVuSans-49\"/>\n       <use x=\"63.623047\" xlink:href=\"#DejaVuSans-49\"/>\n       <use x=\"127.246094\" xlink:href=\"#DejaVuSans-57\"/>\n      </g>\n     </g>\n    </g>\n    <g id=\"xtick_47\">\n     <g id=\"text_47\">\n      <!-- 109 -->\n      <g transform=\"translate(255.921313 691.181875)rotate(-90)scale(0.05 -0.05)\">\n       <use xlink:href=\"#DejaVuSans-49\"/>\n       <use x=\"63.623047\" xlink:href=\"#DejaVuSans-48\"/>\n       <use x=\"127.246094\" xlink:href=\"#DejaVuSans-57\"/>\n      </g>\n     </g>\n    </g>\n    <g id=\"xtick_48\">\n     <g id=\"text_48\">\n      <!-- 113 -->\n      <g transform=\"translate(260.385312 691.181875)rotate(-90)scale(0.05 -0.05)\">\n       <use xlink:href=\"#DejaVuSans-49\"/>\n       <use x=\"63.623047\" xlink:href=\"#DejaVuSans-49\"/>\n       <use x=\"127.246094\" xlink:href=\"#DejaVuSans-51\"/>\n      </g>\n     </g>\n    </g>\n    <g id=\"xtick_49\">\n     <g id=\"text_49\">\n      <!-- 129 -->\n      <g transform=\"translate(264.849313 691.181875)rotate(-90)scale(0.05 -0.05)\">\n       <use xlink:href=\"#DejaVuSans-49\"/>\n       <use x=\"63.623047\" xlink:href=\"#DejaVuSans-50\"/>\n       <use x=\"127.246094\" xlink:href=\"#DejaVuSans-57\"/>\n      </g>\n     </g>\n    </g>\n    <g id=\"xtick_50\">\n     <g id=\"text_50\">\n      <!-- 141 -->\n      <g transform=\"translate(269.313312 691.181875)rotate(-90)scale(0.05 -0.05)\">\n       <use xlink:href=\"#DejaVuSans-49\"/>\n       <use x=\"63.623047\" xlink:href=\"#DejaVuSans-52\"/>\n       <use x=\"127.246094\" xlink:href=\"#DejaVuSans-49\"/>\n      </g>\n     </g>\n    </g>\n    <g id=\"xtick_51\">\n     <g id=\"text_51\">\n      <!-- 65 -->\n      <g transform=\"translate(273.777313 688.000625)rotate(-90)scale(0.05 -0.05)\">\n       <use xlink:href=\"#DejaVuSans-54\"/>\n       <use x=\"63.623047\" xlink:href=\"#DejaVuSans-53\"/>\n      </g>\n     </g>\n    </g>\n    <g id=\"xtick_52\">\n     <g id=\"text_52\">\n      <!-- 74 -->\n      <g transform=\"translate(278.241312 688.000625)rotate(-90)scale(0.05 -0.05)\">\n       <use xlink:href=\"#DejaVuSans-55\"/>\n       <use x=\"63.623047\" xlink:href=\"#DejaVuSans-52\"/>\n      </g>\n     </g>\n    </g>\n    <g id=\"xtick_53\">\n     <g id=\"text_53\">\n      <!-- 16 -->\n      <g transform=\"translate(282.705313 688.000625)rotate(-90)scale(0.05 -0.05)\">\n       <use xlink:href=\"#DejaVuSans-49\"/>\n       <use x=\"63.623047\" xlink:href=\"#DejaVuSans-54\"/>\n      </g>\n     </g>\n    </g>\n    <g id=\"xtick_54\">\n     <g id=\"text_54\">\n      <!-- 77 -->\n      <g transform=\"translate(287.169312 688.000625)rotate(-90)scale(0.05 -0.05)\">\n       <use xlink:href=\"#DejaVuSans-55\"/>\n       <use x=\"63.623047\" xlink:href=\"#DejaVuSans-55\"/>\n      </g>\n     </g>\n    </g>\n    <g id=\"xtick_55\">\n     <g id=\"text_55\">\n      <!-- 9 -->\n      <g transform=\"translate(291.633313 684.819375)rotate(-90)scale(0.05 -0.05)\">\n       <use xlink:href=\"#DejaVuSans-57\"/>\n      </g>\n     </g>\n    </g>\n    <g id=\"xtick_56\">\n     <g id=\"text_56\">\n      <!-- 66 -->\n      <g transform=\"translate(296.097312 688.000625)rotate(-90)scale(0.05 -0.05)\">\n       <use xlink:href=\"#DejaVuSans-54\"/>\n       <use x=\"63.623047\" xlink:href=\"#DejaVuSans-54\"/>\n      </g>\n     </g>\n    </g>\n    <g id=\"xtick_57\">\n     <g id=\"text_57\">\n      <!-- 2 -->\n      <g transform=\"translate(300.561313 684.819375)rotate(-90)scale(0.05 -0.05)\">\n       <use xlink:href=\"#DejaVuSans-50\"/>\n      </g>\n     </g>\n    </g>\n    <g id=\"xtick_58\">\n     <g id=\"text_58\">\n      <!-- 93 -->\n      <g transform=\"translate(305.025312 688.000625)rotate(-90)scale(0.05 -0.05)\">\n       <use xlink:href=\"#DejaVuSans-57\"/>\n       <use x=\"63.623047\" xlink:href=\"#DejaVuSans-51\"/>\n      </g>\n     </g>\n    </g>\n    <g id=\"xtick_59\">\n     <g id=\"text_59\">\n      <!-- 37 -->\n      <g transform=\"translate(309.489313 688.000625)rotate(-90)scale(0.05 -0.05)\">\n       <use xlink:href=\"#DejaVuSans-51\"/>\n       <use x=\"63.623047\" xlink:href=\"#DejaVuSans-55\"/>\n      </g>\n     </g>\n    </g>\n    <g id=\"xtick_60\">\n     <g id=\"text_60\">\n      <!-- 57 -->\n      <g transform=\"translate(313.953312 688.000625)rotate(-90)scale(0.05 -0.05)\">\n       <use xlink:href=\"#DejaVuSans-53\"/>\n       <use x=\"63.623047\" xlink:href=\"#DejaVuSans-55\"/>\n      </g>\n     </g>\n    </g>\n    <g id=\"xtick_61\">\n     <g id=\"text_61\">\n      <!-- 40 -->\n      <g transform=\"translate(318.417313 688.000625)rotate(-90)scale(0.05 -0.05)\">\n       <use xlink:href=\"#DejaVuSans-52\"/>\n       <use x=\"63.623047\" xlink:href=\"#DejaVuSans-48\"/>\n      </g>\n     </g>\n    </g>\n    <g id=\"xtick_62\">\n     <g id=\"text_62\">\n      <!-- 36 -->\n      <g transform=\"translate(322.881312 688.000625)rotate(-90)scale(0.05 -0.05)\">\n       <use xlink:href=\"#DejaVuSans-51\"/>\n       <use x=\"63.623047\" xlink:href=\"#DejaVuSans-54\"/>\n      </g>\n     </g>\n    </g>\n    <g id=\"xtick_63\">\n     <g id=\"text_63\">\n      <!-- 76 -->\n      <g transform=\"translate(327.345313 688.000625)rotate(-90)scale(0.05 -0.05)\">\n       <use xlink:href=\"#DejaVuSans-55\"/>\n       <use x=\"63.623047\" xlink:href=\"#DejaVuSans-54\"/>\n      </g>\n     </g>\n    </g>\n    <g id=\"xtick_64\">\n     <g id=\"text_64\">\n      <!-- 99 -->\n      <g transform=\"translate(331.809312 688.000625)rotate(-90)scale(0.05 -0.05)\">\n       <use xlink:href=\"#DejaVuSans-57\"/>\n       <use x=\"63.623047\" xlink:href=\"#DejaVuSans-57\"/>\n      </g>\n     </g>\n    </g>\n    <g id=\"xtick_65\">\n     <g id=\"text_65\">\n      <!-- 81 -->\n      <g transform=\"translate(336.273313 688.000625)rotate(-90)scale(0.05 -0.05)\">\n       <use xlink:href=\"#DejaVuSans-56\"/>\n       <use x=\"63.623047\" xlink:href=\"#DejaVuSans-49\"/>\n      </g>\n     </g>\n    </g>\n    <g id=\"xtick_66\">\n     <g id=\"text_66\">\n      <!-- 13 -->\n      <g transform=\"translate(340.737312 688.000625)rotate(-90)scale(0.05 -0.05)\">\n       <use xlink:href=\"#DejaVuSans-49\"/>\n       <use x=\"63.623047\" xlink:href=\"#DejaVuSans-51\"/>\n      </g>\n     </g>\n    </g>\n    <g id=\"xtick_67\">\n     <g id=\"text_67\">\n      <!-- 10 -->\n      <g transform=\"translate(345.201313 688.000625)rotate(-90)scale(0.05 -0.05)\">\n       <use xlink:href=\"#DejaVuSans-49\"/>\n       <use x=\"63.623047\" xlink:href=\"#DejaVuSans-48\"/>\n      </g>\n     </g>\n    </g>\n    <g id=\"xtick_68\">\n     <g id=\"text_68\">\n      <!-- 83 -->\n      <g transform=\"translate(349.665312 688.000625)rotate(-90)scale(0.05 -0.05)\">\n       <use xlink:href=\"#DejaVuSans-56\"/>\n       <use x=\"63.623047\" xlink:href=\"#DejaVuSans-51\"/>\n      </g>\n     </g>\n    </g>\n    <g id=\"xtick_69\">\n     <g id=\"text_69\">\n      <!-- 90 -->\n      <g transform=\"translate(354.129313 688.000625)rotate(-90)scale(0.05 -0.05)\">\n       <use xlink:href=\"#DejaVuSans-57\"/>\n       <use x=\"63.623047\" xlink:href=\"#DejaVuSans-48\"/>\n      </g>\n     </g>\n    </g>\n    <g id=\"xtick_70\">\n     <g id=\"text_70\">\n      <!-- 47 -->\n      <g transform=\"translate(358.593312 688.000625)rotate(-90)scale(0.05 -0.05)\">\n       <use xlink:href=\"#DejaVuSans-52\"/>\n       <use x=\"63.623047\" xlink:href=\"#DejaVuSans-55\"/>\n      </g>\n     </g>\n    </g>\n    <g id=\"xtick_71\">\n     <g id=\"text_71\">\n      <!-- 59 -->\n      <g transform=\"translate(363.057313 688.000625)rotate(-90)scale(0.05 -0.05)\">\n       <use xlink:href=\"#DejaVuSans-53\"/>\n       <use x=\"63.623047\" xlink:href=\"#DejaVuSans-57\"/>\n      </g>\n     </g>\n    </g>\n    <g id=\"xtick_72\">\n     <g id=\"text_72\">\n      <!-- 86 -->\n      <g transform=\"translate(367.521312 688.000625)rotate(-90)scale(0.05 -0.05)\">\n       <use xlink:href=\"#DejaVuSans-56\"/>\n       <use x=\"63.623047\" xlink:href=\"#DejaVuSans-54\"/>\n      </g>\n     </g>\n    </g>\n    <g id=\"xtick_73\">\n     <g id=\"text_73\">\n      <!-- 85 -->\n      <g transform=\"translate(371.985313 688.000625)rotate(-90)scale(0.05 -0.05)\">\n       <use xlink:href=\"#DejaVuSans-56\"/>\n       <use x=\"63.623047\" xlink:href=\"#DejaVuSans-53\"/>\n      </g>\n     </g>\n    </g>\n    <g id=\"xtick_74\">\n     <g id=\"text_74\">\n      <!-- 95 -->\n      <g transform=\"translate(376.449313 688.000625)rotate(-90)scale(0.05 -0.05)\">\n       <use xlink:href=\"#DejaVuSans-57\"/>\n       <use x=\"63.623047\" xlink:href=\"#DejaVuSans-53\"/>\n      </g>\n     </g>\n    </g>\n    <g id=\"xtick_75\">\n     <g id=\"text_75\">\n      <!-- 5 -->\n      <g transform=\"translate(380.913313 684.819375)rotate(-90)scale(0.05 -0.05)\">\n       <use xlink:href=\"#DejaVuSans-53\"/>\n      </g>\n     </g>\n    </g>\n    <g id=\"xtick_76\">\n     <g id=\"text_76\">\n      <!-- 91 -->\n      <g transform=\"translate(385.377313 688.000625)rotate(-90)scale(0.05 -0.05)\">\n       <use xlink:href=\"#DejaVuSans-57\"/>\n       <use x=\"63.623047\" xlink:href=\"#DejaVuSans-49\"/>\n      </g>\n     </g>\n    </g>\n    <g id=\"xtick_77\">\n     <g id=\"text_77\">\n      <!-- 30 -->\n      <g transform=\"translate(389.841313 688.000625)rotate(-90)scale(0.05 -0.05)\">\n       <use xlink:href=\"#DejaVuSans-51\"/>\n       <use x=\"63.623047\" xlink:href=\"#DejaVuSans-48\"/>\n      </g>\n     </g>\n    </g>\n    <g id=\"xtick_78\">\n     <g id=\"text_78\">\n      <!-- 6 -->\n      <g transform=\"translate(394.305313 684.819375)rotate(-90)scale(0.05 -0.05)\">\n       <use xlink:href=\"#DejaVuSans-54\"/>\n      </g>\n     </g>\n    </g>\n    <g id=\"xtick_79\">\n     <g id=\"text_79\">\n      <!-- 84 -->\n      <g transform=\"translate(398.769313 688.000625)rotate(-90)scale(0.05 -0.05)\">\n       <use xlink:href=\"#DejaVuSans-56\"/>\n       <use x=\"63.623047\" xlink:href=\"#DejaVuSans-52\"/>\n      </g>\n     </g>\n    </g>\n    <g id=\"xtick_80\">\n     <g id=\"text_80\">\n      <!-- 25 -->\n      <g transform=\"translate(403.233313 688.000625)rotate(-90)scale(0.05 -0.05)\">\n       <use xlink:href=\"#DejaVuSans-50\"/>\n       <use x=\"63.623047\" xlink:href=\"#DejaVuSans-53\"/>\n      </g>\n     </g>\n    </g>\n    <g id=\"xtick_81\">\n     <g id=\"text_81\">\n      <!-- 67 -->\n      <g transform=\"translate(407.697313 688.000625)rotate(-90)scale(0.05 -0.05)\">\n       <use xlink:href=\"#DejaVuSans-54\"/>\n       <use x=\"63.623047\" xlink:href=\"#DejaVuSans-55\"/>\n      </g>\n     </g>\n    </g>\n    <g id=\"xtick_82\">\n     <g id=\"text_82\">\n      <!-- 26 -->\n      <g transform=\"translate(412.161313 688.000625)rotate(-90)scale(0.05 -0.05)\">\n       <use xlink:href=\"#DejaVuSans-50\"/>\n       <use x=\"63.623047\" xlink:href=\"#DejaVuSans-54\"/>\n      </g>\n     </g>\n    </g>\n    <g id=\"xtick_83\">\n     <g id=\"text_83\">\n      <!-- 39 -->\n      <g transform=\"translate(416.625313 688.000625)rotate(-90)scale(0.05 -0.05)\">\n       <use xlink:href=\"#DejaVuSans-51\"/>\n       <use x=\"63.623047\" xlink:href=\"#DejaVuSans-57\"/>\n      </g>\n     </g>\n    </g>\n    <g id=\"xtick_84\">\n     <g id=\"text_84\">\n      <!-- 88 -->\n      <g transform=\"translate(421.089313 688.000625)rotate(-90)scale(0.05 -0.05)\">\n       <use xlink:href=\"#DejaVuSans-56\"/>\n       <use x=\"63.623047\" xlink:href=\"#DejaVuSans-56\"/>\n      </g>\n     </g>\n    </g>\n    <g id=\"xtick_85\">\n     <g id=\"text_85\">\n      <!-- 4 -->\n      <g transform=\"translate(425.553313 684.819375)rotate(-90)scale(0.05 -0.05)\">\n       <use xlink:href=\"#DejaVuSans-52\"/>\n      </g>\n     </g>\n    </g>\n    <g id=\"xtick_86\">\n     <g id=\"text_86\">\n      <!-- 27 -->\n      <g transform=\"translate(430.017313 688.000625)rotate(-90)scale(0.05 -0.05)\">\n       <use xlink:href=\"#DejaVuSans-50\"/>\n       <use x=\"63.623047\" xlink:href=\"#DejaVuSans-55\"/>\n      </g>\n     </g>\n    </g>\n    <g id=\"xtick_87\">\n     <g id=\"text_87\">\n      <!-- 60 -->\n      <g transform=\"translate(434.481313 688.000625)rotate(-90)scale(0.05 -0.05)\">\n       <use xlink:href=\"#DejaVuSans-54\"/>\n       <use x=\"63.623047\" xlink:href=\"#DejaVuSans-48\"/>\n      </g>\n     </g>\n    </g>\n    <g id=\"xtick_88\">\n     <g id=\"text_88\">\n      <!-- 7 -->\n      <g transform=\"translate(438.945313 684.819375)rotate(-90)scale(0.05 -0.05)\">\n       <use xlink:href=\"#DejaVuSans-55\"/>\n      </g>\n     </g>\n    </g>\n    <g id=\"xtick_89\">\n     <g id=\"text_89\">\n      <!-- 38 -->\n      <g transform=\"translate(443.409312 688.000625)rotate(-90)scale(0.05 -0.05)\">\n       <use xlink:href=\"#DejaVuSans-51\"/>\n       <use x=\"63.623047\" xlink:href=\"#DejaVuSans-56\"/>\n      </g>\n     </g>\n    </g>\n    <g id=\"xtick_90\">\n     <g id=\"text_90\">\n      <!-- 51 -->\n      <g transform=\"translate(447.873313 688.000625)rotate(-90)scale(0.05 -0.05)\">\n       <use xlink:href=\"#DejaVuSans-53\"/>\n       <use x=\"63.623047\" xlink:href=\"#DejaVuSans-49\"/>\n      </g>\n     </g>\n    </g>\n    <g id=\"xtick_91\">\n     <g id=\"text_91\">\n      <!-- 64 -->\n      <g transform=\"translate(452.337312 688.000625)rotate(-90)scale(0.05 -0.05)\">\n       <use xlink:href=\"#DejaVuSans-54\"/>\n       <use x=\"63.623047\" xlink:href=\"#DejaVuSans-52\"/>\n      </g>\n     </g>\n    </g>\n    <g id=\"xtick_92\">\n     <g id=\"text_92\">\n      <!-- 45 -->\n      <g transform=\"translate(456.801313 688.000625)rotate(-90)scale(0.05 -0.05)\">\n       <use xlink:href=\"#DejaVuSans-52\"/>\n       <use x=\"63.623047\" xlink:href=\"#DejaVuSans-53\"/>\n      </g>\n     </g>\n    </g>\n    <g id=\"xtick_93\">\n     <g id=\"text_93\">\n      <!-- 92 -->\n      <g transform=\"translate(461.265312 688.000625)rotate(-90)scale(0.05 -0.05)\">\n       <use xlink:href=\"#DejaVuSans-57\"/>\n       <use x=\"63.623047\" xlink:href=\"#DejaVuSans-50\"/>\n      </g>\n     </g>\n    </g>\n    <g id=\"xtick_94\">\n     <g id=\"text_94\">\n      <!-- 87 -->\n      <g transform=\"translate(465.729313 688.000625)rotate(-90)scale(0.05 -0.05)\">\n       <use xlink:href=\"#DejaVuSans-56\"/>\n       <use x=\"63.623047\" xlink:href=\"#DejaVuSans-55\"/>\n      </g>\n     </g>\n    </g>\n    <g id=\"xtick_95\">\n     <g id=\"text_95\">\n      <!-- 54 -->\n      <g transform=\"translate(470.193312 688.000625)rotate(-90)scale(0.05 -0.05)\">\n       <use xlink:href=\"#DejaVuSans-53\"/>\n       <use x=\"63.623047\" xlink:href=\"#DejaVuSans-52\"/>\n      </g>\n     </g>\n    </g>\n    <g id=\"xtick_96\">\n     <g id=\"text_96\">\n      <!-- 97 -->\n      <g transform=\"translate(474.657313 688.000625)rotate(-90)scale(0.05 -0.05)\">\n       <use xlink:href=\"#DejaVuSans-57\"/>\n       <use x=\"63.623047\" xlink:href=\"#DejaVuSans-55\"/>\n      </g>\n     </g>\n    </g>\n    <g id=\"xtick_97\">\n     <g id=\"text_97\">\n      <!-- 14 -->\n      <g transform=\"translate(479.121312 688.000625)rotate(-90)scale(0.05 -0.05)\">\n       <use xlink:href=\"#DejaVuSans-49\"/>\n       <use x=\"63.623047\" xlink:href=\"#DejaVuSans-52\"/>\n      </g>\n     </g>\n    </g>\n    <g id=\"xtick_98\">\n     <g id=\"text_98\">\n      <!-- 79 -->\n      <g transform=\"translate(483.585313 688.000625)rotate(-90)scale(0.05 -0.05)\">\n       <use xlink:href=\"#DejaVuSans-55\"/>\n       <use x=\"63.623047\" xlink:href=\"#DejaVuSans-57\"/>\n      </g>\n     </g>\n    </g>\n    <g id=\"xtick_99\">\n     <g id=\"text_99\">\n      <!-- 28 -->\n      <g transform=\"translate(488.049312 688.000625)rotate(-90)scale(0.05 -0.05)\">\n       <use xlink:href=\"#DejaVuSans-50\"/>\n       <use x=\"63.623047\" xlink:href=\"#DejaVuSans-56\"/>\n      </g>\n     </g>\n    </g>\n    <g id=\"xtick_100\">\n     <g id=\"text_100\">\n      <!-- 35 -->\n      <g transform=\"translate(492.513313 688.000625)rotate(-90)scale(0.05 -0.05)\">\n       <use xlink:href=\"#DejaVuSans-51\"/>\n       <use x=\"63.623047\" xlink:href=\"#DejaVuSans-53\"/>\n      </g>\n     </g>\n    </g>\n    <g id=\"xtick_101\">\n     <g id=\"text_101\">\n      <!-- 48 -->\n      <g transform=\"translate(496.977312 688.000625)rotate(-90)scale(0.05 -0.05)\">\n       <use xlink:href=\"#DejaVuSans-52\"/>\n       <use x=\"63.623047\" xlink:href=\"#DejaVuSans-56\"/>\n      </g>\n     </g>\n    </g>\n    <g id=\"xtick_102\">\n     <g id=\"text_102\">\n      <!-- 17 -->\n      <g transform=\"translate(501.441313 688.000625)rotate(-90)scale(0.05 -0.05)\">\n       <use xlink:href=\"#DejaVuSans-49\"/>\n       <use x=\"63.623047\" xlink:href=\"#DejaVuSans-55\"/>\n      </g>\n     </g>\n    </g>\n    <g id=\"xtick_103\">\n     <g id=\"text_103\">\n      <!-- 73 -->\n      <g transform=\"translate(505.905312 688.000625)rotate(-90)scale(0.05 -0.05)\">\n       <use xlink:href=\"#DejaVuSans-55\"/>\n       <use x=\"63.623047\" xlink:href=\"#DejaVuSans-51\"/>\n      </g>\n     </g>\n    </g>\n    <g id=\"xtick_104\">\n     <g id=\"text_104\">\n      <!-- 18 -->\n      <g transform=\"translate(510.369313 688.000625)rotate(-90)scale(0.05 -0.05)\">\n       <use xlink:href=\"#DejaVuSans-49\"/>\n       <use x=\"63.623047\" xlink:href=\"#DejaVuSans-56\"/>\n      </g>\n     </g>\n    </g>\n    <g id=\"xtick_105\">\n     <g id=\"text_105\">\n      <!-- 34 -->\n      <g transform=\"translate(514.833313 688.000625)rotate(-90)scale(0.05 -0.05)\">\n       <use xlink:href=\"#DejaVuSans-51\"/>\n       <use x=\"63.623047\" xlink:href=\"#DejaVuSans-52\"/>\n      </g>\n     </g>\n    </g>\n    <g id=\"xtick_106\">\n     <g id=\"text_106\">\n      <!-- 20 -->\n      <g transform=\"translate(519.297313 688.000625)rotate(-90)scale(0.05 -0.05)\">\n       <use xlink:href=\"#DejaVuSans-50\"/>\n       <use x=\"63.623047\" xlink:href=\"#DejaVuSans-48\"/>\n      </g>\n     </g>\n    </g>\n    <g id=\"xtick_107\">\n     <g id=\"text_107\">\n      <!-- 49 -->\n      <g transform=\"translate(523.761313 688.000625)rotate(-90)scale(0.05 -0.05)\">\n       <use xlink:href=\"#DejaVuSans-52\"/>\n       <use x=\"63.623047\" xlink:href=\"#DejaVuSans-57\"/>\n      </g>\n     </g>\n    </g>\n    <g id=\"xtick_108\">\n     <g id=\"text_108\">\n      <!-- 75 -->\n      <g transform=\"translate(528.225313 688.000625)rotate(-90)scale(0.05 -0.05)\">\n       <use xlink:href=\"#DejaVuSans-55\"/>\n       <use x=\"63.623047\" xlink:href=\"#DejaVuSans-53\"/>\n      </g>\n     </g>\n    </g>\n    <g id=\"xtick_109\">\n     <g id=\"text_109\">\n      <!-- 24 -->\n      <g transform=\"translate(532.689313 688.000625)rotate(-90)scale(0.05 -0.05)\">\n       <use xlink:href=\"#DejaVuSans-50\"/>\n       <use x=\"63.623047\" xlink:href=\"#DejaVuSans-52\"/>\n      </g>\n     </g>\n    </g>\n    <g id=\"xtick_110\">\n     <g id=\"text_110\">\n      <!-- 58 -->\n      <g transform=\"translate(537.153313 688.000625)rotate(-90)scale(0.05 -0.05)\">\n       <use xlink:href=\"#DejaVuSans-53\"/>\n       <use x=\"63.623047\" xlink:href=\"#DejaVuSans-56\"/>\n      </g>\n     </g>\n    </g>\n    <g id=\"xtick_111\">\n     <g id=\"text_111\">\n      <!-- 61 -->\n      <g transform=\"translate(541.617313 688.000625)rotate(-90)scale(0.05 -0.05)\">\n       <use xlink:href=\"#DejaVuSans-54\"/>\n       <use x=\"63.623047\" xlink:href=\"#DejaVuSans-49\"/>\n      </g>\n     </g>\n    </g>\n    <g id=\"xtick_112\">\n     <g id=\"text_112\">\n      <!-- 43 -->\n      <g transform=\"translate(546.081313 688.000625)rotate(-90)scale(0.05 -0.05)\">\n       <use xlink:href=\"#DejaVuSans-52\"/>\n       <use x=\"63.623047\" xlink:href=\"#DejaVuSans-51\"/>\n      </g>\n     </g>\n    </g>\n    <g id=\"xtick_113\">\n     <g id=\"text_113\">\n      <!-- 55 -->\n      <g transform=\"translate(550.545313 688.000625)rotate(-90)scale(0.05 -0.05)\">\n       <use xlink:href=\"#DejaVuSans-53\"/>\n       <use x=\"63.623047\" xlink:href=\"#DejaVuSans-53\"/>\n      </g>\n     </g>\n    </g>\n    <g id=\"xtick_114\">\n     <g id=\"text_114\">\n      <!-- 31 -->\n      <g transform=\"translate(555.009313 688.000625)rotate(-90)scale(0.05 -0.05)\">\n       <use xlink:href=\"#DejaVuSans-51\"/>\n       <use x=\"63.623047\" xlink:href=\"#DejaVuSans-49\"/>\n      </g>\n     </g>\n    </g>\n    <g id=\"xtick_115\">\n     <g id=\"text_115\">\n      <!-- 80 -->\n      <g transform=\"translate(559.473313 688.000625)rotate(-90)scale(0.05 -0.05)\">\n       <use xlink:href=\"#DejaVuSans-56\"/>\n       <use x=\"63.623047\" xlink:href=\"#DejaVuSans-48\"/>\n      </g>\n     </g>\n    </g>\n    <g id=\"xtick_116\">\n     <g id=\"text_116\">\n      <!-- 29 -->\n      <g transform=\"translate(563.937313 688.000625)rotate(-90)scale(0.05 -0.05)\">\n       <use xlink:href=\"#DejaVuSans-50\"/>\n       <use x=\"63.623047\" xlink:href=\"#DejaVuSans-57\"/>\n      </g>\n     </g>\n    </g>\n    <g id=\"xtick_117\">\n     <g id=\"text_117\">\n      <!-- 89 -->\n      <g transform=\"translate(568.401313 688.000625)rotate(-90)scale(0.05 -0.05)\">\n       <use xlink:href=\"#DejaVuSans-56\"/>\n       <use x=\"63.623047\" xlink:href=\"#DejaVuSans-57\"/>\n      </g>\n     </g>\n    </g>\n    <g id=\"xtick_118\">\n     <g id=\"text_118\">\n      <!-- 63 -->\n      <g transform=\"translate(572.865313 688.000625)rotate(-90)scale(0.05 -0.05)\">\n       <use xlink:href=\"#DejaVuSans-54\"/>\n       <use x=\"63.623047\" xlink:href=\"#DejaVuSans-51\"/>\n      </g>\n     </g>\n    </g>\n    <g id=\"xtick_119\">\n     <g id=\"text_119\">\n      <!-- 98 -->\n      <g transform=\"translate(577.329313 688.000625)rotate(-90)scale(0.05 -0.05)\">\n       <use xlink:href=\"#DejaVuSans-57\"/>\n       <use x=\"63.623047\" xlink:href=\"#DejaVuSans-56\"/>\n      </g>\n     </g>\n    </g>\n    <g id=\"xtick_120\">\n     <g id=\"text_120\">\n      <!-- 82 -->\n      <g transform=\"translate(581.793313 688.000625)rotate(-90)scale(0.05 -0.05)\">\n       <use xlink:href=\"#DejaVuSans-56\"/>\n       <use x=\"63.623047\" xlink:href=\"#DejaVuSans-50\"/>\n      </g>\n     </g>\n    </g>\n    <g id=\"xtick_121\">\n     <g id=\"text_121\">\n      <!-- 62 -->\n      <g transform=\"translate(586.257313 688.000625)rotate(-90)scale(0.05 -0.05)\">\n       <use xlink:href=\"#DejaVuSans-54\"/>\n       <use x=\"63.623047\" xlink:href=\"#DejaVuSans-50\"/>\n      </g>\n     </g>\n    </g>\n    <g id=\"xtick_122\">\n     <g id=\"text_122\">\n      <!-- 33 -->\n      <g transform=\"translate(590.721313 688.000625)rotate(-90)scale(0.05 -0.05)\">\n       <use xlink:href=\"#DejaVuSans-51\"/>\n       <use x=\"63.623047\" xlink:href=\"#DejaVuSans-51\"/>\n      </g>\n     </g>\n    </g>\n    <g id=\"xtick_123\">\n     <g id=\"text_123\">\n      <!-- 68 -->\n      <g transform=\"translate(595.185313 688.000625)rotate(-90)scale(0.05 -0.05)\">\n       <use xlink:href=\"#DejaVuSans-54\"/>\n       <use x=\"63.623047\" xlink:href=\"#DejaVuSans-56\"/>\n      </g>\n     </g>\n    </g>\n    <g id=\"xtick_124\">\n     <g id=\"text_124\">\n      <!-- 0 -->\n      <g transform=\"translate(599.649313 684.819375)rotate(-90)scale(0.05 -0.05)\">\n       <use xlink:href=\"#DejaVuSans-48\"/>\n      </g>\n     </g>\n    </g>\n    <g id=\"xtick_125\">\n     <g id=\"text_125\">\n      <!-- 70 -->\n      <g transform=\"translate(604.113313 688.000625)rotate(-90)scale(0.05 -0.05)\">\n       <use xlink:href=\"#DejaVuSans-55\"/>\n       <use x=\"63.623047\" xlink:href=\"#DejaVuSans-48\"/>\n      </g>\n     </g>\n    </g>\n    <g id=\"xtick_126\">\n     <g id=\"text_126\">\n      <!-- 96 -->\n      <g transform=\"translate(608.577313 688.000625)rotate(-90)scale(0.05 -0.05)\">\n       <use xlink:href=\"#DejaVuSans-57\"/>\n       <use x=\"63.623047\" xlink:href=\"#DejaVuSans-54\"/>\n      </g>\n     </g>\n    </g>\n    <g id=\"xtick_127\">\n     <g id=\"text_127\">\n      <!-- 1 -->\n      <g transform=\"translate(613.041313 684.819375)rotate(-90)scale(0.05 -0.05)\">\n       <use xlink:href=\"#DejaVuSans-49\"/>\n      </g>\n     </g>\n    </g>\n    <g id=\"xtick_128\">\n     <g id=\"text_128\">\n      <!-- 8 -->\n      <g transform=\"translate(617.505313 684.819375)rotate(-90)scale(0.05 -0.05)\">\n       <use xlink:href=\"#DejaVuSans-56\"/>\n      </g>\n     </g>\n    </g>\n    <g id=\"xtick_129\">\n     <g id=\"text_129\">\n      <!-- 41 -->\n      <g transform=\"translate(621.969313 688.000625)rotate(-90)scale(0.05 -0.05)\">\n       <use xlink:href=\"#DejaVuSans-52\"/>\n       <use x=\"63.623047\" xlink:href=\"#DejaVuSans-49\"/>\n      </g>\n     </g>\n    </g>\n    <g id=\"xtick_130\">\n     <g id=\"text_130\">\n      <!-- 15 -->\n      <g transform=\"translate(626.433313 688.000625)rotate(-90)scale(0.05 -0.05)\">\n       <use xlink:href=\"#DejaVuSans-49\"/>\n       <use x=\"63.623047\" xlink:href=\"#DejaVuSans-53\"/>\n      </g>\n     </g>\n    </g>\n    <g id=\"xtick_131\">\n     <g id=\"text_131\">\n      <!-- 69 -->\n      <g transform=\"translate(630.897313 688.000625)rotate(-90)scale(0.05 -0.05)\">\n       <use xlink:href=\"#DejaVuSans-54\"/>\n       <use x=\"63.623047\" xlink:href=\"#DejaVuSans-57\"/>\n      </g>\n     </g>\n    </g>\n    <g id=\"xtick_132\">\n     <g id=\"text_132\">\n      <!-- 72 -->\n      <g transform=\"translate(635.361313 688.000625)rotate(-90)scale(0.05 -0.05)\">\n       <use xlink:href=\"#DejaVuSans-55\"/>\n       <use x=\"63.623047\" xlink:href=\"#DejaVuSans-50\"/>\n      </g>\n     </g>\n    </g>\n    <g id=\"xtick_133\">\n     <g id=\"text_133\">\n      <!-- 94 -->\n      <g transform=\"translate(639.825313 688.000625)rotate(-90)scale(0.05 -0.05)\">\n       <use xlink:href=\"#DejaVuSans-57\"/>\n       <use x=\"63.623047\" xlink:href=\"#DejaVuSans-52\"/>\n      </g>\n     </g>\n    </g>\n    <g id=\"xtick_134\">\n     <g id=\"text_134\">\n      <!-- 22 -->\n      <g transform=\"translate(644.289313 688.000625)rotate(-90)scale(0.05 -0.05)\">\n       <use xlink:href=\"#DejaVuSans-50\"/>\n       <use x=\"63.623047\" xlink:href=\"#DejaVuSans-50\"/>\n      </g>\n     </g>\n    </g>\n    <g id=\"xtick_135\">\n     <g id=\"text_135\">\n      <!-- 52 -->\n      <g transform=\"translate(648.753313 688.000625)rotate(-90)scale(0.05 -0.05)\">\n       <use xlink:href=\"#DejaVuSans-53\"/>\n       <use x=\"63.623047\" xlink:href=\"#DejaVuSans-50\"/>\n      </g>\n     </g>\n    </g>\n    <g id=\"xtick_136\">\n     <g id=\"text_136\">\n      <!-- 53 -->\n      <g transform=\"translate(653.217313 688.000625)rotate(-90)scale(0.05 -0.05)\">\n       <use xlink:href=\"#DejaVuSans-53\"/>\n       <use x=\"63.623047\" xlink:href=\"#DejaVuSans-51\"/>\n      </g>\n     </g>\n    </g>\n    <g id=\"xtick_137\">\n     <g id=\"text_137\">\n      <!-- 46 -->\n      <g transform=\"translate(657.681313 688.000625)rotate(-90)scale(0.05 -0.05)\">\n       <use xlink:href=\"#DejaVuSans-52\"/>\n       <use x=\"63.623047\" xlink:href=\"#DejaVuSans-54\"/>\n      </g>\n     </g>\n    </g>\n    <g id=\"xtick_138\">\n     <g id=\"text_138\">\n      <!-- 50 -->\n      <g transform=\"translate(662.145313 688.000625)rotate(-90)scale(0.05 -0.05)\">\n       <use xlink:href=\"#DejaVuSans-53\"/>\n       <use x=\"63.623047\" xlink:href=\"#DejaVuSans-48\"/>\n      </g>\n     </g>\n    </g>\n    <g id=\"xtick_139\">\n     <g id=\"text_139\">\n      <!-- 21 -->\n      <g transform=\"translate(666.609313 688.000625)rotate(-90)scale(0.05 -0.05)\">\n       <use xlink:href=\"#DejaVuSans-50\"/>\n       <use x=\"63.623047\" xlink:href=\"#DejaVuSans-49\"/>\n      </g>\n     </g>\n    </g>\n    <g id=\"xtick_140\">\n     <g id=\"text_140\">\n      <!-- 71 -->\n      <g transform=\"translate(671.073313 688.000625)rotate(-90)scale(0.05 -0.05)\">\n       <use xlink:href=\"#DejaVuSans-55\"/>\n       <use x=\"63.623047\" xlink:href=\"#DejaVuSans-49\"/>\n      </g>\n     </g>\n    </g>\n    <g id=\"xtick_141\">\n     <g id=\"text_141\">\n      <!-- 42 -->\n      <g transform=\"translate(675.537313 688.000625)rotate(-90)scale(0.05 -0.05)\">\n       <use xlink:href=\"#DejaVuSans-52\"/>\n       <use x=\"63.623047\" xlink:href=\"#DejaVuSans-50\"/>\n      </g>\n     </g>\n    </g>\n    <g id=\"xtick_142\">\n     <g id=\"text_142\">\n      <!-- 19 -->\n      <g transform=\"translate(680.001313 688.000625)rotate(-90)scale(0.05 -0.05)\">\n       <use xlink:href=\"#DejaVuSans-49\"/>\n       <use x=\"63.623047\" xlink:href=\"#DejaVuSans-57\"/>\n      </g>\n     </g>\n    </g>\n    <g id=\"xtick_143\">\n     <g id=\"text_143\">\n      <!-- 3 -->\n      <g transform=\"translate(684.465313 684.819375)rotate(-90)scale(0.05 -0.05)\">\n       <use xlink:href=\"#DejaVuSans-51\"/>\n      </g>\n     </g>\n    </g>\n    <g id=\"xtick_144\">\n     <g id=\"text_144\">\n      <!-- 32 -->\n      <g transform=\"translate(688.929313 688.000625)rotate(-90)scale(0.05 -0.05)\">\n       <use xlink:href=\"#DejaVuSans-51\"/>\n       <use x=\"63.623047\" xlink:href=\"#DejaVuSans-50\"/>\n      </g>\n     </g>\n    </g>\n    <g id=\"xtick_145\">\n     <g id=\"text_145\">\n      <!-- 56 -->\n      <g transform=\"translate(693.393313 688.000625)rotate(-90)scale(0.05 -0.05)\">\n       <use xlink:href=\"#DejaVuSans-53\"/>\n       <use x=\"63.623047\" xlink:href=\"#DejaVuSans-54\"/>\n      </g>\n     </g>\n    </g>\n    <g id=\"xtick_146\">\n     <g id=\"text_146\">\n      <!-- 12 -->\n      <g transform=\"translate(697.857313 688.000625)rotate(-90)scale(0.05 -0.05)\">\n       <use xlink:href=\"#DejaVuSans-49\"/>\n       <use x=\"63.623047\" xlink:href=\"#DejaVuSans-50\"/>\n      </g>\n     </g>\n    </g>\n    <g id=\"xtick_147\">\n     <g id=\"text_147\">\n      <!-- 78 -->\n      <g transform=\"translate(702.321313 688.000625)rotate(-90)scale(0.05 -0.05)\">\n       <use xlink:href=\"#DejaVuSans-55\"/>\n       <use x=\"63.623047\" xlink:href=\"#DejaVuSans-56\"/>\n      </g>\n     </g>\n    </g>\n    <g id=\"xtick_148\">\n     <g id=\"text_148\">\n      <!-- 23 -->\n      <g transform=\"translate(706.785313 688.000625)rotate(-90)scale(0.05 -0.05)\">\n       <use xlink:href=\"#DejaVuSans-50\"/>\n       <use x=\"63.623047\" xlink:href=\"#DejaVuSans-51\"/>\n      </g>\n     </g>\n    </g>\n    <g id=\"xtick_149\">\n     <g id=\"text_149\">\n      <!-- 11 -->\n      <g transform=\"translate(711.249313 688.000625)rotate(-90)scale(0.05 -0.05)\">\n       <use xlink:href=\"#DejaVuSans-49\"/>\n       <use x=\"63.623047\" xlink:href=\"#DejaVuSans-49\"/>\n      </g>\n     </g>\n    </g>\n    <g id=\"xtick_150\">\n     <g id=\"text_150\">\n      <!-- 44 -->\n      <g transform=\"translate(715.713313 688.000625)rotate(-90)scale(0.05 -0.05)\">\n       <use xlink:href=\"#DejaVuSans-52\"/>\n       <use x=\"63.623047\" xlink:href=\"#DejaVuSans-52\"/>\n      </g>\n     </g>\n    </g>\n    <g id=\"text_151\">\n     <!-- index -->\n     <defs>\n      <path d=\"M 9.421875 54.6875 \nL 18.40625 54.6875 \nL 18.40625 0 \nL 9.421875 0 \nz\nM 9.421875 75.984375 \nL 18.40625 75.984375 \nL 18.40625 64.59375 \nL 9.421875 64.59375 \nz\n\" id=\"DejaVuSans-105\"/>\n      <path d=\"M 54.890625 33.015625 \nL 54.890625 0 \nL 45.90625 0 \nL 45.90625 32.71875 \nQ 45.90625 40.484375 42.875 44.328125 \nQ 39.84375 48.1875 33.796875 48.1875 \nQ 26.515625 48.1875 22.3125 43.546875 \nQ 18.109375 38.921875 18.109375 30.90625 \nL 18.109375 0 \nL 9.078125 0 \nL 9.078125 54.6875 \nL 18.109375 54.6875 \nL 18.109375 46.1875 \nQ 21.34375 51.125 25.703125 53.5625 \nQ 30.078125 56 35.796875 56 \nQ 45.21875 56 50.046875 50.171875 \nQ 54.890625 44.34375 54.890625 33.015625 \nz\n\" id=\"DejaVuSans-110\"/>\n      <path d=\"M 45.40625 46.390625 \nL 45.40625 75.984375 \nL 54.390625 75.984375 \nL 54.390625 0 \nL 45.40625 0 \nL 45.40625 8.203125 \nQ 42.578125 3.328125 38.25 0.953125 \nQ 33.9375 -1.421875 27.875 -1.421875 \nQ 17.96875 -1.421875 11.734375 6.484375 \nQ 5.515625 14.40625 5.515625 27.296875 \nQ 5.515625 40.1875 11.734375 48.09375 \nQ 17.96875 56 27.875 56 \nQ 33.9375 56 38.25 53.625 \nQ 42.578125 51.265625 45.40625 46.390625 \nz\nM 14.796875 27.296875 \nQ 14.796875 17.390625 18.875 11.75 \nQ 22.953125 6.109375 30.078125 6.109375 \nQ 37.203125 6.109375 41.296875 11.75 \nQ 45.40625 17.390625 45.40625 27.296875 \nQ 45.40625 37.203125 41.296875 42.84375 \nQ 37.203125 48.484375 30.078125 48.484375 \nQ 22.953125 48.484375 18.875 42.84375 \nQ 14.796875 37.203125 14.796875 27.296875 \nz\n\" id=\"DejaVuSans-100\"/>\n      <path d=\"M 56.203125 29.59375 \nL 56.203125 25.203125 \nL 14.890625 25.203125 \nQ 15.484375 15.921875 20.484375 11.0625 \nQ 25.484375 6.203125 34.421875 6.203125 \nQ 39.59375 6.203125 44.453125 7.46875 \nQ 49.3125 8.734375 54.109375 11.28125 \nL 54.109375 2.78125 \nQ 49.265625 0.734375 44.1875 -0.34375 \nQ 39.109375 -1.421875 33.890625 -1.421875 \nQ 20.796875 -1.421875 13.15625 6.1875 \nQ 5.515625 13.8125 5.515625 26.8125 \nQ 5.515625 40.234375 12.765625 48.109375 \nQ 20.015625 56 32.328125 56 \nQ 43.359375 56 49.78125 48.890625 \nQ 56.203125 41.796875 56.203125 29.59375 \nz\nM 47.21875 32.234375 \nQ 47.125 39.59375 43.09375 43.984375 \nQ 39.0625 48.390625 32.421875 48.390625 \nQ 24.90625 48.390625 20.390625 44.140625 \nQ 15.875 39.890625 15.1875 32.171875 \nz\n\" id=\"DejaVuSans-101\"/>\n      <path d=\"M 54.890625 54.6875 \nL 35.109375 28.078125 \nL 55.90625 0 \nL 45.3125 0 \nL 29.390625 21.484375 \nL 13.484375 0 \nL 2.875 0 \nL 24.125 28.609375 \nL 4.6875 54.6875 \nL 15.28125 54.6875 \nL 29.78125 35.203125 \nL 44.28125 54.6875 \nz\n\" id=\"DejaVuSans-120\"/>\n     </defs>\n     <g transform=\"translate(368.085156 702.780312)scale(0.1 -0.1)\">\n      <use xlink:href=\"#DejaVuSans-105\"/>\n      <use x=\"27.783203\" xlink:href=\"#DejaVuSans-110\"/>\n      <use x=\"91.162109\" xlink:href=\"#DejaVuSans-100\"/>\n      <use x=\"154.638672\" xlink:href=\"#DejaVuSans-101\"/>\n      <use x=\"214.412109\" xlink:href=\"#DejaVuSans-120\"/>\n     </g>\n    </g>\n   </g>\n   <g id=\"matplotlib.axis_2\">\n    <g id=\"ytick_1\">\n     <g id=\"line2d_1\">\n      <defs>\n       <path d=\"M 0 0 \nL -3.5 0 \n\" id=\"m96a88ef4a4\" style=\"stroke:#000000;stroke-width:0.8;\"/>\n      </defs>\n      <g>\n       <use style=\"stroke:#000000;stroke-width:0.8;\" x=\"46.965625\" xlink:href=\"#m96a88ef4a4\" y=\"674.638125\"/>\n      </g>\n     </g>\n     <g id=\"text_152\">\n      <!-- 0 -->\n      <g transform=\"translate(33.603125 678.437344)scale(0.1 -0.1)\">\n       <use xlink:href=\"#DejaVuSans-48\"/>\n      </g>\n     </g>\n    </g>\n    <g id=\"ytick_2\">\n     <g id=\"line2d_2\">\n      <g>\n       <use style=\"stroke:#000000;stroke-width:0.8;\" x=\"46.965625\" xlink:href=\"#m96a88ef4a4\" y=\"588.481851\"/>\n      </g>\n     </g>\n     <g id=\"text_153\">\n      <!-- 25 -->\n      <g transform=\"translate(27.240625 592.28107)scale(0.1 -0.1)\">\n       <use xlink:href=\"#DejaVuSans-50\"/>\n       <use x=\"63.623047\" xlink:href=\"#DejaVuSans-53\"/>\n      </g>\n     </g>\n    </g>\n    <g id=\"ytick_3\">\n     <g id=\"line2d_3\">\n      <g>\n       <use style=\"stroke:#000000;stroke-width:0.8;\" x=\"46.965625\" xlink:href=\"#m96a88ef4a4\" y=\"502.325577\"/>\n      </g>\n     </g>\n     <g id=\"text_154\">\n      <!-- 50 -->\n      <g transform=\"translate(27.240625 506.124796)scale(0.1 -0.1)\">\n       <use xlink:href=\"#DejaVuSans-53\"/>\n       <use x=\"63.623047\" xlink:href=\"#DejaVuSans-48\"/>\n      </g>\n     </g>\n    </g>\n    <g id=\"ytick_4\">\n     <g id=\"line2d_4\">\n      <g>\n       <use style=\"stroke:#000000;stroke-width:0.8;\" x=\"46.965625\" xlink:href=\"#m96a88ef4a4\" y=\"416.169303\"/>\n      </g>\n     </g>\n     <g id=\"text_155\">\n      <!-- 75 -->\n      <g transform=\"translate(27.240625 419.968522)scale(0.1 -0.1)\">\n       <use xlink:href=\"#DejaVuSans-55\"/>\n       <use x=\"63.623047\" xlink:href=\"#DejaVuSans-53\"/>\n      </g>\n     </g>\n    </g>\n    <g id=\"ytick_5\">\n     <g id=\"line2d_5\">\n      <g>\n       <use style=\"stroke:#000000;stroke-width:0.8;\" x=\"46.965625\" xlink:href=\"#m96a88ef4a4\" y=\"330.013029\"/>\n      </g>\n     </g>\n     <g id=\"text_156\">\n      <!-- 100 -->\n      <g transform=\"translate(20.878125 333.812248)scale(0.1 -0.1)\">\n       <use xlink:href=\"#DejaVuSans-49\"/>\n       <use x=\"63.623047\" xlink:href=\"#DejaVuSans-48\"/>\n       <use x=\"127.246094\" xlink:href=\"#DejaVuSans-48\"/>\n      </g>\n     </g>\n    </g>\n    <g id=\"ytick_6\">\n     <g id=\"line2d_6\">\n      <g>\n       <use style=\"stroke:#000000;stroke-width:0.8;\" x=\"46.965625\" xlink:href=\"#m96a88ef4a4\" y=\"243.856755\"/>\n      </g>\n     </g>\n     <g id=\"text_157\">\n      <!-- 125 -->\n      <g transform=\"translate(20.878125 247.655974)scale(0.1 -0.1)\">\n       <use xlink:href=\"#DejaVuSans-49\"/>\n       <use x=\"63.623047\" xlink:href=\"#DejaVuSans-50\"/>\n       <use x=\"127.246094\" xlink:href=\"#DejaVuSans-53\"/>\n      </g>\n     </g>\n    </g>\n    <g id=\"ytick_7\">\n     <g id=\"line2d_7\">\n      <g>\n       <use style=\"stroke:#000000;stroke-width:0.8;\" x=\"46.965625\" xlink:href=\"#m96a88ef4a4\" y=\"157.700481\"/>\n      </g>\n     </g>\n     <g id=\"text_158\">\n      <!-- 150 -->\n      <g transform=\"translate(20.878125 161.4997)scale(0.1 -0.1)\">\n       <use xlink:href=\"#DejaVuSans-49\"/>\n       <use x=\"63.623047\" xlink:href=\"#DejaVuSans-53\"/>\n       <use x=\"127.246094\" xlink:href=\"#DejaVuSans-48\"/>\n      </g>\n     </g>\n    </g>\n    <g id=\"ytick_8\">\n     <g id=\"line2d_8\">\n      <g>\n       <use style=\"stroke:#000000;stroke-width:0.8;\" x=\"46.965625\" xlink:href=\"#m96a88ef4a4\" y=\"71.544207\"/>\n      </g>\n     </g>\n     <g id=\"text_159\">\n      <!-- 175 -->\n      <g transform=\"translate(20.878125 75.343426)scale(0.1 -0.1)\">\n       <use xlink:href=\"#DejaVuSans-49\"/>\n       <use x=\"63.623047\" xlink:href=\"#DejaVuSans-55\"/>\n       <use x=\"127.246094\" xlink:href=\"#DejaVuSans-53\"/>\n      </g>\n     </g>\n    </g>\n    <g id=\"text_160\">\n     <!-- distance -->\n     <defs>\n      <path d=\"M 44.28125 53.078125 \nL 44.28125 44.578125 \nQ 40.484375 46.53125 36.375 47.5 \nQ 32.28125 48.484375 27.875 48.484375 \nQ 21.1875 48.484375 17.84375 46.4375 \nQ 14.5 44.390625 14.5 40.28125 \nQ 14.5 37.15625 16.890625 35.375 \nQ 19.28125 33.59375 26.515625 31.984375 \nL 29.59375 31.296875 \nQ 39.15625 29.25 43.1875 25.515625 \nQ 47.21875 21.78125 47.21875 15.09375 \nQ 47.21875 7.46875 41.1875 3.015625 \nQ 35.15625 -1.421875 24.609375 -1.421875 \nQ 20.21875 -1.421875 15.453125 -0.5625 \nQ 10.6875 0.296875 5.421875 2 \nL 5.421875 11.28125 \nQ 10.40625 8.6875 15.234375 7.390625 \nQ 20.0625 6.109375 24.8125 6.109375 \nQ 31.15625 6.109375 34.5625 8.28125 \nQ 37.984375 10.453125 37.984375 14.40625 \nQ 37.984375 18.0625 35.515625 20.015625 \nQ 33.0625 21.96875 24.703125 23.78125 \nL 21.578125 24.515625 \nQ 13.234375 26.265625 9.515625 29.90625 \nQ 5.8125 33.546875 5.8125 39.890625 \nQ 5.8125 47.609375 11.28125 51.796875 \nQ 16.75 56 26.8125 56 \nQ 31.78125 56 36.171875 55.265625 \nQ 40.578125 54.546875 44.28125 53.078125 \nz\n\" id=\"DejaVuSans-115\"/>\n      <path d=\"M 18.3125 70.21875 \nL 18.3125 54.6875 \nL 36.8125 54.6875 \nL 36.8125 47.703125 \nL 18.3125 47.703125 \nL 18.3125 18.015625 \nQ 18.3125 11.328125 20.140625 9.421875 \nQ 21.96875 7.515625 27.59375 7.515625 \nL 36.8125 7.515625 \nL 36.8125 0 \nL 27.59375 0 \nQ 17.1875 0 13.234375 3.875 \nQ 9.28125 7.765625 9.28125 18.015625 \nL 9.28125 47.703125 \nL 2.6875 47.703125 \nL 2.6875 54.6875 \nL 9.28125 54.6875 \nL 9.28125 70.21875 \nz\n\" id=\"DejaVuSans-116\"/>\n      <path d=\"M 34.28125 27.484375 \nQ 23.390625 27.484375 19.1875 25 \nQ 14.984375 22.515625 14.984375 16.5 \nQ 14.984375 11.71875 18.140625 8.90625 \nQ 21.296875 6.109375 26.703125 6.109375 \nQ 34.1875 6.109375 38.703125 11.40625 \nQ 43.21875 16.703125 43.21875 25.484375 \nL 43.21875 27.484375 \nz\nM 52.203125 31.203125 \nL 52.203125 0 \nL 43.21875 0 \nL 43.21875 8.296875 \nQ 40.140625 3.328125 35.546875 0.953125 \nQ 30.953125 -1.421875 24.3125 -1.421875 \nQ 15.921875 -1.421875 10.953125 3.296875 \nQ 6 8.015625 6 15.921875 \nQ 6 25.140625 12.171875 29.828125 \nQ 18.359375 34.515625 30.609375 34.515625 \nL 43.21875 34.515625 \nL 43.21875 35.40625 \nQ 43.21875 41.609375 39.140625 45 \nQ 35.0625 48.390625 27.6875 48.390625 \nQ 23 48.390625 18.546875 47.265625 \nQ 14.109375 46.140625 10.015625 43.890625 \nL 10.015625 52.203125 \nQ 14.9375 54.109375 19.578125 55.046875 \nQ 24.21875 56 28.609375 56 \nQ 40.484375 56 46.34375 49.84375 \nQ 52.203125 43.703125 52.203125 31.203125 \nz\n\" id=\"DejaVuSans-97\"/>\n      <path d=\"M 48.78125 52.59375 \nL 48.78125 44.1875 \nQ 44.96875 46.296875 41.140625 47.34375 \nQ 37.3125 48.390625 33.40625 48.390625 \nQ 24.65625 48.390625 19.8125 42.84375 \nQ 14.984375 37.3125 14.984375 27.296875 \nQ 14.984375 17.28125 19.8125 11.734375 \nQ 24.65625 6.203125 33.40625 6.203125 \nQ 37.3125 6.203125 41.140625 7.25 \nQ 44.96875 8.296875 48.78125 10.40625 \nL 48.78125 2.09375 \nQ 45.015625 0.34375 40.984375 -0.53125 \nQ 36.96875 -1.421875 32.421875 -1.421875 \nQ 20.0625 -1.421875 12.78125 6.34375 \nQ 5.515625 14.109375 5.515625 27.296875 \nQ 5.515625 40.671875 12.859375 48.328125 \nQ 20.21875 56 33.015625 56 \nQ 37.15625 56 41.109375 55.140625 \nQ 45.0625 54.296875 48.78125 52.59375 \nz\n\" id=\"DejaVuSans-99\"/>\n     </defs>\n     <g transform=\"translate(14.798438 369.664844)rotate(-90)scale(0.1 -0.1)\">\n      <use xlink:href=\"#DejaVuSans-100\"/>\n      <use x=\"63.476562\" xlink:href=\"#DejaVuSans-105\"/>\n      <use x=\"91.259766\" xlink:href=\"#DejaVuSans-115\"/>\n      <use x=\"143.359375\" xlink:href=\"#DejaVuSans-116\"/>\n      <use x=\"182.568359\" xlink:href=\"#DejaVuSans-97\"/>\n      <use x=\"243.847656\" xlink:href=\"#DejaVuSans-110\"/>\n      <use x=\"307.226562\" xlink:href=\"#DejaVuSans-99\"/>\n      <use x=\"362.207031\" xlink:href=\"#DejaVuSans-101\"/>\n     </g>\n    </g>\n   </g>\n   <g id=\"LineCollection_1\">\n    <path clip-path=\"url(#p25b078d5b9)\" d=\"M 53.661625 674.638125 \nL 53.661625 673.934448 \nL 58.125625 673.934448 \nL 58.125625 674.638125 \n\" style=\"fill:none;stroke:#008000;stroke-width:1.5;\"/>\n    <path clip-path=\"url(#p25b078d5b9)\" d=\"M 49.197625 674.638125 \nL 49.197625 670.764929 \nL 55.893625 670.764929 \nL 55.893625 673.934448 \n\" style=\"fill:none;stroke:#008000;stroke-width:1.5;\"/>\n    <path clip-path=\"url(#p25b078d5b9)\" d=\"M 62.589625 674.638125 \nL 62.589625 673.74458 \nL 67.053625 673.74458 \nL 67.053625 674.638125 \n\" style=\"fill:none;stroke:#008000;stroke-width:1.5;\"/>\n    <path clip-path=\"url(#p25b078d5b9)\" d=\"M 71.517625 674.638125 \nL 71.517625 673.10183 \nL 75.981625 673.10183 \nL 75.981625 674.638125 \n\" style=\"fill:none;stroke:#008000;stroke-width:1.5;\"/>\n    <path clip-path=\"url(#p25b078d5b9)\" d=\"M 64.821625 673.74458 \nL 64.821625 672.58016 \nL 73.749625 672.58016 \nL 73.749625 673.10183 \n\" style=\"fill:none;stroke:#008000;stroke-width:1.5;\"/>\n    <path clip-path=\"url(#p25b078d5b9)\" d=\"M 84.909625 674.638125 \nL 84.909625 673.013898 \nL 89.373625 673.013898 \nL 89.373625 674.638125 \n\" style=\"fill:none;stroke:#008000;stroke-width:1.5;\"/>\n    <path clip-path=\"url(#p25b078d5b9)\" d=\"M 80.445625 674.638125 \nL 80.445625 671.693684 \nL 87.141625 671.693684 \nL 87.141625 673.013898 \n\" style=\"fill:none;stroke:#008000;stroke-width:1.5;\"/>\n    <path clip-path=\"url(#p25b078d5b9)\" d=\"M 69.285625 672.58016 \nL 69.285625 668.455295 \nL 83.793625 668.455295 \nL 83.793625 671.693684 \n\" style=\"fill:none;stroke:#008000;stroke-width:1.5;\"/>\n    <path clip-path=\"url(#p25b078d5b9)\" d=\"M 52.545625 670.764929 \nL 52.545625 660.842768 \nL 76.539625 660.842768 \nL 76.539625 668.455295 \n\" style=\"fill:none;stroke:#008000;stroke-width:1.5;\"/>\n    <path clip-path=\"url(#p25b078d5b9)\" d=\"M 102.765625 674.638125 \nL 102.765625 674.258791 \nL 107.229625 674.258791 \nL 107.229625 674.638125 \n\" style=\"fill:none;stroke:#008000;stroke-width:1.5;\"/>\n    <path clip-path=\"url(#p25b078d5b9)\" d=\"M 98.301625 674.638125 \nL 98.301625 673.110859 \nL 104.997625 673.110859 \nL 104.997625 674.258791 \n\" style=\"fill:none;stroke:#008000;stroke-width:1.5;\"/>\n    <path clip-path=\"url(#p25b078d5b9)\" d=\"M 93.837625 674.638125 \nL 93.837625 671.284112 \nL 101.649625 671.284112 \nL 101.649625 673.110859 \n\" style=\"fill:none;stroke:#008000;stroke-width:1.5;\"/>\n    <path clip-path=\"url(#p25b078d5b9)\" d=\"M 111.693625 674.638125 \nL 111.693625 672.603697 \nL 116.157625 672.603697 \nL 116.157625 674.638125 \n\" style=\"fill:none;stroke:#008000;stroke-width:1.5;\"/>\n    <path clip-path=\"url(#p25b078d5b9)\" d=\"M 120.621625 674.638125 \nL 120.621625 671.906189 \nL 125.085625 671.906189 \nL 125.085625 674.638125 \n\" style=\"fill:none;stroke:#008000;stroke-width:1.5;\"/>\n    <path clip-path=\"url(#p25b078d5b9)\" d=\"M 113.925625 672.603697 \nL 113.925625 670.417084 \nL 122.853625 670.417084 \nL 122.853625 671.906189 \n\" style=\"fill:none;stroke:#008000;stroke-width:1.5;\"/>\n    <path clip-path=\"url(#p25b078d5b9)\" d=\"M 97.743625 671.284112 \nL 97.743625 667.628355 \nL 118.389625 667.628355 \nL 118.389625 670.417084 \n\" style=\"fill:none;stroke:#008000;stroke-width:1.5;\"/>\n    <path clip-path=\"url(#p25b078d5b9)\" d=\"M 142.941625 674.638125 \nL 142.941625 673.242056 \nL 147.405625 673.242056 \nL 147.405625 674.638125 \n\" style=\"fill:none;stroke:#008000;stroke-width:1.5;\"/>\n    <path clip-path=\"url(#p25b078d5b9)\" d=\"M 138.477625 674.638125 \nL 138.477625 671.408424 \nL 145.173625 671.408424 \nL 145.173625 673.242056 \n\" style=\"fill:none;stroke:#008000;stroke-width:1.5;\"/>\n    <path clip-path=\"url(#p25b078d5b9)\" d=\"M 134.013625 674.638125 \nL 134.013625 668.156876 \nL 141.825625 668.156876 \nL 141.825625 671.408424 \n\" style=\"fill:none;stroke:#008000;stroke-width:1.5;\"/>\n    <path clip-path=\"url(#p25b078d5b9)\" d=\"M 129.549625 674.638125 \nL 129.549625 664.870794 \nL 137.919625 664.870794 \nL 137.919625 668.156876 \n\" style=\"fill:none;stroke:#008000;stroke-width:1.5;\"/>\n    <path clip-path=\"url(#p25b078d5b9)\" d=\"M 108.066625 667.628355 \nL 108.066625 660.450732 \nL 133.734625 660.450732 \nL 133.734625 664.870794 \n\" style=\"fill:none;stroke:#008000;stroke-width:1.5;\"/>\n    <path clip-path=\"url(#p25b078d5b9)\" d=\"M 64.542625 660.842768 \nL 64.542625 651.914939 \nL 120.900625 651.914939 \nL 120.900625 660.450732 \n\" style=\"fill:none;stroke:#008000;stroke-width:1.5;\"/>\n    <path clip-path=\"url(#p25b078d5b9)\" d=\"M 156.333625 674.638125 \nL 156.333625 674.218816 \nL 160.797625 674.218816 \nL 160.797625 674.638125 \n\" style=\"fill:none;stroke:#008000;stroke-width:1.5;\"/>\n    <path clip-path=\"url(#p25b078d5b9)\" d=\"M 151.869625 674.638125 \nL 151.869625 673.325403 \nL 158.565625 673.325403 \nL 158.565625 674.218816 \n\" style=\"fill:none;stroke:#008000;stroke-width:1.5;\"/>\n    <path clip-path=\"url(#p25b078d5b9)\" d=\"M 169.725625 674.638125 \nL 169.725625 673.44843 \nL 174.189625 673.44843 \nL 174.189625 674.638125 \n\" style=\"fill:none;stroke:#008000;stroke-width:1.5;\"/>\n    <path clip-path=\"url(#p25b078d5b9)\" d=\"M 165.261625 674.638125 \nL 165.261625 671.614662 \nL 171.957625 671.614662 \nL 171.957625 673.44843 \n\" style=\"fill:none;stroke:#008000;stroke-width:1.5;\"/>\n    <path clip-path=\"url(#p25b078d5b9)\" d=\"M 155.217625 673.325403 \nL 155.217625 670.99979 \nL 168.609625 670.99979 \nL 168.609625 671.614662 \n\" style=\"fill:none;stroke:#008000;stroke-width:1.5;\"/>\n    <path clip-path=\"url(#p25b078d5b9)\" d=\"M 178.653625 674.638125 \nL 178.653625 672.989941 \nL 183.117625 672.989941 \nL 183.117625 674.638125 \n\" style=\"fill:none;stroke:#008000;stroke-width:1.5;\"/>\n    <path clip-path=\"url(#p25b078d5b9)\" d=\"M 196.509625 674.638125 \nL 196.509625 673.701043 \nL 200.973625 673.701043 \nL 200.973625 674.638125 \n\" style=\"fill:none;stroke:#008000;stroke-width:1.5;\"/>\n    <path clip-path=\"url(#p25b078d5b9)\" d=\"M 192.045625 674.638125 \nL 192.045625 672.814722 \nL 198.741625 672.814722 \nL 198.741625 673.701043 \n\" style=\"fill:none;stroke:#008000;stroke-width:1.5;\"/>\n    <path clip-path=\"url(#p25b078d5b9)\" d=\"M 187.581625 674.638125 \nL 187.581625 669.984113 \nL 195.393625 669.984113 \nL 195.393625 672.814722 \n\" style=\"fill:none;stroke:#008000;stroke-width:1.5;\"/>\n    <path clip-path=\"url(#p25b078d5b9)\" d=\"M 180.885625 672.989941 \nL 180.885625 668.782937 \nL 191.487625 668.782937 \nL 191.487625 669.984113 \n\" style=\"fill:none;stroke:#008000;stroke-width:1.5;\"/>\n    <path clip-path=\"url(#p25b078d5b9)\" d=\"M 161.913625 670.99979 \nL 161.913625 666.150375 \nL 186.186625 666.150375 \nL 186.186625 668.782937 \n\" style=\"fill:none;stroke:#008000;stroke-width:1.5;\"/>\n    <path clip-path=\"url(#p25b078d5b9)\" d=\"M 205.437625 674.638125 \nL 205.437625 672.365851 \nL 209.901625 672.365851 \nL 209.901625 674.638125 \n\" style=\"fill:none;stroke:#008000;stroke-width:1.5;\"/>\n    <path clip-path=\"url(#p25b078d5b9)\" d=\"M 218.829625 674.638125 \nL 218.829625 672.599647 \nL 223.293625 672.599647 \nL 223.293625 674.638125 \n\" style=\"fill:none;stroke:#008000;stroke-width:1.5;\"/>\n    <path clip-path=\"url(#p25b078d5b9)\" d=\"M 214.365625 674.638125 \nL 214.365625 670.669004 \nL 221.061625 670.669004 \nL 221.061625 672.599647 \n\" style=\"fill:none;stroke:#008000;stroke-width:1.5;\"/>\n    <path clip-path=\"url(#p25b078d5b9)\" d=\"M 207.669625 672.365851 \nL 207.669625 665.137586 \nL 217.713625 665.137586 \nL 217.713625 670.669004 \n\" style=\"fill:none;stroke:#008000;stroke-width:1.5;\"/>\n    <path clip-path=\"url(#p25b078d5b9)\" d=\"M 174.050125 666.150375 \nL 174.050125 653.257991 \nL 212.691625 653.257991 \nL 212.691625 665.137586 \n\" style=\"fill:none;stroke:#008000;stroke-width:1.5;\"/>\n    <path clip-path=\"url(#p25b078d5b9)\" d=\"M 236.685625 674.638125 \nL 236.685625 671.844577 \nL 241.149625 671.844577 \nL 241.149625 674.638125 \n\" style=\"fill:none;stroke:#008000;stroke-width:1.5;\"/>\n    <path clip-path=\"url(#p25b078d5b9)\" d=\"M 232.221625 674.638125 \nL 232.221625 670.067484 \nL 238.917625 670.067484 \nL 238.917625 671.844577 \n\" style=\"fill:none;stroke:#008000;stroke-width:1.5;\"/>\n    <path clip-path=\"url(#p25b078d5b9)\" d=\"M 227.757625 674.638125 \nL 227.757625 666.934801 \nL 235.569625 666.934801 \nL 235.569625 670.067484 \n\" style=\"fill:none;stroke:#008000;stroke-width:1.5;\"/>\n    <path clip-path=\"url(#p25b078d5b9)\" d=\"M 254.541625 674.638125 \nL 254.541625 673.862764 \nL 259.005625 673.862764 \nL 259.005625 674.638125 \n\" style=\"fill:none;stroke:#008000;stroke-width:1.5;\"/>\n    <path clip-path=\"url(#p25b078d5b9)\" d=\"M 250.077625 674.638125 \nL 250.077625 671.821471 \nL 256.773625 671.821471 \nL 256.773625 673.862764 \n\" style=\"fill:none;stroke:#008000;stroke-width:1.5;\"/>\n    <path clip-path=\"url(#p25b078d5b9)\" d=\"M 245.613625 674.638125 \nL 245.613625 671.086418 \nL 253.425625 671.086418 \nL 253.425625 671.821471 \n\" style=\"fill:none;stroke:#008000;stroke-width:1.5;\"/>\n    <path clip-path=\"url(#p25b078d5b9)\" d=\"M 263.469625 674.638125 \nL 263.469625 668.862891 \nL 267.933625 668.862891 \nL 267.933625 674.638125 \n\" style=\"fill:none;stroke:#008000;stroke-width:1.5;\"/>\n    <path clip-path=\"url(#p25b078d5b9)\" d=\"M 249.519625 671.086418 \nL 249.519625 660.729585 \nL 265.701625 660.729585 \nL 265.701625 668.862891 \n\" style=\"fill:none;stroke:#008000;stroke-width:1.5;\"/>\n    <path clip-path=\"url(#p25b078d5b9)\" d=\"M 231.663625 666.934801 \nL 231.663625 646.898035 \nL 257.610625 646.898035 \nL 257.610625 660.729585 \n\" style=\"fill:none;stroke:#008000;stroke-width:1.5;\"/>\n    <path clip-path=\"url(#p25b078d5b9)\" d=\"M 193.370875 653.257991 \nL 193.370875 644.489554 \nL 244.637125 644.489554 \nL 244.637125 646.898035 \n\" style=\"fill:none;stroke:#008000;stroke-width:1.5;\"/>\n    <path clip-path=\"url(#p25b078d5b9)\" d=\"M 92.721625 651.914939 \nL 92.721625 615.654597 \nL 219.004 615.654597 \nL 219.004 644.489554 \n\" style=\"fill:none;stroke:#008000;stroke-width:1.5;\"/>\n   </g>\n   <g id=\"LineCollection_2\">\n    <path clip-path=\"url(#p25b078d5b9)\" d=\"M 272.397625 674.638125 \nL 272.397625 674.207688 \nL 276.861625 674.207688 \nL 276.861625 674.638125 \n\" style=\"fill:none;stroke:#ff0000;stroke-width:1.5;\"/>\n    <path clip-path=\"url(#p25b078d5b9)\" d=\"M 281.325625 674.638125 \nL 281.325625 672.040404 \nL 285.789625 672.040404 \nL 285.789625 674.638125 \n\" style=\"fill:none;stroke:#ff0000;stroke-width:1.5;\"/>\n    <path clip-path=\"url(#p25b078d5b9)\" d=\"M 274.629625 674.207688 \nL 274.629625 669.492247 \nL 283.557625 669.492247 \nL 283.557625 672.040404 \n\" style=\"fill:none;stroke:#ff0000;stroke-width:1.5;\"/>\n    <path clip-path=\"url(#p25b078d5b9)\" d=\"M 290.253625 674.638125 \nL 290.253625 674.248621 \nL 294.717625 674.248621 \nL 294.717625 674.638125 \n\" style=\"fill:none;stroke:#ff0000;stroke-width:1.5;\"/>\n    <path clip-path=\"url(#p25b078d5b9)\" d=\"M 299.181625 674.638125 \nL 299.181625 673.343842 \nL 303.645625 673.343842 \nL 303.645625 674.638125 \n\" style=\"fill:none;stroke:#ff0000;stroke-width:1.5;\"/>\n    <path clip-path=\"url(#p25b078d5b9)\" d=\"M 292.485625 674.248621 \nL 292.485625 672.19116 \nL 301.413625 672.19116 \nL 301.413625 673.343842 \n\" style=\"fill:none;stroke:#ff0000;stroke-width:1.5;\"/>\n    <path clip-path=\"url(#p25b078d5b9)\" d=\"M 308.109625 674.638125 \nL 308.109625 671.144526 \nL 312.573625 671.144526 \nL 312.573625 674.638125 \n\" style=\"fill:none;stroke:#ff0000;stroke-width:1.5;\"/>\n    <path clip-path=\"url(#p25b078d5b9)\" d=\"M 296.949625 672.19116 \nL 296.949625 667.197604 \nL 310.341625 667.197604 \nL 310.341625 671.144526 \n\" style=\"fill:none;stroke:#ff0000;stroke-width:1.5;\"/>\n    <path clip-path=\"url(#p25b078d5b9)\" d=\"M 279.093625 669.492247 \nL 279.093625 660.241037 \nL 303.645625 660.241037 \nL 303.645625 667.197604 \n\" style=\"fill:none;stroke:#ff0000;stroke-width:1.5;\"/>\n    <path clip-path=\"url(#p25b078d5b9)\" d=\"M 325.965625 674.638125 \nL 325.965625 673.614266 \nL 330.429625 673.614266 \nL 330.429625 674.638125 \n\" style=\"fill:none;stroke:#ff0000;stroke-width:1.5;\"/>\n    <path clip-path=\"url(#p25b078d5b9)\" d=\"M 321.501625 674.638125 \nL 321.501625 670.556964 \nL 328.197625 670.556964 \nL 328.197625 673.614266 \n\" style=\"fill:none;stroke:#ff0000;stroke-width:1.5;\"/>\n    <path clip-path=\"url(#p25b078d5b9)\" d=\"M 343.821625 674.638125 \nL 343.821625 673.995899 \nL 348.285625 673.995899 \nL 348.285625 674.638125 \n\" style=\"fill:none;stroke:#ff0000;stroke-width:1.5;\"/>\n    <path clip-path=\"url(#p25b078d5b9)\" d=\"M 339.357625 674.638125 \nL 339.357625 672.824591 \nL 346.053625 672.824591 \nL 346.053625 673.995899 \n\" style=\"fill:none;stroke:#ff0000;stroke-width:1.5;\"/>\n    <path clip-path=\"url(#p25b078d5b9)\" d=\"M 334.893625 674.638125 \nL 334.893625 672.060342 \nL 342.705625 672.060342 \nL 342.705625 672.824591 \n\" style=\"fill:none;stroke:#ff0000;stroke-width:1.5;\"/>\n    <path clip-path=\"url(#p25b078d5b9)\" d=\"M 357.213625 674.638125 \nL 357.213625 673.60749 \nL 361.677625 673.60749 \nL 361.677625 674.638125 \n\" style=\"fill:none;stroke:#ff0000;stroke-width:1.5;\"/>\n    <path clip-path=\"url(#p25b078d5b9)\" d=\"M 352.749625 674.638125 \nL 352.749625 673.467214 \nL 359.445625 673.467214 \nL 359.445625 673.60749 \n\" style=\"fill:none;stroke:#ff0000;stroke-width:1.5;\"/>\n    <path clip-path=\"url(#p25b078d5b9)\" d=\"M 370.605625 674.638125 \nL 370.605625 674.261526 \nL 375.069625 674.261526 \nL 375.069625 674.638125 \n\" style=\"fill:none;stroke:#ff0000;stroke-width:1.5;\"/>\n    <path clip-path=\"url(#p25b078d5b9)\" d=\"M 366.141625 674.638125 \nL 366.141625 673.010898 \nL 372.837625 673.010898 \nL 372.837625 674.261526 \n\" style=\"fill:none;stroke:#ff0000;stroke-width:1.5;\"/>\n    <path clip-path=\"url(#p25b078d5b9)\" d=\"M 356.097625 673.467214 \nL 356.097625 670.664167 \nL 369.489625 670.664167 \nL 369.489625 673.010898 \n\" style=\"fill:none;stroke:#ff0000;stroke-width:1.5;\"/>\n    <path clip-path=\"url(#p25b078d5b9)\" d=\"M 338.799625 672.060342 \nL 338.799625 666.283137 \nL 362.793625 666.283137 \nL 362.793625 670.664167 \n\" style=\"fill:none;stroke:#ff0000;stroke-width:1.5;\"/>\n    <path clip-path=\"url(#p25b078d5b9)\" d=\"M 324.849625 670.556964 \nL 324.849625 661.433985 \nL 350.796625 661.433985 \nL 350.796625 666.283137 \n\" style=\"fill:none;stroke:#ff0000;stroke-width:1.5;\"/>\n    <path clip-path=\"url(#p25b078d5b9)\" d=\"M 317.037625 674.638125 \nL 317.037625 650.131625 \nL 337.823125 650.131625 \nL 337.823125 661.433985 \n\" style=\"fill:none;stroke:#ff0000;stroke-width:1.5;\"/>\n    <path clip-path=\"url(#p25b078d5b9)\" d=\"M 291.369625 660.241037 \nL 291.369625 640.712271 \nL 327.430375 640.712271 \nL 327.430375 650.131625 \n\" style=\"fill:none;stroke:#ff0000;stroke-width:1.5;\"/>\n    <path clip-path=\"url(#p25b078d5b9)\" d=\"M 379.533625 674.638125 \nL 379.533625 673.469149 \nL 383.997625 673.469149 \nL 383.997625 674.638125 \n\" style=\"fill:none;stroke:#ff0000;stroke-width:1.5;\"/>\n    <path clip-path=\"url(#p25b078d5b9)\" d=\"M 392.925625 674.638125 \nL 392.925625 672.915884 \nL 397.389625 672.915884 \nL 397.389625 674.638125 \n\" style=\"fill:none;stroke:#ff0000;stroke-width:1.5;\"/>\n    <path clip-path=\"url(#p25b078d5b9)\" d=\"M 388.461625 674.638125 \nL 388.461625 671.495151 \nL 395.157625 671.495151 \nL 395.157625 672.915884 \n\" style=\"fill:none;stroke:#ff0000;stroke-width:1.5;\"/>\n    <path clip-path=\"url(#p25b078d5b9)\" d=\"M 415.245625 674.638125 \nL 415.245625 673.927223 \nL 419.709625 673.927223 \nL 419.709625 674.638125 \n\" style=\"fill:none;stroke:#ff0000;stroke-width:1.5;\"/>\n    <path clip-path=\"url(#p25b078d5b9)\" d=\"M 410.781625 674.638125 \nL 410.781625 673.21781 \nL 417.477625 673.21781 \nL 417.477625 673.927223 \n\" style=\"fill:none;stroke:#ff0000;stroke-width:1.5;\"/>\n    <path clip-path=\"url(#p25b078d5b9)\" d=\"M 406.317625 674.638125 \nL 406.317625 671.976 \nL 414.129625 671.976 \nL 414.129625 673.21781 \n\" style=\"fill:none;stroke:#ff0000;stroke-width:1.5;\"/>\n    <path clip-path=\"url(#p25b078d5b9)\" d=\"M 401.853625 674.638125 \nL 401.853625 670.5948 \nL 410.223625 670.5948 \nL 410.223625 671.976 \n\" style=\"fill:none;stroke:#ff0000;stroke-width:1.5;\"/>\n    <path clip-path=\"url(#p25b078d5b9)\" d=\"M 391.809625 671.495151 \nL 391.809625 666.843868 \nL 406.038625 666.843868 \nL 406.038625 670.5948 \n\" style=\"fill:none;stroke:#ff0000;stroke-width:1.5;\"/>\n    <path clip-path=\"url(#p25b078d5b9)\" d=\"M 381.765625 673.469149 \nL 381.765625 661.814723 \nL 398.924125 661.814723 \nL 398.924125 666.843868 \n\" style=\"fill:none;stroke:#ff0000;stroke-width:1.5;\"/>\n    <path clip-path=\"url(#p25b078d5b9)\" d=\"M 428.637625 674.638125 \nL 428.637625 668.604678 \nL 433.101625 668.604678 \nL 433.101625 674.638125 \n\" style=\"fill:none;stroke:#ff0000;stroke-width:1.5;\"/>\n    <path clip-path=\"url(#p25b078d5b9)\" d=\"M 424.173625 674.638125 \nL 424.173625 663.920944 \nL 430.869625 663.920944 \nL 430.869625 668.604678 \n\" style=\"fill:none;stroke:#ff0000;stroke-width:1.5;\"/>\n    <path clip-path=\"url(#p25b078d5b9)\" d=\"M 437.565625 674.638125 \nL 437.565625 670.910202 \nL 442.029625 670.910202 \nL 442.029625 674.638125 \n\" style=\"fill:none;stroke:#ff0000;stroke-width:1.5;\"/>\n    <path clip-path=\"url(#p25b078d5b9)\" d=\"M 446.493625 674.638125 \nL 446.493625 673.443815 \nL 450.957625 673.443815 \nL 450.957625 674.638125 \n\" style=\"fill:none;stroke:#ff0000;stroke-width:1.5;\"/>\n    <path clip-path=\"url(#p25b078d5b9)\" d=\"M 455.421625 674.638125 \nL 455.421625 672.830703 \nL 459.885625 672.830703 \nL 459.885625 674.638125 \n\" style=\"fill:none;stroke:#ff0000;stroke-width:1.5;\"/>\n    <path clip-path=\"url(#p25b078d5b9)\" d=\"M 448.725625 673.443815 \nL 448.725625 671.767938 \nL 457.653625 671.767938 \nL 457.653625 672.830703 \n\" style=\"fill:none;stroke:#ff0000;stroke-width:1.5;\"/>\n    <path clip-path=\"url(#p25b078d5b9)\" d=\"M 468.813625 674.638125 \nL 468.813625 673.411931 \nL 473.277625 673.411931 \nL 473.277625 674.638125 \n\" style=\"fill:none;stroke:#ff0000;stroke-width:1.5;\"/>\n    <path clip-path=\"url(#p25b078d5b9)\" d=\"M 464.349625 674.638125 \nL 464.349625 671.457024 \nL 471.045625 671.457024 \nL 471.045625 673.411931 \n\" style=\"fill:none;stroke:#ff0000;stroke-width:1.5;\"/>\n    <path clip-path=\"url(#p25b078d5b9)\" d=\"M 453.189625 671.767938 \nL 453.189625 668.270896 \nL 467.697625 668.270896 \nL 467.697625 671.457024 \n\" style=\"fill:none;stroke:#ff0000;stroke-width:1.5;\"/>\n    <path clip-path=\"url(#p25b078d5b9)\" d=\"M 439.797625 670.910202 \nL 439.797625 663.172234 \nL 460.443625 663.172234 \nL 460.443625 668.270896 \n\" style=\"fill:none;stroke:#ff0000;stroke-width:1.5;\"/>\n    <path clip-path=\"url(#p25b078d5b9)\" d=\"M 427.521625 663.920944 \nL 427.521625 651.699134 \nL 450.120625 651.699134 \nL 450.120625 663.172234 \n\" style=\"fill:none;stroke:#ff0000;stroke-width:1.5;\"/>\n    <path clip-path=\"url(#p25b078d5b9)\" d=\"M 390.344875 661.814723 \nL 390.344875 647.520316 \nL 438.821125 647.520316 \nL 438.821125 651.699134 \n\" style=\"fill:none;stroke:#ff0000;stroke-width:1.5;\"/>\n    <path clip-path=\"url(#p25b078d5b9)\" d=\"M 477.741625 674.638125 \nL 477.741625 674.434322 \nL 482.205625 674.434322 \nL 482.205625 674.638125 \n\" style=\"fill:none;stroke:#ff0000;stroke-width:1.5;\"/>\n    <path clip-path=\"url(#p25b078d5b9)\" d=\"M 486.669625 674.638125 \nL 486.669625 673.801306 \nL 491.133625 673.801306 \nL 491.133625 674.638125 \n\" style=\"fill:none;stroke:#ff0000;stroke-width:1.5;\"/>\n    <path clip-path=\"url(#p25b078d5b9)\" d=\"M 479.973625 674.434322 \nL 479.973625 672.897079 \nL 488.901625 672.897079 \nL 488.901625 673.801306 \n\" style=\"fill:none;stroke:#ff0000;stroke-width:1.5;\"/>\n    <path clip-path=\"url(#p25b078d5b9)\" d=\"M 500.061625 674.638125 \nL 500.061625 674.392162 \nL 504.525625 674.392162 \nL 504.525625 674.638125 \n\" style=\"fill:none;stroke:#ff0000;stroke-width:1.5;\"/>\n    <path clip-path=\"url(#p25b078d5b9)\" d=\"M 508.989625 674.638125 \nL 508.989625 673.782113 \nL 513.453625 673.782113 \nL 513.453625 674.638125 \n\" style=\"fill:none;stroke:#ff0000;stroke-width:1.5;\"/>\n    <path clip-path=\"url(#p25b078d5b9)\" d=\"M 502.293625 674.392162 \nL 502.293625 672.785565 \nL 511.221625 672.785565 \nL 511.221625 673.782113 \n\" style=\"fill:none;stroke:#ff0000;stroke-width:1.5;\"/>\n    <path clip-path=\"url(#p25b078d5b9)\" d=\"M 495.597625 674.638125 \nL 495.597625 671.050869 \nL 506.757625 671.050869 \nL 506.757625 672.785565 \n\" style=\"fill:none;stroke:#ff0000;stroke-width:1.5;\"/>\n    <path clip-path=\"url(#p25b078d5b9)\" d=\"M 484.437625 672.897079 \nL 484.437625 668.747475 \nL 501.177625 668.747475 \nL 501.177625 671.050869 \n\" style=\"fill:none;stroke:#ff0000;stroke-width:1.5;\"/>\n    <path clip-path=\"url(#p25b078d5b9)\" d=\"M 522.381625 674.638125 \nL 522.381625 672.635162 \nL 526.845625 672.635162 \nL 526.845625 674.638125 \n\" style=\"fill:none;stroke:#ff0000;stroke-width:1.5;\"/>\n    <path clip-path=\"url(#p25b078d5b9)\" d=\"M 517.917625 674.638125 \nL 517.917625 671.150218 \nL 524.613625 671.150218 \nL 524.613625 672.635162 \n\" style=\"fill:none;stroke:#ff0000;stroke-width:1.5;\"/>\n    <path clip-path=\"url(#p25b078d5b9)\" d=\"M 535.773625 674.638125 \nL 535.773625 674.154694 \nL 540.237625 674.154694 \nL 540.237625 674.638125 \n\" style=\"fill:none;stroke:#ff0000;stroke-width:1.5;\"/>\n    <path clip-path=\"url(#p25b078d5b9)\" d=\"M 531.309625 674.638125 \nL 531.309625 671.656735 \nL 538.005625 671.656735 \nL 538.005625 674.154694 \n\" style=\"fill:none;stroke:#ff0000;stroke-width:1.5;\"/>\n    <path clip-path=\"url(#p25b078d5b9)\" d=\"M 544.701625 674.638125 \nL 544.701625 673.445965 \nL 549.165625 673.445965 \nL 549.165625 674.638125 \n\" style=\"fill:none;stroke:#ff0000;stroke-width:1.5;\"/>\n    <path clip-path=\"url(#p25b078d5b9)\" d=\"M 553.629625 674.638125 \nL 553.629625 673.835621 \nL 558.093625 673.835621 \nL 558.093625 674.638125 \n\" style=\"fill:none;stroke:#ff0000;stroke-width:1.5;\"/>\n    <path clip-path=\"url(#p25b078d5b9)\" d=\"M 562.557625 674.638125 \nL 562.557625 673.01723 \nL 567.021625 673.01723 \nL 567.021625 674.638125 \n\" style=\"fill:none;stroke:#ff0000;stroke-width:1.5;\"/>\n    <path clip-path=\"url(#p25b078d5b9)\" d=\"M 555.861625 673.835621 \nL 555.861625 672.419736 \nL 564.789625 672.419736 \nL 564.789625 673.01723 \n\" style=\"fill:none;stroke:#ff0000;stroke-width:1.5;\"/>\n    <path clip-path=\"url(#p25b078d5b9)\" d=\"M 546.933625 673.445965 \nL 546.933625 670.518254 \nL 560.325625 670.518254 \nL 560.325625 672.419736 \n\" style=\"fill:none;stroke:#ff0000;stroke-width:1.5;\"/>\n    <path clip-path=\"url(#p25b078d5b9)\" d=\"M 534.657625 671.656735 \nL 534.657625 665.643096 \nL 553.629625 665.643096 \nL 553.629625 670.518254 \n\" style=\"fill:none;stroke:#ff0000;stroke-width:1.5;\"/>\n    <path clip-path=\"url(#p25b078d5b9)\" d=\"M 521.265625 671.150218 \nL 521.265625 662.644628 \nL 544.143625 662.644628 \nL 544.143625 665.643096 \n\" style=\"fill:none;stroke:#ff0000;stroke-width:1.5;\"/>\n    <path clip-path=\"url(#p25b078d5b9)\" d=\"M 492.807625 668.747475 \nL 492.807625 656.337748 \nL 532.704625 656.337748 \nL 532.704625 662.644628 \n\" style=\"fill:none;stroke:#ff0000;stroke-width:1.5;\"/>\n    <path clip-path=\"url(#p25b078d5b9)\" d=\"M 571.485625 674.638125 \nL 571.485625 674.220437 \nL 575.949625 674.220437 \nL 575.949625 674.638125 \n\" style=\"fill:none;stroke:#ff0000;stroke-width:1.5;\"/>\n    <path clip-path=\"url(#p25b078d5b9)\" d=\"M 589.341625 674.638125 \nL 589.341625 674.393208 \nL 593.805625 674.393208 \nL 593.805625 674.638125 \n\" style=\"fill:none;stroke:#ff0000;stroke-width:1.5;\"/>\n    <path clip-path=\"url(#p25b078d5b9)\" d=\"M 584.877625 674.638125 \nL 584.877625 674.043304 \nL 591.573625 674.043304 \nL 591.573625 674.393208 \n\" style=\"fill:none;stroke:#ff0000;stroke-width:1.5;\"/>\n    <path clip-path=\"url(#p25b078d5b9)\" d=\"M 580.413625 674.638125 \nL 580.413625 673.194213 \nL 588.225625 673.194213 \nL 588.225625 674.043304 \n\" style=\"fill:none;stroke:#ff0000;stroke-width:1.5;\"/>\n    <path clip-path=\"url(#p25b078d5b9)\" d=\"M 573.717625 674.220437 \nL 573.717625 672.30622 \nL 584.319625 672.30622 \nL 584.319625 673.194213 \n\" style=\"fill:none;stroke:#ff0000;stroke-width:1.5;\"/>\n    <path clip-path=\"url(#p25b078d5b9)\" d=\"M 602.733625 674.638125 \nL 602.733625 673.882319 \nL 607.197625 673.882319 \nL 607.197625 674.638125 \n\" style=\"fill:none;stroke:#ff0000;stroke-width:1.5;\"/>\n    <path clip-path=\"url(#p25b078d5b9)\" d=\"M 598.269625 674.638125 \nL 598.269625 673.172217 \nL 604.965625 673.172217 \nL 604.965625 673.882319 \n\" style=\"fill:none;stroke:#ff0000;stroke-width:1.5;\"/>\n    <path clip-path=\"url(#p25b078d5b9)\" d=\"M 611.661625 674.638125 \nL 611.661625 674.37817 \nL 616.125625 674.37817 \nL 616.125625 674.638125 \n\" style=\"fill:none;stroke:#ff0000;stroke-width:1.5;\"/>\n    <path clip-path=\"url(#p25b078d5b9)\" d=\"M 625.053625 674.638125 \nL 625.053625 674.244254 \nL 629.517625 674.244254 \nL 629.517625 674.638125 \n\" style=\"fill:none;stroke:#ff0000;stroke-width:1.5;\"/>\n    <path clip-path=\"url(#p25b078d5b9)\" d=\"M 620.589625 674.638125 \nL 620.589625 674.025032 \nL 627.285625 674.025032 \nL 627.285625 674.244254 \n\" style=\"fill:none;stroke:#ff0000;stroke-width:1.5;\"/>\n    <path clip-path=\"url(#p25b078d5b9)\" d=\"M 613.893625 674.37817 \nL 613.893625 673.052513 \nL 623.937625 673.052513 \nL 623.937625 674.025032 \n\" style=\"fill:none;stroke:#ff0000;stroke-width:1.5;\"/>\n    <path clip-path=\"url(#p25b078d5b9)\" d=\"M 601.617625 673.172217 \nL 601.617625 669.481868 \nL 618.915625 669.481868 \nL 618.915625 673.052513 \n\" style=\"fill:none;stroke:#ff0000;stroke-width:1.5;\"/>\n    <path clip-path=\"url(#p25b078d5b9)\" d=\"M 579.018625 672.30622 \nL 579.018625 666.077313 \nL 610.266625 666.077313 \nL 610.266625 669.481868 \n\" style=\"fill:none;stroke:#ff0000;stroke-width:1.5;\"/>\n    <path clip-path=\"url(#p25b078d5b9)\" d=\"M 633.981625 674.638125 \nL 633.981625 672.122505 \nL 638.445625 672.122505 \nL 638.445625 674.638125 \n\" style=\"fill:none;stroke:#ff0000;stroke-width:1.5;\"/>\n    <path clip-path=\"url(#p25b078d5b9)\" d=\"M 647.373625 674.638125 \nL 647.373625 674.495069 \nL 651.837625 674.495069 \nL 651.837625 674.638125 \n\" style=\"fill:none;stroke:#ff0000;stroke-width:1.5;\"/>\n    <path clip-path=\"url(#p25b078d5b9)\" d=\"M 642.909625 674.638125 \nL 642.909625 673.82454 \nL 649.605625 673.82454 \nL 649.605625 674.495069 \n\" style=\"fill:none;stroke:#ff0000;stroke-width:1.5;\"/>\n    <path clip-path=\"url(#p25b078d5b9)\" d=\"M 656.301625 674.638125 \nL 656.301625 673.878251 \nL 660.765625 673.878251 \nL 660.765625 674.638125 \n\" style=\"fill:none;stroke:#ff0000;stroke-width:1.5;\"/>\n    <path clip-path=\"url(#p25b078d5b9)\" d=\"M 665.229625 674.638125 \nL 665.229625 673.735202 \nL 669.693625 673.735202 \nL 669.693625 674.638125 \n\" style=\"fill:none;stroke:#ff0000;stroke-width:1.5;\"/>\n    <path clip-path=\"url(#p25b078d5b9)\" d=\"M 658.533625 673.878251 \nL 658.533625 672.468755 \nL 667.461625 672.468755 \nL 667.461625 673.735202 \n\" style=\"fill:none;stroke:#ff0000;stroke-width:1.5;\"/>\n    <path clip-path=\"url(#p25b078d5b9)\" d=\"M 646.257625 673.82454 \nL 646.257625 671.072754 \nL 662.997625 671.072754 \nL 662.997625 672.468755 \n\" style=\"fill:none;stroke:#ff0000;stroke-width:1.5;\"/>\n    <path clip-path=\"url(#p25b078d5b9)\" d=\"M 636.213625 672.122505 \nL 636.213625 669.152543 \nL 654.627625 669.152543 \nL 654.627625 671.072754 \n\" style=\"fill:none;stroke:#ff0000;stroke-width:1.5;\"/>\n    <path clip-path=\"url(#p25b078d5b9)\" d=\"M 683.085625 674.638125 \nL 683.085625 673.719666 \nL 687.549625 673.719666 \nL 687.549625 674.638125 \n\" style=\"fill:none;stroke:#ff0000;stroke-width:1.5;\"/>\n    <path clip-path=\"url(#p25b078d5b9)\" d=\"M 678.621625 674.638125 \nL 678.621625 672.951239 \nL 685.317625 672.951239 \nL 685.317625 673.719666 \n\" style=\"fill:none;stroke:#ff0000;stroke-width:1.5;\"/>\n    <path clip-path=\"url(#p25b078d5b9)\" d=\"M 674.157625 674.638125 \nL 674.157625 672.798235 \nL 681.969625 672.798235 \nL 681.969625 672.951239 \n\" style=\"fill:none;stroke:#ff0000;stroke-width:1.5;\"/>\n    <path clip-path=\"url(#p25b078d5b9)\" d=\"M 696.477625 674.638125 \nL 696.477625 673.254549 \nL 700.941625 673.254549 \nL 700.941625 674.638125 \n\" style=\"fill:none;stroke:#ff0000;stroke-width:1.5;\"/>\n    <path clip-path=\"url(#p25b078d5b9)\" d=\"M 692.013625 674.638125 \nL 692.013625 672.432038 \nL 698.709625 672.432038 \nL 698.709625 673.254549 \n\" style=\"fill:none;stroke:#ff0000;stroke-width:1.5;\"/>\n    <path clip-path=\"url(#p25b078d5b9)\" d=\"M 709.869625 674.638125 \nL 709.869625 673.633872 \nL 714.333625 673.633872 \nL 714.333625 674.638125 \n\" style=\"fill:none;stroke:#ff0000;stroke-width:1.5;\"/>\n    <path clip-path=\"url(#p25b078d5b9)\" d=\"M 705.405625 674.638125 \nL 705.405625 671.504553 \nL 712.101625 671.504553 \nL 712.101625 673.633872 \n\" style=\"fill:none;stroke:#ff0000;stroke-width:1.5;\"/>\n    <path clip-path=\"url(#p25b078d5b9)\" d=\"M 695.361625 672.432038 \nL 695.361625 668.882548 \nL 708.753625 668.882548 \nL 708.753625 671.504553 \n\" style=\"fill:none;stroke:#ff0000;stroke-width:1.5;\"/>\n    <path clip-path=\"url(#p25b078d5b9)\" d=\"M 678.063625 672.798235 \nL 678.063625 668.017384 \nL 702.057625 668.017384 \nL 702.057625 668.882548 \n\" style=\"fill:none;stroke:#ff0000;stroke-width:1.5;\"/>\n    <path clip-path=\"url(#p25b078d5b9)\" d=\"M 645.420625 669.152543 \nL 645.420625 657.221066 \nL 690.060625 657.221066 \nL 690.060625 668.017384 \n\" style=\"fill:none;stroke:#ff0000;stroke-width:1.5;\"/>\n    <path clip-path=\"url(#p25b078d5b9)\" d=\"M 594.642625 666.077313 \nL 594.642625 652.426634 \nL 667.740625 652.426634 \nL 667.740625 657.221066 \n\" style=\"fill:none;stroke:#ff0000;stroke-width:1.5;\"/>\n    <path clip-path=\"url(#p25b078d5b9)\" d=\"M 512.756125 656.337748 \nL 512.756125 631.81037 \nL 631.191625 631.81037 \nL 631.191625 652.426634 \n\" style=\"fill:none;stroke:#ff0000;stroke-width:1.5;\"/>\n    <path clip-path=\"url(#p25b078d5b9)\" d=\"M 414.583 647.520316 \nL 414.583 622.5469 \nL 571.973875 622.5469 \nL 571.973875 631.81037 \n\" style=\"fill:none;stroke:#ff0000;stroke-width:1.5;\"/>\n    <path clip-path=\"url(#p25b078d5b9)\" d=\"M 309.4 640.712271 \nL 309.4 594.953947 \nL 493.278437 594.953947 \nL 493.278437 622.5469 \n\" style=\"fill:none;stroke:#ff0000;stroke-width:1.5;\"/>\n   </g>\n   <g id=\"LineCollection_3\">\n    <path clip-path=\"url(#p25b078d5b9)\" d=\"M 155.862813 615.654597 \nL 155.862813 53.380982 \nL 401.339219 53.380982 \nL 401.339219 594.953947 \n\" style=\"fill:none;stroke:#0000ff;stroke-width:1.5;\"/>\n   </g>\n   <g id=\"patch_3\">\n    <path d=\"M 46.965625 674.638125 \nL 46.965625 22.318125 \n\" style=\"fill:none;stroke:#000000;stroke-linecap:square;stroke-linejoin:miter;stroke-width:0.8;\"/>\n   </g>\n   <g id=\"patch_4\">\n    <path d=\"M 716.565625 674.638125 \nL 716.565625 22.318125 \n\" style=\"fill:none;stroke:#000000;stroke-linecap:square;stroke-linejoin:miter;stroke-width:0.8;\"/>\n   </g>\n   <g id=\"patch_5\">\n    <path d=\"M 46.965625 674.638125 \nL 716.565625 674.638125 \n\" style=\"fill:none;stroke:#000000;stroke-linecap:square;stroke-linejoin:miter;stroke-width:0.8;\"/>\n   </g>\n   <g id=\"patch_6\">\n    <path d=\"M 46.965625 22.318125 \nL 716.565625 22.318125 \n\" style=\"fill:none;stroke:#000000;stroke-linecap:square;stroke-linejoin:miter;stroke-width:0.8;\"/>\n   </g>\n   <g id=\"text_161\">\n    <!-- Dendrogram -->\n    <defs>\n     <path d=\"M 19.671875 64.796875 \nL 19.671875 8.109375 \nL 31.59375 8.109375 \nQ 46.6875 8.109375 53.6875 14.9375 \nQ 60.6875 21.78125 60.6875 36.53125 \nQ 60.6875 51.171875 53.6875 57.984375 \nQ 46.6875 64.796875 31.59375 64.796875 \nz\nM 9.8125 72.90625 \nL 30.078125 72.90625 \nQ 51.265625 72.90625 61.171875 64.09375 \nQ 71.09375 55.28125 71.09375 36.53125 \nQ 71.09375 17.671875 61.125 8.828125 \nQ 51.171875 0 30.078125 0 \nL 9.8125 0 \nz\n\" id=\"DejaVuSans-68\"/>\n     <path d=\"M 41.109375 46.296875 \nQ 39.59375 47.171875 37.8125 47.578125 \nQ 36.03125 48 33.890625 48 \nQ 26.265625 48 22.1875 43.046875 \nQ 18.109375 38.09375 18.109375 28.8125 \nL 18.109375 0 \nL 9.078125 0 \nL 9.078125 54.6875 \nL 18.109375 54.6875 \nL 18.109375 46.1875 \nQ 20.953125 51.171875 25.484375 53.578125 \nQ 30.03125 56 36.53125 56 \nQ 37.453125 56 38.578125 55.875 \nQ 39.703125 55.765625 41.0625 55.515625 \nz\n\" id=\"DejaVuSans-114\"/>\n     <path d=\"M 30.609375 48.390625 \nQ 23.390625 48.390625 19.1875 42.75 \nQ 14.984375 37.109375 14.984375 27.296875 \nQ 14.984375 17.484375 19.15625 11.84375 \nQ 23.34375 6.203125 30.609375 6.203125 \nQ 37.796875 6.203125 41.984375 11.859375 \nQ 46.1875 17.53125 46.1875 27.296875 \nQ 46.1875 37.015625 41.984375 42.703125 \nQ 37.796875 48.390625 30.609375 48.390625 \nz\nM 30.609375 56 \nQ 42.328125 56 49.015625 48.375 \nQ 55.71875 40.765625 55.71875 27.296875 \nQ 55.71875 13.875 49.015625 6.21875 \nQ 42.328125 -1.421875 30.609375 -1.421875 \nQ 18.84375 -1.421875 12.171875 6.21875 \nQ 5.515625 13.875 5.515625 27.296875 \nQ 5.515625 40.765625 12.171875 48.375 \nQ 18.84375 56 30.609375 56 \nz\n\" id=\"DejaVuSans-111\"/>\n     <path d=\"M 45.40625 27.984375 \nQ 45.40625 37.75 41.375 43.109375 \nQ 37.359375 48.484375 30.078125 48.484375 \nQ 22.859375 48.484375 18.828125 43.109375 \nQ 14.796875 37.75 14.796875 27.984375 \nQ 14.796875 18.265625 18.828125 12.890625 \nQ 22.859375 7.515625 30.078125 7.515625 \nQ 37.359375 7.515625 41.375 12.890625 \nQ 45.40625 18.265625 45.40625 27.984375 \nz\nM 54.390625 6.78125 \nQ 54.390625 -7.171875 48.1875 -13.984375 \nQ 42 -20.796875 29.203125 -20.796875 \nQ 24.46875 -20.796875 20.265625 -20.09375 \nQ 16.0625 -19.390625 12.109375 -17.921875 \nL 12.109375 -9.1875 \nQ 16.0625 -11.328125 19.921875 -12.34375 \nQ 23.78125 -13.375 27.78125 -13.375 \nQ 36.625 -13.375 41.015625 -8.765625 \nQ 45.40625 -4.15625 45.40625 5.171875 \nL 45.40625 9.625 \nQ 42.625 4.78125 38.28125 2.390625 \nQ 33.9375 0 27.875 0 \nQ 17.828125 0 11.671875 7.65625 \nQ 5.515625 15.328125 5.515625 27.984375 \nQ 5.515625 40.671875 11.671875 48.328125 \nQ 17.828125 56 27.875 56 \nQ 33.9375 56 38.28125 53.609375 \nQ 42.625 51.21875 45.40625 46.390625 \nL 45.40625 54.6875 \nL 54.390625 54.6875 \nz\n\" id=\"DejaVuSans-103\"/>\n     <path d=\"M 52 44.1875 \nQ 55.375 50.25 60.0625 53.125 \nQ 64.75 56 71.09375 56 \nQ 79.640625 56 84.28125 50.015625 \nQ 88.921875 44.046875 88.921875 33.015625 \nL 88.921875 0 \nL 79.890625 0 \nL 79.890625 32.71875 \nQ 79.890625 40.578125 77.09375 44.375 \nQ 74.3125 48.1875 68.609375 48.1875 \nQ 61.625 48.1875 57.5625 43.546875 \nQ 53.515625 38.921875 53.515625 30.90625 \nL 53.515625 0 \nL 44.484375 0 \nL 44.484375 32.71875 \nQ 44.484375 40.625 41.703125 44.40625 \nQ 38.921875 48.1875 33.109375 48.1875 \nQ 26.21875 48.1875 22.15625 43.53125 \nQ 18.109375 38.875 18.109375 30.90625 \nL 18.109375 0 \nL 9.078125 0 \nL 9.078125 54.6875 \nL 18.109375 54.6875 \nL 18.109375 46.1875 \nQ 21.1875 51.21875 25.484375 53.609375 \nQ 29.78125 56 35.6875 56 \nQ 41.65625 56 45.828125 52.96875 \nQ 50 49.953125 52 44.1875 \nz\n\" id=\"DejaVuSans-109\"/>\n    </defs>\n    <g transform=\"translate(344.0425 16.318125)scale(0.12 -0.12)\">\n     <use xlink:href=\"#DejaVuSans-68\"/>\n     <use x=\"77.001953\" xlink:href=\"#DejaVuSans-101\"/>\n     <use x=\"138.525391\" xlink:href=\"#DejaVuSans-110\"/>\n     <use x=\"201.904297\" xlink:href=\"#DejaVuSans-100\"/>\n     <use x=\"265.380859\" xlink:href=\"#DejaVuSans-114\"/>\n     <use x=\"304.244141\" xlink:href=\"#DejaVuSans-111\"/>\n     <use x=\"365.425781\" xlink:href=\"#DejaVuSans-103\"/>\n     <use x=\"428.902344\" xlink:href=\"#DejaVuSans-114\"/>\n     <use x=\"470.015625\" xlink:href=\"#DejaVuSans-97\"/>\n     <use x=\"531.294922\" xlink:href=\"#DejaVuSans-109\"/>\n    </g>\n   </g>\n  </g>\n </g>\n <defs>\n  <clipPath id=\"p25b078d5b9\">\n   <rect height=\"652.32\" width=\"669.6\" x=\"46.965625\" y=\"22.318125\"/>\n  </clipPath>\n </defs>\n</svg>\n"
          },
          "metadata": {
            "tags": [],
            "needs_background": "light"
          }
        }
      ]
    },
    {
      "cell_type": "markdown",
      "metadata": {
        "id": "ZY_LJ-ZoDtqQ",
        "colab_type": "text"
      },
      "source": [
        "\n",
        "\n",
        "## Ejemplo: Cluster Analysis and Segmentation"
      ]
    },
    {
      "cell_type": "markdown",
      "metadata": {
        "id": "dNTBGqTtDtqS",
        "colab_type": "text"
      },
      "source": [
        "\n",
        "\n",
        "En este ejemplo discutimos el proceso de clustering y segmentación usando un dataset sencillo, que describe las actitudes de las personas al comprar en centros comerciales. \n",
        "\n",
        "Supongamos que la gerencia de un gran centro comercial desea conocer que tipos de clientes que visitan o pueden visitar el centro comercial. Según su experiencia existen diferentes segmentos de mercado y les gustaría diseñar y posicionar mejor los servicios del centro comercial con el objetivo de atraer a los segmentos más rentables, o diferenciar la oferta de sus servicios (i.e., invitaciones a eventos, descuentos, etc.) dependiendo del segmento de mercado. \n",
        "\n",
        "Para tomar estas decisiones la genrencia ejecuta un estudio de mercado en forma de encuesta a los clientes potenciales. En este caso es una se realiza la encuesta a una pequeña muestra, donde cada persona responde seis preguntas sobre cuestiones actitudinales, una pregunta sobre cuan a menudo visita el centro comercial, todas en una escala del 1-7, y una pregunta sobre los ingresos de la unidad familiar. Las preguntas son:\n",
        "\n",
        "|Indicador| Descripción|\n",
        "|---------|------------|\n",
        "|V1| El *shopping* es divertido (1-7)|\n",
        "|V2| El *shopping* es negativo para tu presupuesto (1-7)|\n",
        "|V3| Combino *shopping* con salir a comer fuera (1-7)|\n",
        "|V4| Intento aprovechar las ofertas (1-7)|\n",
        "|V5| No me interesa el *shopping* (1-7)|\n",
        "|V6| Se puede ahorrar mucho comparando precios (1-7)|\n",
        "|Income| ingresos familiares (en dolares)|\n",
        "|Mall.Visits| Frecuencia de visitas al centro comercial (1-7)|\n",
        "\n",
        "Para realizar el estudio vamos  seguir los siguientes pasos:\n",
        "\n",
        "1. Verificar la métrica de los datos.\n",
        "\n",
        "2. Decidir si es necesario reescalar los datos.\n",
        "\n",
        "3. Determinar cuales variables/atributos/features usar para el clustering.\n",
        "\n",
        "4. Definir una medida de similitud/disimilitud entre observaciones.\n",
        "\n",
        "5. Visualizar individualmente los atributos y las distancia entre pares de observaciones.\n",
        "\n",
        "6. Seleccionar el método de clustering y decidir el número de clusters.\n",
        "\n",
        "7. Perfilar e interpretar los clusters.\n",
        "\n",
        "8. Evaluar la robustez de los clusters obtenidos."
      ]
    },
    {
      "cell_type": "markdown",
      "metadata": {
        "id": "847JwVrNDtqS",
        "colab_type": "text"
      },
      "source": [
        "\n",
        "\n",
        "### a) Carga de los datos\n",
        "\n",
        "El dataset consiste en una tabla con cuarenta filas, una por cada cliente encuestado, y nueve columnas correspondientes a un identificador y a las ochos preguntas del estudio de mercado. Vamos a cargar el dataset desde el fichero `cust_data.csv`."
      ]
    },
    {
      "cell_type": "code",
      "metadata": {
        "id": "N38aF9pFEC4B",
        "colab_type": "code",
        "colab": {
          "base_uri": "https://localhost:8080/",
          "height": 34
        },
        "outputId": "b443bc31-852d-410d-83bf-f2f9e4671fec"
      },
      "source": [
        "from google.colab import drive\n",
        "drive.mount('/content/drive')"
      ],
      "execution_count": null,
      "outputs": [
        {
          "output_type": "stream",
          "text": [
            "Drive already mounted at /content/drive; to attempt to forcibly remount, call drive.mount(\"/content/drive\", force_remount=True).\n"
          ],
          "name": "stdout"
        }
      ]
    },
    {
      "cell_type": "code",
      "metadata": {
        "id": "-BUxKWKpDtqU",
        "colab_type": "code",
        "colab": {}
      },
      "source": [
        "import pandas as pd\n",
        "import numpy as np\n",
        "import matplotlib.pyplot as plt\n",
        "%matplotlib inline"
      ],
      "execution_count": null,
      "outputs": []
    },
    {
      "cell_type": "markdown",
      "metadata": {
        "id": "SzYLDlgbDtqV",
        "colab_type": "text"
      },
      "source": [
        "\n",
        "\n",
        "Carga de datos"
      ]
    },
    {
      "cell_type": "code",
      "metadata": {
        "id": "2r7I6LFyDtqW",
        "colab_type": "code",
        "colab": {}
      },
      "source": [
        "#raw_data = spark.read.csv(DATA_PATH+'cust_data.csv', sep=';', \n",
        "#                          header=True, inferSchema=True).toPandas().set_index('Variables')\n",
        "\n",
        "# Local read\n",
        "# raw_data = pd.read_csv('../../data/cust_data.csv', sep=';', index_col='Variables')\n",
        "#raw_data.head()"
      ],
      "execution_count": null,
      "outputs": []
    },
    {
      "cell_type": "code",
      "metadata": {
        "id": "OaZIEffxEOrC",
        "colab_type": "code",
        "colab": {
          "base_uri": "https://localhost:8080/",
          "height": 235
        },
        "outputId": "ee845354-cdf9-4057-8f1f-9a08cd594e70"
      },
      "source": [
        "raw_data = pd.read_csv('/content/drive/My Drive/Colab Notebooks/UADE/Diplomatura Ciencia de Datos/Material de Clases/Material Python/99_Datasets/cust_data.csv', sep=';', index_col='Variables')\n",
        "raw_data.head()"
      ],
      "execution_count": null,
      "outputs": [
        {
          "output_type": "execute_result",
          "data": {
            "text/html": [
              "<div>\n",
              "<style scoped>\n",
              "    .dataframe tbody tr th:only-of-type {\n",
              "        vertical-align: middle;\n",
              "    }\n",
              "\n",
              "    .dataframe tbody tr th {\n",
              "        vertical-align: top;\n",
              "    }\n",
              "\n",
              "    .dataframe thead th {\n",
              "        text-align: right;\n",
              "    }\n",
              "</style>\n",
              "<table border=\"1\" class=\"dataframe\">\n",
              "  <thead>\n",
              "    <tr style=\"text-align: right;\">\n",
              "      <th></th>\n",
              "      <th>ID</th>\n",
              "      <th>V1</th>\n",
              "      <th>V2</th>\n",
              "      <th>V3</th>\n",
              "      <th>V4</th>\n",
              "      <th>V5</th>\n",
              "      <th>V6</th>\n",
              "      <th>Income</th>\n",
              "      <th>Mall.Visits</th>\n",
              "    </tr>\n",
              "    <tr>\n",
              "      <th>Variables</th>\n",
              "      <th></th>\n",
              "      <th></th>\n",
              "      <th></th>\n",
              "      <th></th>\n",
              "      <th></th>\n",
              "      <th></th>\n",
              "      <th></th>\n",
              "      <th></th>\n",
              "      <th></th>\n",
              "    </tr>\n",
              "  </thead>\n",
              "  <tbody>\n",
              "    <tr>\n",
              "      <th>1</th>\n",
              "      <td>1</td>\n",
              "      <td>6</td>\n",
              "      <td>4</td>\n",
              "      <td>7</td>\n",
              "      <td>3</td>\n",
              "      <td>2</td>\n",
              "      <td>3</td>\n",
              "      <td>60.0</td>\n",
              "      <td>3</td>\n",
              "    </tr>\n",
              "    <tr>\n",
              "      <th>2</th>\n",
              "      <td>2</td>\n",
              "      <td>2</td>\n",
              "      <td>3</td>\n",
              "      <td>1</td>\n",
              "      <td>4</td>\n",
              "      <td>5</td>\n",
              "      <td>4</td>\n",
              "      <td>30.0</td>\n",
              "      <td>1</td>\n",
              "    </tr>\n",
              "    <tr>\n",
              "      <th>3</th>\n",
              "      <td>3</td>\n",
              "      <td>7</td>\n",
              "      <td>2</td>\n",
              "      <td>6</td>\n",
              "      <td>4</td>\n",
              "      <td>1</td>\n",
              "      <td>3</td>\n",
              "      <td>70.0</td>\n",
              "      <td>3</td>\n",
              "    </tr>\n",
              "    <tr>\n",
              "      <th>4</th>\n",
              "      <td>4</td>\n",
              "      <td>4</td>\n",
              "      <td>6</td>\n",
              "      <td>4</td>\n",
              "      <td>5</td>\n",
              "      <td>3</td>\n",
              "      <td>6</td>\n",
              "      <td>30.0</td>\n",
              "      <td>7</td>\n",
              "    </tr>\n",
              "    <tr>\n",
              "      <th>5</th>\n",
              "      <td>5</td>\n",
              "      <td>1</td>\n",
              "      <td>3</td>\n",
              "      <td>2</td>\n",
              "      <td>2</td>\n",
              "      <td>6</td>\n",
              "      <td>4</td>\n",
              "      <td>60.0</td>\n",
              "      <td>1</td>\n",
              "    </tr>\n",
              "  </tbody>\n",
              "</table>\n",
              "</div>"
            ],
            "text/plain": [
              "           ID  V1  V2  V3  V4  V5  V6  Income  Mall.Visits\n",
              "Variables                                                 \n",
              "1           1   6   4   7   3   2   3    60.0            3\n",
              "2           2   2   3   1   4   5   4    30.0            1\n",
              "3           3   7   2   6   4   1   3    70.0            3\n",
              "4           4   4   6   4   5   3   6    30.0            7\n",
              "5           5   1   3   2   2   6   4    60.0            1"
            ]
          },
          "metadata": {
            "tags": []
          },
          "execution_count": 10
        }
      ]
    },
    {
      "cell_type": "markdown",
      "metadata": {
        "id": "TRn8PnnkDtqY",
        "colab_type": "text"
      },
      "source": [
        "\n",
        "\n",
        "Antes de continuar el análisis vamos a corregir la escala de la variable `Income`."
      ]
    },
    {
      "cell_type": "code",
      "metadata": {
        "id": "dBAMhqUsDtqY",
        "colab_type": "code",
        "colab": {
          "base_uri": "https://localhost:8080/",
          "height": 235
        },
        "outputId": "89244f37-21c7-46dd-806a-0e4ebdb66482"
      },
      "source": [
        "raw_data[u'Income'] = raw_data[u'Income'].apply(lambda x: x * 1000)\n",
        "raw_data.head()"
      ],
      "execution_count": null,
      "outputs": [
        {
          "output_type": "execute_result",
          "data": {
            "text/html": [
              "<div>\n",
              "<style scoped>\n",
              "    .dataframe tbody tr th:only-of-type {\n",
              "        vertical-align: middle;\n",
              "    }\n",
              "\n",
              "    .dataframe tbody tr th {\n",
              "        vertical-align: top;\n",
              "    }\n",
              "\n",
              "    .dataframe thead th {\n",
              "        text-align: right;\n",
              "    }\n",
              "</style>\n",
              "<table border=\"1\" class=\"dataframe\">\n",
              "  <thead>\n",
              "    <tr style=\"text-align: right;\">\n",
              "      <th></th>\n",
              "      <th>ID</th>\n",
              "      <th>V1</th>\n",
              "      <th>V2</th>\n",
              "      <th>V3</th>\n",
              "      <th>V4</th>\n",
              "      <th>V5</th>\n",
              "      <th>V6</th>\n",
              "      <th>Income</th>\n",
              "      <th>Mall.Visits</th>\n",
              "    </tr>\n",
              "    <tr>\n",
              "      <th>Variables</th>\n",
              "      <th></th>\n",
              "      <th></th>\n",
              "      <th></th>\n",
              "      <th></th>\n",
              "      <th></th>\n",
              "      <th></th>\n",
              "      <th></th>\n",
              "      <th></th>\n",
              "      <th></th>\n",
              "    </tr>\n",
              "  </thead>\n",
              "  <tbody>\n",
              "    <tr>\n",
              "      <th>1</th>\n",
              "      <td>1</td>\n",
              "      <td>6</td>\n",
              "      <td>4</td>\n",
              "      <td>7</td>\n",
              "      <td>3</td>\n",
              "      <td>2</td>\n",
              "      <td>3</td>\n",
              "      <td>60000.0</td>\n",
              "      <td>3</td>\n",
              "    </tr>\n",
              "    <tr>\n",
              "      <th>2</th>\n",
              "      <td>2</td>\n",
              "      <td>2</td>\n",
              "      <td>3</td>\n",
              "      <td>1</td>\n",
              "      <td>4</td>\n",
              "      <td>5</td>\n",
              "      <td>4</td>\n",
              "      <td>30000.0</td>\n",
              "      <td>1</td>\n",
              "    </tr>\n",
              "    <tr>\n",
              "      <th>3</th>\n",
              "      <td>3</td>\n",
              "      <td>7</td>\n",
              "      <td>2</td>\n",
              "      <td>6</td>\n",
              "      <td>4</td>\n",
              "      <td>1</td>\n",
              "      <td>3</td>\n",
              "      <td>70000.0</td>\n",
              "      <td>3</td>\n",
              "    </tr>\n",
              "    <tr>\n",
              "      <th>4</th>\n",
              "      <td>4</td>\n",
              "      <td>4</td>\n",
              "      <td>6</td>\n",
              "      <td>4</td>\n",
              "      <td>5</td>\n",
              "      <td>3</td>\n",
              "      <td>6</td>\n",
              "      <td>30000.0</td>\n",
              "      <td>7</td>\n",
              "    </tr>\n",
              "    <tr>\n",
              "      <th>5</th>\n",
              "      <td>5</td>\n",
              "      <td>1</td>\n",
              "      <td>3</td>\n",
              "      <td>2</td>\n",
              "      <td>2</td>\n",
              "      <td>6</td>\n",
              "      <td>4</td>\n",
              "      <td>60000.0</td>\n",
              "      <td>1</td>\n",
              "    </tr>\n",
              "  </tbody>\n",
              "</table>\n",
              "</div>"
            ],
            "text/plain": [
              "           ID  V1  V2  V3  V4  V5  V6   Income  Mall.Visits\n",
              "Variables                                                  \n",
              "1           1   6   4   7   3   2   3  60000.0            3\n",
              "2           2   2   3   1   4   5   4  30000.0            1\n",
              "3           3   7   2   6   4   1   3  70000.0            3\n",
              "4           4   4   6   4   5   3   6  30000.0            7\n",
              "5           5   1   3   2   2   6   4  60000.0            1"
            ]
          },
          "metadata": {
            "tags": []
          },
          "execution_count": 11
        }
      ]
    },
    {
      "cell_type": "markdown",
      "metadata": {
        "id": "ife7W1zaDtqa",
        "colab_type": "text"
      },
      "source": [
        "\n",
        "\n",
        "Los métodos estadísticos de clustering requieren que los datos posean una métrica definida, es decir que sus valores sean cuantitativos, y por lo tanto valores numéricos definidos en un espacio métrico. Es decir, estos métodos utilizan una noción de distancia que les permite discriminar si dos observaciones son parecidas y diferentes entre si. Un ejemplo común de esta distancia es la distacia Euclídea.\n",
        "\n",
        "Por lo tanto antes de continuar el análisis es necesario verificar que nuestros datos cumplen con los anteriores requisitos. Al inspeccionar los datos en nuestro dataset y el diseño del estudio de mercado podemos fácilmente confirmar que todos los campos son numéricos y poseen una métrica definida."
      ]
    },
    {
      "cell_type": "markdown",
      "metadata": {
        "id": "AniWri-4Dtqa",
        "colab_type": "text"
      },
      "source": [
        "\n",
        "\n",
        "### b) Análisis exploratorio de los datos\n",
        "\n",
        "Una etapa importante de un proyecto analítico es el análisi exploratorio de los datos. Esta etapa noos permite obtener concimientos valiosos sobre nuestros datos que nos permiten enriquecer las etapas posteriores del análisis. En general, esta etapa consiste en utilizar herramientas estadísticas descriptivas y gráficas para resumir y visualizar los datos."
      ]
    },
    {
      "cell_type": "markdown",
      "metadata": {
        "id": "ym8yewqXDtqb",
        "colab_type": "text"
      },
      "source": [
        "\n",
        "\n",
        "Estadística descriptiva de los datos"
      ]
    },
    {
      "cell_type": "code",
      "metadata": {
        "id": "bAKyg6k3Dtqb",
        "colab_type": "code",
        "colab": {
          "base_uri": "https://localhost:8080/",
          "height": 328
        },
        "outputId": "0fd91eff-4e1a-4ec5-d4f0-d318ec414f87"
      },
      "source": [
        "stats = pd.DataFrame({'Variables': raw_data.columns.values.tolist(),\n",
        "                      'min': raw_data.apply(np.min, axis=0),\n",
        "                      'X25.percent': raw_data.apply(np.percentile, args=(25,), axis=0),\n",
        "                      'median': raw_data.apply(np.median, axis=0),\n",
        "                      'mean': raw_data.apply(np.mean, axis=0),\n",
        "                      'X75.percent': raw_data.apply(np.percentile, args=(75,), axis=0),\n",
        "                      'max': raw_data.apply(np.max, axis=0),\n",
        "                      'std': raw_data.apply(np.std, axis=0)})\n",
        "stats"
      ],
      "execution_count": null,
      "outputs": [
        {
          "output_type": "execute_result",
          "data": {
            "text/html": [
              "<div>\n",
              "<style scoped>\n",
              "    .dataframe tbody tr th:only-of-type {\n",
              "        vertical-align: middle;\n",
              "    }\n",
              "\n",
              "    .dataframe tbody tr th {\n",
              "        vertical-align: top;\n",
              "    }\n",
              "\n",
              "    .dataframe thead th {\n",
              "        text-align: right;\n",
              "    }\n",
              "</style>\n",
              "<table border=\"1\" class=\"dataframe\">\n",
              "  <thead>\n",
              "    <tr style=\"text-align: right;\">\n",
              "      <th></th>\n",
              "      <th>Variables</th>\n",
              "      <th>min</th>\n",
              "      <th>X25.percent</th>\n",
              "      <th>median</th>\n",
              "      <th>mean</th>\n",
              "      <th>X75.percent</th>\n",
              "      <th>max</th>\n",
              "      <th>std</th>\n",
              "    </tr>\n",
              "  </thead>\n",
              "  <tbody>\n",
              "    <tr>\n",
              "      <th>ID</th>\n",
              "      <td>ID</td>\n",
              "      <td>1.0</td>\n",
              "      <td>10.75</td>\n",
              "      <td>20.5</td>\n",
              "      <td>20.50</td>\n",
              "      <td>30.25</td>\n",
              "      <td>40.0</td>\n",
              "      <td>11.543396</td>\n",
              "    </tr>\n",
              "    <tr>\n",
              "      <th>V1</th>\n",
              "      <td>V1</td>\n",
              "      <td>1.0</td>\n",
              "      <td>2.00</td>\n",
              "      <td>4.0</td>\n",
              "      <td>3.85</td>\n",
              "      <td>5.25</td>\n",
              "      <td>7.0</td>\n",
              "      <td>1.851351</td>\n",
              "    </tr>\n",
              "    <tr>\n",
              "      <th>V2</th>\n",
              "      <td>V2</td>\n",
              "      <td>2.0</td>\n",
              "      <td>3.00</td>\n",
              "      <td>4.0</td>\n",
              "      <td>4.10</td>\n",
              "      <td>5.00</td>\n",
              "      <td>7.0</td>\n",
              "      <td>1.374773</td>\n",
              "    </tr>\n",
              "    <tr>\n",
              "      <th>V3</th>\n",
              "      <td>V3</td>\n",
              "      <td>1.0</td>\n",
              "      <td>2.00</td>\n",
              "      <td>4.0</td>\n",
              "      <td>3.95</td>\n",
              "      <td>6.00</td>\n",
              "      <td>7.0</td>\n",
              "      <td>1.961505</td>\n",
              "    </tr>\n",
              "    <tr>\n",
              "      <th>V4</th>\n",
              "      <td>V4</td>\n",
              "      <td>2.0</td>\n",
              "      <td>3.00</td>\n",
              "      <td>4.0</td>\n",
              "      <td>4.10</td>\n",
              "      <td>5.25</td>\n",
              "      <td>7.0</td>\n",
              "      <td>1.479865</td>\n",
              "    </tr>\n",
              "    <tr>\n",
              "      <th>V5</th>\n",
              "      <td>V5</td>\n",
              "      <td>1.0</td>\n",
              "      <td>2.00</td>\n",
              "      <td>3.5</td>\n",
              "      <td>3.45</td>\n",
              "      <td>4.25</td>\n",
              "      <td>7.0</td>\n",
              "      <td>1.716828</td>\n",
              "    </tr>\n",
              "    <tr>\n",
              "      <th>V6</th>\n",
              "      <td>V6</td>\n",
              "      <td>2.0</td>\n",
              "      <td>3.00</td>\n",
              "      <td>4.0</td>\n",
              "      <td>4.35</td>\n",
              "      <td>5.25</td>\n",
              "      <td>7.0</td>\n",
              "      <td>1.458595</td>\n",
              "    </tr>\n",
              "    <tr>\n",
              "      <th>Income</th>\n",
              "      <td>Income</td>\n",
              "      <td>25000.0</td>\n",
              "      <td>30000.00</td>\n",
              "      <td>42500.0</td>\n",
              "      <td>46000.00</td>\n",
              "      <td>60000.00</td>\n",
              "      <td>80000.0</td>\n",
              "      <td>17000.000000</td>\n",
              "    </tr>\n",
              "    <tr>\n",
              "      <th>Mall.Visits</th>\n",
              "      <td>Mall.Visits</td>\n",
              "      <td>0.0</td>\n",
              "      <td>2.00</td>\n",
              "      <td>3.0</td>\n",
              "      <td>3.25</td>\n",
              "      <td>4.25</td>\n",
              "      <td>7.0</td>\n",
              "      <td>1.920286</td>\n",
              "    </tr>\n",
              "  </tbody>\n",
              "</table>\n",
              "</div>"
            ],
            "text/plain": [
              "               Variables      min  ...      max           std\n",
              "ID                    ID      1.0  ...     40.0     11.543396\n",
              "V1                    V1      1.0  ...      7.0      1.851351\n",
              "V2                    V2      2.0  ...      7.0      1.374773\n",
              "V3                    V3      1.0  ...      7.0      1.961505\n",
              "V4                    V4      2.0  ...      7.0      1.479865\n",
              "V5                    V5      1.0  ...      7.0      1.716828\n",
              "V6                    V6      2.0  ...      7.0      1.458595\n",
              "Income            Income  25000.0  ...  80000.0  17000.000000\n",
              "Mall.Visits  Mall.Visits      0.0  ...      7.0      1.920286\n",
              "\n",
              "[9 rows x 8 columns]"
            ]
          },
          "metadata": {
            "tags": []
          },
          "execution_count": 12
        }
      ]
    },
    {
      "cell_type": "code",
      "metadata": {
        "id": "DhAe52zpDtqd",
        "colab_type": "code",
        "colab": {
          "base_uri": "https://localhost:8080/",
          "height": 955
        },
        "outputId": "eb8d71a1-eb09-4590-eb7e-6143a9d685c0"
      },
      "source": [
        "plt.style.use('ggplot')\n",
        "raw_data.loc[:,'V1':].hist(layout=(4,2), figsize = (12,12));"
      ],
      "execution_count": null,
      "outputs": [
        {
          "output_type": "display_data",
          "data": {
            "application/pdf": "[encoded data removed]",
            "text/plain": [
              "<Figure size 864x864 with 8 Axes>"
            ],
            "image/svg+xml": "<?xml version=\"1.0\" encoding=\"utf-8\" standalone=\"no\"?>\n<!DOCTYPE svg PUBLIC \"-//W3C//DTD SVG 1.1//EN\"\n  \"http://www.w3.org/Graphics/SVG/1.1/DTD/svg11.dtd\">\n<!-- Created with matplotlib (https://matplotlib.org/) -->\n<svg height=\"700.339875pt\" version=\"1.1\" viewBox=\"0 0 713.265625 700.339875\" width=\"713.265625pt\" xmlns=\"http://www.w3.org/2000/svg\" xmlns:xlink=\"http://www.w3.org/1999/xlink\">\n <defs>\n  <style type=\"text/css\">\n*{stroke-linecap:butt;stroke-linejoin:round;}\n  </style>\n </defs>\n <g id=\"figure_1\">\n  <g id=\"patch_1\">\n   <path d=\"M 0 700.339875 \nL 713.265625 700.339875 \nL 713.265625 -0 \nL 0 -0 \nz\n\" style=\"fill:#ffffff;\"/>\n  </g>\n  <g id=\"axes_1\">\n   <g id=\"patch_2\">\n    <path d=\"M 36.465625 157.268281 \nL 327.59606 157.268281 \nL 327.59606 24.14175 \nL 36.465625 24.14175 \nz\n\" style=\"fill:#e5e5e5;\"/>\n   </g>\n   <g id=\"matplotlib.axis_1\">\n    <g id=\"xtick_1\">\n     <g id=\"line2d_1\">\n      <path clip-path=\"url(#p3235b46c62)\" d=\"M 73.759193 157.268281 \nL 73.759193 24.14175 \n\" style=\"fill:none;stroke:#ffffff;stroke-linecap:square;stroke-width:0.8;\"/>\n     </g>\n     <g id=\"line2d_2\">\n      <defs>\n       <path d=\"M 0 0 \nL 0 3.5 \n\" id=\"m8508845eaf\" style=\"stroke:#555555;stroke-width:0.8;\"/>\n      </defs>\n      <g>\n       <use style=\"fill:#555555;stroke:#555555;stroke-width:0.8;\" x=\"73.759193\" xlink:href=\"#m8508845eaf\" y=\"157.268281\"/>\n      </g>\n     </g>\n     <g id=\"text_1\">\n      <!-- 30000 -->\n      <defs>\n       <path d=\"M 40.578125 39.3125 \nQ 47.65625 37.796875 51.625 33 \nQ 55.609375 28.21875 55.609375 21.1875 \nQ 55.609375 10.40625 48.1875 4.484375 \nQ 40.765625 -1.421875 27.09375 -1.421875 \nQ 22.515625 -1.421875 17.65625 -0.515625 \nQ 12.796875 0.390625 7.625 2.203125 \nL 7.625 11.71875 \nQ 11.71875 9.328125 16.59375 8.109375 \nQ 21.484375 6.890625 26.8125 6.890625 \nQ 36.078125 6.890625 40.9375 10.546875 \nQ 45.796875 14.203125 45.796875 21.1875 \nQ 45.796875 27.640625 41.28125 31.265625 \nQ 36.765625 34.90625 28.71875 34.90625 \nL 20.21875 34.90625 \nL 20.21875 43.015625 \nL 29.109375 43.015625 \nQ 36.375 43.015625 40.234375 45.921875 \nQ 44.09375 48.828125 44.09375 54.296875 \nQ 44.09375 59.90625 40.109375 62.90625 \nQ 36.140625 65.921875 28.71875 65.921875 \nQ 24.65625 65.921875 20.015625 65.03125 \nQ 15.375 64.15625 9.8125 62.3125 \nL 9.8125 71.09375 \nQ 15.4375 72.65625 20.34375 73.4375 \nQ 25.25 74.21875 29.59375 74.21875 \nQ 40.828125 74.21875 47.359375 69.109375 \nQ 53.90625 64.015625 53.90625 55.328125 \nQ 53.90625 49.265625 50.4375 45.09375 \nQ 46.96875 40.921875 40.578125 39.3125 \nz\n\" id=\"DejaVuSans-51\"/>\n       <path d=\"M 31.78125 66.40625 \nQ 24.171875 66.40625 20.328125 58.90625 \nQ 16.5 51.421875 16.5 36.375 \nQ 16.5 21.390625 20.328125 13.890625 \nQ 24.171875 6.390625 31.78125 6.390625 \nQ 39.453125 6.390625 43.28125 13.890625 \nQ 47.125 21.390625 47.125 36.375 \nQ 47.125 51.421875 43.28125 58.90625 \nQ 39.453125 66.40625 31.78125 66.40625 \nz\nM 31.78125 74.21875 \nQ 44.046875 74.21875 50.515625 64.515625 \nQ 56.984375 54.828125 56.984375 36.375 \nQ 56.984375 17.96875 50.515625 8.265625 \nQ 44.046875 -1.421875 31.78125 -1.421875 \nQ 19.53125 -1.421875 13.0625 8.265625 \nQ 6.59375 17.96875 6.59375 36.375 \nQ 6.59375 54.828125 13.0625 64.515625 \nQ 19.53125 74.21875 31.78125 74.21875 \nz\n\" id=\"DejaVuSans-48\"/>\n      </defs>\n      <g style=\"fill:#555555;\" transform=\"translate(57.852943 171.866718)scale(0.1 -0.1)\">\n       <use xlink:href=\"#DejaVuSans-51\"/>\n       <use x=\"63.623047\" xlink:href=\"#DejaVuSans-48\"/>\n       <use x=\"127.246094\" xlink:href=\"#DejaVuSans-48\"/>\n       <use x=\"190.869141\" xlink:href=\"#DejaVuSans-48\"/>\n       <use x=\"254.492188\" xlink:href=\"#DejaVuSans-48\"/>\n      </g>\n     </g>\n    </g>\n    <g id=\"xtick_2\">\n     <g id=\"line2d_3\">\n      <path clip-path=\"url(#p3235b46c62)\" d=\"M 121.879926 157.268281 \nL 121.879926 24.14175 \n\" style=\"fill:none;stroke:#ffffff;stroke-linecap:square;stroke-width:0.8;\"/>\n     </g>\n     <g id=\"line2d_4\">\n      <g>\n       <use style=\"fill:#555555;stroke:#555555;stroke-width:0.8;\" x=\"121.879926\" xlink:href=\"#m8508845eaf\" y=\"157.268281\"/>\n      </g>\n     </g>\n     <g id=\"text_2\">\n      <!-- 40000 -->\n      <defs>\n       <path d=\"M 37.796875 64.3125 \nL 12.890625 25.390625 \nL 37.796875 25.390625 \nz\nM 35.203125 72.90625 \nL 47.609375 72.90625 \nL 47.609375 25.390625 \nL 58.015625 25.390625 \nL 58.015625 17.1875 \nL 47.609375 17.1875 \nL 47.609375 0 \nL 37.796875 0 \nL 37.796875 17.1875 \nL 4.890625 17.1875 \nL 4.890625 26.703125 \nz\n\" id=\"DejaVuSans-52\"/>\n      </defs>\n      <g style=\"fill:#555555;\" transform=\"translate(105.973676 171.866718)scale(0.1 -0.1)\">\n       <use xlink:href=\"#DejaVuSans-52\"/>\n       <use x=\"63.623047\" xlink:href=\"#DejaVuSans-48\"/>\n       <use x=\"127.246094\" xlink:href=\"#DejaVuSans-48\"/>\n       <use x=\"190.869141\" xlink:href=\"#DejaVuSans-48\"/>\n       <use x=\"254.492188\" xlink:href=\"#DejaVuSans-48\"/>\n      </g>\n     </g>\n    </g>\n    <g id=\"xtick_3\">\n     <g id=\"line2d_5\">\n      <path clip-path=\"url(#p3235b46c62)\" d=\"M 170.000659 157.268281 \nL 170.000659 24.14175 \n\" style=\"fill:none;stroke:#ffffff;stroke-linecap:square;stroke-width:0.8;\"/>\n     </g>\n     <g id=\"line2d_6\">\n      <g>\n       <use style=\"fill:#555555;stroke:#555555;stroke-width:0.8;\" x=\"170.000659\" xlink:href=\"#m8508845eaf\" y=\"157.268281\"/>\n      </g>\n     </g>\n     <g id=\"text_3\">\n      <!-- 50000 -->\n      <defs>\n       <path d=\"M 10.796875 72.90625 \nL 49.515625 72.90625 \nL 49.515625 64.59375 \nL 19.828125 64.59375 \nL 19.828125 46.734375 \nQ 21.96875 47.46875 24.109375 47.828125 \nQ 26.265625 48.1875 28.421875 48.1875 \nQ 40.625 48.1875 47.75 41.5 \nQ 54.890625 34.8125 54.890625 23.390625 \nQ 54.890625 11.625 47.5625 5.09375 \nQ 40.234375 -1.421875 26.90625 -1.421875 \nQ 22.3125 -1.421875 17.546875 -0.640625 \nQ 12.796875 0.140625 7.71875 1.703125 \nL 7.71875 11.625 \nQ 12.109375 9.234375 16.796875 8.0625 \nQ 21.484375 6.890625 26.703125 6.890625 \nQ 35.15625 6.890625 40.078125 11.328125 \nQ 45.015625 15.765625 45.015625 23.390625 \nQ 45.015625 31 40.078125 35.4375 \nQ 35.15625 39.890625 26.703125 39.890625 \nQ 22.75 39.890625 18.8125 39.015625 \nQ 14.890625 38.140625 10.796875 36.28125 \nz\n\" id=\"DejaVuSans-53\"/>\n      </defs>\n      <g style=\"fill:#555555;\" transform=\"translate(154.094409 171.866718)scale(0.1 -0.1)\">\n       <use xlink:href=\"#DejaVuSans-53\"/>\n       <use x=\"63.623047\" xlink:href=\"#DejaVuSans-48\"/>\n       <use x=\"127.246094\" xlink:href=\"#DejaVuSans-48\"/>\n       <use x=\"190.869141\" xlink:href=\"#DejaVuSans-48\"/>\n       <use x=\"254.492188\" xlink:href=\"#DejaVuSans-48\"/>\n      </g>\n     </g>\n    </g>\n    <g id=\"xtick_4\">\n     <g id=\"line2d_7\">\n      <path clip-path=\"url(#p3235b46c62)\" d=\"M 218.121392 157.268281 \nL 218.121392 24.14175 \n\" style=\"fill:none;stroke:#ffffff;stroke-linecap:square;stroke-width:0.8;\"/>\n     </g>\n     <g id=\"line2d_8\">\n      <g>\n       <use style=\"fill:#555555;stroke:#555555;stroke-width:0.8;\" x=\"218.121392\" xlink:href=\"#m8508845eaf\" y=\"157.268281\"/>\n      </g>\n     </g>\n     <g id=\"text_4\">\n      <!-- 60000 -->\n      <defs>\n       <path d=\"M 33.015625 40.375 \nQ 26.375 40.375 22.484375 35.828125 \nQ 18.609375 31.296875 18.609375 23.390625 \nQ 18.609375 15.53125 22.484375 10.953125 \nQ 26.375 6.390625 33.015625 6.390625 \nQ 39.65625 6.390625 43.53125 10.953125 \nQ 47.40625 15.53125 47.40625 23.390625 \nQ 47.40625 31.296875 43.53125 35.828125 \nQ 39.65625 40.375 33.015625 40.375 \nz\nM 52.59375 71.296875 \nL 52.59375 62.3125 \nQ 48.875 64.0625 45.09375 64.984375 \nQ 41.3125 65.921875 37.59375 65.921875 \nQ 27.828125 65.921875 22.671875 59.328125 \nQ 17.53125 52.734375 16.796875 39.40625 \nQ 19.671875 43.65625 24.015625 45.921875 \nQ 28.375 48.1875 33.59375 48.1875 \nQ 44.578125 48.1875 50.953125 41.515625 \nQ 57.328125 34.859375 57.328125 23.390625 \nQ 57.328125 12.15625 50.6875 5.359375 \nQ 44.046875 -1.421875 33.015625 -1.421875 \nQ 20.359375 -1.421875 13.671875 8.265625 \nQ 6.984375 17.96875 6.984375 36.375 \nQ 6.984375 53.65625 15.1875 63.9375 \nQ 23.390625 74.21875 37.203125 74.21875 \nQ 40.921875 74.21875 44.703125 73.484375 \nQ 48.484375 72.75 52.59375 71.296875 \nz\n\" id=\"DejaVuSans-54\"/>\n      </defs>\n      <g style=\"fill:#555555;\" transform=\"translate(202.215142 171.866718)scale(0.1 -0.1)\">\n       <use xlink:href=\"#DejaVuSans-54\"/>\n       <use x=\"63.623047\" xlink:href=\"#DejaVuSans-48\"/>\n       <use x=\"127.246094\" xlink:href=\"#DejaVuSans-48\"/>\n       <use x=\"190.869141\" xlink:href=\"#DejaVuSans-48\"/>\n       <use x=\"254.492188\" xlink:href=\"#DejaVuSans-48\"/>\n      </g>\n     </g>\n    </g>\n    <g id=\"xtick_5\">\n     <g id=\"line2d_9\">\n      <path clip-path=\"url(#p3235b46c62)\" d=\"M 266.242125 157.268281 \nL 266.242125 24.14175 \n\" style=\"fill:none;stroke:#ffffff;stroke-linecap:square;stroke-width:0.8;\"/>\n     </g>\n     <g id=\"line2d_10\">\n      <g>\n       <use style=\"fill:#555555;stroke:#555555;stroke-width:0.8;\" x=\"266.242125\" xlink:href=\"#m8508845eaf\" y=\"157.268281\"/>\n      </g>\n     </g>\n     <g id=\"text_5\">\n      <!-- 70000 -->\n      <defs>\n       <path d=\"M 8.203125 72.90625 \nL 55.078125 72.90625 \nL 55.078125 68.703125 \nL 28.609375 0 \nL 18.3125 0 \nL 43.21875 64.59375 \nL 8.203125 64.59375 \nz\n\" id=\"DejaVuSans-55\"/>\n      </defs>\n      <g style=\"fill:#555555;\" transform=\"translate(250.335875 171.866718)scale(0.1 -0.1)\">\n       <use xlink:href=\"#DejaVuSans-55\"/>\n       <use x=\"63.623047\" xlink:href=\"#DejaVuSans-48\"/>\n       <use x=\"127.246094\" xlink:href=\"#DejaVuSans-48\"/>\n       <use x=\"190.869141\" xlink:href=\"#DejaVuSans-48\"/>\n       <use x=\"254.492188\" xlink:href=\"#DejaVuSans-48\"/>\n      </g>\n     </g>\n    </g>\n    <g id=\"xtick_6\">\n     <g id=\"line2d_11\">\n      <path clip-path=\"url(#p3235b46c62)\" d=\"M 314.362858 157.268281 \nL 314.362858 24.14175 \n\" style=\"fill:none;stroke:#ffffff;stroke-linecap:square;stroke-width:0.8;\"/>\n     </g>\n     <g id=\"line2d_12\">\n      <g>\n       <use style=\"fill:#555555;stroke:#555555;stroke-width:0.8;\" x=\"314.362858\" xlink:href=\"#m8508845eaf\" y=\"157.268281\"/>\n      </g>\n     </g>\n     <g id=\"text_6\">\n      <!-- 80000 -->\n      <defs>\n       <path d=\"M 31.78125 34.625 \nQ 24.75 34.625 20.71875 30.859375 \nQ 16.703125 27.09375 16.703125 20.515625 \nQ 16.703125 13.921875 20.71875 10.15625 \nQ 24.75 6.390625 31.78125 6.390625 \nQ 38.8125 6.390625 42.859375 10.171875 \nQ 46.921875 13.96875 46.921875 20.515625 \nQ 46.921875 27.09375 42.890625 30.859375 \nQ 38.875 34.625 31.78125 34.625 \nz\nM 21.921875 38.8125 \nQ 15.578125 40.375 12.03125 44.71875 \nQ 8.5 49.078125 8.5 55.328125 \nQ 8.5 64.0625 14.71875 69.140625 \nQ 20.953125 74.21875 31.78125 74.21875 \nQ 42.671875 74.21875 48.875 69.140625 \nQ 55.078125 64.0625 55.078125 55.328125 \nQ 55.078125 49.078125 51.53125 44.71875 \nQ 48 40.375 41.703125 38.8125 \nQ 48.828125 37.15625 52.796875 32.3125 \nQ 56.78125 27.484375 56.78125 20.515625 \nQ 56.78125 9.90625 50.3125 4.234375 \nQ 43.84375 -1.421875 31.78125 -1.421875 \nQ 19.734375 -1.421875 13.25 4.234375 \nQ 6.78125 9.90625 6.78125 20.515625 \nQ 6.78125 27.484375 10.78125 32.3125 \nQ 14.796875 37.15625 21.921875 38.8125 \nz\nM 18.3125 54.390625 \nQ 18.3125 48.734375 21.84375 45.5625 \nQ 25.390625 42.390625 31.78125 42.390625 \nQ 38.140625 42.390625 41.71875 45.5625 \nQ 45.3125 48.734375 45.3125 54.390625 \nQ 45.3125 60.0625 41.71875 63.234375 \nQ 38.140625 66.40625 31.78125 66.40625 \nQ 25.390625 66.40625 21.84375 63.234375 \nQ 18.3125 60.0625 18.3125 54.390625 \nz\n\" id=\"DejaVuSans-56\"/>\n      </defs>\n      <g style=\"fill:#555555;\" transform=\"translate(298.456608 171.866718)scale(0.1 -0.1)\">\n       <use xlink:href=\"#DejaVuSans-56\"/>\n       <use x=\"63.623047\" xlink:href=\"#DejaVuSans-48\"/>\n       <use x=\"127.246094\" xlink:href=\"#DejaVuSans-48\"/>\n       <use x=\"190.869141\" xlink:href=\"#DejaVuSans-48\"/>\n       <use x=\"254.492188\" xlink:href=\"#DejaVuSans-48\"/>\n      </g>\n     </g>\n    </g>\n   </g>\n   <g id=\"matplotlib.axis_2\">\n    <g id=\"ytick_1\">\n     <g id=\"line2d_13\">\n      <path clip-path=\"url(#p3235b46c62)\" d=\"M 36.465625 157.268281 \nL 327.59606 157.268281 \n\" style=\"fill:none;stroke:#ffffff;stroke-linecap:square;stroke-width:0.8;\"/>\n     </g>\n     <g id=\"line2d_14\">\n      <defs>\n       <path d=\"M 0 0 \nL -3.5 0 \n\" id=\"me1d36122be\" style=\"stroke:#555555;stroke-width:0.8;\"/>\n      </defs>\n      <g>\n       <use style=\"fill:#555555;stroke:#555555;stroke-width:0.8;\" x=\"36.465625\" xlink:href=\"#me1d36122be\" y=\"157.268281\"/>\n      </g>\n     </g>\n     <g id=\"text_7\">\n      <!-- 0.0 -->\n      <defs>\n       <path d=\"M 10.6875 12.40625 \nL 21 12.40625 \nL 21 0 \nL 10.6875 0 \nz\n\" id=\"DejaVuSans-46\"/>\n      </defs>\n      <g style=\"fill:#555555;\" transform=\"translate(13.5625 161.067499)scale(0.1 -0.1)\">\n       <use xlink:href=\"#DejaVuSans-48\"/>\n       <use x=\"63.623047\" xlink:href=\"#DejaVuSans-46\"/>\n       <use x=\"95.410156\" xlink:href=\"#DejaVuSans-48\"/>\n      </g>\n     </g>\n    </g>\n    <g id=\"ytick_2\">\n     <g id=\"line2d_15\">\n      <path clip-path=\"url(#p3235b46c62)\" d=\"M 36.465625 134.627714 \nL 327.59606 134.627714 \n\" style=\"fill:none;stroke:#ffffff;stroke-linecap:square;stroke-width:0.8;\"/>\n     </g>\n     <g id=\"line2d_16\">\n      <g>\n       <use style=\"fill:#555555;stroke:#555555;stroke-width:0.8;\" x=\"36.465625\" xlink:href=\"#me1d36122be\" y=\"134.627714\"/>\n      </g>\n     </g>\n     <g id=\"text_8\">\n      <!-- 2.5 -->\n      <defs>\n       <path d=\"M 19.1875 8.296875 \nL 53.609375 8.296875 \nL 53.609375 0 \nL 7.328125 0 \nL 7.328125 8.296875 \nQ 12.9375 14.109375 22.625 23.890625 \nQ 32.328125 33.6875 34.8125 36.53125 \nQ 39.546875 41.84375 41.421875 45.53125 \nQ 43.3125 49.21875 43.3125 52.78125 \nQ 43.3125 58.59375 39.234375 62.25 \nQ 35.15625 65.921875 28.609375 65.921875 \nQ 23.96875 65.921875 18.8125 64.3125 \nQ 13.671875 62.703125 7.8125 59.421875 \nL 7.8125 69.390625 \nQ 13.765625 71.78125 18.9375 73 \nQ 24.125 74.21875 28.421875 74.21875 \nQ 39.75 74.21875 46.484375 68.546875 \nQ 53.21875 62.890625 53.21875 53.421875 \nQ 53.21875 48.921875 51.53125 44.890625 \nQ 49.859375 40.875 45.40625 35.40625 \nQ 44.1875 33.984375 37.640625 27.21875 \nQ 31.109375 20.453125 19.1875 8.296875 \nz\n\" id=\"DejaVuSans-50\"/>\n      </defs>\n      <g style=\"fill:#555555;\" transform=\"translate(13.5625 138.426933)scale(0.1 -0.1)\">\n       <use xlink:href=\"#DejaVuSans-50\"/>\n       <use x=\"63.623047\" xlink:href=\"#DejaVuSans-46\"/>\n       <use x=\"95.410156\" xlink:href=\"#DejaVuSans-53\"/>\n      </g>\n     </g>\n    </g>\n    <g id=\"ytick_3\">\n     <g id=\"line2d_17\">\n      <path clip-path=\"url(#p3235b46c62)\" d=\"M 36.465625 111.987148 \nL 327.59606 111.987148 \n\" style=\"fill:none;stroke:#ffffff;stroke-linecap:square;stroke-width:0.8;\"/>\n     </g>\n     <g id=\"line2d_18\">\n      <g>\n       <use style=\"fill:#555555;stroke:#555555;stroke-width:0.8;\" x=\"36.465625\" xlink:href=\"#me1d36122be\" y=\"111.987148\"/>\n      </g>\n     </g>\n     <g id=\"text_9\">\n      <!-- 5.0 -->\n      <g style=\"fill:#555555;\" transform=\"translate(13.5625 115.786367)scale(0.1 -0.1)\">\n       <use xlink:href=\"#DejaVuSans-53\"/>\n       <use x=\"63.623047\" xlink:href=\"#DejaVuSans-46\"/>\n       <use x=\"95.410156\" xlink:href=\"#DejaVuSans-48\"/>\n      </g>\n     </g>\n    </g>\n    <g id=\"ytick_4\">\n     <g id=\"line2d_19\">\n      <path clip-path=\"url(#p3235b46c62)\" d=\"M 36.465625 89.346581 \nL 327.59606 89.346581 \n\" style=\"fill:none;stroke:#ffffff;stroke-linecap:square;stroke-width:0.8;\"/>\n     </g>\n     <g id=\"line2d_20\">\n      <g>\n       <use style=\"fill:#555555;stroke:#555555;stroke-width:0.8;\" x=\"36.465625\" xlink:href=\"#me1d36122be\" y=\"89.346581\"/>\n      </g>\n     </g>\n     <g id=\"text_10\">\n      <!-- 7.5 -->\n      <g style=\"fill:#555555;\" transform=\"translate(13.5625 93.1458)scale(0.1 -0.1)\">\n       <use xlink:href=\"#DejaVuSans-55\"/>\n       <use x=\"63.623047\" xlink:href=\"#DejaVuSans-46\"/>\n       <use x=\"95.410156\" xlink:href=\"#DejaVuSans-53\"/>\n      </g>\n     </g>\n    </g>\n    <g id=\"ytick_5\">\n     <g id=\"line2d_21\">\n      <path clip-path=\"url(#p3235b46c62)\" d=\"M 36.465625 66.706015 \nL 327.59606 66.706015 \n\" style=\"fill:none;stroke:#ffffff;stroke-linecap:square;stroke-width:0.8;\"/>\n     </g>\n     <g id=\"line2d_22\">\n      <g>\n       <use style=\"fill:#555555;stroke:#555555;stroke-width:0.8;\" x=\"36.465625\" xlink:href=\"#me1d36122be\" y=\"66.706015\"/>\n      </g>\n     </g>\n     <g id=\"text_11\">\n      <!-- 10.0 -->\n      <defs>\n       <path d=\"M 12.40625 8.296875 \nL 28.515625 8.296875 \nL 28.515625 63.921875 \nL 10.984375 60.40625 \nL 10.984375 69.390625 \nL 28.421875 72.90625 \nL 38.28125 72.90625 \nL 38.28125 8.296875 \nL 54.390625 8.296875 \nL 54.390625 0 \nL 12.40625 0 \nz\n\" id=\"DejaVuSans-49\"/>\n      </defs>\n      <g style=\"fill:#555555;\" transform=\"translate(7.2 70.505234)scale(0.1 -0.1)\">\n       <use xlink:href=\"#DejaVuSans-49\"/>\n       <use x=\"63.623047\" xlink:href=\"#DejaVuSans-48\"/>\n       <use x=\"127.246094\" xlink:href=\"#DejaVuSans-46\"/>\n       <use x=\"159.033203\" xlink:href=\"#DejaVuSans-48\"/>\n      </g>\n     </g>\n    </g>\n    <g id=\"ytick_6\">\n     <g id=\"line2d_23\">\n      <path clip-path=\"url(#p3235b46c62)\" d=\"M 36.465625 44.065448 \nL 327.59606 44.065448 \n\" style=\"fill:none;stroke:#ffffff;stroke-linecap:square;stroke-width:0.8;\"/>\n     </g>\n     <g id=\"line2d_24\">\n      <g>\n       <use style=\"fill:#555555;stroke:#555555;stroke-width:0.8;\" x=\"36.465625\" xlink:href=\"#me1d36122be\" y=\"44.065448\"/>\n      </g>\n     </g>\n     <g id=\"text_12\">\n      <!-- 12.5 -->\n      <g style=\"fill:#555555;\" transform=\"translate(7.2 47.864667)scale(0.1 -0.1)\">\n       <use xlink:href=\"#DejaVuSans-49\"/>\n       <use x=\"63.623047\" xlink:href=\"#DejaVuSans-50\"/>\n       <use x=\"127.246094\" xlink:href=\"#DejaVuSans-46\"/>\n       <use x=\"159.033203\" xlink:href=\"#DejaVuSans-53\"/>\n      </g>\n     </g>\n    </g>\n   </g>\n   <g id=\"patch_3\">\n    <path clip-path=\"url(#p3235b46c62)\" d=\"M 49.698827 157.268281 \nL 76.16523 157.268281 \nL 76.16523 30.481109 \nL 49.698827 30.481109 \nz\n\" style=\"fill:#e24a33;\"/>\n   </g>\n   <g id=\"patch_4\">\n    <path clip-path=\"url(#p3235b46c62)\" d=\"M 76.16523 157.268281 \nL 102.631633 157.268281 \nL 102.631633 139.155827 \nL 76.16523 139.155827 \nz\n\" style=\"fill:#e24a33;\"/>\n   </g>\n   <g id=\"patch_5\">\n    <path clip-path=\"url(#p3235b46c62)\" d=\"M 102.631633 157.268281 \nL 129.098036 157.268281 \nL 129.098036 121.043374 \nL 102.631633 121.043374 \nz\n\" style=\"fill:#e24a33;\"/>\n   </g>\n   <g id=\"patch_6\">\n    <path clip-path=\"url(#p3235b46c62)\" d=\"M 129.098036 157.268281 \nL 155.564439 157.268281 \nL 155.564439 139.155827 \nL 129.098036 139.155827 \nz\n\" style=\"fill:#e24a33;\"/>\n   </g>\n   <g id=\"patch_7\">\n    <path clip-path=\"url(#p3235b46c62)\" d=\"M 155.564439 157.268281 \nL 182.030842 157.268281 \nL 182.030842 139.155827 \nL 155.564439 139.155827 \nz\n\" style=\"fill:#e24a33;\"/>\n   </g>\n   <g id=\"patch_8\">\n    <path clip-path=\"url(#p3235b46c62)\" d=\"M 182.030842 157.268281 \nL 208.497246 157.268281 \nL 208.497246 121.043374 \nL 182.030842 121.043374 \nz\n\" style=\"fill:#e24a33;\"/>\n   </g>\n   <g id=\"patch_9\">\n    <path clip-path=\"url(#p3235b46c62)\" d=\"M 208.497246 157.268281 \nL 234.963649 157.268281 \nL 234.963649 121.043374 \nL 208.497246 121.043374 \nz\n\" style=\"fill:#e24a33;\"/>\n   </g>\n   <g id=\"patch_10\">\n    <path clip-path=\"url(#p3235b46c62)\" d=\"M 234.963649 157.268281 \nL 261.430052 157.268281 \nL 261.430052 139.155827 \nL 234.963649 139.155827 \nz\n\" style=\"fill:#e24a33;\"/>\n   </g>\n   <g id=\"patch_11\">\n    <path clip-path=\"url(#p3235b46c62)\" d=\"M 261.430052 157.268281 \nL 287.896455 157.268281 \nL 287.896455 121.043374 \nL 261.430052 121.043374 \nz\n\" style=\"fill:#e24a33;\"/>\n   </g>\n   <g id=\"patch_12\">\n    <path clip-path=\"url(#p3235b46c62)\" d=\"M 287.896455 157.268281 \nL 314.362858 157.268281 \nL 314.362858 139.155827 \nL 287.896455 139.155827 \nz\n\" style=\"fill:#e24a33;\"/>\n   </g>\n   <g id=\"patch_13\">\n    <path d=\"M 36.465625 157.268281 \nL 36.465625 24.14175 \n\" style=\"fill:none;stroke:#ffffff;stroke-linecap:square;stroke-linejoin:miter;\"/>\n   </g>\n   <g id=\"patch_14\">\n    <path d=\"M 327.59606 157.268281 \nL 327.59606 24.14175 \n\" style=\"fill:none;stroke:#ffffff;stroke-linecap:square;stroke-linejoin:miter;\"/>\n   </g>\n   <g id=\"patch_15\">\n    <path d=\"M 36.465625 157.268281 \nL 327.59606 157.268281 \n\" style=\"fill:none;stroke:#ffffff;stroke-linecap:square;stroke-linejoin:miter;\"/>\n   </g>\n   <g id=\"patch_16\">\n    <path d=\"M 36.465625 24.14175 \nL 327.59606 24.14175 \n\" style=\"fill:none;stroke:#ffffff;stroke-linecap:square;stroke-linejoin:miter;\"/>\n   </g>\n   <g id=\"text_13\">\n    <!-- Income -->\n    <defs>\n     <path d=\"M 9.8125 72.90625 \nL 19.671875 72.90625 \nL 19.671875 0 \nL 9.8125 0 \nz\n\" id=\"DejaVuSans-73\"/>\n     <path d=\"M 54.890625 33.015625 \nL 54.890625 0 \nL 45.90625 0 \nL 45.90625 32.71875 \nQ 45.90625 40.484375 42.875 44.328125 \nQ 39.84375 48.1875 33.796875 48.1875 \nQ 26.515625 48.1875 22.3125 43.546875 \nQ 18.109375 38.921875 18.109375 30.90625 \nL 18.109375 0 \nL 9.078125 0 \nL 9.078125 54.6875 \nL 18.109375 54.6875 \nL 18.109375 46.1875 \nQ 21.34375 51.125 25.703125 53.5625 \nQ 30.078125 56 35.796875 56 \nQ 45.21875 56 50.046875 50.171875 \nQ 54.890625 44.34375 54.890625 33.015625 \nz\n\" id=\"DejaVuSans-110\"/>\n     <path d=\"M 48.78125 52.59375 \nL 48.78125 44.1875 \nQ 44.96875 46.296875 41.140625 47.34375 \nQ 37.3125 48.390625 33.40625 48.390625 \nQ 24.65625 48.390625 19.8125 42.84375 \nQ 14.984375 37.3125 14.984375 27.296875 \nQ 14.984375 17.28125 19.8125 11.734375 \nQ 24.65625 6.203125 33.40625 6.203125 \nQ 37.3125 6.203125 41.140625 7.25 \nQ 44.96875 8.296875 48.78125 10.40625 \nL 48.78125 2.09375 \nQ 45.015625 0.34375 40.984375 -0.53125 \nQ 36.96875 -1.421875 32.421875 -1.421875 \nQ 20.0625 -1.421875 12.78125 6.34375 \nQ 5.515625 14.109375 5.515625 27.296875 \nQ 5.515625 40.671875 12.859375 48.328125 \nQ 20.21875 56 33.015625 56 \nQ 37.15625 56 41.109375 55.140625 \nQ 45.0625 54.296875 48.78125 52.59375 \nz\n\" id=\"DejaVuSans-99\"/>\n     <path d=\"M 30.609375 48.390625 \nQ 23.390625 48.390625 19.1875 42.75 \nQ 14.984375 37.109375 14.984375 27.296875 \nQ 14.984375 17.484375 19.15625 11.84375 \nQ 23.34375 6.203125 30.609375 6.203125 \nQ 37.796875 6.203125 41.984375 11.859375 \nQ 46.1875 17.53125 46.1875 27.296875 \nQ 46.1875 37.015625 41.984375 42.703125 \nQ 37.796875 48.390625 30.609375 48.390625 \nz\nM 30.609375 56 \nQ 42.328125 56 49.015625 48.375 \nQ 55.71875 40.765625 55.71875 27.296875 \nQ 55.71875 13.875 49.015625 6.21875 \nQ 42.328125 -1.421875 30.609375 -1.421875 \nQ 18.84375 -1.421875 12.171875 6.21875 \nQ 5.515625 13.875 5.515625 27.296875 \nQ 5.515625 40.765625 12.171875 48.375 \nQ 18.84375 56 30.609375 56 \nz\n\" id=\"DejaVuSans-111\"/>\n     <path d=\"M 52 44.1875 \nQ 55.375 50.25 60.0625 53.125 \nQ 64.75 56 71.09375 56 \nQ 79.640625 56 84.28125 50.015625 \nQ 88.921875 44.046875 88.921875 33.015625 \nL 88.921875 0 \nL 79.890625 0 \nL 79.890625 32.71875 \nQ 79.890625 40.578125 77.09375 44.375 \nQ 74.3125 48.1875 68.609375 48.1875 \nQ 61.625 48.1875 57.5625 43.546875 \nQ 53.515625 38.921875 53.515625 30.90625 \nL 53.515625 0 \nL 44.484375 0 \nL 44.484375 32.71875 \nQ 44.484375 40.625 41.703125 44.40625 \nQ 38.921875 48.1875 33.109375 48.1875 \nQ 26.21875 48.1875 22.15625 43.53125 \nQ 18.109375 38.875 18.109375 30.90625 \nL 18.109375 0 \nL 9.078125 0 \nL 9.078125 54.6875 \nL 18.109375 54.6875 \nL 18.109375 46.1875 \nQ 21.1875 51.21875 25.484375 53.609375 \nQ 29.78125 56 35.6875 56 \nQ 41.65625 56 45.828125 52.96875 \nQ 50 49.953125 52 44.1875 \nz\n\" id=\"DejaVuSans-109\"/>\n     <path d=\"M 56.203125 29.59375 \nL 56.203125 25.203125 \nL 14.890625 25.203125 \nQ 15.484375 15.921875 20.484375 11.0625 \nQ 25.484375 6.203125 34.421875 6.203125 \nQ 39.59375 6.203125 44.453125 7.46875 \nQ 49.3125 8.734375 54.109375 11.28125 \nL 54.109375 2.78125 \nQ 49.265625 0.734375 44.1875 -0.34375 \nQ 39.109375 -1.421875 33.890625 -1.421875 \nQ 20.796875 -1.421875 13.15625 6.1875 \nQ 5.515625 13.8125 5.515625 26.8125 \nQ 5.515625 40.234375 12.765625 48.109375 \nQ 20.015625 56 32.328125 56 \nQ 43.359375 56 49.78125 48.890625 \nQ 56.203125 41.796875 56.203125 29.59375 \nz\nM 47.21875 32.234375 \nQ 47.125 39.59375 43.09375 43.984375 \nQ 39.0625 48.390625 32.421875 48.390625 \nQ 24.90625 48.390625 20.390625 44.140625 \nQ 15.875 39.890625 15.1875 32.171875 \nz\n\" id=\"DejaVuSans-101\"/>\n    </defs>\n    <g transform=\"translate(155.535967 18.14175)scale(0.144 -0.144)\">\n     <use xlink:href=\"#DejaVuSans-73\"/>\n     <use x=\"29.492188\" xlink:href=\"#DejaVuSans-110\"/>\n     <use x=\"92.871094\" xlink:href=\"#DejaVuSans-99\"/>\n     <use x=\"147.851562\" xlink:href=\"#DejaVuSans-111\"/>\n     <use x=\"209.033203\" xlink:href=\"#DejaVuSans-109\"/>\n     <use x=\"306.445312\" xlink:href=\"#DejaVuSans-101\"/>\n    </g>\n   </g>\n  </g>\n  <g id=\"axes_2\">\n   <g id=\"patch_17\">\n    <path d=\"M 414.93519 157.268281 \nL 706.065625 157.268281 \nL 706.065625 24.14175 \nL 414.93519 24.14175 \nz\n\" style=\"fill:#e5e5e5;\"/>\n   </g>\n   <g id=\"matplotlib.axis_3\">\n    <g id=\"xtick_7\">\n     <g id=\"line2d_25\">\n      <path clip-path=\"url(#p0d5ce9e5a2)\" d=\"M 428.168392 157.268281 \nL 428.168392 24.14175 \n\" style=\"fill:none;stroke:#ffffff;stroke-linecap:square;stroke-width:0.8;\"/>\n     </g>\n     <g id=\"line2d_26\">\n      <g>\n       <use style=\"fill:#555555;stroke:#555555;stroke-width:0.8;\" x=\"428.168392\" xlink:href=\"#m8508845eaf\" y=\"157.268281\"/>\n      </g>\n     </g>\n     <g id=\"text_14\">\n      <!-- 0 -->\n      <g style=\"fill:#555555;\" transform=\"translate(424.987142 171.866718)scale(0.1 -0.1)\">\n       <use xlink:href=\"#DejaVuSans-48\"/>\n      </g>\n     </g>\n    </g>\n    <g id=\"xtick_8\">\n     <g id=\"line2d_27\">\n      <path clip-path=\"url(#p0d5ce9e5a2)\" d=\"M 465.977539 157.268281 \nL 465.977539 24.14175 \n\" style=\"fill:none;stroke:#ffffff;stroke-linecap:square;stroke-width:0.8;\"/>\n     </g>\n     <g id=\"line2d_28\">\n      <g>\n       <use style=\"fill:#555555;stroke:#555555;stroke-width:0.8;\" x=\"465.977539\" xlink:href=\"#m8508845eaf\" y=\"157.268281\"/>\n      </g>\n     </g>\n     <g id=\"text_15\">\n      <!-- 1 -->\n      <g style=\"fill:#555555;\" transform=\"translate(462.796289 171.866718)scale(0.1 -0.1)\">\n       <use xlink:href=\"#DejaVuSans-49\"/>\n      </g>\n     </g>\n    </g>\n    <g id=\"xtick_9\">\n     <g id=\"line2d_29\">\n      <path clip-path=\"url(#p0d5ce9e5a2)\" d=\"M 503.786687 157.268281 \nL 503.786687 24.14175 \n\" style=\"fill:none;stroke:#ffffff;stroke-linecap:square;stroke-width:0.8;\"/>\n     </g>\n     <g id=\"line2d_30\">\n      <g>\n       <use style=\"fill:#555555;stroke:#555555;stroke-width:0.8;\" x=\"503.786687\" xlink:href=\"#m8508845eaf\" y=\"157.268281\"/>\n      </g>\n     </g>\n     <g id=\"text_16\">\n      <!-- 2 -->\n      <g style=\"fill:#555555;\" transform=\"translate(500.605437 171.866718)scale(0.1 -0.1)\">\n       <use xlink:href=\"#DejaVuSans-50\"/>\n      </g>\n     </g>\n    </g>\n    <g id=\"xtick_10\">\n     <g id=\"line2d_31\">\n      <path clip-path=\"url(#p0d5ce9e5a2)\" d=\"M 541.595834 157.268281 \nL 541.595834 24.14175 \n\" style=\"fill:none;stroke:#ffffff;stroke-linecap:square;stroke-width:0.8;\"/>\n     </g>\n     <g id=\"line2d_32\">\n      <g>\n       <use style=\"fill:#555555;stroke:#555555;stroke-width:0.8;\" x=\"541.595834\" xlink:href=\"#m8508845eaf\" y=\"157.268281\"/>\n      </g>\n     </g>\n     <g id=\"text_17\">\n      <!-- 3 -->\n      <g style=\"fill:#555555;\" transform=\"translate(538.414584 171.866718)scale(0.1 -0.1)\">\n       <use xlink:href=\"#DejaVuSans-51\"/>\n      </g>\n     </g>\n    </g>\n    <g id=\"xtick_11\">\n     <g id=\"line2d_33\">\n      <path clip-path=\"url(#p0d5ce9e5a2)\" d=\"M 579.404981 157.268281 \nL 579.404981 24.14175 \n\" style=\"fill:none;stroke:#ffffff;stroke-linecap:square;stroke-width:0.8;\"/>\n     </g>\n     <g id=\"line2d_34\">\n      <g>\n       <use style=\"fill:#555555;stroke:#555555;stroke-width:0.8;\" x=\"579.404981\" xlink:href=\"#m8508845eaf\" y=\"157.268281\"/>\n      </g>\n     </g>\n     <g id=\"text_18\">\n      <!-- 4 -->\n      <g style=\"fill:#555555;\" transform=\"translate(576.223731 171.866718)scale(0.1 -0.1)\">\n       <use xlink:href=\"#DejaVuSans-52\"/>\n      </g>\n     </g>\n    </g>\n    <g id=\"xtick_12\">\n     <g id=\"line2d_35\">\n      <path clip-path=\"url(#p0d5ce9e5a2)\" d=\"M 617.214129 157.268281 \nL 617.214129 24.14175 \n\" style=\"fill:none;stroke:#ffffff;stroke-linecap:square;stroke-width:0.8;\"/>\n     </g>\n     <g id=\"line2d_36\">\n      <g>\n       <use style=\"fill:#555555;stroke:#555555;stroke-width:0.8;\" x=\"617.214129\" xlink:href=\"#m8508845eaf\" y=\"157.268281\"/>\n      </g>\n     </g>\n     <g id=\"text_19\">\n      <!-- 5 -->\n      <g style=\"fill:#555555;\" transform=\"translate(614.032879 171.866718)scale(0.1 -0.1)\">\n       <use xlink:href=\"#DejaVuSans-53\"/>\n      </g>\n     </g>\n    </g>\n    <g id=\"xtick_13\">\n     <g id=\"line2d_37\">\n      <path clip-path=\"url(#p0d5ce9e5a2)\" d=\"M 655.023276 157.268281 \nL 655.023276 24.14175 \n\" style=\"fill:none;stroke:#ffffff;stroke-linecap:square;stroke-width:0.8;\"/>\n     </g>\n     <g id=\"line2d_38\">\n      <g>\n       <use style=\"fill:#555555;stroke:#555555;stroke-width:0.8;\" x=\"655.023276\" xlink:href=\"#m8508845eaf\" y=\"157.268281\"/>\n      </g>\n     </g>\n     <g id=\"text_20\">\n      <!-- 6 -->\n      <g style=\"fill:#555555;\" transform=\"translate(651.842026 171.866718)scale(0.1 -0.1)\">\n       <use xlink:href=\"#DejaVuSans-54\"/>\n      </g>\n     </g>\n    </g>\n    <g id=\"xtick_14\">\n     <g id=\"line2d_39\">\n      <path clip-path=\"url(#p0d5ce9e5a2)\" d=\"M 692.832423 157.268281 \nL 692.832423 24.14175 \n\" style=\"fill:none;stroke:#ffffff;stroke-linecap:square;stroke-width:0.8;\"/>\n     </g>\n     <g id=\"line2d_40\">\n      <g>\n       <use style=\"fill:#555555;stroke:#555555;stroke-width:0.8;\" x=\"692.832423\" xlink:href=\"#m8508845eaf\" y=\"157.268281\"/>\n      </g>\n     </g>\n     <g id=\"text_21\">\n      <!-- 7 -->\n      <g style=\"fill:#555555;\" transform=\"translate(689.651173 171.866718)scale(0.1 -0.1)\">\n       <use xlink:href=\"#DejaVuSans-55\"/>\n      </g>\n     </g>\n    </g>\n   </g>\n   <g id=\"matplotlib.axis_4\">\n    <g id=\"ytick_7\">\n     <g id=\"line2d_41\">\n      <path clip-path=\"url(#p0d5ce9e5a2)\" d=\"M 414.93519 157.268281 \nL 706.065625 157.268281 \n\" style=\"fill:none;stroke:#ffffff;stroke-linecap:square;stroke-width:0.8;\"/>\n     </g>\n     <g id=\"line2d_42\">\n      <g>\n       <use style=\"fill:#555555;stroke:#555555;stroke-width:0.8;\" x=\"414.93519\" xlink:href=\"#me1d36122be\" y=\"157.268281\"/>\n      </g>\n     </g>\n     <g id=\"text_22\">\n      <!-- 0 -->\n      <g style=\"fill:#555555;\" transform=\"translate(401.57269 161.067499)scale(0.1 -0.1)\">\n       <use xlink:href=\"#DejaVuSans-48\"/>\n      </g>\n     </g>\n    </g>\n    <g id=\"ytick_8\">\n     <g id=\"line2d_43\">\n      <path clip-path=\"url(#p0d5ce9e5a2)\" d=\"M 414.93519 125.571488 \nL 706.065625 125.571488 \n\" style=\"fill:none;stroke:#ffffff;stroke-linecap:square;stroke-width:0.8;\"/>\n     </g>\n     <g id=\"line2d_44\">\n      <g>\n       <use style=\"fill:#555555;stroke:#555555;stroke-width:0.8;\" x=\"414.93519\" xlink:href=\"#me1d36122be\" y=\"125.571488\"/>\n      </g>\n     </g>\n     <g id=\"text_23\">\n      <!-- 2 -->\n      <g style=\"fill:#555555;\" transform=\"translate(401.57269 129.370706)scale(0.1 -0.1)\">\n       <use xlink:href=\"#DejaVuSans-50\"/>\n      </g>\n     </g>\n    </g>\n    <g id=\"ytick_9\">\n     <g id=\"line2d_45\">\n      <path clip-path=\"url(#p0d5ce9e5a2)\" d=\"M 414.93519 93.874695 \nL 706.065625 93.874695 \n\" style=\"fill:none;stroke:#ffffff;stroke-linecap:square;stroke-width:0.8;\"/>\n     </g>\n     <g id=\"line2d_46\">\n      <g>\n       <use style=\"fill:#555555;stroke:#555555;stroke-width:0.8;\" x=\"414.93519\" xlink:href=\"#me1d36122be\" y=\"93.874695\"/>\n      </g>\n     </g>\n     <g id=\"text_24\">\n      <!-- 4 -->\n      <g style=\"fill:#555555;\" transform=\"translate(401.57269 97.673913)scale(0.1 -0.1)\">\n       <use xlink:href=\"#DejaVuSans-52\"/>\n      </g>\n     </g>\n    </g>\n    <g id=\"ytick_10\">\n     <g id=\"line2d_47\">\n      <path clip-path=\"url(#p0d5ce9e5a2)\" d=\"M 414.93519 62.177902 \nL 706.065625 62.177902 \n\" style=\"fill:none;stroke:#ffffff;stroke-linecap:square;stroke-width:0.8;\"/>\n     </g>\n     <g id=\"line2d_48\">\n      <g>\n       <use style=\"fill:#555555;stroke:#555555;stroke-width:0.8;\" x=\"414.93519\" xlink:href=\"#me1d36122be\" y=\"62.177902\"/>\n      </g>\n     </g>\n     <g id=\"text_25\">\n      <!-- 6 -->\n      <g style=\"fill:#555555;\" transform=\"translate(401.57269 65.97712)scale(0.1 -0.1)\">\n       <use xlink:href=\"#DejaVuSans-54\"/>\n      </g>\n     </g>\n    </g>\n    <g id=\"ytick_11\">\n     <g id=\"line2d_49\">\n      <path clip-path=\"url(#p0d5ce9e5a2)\" d=\"M 414.93519 30.481109 \nL 706.065625 30.481109 \n\" style=\"fill:none;stroke:#ffffff;stroke-linecap:square;stroke-width:0.8;\"/>\n     </g>\n     <g id=\"line2d_50\">\n      <g>\n       <use style=\"fill:#555555;stroke:#555555;stroke-width:0.8;\" x=\"414.93519\" xlink:href=\"#me1d36122be\" y=\"30.481109\"/>\n      </g>\n     </g>\n     <g id=\"text_26\">\n      <!-- 8 -->\n      <g style=\"fill:#555555;\" transform=\"translate(401.57269 34.280327)scale(0.1 -0.1)\">\n       <use xlink:href=\"#DejaVuSans-56\"/>\n      </g>\n     </g>\n    </g>\n   </g>\n   <g id=\"patch_18\">\n    <path clip-path=\"url(#p0d5ce9e5a2)\" d=\"M 428.168392 157.268281 \nL 454.634795 157.268281 \nL 454.634795 93.874695 \nL 428.168392 93.874695 \nz\n\" style=\"fill:#e24a33;\"/>\n   </g>\n   <g id=\"patch_19\">\n    <path clip-path=\"url(#p0d5ce9e5a2)\" d=\"M 454.634795 157.268281 \nL 481.101198 157.268281 \nL 481.101198 93.874695 \nL 454.634795 93.874695 \nz\n\" style=\"fill:#e24a33;\"/>\n   </g>\n   <g id=\"patch_20\">\n    <path clip-path=\"url(#p0d5ce9e5a2)\" d=\"M 481.101198 157.268281 \nL 507.567601 157.268281 \nL 507.567601 62.177902 \nL 481.101198 62.177902 \nz\n\" style=\"fill:#e24a33;\"/>\n   </g>\n   <g id=\"patch_21\">\n    <path clip-path=\"url(#p0d5ce9e5a2)\" d=\"M 507.567601 157.268281 \nL 534.034004 157.268281 \nL 534.034004 157.268281 \nL 507.567601 157.268281 \nz\n\" style=\"fill:#e24a33;\"/>\n   </g>\n   <g id=\"patch_22\">\n    <path clip-path=\"url(#p0d5ce9e5a2)\" d=\"M 534.034004 157.268281 \nL 560.500408 157.268281 \nL 560.500408 30.481109 \nL 534.034004 30.481109 \nz\n\" style=\"fill:#e24a33;\"/>\n   </g>\n   <g id=\"patch_23\">\n    <path clip-path=\"url(#p0d5ce9e5a2)\" d=\"M 560.500408 157.268281 \nL 586.966811 157.268281 \nL 586.966811 30.481109 \nL 560.500408 30.481109 \nz\n\" style=\"fill:#e24a33;\"/>\n   </g>\n   <g id=\"patch_24\">\n    <path clip-path=\"url(#p0d5ce9e5a2)\" d=\"M 586.966811 157.268281 \nL 613.433214 157.268281 \nL 613.433214 157.268281 \nL 586.966811 157.268281 \nz\n\" style=\"fill:#e24a33;\"/>\n   </g>\n   <g id=\"patch_25\">\n    <path clip-path=\"url(#p0d5ce9e5a2)\" d=\"M 613.433214 157.268281 \nL 639.899617 157.268281 \nL 639.899617 93.874695 \nL 613.433214 93.874695 \nz\n\" style=\"fill:#e24a33;\"/>\n   </g>\n   <g id=\"patch_26\">\n    <path clip-path=\"url(#p0d5ce9e5a2)\" d=\"M 639.899617 157.268281 \nL 666.36602 157.268281 \nL 666.36602 93.874695 \nL 639.899617 93.874695 \nz\n\" style=\"fill:#e24a33;\"/>\n   </g>\n   <g id=\"patch_27\">\n    <path clip-path=\"url(#p0d5ce9e5a2)\" d=\"M 666.36602 157.268281 \nL 692.832423 157.268281 \nL 692.832423 125.571488 \nL 666.36602 125.571488 \nz\n\" style=\"fill:#e24a33;\"/>\n   </g>\n   <g id=\"patch_28\">\n    <path d=\"M 414.93519 157.268281 \nL 414.93519 24.14175 \n\" style=\"fill:none;stroke:#ffffff;stroke-linecap:square;stroke-linejoin:miter;\"/>\n   </g>\n   <g id=\"patch_29\">\n    <path d=\"M 706.065625 157.268281 \nL 706.065625 24.14175 \n\" style=\"fill:none;stroke:#ffffff;stroke-linecap:square;stroke-linejoin:miter;\"/>\n   </g>\n   <g id=\"patch_30\">\n    <path d=\"M 414.93519 157.268281 \nL 706.065625 157.268281 \n\" style=\"fill:none;stroke:#ffffff;stroke-linecap:square;stroke-linejoin:miter;\"/>\n   </g>\n   <g id=\"patch_31\">\n    <path d=\"M 414.93519 24.14175 \nL 706.065625 24.14175 \n\" style=\"fill:none;stroke:#ffffff;stroke-linecap:square;stroke-linejoin:miter;\"/>\n   </g>\n   <g id=\"text_27\">\n    <!-- Mall.Visits -->\n    <defs>\n     <path d=\"M 9.8125 72.90625 \nL 24.515625 72.90625 \nL 43.109375 23.296875 \nL 61.8125 72.90625 \nL 76.515625 72.90625 \nL 76.515625 0 \nL 66.890625 0 \nL 66.890625 64.015625 \nL 48.09375 14.015625 \nL 38.1875 14.015625 \nL 19.390625 64.015625 \nL 19.390625 0 \nL 9.8125 0 \nz\n\" id=\"DejaVuSans-77\"/>\n     <path d=\"M 34.28125 27.484375 \nQ 23.390625 27.484375 19.1875 25 \nQ 14.984375 22.515625 14.984375 16.5 \nQ 14.984375 11.71875 18.140625 8.90625 \nQ 21.296875 6.109375 26.703125 6.109375 \nQ 34.1875 6.109375 38.703125 11.40625 \nQ 43.21875 16.703125 43.21875 25.484375 \nL 43.21875 27.484375 \nz\nM 52.203125 31.203125 \nL 52.203125 0 \nL 43.21875 0 \nL 43.21875 8.296875 \nQ 40.140625 3.328125 35.546875 0.953125 \nQ 30.953125 -1.421875 24.3125 -1.421875 \nQ 15.921875 -1.421875 10.953125 3.296875 \nQ 6 8.015625 6 15.921875 \nQ 6 25.140625 12.171875 29.828125 \nQ 18.359375 34.515625 30.609375 34.515625 \nL 43.21875 34.515625 \nL 43.21875 35.40625 \nQ 43.21875 41.609375 39.140625 45 \nQ 35.0625 48.390625 27.6875 48.390625 \nQ 23 48.390625 18.546875 47.265625 \nQ 14.109375 46.140625 10.015625 43.890625 \nL 10.015625 52.203125 \nQ 14.9375 54.109375 19.578125 55.046875 \nQ 24.21875 56 28.609375 56 \nQ 40.484375 56 46.34375 49.84375 \nQ 52.203125 43.703125 52.203125 31.203125 \nz\n\" id=\"DejaVuSans-97\"/>\n     <path d=\"M 9.421875 75.984375 \nL 18.40625 75.984375 \nL 18.40625 0 \nL 9.421875 0 \nz\n\" id=\"DejaVuSans-108\"/>\n     <path d=\"M 28.609375 0 \nL 0.78125 72.90625 \nL 11.078125 72.90625 \nL 34.1875 11.53125 \nL 57.328125 72.90625 \nL 67.578125 72.90625 \nL 39.796875 0 \nz\n\" id=\"DejaVuSans-86\"/>\n     <path d=\"M 9.421875 54.6875 \nL 18.40625 54.6875 \nL 18.40625 0 \nL 9.421875 0 \nz\nM 9.421875 75.984375 \nL 18.40625 75.984375 \nL 18.40625 64.59375 \nL 9.421875 64.59375 \nz\n\" id=\"DejaVuSans-105\"/>\n     <path d=\"M 44.28125 53.078125 \nL 44.28125 44.578125 \nQ 40.484375 46.53125 36.375 47.5 \nQ 32.28125 48.484375 27.875 48.484375 \nQ 21.1875 48.484375 17.84375 46.4375 \nQ 14.5 44.390625 14.5 40.28125 \nQ 14.5 37.15625 16.890625 35.375 \nQ 19.28125 33.59375 26.515625 31.984375 \nL 29.59375 31.296875 \nQ 39.15625 29.25 43.1875 25.515625 \nQ 47.21875 21.78125 47.21875 15.09375 \nQ 47.21875 7.46875 41.1875 3.015625 \nQ 35.15625 -1.421875 24.609375 -1.421875 \nQ 20.21875 -1.421875 15.453125 -0.5625 \nQ 10.6875 0.296875 5.421875 2 \nL 5.421875 11.28125 \nQ 10.40625 8.6875 15.234375 7.390625 \nQ 20.0625 6.109375 24.8125 6.109375 \nQ 31.15625 6.109375 34.5625 8.28125 \nQ 37.984375 10.453125 37.984375 14.40625 \nQ 37.984375 18.0625 35.515625 20.015625 \nQ 33.0625 21.96875 24.703125 23.78125 \nL 21.578125 24.515625 \nQ 13.234375 26.265625 9.515625 29.90625 \nQ 5.8125 33.546875 5.8125 39.890625 \nQ 5.8125 47.609375 11.28125 51.796875 \nQ 16.75 56 26.8125 56 \nQ 31.78125 56 36.171875 55.265625 \nQ 40.578125 54.546875 44.28125 53.078125 \nz\n\" id=\"DejaVuSans-115\"/>\n     <path d=\"M 18.3125 70.21875 \nL 18.3125 54.6875 \nL 36.8125 54.6875 \nL 36.8125 47.703125 \nL 18.3125 47.703125 \nL 18.3125 18.015625 \nQ 18.3125 11.328125 20.140625 9.421875 \nQ 21.96875 7.515625 27.59375 7.515625 \nL 36.8125 7.515625 \nL 36.8125 0 \nL 27.59375 0 \nQ 17.1875 0 13.234375 3.875 \nQ 9.28125 7.765625 9.28125 18.015625 \nL 9.28125 47.703125 \nL 2.6875 47.703125 \nL 2.6875 54.6875 \nL 9.28125 54.6875 \nL 9.28125 70.21875 \nz\n\" id=\"DejaVuSans-116\"/>\n    </defs>\n    <g transform=\"translate(524.499283 18.14175)scale(0.144 -0.144)\">\n     <use xlink:href=\"#DejaVuSans-77\"/>\n     <use x=\"86.279297\" xlink:href=\"#DejaVuSans-97\"/>\n     <use x=\"147.558594\" xlink:href=\"#DejaVuSans-108\"/>\n     <use x=\"175.341797\" xlink:href=\"#DejaVuSans-108\"/>\n     <use x=\"203.125\" xlink:href=\"#DejaVuSans-46\"/>\n     <use x=\"234.912109\" xlink:href=\"#DejaVuSans-86\"/>\n     <use x=\"301.070312\" xlink:href=\"#DejaVuSans-105\"/>\n     <use x=\"328.853516\" xlink:href=\"#DejaVuSans-115\"/>\n     <use x=\"380.953125\" xlink:href=\"#DejaVuSans-105\"/>\n     <use x=\"408.736328\" xlink:href=\"#DejaVuSans-116\"/>\n     <use x=\"447.945312\" xlink:href=\"#DejaVuSans-115\"/>\n    </g>\n   </g>\n  </g>\n  <g id=\"axes_3\">\n   <g id=\"patch_32\">\n    <path d=\"M 36.465625 330.33277 \nL 327.59606 330.33277 \nL 327.59606 197.20624 \nL 36.465625 197.20624 \nz\n\" style=\"fill:#e5e5e5;\"/>\n   </g>\n   <g id=\"matplotlib.axis_5\">\n    <g id=\"xtick_15\">\n     <g id=\"line2d_51\">\n      <path clip-path=\"url(#p5185ab5072)\" d=\"M 49.698827 330.33277 \nL 49.698827 197.20624 \n\" style=\"fill:none;stroke:#ffffff;stroke-linecap:square;stroke-width:0.8;\"/>\n     </g>\n     <g id=\"line2d_52\">\n      <g>\n       <use style=\"fill:#555555;stroke:#555555;stroke-width:0.8;\" x=\"49.698827\" xlink:href=\"#m8508845eaf\" y=\"330.33277\"/>\n      </g>\n     </g>\n     <g id=\"text_28\">\n      <!-- 1 -->\n      <g style=\"fill:#555555;\" transform=\"translate(46.517577 344.931208)scale(0.1 -0.1)\">\n       <use xlink:href=\"#DejaVuSans-49\"/>\n      </g>\n     </g>\n    </g>\n    <g id=\"xtick_16\">\n     <g id=\"line2d_53\">\n      <path clip-path=\"url(#p5185ab5072)\" d=\"M 93.809499 330.33277 \nL 93.809499 197.20624 \n\" style=\"fill:none;stroke:#ffffff;stroke-linecap:square;stroke-width:0.8;\"/>\n     </g>\n     <g id=\"line2d_54\">\n      <g>\n       <use style=\"fill:#555555;stroke:#555555;stroke-width:0.8;\" x=\"93.809499\" xlink:href=\"#m8508845eaf\" y=\"330.33277\"/>\n      </g>\n     </g>\n     <g id=\"text_29\">\n      <!-- 2 -->\n      <g style=\"fill:#555555;\" transform=\"translate(90.628249 344.931208)scale(0.1 -0.1)\">\n       <use xlink:href=\"#DejaVuSans-50\"/>\n      </g>\n     </g>\n    </g>\n    <g id=\"xtick_17\">\n     <g id=\"line2d_55\">\n      <path clip-path=\"url(#p5185ab5072)\" d=\"M 137.92017 330.33277 \nL 137.92017 197.20624 \n\" style=\"fill:none;stroke:#ffffff;stroke-linecap:square;stroke-width:0.8;\"/>\n     </g>\n     <g id=\"line2d_56\">\n      <g>\n       <use style=\"fill:#555555;stroke:#555555;stroke-width:0.8;\" x=\"137.92017\" xlink:href=\"#m8508845eaf\" y=\"330.33277\"/>\n      </g>\n     </g>\n     <g id=\"text_30\">\n      <!-- 3 -->\n      <g style=\"fill:#555555;\" transform=\"translate(134.73892 344.931208)scale(0.1 -0.1)\">\n       <use xlink:href=\"#DejaVuSans-51\"/>\n      </g>\n     </g>\n    </g>\n    <g id=\"xtick_18\">\n     <g id=\"line2d_57\">\n      <path clip-path=\"url(#p5185ab5072)\" d=\"M 182.030842 330.33277 \nL 182.030842 197.20624 \n\" style=\"fill:none;stroke:#ffffff;stroke-linecap:square;stroke-width:0.8;\"/>\n     </g>\n     <g id=\"line2d_58\">\n      <g>\n       <use style=\"fill:#555555;stroke:#555555;stroke-width:0.8;\" x=\"182.030842\" xlink:href=\"#m8508845eaf\" y=\"330.33277\"/>\n      </g>\n     </g>\n     <g id=\"text_31\">\n      <!-- 4 -->\n      <g style=\"fill:#555555;\" transform=\"translate(178.849592 344.931208)scale(0.1 -0.1)\">\n       <use xlink:href=\"#DejaVuSans-52\"/>\n      </g>\n     </g>\n    </g>\n    <g id=\"xtick_19\">\n     <g id=\"line2d_59\">\n      <path clip-path=\"url(#p5185ab5072)\" d=\"M 226.141514 330.33277 \nL 226.141514 197.20624 \n\" style=\"fill:none;stroke:#ffffff;stroke-linecap:square;stroke-width:0.8;\"/>\n     </g>\n     <g id=\"line2d_60\">\n      <g>\n       <use style=\"fill:#555555;stroke:#555555;stroke-width:0.8;\" x=\"226.141514\" xlink:href=\"#m8508845eaf\" y=\"330.33277\"/>\n      </g>\n     </g>\n     <g id=\"text_32\">\n      <!-- 5 -->\n      <g style=\"fill:#555555;\" transform=\"translate(222.960264 344.931208)scale(0.1 -0.1)\">\n       <use xlink:href=\"#DejaVuSans-53\"/>\n      </g>\n     </g>\n    </g>\n    <g id=\"xtick_20\">\n     <g id=\"line2d_61\">\n      <path clip-path=\"url(#p5185ab5072)\" d=\"M 270.252186 330.33277 \nL 270.252186 197.20624 \n\" style=\"fill:none;stroke:#ffffff;stroke-linecap:square;stroke-width:0.8;\"/>\n     </g>\n     <g id=\"line2d_62\">\n      <g>\n       <use style=\"fill:#555555;stroke:#555555;stroke-width:0.8;\" x=\"270.252186\" xlink:href=\"#m8508845eaf\" y=\"330.33277\"/>\n      </g>\n     </g>\n     <g id=\"text_33\">\n      <!-- 6 -->\n      <g style=\"fill:#555555;\" transform=\"translate(267.070936 344.931208)scale(0.1 -0.1)\">\n       <use xlink:href=\"#DejaVuSans-54\"/>\n      </g>\n     </g>\n    </g>\n    <g id=\"xtick_21\">\n     <g id=\"line2d_63\">\n      <path clip-path=\"url(#p5185ab5072)\" d=\"M 314.362858 330.33277 \nL 314.362858 197.20624 \n\" style=\"fill:none;stroke:#ffffff;stroke-linecap:square;stroke-width:0.8;\"/>\n     </g>\n     <g id=\"line2d_64\">\n      <g>\n       <use style=\"fill:#555555;stroke:#555555;stroke-width:0.8;\" x=\"314.362858\" xlink:href=\"#m8508845eaf\" y=\"330.33277\"/>\n      </g>\n     </g>\n     <g id=\"text_34\">\n      <!-- 7 -->\n      <g style=\"fill:#555555;\" transform=\"translate(311.181608 344.931208)scale(0.1 -0.1)\">\n       <use xlink:href=\"#DejaVuSans-55\"/>\n      </g>\n     </g>\n    </g>\n   </g>\n   <g id=\"matplotlib.axis_6\">\n    <g id=\"ytick_12\">\n     <g id=\"line2d_65\">\n      <path clip-path=\"url(#p5185ab5072)\" d=\"M 36.465625 330.33277 \nL 327.59606 330.33277 \n\" style=\"fill:none;stroke:#ffffff;stroke-linecap:square;stroke-width:0.8;\"/>\n     </g>\n     <g id=\"line2d_66\">\n      <g>\n       <use style=\"fill:#555555;stroke:#555555;stroke-width:0.8;\" x=\"36.465625\" xlink:href=\"#me1d36122be\" y=\"330.33277\"/>\n      </g>\n     </g>\n     <g id=\"text_35\">\n      <!-- 0 -->\n      <g style=\"fill:#555555;\" transform=\"translate(23.103125 334.131989)scale(0.1 -0.1)\">\n       <use xlink:href=\"#DejaVuSans-48\"/>\n      </g>\n     </g>\n    </g>\n    <g id=\"ytick_13\">\n     <g id=\"line2d_67\">\n      <path clip-path=\"url(#p5185ab5072)\" d=\"M 36.465625 298.635977 \nL 327.59606 298.635977 \n\" style=\"fill:none;stroke:#ffffff;stroke-linecap:square;stroke-width:0.8;\"/>\n     </g>\n     <g id=\"line2d_68\">\n      <g>\n       <use style=\"fill:#555555;stroke:#555555;stroke-width:0.8;\" x=\"36.465625\" xlink:href=\"#me1d36122be\" y=\"298.635977\"/>\n      </g>\n     </g>\n     <g id=\"text_36\">\n      <!-- 2 -->\n      <g style=\"fill:#555555;\" transform=\"translate(23.103125 302.435196)scale(0.1 -0.1)\">\n       <use xlink:href=\"#DejaVuSans-50\"/>\n      </g>\n     </g>\n    </g>\n    <g id=\"ytick_14\">\n     <g id=\"line2d_69\">\n      <path clip-path=\"url(#p5185ab5072)\" d=\"M 36.465625 266.939184 \nL 327.59606 266.939184 \n\" style=\"fill:none;stroke:#ffffff;stroke-linecap:square;stroke-width:0.8;\"/>\n     </g>\n     <g id=\"line2d_70\">\n      <g>\n       <use style=\"fill:#555555;stroke:#555555;stroke-width:0.8;\" x=\"36.465625\" xlink:href=\"#me1d36122be\" y=\"266.939184\"/>\n      </g>\n     </g>\n     <g id=\"text_37\">\n      <!-- 4 -->\n      <g style=\"fill:#555555;\" transform=\"translate(23.103125 270.738403)scale(0.1 -0.1)\">\n       <use xlink:href=\"#DejaVuSans-52\"/>\n      </g>\n     </g>\n    </g>\n    <g id=\"ytick_15\">\n     <g id=\"line2d_71\">\n      <path clip-path=\"url(#p5185ab5072)\" d=\"M 36.465625 235.242391 \nL 327.59606 235.242391 \n\" style=\"fill:none;stroke:#ffffff;stroke-linecap:square;stroke-width:0.8;\"/>\n     </g>\n     <g id=\"line2d_72\">\n      <g>\n       <use style=\"fill:#555555;stroke:#555555;stroke-width:0.8;\" x=\"36.465625\" xlink:href=\"#me1d36122be\" y=\"235.242391\"/>\n      </g>\n     </g>\n     <g id=\"text_38\">\n      <!-- 6 -->\n      <g style=\"fill:#555555;\" transform=\"translate(23.103125 239.04161)scale(0.1 -0.1)\">\n       <use xlink:href=\"#DejaVuSans-54\"/>\n      </g>\n     </g>\n    </g>\n    <g id=\"ytick_16\">\n     <g id=\"line2d_73\">\n      <path clip-path=\"url(#p5185ab5072)\" d=\"M 36.465625 203.545598 \nL 327.59606 203.545598 \n\" style=\"fill:none;stroke:#ffffff;stroke-linecap:square;stroke-width:0.8;\"/>\n     </g>\n     <g id=\"line2d_74\">\n      <g>\n       <use style=\"fill:#555555;stroke:#555555;stroke-width:0.8;\" x=\"36.465625\" xlink:href=\"#me1d36122be\" y=\"203.545598\"/>\n      </g>\n     </g>\n     <g id=\"text_39\">\n      <!-- 8 -->\n      <g style=\"fill:#555555;\" transform=\"translate(23.103125 207.344817)scale(0.1 -0.1)\">\n       <use xlink:href=\"#DejaVuSans-56\"/>\n      </g>\n     </g>\n    </g>\n   </g>\n   <g id=\"patch_33\">\n    <path clip-path=\"url(#p5185ab5072)\" d=\"M 49.698827 330.33277 \nL 76.16523 330.33277 \nL 76.16523 266.939184 \nL 49.698827 266.939184 \nz\n\" style=\"fill:#e24a33;\"/>\n   </g>\n   <g id=\"patch_34\">\n    <path clip-path=\"url(#p5185ab5072)\" d=\"M 76.16523 330.33277 \nL 102.631633 330.33277 \nL 102.631633 203.545598 \nL 76.16523 203.545598 \nz\n\" style=\"fill:#e24a33;\"/>\n   </g>\n   <g id=\"patch_35\">\n    <path clip-path=\"url(#p5185ab5072)\" d=\"M 102.631633 330.33277 \nL 129.098036 330.33277 \nL 129.098036 330.33277 \nL 102.631633 330.33277 \nz\n\" style=\"fill:#e24a33;\"/>\n   </g>\n   <g id=\"patch_36\">\n    <path clip-path=\"url(#p5185ab5072)\" d=\"M 129.098036 330.33277 \nL 155.564439 330.33277 \nL 155.564439 235.242391 \nL 129.098036 235.242391 \nz\n\" style=\"fill:#e24a33;\"/>\n   </g>\n   <g id=\"patch_37\">\n    <path clip-path=\"url(#p5185ab5072)\" d=\"M 155.564439 330.33277 \nL 182.030842 330.33277 \nL 182.030842 330.33277 \nL 155.564439 330.33277 \nz\n\" style=\"fill:#e24a33;\"/>\n   </g>\n   <g id=\"patch_38\">\n    <path clip-path=\"url(#p5185ab5072)\" d=\"M 182.030842 330.33277 \nL 208.497246 330.33277 \nL 208.497246 203.545598 \nL 182.030842 203.545598 \nz\n\" style=\"fill:#e24a33;\"/>\n   </g>\n   <g id=\"patch_39\">\n    <path clip-path=\"url(#p5185ab5072)\" d=\"M 208.497246 330.33277 \nL 234.963649 330.33277 \nL 234.963649 266.939184 \nL 208.497246 266.939184 \nz\n\" style=\"fill:#e24a33;\"/>\n   </g>\n   <g id=\"patch_40\">\n    <path clip-path=\"url(#p5185ab5072)\" d=\"M 234.963649 330.33277 \nL 261.430052 330.33277 \nL 261.430052 330.33277 \nL 234.963649 330.33277 \nz\n\" style=\"fill:#e24a33;\"/>\n   </g>\n   <g id=\"patch_41\">\n    <path clip-path=\"url(#p5185ab5072)\" d=\"M 261.430052 330.33277 \nL 287.896455 330.33277 \nL 287.896455 235.242391 \nL 261.430052 235.242391 \nz\n\" style=\"fill:#e24a33;\"/>\n   </g>\n   <g id=\"patch_42\">\n    <path clip-path=\"url(#p5185ab5072)\" d=\"M 287.896455 330.33277 \nL 314.362858 330.33277 \nL 314.362858 266.939184 \nL 287.896455 266.939184 \nz\n\" style=\"fill:#e24a33;\"/>\n   </g>\n   <g id=\"patch_43\">\n    <path d=\"M 36.465625 330.33277 \nL 36.465625 197.20624 \n\" style=\"fill:none;stroke:#ffffff;stroke-linecap:square;stroke-linejoin:miter;\"/>\n   </g>\n   <g id=\"patch_44\">\n    <path d=\"M 327.59606 330.33277 \nL 327.59606 197.20624 \n\" style=\"fill:none;stroke:#ffffff;stroke-linecap:square;stroke-linejoin:miter;\"/>\n   </g>\n   <g id=\"patch_45\">\n    <path d=\"M 36.465625 330.33277 \nL 327.59606 330.33277 \n\" style=\"fill:none;stroke:#ffffff;stroke-linecap:square;stroke-linejoin:miter;\"/>\n   </g>\n   <g id=\"patch_46\">\n    <path d=\"M 36.465625 197.20624 \nL 327.59606 197.20624 \n\" style=\"fill:none;stroke:#ffffff;stroke-linecap:square;stroke-linejoin:miter;\"/>\n   </g>\n   <g id=\"text_40\">\n    <!-- V1 -->\n    <g transform=\"translate(172.524592 191.20624)scale(0.144 -0.144)\">\n     <use xlink:href=\"#DejaVuSans-86\"/>\n     <use x=\"68.408203\" xlink:href=\"#DejaVuSans-49\"/>\n    </g>\n   </g>\n  </g>\n  <g id=\"axes_4\">\n   <g id=\"patch_47\">\n    <path d=\"M 414.93519 330.33277 \nL 706.065625 330.33277 \nL 706.065625 197.20624 \nL 414.93519 197.20624 \nz\n\" style=\"fill:#e5e5e5;\"/>\n   </g>\n   <g id=\"matplotlib.axis_7\">\n    <g id=\"xtick_22\">\n     <g id=\"line2d_75\">\n      <path clip-path=\"url(#p5ec4e15a8e)\" d=\"M 428.168392 330.33277 \nL 428.168392 197.20624 \n\" style=\"fill:none;stroke:#ffffff;stroke-linecap:square;stroke-width:0.8;\"/>\n     </g>\n     <g id=\"line2d_76\">\n      <g>\n       <use style=\"fill:#555555;stroke:#555555;stroke-width:0.8;\" x=\"428.168392\" xlink:href=\"#m8508845eaf\" y=\"330.33277\"/>\n      </g>\n     </g>\n     <g id=\"text_41\">\n      <!-- 2 -->\n      <g style=\"fill:#555555;\" transform=\"translate(424.987142 344.931208)scale(0.1 -0.1)\">\n       <use xlink:href=\"#DejaVuSans-50\"/>\n      </g>\n     </g>\n    </g>\n    <g id=\"xtick_23\">\n     <g id=\"line2d_77\">\n      <path clip-path=\"url(#p5ec4e15a8e)\" d=\"M 481.101198 330.33277 \nL 481.101198 197.20624 \n\" style=\"fill:none;stroke:#ffffff;stroke-linecap:square;stroke-width:0.8;\"/>\n     </g>\n     <g id=\"line2d_78\">\n      <g>\n       <use style=\"fill:#555555;stroke:#555555;stroke-width:0.8;\" x=\"481.101198\" xlink:href=\"#m8508845eaf\" y=\"330.33277\"/>\n      </g>\n     </g>\n     <g id=\"text_42\">\n      <!-- 3 -->\n      <g style=\"fill:#555555;\" transform=\"translate(477.919948 344.931208)scale(0.1 -0.1)\">\n       <use xlink:href=\"#DejaVuSans-51\"/>\n      </g>\n     </g>\n    </g>\n    <g id=\"xtick_24\">\n     <g id=\"line2d_79\">\n      <path clip-path=\"url(#p5ec4e15a8e)\" d=\"M 534.034004 330.33277 \nL 534.034004 197.20624 \n\" style=\"fill:none;stroke:#ffffff;stroke-linecap:square;stroke-width:0.8;\"/>\n     </g>\n     <g id=\"line2d_80\">\n      <g>\n       <use style=\"fill:#555555;stroke:#555555;stroke-width:0.8;\" x=\"534.034004\" xlink:href=\"#m8508845eaf\" y=\"330.33277\"/>\n      </g>\n     </g>\n     <g id=\"text_43\">\n      <!-- 4 -->\n      <g style=\"fill:#555555;\" transform=\"translate(530.852754 344.931208)scale(0.1 -0.1)\">\n       <use xlink:href=\"#DejaVuSans-52\"/>\n      </g>\n     </g>\n    </g>\n    <g id=\"xtick_25\">\n     <g id=\"line2d_81\">\n      <path clip-path=\"url(#p5ec4e15a8e)\" d=\"M 586.966811 330.33277 \nL 586.966811 197.20624 \n\" style=\"fill:none;stroke:#ffffff;stroke-linecap:square;stroke-width:0.8;\"/>\n     </g>\n     <g id=\"line2d_82\">\n      <g>\n       <use style=\"fill:#555555;stroke:#555555;stroke-width:0.8;\" x=\"586.966811\" xlink:href=\"#m8508845eaf\" y=\"330.33277\"/>\n      </g>\n     </g>\n     <g id=\"text_44\">\n      <!-- 5 -->\n      <g style=\"fill:#555555;\" transform=\"translate(583.785561 344.931208)scale(0.1 -0.1)\">\n       <use xlink:href=\"#DejaVuSans-53\"/>\n      </g>\n     </g>\n    </g>\n    <g id=\"xtick_26\">\n     <g id=\"line2d_83\">\n      <path clip-path=\"url(#p5ec4e15a8e)\" d=\"M 639.899617 330.33277 \nL 639.899617 197.20624 \n\" style=\"fill:none;stroke:#ffffff;stroke-linecap:square;stroke-width:0.8;\"/>\n     </g>\n     <g id=\"line2d_84\">\n      <g>\n       <use style=\"fill:#555555;stroke:#555555;stroke-width:0.8;\" x=\"639.899617\" xlink:href=\"#m8508845eaf\" y=\"330.33277\"/>\n      </g>\n     </g>\n     <g id=\"text_45\">\n      <!-- 6 -->\n      <g style=\"fill:#555555;\" transform=\"translate(636.718367 344.931208)scale(0.1 -0.1)\">\n       <use xlink:href=\"#DejaVuSans-54\"/>\n      </g>\n     </g>\n    </g>\n    <g id=\"xtick_27\">\n     <g id=\"line2d_85\">\n      <path clip-path=\"url(#p5ec4e15a8e)\" d=\"M 692.832423 330.33277 \nL 692.832423 197.20624 \n\" style=\"fill:none;stroke:#ffffff;stroke-linecap:square;stroke-width:0.8;\"/>\n     </g>\n     <g id=\"line2d_86\">\n      <g>\n       <use style=\"fill:#555555;stroke:#555555;stroke-width:0.8;\" x=\"692.832423\" xlink:href=\"#m8508845eaf\" y=\"330.33277\"/>\n      </g>\n     </g>\n     <g id=\"text_46\">\n      <!-- 7 -->\n      <g style=\"fill:#555555;\" transform=\"translate(689.651173 344.931208)scale(0.1 -0.1)\">\n       <use xlink:href=\"#DejaVuSans-55\"/>\n      </g>\n     </g>\n    </g>\n   </g>\n   <g id=\"matplotlib.axis_8\">\n    <g id=\"ytick_17\">\n     <g id=\"line2d_87\">\n      <path clip-path=\"url(#p5ec4e15a8e)\" d=\"M 414.93519 330.33277 \nL 706.065625 330.33277 \n\" style=\"fill:none;stroke:#ffffff;stroke-linecap:square;stroke-width:0.8;\"/>\n     </g>\n     <g id=\"line2d_88\">\n      <g>\n       <use style=\"fill:#555555;stroke:#555555;stroke-width:0.8;\" x=\"414.93519\" xlink:href=\"#me1d36122be\" y=\"330.33277\"/>\n      </g>\n     </g>\n     <g id=\"text_47\">\n      <!-- 0.0 -->\n      <g style=\"fill:#555555;\" transform=\"translate(392.032065 334.131989)scale(0.1 -0.1)\">\n       <use xlink:href=\"#DejaVuSans-48\"/>\n       <use x=\"63.623047\" xlink:href=\"#DejaVuSans-46\"/>\n       <use x=\"95.410156\" xlink:href=\"#DejaVuSans-48\"/>\n      </g>\n     </g>\n    </g>\n    <g id=\"ytick_18\">\n     <g id=\"line2d_89\">\n      <path clip-path=\"url(#p5ec4e15a8e)\" d=\"M 414.93519 303.918776 \nL 706.065625 303.918776 \n\" style=\"fill:none;stroke:#ffffff;stroke-linecap:square;stroke-width:0.8;\"/>\n     </g>\n     <g id=\"line2d_90\">\n      <g>\n       <use style=\"fill:#555555;stroke:#555555;stroke-width:0.8;\" x=\"414.93519\" xlink:href=\"#me1d36122be\" y=\"303.918776\"/>\n      </g>\n     </g>\n     <g id=\"text_48\">\n      <!-- 2.5 -->\n      <g style=\"fill:#555555;\" transform=\"translate(392.032065 307.717995)scale(0.1 -0.1)\">\n       <use xlink:href=\"#DejaVuSans-50\"/>\n       <use x=\"63.623047\" xlink:href=\"#DejaVuSans-46\"/>\n       <use x=\"95.410156\" xlink:href=\"#DejaVuSans-53\"/>\n      </g>\n     </g>\n    </g>\n    <g id=\"ytick_19\">\n     <g id=\"line2d_91\">\n      <path clip-path=\"url(#p5ec4e15a8e)\" d=\"M 414.93519 277.504782 \nL 706.065625 277.504782 \n\" style=\"fill:none;stroke:#ffffff;stroke-linecap:square;stroke-width:0.8;\"/>\n     </g>\n     <g id=\"line2d_92\">\n      <g>\n       <use style=\"fill:#555555;stroke:#555555;stroke-width:0.8;\" x=\"414.93519\" xlink:href=\"#me1d36122be\" y=\"277.504782\"/>\n      </g>\n     </g>\n     <g id=\"text_49\">\n      <!-- 5.0 -->\n      <g style=\"fill:#555555;\" transform=\"translate(392.032065 281.304001)scale(0.1 -0.1)\">\n       <use xlink:href=\"#DejaVuSans-53\"/>\n       <use x=\"63.623047\" xlink:href=\"#DejaVuSans-46\"/>\n       <use x=\"95.410156\" xlink:href=\"#DejaVuSans-48\"/>\n      </g>\n     </g>\n    </g>\n    <g id=\"ytick_20\">\n     <g id=\"line2d_93\">\n      <path clip-path=\"url(#p5ec4e15a8e)\" d=\"M 414.93519 251.090788 \nL 706.065625 251.090788 \n\" style=\"fill:none;stroke:#ffffff;stroke-linecap:square;stroke-width:0.8;\"/>\n     </g>\n     <g id=\"line2d_94\">\n      <g>\n       <use style=\"fill:#555555;stroke:#555555;stroke-width:0.8;\" x=\"414.93519\" xlink:href=\"#me1d36122be\" y=\"251.090788\"/>\n      </g>\n     </g>\n     <g id=\"text_50\">\n      <!-- 7.5 -->\n      <g style=\"fill:#555555;\" transform=\"translate(392.032065 254.890007)scale(0.1 -0.1)\">\n       <use xlink:href=\"#DejaVuSans-55\"/>\n       <use x=\"63.623047\" xlink:href=\"#DejaVuSans-46\"/>\n       <use x=\"95.410156\" xlink:href=\"#DejaVuSans-53\"/>\n      </g>\n     </g>\n    </g>\n    <g id=\"ytick_21\">\n     <g id=\"line2d_95\">\n      <path clip-path=\"url(#p5ec4e15a8e)\" d=\"M 414.93519 224.676794 \nL 706.065625 224.676794 \n\" style=\"fill:none;stroke:#ffffff;stroke-linecap:square;stroke-width:0.8;\"/>\n     </g>\n     <g id=\"line2d_96\">\n      <g>\n       <use style=\"fill:#555555;stroke:#555555;stroke-width:0.8;\" x=\"414.93519\" xlink:href=\"#me1d36122be\" y=\"224.676794\"/>\n      </g>\n     </g>\n     <g id=\"text_51\">\n      <!-- 10.0 -->\n      <g style=\"fill:#555555;\" transform=\"translate(385.669565 228.476012)scale(0.1 -0.1)\">\n       <use xlink:href=\"#DejaVuSans-49\"/>\n       <use x=\"63.623047\" xlink:href=\"#DejaVuSans-48\"/>\n       <use x=\"127.246094\" xlink:href=\"#DejaVuSans-46\"/>\n       <use x=\"159.033203\" xlink:href=\"#DejaVuSans-48\"/>\n      </g>\n     </g>\n    </g>\n    <g id=\"ytick_22\">\n     <g id=\"line2d_97\">\n      <path clip-path=\"url(#p5ec4e15a8e)\" d=\"M 414.93519 198.2628 \nL 706.065625 198.2628 \n\" style=\"fill:none;stroke:#ffffff;stroke-linecap:square;stroke-width:0.8;\"/>\n     </g>\n     <g id=\"line2d_98\">\n      <g>\n       <use style=\"fill:#555555;stroke:#555555;stroke-width:0.8;\" x=\"414.93519\" xlink:href=\"#me1d36122be\" y=\"198.2628\"/>\n      </g>\n     </g>\n     <g id=\"text_52\">\n      <!-- 12.5 -->\n      <g style=\"fill:#555555;\" transform=\"translate(385.669565 202.062018)scale(0.1 -0.1)\">\n       <use xlink:href=\"#DejaVuSans-49\"/>\n       <use x=\"63.623047\" xlink:href=\"#DejaVuSans-50\"/>\n       <use x=\"127.246094\" xlink:href=\"#DejaVuSans-46\"/>\n       <use x=\"159.033203\" xlink:href=\"#DejaVuSans-53\"/>\n      </g>\n     </g>\n    </g>\n   </g>\n   <g id=\"patch_48\">\n    <path clip-path=\"url(#p5ec4e15a8e)\" d=\"M 428.168392 330.33277 \nL 454.634795 330.33277 \nL 454.634795 288.07038 \nL 428.168392 288.07038 \nz\n\" style=\"fill:#e24a33;\"/>\n   </g>\n   <g id=\"patch_49\">\n    <path clip-path=\"url(#p5ec4e15a8e)\" d=\"M 454.634795 330.33277 \nL 481.101198 330.33277 \nL 481.101198 330.33277 \nL 454.634795 330.33277 \nz\n\" style=\"fill:#e24a33;\"/>\n   </g>\n   <g id=\"patch_50\">\n    <path clip-path=\"url(#p5ec4e15a8e)\" d=\"M 481.101198 330.33277 \nL 507.567601 330.33277 \nL 507.567601 203.545598 \nL 481.101198 203.545598 \nz\n\" style=\"fill:#e24a33;\"/>\n   </g>\n   <g id=\"patch_51\">\n    <path clip-path=\"url(#p5ec4e15a8e)\" d=\"M 507.567601 330.33277 \nL 534.034004 330.33277 \nL 534.034004 330.33277 \nL 507.567601 330.33277 \nz\n\" style=\"fill:#e24a33;\"/>\n   </g>\n   <g id=\"patch_52\">\n    <path clip-path=\"url(#p5ec4e15a8e)\" d=\"M 534.034004 330.33277 \nL 560.500408 330.33277 \nL 560.500408 224.676794 \nL 534.034004 224.676794 \nz\n\" style=\"fill:#e24a33;\"/>\n   </g>\n   <g id=\"patch_53\">\n    <path clip-path=\"url(#p5ec4e15a8e)\" d=\"M 560.500408 330.33277 \nL 586.966811 330.33277 \nL 586.966811 330.33277 \nL 560.500408 330.33277 \nz\n\" style=\"fill:#e24a33;\"/>\n   </g>\n   <g id=\"patch_54\">\n    <path clip-path=\"url(#p5ec4e15a8e)\" d=\"M 586.966811 330.33277 \nL 613.433214 330.33277 \nL 613.433214 266.939184 \nL 586.966811 266.939184 \nz\n\" style=\"fill:#e24a33;\"/>\n   </g>\n   <g id=\"patch_55\">\n    <path clip-path=\"url(#p5ec4e15a8e)\" d=\"M 613.433214 330.33277 \nL 639.899617 330.33277 \nL 639.899617 330.33277 \nL 613.433214 330.33277 \nz\n\" style=\"fill:#e24a33;\"/>\n   </g>\n   <g id=\"patch_56\">\n    <path clip-path=\"url(#p5ec4e15a8e)\" d=\"M 639.899617 330.33277 \nL 666.36602 330.33277 \nL 666.36602 266.939184 \nL 639.899617 266.939184 \nz\n\" style=\"fill:#e24a33;\"/>\n   </g>\n   <g id=\"patch_57\">\n    <path clip-path=\"url(#p5ec4e15a8e)\" d=\"M 666.36602 330.33277 \nL 692.832423 330.33277 \nL 692.832423 309.201575 \nL 666.36602 309.201575 \nz\n\" style=\"fill:#e24a33;\"/>\n   </g>\n   <g id=\"patch_58\">\n    <path d=\"M 414.93519 330.33277 \nL 414.93519 197.20624 \n\" style=\"fill:none;stroke:#ffffff;stroke-linecap:square;stroke-linejoin:miter;\"/>\n   </g>\n   <g id=\"patch_59\">\n    <path d=\"M 706.065625 330.33277 \nL 706.065625 197.20624 \n\" style=\"fill:none;stroke:#ffffff;stroke-linecap:square;stroke-linejoin:miter;\"/>\n   </g>\n   <g id=\"patch_60\">\n    <path d=\"M 414.93519 330.33277 \nL 706.065625 330.33277 \n\" style=\"fill:none;stroke:#ffffff;stroke-linecap:square;stroke-linejoin:miter;\"/>\n   </g>\n   <g id=\"patch_61\">\n    <path d=\"M 414.93519 197.20624 \nL 706.065625 197.20624 \n\" style=\"fill:none;stroke:#ffffff;stroke-linecap:square;stroke-linejoin:miter;\"/>\n   </g>\n   <g id=\"text_53\">\n    <!-- V2 -->\n    <g transform=\"translate(550.994158 191.20624)scale(0.144 -0.144)\">\n     <use xlink:href=\"#DejaVuSans-86\"/>\n     <use x=\"68.408203\" xlink:href=\"#DejaVuSans-50\"/>\n    </g>\n   </g>\n  </g>\n  <g id=\"axes_5\">\n   <g id=\"patch_62\">\n    <path d=\"M 36.465625 503.39726 \nL 327.59606 503.39726 \nL 327.59606 370.27073 \nL 36.465625 370.27073 \nz\n\" style=\"fill:#e5e5e5;\"/>\n   </g>\n   <g id=\"matplotlib.axis_9\">\n    <g id=\"xtick_28\">\n     <g id=\"line2d_99\">\n      <path clip-path=\"url(#p2706c0425a)\" d=\"M 49.698827 503.39726 \nL 49.698827 370.27073 \n\" style=\"fill:none;stroke:#ffffff;stroke-linecap:square;stroke-width:0.8;\"/>\n     </g>\n     <g id=\"line2d_100\">\n      <g>\n       <use style=\"fill:#555555;stroke:#555555;stroke-width:0.8;\" x=\"49.698827\" xlink:href=\"#m8508845eaf\" y=\"503.39726\"/>\n      </g>\n     </g>\n     <g id=\"text_54\">\n      <!-- 1 -->\n      <g style=\"fill:#555555;\" transform=\"translate(46.517577 517.995698)scale(0.1 -0.1)\">\n       <use xlink:href=\"#DejaVuSans-49\"/>\n      </g>\n     </g>\n    </g>\n    <g id=\"xtick_29\">\n     <g id=\"line2d_101\">\n      <path clip-path=\"url(#p2706c0425a)\" d=\"M 93.809499 503.39726 \nL 93.809499 370.27073 \n\" style=\"fill:none;stroke:#ffffff;stroke-linecap:square;stroke-width:0.8;\"/>\n     </g>\n     <g id=\"line2d_102\">\n      <g>\n       <use style=\"fill:#555555;stroke:#555555;stroke-width:0.8;\" x=\"93.809499\" xlink:href=\"#m8508845eaf\" y=\"503.39726\"/>\n      </g>\n     </g>\n     <g id=\"text_55\">\n      <!-- 2 -->\n      <g style=\"fill:#555555;\" transform=\"translate(90.628249 517.995698)scale(0.1 -0.1)\">\n       <use xlink:href=\"#DejaVuSans-50\"/>\n      </g>\n     </g>\n    </g>\n    <g id=\"xtick_30\">\n     <g id=\"line2d_103\">\n      <path clip-path=\"url(#p2706c0425a)\" d=\"M 137.92017 503.39726 \nL 137.92017 370.27073 \n\" style=\"fill:none;stroke:#ffffff;stroke-linecap:square;stroke-width:0.8;\"/>\n     </g>\n     <g id=\"line2d_104\">\n      <g>\n       <use style=\"fill:#555555;stroke:#555555;stroke-width:0.8;\" x=\"137.92017\" xlink:href=\"#m8508845eaf\" y=\"503.39726\"/>\n      </g>\n     </g>\n     <g id=\"text_56\">\n      <!-- 3 -->\n      <g style=\"fill:#555555;\" transform=\"translate(134.73892 517.995698)scale(0.1 -0.1)\">\n       <use xlink:href=\"#DejaVuSans-51\"/>\n      </g>\n     </g>\n    </g>\n    <g id=\"xtick_31\">\n     <g id=\"line2d_105\">\n      <path clip-path=\"url(#p2706c0425a)\" d=\"M 182.030842 503.39726 \nL 182.030842 370.27073 \n\" style=\"fill:none;stroke:#ffffff;stroke-linecap:square;stroke-width:0.8;\"/>\n     </g>\n     <g id=\"line2d_106\">\n      <g>\n       <use style=\"fill:#555555;stroke:#555555;stroke-width:0.8;\" x=\"182.030842\" xlink:href=\"#m8508845eaf\" y=\"503.39726\"/>\n      </g>\n     </g>\n     <g id=\"text_57\">\n      <!-- 4 -->\n      <g style=\"fill:#555555;\" transform=\"translate(178.849592 517.995698)scale(0.1 -0.1)\">\n       <use xlink:href=\"#DejaVuSans-52\"/>\n      </g>\n     </g>\n    </g>\n    <g id=\"xtick_32\">\n     <g id=\"line2d_107\">\n      <path clip-path=\"url(#p2706c0425a)\" d=\"M 226.141514 503.39726 \nL 226.141514 370.27073 \n\" style=\"fill:none;stroke:#ffffff;stroke-linecap:square;stroke-width:0.8;\"/>\n     </g>\n     <g id=\"line2d_108\">\n      <g>\n       <use style=\"fill:#555555;stroke:#555555;stroke-width:0.8;\" x=\"226.141514\" xlink:href=\"#m8508845eaf\" y=\"503.39726\"/>\n      </g>\n     </g>\n     <g id=\"text_58\">\n      <!-- 5 -->\n      <g style=\"fill:#555555;\" transform=\"translate(222.960264 517.995698)scale(0.1 -0.1)\">\n       <use xlink:href=\"#DejaVuSans-53\"/>\n      </g>\n     </g>\n    </g>\n    <g id=\"xtick_33\">\n     <g id=\"line2d_109\">\n      <path clip-path=\"url(#p2706c0425a)\" d=\"M 270.252186 503.39726 \nL 270.252186 370.27073 \n\" style=\"fill:none;stroke:#ffffff;stroke-linecap:square;stroke-width:0.8;\"/>\n     </g>\n     <g id=\"line2d_110\">\n      <g>\n       <use style=\"fill:#555555;stroke:#555555;stroke-width:0.8;\" x=\"270.252186\" xlink:href=\"#m8508845eaf\" y=\"503.39726\"/>\n      </g>\n     </g>\n     <g id=\"text_59\">\n      <!-- 6 -->\n      <g style=\"fill:#555555;\" transform=\"translate(267.070936 517.995698)scale(0.1 -0.1)\">\n       <use xlink:href=\"#DejaVuSans-54\"/>\n      </g>\n     </g>\n    </g>\n    <g id=\"xtick_34\">\n     <g id=\"line2d_111\">\n      <path clip-path=\"url(#p2706c0425a)\" d=\"M 314.362858 503.39726 \nL 314.362858 370.27073 \n\" style=\"fill:none;stroke:#ffffff;stroke-linecap:square;stroke-width:0.8;\"/>\n     </g>\n     <g id=\"line2d_112\">\n      <g>\n       <use style=\"fill:#555555;stroke:#555555;stroke-width:0.8;\" x=\"314.362858\" xlink:href=\"#m8508845eaf\" y=\"503.39726\"/>\n      </g>\n     </g>\n     <g id=\"text_60\">\n      <!-- 7 -->\n      <g style=\"fill:#555555;\" transform=\"translate(311.181608 517.995698)scale(0.1 -0.1)\">\n       <use xlink:href=\"#DejaVuSans-55\"/>\n      </g>\n     </g>\n    </g>\n   </g>\n   <g id=\"matplotlib.axis_10\">\n    <g id=\"ytick_23\">\n     <g id=\"line2d_113\">\n      <path clip-path=\"url(#p2706c0425a)\" d=\"M 36.465625 503.39726 \nL 327.59606 503.39726 \n\" style=\"fill:none;stroke:#ffffff;stroke-linecap:square;stroke-width:0.8;\"/>\n     </g>\n     <g id=\"line2d_114\">\n      <g>\n       <use style=\"fill:#555555;stroke:#555555;stroke-width:0.8;\" x=\"36.465625\" xlink:href=\"#me1d36122be\" y=\"503.39726\"/>\n      </g>\n     </g>\n     <g id=\"text_61\">\n      <!-- 0 -->\n      <g style=\"fill:#555555;\" transform=\"translate(23.103125 507.196479)scale(0.1 -0.1)\">\n       <use xlink:href=\"#DejaVuSans-48\"/>\n      </g>\n     </g>\n    </g>\n    <g id=\"ytick_24\">\n     <g id=\"line2d_115\">\n      <path clip-path=\"url(#p2706c0425a)\" d=\"M 36.465625 471.700467 \nL 327.59606 471.700467 \n\" style=\"fill:none;stroke:#ffffff;stroke-linecap:square;stroke-width:0.8;\"/>\n     </g>\n     <g id=\"line2d_116\">\n      <g>\n       <use style=\"fill:#555555;stroke:#555555;stroke-width:0.8;\" x=\"36.465625\" xlink:href=\"#me1d36122be\" y=\"471.700467\"/>\n      </g>\n     </g>\n     <g id=\"text_62\">\n      <!-- 2 -->\n      <g style=\"fill:#555555;\" transform=\"translate(23.103125 475.499686)scale(0.1 -0.1)\">\n       <use xlink:href=\"#DejaVuSans-50\"/>\n      </g>\n     </g>\n    </g>\n    <g id=\"ytick_25\">\n     <g id=\"line2d_117\">\n      <path clip-path=\"url(#p2706c0425a)\" d=\"M 36.465625 440.003674 \nL 327.59606 440.003674 \n\" style=\"fill:none;stroke:#ffffff;stroke-linecap:square;stroke-width:0.8;\"/>\n     </g>\n     <g id=\"line2d_118\">\n      <g>\n       <use style=\"fill:#555555;stroke:#555555;stroke-width:0.8;\" x=\"36.465625\" xlink:href=\"#me1d36122be\" y=\"440.003674\"/>\n      </g>\n     </g>\n     <g id=\"text_63\">\n      <!-- 4 -->\n      <g style=\"fill:#555555;\" transform=\"translate(23.103125 443.802893)scale(0.1 -0.1)\">\n       <use xlink:href=\"#DejaVuSans-52\"/>\n      </g>\n     </g>\n    </g>\n    <g id=\"ytick_26\">\n     <g id=\"line2d_119\">\n      <path clip-path=\"url(#p2706c0425a)\" d=\"M 36.465625 408.306881 \nL 327.59606 408.306881 \n\" style=\"fill:none;stroke:#ffffff;stroke-linecap:square;stroke-width:0.8;\"/>\n     </g>\n     <g id=\"line2d_120\">\n      <g>\n       <use style=\"fill:#555555;stroke:#555555;stroke-width:0.8;\" x=\"36.465625\" xlink:href=\"#me1d36122be\" y=\"408.306881\"/>\n      </g>\n     </g>\n     <g id=\"text_64\">\n      <!-- 6 -->\n      <g style=\"fill:#555555;\" transform=\"translate(23.103125 412.1061)scale(0.1 -0.1)\">\n       <use xlink:href=\"#DejaVuSans-54\"/>\n      </g>\n     </g>\n    </g>\n    <g id=\"ytick_27\">\n     <g id=\"line2d_121\">\n      <path clip-path=\"url(#p2706c0425a)\" d=\"M 36.465625 376.610088 \nL 327.59606 376.610088 \n\" style=\"fill:none;stroke:#ffffff;stroke-linecap:square;stroke-width:0.8;\"/>\n     </g>\n     <g id=\"line2d_122\">\n      <g>\n       <use style=\"fill:#555555;stroke:#555555;stroke-width:0.8;\" x=\"36.465625\" xlink:href=\"#me1d36122be\" y=\"376.610088\"/>\n      </g>\n     </g>\n     <g id=\"text_65\">\n      <!-- 8 -->\n      <g style=\"fill:#555555;\" transform=\"translate(23.103125 380.409307)scale(0.1 -0.1)\">\n       <use xlink:href=\"#DejaVuSans-56\"/>\n      </g>\n     </g>\n    </g>\n   </g>\n   <g id=\"patch_63\">\n    <path clip-path=\"url(#p2706c0425a)\" d=\"M 49.698827 503.39726 \nL 76.16523 503.39726 \nL 76.16523 440.003674 \nL 49.698827 440.003674 \nz\n\" style=\"fill:#e24a33;\"/>\n   </g>\n   <g id=\"patch_64\">\n    <path clip-path=\"url(#p2706c0425a)\" d=\"M 76.16523 503.39726 \nL 102.631633 503.39726 \nL 102.631633 376.610088 \nL 76.16523 376.610088 \nz\n\" style=\"fill:#e24a33;\"/>\n   </g>\n   <g id=\"patch_65\">\n    <path clip-path=\"url(#p2706c0425a)\" d=\"M 102.631633 503.39726 \nL 129.098036 503.39726 \nL 129.098036 503.39726 \nL 102.631633 503.39726 \nz\n\" style=\"fill:#e24a33;\"/>\n   </g>\n   <g id=\"patch_66\">\n    <path clip-path=\"url(#p2706c0425a)\" d=\"M 129.098036 503.39726 \nL 155.564439 503.39726 \nL 155.564439 408.306881 \nL 129.098036 408.306881 \nz\n\" style=\"fill:#e24a33;\"/>\n   </g>\n   <g id=\"patch_67\">\n    <path clip-path=\"url(#p2706c0425a)\" d=\"M 155.564439 503.39726 \nL 182.030842 503.39726 \nL 182.030842 503.39726 \nL 155.564439 503.39726 \nz\n\" style=\"fill:#e24a33;\"/>\n   </g>\n   <g id=\"patch_68\">\n    <path clip-path=\"url(#p2706c0425a)\" d=\"M 182.030842 503.39726 \nL 208.497246 503.39726 \nL 208.497246 376.610088 \nL 182.030842 376.610088 \nz\n\" style=\"fill:#e24a33;\"/>\n   </g>\n   <g id=\"patch_69\">\n    <path clip-path=\"url(#p2706c0425a)\" d=\"M 208.497246 503.39726 \nL 234.963649 503.39726 \nL 234.963649 471.700467 \nL 208.497246 471.700467 \nz\n\" style=\"fill:#e24a33;\"/>\n   </g>\n   <g id=\"patch_70\">\n    <path clip-path=\"url(#p2706c0425a)\" d=\"M 234.963649 503.39726 \nL 261.430052 503.39726 \nL 261.430052 503.39726 \nL 234.963649 503.39726 \nz\n\" style=\"fill:#e24a33;\"/>\n   </g>\n   <g id=\"patch_71\">\n    <path clip-path=\"url(#p2706c0425a)\" d=\"M 261.430052 503.39726 \nL 287.896455 503.39726 \nL 287.896455 408.306881 \nL 261.430052 408.306881 \nz\n\" style=\"fill:#e24a33;\"/>\n   </g>\n   <g id=\"patch_72\">\n    <path clip-path=\"url(#p2706c0425a)\" d=\"M 287.896455 503.39726 \nL 314.362858 503.39726 \nL 314.362858 408.306881 \nL 287.896455 408.306881 \nz\n\" style=\"fill:#e24a33;\"/>\n   </g>\n   <g id=\"patch_73\">\n    <path d=\"M 36.465625 503.39726 \nL 36.465625 370.27073 \n\" style=\"fill:none;stroke:#ffffff;stroke-linecap:square;stroke-linejoin:miter;\"/>\n   </g>\n   <g id=\"patch_74\">\n    <path d=\"M 327.59606 503.39726 \nL 327.59606 370.27073 \n\" style=\"fill:none;stroke:#ffffff;stroke-linecap:square;stroke-linejoin:miter;\"/>\n   </g>\n   <g id=\"patch_75\">\n    <path d=\"M 36.465625 503.39726 \nL 327.59606 503.39726 \n\" style=\"fill:none;stroke:#ffffff;stroke-linecap:square;stroke-linejoin:miter;\"/>\n   </g>\n   <g id=\"patch_76\">\n    <path d=\"M 36.465625 370.27073 \nL 327.59606 370.27073 \n\" style=\"fill:none;stroke:#ffffff;stroke-linecap:square;stroke-linejoin:miter;\"/>\n   </g>\n   <g id=\"text_66\">\n    <!-- V3 -->\n    <g transform=\"translate(172.524592 364.27073)scale(0.144 -0.144)\">\n     <use xlink:href=\"#DejaVuSans-86\"/>\n     <use x=\"68.408203\" xlink:href=\"#DejaVuSans-51\"/>\n    </g>\n   </g>\n  </g>\n  <g id=\"axes_6\">\n   <g id=\"patch_77\">\n    <path d=\"M 414.93519 503.39726 \nL 706.065625 503.39726 \nL 706.065625 370.27073 \nL 414.93519 370.27073 \nz\n\" style=\"fill:#e5e5e5;\"/>\n   </g>\n   <g id=\"matplotlib.axis_11\">\n    <g id=\"xtick_35\">\n     <g id=\"line2d_123\">\n      <path clip-path=\"url(#p759ce4b05a)\" d=\"M 428.168392 503.39726 \nL 428.168392 370.27073 \n\" style=\"fill:none;stroke:#ffffff;stroke-linecap:square;stroke-width:0.8;\"/>\n     </g>\n     <g id=\"line2d_124\">\n      <g>\n       <use style=\"fill:#555555;stroke:#555555;stroke-width:0.8;\" x=\"428.168392\" xlink:href=\"#m8508845eaf\" y=\"503.39726\"/>\n      </g>\n     </g>\n     <g id=\"text_67\">\n      <!-- 2 -->\n      <g style=\"fill:#555555;\" transform=\"translate(424.987142 517.995698)scale(0.1 -0.1)\">\n       <use xlink:href=\"#DejaVuSans-50\"/>\n      </g>\n     </g>\n    </g>\n    <g id=\"xtick_36\">\n     <g id=\"line2d_125\">\n      <path clip-path=\"url(#p759ce4b05a)\" d=\"M 481.101198 503.39726 \nL 481.101198 370.27073 \n\" style=\"fill:none;stroke:#ffffff;stroke-linecap:square;stroke-width:0.8;\"/>\n     </g>\n     <g id=\"line2d_126\">\n      <g>\n       <use style=\"fill:#555555;stroke:#555555;stroke-width:0.8;\" x=\"481.101198\" xlink:href=\"#m8508845eaf\" y=\"503.39726\"/>\n      </g>\n     </g>\n     <g id=\"text_68\">\n      <!-- 3 -->\n      <g style=\"fill:#555555;\" transform=\"translate(477.919948 517.995698)scale(0.1 -0.1)\">\n       <use xlink:href=\"#DejaVuSans-51\"/>\n      </g>\n     </g>\n    </g>\n    <g id=\"xtick_37\">\n     <g id=\"line2d_127\">\n      <path clip-path=\"url(#p759ce4b05a)\" d=\"M 534.034004 503.39726 \nL 534.034004 370.27073 \n\" style=\"fill:none;stroke:#ffffff;stroke-linecap:square;stroke-width:0.8;\"/>\n     </g>\n     <g id=\"line2d_128\">\n      <g>\n       <use style=\"fill:#555555;stroke:#555555;stroke-width:0.8;\" x=\"534.034004\" xlink:href=\"#m8508845eaf\" y=\"503.39726\"/>\n      </g>\n     </g>\n     <g id=\"text_69\">\n      <!-- 4 -->\n      <g style=\"fill:#555555;\" transform=\"translate(530.852754 517.995698)scale(0.1 -0.1)\">\n       <use xlink:href=\"#DejaVuSans-52\"/>\n      </g>\n     </g>\n    </g>\n    <g id=\"xtick_38\">\n     <g id=\"line2d_129\">\n      <path clip-path=\"url(#p759ce4b05a)\" d=\"M 586.966811 503.39726 \nL 586.966811 370.27073 \n\" style=\"fill:none;stroke:#ffffff;stroke-linecap:square;stroke-width:0.8;\"/>\n     </g>\n     <g id=\"line2d_130\">\n      <g>\n       <use style=\"fill:#555555;stroke:#555555;stroke-width:0.8;\" x=\"586.966811\" xlink:href=\"#m8508845eaf\" y=\"503.39726\"/>\n      </g>\n     </g>\n     <g id=\"text_70\">\n      <!-- 5 -->\n      <g style=\"fill:#555555;\" transform=\"translate(583.785561 517.995698)scale(0.1 -0.1)\">\n       <use xlink:href=\"#DejaVuSans-53\"/>\n      </g>\n     </g>\n    </g>\n    <g id=\"xtick_39\">\n     <g id=\"line2d_131\">\n      <path clip-path=\"url(#p759ce4b05a)\" d=\"M 639.899617 503.39726 \nL 639.899617 370.27073 \n\" style=\"fill:none;stroke:#ffffff;stroke-linecap:square;stroke-width:0.8;\"/>\n     </g>\n     <g id=\"line2d_132\">\n      <g>\n       <use style=\"fill:#555555;stroke:#555555;stroke-width:0.8;\" x=\"639.899617\" xlink:href=\"#m8508845eaf\" y=\"503.39726\"/>\n      </g>\n     </g>\n     <g id=\"text_71\">\n      <!-- 6 -->\n      <g style=\"fill:#555555;\" transform=\"translate(636.718367 517.995698)scale(0.1 -0.1)\">\n       <use xlink:href=\"#DejaVuSans-54\"/>\n      </g>\n     </g>\n    </g>\n    <g id=\"xtick_40\">\n     <g id=\"line2d_133\">\n      <path clip-path=\"url(#p759ce4b05a)\" d=\"M 692.832423 503.39726 \nL 692.832423 370.27073 \n\" style=\"fill:none;stroke:#ffffff;stroke-linecap:square;stroke-width:0.8;\"/>\n     </g>\n     <g id=\"line2d_134\">\n      <g>\n       <use style=\"fill:#555555;stroke:#555555;stroke-width:0.8;\" x=\"692.832423\" xlink:href=\"#m8508845eaf\" y=\"503.39726\"/>\n      </g>\n     </g>\n     <g id=\"text_72\">\n      <!-- 7 -->\n      <g style=\"fill:#555555;\" transform=\"translate(689.651173 517.995698)scale(0.1 -0.1)\">\n       <use xlink:href=\"#DejaVuSans-55\"/>\n      </g>\n     </g>\n    </g>\n   </g>\n   <g id=\"matplotlib.axis_12\">\n    <g id=\"ytick_28\">\n     <g id=\"line2d_135\">\n      <path clip-path=\"url(#p759ce4b05a)\" d=\"M 414.93519 503.39726 \nL 706.065625 503.39726 \n\" style=\"fill:none;stroke:#ffffff;stroke-linecap:square;stroke-width:0.8;\"/>\n     </g>\n     <g id=\"line2d_136\">\n      <g>\n       <use style=\"fill:#555555;stroke:#555555;stroke-width:0.8;\" x=\"414.93519\" xlink:href=\"#me1d36122be\" y=\"503.39726\"/>\n      </g>\n     </g>\n     <g id=\"text_73\">\n      <!-- 0 -->\n      <g style=\"fill:#555555;\" transform=\"translate(401.57269 507.196479)scale(0.1 -0.1)\">\n       <use xlink:href=\"#DejaVuSans-48\"/>\n      </g>\n     </g>\n    </g>\n    <g id=\"ytick_29\">\n     <g id=\"line2d_137\">\n      <path clip-path=\"url(#p759ce4b05a)\" d=\"M 414.93519 478.039826 \nL 706.065625 478.039826 \n\" style=\"fill:none;stroke:#ffffff;stroke-linecap:square;stroke-width:0.8;\"/>\n     </g>\n     <g id=\"line2d_138\">\n      <g>\n       <use style=\"fill:#555555;stroke:#555555;stroke-width:0.8;\" x=\"414.93519\" xlink:href=\"#me1d36122be\" y=\"478.039826\"/>\n      </g>\n     </g>\n     <g id=\"text_74\">\n      <!-- 2 -->\n      <g style=\"fill:#555555;\" transform=\"translate(401.57269 481.839045)scale(0.1 -0.1)\">\n       <use xlink:href=\"#DejaVuSans-50\"/>\n      </g>\n     </g>\n    </g>\n    <g id=\"ytick_30\">\n     <g id=\"line2d_139\">\n      <path clip-path=\"url(#p759ce4b05a)\" d=\"M 414.93519 452.682391 \nL 706.065625 452.682391 \n\" style=\"fill:none;stroke:#ffffff;stroke-linecap:square;stroke-width:0.8;\"/>\n     </g>\n     <g id=\"line2d_140\">\n      <g>\n       <use style=\"fill:#555555;stroke:#555555;stroke-width:0.8;\" x=\"414.93519\" xlink:href=\"#me1d36122be\" y=\"452.682391\"/>\n      </g>\n     </g>\n     <g id=\"text_75\">\n      <!-- 4 -->\n      <g style=\"fill:#555555;\" transform=\"translate(401.57269 456.48161)scale(0.1 -0.1)\">\n       <use xlink:href=\"#DejaVuSans-52\"/>\n      </g>\n     </g>\n    </g>\n    <g id=\"ytick_31\">\n     <g id=\"line2d_141\">\n      <path clip-path=\"url(#p759ce4b05a)\" d=\"M 414.93519 427.324957 \nL 706.065625 427.324957 \n\" style=\"fill:none;stroke:#ffffff;stroke-linecap:square;stroke-width:0.8;\"/>\n     </g>\n     <g id=\"line2d_142\">\n      <g>\n       <use style=\"fill:#555555;stroke:#555555;stroke-width:0.8;\" x=\"414.93519\" xlink:href=\"#me1d36122be\" y=\"427.324957\"/>\n      </g>\n     </g>\n     <g id=\"text_76\">\n      <!-- 6 -->\n      <g style=\"fill:#555555;\" transform=\"translate(401.57269 431.124176)scale(0.1 -0.1)\">\n       <use xlink:href=\"#DejaVuSans-54\"/>\n      </g>\n     </g>\n    </g>\n    <g id=\"ytick_32\">\n     <g id=\"line2d_143\">\n      <path clip-path=\"url(#p759ce4b05a)\" d=\"M 414.93519 401.967523 \nL 706.065625 401.967523 \n\" style=\"fill:none;stroke:#ffffff;stroke-linecap:square;stroke-width:0.8;\"/>\n     </g>\n     <g id=\"line2d_144\">\n      <g>\n       <use style=\"fill:#555555;stroke:#555555;stroke-width:0.8;\" x=\"414.93519\" xlink:href=\"#me1d36122be\" y=\"401.967523\"/>\n      </g>\n     </g>\n     <g id=\"text_77\">\n      <!-- 8 -->\n      <g style=\"fill:#555555;\" transform=\"translate(401.57269 405.766741)scale(0.1 -0.1)\">\n       <use xlink:href=\"#DejaVuSans-56\"/>\n      </g>\n     </g>\n    </g>\n    <g id=\"ytick_33\">\n     <g id=\"line2d_145\">\n      <path clip-path=\"url(#p759ce4b05a)\" d=\"M 414.93519 376.610088 \nL 706.065625 376.610088 \n\" style=\"fill:none;stroke:#ffffff;stroke-linecap:square;stroke-width:0.8;\"/>\n     </g>\n     <g id=\"line2d_146\">\n      <g>\n       <use style=\"fill:#555555;stroke:#555555;stroke-width:0.8;\" x=\"414.93519\" xlink:href=\"#me1d36122be\" y=\"376.610088\"/>\n      </g>\n     </g>\n     <g id=\"text_78\">\n      <!-- 10 -->\n      <g style=\"fill:#555555;\" transform=\"translate(395.21019 380.409307)scale(0.1 -0.1)\">\n       <use xlink:href=\"#DejaVuSans-49\"/>\n       <use x=\"63.623047\" xlink:href=\"#DejaVuSans-48\"/>\n      </g>\n     </g>\n    </g>\n   </g>\n   <g id=\"patch_78\">\n    <path clip-path=\"url(#p759ce4b05a)\" d=\"M 428.168392 503.39726 \nL 454.634795 503.39726 \nL 454.634795 427.324957 \nL 428.168392 427.324957 \nz\n\" style=\"fill:#e24a33;\"/>\n   </g>\n   <g id=\"patch_79\">\n    <path clip-path=\"url(#p759ce4b05a)\" d=\"M 454.634795 503.39726 \nL 481.101198 503.39726 \nL 481.101198 503.39726 \nL 454.634795 503.39726 \nz\n\" style=\"fill:#e24a33;\"/>\n   </g>\n   <g id=\"patch_80\">\n    <path clip-path=\"url(#p759ce4b05a)\" d=\"M 481.101198 503.39726 \nL 507.567601 503.39726 \nL 507.567601 376.610088 \nL 481.101198 376.610088 \nz\n\" style=\"fill:#e24a33;\"/>\n   </g>\n   <g id=\"patch_81\">\n    <path clip-path=\"url(#p759ce4b05a)\" d=\"M 507.567601 503.39726 \nL 534.034004 503.39726 \nL 534.034004 503.39726 \nL 507.567601 503.39726 \nz\n\" style=\"fill:#e24a33;\"/>\n   </g>\n   <g id=\"patch_82\">\n    <path clip-path=\"url(#p759ce4b05a)\" d=\"M 534.034004 503.39726 \nL 560.500408 503.39726 \nL 560.500408 376.610088 \nL 534.034004 376.610088 \nz\n\" style=\"fill:#e24a33;\"/>\n   </g>\n   <g id=\"patch_83\">\n    <path clip-path=\"url(#p759ce4b05a)\" d=\"M 560.500408 503.39726 \nL 586.966811 503.39726 \nL 586.966811 503.39726 \nL 560.500408 503.39726 \nz\n\" style=\"fill:#e24a33;\"/>\n   </g>\n   <g id=\"patch_84\">\n    <path clip-path=\"url(#p759ce4b05a)\" d=\"M 586.966811 503.39726 \nL 613.433214 503.39726 \nL 613.433214 452.682391 \nL 586.966811 452.682391 \nz\n\" style=\"fill:#e24a33;\"/>\n   </g>\n   <g id=\"patch_85\">\n    <path clip-path=\"url(#p759ce4b05a)\" d=\"M 613.433214 503.39726 \nL 639.899617 503.39726 \nL 639.899617 503.39726 \nL 613.433214 503.39726 \nz\n\" style=\"fill:#e24a33;\"/>\n   </g>\n   <g id=\"patch_86\">\n    <path clip-path=\"url(#p759ce4b05a)\" d=\"M 639.899617 503.39726 \nL 666.36602 503.39726 \nL 666.36602 401.967523 \nL 639.899617 401.967523 \nz\n\" style=\"fill:#e24a33;\"/>\n   </g>\n   <g id=\"patch_87\">\n    <path clip-path=\"url(#p759ce4b05a)\" d=\"M 666.36602 503.39726 \nL 692.832423 503.39726 \nL 692.832423 478.039826 \nL 666.36602 478.039826 \nz\n\" style=\"fill:#e24a33;\"/>\n   </g>\n   <g id=\"patch_88\">\n    <path d=\"M 414.93519 503.39726 \nL 414.93519 370.27073 \n\" style=\"fill:none;stroke:#ffffff;stroke-linecap:square;stroke-linejoin:miter;\"/>\n   </g>\n   <g id=\"patch_89\">\n    <path d=\"M 706.065625 503.39726 \nL 706.065625 370.27073 \n\" style=\"fill:none;stroke:#ffffff;stroke-linecap:square;stroke-linejoin:miter;\"/>\n   </g>\n   <g id=\"patch_90\">\n    <path d=\"M 414.93519 503.39726 \nL 706.065625 503.39726 \n\" style=\"fill:none;stroke:#ffffff;stroke-linecap:square;stroke-linejoin:miter;\"/>\n   </g>\n   <g id=\"patch_91\">\n    <path d=\"M 414.93519 370.27073 \nL 706.065625 370.27073 \n\" style=\"fill:none;stroke:#ffffff;stroke-linecap:square;stroke-linejoin:miter;\"/>\n   </g>\n   <g id=\"text_79\">\n    <!-- V4 -->\n    <g transform=\"translate(550.994158 364.27073)scale(0.144 -0.144)\">\n     <use xlink:href=\"#DejaVuSans-86\"/>\n     <use x=\"68.408203\" xlink:href=\"#DejaVuSans-52\"/>\n    </g>\n   </g>\n  </g>\n  <g id=\"axes_7\">\n   <g id=\"patch_92\">\n    <path d=\"M 36.465625 676.46175 \nL 327.59606 676.46175 \nL 327.59606 543.335219 \nL 36.465625 543.335219 \nz\n\" style=\"fill:#e5e5e5;\"/>\n   </g>\n   <g id=\"matplotlib.axis_13\">\n    <g id=\"xtick_41\">\n     <g id=\"line2d_147\">\n      <path clip-path=\"url(#p91a13f5dcf)\" d=\"M 49.698827 676.46175 \nL 49.698827 543.335219 \n\" style=\"fill:none;stroke:#ffffff;stroke-linecap:square;stroke-width:0.8;\"/>\n     </g>\n     <g id=\"line2d_148\">\n      <g>\n       <use style=\"fill:#555555;stroke:#555555;stroke-width:0.8;\" x=\"49.698827\" xlink:href=\"#m8508845eaf\" y=\"676.46175\"/>\n      </g>\n     </g>\n     <g id=\"text_80\">\n      <!-- 1 -->\n      <g style=\"fill:#555555;\" transform=\"translate(46.517577 691.060187)scale(0.1 -0.1)\">\n       <use xlink:href=\"#DejaVuSans-49\"/>\n      </g>\n     </g>\n    </g>\n    <g id=\"xtick_42\">\n     <g id=\"line2d_149\">\n      <path clip-path=\"url(#p91a13f5dcf)\" d=\"M 93.809499 676.46175 \nL 93.809499 543.335219 \n\" style=\"fill:none;stroke:#ffffff;stroke-linecap:square;stroke-width:0.8;\"/>\n     </g>\n     <g id=\"line2d_150\">\n      <g>\n       <use style=\"fill:#555555;stroke:#555555;stroke-width:0.8;\" x=\"93.809499\" xlink:href=\"#m8508845eaf\" y=\"676.46175\"/>\n      </g>\n     </g>\n     <g id=\"text_81\">\n      <!-- 2 -->\n      <g style=\"fill:#555555;\" transform=\"translate(90.628249 691.060187)scale(0.1 -0.1)\">\n       <use xlink:href=\"#DejaVuSans-50\"/>\n      </g>\n     </g>\n    </g>\n    <g id=\"xtick_43\">\n     <g id=\"line2d_151\">\n      <path clip-path=\"url(#p91a13f5dcf)\" d=\"M 137.92017 676.46175 \nL 137.92017 543.335219 \n\" style=\"fill:none;stroke:#ffffff;stroke-linecap:square;stroke-width:0.8;\"/>\n     </g>\n     <g id=\"line2d_152\">\n      <g>\n       <use style=\"fill:#555555;stroke:#555555;stroke-width:0.8;\" x=\"137.92017\" xlink:href=\"#m8508845eaf\" y=\"676.46175\"/>\n      </g>\n     </g>\n     <g id=\"text_82\">\n      <!-- 3 -->\n      <g style=\"fill:#555555;\" transform=\"translate(134.73892 691.060187)scale(0.1 -0.1)\">\n       <use xlink:href=\"#DejaVuSans-51\"/>\n      </g>\n     </g>\n    </g>\n    <g id=\"xtick_44\">\n     <g id=\"line2d_153\">\n      <path clip-path=\"url(#p91a13f5dcf)\" d=\"M 182.030842 676.46175 \nL 182.030842 543.335219 \n\" style=\"fill:none;stroke:#ffffff;stroke-linecap:square;stroke-width:0.8;\"/>\n     </g>\n     <g id=\"line2d_154\">\n      <g>\n       <use style=\"fill:#555555;stroke:#555555;stroke-width:0.8;\" x=\"182.030842\" xlink:href=\"#m8508845eaf\" y=\"676.46175\"/>\n      </g>\n     </g>\n     <g id=\"text_83\">\n      <!-- 4 -->\n      <g style=\"fill:#555555;\" transform=\"translate(178.849592 691.060187)scale(0.1 -0.1)\">\n       <use xlink:href=\"#DejaVuSans-52\"/>\n      </g>\n     </g>\n    </g>\n    <g id=\"xtick_45\">\n     <g id=\"line2d_155\">\n      <path clip-path=\"url(#p91a13f5dcf)\" d=\"M 226.141514 676.46175 \nL 226.141514 543.335219 \n\" style=\"fill:none;stroke:#ffffff;stroke-linecap:square;stroke-width:0.8;\"/>\n     </g>\n     <g id=\"line2d_156\">\n      <g>\n       <use style=\"fill:#555555;stroke:#555555;stroke-width:0.8;\" x=\"226.141514\" xlink:href=\"#m8508845eaf\" y=\"676.46175\"/>\n      </g>\n     </g>\n     <g id=\"text_84\">\n      <!-- 5 -->\n      <g style=\"fill:#555555;\" transform=\"translate(222.960264 691.060187)scale(0.1 -0.1)\">\n       <use xlink:href=\"#DejaVuSans-53\"/>\n      </g>\n     </g>\n    </g>\n    <g id=\"xtick_46\">\n     <g id=\"line2d_157\">\n      <path clip-path=\"url(#p91a13f5dcf)\" d=\"M 270.252186 676.46175 \nL 270.252186 543.335219 \n\" style=\"fill:none;stroke:#ffffff;stroke-linecap:square;stroke-width:0.8;\"/>\n     </g>\n     <g id=\"line2d_158\">\n      <g>\n       <use style=\"fill:#555555;stroke:#555555;stroke-width:0.8;\" x=\"270.252186\" xlink:href=\"#m8508845eaf\" y=\"676.46175\"/>\n      </g>\n     </g>\n     <g id=\"text_85\">\n      <!-- 6 -->\n      <g style=\"fill:#555555;\" transform=\"translate(267.070936 691.060187)scale(0.1 -0.1)\">\n       <use xlink:href=\"#DejaVuSans-54\"/>\n      </g>\n     </g>\n    </g>\n    <g id=\"xtick_47\">\n     <g id=\"line2d_159\">\n      <path clip-path=\"url(#p91a13f5dcf)\" d=\"M 314.362858 676.46175 \nL 314.362858 543.335219 \n\" style=\"fill:none;stroke:#ffffff;stroke-linecap:square;stroke-width:0.8;\"/>\n     </g>\n     <g id=\"line2d_160\">\n      <g>\n       <use style=\"fill:#555555;stroke:#555555;stroke-width:0.8;\" x=\"314.362858\" xlink:href=\"#m8508845eaf\" y=\"676.46175\"/>\n      </g>\n     </g>\n     <g id=\"text_86\">\n      <!-- 7 -->\n      <g style=\"fill:#555555;\" transform=\"translate(311.181608 691.060187)scale(0.1 -0.1)\">\n       <use xlink:href=\"#DejaVuSans-55\"/>\n      </g>\n     </g>\n    </g>\n   </g>\n   <g id=\"matplotlib.axis_14\">\n    <g id=\"ytick_34\">\n     <g id=\"line2d_161\">\n      <path clip-path=\"url(#p91a13f5dcf)\" d=\"M 36.465625 676.46175 \nL 327.59606 676.46175 \n\" style=\"fill:none;stroke:#ffffff;stroke-linecap:square;stroke-width:0.8;\"/>\n     </g>\n     <g id=\"line2d_162\">\n      <g>\n       <use style=\"fill:#555555;stroke:#555555;stroke-width:0.8;\" x=\"36.465625\" xlink:href=\"#me1d36122be\" y=\"676.46175\"/>\n      </g>\n     </g>\n     <g id=\"text_87\">\n      <!-- 0 -->\n      <g style=\"fill:#555555;\" transform=\"translate(23.103125 680.260969)scale(0.1 -0.1)\">\n       <use xlink:href=\"#DejaVuSans-48\"/>\n      </g>\n     </g>\n    </g>\n    <g id=\"ytick_35\">\n     <g id=\"line2d_163\">\n      <path clip-path=\"url(#p91a13f5dcf)\" d=\"M 36.465625 651.104316 \nL 327.59606 651.104316 \n\" style=\"fill:none;stroke:#ffffff;stroke-linecap:square;stroke-width:0.8;\"/>\n     </g>\n     <g id=\"line2d_164\">\n      <g>\n       <use style=\"fill:#555555;stroke:#555555;stroke-width:0.8;\" x=\"36.465625\" xlink:href=\"#me1d36122be\" y=\"651.104316\"/>\n      </g>\n     </g>\n     <g id=\"text_88\">\n      <!-- 2 -->\n      <g style=\"fill:#555555;\" transform=\"translate(23.103125 654.903534)scale(0.1 -0.1)\">\n       <use xlink:href=\"#DejaVuSans-50\"/>\n      </g>\n     </g>\n    </g>\n    <g id=\"ytick_36\">\n     <g id=\"line2d_165\">\n      <path clip-path=\"url(#p91a13f5dcf)\" d=\"M 36.465625 625.746881 \nL 327.59606 625.746881 \n\" style=\"fill:none;stroke:#ffffff;stroke-linecap:square;stroke-width:0.8;\"/>\n     </g>\n     <g id=\"line2d_166\">\n      <g>\n       <use style=\"fill:#555555;stroke:#555555;stroke-width:0.8;\" x=\"36.465625\" xlink:href=\"#me1d36122be\" y=\"625.746881\"/>\n      </g>\n     </g>\n     <g id=\"text_89\">\n      <!-- 4 -->\n      <g style=\"fill:#555555;\" transform=\"translate(23.103125 629.5461)scale(0.1 -0.1)\">\n       <use xlink:href=\"#DejaVuSans-52\"/>\n      </g>\n     </g>\n    </g>\n    <g id=\"ytick_37\">\n     <g id=\"line2d_167\">\n      <path clip-path=\"url(#p91a13f5dcf)\" d=\"M 36.465625 600.389447 \nL 327.59606 600.389447 \n\" style=\"fill:none;stroke:#ffffff;stroke-linecap:square;stroke-width:0.8;\"/>\n     </g>\n     <g id=\"line2d_168\">\n      <g>\n       <use style=\"fill:#555555;stroke:#555555;stroke-width:0.8;\" x=\"36.465625\" xlink:href=\"#me1d36122be\" y=\"600.389447\"/>\n      </g>\n     </g>\n     <g id=\"text_90\">\n      <!-- 6 -->\n      <g style=\"fill:#555555;\" transform=\"translate(23.103125 604.188666)scale(0.1 -0.1)\">\n       <use xlink:href=\"#DejaVuSans-54\"/>\n      </g>\n     </g>\n    </g>\n    <g id=\"ytick_38\">\n     <g id=\"line2d_169\">\n      <path clip-path=\"url(#p91a13f5dcf)\" d=\"M 36.465625 575.032012 \nL 327.59606 575.032012 \n\" style=\"fill:none;stroke:#ffffff;stroke-linecap:square;stroke-width:0.8;\"/>\n     </g>\n     <g id=\"line2d_170\">\n      <g>\n       <use style=\"fill:#555555;stroke:#555555;stroke-width:0.8;\" x=\"36.465625\" xlink:href=\"#me1d36122be\" y=\"575.032012\"/>\n      </g>\n     </g>\n     <g id=\"text_91\">\n      <!-- 8 -->\n      <g style=\"fill:#555555;\" transform=\"translate(23.103125 578.831231)scale(0.1 -0.1)\">\n       <use xlink:href=\"#DejaVuSans-56\"/>\n      </g>\n     </g>\n    </g>\n    <g id=\"ytick_39\">\n     <g id=\"line2d_171\">\n      <path clip-path=\"url(#p91a13f5dcf)\" d=\"M 36.465625 549.674578 \nL 327.59606 549.674578 \n\" style=\"fill:none;stroke:#ffffff;stroke-linecap:square;stroke-width:0.8;\"/>\n     </g>\n     <g id=\"line2d_172\">\n      <g>\n       <use style=\"fill:#555555;stroke:#555555;stroke-width:0.8;\" x=\"36.465625\" xlink:href=\"#me1d36122be\" y=\"549.674578\"/>\n      </g>\n     </g>\n     <g id=\"text_92\">\n      <!-- 10 -->\n      <g style=\"fill:#555555;\" transform=\"translate(16.740625 553.473797)scale(0.1 -0.1)\">\n       <use xlink:href=\"#DejaVuSans-49\"/>\n       <use x=\"63.623047\" xlink:href=\"#DejaVuSans-48\"/>\n      </g>\n     </g>\n    </g>\n   </g>\n   <g id=\"patch_93\">\n    <path clip-path=\"url(#p91a13f5dcf)\" d=\"M 49.698827 676.46175 \nL 76.16523 676.46175 \nL 76.16523 600.389447 \nL 49.698827 600.389447 \nz\n\" style=\"fill:#e24a33;\"/>\n   </g>\n   <g id=\"patch_94\">\n    <path clip-path=\"url(#p91a13f5dcf)\" d=\"M 76.16523 676.46175 \nL 102.631633 676.46175 \nL 102.631633 575.032012 \nL 76.16523 575.032012 \nz\n\" style=\"fill:#e24a33;\"/>\n   </g>\n   <g id=\"patch_95\">\n    <path clip-path=\"url(#p91a13f5dcf)\" d=\"M 102.631633 676.46175 \nL 129.098036 676.46175 \nL 129.098036 676.46175 \nL 102.631633 676.46175 \nz\n\" style=\"fill:#e24a33;\"/>\n   </g>\n   <g id=\"patch_96\">\n    <path clip-path=\"url(#p91a13f5dcf)\" d=\"M 129.098036 676.46175 \nL 155.564439 676.46175 \nL 155.564439 600.389447 \nL 129.098036 600.389447 \nz\n\" style=\"fill:#e24a33;\"/>\n   </g>\n   <g id=\"patch_97\">\n    <path clip-path=\"url(#p91a13f5dcf)\" d=\"M 155.564439 676.46175 \nL 182.030842 676.46175 \nL 182.030842 676.46175 \nL 155.564439 676.46175 \nz\n\" style=\"fill:#e24a33;\"/>\n   </g>\n   <g id=\"patch_98\">\n    <path clip-path=\"url(#p91a13f5dcf)\" d=\"M 182.030842 676.46175 \nL 208.497246 676.46175 \nL 208.497246 549.674578 \nL 182.030842 549.674578 \nz\n\" style=\"fill:#e24a33;\"/>\n   </g>\n   <g id=\"patch_99\">\n    <path clip-path=\"url(#p91a13f5dcf)\" d=\"M 208.497246 676.46175 \nL 234.963649 676.46175 \nL 234.963649 625.746881 \nL 208.497246 625.746881 \nz\n\" style=\"fill:#e24a33;\"/>\n   </g>\n   <g id=\"patch_100\">\n    <path clip-path=\"url(#p91a13f5dcf)\" d=\"M 234.963649 676.46175 \nL 261.430052 676.46175 \nL 261.430052 676.46175 \nL 234.963649 676.46175 \nz\n\" style=\"fill:#e24a33;\"/>\n   </g>\n   <g id=\"patch_101\">\n    <path clip-path=\"url(#p91a13f5dcf)\" d=\"M 261.430052 676.46175 \nL 287.896455 676.46175 \nL 287.896455 625.746881 \nL 261.430052 625.746881 \nz\n\" style=\"fill:#e24a33;\"/>\n   </g>\n   <g id=\"patch_102\">\n    <path clip-path=\"url(#p91a13f5dcf)\" d=\"M 287.896455 676.46175 \nL 314.362858 676.46175 \nL 314.362858 651.104316 \nL 287.896455 651.104316 \nz\n\" style=\"fill:#e24a33;\"/>\n   </g>\n   <g id=\"patch_103\">\n    <path d=\"M 36.465625 676.46175 \nL 36.465625 543.335219 \n\" style=\"fill:none;stroke:#ffffff;stroke-linecap:square;stroke-linejoin:miter;\"/>\n   </g>\n   <g id=\"patch_104\">\n    <path d=\"M 327.59606 676.46175 \nL 327.59606 543.335219 \n\" style=\"fill:none;stroke:#ffffff;stroke-linecap:square;stroke-linejoin:miter;\"/>\n   </g>\n   <g id=\"patch_105\">\n    <path d=\"M 36.465625 676.46175 \nL 327.59606 676.46175 \n\" style=\"fill:none;stroke:#ffffff;stroke-linecap:square;stroke-linejoin:miter;\"/>\n   </g>\n   <g id=\"patch_106\">\n    <path d=\"M 36.465625 543.335219 \nL 327.59606 543.335219 \n\" style=\"fill:none;stroke:#ffffff;stroke-linecap:square;stroke-linejoin:miter;\"/>\n   </g>\n   <g id=\"text_93\">\n    <!-- V5 -->\n    <g transform=\"translate(172.524592 537.335219)scale(0.144 -0.144)\">\n     <use xlink:href=\"#DejaVuSans-86\"/>\n     <use x=\"68.408203\" xlink:href=\"#DejaVuSans-53\"/>\n    </g>\n   </g>\n  </g>\n  <g id=\"axes_8\">\n   <g id=\"patch_107\">\n    <path d=\"M 414.93519 676.46175 \nL 706.065625 676.46175 \nL 706.065625 543.335219 \nL 414.93519 543.335219 \nz\n\" style=\"fill:#e5e5e5;\"/>\n   </g>\n   <g id=\"matplotlib.axis_15\">\n    <g id=\"xtick_48\">\n     <g id=\"line2d_173\">\n      <path clip-path=\"url(#p138a2d17e7)\" d=\"M 428.168392 676.46175 \nL 428.168392 543.335219 \n\" style=\"fill:none;stroke:#ffffff;stroke-linecap:square;stroke-width:0.8;\"/>\n     </g>\n     <g id=\"line2d_174\">\n      <g>\n       <use style=\"fill:#555555;stroke:#555555;stroke-width:0.8;\" x=\"428.168392\" xlink:href=\"#m8508845eaf\" y=\"676.46175\"/>\n      </g>\n     </g>\n     <g id=\"text_94\">\n      <!-- 2 -->\n      <g style=\"fill:#555555;\" transform=\"translate(424.987142 691.060187)scale(0.1 -0.1)\">\n       <use xlink:href=\"#DejaVuSans-50\"/>\n      </g>\n     </g>\n    </g>\n    <g id=\"xtick_49\">\n     <g id=\"line2d_175\">\n      <path clip-path=\"url(#p138a2d17e7)\" d=\"M 481.101198 676.46175 \nL 481.101198 543.335219 \n\" style=\"fill:none;stroke:#ffffff;stroke-linecap:square;stroke-width:0.8;\"/>\n     </g>\n     <g id=\"line2d_176\">\n      <g>\n       <use style=\"fill:#555555;stroke:#555555;stroke-width:0.8;\" x=\"481.101198\" xlink:href=\"#m8508845eaf\" y=\"676.46175\"/>\n      </g>\n     </g>\n     <g id=\"text_95\">\n      <!-- 3 -->\n      <g style=\"fill:#555555;\" transform=\"translate(477.919948 691.060187)scale(0.1 -0.1)\">\n       <use xlink:href=\"#DejaVuSans-51\"/>\n      </g>\n     </g>\n    </g>\n    <g id=\"xtick_50\">\n     <g id=\"line2d_177\">\n      <path clip-path=\"url(#p138a2d17e7)\" d=\"M 534.034004 676.46175 \nL 534.034004 543.335219 \n\" style=\"fill:none;stroke:#ffffff;stroke-linecap:square;stroke-width:0.8;\"/>\n     </g>\n     <g id=\"line2d_178\">\n      <g>\n       <use style=\"fill:#555555;stroke:#555555;stroke-width:0.8;\" x=\"534.034004\" xlink:href=\"#m8508845eaf\" y=\"676.46175\"/>\n      </g>\n     </g>\n     <g id=\"text_96\">\n      <!-- 4 -->\n      <g style=\"fill:#555555;\" transform=\"translate(530.852754 691.060187)scale(0.1 -0.1)\">\n       <use xlink:href=\"#DejaVuSans-52\"/>\n      </g>\n     </g>\n    </g>\n    <g id=\"xtick_51\">\n     <g id=\"line2d_179\">\n      <path clip-path=\"url(#p138a2d17e7)\" d=\"M 586.966811 676.46175 \nL 586.966811 543.335219 \n\" style=\"fill:none;stroke:#ffffff;stroke-linecap:square;stroke-width:0.8;\"/>\n     </g>\n     <g id=\"line2d_180\">\n      <g>\n       <use style=\"fill:#555555;stroke:#555555;stroke-width:0.8;\" x=\"586.966811\" xlink:href=\"#m8508845eaf\" y=\"676.46175\"/>\n      </g>\n     </g>\n     <g id=\"text_97\">\n      <!-- 5 -->\n      <g style=\"fill:#555555;\" transform=\"translate(583.785561 691.060187)scale(0.1 -0.1)\">\n       <use xlink:href=\"#DejaVuSans-53\"/>\n      </g>\n     </g>\n    </g>\n    <g id=\"xtick_52\">\n     <g id=\"line2d_181\">\n      <path clip-path=\"url(#p138a2d17e7)\" d=\"M 639.899617 676.46175 \nL 639.899617 543.335219 \n\" style=\"fill:none;stroke:#ffffff;stroke-linecap:square;stroke-width:0.8;\"/>\n     </g>\n     <g id=\"line2d_182\">\n      <g>\n       <use style=\"fill:#555555;stroke:#555555;stroke-width:0.8;\" x=\"639.899617\" xlink:href=\"#m8508845eaf\" y=\"676.46175\"/>\n      </g>\n     </g>\n     <g id=\"text_98\">\n      <!-- 6 -->\n      <g style=\"fill:#555555;\" transform=\"translate(636.718367 691.060187)scale(0.1 -0.1)\">\n       <use xlink:href=\"#DejaVuSans-54\"/>\n      </g>\n     </g>\n    </g>\n    <g id=\"xtick_53\">\n     <g id=\"line2d_183\">\n      <path clip-path=\"url(#p138a2d17e7)\" d=\"M 692.832423 676.46175 \nL 692.832423 543.335219 \n\" style=\"fill:none;stroke:#ffffff;stroke-linecap:square;stroke-width:0.8;\"/>\n     </g>\n     <g id=\"line2d_184\">\n      <g>\n       <use style=\"fill:#555555;stroke:#555555;stroke-width:0.8;\" x=\"692.832423\" xlink:href=\"#m8508845eaf\" y=\"676.46175\"/>\n      </g>\n     </g>\n     <g id=\"text_99\">\n      <!-- 7 -->\n      <g style=\"fill:#555555;\" transform=\"translate(689.651173 691.060187)scale(0.1 -0.1)\">\n       <use xlink:href=\"#DejaVuSans-55\"/>\n      </g>\n     </g>\n    </g>\n   </g>\n   <g id=\"matplotlib.axis_16\">\n    <g id=\"ytick_40\">\n     <g id=\"line2d_185\">\n      <path clip-path=\"url(#p138a2d17e7)\" d=\"M 414.93519 676.46175 \nL 706.065625 676.46175 \n\" style=\"fill:none;stroke:#ffffff;stroke-linecap:square;stroke-width:0.8;\"/>\n     </g>\n     <g id=\"line2d_186\">\n      <g>\n       <use style=\"fill:#555555;stroke:#555555;stroke-width:0.8;\" x=\"414.93519\" xlink:href=\"#me1d36122be\" y=\"676.46175\"/>\n      </g>\n     </g>\n     <g id=\"text_100\">\n      <!-- 0 -->\n      <g style=\"fill:#555555;\" transform=\"translate(401.57269 680.260969)scale(0.1 -0.1)\">\n       <use xlink:href=\"#DejaVuSans-48\"/>\n      </g>\n     </g>\n    </g>\n    <g id=\"ytick_41\">\n     <g id=\"line2d_187\">\n      <path clip-path=\"url(#p138a2d17e7)\" d=\"M 414.93519 636.840759 \nL 706.065625 636.840759 \n\" style=\"fill:none;stroke:#ffffff;stroke-linecap:square;stroke-width:0.8;\"/>\n     </g>\n     <g id=\"line2d_188\">\n      <g>\n       <use style=\"fill:#555555;stroke:#555555;stroke-width:0.8;\" x=\"414.93519\" xlink:href=\"#me1d36122be\" y=\"636.840759\"/>\n      </g>\n     </g>\n     <g id=\"text_101\">\n      <!-- 5 -->\n      <g style=\"fill:#555555;\" transform=\"translate(401.57269 640.639977)scale(0.1 -0.1)\">\n       <use xlink:href=\"#DejaVuSans-53\"/>\n      </g>\n     </g>\n    </g>\n    <g id=\"ytick_42\">\n     <g id=\"line2d_189\">\n      <path clip-path=\"url(#p138a2d17e7)\" d=\"M 414.93519 597.219767 \nL 706.065625 597.219767 \n\" style=\"fill:none;stroke:#ffffff;stroke-linecap:square;stroke-width:0.8;\"/>\n     </g>\n     <g id=\"line2d_190\">\n      <g>\n       <use style=\"fill:#555555;stroke:#555555;stroke-width:0.8;\" x=\"414.93519\" xlink:href=\"#me1d36122be\" y=\"597.219767\"/>\n      </g>\n     </g>\n     <g id=\"text_102\">\n      <!-- 10 -->\n      <g style=\"fill:#555555;\" transform=\"translate(395.21019 601.018986)scale(0.1 -0.1)\">\n       <use xlink:href=\"#DejaVuSans-49\"/>\n       <use x=\"63.623047\" xlink:href=\"#DejaVuSans-48\"/>\n      </g>\n     </g>\n    </g>\n    <g id=\"ytick_43\">\n     <g id=\"line2d_191\">\n      <path clip-path=\"url(#p138a2d17e7)\" d=\"M 414.93519 557.598776 \nL 706.065625 557.598776 \n\" style=\"fill:none;stroke:#ffffff;stroke-linecap:square;stroke-width:0.8;\"/>\n     </g>\n     <g id=\"line2d_192\">\n      <g>\n       <use style=\"fill:#555555;stroke:#555555;stroke-width:0.8;\" x=\"414.93519\" xlink:href=\"#me1d36122be\" y=\"557.598776\"/>\n      </g>\n     </g>\n     <g id=\"text_103\">\n      <!-- 15 -->\n      <g style=\"fill:#555555;\" transform=\"translate(395.21019 561.397995)scale(0.1 -0.1)\">\n       <use xlink:href=\"#DejaVuSans-49\"/>\n       <use x=\"63.623047\" xlink:href=\"#DejaVuSans-53\"/>\n      </g>\n     </g>\n    </g>\n   </g>\n   <g id=\"patch_108\">\n    <path clip-path=\"url(#p138a2d17e7)\" d=\"M 428.168392 676.46175 \nL 454.634795 676.46175 \nL 454.634795 660.613353 \nL 428.168392 660.613353 \nz\n\" style=\"fill:#e24a33;\"/>\n   </g>\n   <g id=\"patch_109\">\n    <path clip-path=\"url(#p138a2d17e7)\" d=\"M 454.634795 676.46175 \nL 481.101198 676.46175 \nL 481.101198 676.46175 \nL 454.634795 676.46175 \nz\n\" style=\"fill:#e24a33;\"/>\n   </g>\n   <g id=\"patch_110\">\n    <path clip-path=\"url(#p138a2d17e7)\" d=\"M 481.101198 676.46175 \nL 507.567601 676.46175 \nL 507.567601 597.219767 \nL 481.101198 597.219767 \nz\n\" style=\"fill:#e24a33;\"/>\n   </g>\n   <g id=\"patch_111\">\n    <path clip-path=\"url(#p138a2d17e7)\" d=\"M 507.567601 676.46175 \nL 534.034004 676.46175 \nL 534.034004 676.46175 \nL 507.567601 676.46175 \nz\n\" style=\"fill:#e24a33;\"/>\n   </g>\n   <g id=\"patch_112\">\n    <path clip-path=\"url(#p138a2d17e7)\" d=\"M 534.034004 676.46175 \nL 560.500408 676.46175 \nL 560.500408 549.674578 \nL 534.034004 549.674578 \nz\n\" style=\"fill:#e24a33;\"/>\n   </g>\n   <g id=\"patch_113\">\n    <path clip-path=\"url(#p138a2d17e7)\" d=\"M 560.500408 676.46175 \nL 586.966811 676.46175 \nL 586.966811 676.46175 \nL 560.500408 676.46175 \nz\n\" style=\"fill:#e24a33;\"/>\n   </g>\n   <g id=\"patch_114\">\n    <path clip-path=\"url(#p138a2d17e7)\" d=\"M 586.966811 676.46175 \nL 613.433214 676.46175 \nL 613.433214 660.613353 \nL 586.966811 660.613353 \nz\n\" style=\"fill:#e24a33;\"/>\n   </g>\n   <g id=\"patch_115\">\n    <path clip-path=\"url(#p138a2d17e7)\" d=\"M 613.433214 676.46175 \nL 639.899617 676.46175 \nL 639.899617 676.46175 \nL 613.433214 676.46175 \nz\n\" style=\"fill:#e24a33;\"/>\n   </g>\n   <g id=\"patch_116\">\n    <path clip-path=\"url(#p138a2d17e7)\" d=\"M 639.899617 676.46175 \nL 666.36602 676.46175 \nL 666.36602 644.764957 \nL 639.899617 644.764957 \nz\n\" style=\"fill:#e24a33;\"/>\n   </g>\n   <g id=\"patch_117\">\n    <path clip-path=\"url(#p138a2d17e7)\" d=\"M 666.36602 676.46175 \nL 692.832423 676.46175 \nL 692.832423 628.91656 \nL 666.36602 628.91656 \nz\n\" style=\"fill:#e24a33;\"/>\n   </g>\n   <g id=\"patch_118\">\n    <path d=\"M 414.93519 676.46175 \nL 414.93519 543.335219 \n\" style=\"fill:none;stroke:#ffffff;stroke-linecap:square;stroke-linejoin:miter;\"/>\n   </g>\n   <g id=\"patch_119\">\n    <path d=\"M 706.065625 676.46175 \nL 706.065625 543.335219 \n\" style=\"fill:none;stroke:#ffffff;stroke-linecap:square;stroke-linejoin:miter;\"/>\n   </g>\n   <g id=\"patch_120\">\n    <path d=\"M 414.93519 676.46175 \nL 706.065625 676.46175 \n\" style=\"fill:none;stroke:#ffffff;stroke-linecap:square;stroke-linejoin:miter;\"/>\n   </g>\n   <g id=\"patch_121\">\n    <path d=\"M 414.93519 543.335219 \nL 706.065625 543.335219 \n\" style=\"fill:none;stroke:#ffffff;stroke-linecap:square;stroke-linejoin:miter;\"/>\n   </g>\n   <g id=\"text_104\">\n    <!-- V6 -->\n    <g transform=\"translate(550.994158 537.335219)scale(0.144 -0.144)\">\n     <use xlink:href=\"#DejaVuSans-86\"/>\n     <use x=\"68.408203\" xlink:href=\"#DejaVuSans-54\"/>\n    </g>\n   </g>\n  </g>\n </g>\n <defs>\n  <clipPath id=\"p3235b46c62\">\n   <rect height=\"133.126531\" width=\"291.130435\" x=\"36.465625\" y=\"24.14175\"/>\n  </clipPath>\n  <clipPath id=\"p0d5ce9e5a2\">\n   <rect height=\"133.126531\" width=\"291.130435\" x=\"414.93519\" y=\"24.14175\"/>\n  </clipPath>\n  <clipPath id=\"p5185ab5072\">\n   <rect height=\"133.126531\" width=\"291.130435\" x=\"36.465625\" y=\"197.20624\"/>\n  </clipPath>\n  <clipPath id=\"p5ec4e15a8e\">\n   <rect height=\"133.126531\" width=\"291.130435\" x=\"414.93519\" y=\"197.20624\"/>\n  </clipPath>\n  <clipPath id=\"p2706c0425a\">\n   <rect height=\"133.126531\" width=\"291.130435\" x=\"36.465625\" y=\"370.27073\"/>\n  </clipPath>\n  <clipPath id=\"p759ce4b05a\">\n   <rect height=\"133.126531\" width=\"291.130435\" x=\"414.93519\" y=\"370.27073\"/>\n  </clipPath>\n  <clipPath id=\"p91a13f5dcf\">\n   <rect height=\"133.126531\" width=\"291.130435\" x=\"36.465625\" y=\"543.335219\"/>\n  </clipPath>\n  <clipPath id=\"p138a2d17e7\">\n   <rect height=\"133.126531\" width=\"291.130435\" x=\"414.93519\" y=\"543.335219\"/>\n  </clipPath>\n </defs>\n</svg>\n"
          },
          "metadata": {
            "tags": []
          }
        }
      ]
    },
    {
      "cell_type": "markdown",
      "metadata": {
        "id": "bjFI1IyiDtqh",
        "colab_type": "text"
      },
      "source": [
        "\n",
        "\n",
        "### c) Normalizacion de los datos\n",
        "\n",
        "A partir del análisis exploratorio de los datos observamos que mientras las variables correspondientes a los aspectos actitudinales de la encuesta poseen valores dentro de la misma escala (1-7), hay una variable que es dos ordenes de magnitud mayor a las demás: `Income`.\n",
        "\n",
        "Tener variables en diferentes escalas puede crear problemas, porque aquellas variables con valores altos tendrán mayor influencia en el resultado final del análisis que las otras. Por lo tanto, debemos considerar si es necesario reescalar todas las variables de tal forma que sus valores se encuentren en la misma escala. La normalización se puede hacer de distintas maneras:\n",
        "\n",
        "1. Restando a cada registro la media y dividiendo por la desviación estándar se obtienen valores con media cero y varianza uno.\n",
        "2. Restando a cada registro el mínimo y diviendo por el rango de valores se obtienen datos entre cero y uno.\n",
        "\n",
        "Vamos a ver como estandarizaríamos todos los registros del dataset utilizando el primer tipo de normalización."
      ]
    },
    {
      "cell_type": "code",
      "metadata": {
        "id": "zF-UNuxaDtqi",
        "colab_type": "code",
        "colab": {}
      },
      "source": [
        "def normalization(vector):\n",
        "    if np.std(vector) != 0:\n",
        "        vector = np.array((vector - np.mean(vector)) / np.std(vector))\n",
        "    return vector"
      ],
      "execution_count": null,
      "outputs": []
    },
    {
      "cell_type": "code",
      "metadata": {
        "id": "EqyrtSB0Dtqk",
        "colab_type": "code",
        "colab": {
          "base_uri": "https://localhost:8080/",
          "height": 235
        },
        "outputId": "89d1d4df-1918-44ac-dfbc-ee7bc3020ae0"
      },
      "source": [
        "data_norm = raw_data.apply(normalization, axis=0)\n",
        "data_norm.head()"
      ],
      "execution_count": null,
      "outputs": [
        {
          "output_type": "execute_result",
          "data": {
            "text/html": [
              "<div>\n",
              "<style scoped>\n",
              "    .dataframe tbody tr th:only-of-type {\n",
              "        vertical-align: middle;\n",
              "    }\n",
              "\n",
              "    .dataframe tbody tr th {\n",
              "        vertical-align: top;\n",
              "    }\n",
              "\n",
              "    .dataframe thead th {\n",
              "        text-align: right;\n",
              "    }\n",
              "</style>\n",
              "<table border=\"1\" class=\"dataframe\">\n",
              "  <thead>\n",
              "    <tr style=\"text-align: right;\">\n",
              "      <th></th>\n",
              "      <th>ID</th>\n",
              "      <th>V1</th>\n",
              "      <th>V2</th>\n",
              "      <th>V3</th>\n",
              "      <th>V4</th>\n",
              "      <th>V5</th>\n",
              "      <th>V6</th>\n",
              "      <th>Income</th>\n",
              "      <th>Mall.Visits</th>\n",
              "    </tr>\n",
              "    <tr>\n",
              "      <th>Variables</th>\n",
              "      <th></th>\n",
              "      <th></th>\n",
              "      <th></th>\n",
              "      <th></th>\n",
              "      <th></th>\n",
              "      <th></th>\n",
              "      <th></th>\n",
              "      <th></th>\n",
              "      <th></th>\n",
              "    </tr>\n",
              "  </thead>\n",
              "  <tbody>\n",
              "    <tr>\n",
              "      <th>1</th>\n",
              "      <td>-1.689278</td>\n",
              "      <td>1.161314</td>\n",
              "      <td>-0.072739</td>\n",
              "      <td>1.554929</td>\n",
              "      <td>-0.743311</td>\n",
              "      <td>-0.844581</td>\n",
              "      <td>-0.925548</td>\n",
              "      <td>0.823529</td>\n",
              "      <td>-0.130189</td>\n",
              "    </tr>\n",
              "    <tr>\n",
              "      <th>2</th>\n",
              "      <td>-1.602648</td>\n",
              "      <td>-0.999270</td>\n",
              "      <td>-0.800132</td>\n",
              "      <td>-1.503948</td>\n",
              "      <td>-0.067574</td>\n",
              "      <td>0.902828</td>\n",
              "      <td>-0.239957</td>\n",
              "      <td>-0.941176</td>\n",
              "      <td>-1.171700</td>\n",
              "    </tr>\n",
              "    <tr>\n",
              "      <th>3</th>\n",
              "      <td>-1.516018</td>\n",
              "      <td>1.701460</td>\n",
              "      <td>-1.527525</td>\n",
              "      <td>1.045116</td>\n",
              "      <td>-0.067574</td>\n",
              "      <td>-1.427050</td>\n",
              "      <td>-0.925548</td>\n",
              "      <td>1.411765</td>\n",
              "      <td>-0.130189</td>\n",
              "    </tr>\n",
              "    <tr>\n",
              "      <th>4</th>\n",
              "      <td>-1.429389</td>\n",
              "      <td>0.081022</td>\n",
              "      <td>1.382047</td>\n",
              "      <td>0.025491</td>\n",
              "      <td>0.608164</td>\n",
              "      <td>-0.262111</td>\n",
              "      <td>1.131225</td>\n",
              "      <td>-0.941176</td>\n",
              "      <td>1.952834</td>\n",
              "    </tr>\n",
              "    <tr>\n",
              "      <th>5</th>\n",
              "      <td>-1.342759</td>\n",
              "      <td>-1.539416</td>\n",
              "      <td>-0.800132</td>\n",
              "      <td>-0.994135</td>\n",
              "      <td>-1.419048</td>\n",
              "      <td>1.485297</td>\n",
              "      <td>-0.239957</td>\n",
              "      <td>0.823529</td>\n",
              "      <td>-1.171700</td>\n",
              "    </tr>\n",
              "  </tbody>\n",
              "</table>\n",
              "</div>"
            ],
            "text/plain": [
              "                 ID        V1        V2  ...        V6    Income  Mall.Visits\n",
              "Variables                                ...                                 \n",
              "1         -1.689278  1.161314 -0.072739  ... -0.925548  0.823529    -0.130189\n",
              "2         -1.602648 -0.999270 -0.800132  ... -0.239957 -0.941176    -1.171700\n",
              "3         -1.516018  1.701460 -1.527525  ... -0.925548  1.411765    -0.130189\n",
              "4         -1.429389  0.081022  1.382047  ...  1.131225 -0.941176     1.952834\n",
              "5         -1.342759 -1.539416 -0.800132  ... -0.239957  0.823529    -1.171700\n",
              "\n",
              "[5 rows x 9 columns]"
            ]
          },
          "metadata": {
            "tags": []
          },
          "execution_count": 15
        }
      ]
    },
    {
      "cell_type": "code",
      "metadata": {
        "id": "6DWf4HR_Dtqn",
        "colab_type": "code",
        "colab": {
          "base_uri": "https://localhost:8080/",
          "height": 328
        },
        "outputId": "09832d0a-78f8-4dce-9b0d-06cda23309ad"
      },
      "source": [
        "stats = pd.DataFrame({'Variables': data_norm.columns.values.tolist(),\n",
        "                      'min': data_norm.apply(np.min, axis=0),\n",
        "                      'X25.percent': data_norm.apply(np.percentile, args=(25,), axis=0),\n",
        "                      'median': data_norm.apply(np.median, axis=0),\n",
        "                      'mean': data_norm.apply(np.mean, axis=0),\n",
        "                      'X75.percent': data_norm.apply(np.percentile, args=(75,), axis=0),\n",
        "                      'max': data_norm.apply(np.max, axis=0),\n",
        "                      'std': data_norm.apply(np.std, axis=0)})\n",
        "\n",
        "stats"
      ],
      "execution_count": null,
      "outputs": [
        {
          "output_type": "execute_result",
          "data": {
            "text/html": [
              "<div>\n",
              "<style scoped>\n",
              "    .dataframe tbody tr th:only-of-type {\n",
              "        vertical-align: middle;\n",
              "    }\n",
              "\n",
              "    .dataframe tbody tr th {\n",
              "        vertical-align: top;\n",
              "    }\n",
              "\n",
              "    .dataframe thead th {\n",
              "        text-align: right;\n",
              "    }\n",
              "</style>\n",
              "<table border=\"1\" class=\"dataframe\">\n",
              "  <thead>\n",
              "    <tr style=\"text-align: right;\">\n",
              "      <th></th>\n",
              "      <th>Variables</th>\n",
              "      <th>min</th>\n",
              "      <th>X25.percent</th>\n",
              "      <th>median</th>\n",
              "      <th>mean</th>\n",
              "      <th>X75.percent</th>\n",
              "      <th>max</th>\n",
              "      <th>std</th>\n",
              "    </tr>\n",
              "  </thead>\n",
              "  <tbody>\n",
              "    <tr>\n",
              "      <th>ID</th>\n",
              "      <td>ID</td>\n",
              "      <td>-1.689278</td>\n",
              "      <td>-0.844639</td>\n",
              "      <td>0.000000</td>\n",
              "      <td>4.440892e-17</td>\n",
              "      <td>0.844639</td>\n",
              "      <td>1.689278</td>\n",
              "      <td>1.0</td>\n",
              "    </tr>\n",
              "    <tr>\n",
              "      <th>V1</th>\n",
              "      <td>V1</td>\n",
              "      <td>-1.539416</td>\n",
              "      <td>-0.999270</td>\n",
              "      <td>0.081022</td>\n",
              "      <td>-3.053113e-17</td>\n",
              "      <td>0.756205</td>\n",
              "      <td>1.701460</td>\n",
              "      <td>1.0</td>\n",
              "    </tr>\n",
              "    <tr>\n",
              "      <th>V2</th>\n",
              "      <td>V2</td>\n",
              "      <td>-1.527525</td>\n",
              "      <td>-0.800132</td>\n",
              "      <td>-0.072739</td>\n",
              "      <td>2.664535e-16</td>\n",
              "      <td>0.654654</td>\n",
              "      <td>2.109440</td>\n",
              "      <td>1.0</td>\n",
              "    </tr>\n",
              "    <tr>\n",
              "      <th>V3</th>\n",
              "      <td>V3</td>\n",
              "      <td>-1.503948</td>\n",
              "      <td>-0.994135</td>\n",
              "      <td>0.025491</td>\n",
              "      <td>-9.159340e-17</td>\n",
              "      <td>1.045116</td>\n",
              "      <td>1.554929</td>\n",
              "      <td>1.0</td>\n",
              "    </tr>\n",
              "    <tr>\n",
              "      <th>V4</th>\n",
              "      <td>V4</td>\n",
              "      <td>-1.419048</td>\n",
              "      <td>-0.743311</td>\n",
              "      <td>-0.067574</td>\n",
              "      <td>1.828399e-16</td>\n",
              "      <td>0.777098</td>\n",
              "      <td>1.959638</td>\n",
              "      <td>1.0</td>\n",
              "    </tr>\n",
              "    <tr>\n",
              "      <th>V5</th>\n",
              "      <td>V5</td>\n",
              "      <td>-1.427050</td>\n",
              "      <td>-0.844581</td>\n",
              "      <td>0.029123</td>\n",
              "      <td>-1.110223e-16</td>\n",
              "      <td>0.465975</td>\n",
              "      <td>2.067766</td>\n",
              "      <td>1.0</td>\n",
              "    </tr>\n",
              "    <tr>\n",
              "      <th>V6</th>\n",
              "      <td>V6</td>\n",
              "      <td>-1.611139</td>\n",
              "      <td>-0.925548</td>\n",
              "      <td>-0.239957</td>\n",
              "      <td>2.664535e-16</td>\n",
              "      <td>0.617032</td>\n",
              "      <td>1.816817</td>\n",
              "      <td>1.0</td>\n",
              "    </tr>\n",
              "    <tr>\n",
              "      <th>Income</th>\n",
              "      <td>Income</td>\n",
              "      <td>-1.235294</td>\n",
              "      <td>-0.941176</td>\n",
              "      <td>-0.205882</td>\n",
              "      <td>0.000000e+00</td>\n",
              "      <td>0.823529</td>\n",
              "      <td>2.000000</td>\n",
              "      <td>1.0</td>\n",
              "    </tr>\n",
              "    <tr>\n",
              "      <th>Mall.Visits</th>\n",
              "      <td>Mall.Visits</td>\n",
              "      <td>-1.692456</td>\n",
              "      <td>-0.650945</td>\n",
              "      <td>-0.130189</td>\n",
              "      <td>-5.551115e-18</td>\n",
              "      <td>0.520756</td>\n",
              "      <td>1.952834</td>\n",
              "      <td>1.0</td>\n",
              "    </tr>\n",
              "  </tbody>\n",
              "</table>\n",
              "</div>"
            ],
            "text/plain": [
              "               Variables       min  X25.percent  ...  X75.percent       max  std\n",
              "ID                    ID -1.689278    -0.844639  ...     0.844639  1.689278  1.0\n",
              "V1                    V1 -1.539416    -0.999270  ...     0.756205  1.701460  1.0\n",
              "V2                    V2 -1.527525    -0.800132  ...     0.654654  2.109440  1.0\n",
              "V3                    V3 -1.503948    -0.994135  ...     1.045116  1.554929  1.0\n",
              "V4                    V4 -1.419048    -0.743311  ...     0.777098  1.959638  1.0\n",
              "V5                    V5 -1.427050    -0.844581  ...     0.465975  2.067766  1.0\n",
              "V6                    V6 -1.611139    -0.925548  ...     0.617032  1.816817  1.0\n",
              "Income            Income -1.235294    -0.941176  ...     0.823529  2.000000  1.0\n",
              "Mall.Visits  Mall.Visits -1.692456    -0.650945  ...     0.520756  1.952834  1.0\n",
              "\n",
              "[9 rows x 8 columns]"
            ]
          },
          "metadata": {
            "tags": []
          },
          "execution_count": 16
        }
      ]
    },
    {
      "cell_type": "markdown",
      "metadata": {
        "id": "GjLm1cwPDtqp",
        "colab_type": "text"
      },
      "source": [
        "\n",
        "\n",
        "### d) Selección de atributos\n",
        "\n",
        "La selección de variables es una etapa importante en cualquier análisis. En este caso particular, la decisión es crítica pues tiene un gran impacto sobre la segmentación obtenida. \n",
        "\n",
        "En general, la decisión se basa en parte el conocimiento de los atributos obtenido a partir del análisis exploratorio, y en otra parte en el conocimiento experto contextual del problema que queremos resolver.\n",
        "\n",
        "Por ejemplo, en estudios y segmentación de mercado, es usual usar los atributos actitudinales para la segmentación y los atributos demográficos para perfilar los segmentos. Siguiendo esta misma idea, en nuestro caso usaremos las seis preguntas actitudinales para la segmentación y las dos restantes para el posterior perfilado."
      ]
    },
    {
      "cell_type": "code",
      "metadata": {
        "id": "bbgizikIDtqp",
        "colab_type": "code",
        "colab": {
          "base_uri": "https://localhost:8080/",
          "height": 235
        },
        "outputId": "c8abfc56-1b37-4217-b8d4-91ffa7446301"
      },
      "source": [
        "data_seg = pd.DataFrame(data_norm.iloc[:,1:7])\n",
        "data_seg.head()"
      ],
      "execution_count": null,
      "outputs": [
        {
          "output_type": "execute_result",
          "data": {
            "text/html": [
              "<div>\n",
              "<style scoped>\n",
              "    .dataframe tbody tr th:only-of-type {\n",
              "        vertical-align: middle;\n",
              "    }\n",
              "\n",
              "    .dataframe tbody tr th {\n",
              "        vertical-align: top;\n",
              "    }\n",
              "\n",
              "    .dataframe thead th {\n",
              "        text-align: right;\n",
              "    }\n",
              "</style>\n",
              "<table border=\"1\" class=\"dataframe\">\n",
              "  <thead>\n",
              "    <tr style=\"text-align: right;\">\n",
              "      <th></th>\n",
              "      <th>V1</th>\n",
              "      <th>V2</th>\n",
              "      <th>V3</th>\n",
              "      <th>V4</th>\n",
              "      <th>V5</th>\n",
              "      <th>V6</th>\n",
              "    </tr>\n",
              "    <tr>\n",
              "      <th>Variables</th>\n",
              "      <th></th>\n",
              "      <th></th>\n",
              "      <th></th>\n",
              "      <th></th>\n",
              "      <th></th>\n",
              "      <th></th>\n",
              "    </tr>\n",
              "  </thead>\n",
              "  <tbody>\n",
              "    <tr>\n",
              "      <th>1</th>\n",
              "      <td>1.161314</td>\n",
              "      <td>-0.072739</td>\n",
              "      <td>1.554929</td>\n",
              "      <td>-0.743311</td>\n",
              "      <td>-0.844581</td>\n",
              "      <td>-0.925548</td>\n",
              "    </tr>\n",
              "    <tr>\n",
              "      <th>2</th>\n",
              "      <td>-0.999270</td>\n",
              "      <td>-0.800132</td>\n",
              "      <td>-1.503948</td>\n",
              "      <td>-0.067574</td>\n",
              "      <td>0.902828</td>\n",
              "      <td>-0.239957</td>\n",
              "    </tr>\n",
              "    <tr>\n",
              "      <th>3</th>\n",
              "      <td>1.701460</td>\n",
              "      <td>-1.527525</td>\n",
              "      <td>1.045116</td>\n",
              "      <td>-0.067574</td>\n",
              "      <td>-1.427050</td>\n",
              "      <td>-0.925548</td>\n",
              "    </tr>\n",
              "    <tr>\n",
              "      <th>4</th>\n",
              "      <td>0.081022</td>\n",
              "      <td>1.382047</td>\n",
              "      <td>0.025491</td>\n",
              "      <td>0.608164</td>\n",
              "      <td>-0.262111</td>\n",
              "      <td>1.131225</td>\n",
              "    </tr>\n",
              "    <tr>\n",
              "      <th>5</th>\n",
              "      <td>-1.539416</td>\n",
              "      <td>-0.800132</td>\n",
              "      <td>-0.994135</td>\n",
              "      <td>-1.419048</td>\n",
              "      <td>1.485297</td>\n",
              "      <td>-0.239957</td>\n",
              "    </tr>\n",
              "  </tbody>\n",
              "</table>\n",
              "</div>"
            ],
            "text/plain": [
              "                 V1        V2        V3        V4        V5        V6\n",
              "Variables                                                            \n",
              "1          1.161314 -0.072739  1.554929 -0.743311 -0.844581 -0.925548\n",
              "2         -0.999270 -0.800132 -1.503948 -0.067574  0.902828 -0.239957\n",
              "3          1.701460 -1.527525  1.045116 -0.067574 -1.427050 -0.925548\n",
              "4          0.081022  1.382047  0.025491  0.608164 -0.262111  1.131225\n",
              "5         -1.539416 -0.800132 -0.994135 -1.419048  1.485297 -0.239957"
            ]
          },
          "metadata": {
            "tags": []
          },
          "execution_count": 17
        }
      ]
    },
    {
      "cell_type": "code",
      "metadata": {
        "id": "_e_benH4Dtqs",
        "colab_type": "code",
        "colab": {
          "base_uri": "https://localhost:8080/",
          "height": 34
        },
        "outputId": "18146978-536f-432d-e2da-c6d6527b5f03"
      },
      "source": [
        "data_seg.shape"
      ],
      "execution_count": null,
      "outputs": [
        {
          "output_type": "execute_result",
          "data": {
            "text/plain": [
              "(40, 6)"
            ]
          },
          "metadata": {
            "tags": []
          },
          "execution_count": 18
        }
      ]
    },
    {
      "cell_type": "markdown",
      "metadata": {
        "id": "6lZQfNzCDtqw",
        "colab_type": "text"
      },
      "source": [
        "\n",
        "\n",
        "### e) Medida de distancia\n",
        "\n",
        "El objetivo del clustering es agrupar las observaciones basado en cuan similar son una de otras. Por lo tanto, es de crucial importancia entender qué hace que dos observaciones sean similares.\n",
        "\n",
        "La mayoría de los métodos analíticos de clustering utilizan medidas de distancia comunes. Algunas típicas son la distancia Euclídea y la distancia Manhattan.\n",
        "\n",
        "Por ejemplo, obtengamos la distancia Euclidea entre pares de observaciones.\n",
        "\n",
        "La matriz de distancias Euclídeas entre pares de valores se calcula como:\n",
        "\n",
        "$d_{i,j} = \\sqrt{(x_{i,i} - x_{i,j})^{2} + (x_{j,i} - x_{j,j})^{2}}$"
      ]
    },
    {
      "cell_type": "code",
      "metadata": {
        "id": "1JlyJ3jaDtqx",
        "colab_type": "code",
        "colab": {
          "base_uri": "https://localhost:8080/",
          "height": 224
        },
        "outputId": "f330fadf-3713-43f1-9fcb-a18b0e1bf3d8"
      },
      "source": [
        "from sklearn.metrics.pairwise import pairwise_distances\n",
        "\n",
        "dist_eu = pairwise_distances(data_seg, metric = 'euclidean')\n",
        "data_dist_eu = pd.DataFrame(dist_eu)\n",
        "data_dist_eu.head()"
      ],
      "execution_count": null,
      "outputs": [
        {
          "output_type": "execute_result",
          "data": {
            "text/html": [
              "<div>\n",
              "<style scoped>\n",
              "    .dataframe tbody tr th:only-of-type {\n",
              "        vertical-align: middle;\n",
              "    }\n",
              "\n",
              "    .dataframe tbody tr th {\n",
              "        vertical-align: top;\n",
              "    }\n",
              "\n",
              "    .dataframe thead th {\n",
              "        text-align: right;\n",
              "    }\n",
              "</style>\n",
              "<table border=\"1\" class=\"dataframe\">\n",
              "  <thead>\n",
              "    <tr style=\"text-align: right;\">\n",
              "      <th></th>\n",
              "      <th>0</th>\n",
              "      <th>1</th>\n",
              "      <th>2</th>\n",
              "      <th>3</th>\n",
              "      <th>4</th>\n",
              "      <th>5</th>\n",
              "      <th>6</th>\n",
              "      <th>7</th>\n",
              "      <th>8</th>\n",
              "      <th>9</th>\n",
              "      <th>10</th>\n",
              "      <th>11</th>\n",
              "      <th>12</th>\n",
              "      <th>13</th>\n",
              "      <th>14</th>\n",
              "      <th>15</th>\n",
              "      <th>16</th>\n",
              "      <th>17</th>\n",
              "      <th>18</th>\n",
              "      <th>19</th>\n",
              "      <th>20</th>\n",
              "      <th>21</th>\n",
              "      <th>22</th>\n",
              "      <th>23</th>\n",
              "      <th>24</th>\n",
              "      <th>25</th>\n",
              "      <th>26</th>\n",
              "      <th>27</th>\n",
              "      <th>28</th>\n",
              "      <th>29</th>\n",
              "      <th>30</th>\n",
              "      <th>31</th>\n",
              "      <th>32</th>\n",
              "      <th>33</th>\n",
              "      <th>34</th>\n",
              "      <th>35</th>\n",
              "      <th>36</th>\n",
              "      <th>37</th>\n",
              "      <th>38</th>\n",
              "      <th>39</th>\n",
              "    </tr>\n",
              "  </thead>\n",
              "  <tbody>\n",
              "    <tr>\n",
              "      <th>0</th>\n",
              "      <td>0.000000</td>\n",
              "      <td>4.305118</td>\n",
              "      <td>1.861172</td>\n",
              "      <td>3.466798</td>\n",
              "      <td>4.547060</td>\n",
              "      <td>1.034028</td>\n",
              "      <td>1.374799</td>\n",
              "      <td>1.444571</td>\n",
              "      <td>3.775579</td>\n",
              "      <td>4.124373</td>\n",
              "      <td>4.168238</td>\n",
              "      <td>1.502681</td>\n",
              "      <td>4.449141</td>\n",
              "      <td>4.313914</td>\n",
              "      <td>2.033275</td>\n",
              "      <td>4.298993</td>\n",
              "      <td>1.871842</td>\n",
              "      <td>4.399105</td>\n",
              "      <td>4.718949</td>\n",
              "      <td>4.593841</td>\n",
              "      <td>0.000000</td>\n",
              "      <td>4.305118</td>\n",
              "      <td>1.861172</td>\n",
              "      <td>3.466798</td>\n",
              "      <td>4.547060</td>\n",
              "      <td>1.034028</td>\n",
              "      <td>1.374799</td>\n",
              "      <td>1.444571</td>\n",
              "      <td>3.775579</td>\n",
              "      <td>4.124373</td>\n",
              "      <td>4.168238</td>\n",
              "      <td>1.502681</td>\n",
              "      <td>4.449141</td>\n",
              "      <td>4.313914</td>\n",
              "      <td>2.033275</td>\n",
              "      <td>4.298993</td>\n",
              "      <td>1.871842</td>\n",
              "      <td>4.399105</td>\n",
              "      <td>4.718949</td>\n",
              "      <td>4.593841</td>\n",
              "    </tr>\n",
              "    <tr>\n",
              "      <th>1</th>\n",
              "      <td>4.305118</td>\n",
              "      <td>0.000000</td>\n",
              "      <td>4.496569</td>\n",
              "      <td>3.458607</td>\n",
              "      <td>1.648460</td>\n",
              "      <td>3.675412</td>\n",
              "      <td>3.307151</td>\n",
              "      <td>4.698830</td>\n",
              "      <td>1.683646</td>\n",
              "      <td>2.737461</td>\n",
              "      <td>1.215863</td>\n",
              "      <td>3.219767</td>\n",
              "      <td>1.151083</td>\n",
              "      <td>3.829385</td>\n",
              "      <td>4.047039</td>\n",
              "      <td>3.338175</td>\n",
              "      <td>4.050038</td>\n",
              "      <td>3.413659</td>\n",
              "      <td>4.285080</td>\n",
              "      <td>1.870062</td>\n",
              "      <td>4.305118</td>\n",
              "      <td>0.000000</td>\n",
              "      <td>4.496569</td>\n",
              "      <td>3.458607</td>\n",
              "      <td>1.648460</td>\n",
              "      <td>3.675412</td>\n",
              "      <td>3.307151</td>\n",
              "      <td>4.698830</td>\n",
              "      <td>1.683646</td>\n",
              "      <td>2.737461</td>\n",
              "      <td>1.215863</td>\n",
              "      <td>3.219767</td>\n",
              "      <td>1.151083</td>\n",
              "      <td>3.829385</td>\n",
              "      <td>4.047039</td>\n",
              "      <td>3.338175</td>\n",
              "      <td>4.050038</td>\n",
              "      <td>3.413659</td>\n",
              "      <td>4.285080</td>\n",
              "      <td>1.870062</td>\n",
              "    </tr>\n",
              "    <tr>\n",
              "      <th>2</th>\n",
              "      <td>1.861172</td>\n",
              "      <td>4.496569</td>\n",
              "      <td>0.000000</td>\n",
              "      <td>4.263225</td>\n",
              "      <td>5.095999</td>\n",
              "      <td>2.166079</td>\n",
              "      <td>1.994961</td>\n",
              "      <td>1.122072</td>\n",
              "      <td>4.548397</td>\n",
              "      <td>4.569403</td>\n",
              "      <td>4.590847</td>\n",
              "      <td>2.086300</td>\n",
              "      <td>4.215657</td>\n",
              "      <td>4.952933</td>\n",
              "      <td>2.896518</td>\n",
              "      <td>4.782275</td>\n",
              "      <td>3.007994</td>\n",
              "      <td>5.189808</td>\n",
              "      <td>5.039845</td>\n",
              "      <td>4.966424</td>\n",
              "      <td>1.861172</td>\n",
              "      <td>4.496569</td>\n",
              "      <td>0.000000</td>\n",
              "      <td>4.263225</td>\n",
              "      <td>5.095999</td>\n",
              "      <td>2.166079</td>\n",
              "      <td>1.994961</td>\n",
              "      <td>1.122072</td>\n",
              "      <td>4.548397</td>\n",
              "      <td>4.569403</td>\n",
              "      <td>4.590847</td>\n",
              "      <td>2.086300</td>\n",
              "      <td>4.215657</td>\n",
              "      <td>4.952933</td>\n",
              "      <td>2.896518</td>\n",
              "      <td>4.782275</td>\n",
              "      <td>3.007994</td>\n",
              "      <td>5.189808</td>\n",
              "      <td>5.039845</td>\n",
              "      <td>4.966424</td>\n",
              "    </tr>\n",
              "    <tr>\n",
              "      <th>3</th>\n",
              "      <td>3.466798</td>\n",
              "      <td>3.458607</td>\n",
              "      <td>4.263225</td>\n",
              "      <td>0.000000</td>\n",
              "      <td>4.179776</td>\n",
              "      <td>2.833672</td>\n",
              "      <td>3.130483</td>\n",
              "      <td>3.663434</td>\n",
              "      <td>3.557187</td>\n",
              "      <td>1.369912</td>\n",
              "      <td>3.980106</td>\n",
              "      <td>2.311731</td>\n",
              "      <td>3.767125</td>\n",
              "      <td>1.125134</td>\n",
              "      <td>3.007149</td>\n",
              "      <td>1.444571</td>\n",
              "      <td>3.061777</td>\n",
              "      <td>2.624253</td>\n",
              "      <td>1.701675</td>\n",
              "      <td>4.513766</td>\n",
              "      <td>3.466798</td>\n",
              "      <td>3.458607</td>\n",
              "      <td>4.263225</td>\n",
              "      <td>0.000000</td>\n",
              "      <td>4.179776</td>\n",
              "      <td>2.833672</td>\n",
              "      <td>3.130483</td>\n",
              "      <td>3.663434</td>\n",
              "      <td>3.557187</td>\n",
              "      <td>1.369912</td>\n",
              "      <td>3.980106</td>\n",
              "      <td>2.311731</td>\n",
              "      <td>3.767125</td>\n",
              "      <td>1.125134</td>\n",
              "      <td>3.007149</td>\n",
              "      <td>1.444571</td>\n",
              "      <td>3.061777</td>\n",
              "      <td>2.624253</td>\n",
              "      <td>1.701675</td>\n",
              "      <td>4.513766</td>\n",
              "    </tr>\n",
              "    <tr>\n",
              "      <th>4</th>\n",
              "      <td>4.547060</td>\n",
              "      <td>1.648460</td>\n",
              "      <td>5.095999</td>\n",
              "      <td>4.179776</td>\n",
              "      <td>0.000000</td>\n",
              "      <td>3.935943</td>\n",
              "      <td>3.512368</td>\n",
              "      <td>5.225826</td>\n",
              "      <td>1.416836</td>\n",
              "      <td>3.753199</td>\n",
              "      <td>1.125134</td>\n",
              "      <td>3.845936</td>\n",
              "      <td>2.558796</td>\n",
              "      <td>4.617434</td>\n",
              "      <td>4.351063</td>\n",
              "      <td>4.149266</td>\n",
              "      <td>3.943477</td>\n",
              "      <td>4.331939</td>\n",
              "      <td>5.359273</td>\n",
              "      <td>2.082703</td>\n",
              "      <td>4.547060</td>\n",
              "      <td>1.648460</td>\n",
              "      <td>5.095999</td>\n",
              "      <td>4.179776</td>\n",
              "      <td>0.000000</td>\n",
              "      <td>3.935943</td>\n",
              "      <td>3.512368</td>\n",
              "      <td>5.225826</td>\n",
              "      <td>1.416836</td>\n",
              "      <td>3.753199</td>\n",
              "      <td>1.125134</td>\n",
              "      <td>3.845936</td>\n",
              "      <td>2.558796</td>\n",
              "      <td>4.617434</td>\n",
              "      <td>4.351063</td>\n",
              "      <td>4.149266</td>\n",
              "      <td>3.943477</td>\n",
              "      <td>4.331939</td>\n",
              "      <td>5.359273</td>\n",
              "      <td>2.082703</td>\n",
              "    </tr>\n",
              "  </tbody>\n",
              "</table>\n",
              "</div>"
            ],
            "text/plain": [
              "         0         1         2   ...        37        38        39\n",
              "0  0.000000  4.305118  1.861172  ...  4.399105  4.718949  4.593841\n",
              "1  4.305118  0.000000  4.496569  ...  3.413659  4.285080  1.870062\n",
              "2  1.861172  4.496569  0.000000  ...  5.189808  5.039845  4.966424\n",
              "3  3.466798  3.458607  4.263225  ...  2.624253  1.701675  4.513766\n",
              "4  4.547060  1.648460  5.095999  ...  4.331939  5.359273  2.082703\n",
              "\n",
              "[5 rows x 40 columns]"
            ]
          },
          "metadata": {
            "tags": []
          },
          "execution_count": 19
        }
      ]
    },
    {
      "cell_type": "markdown",
      "metadata": {
        "id": "tIWdxHMUDtqy",
        "colab_type": "text"
      },
      "source": [
        "\n",
        "\n",
        "También, podemos definir medidas de distancia *ad-hoc* de acuerdo al contexto. Por ejemplo, si decidimos que dos clientes son similares si sus respuestas en las preguntas actitudinales no difieren en más de dos puntos. En esta caso, la matriz de distancia quedaría de a siguiente manera:\n",
        "\n",
        "(A la hora de calcular los elementos de la matriz, si tenemos que calcular el elemento (i,j), cuando utilizamos una función anónima, el primer parámetro corresponde con la fila i y el segundo con la fila j)."
      ]
    },
    {
      "cell_type": "code",
      "metadata": {
        "id": "D0RmDSTKDtqz",
        "colab_type": "code",
        "colab": {
          "base_uri": "https://localhost:8080/",
          "height": 224
        },
        "outputId": "bab57359-9c05-4a06-c1e3-209d847d0fe0"
      },
      "source": [
        "distancia = lambda x,y: np.sum(np.abs(x - y) > 2)\n",
        "\n",
        "dist_adhoc = pairwise_distances(data_seg, metric = distancia)\n",
        "data_dist_adhoc = pd.DataFrame(dist_adhoc)\n",
        "data_dist_adhoc.head()"
      ],
      "execution_count": null,
      "outputs": [
        {
          "output_type": "execute_result",
          "data": {
            "text/html": [
              "<div>\n",
              "<style scoped>\n",
              "    .dataframe tbody tr th:only-of-type {\n",
              "        vertical-align: middle;\n",
              "    }\n",
              "\n",
              "    .dataframe tbody tr th {\n",
              "        vertical-align: top;\n",
              "    }\n",
              "\n",
              "    .dataframe thead th {\n",
              "        text-align: right;\n",
              "    }\n",
              "</style>\n",
              "<table border=\"1\" class=\"dataframe\">\n",
              "  <thead>\n",
              "    <tr style=\"text-align: right;\">\n",
              "      <th></th>\n",
              "      <th>0</th>\n",
              "      <th>1</th>\n",
              "      <th>2</th>\n",
              "      <th>3</th>\n",
              "      <th>4</th>\n",
              "      <th>5</th>\n",
              "      <th>6</th>\n",
              "      <th>7</th>\n",
              "      <th>8</th>\n",
              "      <th>9</th>\n",
              "      <th>10</th>\n",
              "      <th>11</th>\n",
              "      <th>12</th>\n",
              "      <th>13</th>\n",
              "      <th>14</th>\n",
              "      <th>15</th>\n",
              "      <th>16</th>\n",
              "      <th>17</th>\n",
              "      <th>18</th>\n",
              "      <th>19</th>\n",
              "      <th>20</th>\n",
              "      <th>21</th>\n",
              "      <th>22</th>\n",
              "      <th>23</th>\n",
              "      <th>24</th>\n",
              "      <th>25</th>\n",
              "      <th>26</th>\n",
              "      <th>27</th>\n",
              "      <th>28</th>\n",
              "      <th>29</th>\n",
              "      <th>30</th>\n",
              "      <th>31</th>\n",
              "      <th>32</th>\n",
              "      <th>33</th>\n",
              "      <th>34</th>\n",
              "      <th>35</th>\n",
              "      <th>36</th>\n",
              "      <th>37</th>\n",
              "      <th>38</th>\n",
              "      <th>39</th>\n",
              "    </tr>\n",
              "  </thead>\n",
              "  <tbody>\n",
              "    <tr>\n",
              "      <th>0</th>\n",
              "      <td>0.0</td>\n",
              "      <td>2.0</td>\n",
              "      <td>0.0</td>\n",
              "      <td>1.0</td>\n",
              "      <td>3.0</td>\n",
              "      <td>0.0</td>\n",
              "      <td>0.0</td>\n",
              "      <td>0.0</td>\n",
              "      <td>3.0</td>\n",
              "      <td>3.0</td>\n",
              "      <td>2.0</td>\n",
              "      <td>0.0</td>\n",
              "      <td>2.0</td>\n",
              "      <td>2.0</td>\n",
              "      <td>0.0</td>\n",
              "      <td>2.0</td>\n",
              "      <td>0.0</td>\n",
              "      <td>3.0</td>\n",
              "      <td>3.0</td>\n",
              "      <td>3.0</td>\n",
              "      <td>0.0</td>\n",
              "      <td>2.0</td>\n",
              "      <td>0.0</td>\n",
              "      <td>1.0</td>\n",
              "      <td>3.0</td>\n",
              "      <td>0.0</td>\n",
              "      <td>0.0</td>\n",
              "      <td>0.0</td>\n",
              "      <td>3.0</td>\n",
              "      <td>3.0</td>\n",
              "      <td>2.0</td>\n",
              "      <td>0.0</td>\n",
              "      <td>2.0</td>\n",
              "      <td>2.0</td>\n",
              "      <td>0.0</td>\n",
              "      <td>2.0</td>\n",
              "      <td>0.0</td>\n",
              "      <td>3.0</td>\n",
              "      <td>3.0</td>\n",
              "      <td>3.0</td>\n",
              "    </tr>\n",
              "    <tr>\n",
              "      <th>1</th>\n",
              "      <td>2.0</td>\n",
              "      <td>0.0</td>\n",
              "      <td>3.0</td>\n",
              "      <td>1.0</td>\n",
              "      <td>0.0</td>\n",
              "      <td>2.0</td>\n",
              "      <td>1.0</td>\n",
              "      <td>3.0</td>\n",
              "      <td>0.0</td>\n",
              "      <td>0.0</td>\n",
              "      <td>0.0</td>\n",
              "      <td>1.0</td>\n",
              "      <td>0.0</td>\n",
              "      <td>2.0</td>\n",
              "      <td>2.0</td>\n",
              "      <td>1.0</td>\n",
              "      <td>1.0</td>\n",
              "      <td>1.0</td>\n",
              "      <td>3.0</td>\n",
              "      <td>0.0</td>\n",
              "      <td>2.0</td>\n",
              "      <td>0.0</td>\n",
              "      <td>3.0</td>\n",
              "      <td>1.0</td>\n",
              "      <td>0.0</td>\n",
              "      <td>2.0</td>\n",
              "      <td>1.0</td>\n",
              "      <td>3.0</td>\n",
              "      <td>0.0</td>\n",
              "      <td>0.0</td>\n",
              "      <td>0.0</td>\n",
              "      <td>1.0</td>\n",
              "      <td>0.0</td>\n",
              "      <td>2.0</td>\n",
              "      <td>2.0</td>\n",
              "      <td>1.0</td>\n",
              "      <td>1.0</td>\n",
              "      <td>1.0</td>\n",
              "      <td>3.0</td>\n",
              "      <td>0.0</td>\n",
              "    </tr>\n",
              "    <tr>\n",
              "      <th>2</th>\n",
              "      <td>0.0</td>\n",
              "      <td>3.0</td>\n",
              "      <td>0.0</td>\n",
              "      <td>2.0</td>\n",
              "      <td>3.0</td>\n",
              "      <td>0.0</td>\n",
              "      <td>0.0</td>\n",
              "      <td>0.0</td>\n",
              "      <td>2.0</td>\n",
              "      <td>3.0</td>\n",
              "      <td>3.0</td>\n",
              "      <td>0.0</td>\n",
              "      <td>2.0</td>\n",
              "      <td>2.0</td>\n",
              "      <td>1.0</td>\n",
              "      <td>3.0</td>\n",
              "      <td>0.0</td>\n",
              "      <td>3.0</td>\n",
              "      <td>3.0</td>\n",
              "      <td>3.0</td>\n",
              "      <td>0.0</td>\n",
              "      <td>3.0</td>\n",
              "      <td>0.0</td>\n",
              "      <td>2.0</td>\n",
              "      <td>3.0</td>\n",
              "      <td>0.0</td>\n",
              "      <td>0.0</td>\n",
              "      <td>0.0</td>\n",
              "      <td>2.0</td>\n",
              "      <td>3.0</td>\n",
              "      <td>3.0</td>\n",
              "      <td>0.0</td>\n",
              "      <td>2.0</td>\n",
              "      <td>2.0</td>\n",
              "      <td>1.0</td>\n",
              "      <td>3.0</td>\n",
              "      <td>0.0</td>\n",
              "      <td>3.0</td>\n",
              "      <td>3.0</td>\n",
              "      <td>3.0</td>\n",
              "    </tr>\n",
              "    <tr>\n",
              "      <th>3</th>\n",
              "      <td>1.0</td>\n",
              "      <td>1.0</td>\n",
              "      <td>2.0</td>\n",
              "      <td>0.0</td>\n",
              "      <td>2.0</td>\n",
              "      <td>0.0</td>\n",
              "      <td>1.0</td>\n",
              "      <td>1.0</td>\n",
              "      <td>1.0</td>\n",
              "      <td>0.0</td>\n",
              "      <td>2.0</td>\n",
              "      <td>0.0</td>\n",
              "      <td>1.0</td>\n",
              "      <td>0.0</td>\n",
              "      <td>1.0</td>\n",
              "      <td>0.0</td>\n",
              "      <td>1.0</td>\n",
              "      <td>1.0</td>\n",
              "      <td>0.0</td>\n",
              "      <td>3.0</td>\n",
              "      <td>1.0</td>\n",
              "      <td>1.0</td>\n",
              "      <td>2.0</td>\n",
              "      <td>0.0</td>\n",
              "      <td>2.0</td>\n",
              "      <td>0.0</td>\n",
              "      <td>1.0</td>\n",
              "      <td>1.0</td>\n",
              "      <td>1.0</td>\n",
              "      <td>0.0</td>\n",
              "      <td>2.0</td>\n",
              "      <td>0.0</td>\n",
              "      <td>1.0</td>\n",
              "      <td>0.0</td>\n",
              "      <td>1.0</td>\n",
              "      <td>0.0</td>\n",
              "      <td>1.0</td>\n",
              "      <td>1.0</td>\n",
              "      <td>0.0</td>\n",
              "      <td>3.0</td>\n",
              "    </tr>\n",
              "    <tr>\n",
              "      <th>4</th>\n",
              "      <td>3.0</td>\n",
              "      <td>0.0</td>\n",
              "      <td>3.0</td>\n",
              "      <td>2.0</td>\n",
              "      <td>0.0</td>\n",
              "      <td>2.0</td>\n",
              "      <td>2.0</td>\n",
              "      <td>3.0</td>\n",
              "      <td>0.0</td>\n",
              "      <td>1.0</td>\n",
              "      <td>0.0</td>\n",
              "      <td>2.0</td>\n",
              "      <td>1.0</td>\n",
              "      <td>3.0</td>\n",
              "      <td>2.0</td>\n",
              "      <td>2.0</td>\n",
              "      <td>2.0</td>\n",
              "      <td>2.0</td>\n",
              "      <td>4.0</td>\n",
              "      <td>0.0</td>\n",
              "      <td>3.0</td>\n",
              "      <td>0.0</td>\n",
              "      <td>3.0</td>\n",
              "      <td>2.0</td>\n",
              "      <td>0.0</td>\n",
              "      <td>2.0</td>\n",
              "      <td>2.0</td>\n",
              "      <td>3.0</td>\n",
              "      <td>0.0</td>\n",
              "      <td>1.0</td>\n",
              "      <td>0.0</td>\n",
              "      <td>2.0</td>\n",
              "      <td>1.0</td>\n",
              "      <td>3.0</td>\n",
              "      <td>2.0</td>\n",
              "      <td>2.0</td>\n",
              "      <td>2.0</td>\n",
              "      <td>2.0</td>\n",
              "      <td>4.0</td>\n",
              "      <td>0.0</td>\n",
              "    </tr>\n",
              "  </tbody>\n",
              "</table>\n",
              "</div>"
            ],
            "text/plain": [
              "    0    1    2    3    4    5    6   ...   33   34   35   36   37   38   39\n",
              "0  0.0  2.0  0.0  1.0  3.0  0.0  0.0  ...  2.0  0.0  2.0  0.0  3.0  3.0  3.0\n",
              "1  2.0  0.0  3.0  1.0  0.0  2.0  1.0  ...  2.0  2.0  1.0  1.0  1.0  3.0  0.0\n",
              "2  0.0  3.0  0.0  2.0  3.0  0.0  0.0  ...  2.0  1.0  3.0  0.0  3.0  3.0  3.0\n",
              "3  1.0  1.0  2.0  0.0  2.0  0.0  1.0  ...  0.0  1.0  0.0  1.0  1.0  0.0  3.0\n",
              "4  3.0  0.0  3.0  2.0  0.0  2.0  2.0  ...  3.0  2.0  2.0  2.0  2.0  4.0  0.0\n",
              "\n",
              "[5 rows x 40 columns]"
            ]
          },
          "metadata": {
            "tags": []
          },
          "execution_count": 20
        }
      ]
    },
    {
      "cell_type": "markdown",
      "metadata": {
        "id": "JB0OKM25Dtq0",
        "colab_type": "text"
      },
      "source": [
        "\n",
        "\n",
        "Ahora podemos construir un histograma de la distribución de la distancia entre pares de observaciones."
      ]
    },
    {
      "cell_type": "code",
      "metadata": {
        "id": "zk5S3LdXDtq1",
        "colab_type": "code",
        "colab": {}
      },
      "source": [
        "diag = np.diag_indices(40)\n",
        "triag = np.tril_indices(40)\n",
        "d = data_dist_eu.to_numpy()\n",
        "d[diag] = 'NAN'\n",
        "d[triag] = 'NAN'\n",
        "d.flatten()\n",
        "d = d[~np.isnan(d)]"
      ],
      "execution_count": null,
      "outputs": []
    },
    {
      "cell_type": "code",
      "metadata": {
        "id": "O1gZl_PZDtq2",
        "colab_type": "code",
        "colab": {
          "base_uri": "https://localhost:8080/",
          "height": 390
        },
        "outputId": "88ec053f-7cb0-40f9-effb-41611d12756a"
      },
      "source": [
        "plt.hist(d)\n",
        "plt.xlabel(u'distance')\n",
        "plt.ylabel(u'frecuency')"
      ],
      "execution_count": null,
      "outputs": [
        {
          "output_type": "execute_result",
          "data": {
            "text/plain": [
              "Text(0, 0.5, 'frecuency')"
            ]
          },
          "metadata": {
            "tags": []
          },
          "execution_count": 25
        },
        {
          "output_type": "display_data",
          "data": {
            "application/pdf": "[encoded data removed]",
            "text/plain": [
              "<Figure size 432x288 with 1 Axes>"
            ],
            "image/svg+xml": "<?xml version=\"1.0\" encoding=\"utf-8\" standalone=\"no\"?>\n<!DOCTYPE svg PUBLIC \"-//W3C//DTD SVG 1.1//EN\"\n  \"http://www.w3.org/Graphics/SVG/1.1/DTD/svg11.dtd\">\n<!-- Created with matplotlib (https://matplotlib.org/) -->\n<svg height=\"264.131875pt\" version=\"1.1\" viewBox=\"0 0 390.90125 264.131875\" width=\"390.90125pt\" xmlns=\"http://www.w3.org/2000/svg\" xmlns:xlink=\"http://www.w3.org/1999/xlink\">\n <defs>\n  <style type=\"text/css\">\n*{stroke-linecap:butt;stroke-linejoin:round;}\n  </style>\n </defs>\n <g id=\"figure_1\">\n  <g id=\"patch_1\">\n   <path d=\"M 0 264.131875 \nL 390.90125 264.131875 \nL 390.90125 0 \nL 0 0 \nz\n\" style=\"fill:#ffffff;\"/>\n  </g>\n  <g id=\"axes_1\">\n   <g id=\"patch_2\">\n    <path d=\"M 48.90125 224.64 \nL 383.70125 224.64 \nL 383.70125 7.2 \nL 48.90125 7.2 \nz\n\" style=\"fill:#e5e5e5;\"/>\n   </g>\n   <g id=\"matplotlib.axis_1\">\n    <g id=\"xtick_1\">\n     <g id=\"line2d_1\">\n      <path clip-path=\"url(#p1234d5430c)\" d=\"M 64.119432 224.64 \nL 64.119432 7.2 \n\" style=\"fill:none;stroke:#ffffff;stroke-linecap:square;stroke-width:0.8;\"/>\n     </g>\n     <g id=\"line2d_2\">\n      <defs>\n       <path d=\"M 0 0 \nL 0 3.5 \n\" id=\"m1d57053bee\" style=\"stroke:#555555;stroke-width:0.8;\"/>\n      </defs>\n      <g>\n       <use style=\"fill:#555555;stroke:#555555;stroke-width:0.8;\" x=\"64.119432\" xlink:href=\"#m1d57053bee\" y=\"224.64\"/>\n      </g>\n     </g>\n     <g id=\"text_1\">\n      <!-- 0 -->\n      <defs>\n       <path d=\"M 31.78125 66.40625 \nQ 24.171875 66.40625 20.328125 58.90625 \nQ 16.5 51.421875 16.5 36.375 \nQ 16.5 21.390625 20.328125 13.890625 \nQ 24.171875 6.390625 31.78125 6.390625 \nQ 39.453125 6.390625 43.28125 13.890625 \nQ 47.125 21.390625 47.125 36.375 \nQ 47.125 51.421875 43.28125 58.90625 \nQ 39.453125 66.40625 31.78125 66.40625 \nz\nM 31.78125 74.21875 \nQ 44.046875 74.21875 50.515625 64.515625 \nQ 56.984375 54.828125 56.984375 36.375 \nQ 56.984375 17.96875 50.515625 8.265625 \nQ 44.046875 -1.421875 31.78125 -1.421875 \nQ 19.53125 -1.421875 13.0625 8.265625 \nQ 6.59375 17.96875 6.59375 36.375 \nQ 6.59375 54.828125 13.0625 64.515625 \nQ 19.53125 74.21875 31.78125 74.21875 \nz\n\" id=\"DejaVuSans-48\"/>\n      </defs>\n      <g style=\"fill:#555555;\" transform=\"translate(60.938182 239.238437)scale(0.1 -0.1)\">\n       <use xlink:href=\"#DejaVuSans-48\"/>\n      </g>\n     </g>\n    </g>\n    <g id=\"xtick_2\">\n     <g id=\"line2d_3\">\n      <path clip-path=\"url(#p1234d5430c)\" d=\"M 119.202951 224.64 \nL 119.202951 7.2 \n\" style=\"fill:none;stroke:#ffffff;stroke-linecap:square;stroke-width:0.8;\"/>\n     </g>\n     <g id=\"line2d_4\">\n      <g>\n       <use style=\"fill:#555555;stroke:#555555;stroke-width:0.8;\" x=\"119.202951\" xlink:href=\"#m1d57053bee\" y=\"224.64\"/>\n      </g>\n     </g>\n     <g id=\"text_2\">\n      <!-- 1 -->\n      <defs>\n       <path d=\"M 12.40625 8.296875 \nL 28.515625 8.296875 \nL 28.515625 63.921875 \nL 10.984375 60.40625 \nL 10.984375 69.390625 \nL 28.421875 72.90625 \nL 38.28125 72.90625 \nL 38.28125 8.296875 \nL 54.390625 8.296875 \nL 54.390625 0 \nL 12.40625 0 \nz\n\" id=\"DejaVuSans-49\"/>\n      </defs>\n      <g style=\"fill:#555555;\" transform=\"translate(116.021701 239.238437)scale(0.1 -0.1)\">\n       <use xlink:href=\"#DejaVuSans-49\"/>\n      </g>\n     </g>\n    </g>\n    <g id=\"xtick_3\">\n     <g id=\"line2d_5\">\n      <path clip-path=\"url(#p1234d5430c)\" d=\"M 174.286471 224.64 \nL 174.286471 7.2 \n\" style=\"fill:none;stroke:#ffffff;stroke-linecap:square;stroke-width:0.8;\"/>\n     </g>\n     <g id=\"line2d_6\">\n      <g>\n       <use style=\"fill:#555555;stroke:#555555;stroke-width:0.8;\" x=\"174.286471\" xlink:href=\"#m1d57053bee\" y=\"224.64\"/>\n      </g>\n     </g>\n     <g id=\"text_3\">\n      <!-- 2 -->\n      <defs>\n       <path d=\"M 19.1875 8.296875 \nL 53.609375 8.296875 \nL 53.609375 0 \nL 7.328125 0 \nL 7.328125 8.296875 \nQ 12.9375 14.109375 22.625 23.890625 \nQ 32.328125 33.6875 34.8125 36.53125 \nQ 39.546875 41.84375 41.421875 45.53125 \nQ 43.3125 49.21875 43.3125 52.78125 \nQ 43.3125 58.59375 39.234375 62.25 \nQ 35.15625 65.921875 28.609375 65.921875 \nQ 23.96875 65.921875 18.8125 64.3125 \nQ 13.671875 62.703125 7.8125 59.421875 \nL 7.8125 69.390625 \nQ 13.765625 71.78125 18.9375 73 \nQ 24.125 74.21875 28.421875 74.21875 \nQ 39.75 74.21875 46.484375 68.546875 \nQ 53.21875 62.890625 53.21875 53.421875 \nQ 53.21875 48.921875 51.53125 44.890625 \nQ 49.859375 40.875 45.40625 35.40625 \nQ 44.1875 33.984375 37.640625 27.21875 \nQ 31.109375 20.453125 19.1875 8.296875 \nz\n\" id=\"DejaVuSans-50\"/>\n      </defs>\n      <g style=\"fill:#555555;\" transform=\"translate(171.105221 239.238437)scale(0.1 -0.1)\">\n       <use xlink:href=\"#DejaVuSans-50\"/>\n      </g>\n     </g>\n    </g>\n    <g id=\"xtick_4\">\n     <g id=\"line2d_7\">\n      <path clip-path=\"url(#p1234d5430c)\" d=\"M 229.369991 224.64 \nL 229.369991 7.2 \n\" style=\"fill:none;stroke:#ffffff;stroke-linecap:square;stroke-width:0.8;\"/>\n     </g>\n     <g id=\"line2d_8\">\n      <g>\n       <use style=\"fill:#555555;stroke:#555555;stroke-width:0.8;\" x=\"229.369991\" xlink:href=\"#m1d57053bee\" y=\"224.64\"/>\n      </g>\n     </g>\n     <g id=\"text_4\">\n      <!-- 3 -->\n      <defs>\n       <path d=\"M 40.578125 39.3125 \nQ 47.65625 37.796875 51.625 33 \nQ 55.609375 28.21875 55.609375 21.1875 \nQ 55.609375 10.40625 48.1875 4.484375 \nQ 40.765625 -1.421875 27.09375 -1.421875 \nQ 22.515625 -1.421875 17.65625 -0.515625 \nQ 12.796875 0.390625 7.625 2.203125 \nL 7.625 11.71875 \nQ 11.71875 9.328125 16.59375 8.109375 \nQ 21.484375 6.890625 26.8125 6.890625 \nQ 36.078125 6.890625 40.9375 10.546875 \nQ 45.796875 14.203125 45.796875 21.1875 \nQ 45.796875 27.640625 41.28125 31.265625 \nQ 36.765625 34.90625 28.71875 34.90625 \nL 20.21875 34.90625 \nL 20.21875 43.015625 \nL 29.109375 43.015625 \nQ 36.375 43.015625 40.234375 45.921875 \nQ 44.09375 48.828125 44.09375 54.296875 \nQ 44.09375 59.90625 40.109375 62.90625 \nQ 36.140625 65.921875 28.71875 65.921875 \nQ 24.65625 65.921875 20.015625 65.03125 \nQ 15.375 64.15625 9.8125 62.3125 \nL 9.8125 71.09375 \nQ 15.4375 72.65625 20.34375 73.4375 \nQ 25.25 74.21875 29.59375 74.21875 \nQ 40.828125 74.21875 47.359375 69.109375 \nQ 53.90625 64.015625 53.90625 55.328125 \nQ 53.90625 49.265625 50.4375 45.09375 \nQ 46.96875 40.921875 40.578125 39.3125 \nz\n\" id=\"DejaVuSans-51\"/>\n      </defs>\n      <g style=\"fill:#555555;\" transform=\"translate(226.188741 239.238437)scale(0.1 -0.1)\">\n       <use xlink:href=\"#DejaVuSans-51\"/>\n      </g>\n     </g>\n    </g>\n    <g id=\"xtick_5\">\n     <g id=\"line2d_9\">\n      <path clip-path=\"url(#p1234d5430c)\" d=\"M 284.45351 224.64 \nL 284.45351 7.2 \n\" style=\"fill:none;stroke:#ffffff;stroke-linecap:square;stroke-width:0.8;\"/>\n     </g>\n     <g id=\"line2d_10\">\n      <g>\n       <use style=\"fill:#555555;stroke:#555555;stroke-width:0.8;\" x=\"284.45351\" xlink:href=\"#m1d57053bee\" y=\"224.64\"/>\n      </g>\n     </g>\n     <g id=\"text_5\">\n      <!-- 4 -->\n      <defs>\n       <path d=\"M 37.796875 64.3125 \nL 12.890625 25.390625 \nL 37.796875 25.390625 \nz\nM 35.203125 72.90625 \nL 47.609375 72.90625 \nL 47.609375 25.390625 \nL 58.015625 25.390625 \nL 58.015625 17.1875 \nL 47.609375 17.1875 \nL 47.609375 0 \nL 37.796875 0 \nL 37.796875 17.1875 \nL 4.890625 17.1875 \nL 4.890625 26.703125 \nz\n\" id=\"DejaVuSans-52\"/>\n      </defs>\n      <g style=\"fill:#555555;\" transform=\"translate(281.27226 239.238437)scale(0.1 -0.1)\">\n       <use xlink:href=\"#DejaVuSans-52\"/>\n      </g>\n     </g>\n    </g>\n    <g id=\"xtick_6\">\n     <g id=\"line2d_11\">\n      <path clip-path=\"url(#p1234d5430c)\" d=\"M 339.53703 224.64 \nL 339.53703 7.2 \n\" style=\"fill:none;stroke:#ffffff;stroke-linecap:square;stroke-width:0.8;\"/>\n     </g>\n     <g id=\"line2d_12\">\n      <g>\n       <use style=\"fill:#555555;stroke:#555555;stroke-width:0.8;\" x=\"339.53703\" xlink:href=\"#m1d57053bee\" y=\"224.64\"/>\n      </g>\n     </g>\n     <g id=\"text_6\">\n      <!-- 5 -->\n      <defs>\n       <path d=\"M 10.796875 72.90625 \nL 49.515625 72.90625 \nL 49.515625 64.59375 \nL 19.828125 64.59375 \nL 19.828125 46.734375 \nQ 21.96875 47.46875 24.109375 47.828125 \nQ 26.265625 48.1875 28.421875 48.1875 \nQ 40.625 48.1875 47.75 41.5 \nQ 54.890625 34.8125 54.890625 23.390625 \nQ 54.890625 11.625 47.5625 5.09375 \nQ 40.234375 -1.421875 26.90625 -1.421875 \nQ 22.3125 -1.421875 17.546875 -0.640625 \nQ 12.796875 0.140625 7.71875 1.703125 \nL 7.71875 11.625 \nQ 12.109375 9.234375 16.796875 8.0625 \nQ 21.484375 6.890625 26.703125 6.890625 \nQ 35.15625 6.890625 40.078125 11.328125 \nQ 45.015625 15.765625 45.015625 23.390625 \nQ 45.015625 31 40.078125 35.4375 \nQ 35.15625 39.890625 26.703125 39.890625 \nQ 22.75 39.890625 18.8125 39.015625 \nQ 14.890625 38.140625 10.796875 36.28125 \nz\n\" id=\"DejaVuSans-53\"/>\n      </defs>\n      <g style=\"fill:#555555;\" transform=\"translate(336.35578 239.238437)scale(0.1 -0.1)\">\n       <use xlink:href=\"#DejaVuSans-53\"/>\n      </g>\n     </g>\n    </g>\n    <g id=\"text_7\">\n     <!-- distance -->\n     <defs>\n      <path d=\"M 45.40625 46.390625 \nL 45.40625 75.984375 \nL 54.390625 75.984375 \nL 54.390625 0 \nL 45.40625 0 \nL 45.40625 8.203125 \nQ 42.578125 3.328125 38.25 0.953125 \nQ 33.9375 -1.421875 27.875 -1.421875 \nQ 17.96875 -1.421875 11.734375 6.484375 \nQ 5.515625 14.40625 5.515625 27.296875 \nQ 5.515625 40.1875 11.734375 48.09375 \nQ 17.96875 56 27.875 56 \nQ 33.9375 56 38.25 53.625 \nQ 42.578125 51.265625 45.40625 46.390625 \nz\nM 14.796875 27.296875 \nQ 14.796875 17.390625 18.875 11.75 \nQ 22.953125 6.109375 30.078125 6.109375 \nQ 37.203125 6.109375 41.296875 11.75 \nQ 45.40625 17.390625 45.40625 27.296875 \nQ 45.40625 37.203125 41.296875 42.84375 \nQ 37.203125 48.484375 30.078125 48.484375 \nQ 22.953125 48.484375 18.875 42.84375 \nQ 14.796875 37.203125 14.796875 27.296875 \nz\n\" id=\"DejaVuSans-100\"/>\n      <path d=\"M 9.421875 54.6875 \nL 18.40625 54.6875 \nL 18.40625 0 \nL 9.421875 0 \nz\nM 9.421875 75.984375 \nL 18.40625 75.984375 \nL 18.40625 64.59375 \nL 9.421875 64.59375 \nz\n\" id=\"DejaVuSans-105\"/>\n      <path d=\"M 44.28125 53.078125 \nL 44.28125 44.578125 \nQ 40.484375 46.53125 36.375 47.5 \nQ 32.28125 48.484375 27.875 48.484375 \nQ 21.1875 48.484375 17.84375 46.4375 \nQ 14.5 44.390625 14.5 40.28125 \nQ 14.5 37.15625 16.890625 35.375 \nQ 19.28125 33.59375 26.515625 31.984375 \nL 29.59375 31.296875 \nQ 39.15625 29.25 43.1875 25.515625 \nQ 47.21875 21.78125 47.21875 15.09375 \nQ 47.21875 7.46875 41.1875 3.015625 \nQ 35.15625 -1.421875 24.609375 -1.421875 \nQ 20.21875 -1.421875 15.453125 -0.5625 \nQ 10.6875 0.296875 5.421875 2 \nL 5.421875 11.28125 \nQ 10.40625 8.6875 15.234375 7.390625 \nQ 20.0625 6.109375 24.8125 6.109375 \nQ 31.15625 6.109375 34.5625 8.28125 \nQ 37.984375 10.453125 37.984375 14.40625 \nQ 37.984375 18.0625 35.515625 20.015625 \nQ 33.0625 21.96875 24.703125 23.78125 \nL 21.578125 24.515625 \nQ 13.234375 26.265625 9.515625 29.90625 \nQ 5.8125 33.546875 5.8125 39.890625 \nQ 5.8125 47.609375 11.28125 51.796875 \nQ 16.75 56 26.8125 56 \nQ 31.78125 56 36.171875 55.265625 \nQ 40.578125 54.546875 44.28125 53.078125 \nz\n\" id=\"DejaVuSans-115\"/>\n      <path d=\"M 18.3125 70.21875 \nL 18.3125 54.6875 \nL 36.8125 54.6875 \nL 36.8125 47.703125 \nL 18.3125 47.703125 \nL 18.3125 18.015625 \nQ 18.3125 11.328125 20.140625 9.421875 \nQ 21.96875 7.515625 27.59375 7.515625 \nL 36.8125 7.515625 \nL 36.8125 0 \nL 27.59375 0 \nQ 17.1875 0 13.234375 3.875 \nQ 9.28125 7.765625 9.28125 18.015625 \nL 9.28125 47.703125 \nL 2.6875 47.703125 \nL 2.6875 54.6875 \nL 9.28125 54.6875 \nL 9.28125 70.21875 \nz\n\" id=\"DejaVuSans-116\"/>\n      <path d=\"M 34.28125 27.484375 \nQ 23.390625 27.484375 19.1875 25 \nQ 14.984375 22.515625 14.984375 16.5 \nQ 14.984375 11.71875 18.140625 8.90625 \nQ 21.296875 6.109375 26.703125 6.109375 \nQ 34.1875 6.109375 38.703125 11.40625 \nQ 43.21875 16.703125 43.21875 25.484375 \nL 43.21875 27.484375 \nz\nM 52.203125 31.203125 \nL 52.203125 0 \nL 43.21875 0 \nL 43.21875 8.296875 \nQ 40.140625 3.328125 35.546875 0.953125 \nQ 30.953125 -1.421875 24.3125 -1.421875 \nQ 15.921875 -1.421875 10.953125 3.296875 \nQ 6 8.015625 6 15.921875 \nQ 6 25.140625 12.171875 29.828125 \nQ 18.359375 34.515625 30.609375 34.515625 \nL 43.21875 34.515625 \nL 43.21875 35.40625 \nQ 43.21875 41.609375 39.140625 45 \nQ 35.0625 48.390625 27.6875 48.390625 \nQ 23 48.390625 18.546875 47.265625 \nQ 14.109375 46.140625 10.015625 43.890625 \nL 10.015625 52.203125 \nQ 14.9375 54.109375 19.578125 55.046875 \nQ 24.21875 56 28.609375 56 \nQ 40.484375 56 46.34375 49.84375 \nQ 52.203125 43.703125 52.203125 31.203125 \nz\n\" id=\"DejaVuSans-97\"/>\n      <path d=\"M 54.890625 33.015625 \nL 54.890625 0 \nL 45.90625 0 \nL 45.90625 32.71875 \nQ 45.90625 40.484375 42.875 44.328125 \nQ 39.84375 48.1875 33.796875 48.1875 \nQ 26.515625 48.1875 22.3125 43.546875 \nQ 18.109375 38.921875 18.109375 30.90625 \nL 18.109375 0 \nL 9.078125 0 \nL 9.078125 54.6875 \nL 18.109375 54.6875 \nL 18.109375 46.1875 \nQ 21.34375 51.125 25.703125 53.5625 \nQ 30.078125 56 35.796875 56 \nQ 45.21875 56 50.046875 50.171875 \nQ 54.890625 44.34375 54.890625 33.015625 \nz\n\" id=\"DejaVuSans-110\"/>\n      <path d=\"M 48.78125 52.59375 \nL 48.78125 44.1875 \nQ 44.96875 46.296875 41.140625 47.34375 \nQ 37.3125 48.390625 33.40625 48.390625 \nQ 24.65625 48.390625 19.8125 42.84375 \nQ 14.984375 37.3125 14.984375 27.296875 \nQ 14.984375 17.28125 19.8125 11.734375 \nQ 24.65625 6.203125 33.40625 6.203125 \nQ 37.3125 6.203125 41.140625 7.25 \nQ 44.96875 8.296875 48.78125 10.40625 \nL 48.78125 2.09375 \nQ 45.015625 0.34375 40.984375 -0.53125 \nQ 36.96875 -1.421875 32.421875 -1.421875 \nQ 20.0625 -1.421875 12.78125 6.34375 \nQ 5.515625 14.109375 5.515625 27.296875 \nQ 5.515625 40.671875 12.859375 48.328125 \nQ 20.21875 56 33.015625 56 \nQ 37.15625 56 41.109375 55.140625 \nQ 45.0625 54.296875 48.78125 52.59375 \nz\n\" id=\"DejaVuSans-99\"/>\n      <path d=\"M 56.203125 29.59375 \nL 56.203125 25.203125 \nL 14.890625 25.203125 \nQ 15.484375 15.921875 20.484375 11.0625 \nQ 25.484375 6.203125 34.421875 6.203125 \nQ 39.59375 6.203125 44.453125 7.46875 \nQ 49.3125 8.734375 54.109375 11.28125 \nL 54.109375 2.78125 \nQ 49.265625 0.734375 44.1875 -0.34375 \nQ 39.109375 -1.421875 33.890625 -1.421875 \nQ 20.796875 -1.421875 13.15625 6.1875 \nQ 5.515625 13.8125 5.515625 26.8125 \nQ 5.515625 40.234375 12.765625 48.109375 \nQ 20.015625 56 32.328125 56 \nQ 43.359375 56 49.78125 48.890625 \nQ 56.203125 41.796875 56.203125 29.59375 \nz\nM 47.21875 32.234375 \nQ 47.125 39.59375 43.09375 43.984375 \nQ 39.0625 48.390625 32.421875 48.390625 \nQ 24.90625 48.390625 20.390625 44.140625 \nQ 15.875 39.890625 15.1875 32.171875 \nz\n\" id=\"DejaVuSans-101\"/>\n     </defs>\n     <g style=\"fill:#555555;\" transform=\"translate(190.877188 254.43625)scale(0.12 -0.12)\">\n      <use xlink:href=\"#DejaVuSans-100\"/>\n      <use x=\"63.476562\" xlink:href=\"#DejaVuSans-105\"/>\n      <use x=\"91.259766\" xlink:href=\"#DejaVuSans-115\"/>\n      <use x=\"143.359375\" xlink:href=\"#DejaVuSans-116\"/>\n      <use x=\"182.568359\" xlink:href=\"#DejaVuSans-97\"/>\n      <use x=\"243.847656\" xlink:href=\"#DejaVuSans-110\"/>\n      <use x=\"307.226562\" xlink:href=\"#DejaVuSans-99\"/>\n      <use x=\"362.207031\" xlink:href=\"#DejaVuSans-101\"/>\n     </g>\n    </g>\n   </g>\n   <g id=\"matplotlib.axis_2\">\n    <g id=\"ytick_1\">\n     <g id=\"line2d_13\">\n      <path clip-path=\"url(#p1234d5430c)\" d=\"M 48.90125 224.64 \nL 383.70125 224.64 \n\" style=\"fill:none;stroke:#ffffff;stroke-linecap:square;stroke-width:0.8;\"/>\n     </g>\n     <g id=\"line2d_14\">\n      <defs>\n       <path d=\"M 0 0 \nL -3.5 0 \n\" id=\"mf1f1e6b4ad\" style=\"stroke:#555555;stroke-width:0.8;\"/>\n      </defs>\n      <g>\n       <use style=\"fill:#555555;stroke:#555555;stroke-width:0.8;\" x=\"48.90125\" xlink:href=\"#mf1f1e6b4ad\" y=\"224.64\"/>\n      </g>\n     </g>\n     <g id=\"text_8\">\n      <!-- 0 -->\n      <g style=\"fill:#555555;\" transform=\"translate(35.53875 228.439219)scale(0.1 -0.1)\">\n       <use xlink:href=\"#DejaVuSans-48\"/>\n      </g>\n     </g>\n    </g>\n    <g id=\"ytick_2\">\n     <g id=\"line2d_15\">\n      <path clip-path=\"url(#p1234d5430c)\" d=\"M 48.90125 194.540332 \nL 383.70125 194.540332 \n\" style=\"fill:none;stroke:#ffffff;stroke-linecap:square;stroke-width:0.8;\"/>\n     </g>\n     <g id=\"line2d_16\">\n      <g>\n       <use style=\"fill:#555555;stroke:#555555;stroke-width:0.8;\" x=\"48.90125\" xlink:href=\"#mf1f1e6b4ad\" y=\"194.540332\"/>\n      </g>\n     </g>\n     <g id=\"text_9\">\n      <!-- 25 -->\n      <g style=\"fill:#555555;\" transform=\"translate(29.17625 198.339551)scale(0.1 -0.1)\">\n       <use xlink:href=\"#DejaVuSans-50\"/>\n       <use x=\"63.623047\" xlink:href=\"#DejaVuSans-53\"/>\n      </g>\n     </g>\n    </g>\n    <g id=\"ytick_3\">\n     <g id=\"line2d_17\">\n      <path clip-path=\"url(#p1234d5430c)\" d=\"M 48.90125 164.440664 \nL 383.70125 164.440664 \n\" style=\"fill:none;stroke:#ffffff;stroke-linecap:square;stroke-width:0.8;\"/>\n     </g>\n     <g id=\"line2d_18\">\n      <g>\n       <use style=\"fill:#555555;stroke:#555555;stroke-width:0.8;\" x=\"48.90125\" xlink:href=\"#mf1f1e6b4ad\" y=\"164.440664\"/>\n      </g>\n     </g>\n     <g id=\"text_10\">\n      <!-- 50 -->\n      <g style=\"fill:#555555;\" transform=\"translate(29.17625 168.239883)scale(0.1 -0.1)\">\n       <use xlink:href=\"#DejaVuSans-53\"/>\n       <use x=\"63.623047\" xlink:href=\"#DejaVuSans-48\"/>\n      </g>\n     </g>\n    </g>\n    <g id=\"ytick_4\">\n     <g id=\"line2d_19\">\n      <path clip-path=\"url(#p1234d5430c)\" d=\"M 48.90125 134.340997 \nL 383.70125 134.340997 \n\" style=\"fill:none;stroke:#ffffff;stroke-linecap:square;stroke-width:0.8;\"/>\n     </g>\n     <g id=\"line2d_20\">\n      <g>\n       <use style=\"fill:#555555;stroke:#555555;stroke-width:0.8;\" x=\"48.90125\" xlink:href=\"#mf1f1e6b4ad\" y=\"134.340997\"/>\n      </g>\n     </g>\n     <g id=\"text_11\">\n      <!-- 75 -->\n      <defs>\n       <path d=\"M 8.203125 72.90625 \nL 55.078125 72.90625 \nL 55.078125 68.703125 \nL 28.609375 0 \nL 18.3125 0 \nL 43.21875 64.59375 \nL 8.203125 64.59375 \nz\n\" id=\"DejaVuSans-55\"/>\n      </defs>\n      <g style=\"fill:#555555;\" transform=\"translate(29.17625 138.140215)scale(0.1 -0.1)\">\n       <use xlink:href=\"#DejaVuSans-55\"/>\n       <use x=\"63.623047\" xlink:href=\"#DejaVuSans-53\"/>\n      </g>\n     </g>\n    </g>\n    <g id=\"ytick_5\">\n     <g id=\"line2d_21\">\n      <path clip-path=\"url(#p1234d5430c)\" d=\"M 48.90125 104.241329 \nL 383.70125 104.241329 \n\" style=\"fill:none;stroke:#ffffff;stroke-linecap:square;stroke-width:0.8;\"/>\n     </g>\n     <g id=\"line2d_22\">\n      <g>\n       <use style=\"fill:#555555;stroke:#555555;stroke-width:0.8;\" x=\"48.90125\" xlink:href=\"#mf1f1e6b4ad\" y=\"104.241329\"/>\n      </g>\n     </g>\n     <g id=\"text_12\">\n      <!-- 100 -->\n      <g style=\"fill:#555555;\" transform=\"translate(22.81375 108.040548)scale(0.1 -0.1)\">\n       <use xlink:href=\"#DejaVuSans-49\"/>\n       <use x=\"63.623047\" xlink:href=\"#DejaVuSans-48\"/>\n       <use x=\"127.246094\" xlink:href=\"#DejaVuSans-48\"/>\n      </g>\n     </g>\n    </g>\n    <g id=\"ytick_6\">\n     <g id=\"line2d_23\">\n      <path clip-path=\"url(#p1234d5430c)\" d=\"M 48.90125 74.141661 \nL 383.70125 74.141661 \n\" style=\"fill:none;stroke:#ffffff;stroke-linecap:square;stroke-width:0.8;\"/>\n     </g>\n     <g id=\"line2d_24\">\n      <g>\n       <use style=\"fill:#555555;stroke:#555555;stroke-width:0.8;\" x=\"48.90125\" xlink:href=\"#mf1f1e6b4ad\" y=\"74.141661\"/>\n      </g>\n     </g>\n     <g id=\"text_13\">\n      <!-- 125 -->\n      <g style=\"fill:#555555;\" transform=\"translate(22.81375 77.94088)scale(0.1 -0.1)\">\n       <use xlink:href=\"#DejaVuSans-49\"/>\n       <use x=\"63.623047\" xlink:href=\"#DejaVuSans-50\"/>\n       <use x=\"127.246094\" xlink:href=\"#DejaVuSans-53\"/>\n      </g>\n     </g>\n    </g>\n    <g id=\"ytick_7\">\n     <g id=\"line2d_25\">\n      <path clip-path=\"url(#p1234d5430c)\" d=\"M 48.90125 44.041993 \nL 383.70125 44.041993 \n\" style=\"fill:none;stroke:#ffffff;stroke-linecap:square;stroke-width:0.8;\"/>\n     </g>\n     <g id=\"line2d_26\">\n      <g>\n       <use style=\"fill:#555555;stroke:#555555;stroke-width:0.8;\" x=\"48.90125\" xlink:href=\"#mf1f1e6b4ad\" y=\"44.041993\"/>\n      </g>\n     </g>\n     <g id=\"text_14\">\n      <!-- 150 -->\n      <g style=\"fill:#555555;\" transform=\"translate(22.81375 47.841212)scale(0.1 -0.1)\">\n       <use xlink:href=\"#DejaVuSans-49\"/>\n       <use x=\"63.623047\" xlink:href=\"#DejaVuSans-53\"/>\n       <use x=\"127.246094\" xlink:href=\"#DejaVuSans-48\"/>\n      </g>\n     </g>\n    </g>\n    <g id=\"ytick_8\">\n     <g id=\"line2d_27\">\n      <path clip-path=\"url(#p1234d5430c)\" d=\"M 48.90125 13.942326 \nL 383.70125 13.942326 \n\" style=\"fill:none;stroke:#ffffff;stroke-linecap:square;stroke-width:0.8;\"/>\n     </g>\n     <g id=\"line2d_28\">\n      <g>\n       <use style=\"fill:#555555;stroke:#555555;stroke-width:0.8;\" x=\"48.90125\" xlink:href=\"#mf1f1e6b4ad\" y=\"13.942326\"/>\n      </g>\n     </g>\n     <g id=\"text_15\">\n      <!-- 175 -->\n      <g style=\"fill:#555555;\" transform=\"translate(22.81375 17.741544)scale(0.1 -0.1)\">\n       <use xlink:href=\"#DejaVuSans-49\"/>\n       <use x=\"63.623047\" xlink:href=\"#DejaVuSans-55\"/>\n       <use x=\"127.246094\" xlink:href=\"#DejaVuSans-53\"/>\n      </g>\n     </g>\n    </g>\n    <g id=\"text_16\">\n     <!-- frecuency -->\n     <defs>\n      <path d=\"M 37.109375 75.984375 \nL 37.109375 68.5 \nL 28.515625 68.5 \nQ 23.6875 68.5 21.796875 66.546875 \nQ 19.921875 64.59375 19.921875 59.515625 \nL 19.921875 54.6875 \nL 34.71875 54.6875 \nL 34.71875 47.703125 \nL 19.921875 47.703125 \nL 19.921875 0 \nL 10.890625 0 \nL 10.890625 47.703125 \nL 2.296875 47.703125 \nL 2.296875 54.6875 \nL 10.890625 54.6875 \nL 10.890625 58.5 \nQ 10.890625 67.625 15.140625 71.796875 \nQ 19.390625 75.984375 28.609375 75.984375 \nz\n\" id=\"DejaVuSans-102\"/>\n      <path d=\"M 41.109375 46.296875 \nQ 39.59375 47.171875 37.8125 47.578125 \nQ 36.03125 48 33.890625 48 \nQ 26.265625 48 22.1875 43.046875 \nQ 18.109375 38.09375 18.109375 28.8125 \nL 18.109375 0 \nL 9.078125 0 \nL 9.078125 54.6875 \nL 18.109375 54.6875 \nL 18.109375 46.1875 \nQ 20.953125 51.171875 25.484375 53.578125 \nQ 30.03125 56 36.53125 56 \nQ 37.453125 56 38.578125 55.875 \nQ 39.703125 55.765625 41.0625 55.515625 \nz\n\" id=\"DejaVuSans-114\"/>\n      <path d=\"M 8.5 21.578125 \nL 8.5 54.6875 \nL 17.484375 54.6875 \nL 17.484375 21.921875 \nQ 17.484375 14.15625 20.5 10.265625 \nQ 23.53125 6.390625 29.59375 6.390625 \nQ 36.859375 6.390625 41.078125 11.03125 \nQ 45.3125 15.671875 45.3125 23.6875 \nL 45.3125 54.6875 \nL 54.296875 54.6875 \nL 54.296875 0 \nL 45.3125 0 \nL 45.3125 8.40625 \nQ 42.046875 3.421875 37.71875 1 \nQ 33.40625 -1.421875 27.6875 -1.421875 \nQ 18.265625 -1.421875 13.375 4.4375 \nQ 8.5 10.296875 8.5 21.578125 \nz\nM 31.109375 56 \nz\n\" id=\"DejaVuSans-117\"/>\n      <path d=\"M 32.171875 -5.078125 \nQ 28.375 -14.84375 24.75 -17.8125 \nQ 21.140625 -20.796875 15.09375 -20.796875 \nL 7.90625 -20.796875 \nL 7.90625 -13.28125 \nL 13.1875 -13.28125 \nQ 16.890625 -13.28125 18.9375 -11.515625 \nQ 21 -9.765625 23.484375 -3.21875 \nL 25.09375 0.875 \nL 2.984375 54.6875 \nL 12.5 54.6875 \nL 29.59375 11.921875 \nL 46.6875 54.6875 \nL 56.203125 54.6875 \nz\n\" id=\"DejaVuSans-121\"/>\n     </defs>\n     <g style=\"fill:#555555;\" transform=\"translate(16.318125 145.501875)rotate(-90)scale(0.12 -0.12)\">\n      <use xlink:href=\"#DejaVuSans-102\"/>\n      <use x=\"35.205078\" xlink:href=\"#DejaVuSans-114\"/>\n      <use x=\"74.068359\" xlink:href=\"#DejaVuSans-101\"/>\n      <use x=\"135.591797\" xlink:href=\"#DejaVuSans-99\"/>\n      <use x=\"190.572266\" xlink:href=\"#DejaVuSans-117\"/>\n      <use x=\"253.951172\" xlink:href=\"#DejaVuSans-101\"/>\n      <use x=\"315.474609\" xlink:href=\"#DejaVuSans-110\"/>\n      <use x=\"378.853516\" xlink:href=\"#DejaVuSans-99\"/>\n      <use x=\"433.833984\" xlink:href=\"#DejaVuSans-121\"/>\n     </g>\n    </g>\n   </g>\n   <g id=\"patch_3\">\n    <path clip-path=\"url(#p1234d5430c)\" d=\"M 64.119432 224.64 \nL 94.555795 224.64 \nL 94.555795 200.560266 \nL 64.119432 200.560266 \nz\n\" style=\"fill:#e24a33;\"/>\n   </g>\n   <g id=\"patch_4\">\n    <path clip-path=\"url(#p1234d5430c)\" d=\"M 94.555795 224.64 \nL 124.992159 224.64 \nL 124.992159 205.376213 \nL 94.555795 205.376213 \nz\n\" style=\"fill:#e24a33;\"/>\n   </g>\n   <g id=\"patch_5\">\n    <path clip-path=\"url(#p1234d5430c)\" d=\"M 124.992159 224.64 \nL 155.428523 224.64 \nL 155.428523 123.505116 \nL 124.992159 123.505116 \nz\n\" style=\"fill:#e24a33;\"/>\n   </g>\n   <g id=\"patch_6\">\n    <path clip-path=\"url(#p1234d5430c)\" d=\"M 155.428523 224.64 \nL 185.864886 224.64 \nL 185.864886 128.321063 \nL 155.428523 128.321063 \nz\n\" style=\"fill:#e24a33;\"/>\n   </g>\n   <g id=\"patch_7\">\n    <path clip-path=\"url(#p1234d5430c)\" d=\"M 185.864886 224.64 \nL 216.30125 224.64 \nL 216.30125 176.480532 \nL 185.864886 176.480532 \nz\n\" style=\"fill:#e24a33;\"/>\n   </g>\n   <g id=\"patch_8\">\n    <path clip-path=\"url(#p1234d5430c)\" d=\"M 216.30125 224.64 \nL 246.737614 224.64 \nL 246.737614 118.689169 \nL 216.30125 118.689169 \nz\n\" style=\"fill:#e24a33;\"/>\n   </g>\n   <g id=\"patch_9\">\n    <path clip-path=\"url(#p1234d5430c)\" d=\"M 246.737614 224.64 \nL 277.173977 224.64 \nL 277.173977 56.08186 \nL 246.737614 56.08186 \nz\n\" style=\"fill:#e24a33;\"/>\n   </g>\n   <g id=\"patch_10\">\n    <path clip-path=\"url(#p1234d5430c)\" d=\"M 277.173977 224.64 \nL 307.610341 224.64 \nL 307.610341 17.554286 \nL 277.173977 17.554286 \nz\n\" style=\"fill:#e24a33;\"/>\n   </g>\n   <g id=\"patch_11\">\n    <path clip-path=\"url(#p1234d5430c)\" d=\"M 307.610341 224.64 \nL 338.046705 224.64 \nL 338.046705 99.425382 \nL 307.610341 99.425382 \nz\n\" style=\"fill:#e24a33;\"/>\n   </g>\n   <g id=\"patch_12\">\n    <path clip-path=\"url(#p1234d5430c)\" d=\"M 338.046705 224.64 \nL 368.483068 224.64 \nL 368.483068 181.296478 \nL 338.046705 181.296478 \nz\n\" style=\"fill:#e24a33;\"/>\n   </g>\n   <g id=\"patch_13\">\n    <path d=\"M 48.90125 224.64 \nL 48.90125 7.2 \n\" style=\"fill:none;stroke:#ffffff;stroke-linecap:square;stroke-linejoin:miter;\"/>\n   </g>\n   <g id=\"patch_14\">\n    <path d=\"M 383.70125 224.64 \nL 383.70125 7.2 \n\" style=\"fill:none;stroke:#ffffff;stroke-linecap:square;stroke-linejoin:miter;\"/>\n   </g>\n   <g id=\"patch_15\">\n    <path d=\"M 48.90125 224.64 \nL 383.70125 224.64 \n\" style=\"fill:none;stroke:#ffffff;stroke-linecap:square;stroke-linejoin:miter;\"/>\n   </g>\n   <g id=\"patch_16\">\n    <path d=\"M 48.90125 7.2 \nL 383.70125 7.2 \n\" style=\"fill:none;stroke:#ffffff;stroke-linecap:square;stroke-linejoin:miter;\"/>\n   </g>\n  </g>\n </g>\n <defs>\n  <clipPath id=\"p1234d5430c\">\n   <rect height=\"217.44\" width=\"334.8\" x=\"48.90125\" y=\"7.2\"/>\n  </clipPath>\n </defs>\n</svg>\n"
          },
          "metadata": {
            "tags": []
          }
        }
      ]
    },
    {
      "cell_type": "markdown",
      "metadata": {
        "id": "pTOWwWfbDtq4",
        "colab_type": "text"
      },
      "source": [
        "\n",
        "\n",
        "### f) Método de clustering. Clustering Jerárquico\n",
        "\n",
        "Existen muchos métodos de clustering. Aquí usaremos dos métodos muy comunes: Clustering Jerárquico, y K-means. Ambos métodos requieren que se defina una medida de distancia; sin embargo, K-means también necesita que se definan previamente el número de clusters mientras que esto no es necesario en cluestring jerárquico.\n",
        "\n",
        "Como no tenemos conocimiento previo del número de segmentos de los datos, empezaremos por el clustering jerárquico usando la distancia Euclídea como métrica de similitud entre observaciones."
      ]
    },
    {
      "cell_type": "code",
      "metadata": {
        "id": "SgF5kvJyDtq5",
        "colab_type": "code",
        "colab": {
          "base_uri": "https://localhost:8080/",
          "height": 396
        },
        "outputId": "3e9f27d6-ff5c-4513-9333-87eac4292411"
      },
      "source": [
        "from scipy.cluster.hierarchy import (dendrogram, linkage, fcluster)\n",
        "\n",
        "Z = linkage(data_seg, 'ward')\n",
        "plt.title(u'Hierarchical clustering')\n",
        "plt.xlabel(u'cluster')\n",
        "plt.ylabel(u'distance')\n",
        "dendrogram(Z,\n",
        "           leaf_rotation=90.,  # rotate the leaves of the x-axis labels\n",
        "           leaf_font_size=8.   # x-axis font size\n",
        "           )\n",
        "plt.show()"
      ],
      "execution_count": null,
      "outputs": [
        {
          "output_type": "display_data",
          "data": {
            "application/pdf": "[encoded data removed]",
            "text/plain": [
              "<Figure size 432x288 with 1 Axes>"
            ],
            "image/svg+xml": "<?xml version=\"1.0\" encoding=\"utf-8\" standalone=\"no\"?>\n<!DOCTYPE svg PUBLIC \"-//W3C//DTD SVG 1.1//EN\"\n  \"http://www.w3.org/Graphics/SVG/1.1/DTD/svg11.dtd\">\n<!-- Created with matplotlib (https://matplotlib.org/) -->\n<svg height=\"281.5755pt\" version=\"1.1\" viewBox=\"0 0 384.53875 281.5755\" width=\"384.53875pt\" xmlns=\"http://www.w3.org/2000/svg\" xmlns:xlink=\"http://www.w3.org/1999/xlink\">\n <defs>\n  <style type=\"text/css\">\n*{stroke-linecap:butt;stroke-linejoin:round;}\n  </style>\n </defs>\n <g id=\"figure_1\">\n  <g id=\"patch_1\">\n   <path d=\"M 0 281.5755 \nL 384.53875 281.5755 \nL 384.53875 0 \nL 0 0 \nz\n\" style=\"fill:#ffffff;\"/>\n  </g>\n  <g id=\"axes_1\">\n   <g id=\"patch_2\">\n    <path d=\"M 42.53875 241.58175 \nL 377.33875 241.58175 \nL 377.33875 24.14175 \nL 42.53875 24.14175 \nz\n\" style=\"fill:#e5e5e5;\"/>\n   </g>\n   <g id=\"matplotlib.axis_1\">\n    <g id=\"xtick_1\">\n     <g id=\"line2d_1\">\n      <path clip-path=\"url(#p8970a66496)\" d=\"M 46.72375 241.58175 \nL 46.72375 24.14175 \n\" style=\"fill:none;stroke:#ffffff;stroke-linecap:square;stroke-width:0.8;\"/>\n     </g>\n     <g id=\"text_1\">\n      <!-- 2 -->\n      <defs>\n       <path d=\"M 19.1875 8.296875 \nL 53.609375 8.296875 \nL 53.609375 0 \nL 7.328125 0 \nL 7.328125 8.296875 \nQ 12.9375 14.109375 22.625 23.890625 \nQ 32.328125 33.6875 34.8125 36.53125 \nQ 39.546875 41.84375 41.421875 45.53125 \nQ 43.3125 49.21875 43.3125 52.78125 \nQ 43.3125 58.59375 39.234375 62.25 \nQ 35.15625 65.921875 28.609375 65.921875 \nQ 23.96875 65.921875 18.8125 64.3125 \nQ 13.671875 62.703125 7.8125 59.421875 \nL 7.8125 69.390625 \nQ 13.765625 71.78125 18.9375 73 \nQ 24.125 74.21875 28.421875 74.21875 \nQ 39.75 74.21875 46.484375 68.546875 \nQ 53.21875 62.890625 53.21875 53.421875 \nQ 53.21875 48.921875 51.53125 44.890625 \nQ 49.859375 40.875 45.40625 35.40625 \nQ 44.1875 33.984375 37.640625 27.21875 \nQ 31.109375 20.453125 19.1875 8.296875 \nz\n\" id=\"DejaVuSans-50\"/>\n      </defs>\n      <g style=\"fill:#555555;\" transform=\"translate(48.93125 253.67175)rotate(-90)scale(0.08 -0.08)\">\n       <use xlink:href=\"#DejaVuSans-50\"/>\n      </g>\n     </g>\n    </g>\n    <g id=\"xtick_2\">\n     <g id=\"line2d_2\">\n      <path clip-path=\"url(#p8970a66496)\" d=\"M 55.09375 241.58175 \nL 55.09375 24.14175 \n\" style=\"fill:none;stroke:#ffffff;stroke-linecap:square;stroke-width:0.8;\"/>\n     </g>\n     <g id=\"text_2\">\n      <!-- 22 -->\n      <g style=\"fill:#555555;\" transform=\"translate(57.30125 258.76175)rotate(-90)scale(0.08 -0.08)\">\n       <use xlink:href=\"#DejaVuSans-50\"/>\n       <use x=\"63.623047\" xlink:href=\"#DejaVuSans-50\"/>\n      </g>\n     </g>\n    </g>\n    <g id=\"xtick_3\">\n     <g id=\"line2d_3\">\n      <path clip-path=\"url(#p8970a66496)\" d=\"M 63.46375 241.58175 \nL 63.46375 24.14175 \n\" style=\"fill:none;stroke:#ffffff;stroke-linecap:square;stroke-width:0.8;\"/>\n     </g>\n     <g id=\"text_3\">\n      <!-- 7 -->\n      <defs>\n       <path d=\"M 8.203125 72.90625 \nL 55.078125 72.90625 \nL 55.078125 68.703125 \nL 28.609375 0 \nL 18.3125 0 \nL 43.21875 64.59375 \nL 8.203125 64.59375 \nz\n\" id=\"DejaVuSans-55\"/>\n      </defs>\n      <g style=\"fill:#555555;\" transform=\"translate(65.67125 253.67175)rotate(-90)scale(0.08 -0.08)\">\n       <use xlink:href=\"#DejaVuSans-55\"/>\n      </g>\n     </g>\n    </g>\n    <g id=\"xtick_4\">\n     <g id=\"line2d_4\">\n      <path clip-path=\"url(#p8970a66496)\" d=\"M 71.83375 241.58175 \nL 71.83375 24.14175 \n\" style=\"fill:none;stroke:#ffffff;stroke-linecap:square;stroke-width:0.8;\"/>\n     </g>\n     <g id=\"text_4\">\n      <!-- 27 -->\n      <g style=\"fill:#555555;\" transform=\"translate(74.04125 258.76175)rotate(-90)scale(0.08 -0.08)\">\n       <use xlink:href=\"#DejaVuSans-50\"/>\n       <use x=\"63.623047\" xlink:href=\"#DejaVuSans-55\"/>\n      </g>\n     </g>\n    </g>\n    <g id=\"xtick_5\">\n     <g id=\"line2d_5\">\n      <path clip-path=\"url(#p8970a66496)\" d=\"M 80.20375 241.58175 \nL 80.20375 24.14175 \n\" style=\"fill:none;stroke:#ffffff;stroke-linecap:square;stroke-width:0.8;\"/>\n     </g>\n     <g id=\"text_5\">\n      <!-- 14 -->\n      <defs>\n       <path d=\"M 12.40625 8.296875 \nL 28.515625 8.296875 \nL 28.515625 63.921875 \nL 10.984375 60.40625 \nL 10.984375 69.390625 \nL 28.421875 72.90625 \nL 38.28125 72.90625 \nL 38.28125 8.296875 \nL 54.390625 8.296875 \nL 54.390625 0 \nL 12.40625 0 \nz\n\" id=\"DejaVuSans-49\"/>\n       <path d=\"M 37.796875 64.3125 \nL 12.890625 25.390625 \nL 37.796875 25.390625 \nz\nM 35.203125 72.90625 \nL 47.609375 72.90625 \nL 47.609375 25.390625 \nL 58.015625 25.390625 \nL 58.015625 17.1875 \nL 47.609375 17.1875 \nL 47.609375 0 \nL 37.796875 0 \nL 37.796875 17.1875 \nL 4.890625 17.1875 \nL 4.890625 26.703125 \nz\n\" id=\"DejaVuSans-52\"/>\n      </defs>\n      <g style=\"fill:#555555;\" transform=\"translate(82.41125 258.76175)rotate(-90)scale(0.08 -0.08)\">\n       <use xlink:href=\"#DejaVuSans-49\"/>\n       <use x=\"63.623047\" xlink:href=\"#DejaVuSans-52\"/>\n      </g>\n     </g>\n    </g>\n    <g id=\"xtick_6\">\n     <g id=\"line2d_6\">\n      <path clip-path=\"url(#p8970a66496)\" d=\"M 88.57375 241.58175 \nL 88.57375 24.14175 \n\" style=\"fill:none;stroke:#ffffff;stroke-linecap:square;stroke-width:0.8;\"/>\n     </g>\n     <g id=\"text_6\">\n      <!-- 34 -->\n      <defs>\n       <path d=\"M 40.578125 39.3125 \nQ 47.65625 37.796875 51.625 33 \nQ 55.609375 28.21875 55.609375 21.1875 \nQ 55.609375 10.40625 48.1875 4.484375 \nQ 40.765625 -1.421875 27.09375 -1.421875 \nQ 22.515625 -1.421875 17.65625 -0.515625 \nQ 12.796875 0.390625 7.625 2.203125 \nL 7.625 11.71875 \nQ 11.71875 9.328125 16.59375 8.109375 \nQ 21.484375 6.890625 26.8125 6.890625 \nQ 36.078125 6.890625 40.9375 10.546875 \nQ 45.796875 14.203125 45.796875 21.1875 \nQ 45.796875 27.640625 41.28125 31.265625 \nQ 36.765625 34.90625 28.71875 34.90625 \nL 20.21875 34.90625 \nL 20.21875 43.015625 \nL 29.109375 43.015625 \nQ 36.375 43.015625 40.234375 45.921875 \nQ 44.09375 48.828125 44.09375 54.296875 \nQ 44.09375 59.90625 40.109375 62.90625 \nQ 36.140625 65.921875 28.71875 65.921875 \nQ 24.65625 65.921875 20.015625 65.03125 \nQ 15.375 64.15625 9.8125 62.3125 \nL 9.8125 71.09375 \nQ 15.4375 72.65625 20.34375 73.4375 \nQ 25.25 74.21875 29.59375 74.21875 \nQ 40.828125 74.21875 47.359375 69.109375 \nQ 53.90625 64.015625 53.90625 55.328125 \nQ 53.90625 49.265625 50.4375 45.09375 \nQ 46.96875 40.921875 40.578125 39.3125 \nz\n\" id=\"DejaVuSans-51\"/>\n      </defs>\n      <g style=\"fill:#555555;\" transform=\"translate(90.78125 258.76175)rotate(-90)scale(0.08 -0.08)\">\n       <use xlink:href=\"#DejaVuSans-51\"/>\n       <use x=\"63.623047\" xlink:href=\"#DejaVuSans-52\"/>\n      </g>\n     </g>\n    </g>\n    <g id=\"xtick_7\">\n     <g id=\"line2d_7\">\n      <path clip-path=\"url(#p8970a66496)\" d=\"M 96.94375 241.58175 \nL 96.94375 24.14175 \n\" style=\"fill:none;stroke:#ffffff;stroke-linecap:square;stroke-width:0.8;\"/>\n     </g>\n     <g id=\"text_7\">\n      <!-- 16 -->\n      <defs>\n       <path d=\"M 33.015625 40.375 \nQ 26.375 40.375 22.484375 35.828125 \nQ 18.609375 31.296875 18.609375 23.390625 \nQ 18.609375 15.53125 22.484375 10.953125 \nQ 26.375 6.390625 33.015625 6.390625 \nQ 39.65625 6.390625 43.53125 10.953125 \nQ 47.40625 15.53125 47.40625 23.390625 \nQ 47.40625 31.296875 43.53125 35.828125 \nQ 39.65625 40.375 33.015625 40.375 \nz\nM 52.59375 71.296875 \nL 52.59375 62.3125 \nQ 48.875 64.0625 45.09375 64.984375 \nQ 41.3125 65.921875 37.59375 65.921875 \nQ 27.828125 65.921875 22.671875 59.328125 \nQ 17.53125 52.734375 16.796875 39.40625 \nQ 19.671875 43.65625 24.015625 45.921875 \nQ 28.375 48.1875 33.59375 48.1875 \nQ 44.578125 48.1875 50.953125 41.515625 \nQ 57.328125 34.859375 57.328125 23.390625 \nQ 57.328125 12.15625 50.6875 5.359375 \nQ 44.046875 -1.421875 33.015625 -1.421875 \nQ 20.359375 -1.421875 13.671875 8.265625 \nQ 6.984375 17.96875 6.984375 36.375 \nQ 6.984375 53.65625 15.1875 63.9375 \nQ 23.390625 74.21875 37.203125 74.21875 \nQ 40.921875 74.21875 44.703125 73.484375 \nQ 48.484375 72.75 52.59375 71.296875 \nz\n\" id=\"DejaVuSans-54\"/>\n      </defs>\n      <g style=\"fill:#555555;\" transform=\"translate(99.15125 258.76175)rotate(-90)scale(0.08 -0.08)\">\n       <use xlink:href=\"#DejaVuSans-49\"/>\n       <use x=\"63.623047\" xlink:href=\"#DejaVuSans-54\"/>\n      </g>\n     </g>\n    </g>\n    <g id=\"xtick_8\">\n     <g id=\"line2d_8\">\n      <path clip-path=\"url(#p8970a66496)\" d=\"M 105.31375 241.58175 \nL 105.31375 24.14175 \n\" style=\"fill:none;stroke:#ffffff;stroke-linecap:square;stroke-width:0.8;\"/>\n     </g>\n     <g id=\"text_8\">\n      <!-- 36 -->\n      <g style=\"fill:#555555;\" transform=\"translate(107.52125 258.76175)rotate(-90)scale(0.08 -0.08)\">\n       <use xlink:href=\"#DejaVuSans-51\"/>\n       <use x=\"63.623047\" xlink:href=\"#DejaVuSans-54\"/>\n      </g>\n     </g>\n    </g>\n    <g id=\"xtick_9\">\n     <g id=\"line2d_9\">\n      <path clip-path=\"url(#p8970a66496)\" d=\"M 113.68375 241.58175 \nL 113.68375 24.14175 \n\" style=\"fill:none;stroke:#ffffff;stroke-linecap:square;stroke-width:0.8;\"/>\n     </g>\n     <g id=\"text_9\">\n      <!-- 0 -->\n      <defs>\n       <path d=\"M 31.78125 66.40625 \nQ 24.171875 66.40625 20.328125 58.90625 \nQ 16.5 51.421875 16.5 36.375 \nQ 16.5 21.390625 20.328125 13.890625 \nQ 24.171875 6.390625 31.78125 6.390625 \nQ 39.453125 6.390625 43.28125 13.890625 \nQ 47.125 21.390625 47.125 36.375 \nQ 47.125 51.421875 43.28125 58.90625 \nQ 39.453125 66.40625 31.78125 66.40625 \nz\nM 31.78125 74.21875 \nQ 44.046875 74.21875 50.515625 64.515625 \nQ 56.984375 54.828125 56.984375 36.375 \nQ 56.984375 17.96875 50.515625 8.265625 \nQ 44.046875 -1.421875 31.78125 -1.421875 \nQ 19.53125 -1.421875 13.0625 8.265625 \nQ 6.59375 17.96875 6.59375 36.375 \nQ 6.59375 54.828125 13.0625 64.515625 \nQ 19.53125 74.21875 31.78125 74.21875 \nz\n\" id=\"DejaVuSans-48\"/>\n      </defs>\n      <g style=\"fill:#555555;\" transform=\"translate(115.89125 253.67175)rotate(-90)scale(0.08 -0.08)\">\n       <use xlink:href=\"#DejaVuSans-48\"/>\n      </g>\n     </g>\n    </g>\n    <g id=\"xtick_10\">\n     <g id=\"line2d_10\">\n      <path clip-path=\"url(#p8970a66496)\" d=\"M 122.05375 241.58175 \nL 122.05375 24.14175 \n\" style=\"fill:none;stroke:#ffffff;stroke-linecap:square;stroke-width:0.8;\"/>\n     </g>\n     <g id=\"text_10\">\n      <!-- 20 -->\n      <g style=\"fill:#555555;\" transform=\"translate(124.26125 258.76175)rotate(-90)scale(0.08 -0.08)\">\n       <use xlink:href=\"#DejaVuSans-50\"/>\n       <use x=\"63.623047\" xlink:href=\"#DejaVuSans-48\"/>\n      </g>\n     </g>\n    </g>\n    <g id=\"xtick_11\">\n     <g id=\"line2d_11\">\n      <path clip-path=\"url(#p8970a66496)\" d=\"M 130.42375 241.58175 \nL 130.42375 24.14175 \n\" style=\"fill:none;stroke:#ffffff;stroke-linecap:square;stroke-width:0.8;\"/>\n     </g>\n     <g id=\"text_11\">\n      <!-- 11 -->\n      <g style=\"fill:#555555;\" transform=\"translate(132.63125 258.76175)rotate(-90)scale(0.08 -0.08)\">\n       <use xlink:href=\"#DejaVuSans-49\"/>\n       <use x=\"63.623047\" xlink:href=\"#DejaVuSans-49\"/>\n      </g>\n     </g>\n    </g>\n    <g id=\"xtick_12\">\n     <g id=\"line2d_12\">\n      <path clip-path=\"url(#p8970a66496)\" d=\"M 138.79375 241.58175 \nL 138.79375 24.14175 \n\" style=\"fill:none;stroke:#ffffff;stroke-linecap:square;stroke-width:0.8;\"/>\n     </g>\n     <g id=\"text_12\">\n      <!-- 31 -->\n      <g style=\"fill:#555555;\" transform=\"translate(141.00125 258.76175)rotate(-90)scale(0.08 -0.08)\">\n       <use xlink:href=\"#DejaVuSans-51\"/>\n       <use x=\"63.623047\" xlink:href=\"#DejaVuSans-49\"/>\n      </g>\n     </g>\n    </g>\n    <g id=\"xtick_13\">\n     <g id=\"line2d_13\">\n      <path clip-path=\"url(#p8970a66496)\" d=\"M 147.16375 241.58175 \nL 147.16375 24.14175 \n\" style=\"fill:none;stroke:#ffffff;stroke-linecap:square;stroke-width:0.8;\"/>\n     </g>\n     <g id=\"text_13\">\n      <!-- 5 -->\n      <defs>\n       <path d=\"M 10.796875 72.90625 \nL 49.515625 72.90625 \nL 49.515625 64.59375 \nL 19.828125 64.59375 \nL 19.828125 46.734375 \nQ 21.96875 47.46875 24.109375 47.828125 \nQ 26.265625 48.1875 28.421875 48.1875 \nQ 40.625 48.1875 47.75 41.5 \nQ 54.890625 34.8125 54.890625 23.390625 \nQ 54.890625 11.625 47.5625 5.09375 \nQ 40.234375 -1.421875 26.90625 -1.421875 \nQ 22.3125 -1.421875 17.546875 -0.640625 \nQ 12.796875 0.140625 7.71875 1.703125 \nL 7.71875 11.625 \nQ 12.109375 9.234375 16.796875 8.0625 \nQ 21.484375 6.890625 26.703125 6.890625 \nQ 35.15625 6.890625 40.078125 11.328125 \nQ 45.015625 15.765625 45.015625 23.390625 \nQ 45.015625 31 40.078125 35.4375 \nQ 35.15625 39.890625 26.703125 39.890625 \nQ 22.75 39.890625 18.8125 39.015625 \nQ 14.890625 38.140625 10.796875 36.28125 \nz\n\" id=\"DejaVuSans-53\"/>\n      </defs>\n      <g style=\"fill:#555555;\" transform=\"translate(149.37125 253.67175)rotate(-90)scale(0.08 -0.08)\">\n       <use xlink:href=\"#DejaVuSans-53\"/>\n      </g>\n     </g>\n    </g>\n    <g id=\"xtick_14\">\n     <g id=\"line2d_14\">\n      <path clip-path=\"url(#p8970a66496)\" d=\"M 155.53375 241.58175 \nL 155.53375 24.14175 \n\" style=\"fill:none;stroke:#ffffff;stroke-linecap:square;stroke-width:0.8;\"/>\n     </g>\n     <g id=\"text_14\">\n      <!-- 25 -->\n      <g style=\"fill:#555555;\" transform=\"translate(157.74125 258.76175)rotate(-90)scale(0.08 -0.08)\">\n       <use xlink:href=\"#DejaVuSans-50\"/>\n       <use x=\"63.623047\" xlink:href=\"#DejaVuSans-53\"/>\n      </g>\n     </g>\n    </g>\n    <g id=\"xtick_15\">\n     <g id=\"line2d_15\">\n      <path clip-path=\"url(#p8970a66496)\" d=\"M 163.90375 241.58175 \nL 163.90375 24.14175 \n\" style=\"fill:none;stroke:#ffffff;stroke-linecap:square;stroke-width:0.8;\"/>\n     </g>\n     <g id=\"text_15\">\n      <!-- 6 -->\n      <g style=\"fill:#555555;\" transform=\"translate(166.11125 253.67175)rotate(-90)scale(0.08 -0.08)\">\n       <use xlink:href=\"#DejaVuSans-54\"/>\n      </g>\n     </g>\n    </g>\n    <g id=\"xtick_16\">\n     <g id=\"line2d_16\">\n      <path clip-path=\"url(#p8970a66496)\" d=\"M 172.27375 241.58175 \nL 172.27375 24.14175 \n\" style=\"fill:none;stroke:#ffffff;stroke-linecap:square;stroke-width:0.8;\"/>\n     </g>\n     <g id=\"text_16\">\n      <!-- 26 -->\n      <g style=\"fill:#555555;\" transform=\"translate(174.48125 258.76175)rotate(-90)scale(0.08 -0.08)\">\n       <use xlink:href=\"#DejaVuSans-50\"/>\n       <use x=\"63.623047\" xlink:href=\"#DejaVuSans-54\"/>\n      </g>\n     </g>\n    </g>\n    <g id=\"xtick_17\">\n     <g id=\"line2d_17\">\n      <path clip-path=\"url(#p8970a66496)\" d=\"M 180.64375 241.58175 \nL 180.64375 24.14175 \n\" style=\"fill:none;stroke:#ffffff;stroke-linecap:square;stroke-width:0.8;\"/>\n     </g>\n     <g id=\"text_17\">\n      <!-- 1 -->\n      <g style=\"fill:#555555;\" transform=\"translate(182.85125 253.67175)rotate(-90)scale(0.08 -0.08)\">\n       <use xlink:href=\"#DejaVuSans-49\"/>\n      </g>\n     </g>\n    </g>\n    <g id=\"xtick_18\">\n     <g id=\"line2d_18\">\n      <path clip-path=\"url(#p8970a66496)\" d=\"M 189.01375 241.58175 \nL 189.01375 24.14175 \n\" style=\"fill:none;stroke:#ffffff;stroke-linecap:square;stroke-width:0.8;\"/>\n     </g>\n     <g id=\"text_18\">\n      <!-- 21 -->\n      <g style=\"fill:#555555;\" transform=\"translate(191.22125 258.76175)rotate(-90)scale(0.08 -0.08)\">\n       <use xlink:href=\"#DejaVuSans-50\"/>\n       <use x=\"63.623047\" xlink:href=\"#DejaVuSans-49\"/>\n      </g>\n     </g>\n    </g>\n    <g id=\"xtick_19\">\n     <g id=\"line2d_19\">\n      <path clip-path=\"url(#p8970a66496)\" d=\"M 197.38375 241.58175 \nL 197.38375 24.14175 \n\" style=\"fill:none;stroke:#ffffff;stroke-linecap:square;stroke-width:0.8;\"/>\n     </g>\n     <g id=\"text_19\">\n      <!-- 12 -->\n      <g style=\"fill:#555555;\" transform=\"translate(199.59125 258.76175)rotate(-90)scale(0.08 -0.08)\">\n       <use xlink:href=\"#DejaVuSans-49\"/>\n       <use x=\"63.623047\" xlink:href=\"#DejaVuSans-50\"/>\n      </g>\n     </g>\n    </g>\n    <g id=\"xtick_20\">\n     <g id=\"line2d_20\">\n      <path clip-path=\"url(#p8970a66496)\" d=\"M 205.75375 241.58175 \nL 205.75375 24.14175 \n\" style=\"fill:none;stroke:#ffffff;stroke-linecap:square;stroke-width:0.8;\"/>\n     </g>\n     <g id=\"text_20\">\n      <!-- 32 -->\n      <g style=\"fill:#555555;\" transform=\"translate(207.96125 258.76175)rotate(-90)scale(0.08 -0.08)\">\n       <use xlink:href=\"#DejaVuSans-51\"/>\n       <use x=\"63.623047\" xlink:href=\"#DejaVuSans-50\"/>\n      </g>\n     </g>\n    </g>\n    <g id=\"xtick_21\">\n     <g id=\"line2d_21\">\n      <path clip-path=\"url(#p8970a66496)\" d=\"M 214.12375 241.58175 \nL 214.12375 24.14175 \n\" style=\"fill:none;stroke:#ffffff;stroke-linecap:square;stroke-width:0.8;\"/>\n     </g>\n     <g id=\"text_21\">\n      <!-- 19 -->\n      <defs>\n       <path d=\"M 10.984375 1.515625 \nL 10.984375 10.5 \nQ 14.703125 8.734375 18.5 7.8125 \nQ 22.3125 6.890625 25.984375 6.890625 \nQ 35.75 6.890625 40.890625 13.453125 \nQ 46.046875 20.015625 46.78125 33.40625 \nQ 43.953125 29.203125 39.59375 26.953125 \nQ 35.25 24.703125 29.984375 24.703125 \nQ 19.046875 24.703125 12.671875 31.3125 \nQ 6.296875 37.9375 6.296875 49.421875 \nQ 6.296875 60.640625 12.9375 67.421875 \nQ 19.578125 74.21875 30.609375 74.21875 \nQ 43.265625 74.21875 49.921875 64.515625 \nQ 56.59375 54.828125 56.59375 36.375 \nQ 56.59375 19.140625 48.40625 8.859375 \nQ 40.234375 -1.421875 26.421875 -1.421875 \nQ 22.703125 -1.421875 18.890625 -0.6875 \nQ 15.09375 0.046875 10.984375 1.515625 \nz\nM 30.609375 32.421875 \nQ 37.25 32.421875 41.125 36.953125 \nQ 45.015625 41.5 45.015625 49.421875 \nQ 45.015625 57.28125 41.125 61.84375 \nQ 37.25 66.40625 30.609375 66.40625 \nQ 23.96875 66.40625 20.09375 61.84375 \nQ 16.21875 57.28125 16.21875 49.421875 \nQ 16.21875 41.5 20.09375 36.953125 \nQ 23.96875 32.421875 30.609375 32.421875 \nz\n\" id=\"DejaVuSans-57\"/>\n      </defs>\n      <g style=\"fill:#555555;\" transform=\"translate(216.33125 258.76175)rotate(-90)scale(0.08 -0.08)\">\n       <use xlink:href=\"#DejaVuSans-49\"/>\n       <use x=\"63.623047\" xlink:href=\"#DejaVuSans-57\"/>\n      </g>\n     </g>\n    </g>\n    <g id=\"xtick_22\">\n     <g id=\"line2d_22\">\n      <path clip-path=\"url(#p8970a66496)\" d=\"M 222.49375 241.58175 \nL 222.49375 24.14175 \n\" style=\"fill:none;stroke:#ffffff;stroke-linecap:square;stroke-width:0.8;\"/>\n     </g>\n     <g id=\"text_22\">\n      <!-- 39 -->\n      <g style=\"fill:#555555;\" transform=\"translate(224.70125 258.76175)rotate(-90)scale(0.08 -0.08)\">\n       <use xlink:href=\"#DejaVuSans-51\"/>\n       <use x=\"63.623047\" xlink:href=\"#DejaVuSans-57\"/>\n      </g>\n     </g>\n    </g>\n    <g id=\"xtick_23\">\n     <g id=\"line2d_23\">\n      <path clip-path=\"url(#p8970a66496)\" d=\"M 230.86375 241.58175 \nL 230.86375 24.14175 \n\" style=\"fill:none;stroke:#ffffff;stroke-linecap:square;stroke-width:0.8;\"/>\n     </g>\n     <g id=\"text_23\">\n      <!-- 8 -->\n      <defs>\n       <path d=\"M 31.78125 34.625 \nQ 24.75 34.625 20.71875 30.859375 \nQ 16.703125 27.09375 16.703125 20.515625 \nQ 16.703125 13.921875 20.71875 10.15625 \nQ 24.75 6.390625 31.78125 6.390625 \nQ 38.8125 6.390625 42.859375 10.171875 \nQ 46.921875 13.96875 46.921875 20.515625 \nQ 46.921875 27.09375 42.890625 30.859375 \nQ 38.875 34.625 31.78125 34.625 \nz\nM 21.921875 38.8125 \nQ 15.578125 40.375 12.03125 44.71875 \nQ 8.5 49.078125 8.5 55.328125 \nQ 8.5 64.0625 14.71875 69.140625 \nQ 20.953125 74.21875 31.78125 74.21875 \nQ 42.671875 74.21875 48.875 69.140625 \nQ 55.078125 64.0625 55.078125 55.328125 \nQ 55.078125 49.078125 51.53125 44.71875 \nQ 48 40.375 41.703125 38.8125 \nQ 48.828125 37.15625 52.796875 32.3125 \nQ 56.78125 27.484375 56.78125 20.515625 \nQ 56.78125 9.90625 50.3125 4.234375 \nQ 43.84375 -1.421875 31.78125 -1.421875 \nQ 19.734375 -1.421875 13.25 4.234375 \nQ 6.78125 9.90625 6.78125 20.515625 \nQ 6.78125 27.484375 10.78125 32.3125 \nQ 14.796875 37.15625 21.921875 38.8125 \nz\nM 18.3125 54.390625 \nQ 18.3125 48.734375 21.84375 45.5625 \nQ 25.390625 42.390625 31.78125 42.390625 \nQ 38.140625 42.390625 41.71875 45.5625 \nQ 45.3125 48.734375 45.3125 54.390625 \nQ 45.3125 60.0625 41.71875 63.234375 \nQ 38.140625 66.40625 31.78125 66.40625 \nQ 25.390625 66.40625 21.84375 63.234375 \nQ 18.3125 60.0625 18.3125 54.390625 \nz\n\" id=\"DejaVuSans-56\"/>\n      </defs>\n      <g style=\"fill:#555555;\" transform=\"translate(233.07125 253.67175)rotate(-90)scale(0.08 -0.08)\">\n       <use xlink:href=\"#DejaVuSans-56\"/>\n      </g>\n     </g>\n    </g>\n    <g id=\"xtick_24\">\n     <g id=\"line2d_24\">\n      <path clip-path=\"url(#p8970a66496)\" d=\"M 239.23375 241.58175 \nL 239.23375 24.14175 \n\" style=\"fill:none;stroke:#ffffff;stroke-linecap:square;stroke-width:0.8;\"/>\n     </g>\n     <g id=\"text_24\">\n      <!-- 28 -->\n      <g style=\"fill:#555555;\" transform=\"translate(241.44125 258.76175)rotate(-90)scale(0.08 -0.08)\">\n       <use xlink:href=\"#DejaVuSans-50\"/>\n       <use x=\"63.623047\" xlink:href=\"#DejaVuSans-56\"/>\n      </g>\n     </g>\n    </g>\n    <g id=\"xtick_25\">\n     <g id=\"line2d_25\">\n      <path clip-path=\"url(#p8970a66496)\" d=\"M 247.60375 241.58175 \nL 247.60375 24.14175 \n\" style=\"fill:none;stroke:#ffffff;stroke-linecap:square;stroke-width:0.8;\"/>\n     </g>\n     <g id=\"text_25\">\n      <!-- 4 -->\n      <g style=\"fill:#555555;\" transform=\"translate(249.81125 253.67175)rotate(-90)scale(0.08 -0.08)\">\n       <use xlink:href=\"#DejaVuSans-52\"/>\n      </g>\n     </g>\n    </g>\n    <g id=\"xtick_26\">\n     <g id=\"line2d_26\">\n      <path clip-path=\"url(#p8970a66496)\" d=\"M 255.97375 241.58175 \nL 255.97375 24.14175 \n\" style=\"fill:none;stroke:#ffffff;stroke-linecap:square;stroke-width:0.8;\"/>\n     </g>\n     <g id=\"text_26\">\n      <!-- 24 -->\n      <g style=\"fill:#555555;\" transform=\"translate(258.18125 258.76175)rotate(-90)scale(0.08 -0.08)\">\n       <use xlink:href=\"#DejaVuSans-50\"/>\n       <use x=\"63.623047\" xlink:href=\"#DejaVuSans-52\"/>\n      </g>\n     </g>\n    </g>\n    <g id=\"xtick_27\">\n     <g id=\"line2d_27\">\n      <path clip-path=\"url(#p8970a66496)\" d=\"M 264.34375 241.58175 \nL 264.34375 24.14175 \n\" style=\"fill:none;stroke:#ffffff;stroke-linecap:square;stroke-width:0.8;\"/>\n     </g>\n     <g id=\"text_27\">\n      <!-- 10 -->\n      <g style=\"fill:#555555;\" transform=\"translate(266.55125 258.76175)rotate(-90)scale(0.08 -0.08)\">\n       <use xlink:href=\"#DejaVuSans-49\"/>\n       <use x=\"63.623047\" xlink:href=\"#DejaVuSans-48\"/>\n      </g>\n     </g>\n    </g>\n    <g id=\"xtick_28\">\n     <g id=\"line2d_28\">\n      <path clip-path=\"url(#p8970a66496)\" d=\"M 272.71375 241.58175 \nL 272.71375 24.14175 \n\" style=\"fill:none;stroke:#ffffff;stroke-linecap:square;stroke-width:0.8;\"/>\n     </g>\n     <g id=\"text_28\">\n      <!-- 30 -->\n      <g style=\"fill:#555555;\" transform=\"translate(274.92125 258.76175)rotate(-90)scale(0.08 -0.08)\">\n       <use xlink:href=\"#DejaVuSans-51\"/>\n       <use x=\"63.623047\" xlink:href=\"#DejaVuSans-48\"/>\n      </g>\n     </g>\n    </g>\n    <g id=\"xtick_29\">\n     <g id=\"line2d_29\">\n      <path clip-path=\"url(#p8970a66496)\" d=\"M 281.08375 241.58175 \nL 281.08375 24.14175 \n\" style=\"fill:none;stroke:#ffffff;stroke-linecap:square;stroke-width:0.8;\"/>\n     </g>\n     <g id=\"text_29\">\n      <!-- 17 -->\n      <g style=\"fill:#555555;\" transform=\"translate(283.29125 258.76175)rotate(-90)scale(0.08 -0.08)\">\n       <use xlink:href=\"#DejaVuSans-49\"/>\n       <use x=\"63.623047\" xlink:href=\"#DejaVuSans-55\"/>\n      </g>\n     </g>\n    </g>\n    <g id=\"xtick_30\">\n     <g id=\"line2d_30\">\n      <path clip-path=\"url(#p8970a66496)\" d=\"M 289.45375 241.58175 \nL 289.45375 24.14175 \n\" style=\"fill:none;stroke:#ffffff;stroke-linecap:square;stroke-width:0.8;\"/>\n     </g>\n     <g id=\"text_30\">\n      <!-- 37 -->\n      <g style=\"fill:#555555;\" transform=\"translate(291.66125 258.76175)rotate(-90)scale(0.08 -0.08)\">\n       <use xlink:href=\"#DejaVuSans-51\"/>\n       <use x=\"63.623047\" xlink:href=\"#DejaVuSans-55\"/>\n      </g>\n     </g>\n    </g>\n    <g id=\"xtick_31\">\n     <g id=\"line2d_31\">\n      <path clip-path=\"url(#p8970a66496)\" d=\"M 297.82375 241.58175 \nL 297.82375 24.14175 \n\" style=\"fill:none;stroke:#ffffff;stroke-linecap:square;stroke-width:0.8;\"/>\n     </g>\n     <g id=\"text_31\">\n      <!-- 18 -->\n      <g style=\"fill:#555555;\" transform=\"translate(300.03125 258.76175)rotate(-90)scale(0.08 -0.08)\">\n       <use xlink:href=\"#DejaVuSans-49\"/>\n       <use x=\"63.623047\" xlink:href=\"#DejaVuSans-56\"/>\n      </g>\n     </g>\n    </g>\n    <g id=\"xtick_32\">\n     <g id=\"line2d_32\">\n      <path clip-path=\"url(#p8970a66496)\" d=\"M 306.19375 241.58175 \nL 306.19375 24.14175 \n\" style=\"fill:none;stroke:#ffffff;stroke-linecap:square;stroke-width:0.8;\"/>\n     </g>\n     <g id=\"text_32\">\n      <!-- 38 -->\n      <g style=\"fill:#555555;\" transform=\"translate(308.40125 258.76175)rotate(-90)scale(0.08 -0.08)\">\n       <use xlink:href=\"#DejaVuSans-51\"/>\n       <use x=\"63.623047\" xlink:href=\"#DejaVuSans-56\"/>\n      </g>\n     </g>\n    </g>\n    <g id=\"xtick_33\">\n     <g id=\"line2d_33\">\n      <path clip-path=\"url(#p8970a66496)\" d=\"M 314.56375 241.58175 \nL 314.56375 24.14175 \n\" style=\"fill:none;stroke:#ffffff;stroke-linecap:square;stroke-width:0.8;\"/>\n     </g>\n     <g id=\"text_33\">\n      <!-- 9 -->\n      <g style=\"fill:#555555;\" transform=\"translate(316.77125 253.67175)rotate(-90)scale(0.08 -0.08)\">\n       <use xlink:href=\"#DejaVuSans-57\"/>\n      </g>\n     </g>\n    </g>\n    <g id=\"xtick_34\">\n     <g id=\"line2d_34\">\n      <path clip-path=\"url(#p8970a66496)\" d=\"M 322.93375 241.58175 \nL 322.93375 24.14175 \n\" style=\"fill:none;stroke:#ffffff;stroke-linecap:square;stroke-width:0.8;\"/>\n     </g>\n     <g id=\"text_34\">\n      <!-- 29 -->\n      <g style=\"fill:#555555;\" transform=\"translate(325.14125 258.76175)rotate(-90)scale(0.08 -0.08)\">\n       <use xlink:href=\"#DejaVuSans-50\"/>\n       <use x=\"63.623047\" xlink:href=\"#DejaVuSans-57\"/>\n      </g>\n     </g>\n    </g>\n    <g id=\"xtick_35\">\n     <g id=\"line2d_35\">\n      <path clip-path=\"url(#p8970a66496)\" d=\"M 331.30375 241.58175 \nL 331.30375 24.14175 \n\" style=\"fill:none;stroke:#ffffff;stroke-linecap:square;stroke-width:0.8;\"/>\n     </g>\n     <g id=\"text_35\">\n      <!-- 15 -->\n      <g style=\"fill:#555555;\" transform=\"translate(333.51125 258.76175)rotate(-90)scale(0.08 -0.08)\">\n       <use xlink:href=\"#DejaVuSans-49\"/>\n       <use x=\"63.623047\" xlink:href=\"#DejaVuSans-53\"/>\n      </g>\n     </g>\n    </g>\n    <g id=\"xtick_36\">\n     <g id=\"line2d_36\">\n      <path clip-path=\"url(#p8970a66496)\" d=\"M 339.67375 241.58175 \nL 339.67375 24.14175 \n\" style=\"fill:none;stroke:#ffffff;stroke-linecap:square;stroke-width:0.8;\"/>\n     </g>\n     <g id=\"text_36\">\n      <!-- 35 -->\n      <g style=\"fill:#555555;\" transform=\"translate(341.88125 258.76175)rotate(-90)scale(0.08 -0.08)\">\n       <use xlink:href=\"#DejaVuSans-51\"/>\n       <use x=\"63.623047\" xlink:href=\"#DejaVuSans-53\"/>\n      </g>\n     </g>\n    </g>\n    <g id=\"xtick_37\">\n     <g id=\"line2d_37\">\n      <path clip-path=\"url(#p8970a66496)\" d=\"M 348.04375 241.58175 \nL 348.04375 24.14175 \n\" style=\"fill:none;stroke:#ffffff;stroke-linecap:square;stroke-width:0.8;\"/>\n     </g>\n     <g id=\"text_37\">\n      <!-- 3 -->\n      <g style=\"fill:#555555;\" transform=\"translate(350.25125 253.67175)rotate(-90)scale(0.08 -0.08)\">\n       <use xlink:href=\"#DejaVuSans-51\"/>\n      </g>\n     </g>\n    </g>\n    <g id=\"xtick_38\">\n     <g id=\"line2d_38\">\n      <path clip-path=\"url(#p8970a66496)\" d=\"M 356.41375 241.58175 \nL 356.41375 24.14175 \n\" style=\"fill:none;stroke:#ffffff;stroke-linecap:square;stroke-width:0.8;\"/>\n     </g>\n     <g id=\"text_38\">\n      <!-- 23 -->\n      <g style=\"fill:#555555;\" transform=\"translate(358.62125 258.76175)rotate(-90)scale(0.08 -0.08)\">\n       <use xlink:href=\"#DejaVuSans-50\"/>\n       <use x=\"63.623047\" xlink:href=\"#DejaVuSans-51\"/>\n      </g>\n     </g>\n    </g>\n    <g id=\"xtick_39\">\n     <g id=\"line2d_39\">\n      <path clip-path=\"url(#p8970a66496)\" d=\"M 364.78375 241.58175 \nL 364.78375 24.14175 \n\" style=\"fill:none;stroke:#ffffff;stroke-linecap:square;stroke-width:0.8;\"/>\n     </g>\n     <g id=\"text_39\">\n      <!-- 13 -->\n      <g style=\"fill:#555555;\" transform=\"translate(366.99125 258.76175)rotate(-90)scale(0.08 -0.08)\">\n       <use xlink:href=\"#DejaVuSans-49\"/>\n       <use x=\"63.623047\" xlink:href=\"#DejaVuSans-51\"/>\n      </g>\n     </g>\n    </g>\n    <g id=\"xtick_40\">\n     <g id=\"line2d_40\">\n      <path clip-path=\"url(#p8970a66496)\" d=\"M 373.15375 241.58175 \nL 373.15375 24.14175 \n\" style=\"fill:none;stroke:#ffffff;stroke-linecap:square;stroke-width:0.8;\"/>\n     </g>\n     <g id=\"text_40\">\n      <!-- 33 -->\n      <g style=\"fill:#555555;\" transform=\"translate(375.36125 258.76175)rotate(-90)scale(0.08 -0.08)\">\n       <use xlink:href=\"#DejaVuSans-51\"/>\n       <use x=\"63.623047\" xlink:href=\"#DejaVuSans-51\"/>\n      </g>\n     </g>\n    </g>\n    <g id=\"text_41\">\n     <!-- cluster -->\n     <defs>\n      <path d=\"M 48.78125 52.59375 \nL 48.78125 44.1875 \nQ 44.96875 46.296875 41.140625 47.34375 \nQ 37.3125 48.390625 33.40625 48.390625 \nQ 24.65625 48.390625 19.8125 42.84375 \nQ 14.984375 37.3125 14.984375 27.296875 \nQ 14.984375 17.28125 19.8125 11.734375 \nQ 24.65625 6.203125 33.40625 6.203125 \nQ 37.3125 6.203125 41.140625 7.25 \nQ 44.96875 8.296875 48.78125 10.40625 \nL 48.78125 2.09375 \nQ 45.015625 0.34375 40.984375 -0.53125 \nQ 36.96875 -1.421875 32.421875 -1.421875 \nQ 20.0625 -1.421875 12.78125 6.34375 \nQ 5.515625 14.109375 5.515625 27.296875 \nQ 5.515625 40.671875 12.859375 48.328125 \nQ 20.21875 56 33.015625 56 \nQ 37.15625 56 41.109375 55.140625 \nQ 45.0625 54.296875 48.78125 52.59375 \nz\n\" id=\"DejaVuSans-99\"/>\n      <path d=\"M 9.421875 75.984375 \nL 18.40625 75.984375 \nL 18.40625 0 \nL 9.421875 0 \nz\n\" id=\"DejaVuSans-108\"/>\n      <path d=\"M 8.5 21.578125 \nL 8.5 54.6875 \nL 17.484375 54.6875 \nL 17.484375 21.921875 \nQ 17.484375 14.15625 20.5 10.265625 \nQ 23.53125 6.390625 29.59375 6.390625 \nQ 36.859375 6.390625 41.078125 11.03125 \nQ 45.3125 15.671875 45.3125 23.6875 \nL 45.3125 54.6875 \nL 54.296875 54.6875 \nL 54.296875 0 \nL 45.3125 0 \nL 45.3125 8.40625 \nQ 42.046875 3.421875 37.71875 1 \nQ 33.40625 -1.421875 27.6875 -1.421875 \nQ 18.265625 -1.421875 13.375 4.4375 \nQ 8.5 10.296875 8.5 21.578125 \nz\nM 31.109375 56 \nz\n\" id=\"DejaVuSans-117\"/>\n      <path d=\"M 44.28125 53.078125 \nL 44.28125 44.578125 \nQ 40.484375 46.53125 36.375 47.5 \nQ 32.28125 48.484375 27.875 48.484375 \nQ 21.1875 48.484375 17.84375 46.4375 \nQ 14.5 44.390625 14.5 40.28125 \nQ 14.5 37.15625 16.890625 35.375 \nQ 19.28125 33.59375 26.515625 31.984375 \nL 29.59375 31.296875 \nQ 39.15625 29.25 43.1875 25.515625 \nQ 47.21875 21.78125 47.21875 15.09375 \nQ 47.21875 7.46875 41.1875 3.015625 \nQ 35.15625 -1.421875 24.609375 -1.421875 \nQ 20.21875 -1.421875 15.453125 -0.5625 \nQ 10.6875 0.296875 5.421875 2 \nL 5.421875 11.28125 \nQ 10.40625 8.6875 15.234375 7.390625 \nQ 20.0625 6.109375 24.8125 6.109375 \nQ 31.15625 6.109375 34.5625 8.28125 \nQ 37.984375 10.453125 37.984375 14.40625 \nQ 37.984375 18.0625 35.515625 20.015625 \nQ 33.0625 21.96875 24.703125 23.78125 \nL 21.578125 24.515625 \nQ 13.234375 26.265625 9.515625 29.90625 \nQ 5.8125 33.546875 5.8125 39.890625 \nQ 5.8125 47.609375 11.28125 51.796875 \nQ 16.75 56 26.8125 56 \nQ 31.78125 56 36.171875 55.265625 \nQ 40.578125 54.546875 44.28125 53.078125 \nz\n\" id=\"DejaVuSans-115\"/>\n      <path d=\"M 18.3125 70.21875 \nL 18.3125 54.6875 \nL 36.8125 54.6875 \nL 36.8125 47.703125 \nL 18.3125 47.703125 \nL 18.3125 18.015625 \nQ 18.3125 11.328125 20.140625 9.421875 \nQ 21.96875 7.515625 27.59375 7.515625 \nL 36.8125 7.515625 \nL 36.8125 0 \nL 27.59375 0 \nQ 17.1875 0 13.234375 3.875 \nQ 9.28125 7.765625 9.28125 18.015625 \nL 9.28125 47.703125 \nL 2.6875 47.703125 \nL 2.6875 54.6875 \nL 9.28125 54.6875 \nL 9.28125 70.21875 \nz\n\" id=\"DejaVuSans-116\"/>\n      <path d=\"M 56.203125 29.59375 \nL 56.203125 25.203125 \nL 14.890625 25.203125 \nQ 15.484375 15.921875 20.484375 11.0625 \nQ 25.484375 6.203125 34.421875 6.203125 \nQ 39.59375 6.203125 44.453125 7.46875 \nQ 49.3125 8.734375 54.109375 11.28125 \nL 54.109375 2.78125 \nQ 49.265625 0.734375 44.1875 -0.34375 \nQ 39.109375 -1.421875 33.890625 -1.421875 \nQ 20.796875 -1.421875 13.15625 6.1875 \nQ 5.515625 13.8125 5.515625 26.8125 \nQ 5.515625 40.234375 12.765625 48.109375 \nQ 20.015625 56 32.328125 56 \nQ 43.359375 56 49.78125 48.890625 \nQ 56.203125 41.796875 56.203125 29.59375 \nz\nM 47.21875 32.234375 \nQ 47.125 39.59375 43.09375 43.984375 \nQ 39.0625 48.390625 32.421875 48.390625 \nQ 24.90625 48.390625 20.390625 44.140625 \nQ 15.875 39.890625 15.1875 32.171875 \nz\n\" id=\"DejaVuSans-101\"/>\n      <path d=\"M 41.109375 46.296875 \nQ 39.59375 47.171875 37.8125 47.578125 \nQ 36.03125 48 33.890625 48 \nQ 26.265625 48 22.1875 43.046875 \nQ 18.109375 38.09375 18.109375 28.8125 \nL 18.109375 0 \nL 9.078125 0 \nL 9.078125 54.6875 \nL 18.109375 54.6875 \nL 18.109375 46.1875 \nQ 20.953125 51.171875 25.484375 53.578125 \nQ 30.03125 56 36.53125 56 \nQ 37.453125 56 38.578125 55.875 \nQ 39.703125 55.765625 41.0625 55.515625 \nz\n\" id=\"DejaVuSans-114\"/>\n     </defs>\n     <g style=\"fill:#555555;\" transform=\"translate(189.534063 271.879875)scale(0.12 -0.12)\">\n      <use xlink:href=\"#DejaVuSans-99\"/>\n      <use x=\"54.980469\" xlink:href=\"#DejaVuSans-108\"/>\n      <use x=\"82.763672\" xlink:href=\"#DejaVuSans-117\"/>\n      <use x=\"146.142578\" xlink:href=\"#DejaVuSans-115\"/>\n      <use x=\"198.242188\" xlink:href=\"#DejaVuSans-116\"/>\n      <use x=\"237.451172\" xlink:href=\"#DejaVuSans-101\"/>\n      <use x=\"298.974609\" xlink:href=\"#DejaVuSans-114\"/>\n     </g>\n    </g>\n   </g>\n   <g id=\"matplotlib.axis_2\">\n    <g id=\"ytick_1\">\n     <g id=\"line2d_41\">\n      <path clip-path=\"url(#p8970a66496)\" d=\"M 42.53875 241.58175 \nL 377.33875 241.58175 \n\" style=\"fill:none;stroke:#ffffff;stroke-linecap:square;stroke-width:0.8;\"/>\n     </g>\n     <g id=\"line2d_42\">\n      <defs>\n       <path d=\"M 0 0 \nL -3.5 0 \n\" id=\"m164b6c9706\" style=\"stroke:#555555;stroke-width:0.8;\"/>\n      </defs>\n      <g>\n       <use style=\"fill:#555555;stroke:#555555;stroke-width:0.8;\" x=\"42.53875\" xlink:href=\"#m164b6c9706\" y=\"241.58175\"/>\n      </g>\n     </g>\n     <g id=\"text_42\">\n      <!-- 0 -->\n      <g style=\"fill:#555555;\" transform=\"translate(29.17625 245.380969)scale(0.1 -0.1)\">\n       <use xlink:href=\"#DejaVuSans-48\"/>\n      </g>\n     </g>\n    </g>\n    <g id=\"ytick_2\">\n     <g id=\"line2d_43\">\n      <path clip-path=\"url(#p8970a66496)\" d=\"M 42.53875 211.883189 \nL 377.33875 211.883189 \n\" style=\"fill:none;stroke:#ffffff;stroke-linecap:square;stroke-width:0.8;\"/>\n     </g>\n     <g id=\"line2d_44\">\n      <g>\n       <use style=\"fill:#555555;stroke:#555555;stroke-width:0.8;\" x=\"42.53875\" xlink:href=\"#m164b6c9706\" y=\"211.883189\"/>\n      </g>\n     </g>\n     <g id=\"text_43\">\n      <!-- 2 -->\n      <g style=\"fill:#555555;\" transform=\"translate(29.17625 215.682408)scale(0.1 -0.1)\">\n       <use xlink:href=\"#DejaVuSans-50\"/>\n      </g>\n     </g>\n    </g>\n    <g id=\"ytick_3\">\n     <g id=\"line2d_45\">\n      <path clip-path=\"url(#p8970a66496)\" d=\"M 42.53875 182.184629 \nL 377.33875 182.184629 \n\" style=\"fill:none;stroke:#ffffff;stroke-linecap:square;stroke-width:0.8;\"/>\n     </g>\n     <g id=\"line2d_46\">\n      <g>\n       <use style=\"fill:#555555;stroke:#555555;stroke-width:0.8;\" x=\"42.53875\" xlink:href=\"#m164b6c9706\" y=\"182.184629\"/>\n      </g>\n     </g>\n     <g id=\"text_44\">\n      <!-- 4 -->\n      <g style=\"fill:#555555;\" transform=\"translate(29.17625 185.983847)scale(0.1 -0.1)\">\n       <use xlink:href=\"#DejaVuSans-52\"/>\n      </g>\n     </g>\n    </g>\n    <g id=\"ytick_4\">\n     <g id=\"line2d_47\">\n      <path clip-path=\"url(#p8970a66496)\" d=\"M 42.53875 152.486068 \nL 377.33875 152.486068 \n\" style=\"fill:none;stroke:#ffffff;stroke-linecap:square;stroke-width:0.8;\"/>\n     </g>\n     <g id=\"line2d_48\">\n      <g>\n       <use style=\"fill:#555555;stroke:#555555;stroke-width:0.8;\" x=\"42.53875\" xlink:href=\"#m164b6c9706\" y=\"152.486068\"/>\n      </g>\n     </g>\n     <g id=\"text_45\">\n      <!-- 6 -->\n      <g style=\"fill:#555555;\" transform=\"translate(29.17625 156.285287)scale(0.1 -0.1)\">\n       <use xlink:href=\"#DejaVuSans-54\"/>\n      </g>\n     </g>\n    </g>\n    <g id=\"ytick_5\">\n     <g id=\"line2d_49\">\n      <path clip-path=\"url(#p8970a66496)\" d=\"M 42.53875 122.787507 \nL 377.33875 122.787507 \n\" style=\"fill:none;stroke:#ffffff;stroke-linecap:square;stroke-width:0.8;\"/>\n     </g>\n     <g id=\"line2d_50\">\n      <g>\n       <use style=\"fill:#555555;stroke:#555555;stroke-width:0.8;\" x=\"42.53875\" xlink:href=\"#m164b6c9706\" y=\"122.787507\"/>\n      </g>\n     </g>\n     <g id=\"text_46\">\n      <!-- 8 -->\n      <g style=\"fill:#555555;\" transform=\"translate(29.17625 126.586726)scale(0.1 -0.1)\">\n       <use xlink:href=\"#DejaVuSans-56\"/>\n      </g>\n     </g>\n    </g>\n    <g id=\"ytick_6\">\n     <g id=\"line2d_51\">\n      <path clip-path=\"url(#p8970a66496)\" d=\"M 42.53875 93.088946 \nL 377.33875 93.088946 \n\" style=\"fill:none;stroke:#ffffff;stroke-linecap:square;stroke-width:0.8;\"/>\n     </g>\n     <g id=\"line2d_52\">\n      <g>\n       <use style=\"fill:#555555;stroke:#555555;stroke-width:0.8;\" x=\"42.53875\" xlink:href=\"#m164b6c9706\" y=\"93.088946\"/>\n      </g>\n     </g>\n     <g id=\"text_47\">\n      <!-- 10 -->\n      <g style=\"fill:#555555;\" transform=\"translate(22.81375 96.888165)scale(0.1 -0.1)\">\n       <use xlink:href=\"#DejaVuSans-49\"/>\n       <use x=\"63.623047\" xlink:href=\"#DejaVuSans-48\"/>\n      </g>\n     </g>\n    </g>\n    <g id=\"ytick_7\">\n     <g id=\"line2d_53\">\n      <path clip-path=\"url(#p8970a66496)\" d=\"M 42.53875 63.390386 \nL 377.33875 63.390386 \n\" style=\"fill:none;stroke:#ffffff;stroke-linecap:square;stroke-width:0.8;\"/>\n     </g>\n     <g id=\"line2d_54\">\n      <g>\n       <use style=\"fill:#555555;stroke:#555555;stroke-width:0.8;\" x=\"42.53875\" xlink:href=\"#m164b6c9706\" y=\"63.390386\"/>\n      </g>\n     </g>\n     <g id=\"text_48\">\n      <!-- 12 -->\n      <g style=\"fill:#555555;\" transform=\"translate(22.81375 67.189604)scale(0.1 -0.1)\">\n       <use xlink:href=\"#DejaVuSans-49\"/>\n       <use x=\"63.623047\" xlink:href=\"#DejaVuSans-50\"/>\n      </g>\n     </g>\n    </g>\n    <g id=\"ytick_8\">\n     <g id=\"line2d_55\">\n      <path clip-path=\"url(#p8970a66496)\" d=\"M 42.53875 33.691825 \nL 377.33875 33.691825 \n\" style=\"fill:none;stroke:#ffffff;stroke-linecap:square;stroke-width:0.8;\"/>\n     </g>\n     <g id=\"line2d_56\">\n      <g>\n       <use style=\"fill:#555555;stroke:#555555;stroke-width:0.8;\" x=\"42.53875\" xlink:href=\"#m164b6c9706\" y=\"33.691825\"/>\n      </g>\n     </g>\n     <g id=\"text_49\">\n      <!-- 14 -->\n      <g style=\"fill:#555555;\" transform=\"translate(22.81375 37.491044)scale(0.1 -0.1)\">\n       <use xlink:href=\"#DejaVuSans-49\"/>\n       <use x=\"63.623047\" xlink:href=\"#DejaVuSans-52\"/>\n      </g>\n     </g>\n    </g>\n    <g id=\"text_50\">\n     <!-- distance -->\n     <defs>\n      <path d=\"M 45.40625 46.390625 \nL 45.40625 75.984375 \nL 54.390625 75.984375 \nL 54.390625 0 \nL 45.40625 0 \nL 45.40625 8.203125 \nQ 42.578125 3.328125 38.25 0.953125 \nQ 33.9375 -1.421875 27.875 -1.421875 \nQ 17.96875 -1.421875 11.734375 6.484375 \nQ 5.515625 14.40625 5.515625 27.296875 \nQ 5.515625 40.1875 11.734375 48.09375 \nQ 17.96875 56 27.875 56 \nQ 33.9375 56 38.25 53.625 \nQ 42.578125 51.265625 45.40625 46.390625 \nz\nM 14.796875 27.296875 \nQ 14.796875 17.390625 18.875 11.75 \nQ 22.953125 6.109375 30.078125 6.109375 \nQ 37.203125 6.109375 41.296875 11.75 \nQ 45.40625 17.390625 45.40625 27.296875 \nQ 45.40625 37.203125 41.296875 42.84375 \nQ 37.203125 48.484375 30.078125 48.484375 \nQ 22.953125 48.484375 18.875 42.84375 \nQ 14.796875 37.203125 14.796875 27.296875 \nz\n\" id=\"DejaVuSans-100\"/>\n      <path d=\"M 9.421875 54.6875 \nL 18.40625 54.6875 \nL 18.40625 0 \nL 9.421875 0 \nz\nM 9.421875 75.984375 \nL 18.40625 75.984375 \nL 18.40625 64.59375 \nL 9.421875 64.59375 \nz\n\" id=\"DejaVuSans-105\"/>\n      <path d=\"M 34.28125 27.484375 \nQ 23.390625 27.484375 19.1875 25 \nQ 14.984375 22.515625 14.984375 16.5 \nQ 14.984375 11.71875 18.140625 8.90625 \nQ 21.296875 6.109375 26.703125 6.109375 \nQ 34.1875 6.109375 38.703125 11.40625 \nQ 43.21875 16.703125 43.21875 25.484375 \nL 43.21875 27.484375 \nz\nM 52.203125 31.203125 \nL 52.203125 0 \nL 43.21875 0 \nL 43.21875 8.296875 \nQ 40.140625 3.328125 35.546875 0.953125 \nQ 30.953125 -1.421875 24.3125 -1.421875 \nQ 15.921875 -1.421875 10.953125 3.296875 \nQ 6 8.015625 6 15.921875 \nQ 6 25.140625 12.171875 29.828125 \nQ 18.359375 34.515625 30.609375 34.515625 \nL 43.21875 34.515625 \nL 43.21875 35.40625 \nQ 43.21875 41.609375 39.140625 45 \nQ 35.0625 48.390625 27.6875 48.390625 \nQ 23 48.390625 18.546875 47.265625 \nQ 14.109375 46.140625 10.015625 43.890625 \nL 10.015625 52.203125 \nQ 14.9375 54.109375 19.578125 55.046875 \nQ 24.21875 56 28.609375 56 \nQ 40.484375 56 46.34375 49.84375 \nQ 52.203125 43.703125 52.203125 31.203125 \nz\n\" id=\"DejaVuSans-97\"/>\n      <path d=\"M 54.890625 33.015625 \nL 54.890625 0 \nL 45.90625 0 \nL 45.90625 32.71875 \nQ 45.90625 40.484375 42.875 44.328125 \nQ 39.84375 48.1875 33.796875 48.1875 \nQ 26.515625 48.1875 22.3125 43.546875 \nQ 18.109375 38.921875 18.109375 30.90625 \nL 18.109375 0 \nL 9.078125 0 \nL 9.078125 54.6875 \nL 18.109375 54.6875 \nL 18.109375 46.1875 \nQ 21.34375 51.125 25.703125 53.5625 \nQ 30.078125 56 35.796875 56 \nQ 45.21875 56 50.046875 50.171875 \nQ 54.890625 44.34375 54.890625 33.015625 \nz\n\" id=\"DejaVuSans-110\"/>\n     </defs>\n     <g style=\"fill:#555555;\" transform=\"translate(16.318125 158.285813)rotate(-90)scale(0.12 -0.12)\">\n      <use xlink:href=\"#DejaVuSans-100\"/>\n      <use x=\"63.476562\" xlink:href=\"#DejaVuSans-105\"/>\n      <use x=\"91.259766\" xlink:href=\"#DejaVuSans-115\"/>\n      <use x=\"143.359375\" xlink:href=\"#DejaVuSans-116\"/>\n      <use x=\"182.568359\" xlink:href=\"#DejaVuSans-97\"/>\n      <use x=\"243.847656\" xlink:href=\"#DejaVuSans-110\"/>\n      <use x=\"307.226562\" xlink:href=\"#DejaVuSans-99\"/>\n      <use x=\"362.207031\" xlink:href=\"#DejaVuSans-101\"/>\n     </g>\n    </g>\n   </g>\n   <g id=\"LineCollection_1\">\n    <path clip-path=\"url(#p8970a66496)\" d=\"M 46.72375 241.58175 \nL 46.72375 241.58175 \nL 55.09375 241.58175 \nL 55.09375 241.58175 \n\" style=\"fill:none;stroke:#008000;stroke-width:1.5;\"/>\n    <path clip-path=\"url(#p8970a66496)\" d=\"M 63.46375 241.58175 \nL 63.46375 241.58175 \nL 71.83375 241.58175 \nL 71.83375 241.58175 \n\" style=\"fill:none;stroke:#008000;stroke-width:1.5;\"/>\n    <path clip-path=\"url(#p8970a66496)\" d=\"M 50.90875 241.58175 \nL 50.90875 218.018185 \nL 67.64875 218.018185 \nL 67.64875 241.58175 \n\" style=\"fill:none;stroke:#008000;stroke-width:1.5;\"/>\n    <path clip-path=\"url(#p8970a66496)\" d=\"M 80.20375 241.58175 \nL 80.20375 241.58175 \nL 88.57375 241.58175 \nL 88.57375 241.58175 \n\" style=\"fill:none;stroke:#008000;stroke-width:1.5;\"/>\n    <path clip-path=\"url(#p8970a66496)\" d=\"M 96.94375 241.58175 \nL 96.94375 241.58175 \nL 105.31375 241.58175 \nL 105.31375 241.58175 \n\" style=\"fill:none;stroke:#008000;stroke-width:1.5;\"/>\n    <path clip-path=\"url(#p8970a66496)\" d=\"M 113.68375 241.58175 \nL 113.68375 241.58175 \nL 122.05375 241.58175 \nL 122.05375 241.58175 \n\" style=\"fill:none;stroke:#008000;stroke-width:1.5;\"/>\n    <path clip-path=\"url(#p8970a66496)\" d=\"M 130.42375 241.58175 \nL 130.42375 241.58175 \nL 138.79375 241.58175 \nL 138.79375 241.58175 \n\" style=\"fill:none;stroke:#008000;stroke-width:1.5;\"/>\n    <path clip-path=\"url(#p8970a66496)\" d=\"M 147.16375 241.58175 \nL 147.16375 241.58175 \nL 155.53375 241.58175 \nL 155.53375 241.58175 \n\" style=\"fill:none;stroke:#008000;stroke-width:1.5;\"/>\n    <path clip-path=\"url(#p8970a66496)\" d=\"M 163.90375 241.58175 \nL 163.90375 241.58175 \nL 172.27375 241.58175 \nL 172.27375 241.58175 \n\" style=\"fill:none;stroke:#008000;stroke-width:1.5;\"/>\n    <path clip-path=\"url(#p8970a66496)\" d=\"M 151.34875 241.58175 \nL 151.34875 222.555442 \nL 168.08875 222.555442 \nL 168.08875 241.58175 \n\" style=\"fill:none;stroke:#008000;stroke-width:1.5;\"/>\n    <path clip-path=\"url(#p8970a66496)\" d=\"M 134.60875 241.58175 \nL 134.60875 214.351606 \nL 159.71875 214.351606 \nL 159.71875 222.555442 \n\" style=\"fill:none;stroke:#008000;stroke-width:1.5;\"/>\n    <path clip-path=\"url(#p8970a66496)\" d=\"M 117.86875 241.58175 \nL 117.86875 212.008811 \nL 147.16375 212.008811 \nL 147.16375 214.351606 \n\" style=\"fill:none;stroke:#008000;stroke-width:1.5;\"/>\n    <path clip-path=\"url(#p8970a66496)\" d=\"M 101.12875 241.58175 \nL 101.12875 199.731843 \nL 132.51625 199.731843 \nL 132.51625 212.008811 \n\" style=\"fill:none;stroke:#008000;stroke-width:1.5;\"/>\n    <path clip-path=\"url(#p8970a66496)\" d=\"M 84.38875 241.58175 \nL 84.38875 192.122419 \nL 116.8225 192.122419 \nL 116.8225 199.731843 \n\" style=\"fill:none;stroke:#008000;stroke-width:1.5;\"/>\n    <path clip-path=\"url(#p8970a66496)\" d=\"M 59.27875 218.018185 \nL 59.27875 175.334298 \nL 100.605625 175.334298 \nL 100.605625 192.122419 \n\" style=\"fill:none;stroke:#008000;stroke-width:1.5;\"/>\n   </g>\n   <g id=\"LineCollection_2\">\n    <path clip-path=\"url(#p8970a66496)\" d=\"M 180.64375 241.58175 \nL 180.64375 241.58175 \nL 189.01375 241.58175 \nL 189.01375 241.58175 \n\" style=\"fill:none;stroke:#ff0000;stroke-width:1.5;\"/>\n    <path clip-path=\"url(#p8970a66496)\" d=\"M 197.38375 241.58175 \nL 197.38375 241.58175 \nL 205.75375 241.58175 \nL 205.75375 241.58175 \n\" style=\"fill:none;stroke:#ff0000;stroke-width:1.5;\"/>\n    <path clip-path=\"url(#p8970a66496)\" d=\"M 184.82875 241.58175 \nL 184.82875 217.408945 \nL 201.56875 217.408945 \nL 201.56875 241.58175 \n\" style=\"fill:none;stroke:#ff0000;stroke-width:1.5;\"/>\n    <path clip-path=\"url(#p8970a66496)\" d=\"M 214.12375 241.58175 \nL 214.12375 241.58175 \nL 222.49375 241.58175 \nL 222.49375 241.58175 \n\" style=\"fill:none;stroke:#ff0000;stroke-width:1.5;\"/>\n    <path clip-path=\"url(#p8970a66496)\" d=\"M 230.86375 241.58175 \nL 230.86375 241.58175 \nL 239.23375 241.58175 \nL 239.23375 241.58175 \n\" style=\"fill:none;stroke:#ff0000;stroke-width:1.5;\"/>\n    <path clip-path=\"url(#p8970a66496)\" d=\"M 247.60375 241.58175 \nL 247.60375 241.58175 \nL 255.97375 241.58175 \nL 255.97375 241.58175 \n\" style=\"fill:none;stroke:#ff0000;stroke-width:1.5;\"/>\n    <path clip-path=\"url(#p8970a66496)\" d=\"M 264.34375 241.58175 \nL 264.34375 241.58175 \nL 272.71375 241.58175 \nL 272.71375 241.58175 \n\" style=\"fill:none;stroke:#ff0000;stroke-width:1.5;\"/>\n    <path clip-path=\"url(#p8970a66496)\" d=\"M 251.78875 241.58175 \nL 251.78875 217.953873 \nL 268.52875 217.953873 \nL 268.52875 241.58175 \n\" style=\"fill:none;stroke:#ff0000;stroke-width:1.5;\"/>\n    <path clip-path=\"url(#p8970a66496)\" d=\"M 235.04875 241.58175 \nL 235.04875 212.918417 \nL 260.15875 212.918417 \nL 260.15875 217.953873 \n\" style=\"fill:none;stroke:#ff0000;stroke-width:1.5;\"/>\n    <path clip-path=\"url(#p8970a66496)\" d=\"M 218.30875 241.58175 \nL 218.30875 201.177452 \nL 247.60375 201.177452 \nL 247.60375 212.918417 \n\" style=\"fill:none;stroke:#ff0000;stroke-width:1.5;\"/>\n    <path clip-path=\"url(#p8970a66496)\" d=\"M 193.19875 217.408945 \nL 193.19875 181.814966 \nL 232.95625 181.814966 \nL 232.95625 201.177452 \n\" style=\"fill:none;stroke:#ff0000;stroke-width:1.5;\"/>\n   </g>\n   <g id=\"LineCollection_3\">\n    <path clip-path=\"url(#p8970a66496)\" d=\"M 281.08375 241.58175 \nL 281.08375 241.58175 \nL 289.45375 241.58175 \nL 289.45375 241.58175 \n\" style=\"fill:none;stroke:#00bfbf;stroke-width:1.5;\"/>\n    <path clip-path=\"url(#p8970a66496)\" d=\"M 297.82375 241.58175 \nL 297.82375 241.58175 \nL 306.19375 241.58175 \nL 306.19375 241.58175 \n\" style=\"fill:none;stroke:#00bfbf;stroke-width:1.5;\"/>\n    <path clip-path=\"url(#p8970a66496)\" d=\"M 314.56375 241.58175 \nL 314.56375 241.58175 \nL 322.93375 241.58175 \nL 322.93375 241.58175 \n\" style=\"fill:none;stroke:#00bfbf;stroke-width:1.5;\"/>\n    <path clip-path=\"url(#p8970a66496)\" d=\"M 331.30375 241.58175 \nL 331.30375 241.58175 \nL 339.67375 241.58175 \nL 339.67375 241.58175 \n\" style=\"fill:none;stroke:#00bfbf;stroke-width:1.5;\"/>\n    <path clip-path=\"url(#p8970a66496)\" d=\"M 318.74875 241.58175 \nL 318.74875 223.639981 \nL 335.48875 223.639981 \nL 335.48875 241.58175 \n\" style=\"fill:none;stroke:#00bfbf;stroke-width:1.5;\"/>\n    <path clip-path=\"url(#p8970a66496)\" d=\"M 348.04375 241.58175 \nL 348.04375 241.58175 \nL 356.41375 241.58175 \nL 356.41375 241.58175 \n\" style=\"fill:none;stroke:#00bfbf;stroke-width:1.5;\"/>\n    <path clip-path=\"url(#p8970a66496)\" d=\"M 364.78375 241.58175 \nL 364.78375 241.58175 \nL 373.15375 241.58175 \nL 373.15375 241.58175 \n\" style=\"fill:none;stroke:#00bfbf;stroke-width:1.5;\"/>\n    <path clip-path=\"url(#p8970a66496)\" d=\"M 352.22875 241.58175 \nL 352.22875 217.953873 \nL 368.96875 217.953873 \nL 368.96875 241.58175 \n\" style=\"fill:none;stroke:#00bfbf;stroke-width:1.5;\"/>\n    <path clip-path=\"url(#p8970a66496)\" d=\"M 327.11875 223.639981 \nL 327.11875 210.649469 \nL 360.59875 210.649469 \nL 360.59875 217.953873 \n\" style=\"fill:none;stroke:#00bfbf;stroke-width:1.5;\"/>\n    <path clip-path=\"url(#p8970a66496)\" d=\"M 302.00875 241.58175 \nL 302.00875 201.990918 \nL 343.85875 201.990918 \nL 343.85875 210.649469 \n\" style=\"fill:none;stroke:#00bfbf;stroke-width:1.5;\"/>\n    <path clip-path=\"url(#p8970a66496)\" d=\"M 285.26875 241.58175 \nL 285.26875 164.798711 \nL 322.93375 164.798711 \nL 322.93375 201.990918 \n\" style=\"fill:none;stroke:#00bfbf;stroke-width:1.5;\"/>\n   </g>\n   <g id=\"LineCollection_4\">\n    <path clip-path=\"url(#p8970a66496)\" d=\"M 213.0775 181.814966 \nL 213.0775 53.519049 \nL 304.10125 53.519049 \nL 304.10125 164.798711 \n\" style=\"fill:none;stroke:#0000ff;stroke-width:1.5;\"/>\n    <path clip-path=\"url(#p8970a66496)\" d=\"M 79.942188 175.334298 \nL 79.942188 34.496036 \nL 258.589375 34.496036 \nL 258.589375 53.519049 \n\" style=\"fill:none;stroke:#0000ff;stroke-width:1.5;\"/>\n   </g>\n   <g id=\"patch_3\">\n    <path d=\"M 42.53875 241.58175 \nL 42.53875 24.14175 \n\" style=\"fill:none;stroke:#ffffff;stroke-linecap:square;stroke-linejoin:miter;\"/>\n   </g>\n   <g id=\"patch_4\">\n    <path d=\"M 377.33875 241.58175 \nL 377.33875 24.14175 \n\" style=\"fill:none;stroke:#ffffff;stroke-linecap:square;stroke-linejoin:miter;\"/>\n   </g>\n   <g id=\"patch_5\">\n    <path d=\"M 42.53875 241.58175 \nL 377.33875 241.58175 \n\" style=\"fill:none;stroke:#ffffff;stroke-linecap:square;stroke-linejoin:miter;\"/>\n   </g>\n   <g id=\"patch_6\">\n    <path d=\"M 42.53875 24.14175 \nL 377.33875 24.14175 \n\" style=\"fill:none;stroke:#ffffff;stroke-linecap:square;stroke-linejoin:miter;\"/>\n   </g>\n   <g id=\"text_51\">\n    <!-- Hierarchical clustering -->\n    <defs>\n     <path d=\"M 9.8125 72.90625 \nL 19.671875 72.90625 \nL 19.671875 43.015625 \nL 55.515625 43.015625 \nL 55.515625 72.90625 \nL 65.375 72.90625 \nL 65.375 0 \nL 55.515625 0 \nL 55.515625 34.71875 \nL 19.671875 34.71875 \nL 19.671875 0 \nL 9.8125 0 \nz\n\" id=\"DejaVuSans-72\"/>\n     <path d=\"M 54.890625 33.015625 \nL 54.890625 0 \nL 45.90625 0 \nL 45.90625 32.71875 \nQ 45.90625 40.484375 42.875 44.328125 \nQ 39.84375 48.1875 33.796875 48.1875 \nQ 26.515625 48.1875 22.3125 43.546875 \nQ 18.109375 38.921875 18.109375 30.90625 \nL 18.109375 0 \nL 9.078125 0 \nL 9.078125 75.984375 \nL 18.109375 75.984375 \nL 18.109375 46.1875 \nQ 21.34375 51.125 25.703125 53.5625 \nQ 30.078125 56 35.796875 56 \nQ 45.21875 56 50.046875 50.171875 \nQ 54.890625 44.34375 54.890625 33.015625 \nz\n\" id=\"DejaVuSans-104\"/>\n     <path id=\"DejaVuSans-32\"/>\n     <path d=\"M 45.40625 27.984375 \nQ 45.40625 37.75 41.375 43.109375 \nQ 37.359375 48.484375 30.078125 48.484375 \nQ 22.859375 48.484375 18.828125 43.109375 \nQ 14.796875 37.75 14.796875 27.984375 \nQ 14.796875 18.265625 18.828125 12.890625 \nQ 22.859375 7.515625 30.078125 7.515625 \nQ 37.359375 7.515625 41.375 12.890625 \nQ 45.40625 18.265625 45.40625 27.984375 \nz\nM 54.390625 6.78125 \nQ 54.390625 -7.171875 48.1875 -13.984375 \nQ 42 -20.796875 29.203125 -20.796875 \nQ 24.46875 -20.796875 20.265625 -20.09375 \nQ 16.0625 -19.390625 12.109375 -17.921875 \nL 12.109375 -9.1875 \nQ 16.0625 -11.328125 19.921875 -12.34375 \nQ 23.78125 -13.375 27.78125 -13.375 \nQ 36.625 -13.375 41.015625 -8.765625 \nQ 45.40625 -4.15625 45.40625 5.171875 \nL 45.40625 9.625 \nQ 42.625 4.78125 38.28125 2.390625 \nQ 33.9375 0 27.875 0 \nQ 17.828125 0 11.671875 7.65625 \nQ 5.515625 15.328125 5.515625 27.984375 \nQ 5.515625 40.671875 11.671875 48.328125 \nQ 17.828125 56 27.875 56 \nQ 33.9375 56 38.28125 53.609375 \nQ 42.625 51.21875 45.40625 46.390625 \nL 45.40625 54.6875 \nL 54.390625 54.6875 \nz\n\" id=\"DejaVuSans-103\"/>\n    </defs>\n    <g transform=\"translate(129.122125 18.14175)scale(0.144 -0.144)\">\n     <use xlink:href=\"#DejaVuSans-72\"/>\n     <use x=\"75.195312\" xlink:href=\"#DejaVuSans-105\"/>\n     <use x=\"102.978516\" xlink:href=\"#DejaVuSans-101\"/>\n     <use x=\"164.501953\" xlink:href=\"#DejaVuSans-114\"/>\n     <use x=\"205.615234\" xlink:href=\"#DejaVuSans-97\"/>\n     <use x=\"266.894531\" xlink:href=\"#DejaVuSans-114\"/>\n     <use x=\"305.757812\" xlink:href=\"#DejaVuSans-99\"/>\n     <use x=\"360.738281\" xlink:href=\"#DejaVuSans-104\"/>\n     <use x=\"424.117188\" xlink:href=\"#DejaVuSans-105\"/>\n     <use x=\"451.900391\" xlink:href=\"#DejaVuSans-99\"/>\n     <use x=\"506.880859\" xlink:href=\"#DejaVuSans-97\"/>\n     <use x=\"568.160156\" xlink:href=\"#DejaVuSans-108\"/>\n     <use x=\"595.943359\" xlink:href=\"#DejaVuSans-32\"/>\n     <use x=\"627.730469\" xlink:href=\"#DejaVuSans-99\"/>\n     <use x=\"682.710938\" xlink:href=\"#DejaVuSans-108\"/>\n     <use x=\"710.494141\" xlink:href=\"#DejaVuSans-117\"/>\n     <use x=\"773.873047\" xlink:href=\"#DejaVuSans-115\"/>\n     <use x=\"825.972656\" xlink:href=\"#DejaVuSans-116\"/>\n     <use x=\"865.181641\" xlink:href=\"#DejaVuSans-101\"/>\n     <use x=\"926.705078\" xlink:href=\"#DejaVuSans-114\"/>\n     <use x=\"967.818359\" xlink:href=\"#DejaVuSans-105\"/>\n     <use x=\"995.601562\" xlink:href=\"#DejaVuSans-110\"/>\n     <use x=\"1058.980469\" xlink:href=\"#DejaVuSans-103\"/>\n    </g>\n   </g>\n  </g>\n </g>\n <defs>\n  <clipPath id=\"p8970a66496\">\n   <rect height=\"217.44\" width=\"334.8\" x=\"42.53875\" y=\"24.14175\"/>\n  </clipPath>\n </defs>\n</svg>\n"
          },
          "metadata": {
            "tags": []
          }
        }
      ]
    },
    {
      "cell_type": "code",
      "metadata": {
        "id": "-4PY7UuiDtq6",
        "colab_type": "code",
        "colab": {
          "base_uri": "https://localhost:8080/",
          "height": 85
        },
        "outputId": "9195c92f-ccca-4fd0-f231-7ca2e0f2f0c0"
      },
      "source": [
        "data_norm['cluster_h'] = fcluster(Z, 3, criterion='maxclust')\n",
        "raw_data['cluster_h'] = fcluster(Z, 3, criterion='maxclust')\n",
        "\n",
        "data_norm.cluster_h.value_counts()"
      ],
      "execution_count": null,
      "outputs": [
        {
          "output_type": "execute_result",
          "data": {
            "text/plain": [
              "1    16\n",
              "3    12\n",
              "2    12\n",
              "Name: cluster_h, dtype: int64"
            ]
          },
          "metadata": {
            "tags": []
          },
          "execution_count": 27
        }
      ]
    },
    {
      "cell_type": "markdown",
      "metadata": {
        "id": "twGhGwnDDtq9",
        "colab_type": "text"
      },
      "source": [
        "\n",
        "\n",
        "### g) Método de clustering. K-means\n",
        "\n",
        "Ahora vamos a probar K-means para agrupar los datos. Considerando los resultados del método anterior definimos k = 3."
      ]
    },
    {
      "cell_type": "code",
      "metadata": {
        "id": "UGdX1j8dDtq9",
        "colab_type": "code",
        "colab": {
          "base_uri": "https://localhost:8080/",
          "height": 85
        },
        "outputId": "abaea52c-b5fa-434e-b73d-14f5dfa19697"
      },
      "source": [
        "from sklearn.cluster import KMeans\n",
        "\n",
        "kmeans = KMeans(n_clusters = 3)\n",
        "data_norm['cluster_k'] = kmeans.fit_predict(data_seg)\n",
        "raw_data['cluster_k'] = kmeans.fit_predict(data_seg)\n",
        "data_norm.cluster_k.value_counts()"
      ],
      "execution_count": null,
      "outputs": [
        {
          "output_type": "execute_result",
          "data": {
            "text/plain": [
              "1    16\n",
              "2    12\n",
              "0    12\n",
              "Name: cluster_k, dtype: int64"
            ]
          },
          "metadata": {
            "tags": []
          },
          "execution_count": 28
        }
      ]
    },
    {
      "cell_type": "markdown",
      "metadata": {
        "id": "0j9aXWTVDtrA",
        "colab_type": "text"
      },
      "source": [
        "\n",
        "\n",
        "#### Validación K-means"
      ]
    },
    {
      "cell_type": "code",
      "metadata": {
        "id": "D_AbI9CSDtrB",
        "colab_type": "code",
        "colab": {}
      },
      "source": [
        "import numpy as np\n",
        "from scipy.spatial.distance import cdist, pdist\n",
        "\n",
        "# We set a range of k\n",
        "k_range = range(1, 8)\n",
        "\n",
        "# We train the K-means model for every k-value in the range\n",
        "k_means_var = [KMeans(n_clusters=k).fit(data_seg) for k in k_range]"
      ],
      "execution_count": null,
      "outputs": []
    },
    {
      "cell_type": "markdown",
      "metadata": {
        "id": "CDmNECRuDtrC",
        "colab_type": "text"
      },
      "source": [
        "\n",
        "\n",
        "Extraemos los centroides obtenidos para cada valor de k"
      ]
    },
    {
      "cell_type": "code",
      "metadata": {
        "id": "yyOHy5orDtrD",
        "colab_type": "code",
        "colab": {
          "base_uri": "https://localhost:8080/",
          "height": 486
        },
        "outputId": "bfc90902-22b6-45de-db19-9143ba735a15"
      },
      "source": [
        "centroids = [X.cluster_centers_ for X in k_means_var]\n",
        "\n",
        "# We calculate the Euclidean distance from each point to each centroid\n",
        "k_euclid = [cdist(data_seg, cent, 'euclidean') for cent in centroids]\n",
        "dist = [np.min(ke, axis=1) for ke in k_euclid]\n",
        "\n",
        "# We found the WSS\n",
        "wcss = [sum(d**2) for d in dist]\n",
        "\n",
        "# The total sum of squares\n",
        "tss = sum(pdist(data_norm)**2) / len(data_norm)\n",
        "7\n",
        "# The sum of squares between-cluster\n",
        "bss = tss - wcss\n",
        "\n",
        "# The curve of the elbow\n",
        "fig = plt.figure(figsize=(10, 5))\n",
        "ax = fig.add_subplot(111)\n",
        "ax.plot(k_range, bss / tss * 100, 'b*-', lw=2.5, c='steelblue')\n",
        "ax.set_ylim((0, 100))\n",
        "plt.grid(True)\n",
        "plt.xlabel('n_clusters')\n",
        "plt.ylabel('Percentage of variance explained')\n",
        "plt.title('Variance explained vs. k')"
      ],
      "execution_count": null,
      "outputs": [
        {
          "output_type": "execute_result",
          "data": {
            "text/plain": [
              "Text(0.5, 1.0, 'Variance explained vs. k')"
            ]
          },
          "metadata": {
            "tags": []
          },
          "execution_count": 30
        },
        {
          "output_type": "display_data",
          "data": {
            "application/pdf": "[encoded data removed]",
            "text/plain": [
              "<Figure size 720x360 with 1 Axes>"
            ],
            "image/svg+xml": "<?xml version=\"1.0\" encoding=\"utf-8\" standalone=\"no\"?>\n<!DOCTYPE svg PUBLIC \"-//W3C//DTD SVG 1.1//EN\"\n  \"http://www.w3.org/Graphics/SVG/1.1/DTD/svg11.dtd\">\n<!-- Created with matplotlib (https://matplotlib.org/) -->\n<svg height=\"335.767375pt\" version=\"1.1\" viewBox=\"0 0 614.10125 335.767375\" width=\"614.10125pt\" xmlns=\"http://www.w3.org/2000/svg\" xmlns:xlink=\"http://www.w3.org/1999/xlink\">\n <defs>\n  <style type=\"text/css\">\n*{stroke-linecap:butt;stroke-linejoin:round;}\n  </style>\n </defs>\n <g id=\"figure_1\">\n  <g id=\"patch_1\">\n   <path d=\"M 0 335.767375 \nL 614.10125 335.767375 \nL 614.10125 0 \nL 0 0 \nz\n\" style=\"fill:#ffffff;\"/>\n  </g>\n  <g id=\"axes_1\">\n   <g id=\"patch_2\">\n    <path d=\"M 48.90125 295.94175 \nL 606.90125 295.94175 \nL 606.90125 24.14175 \nL 48.90125 24.14175 \nz\n\" style=\"fill:#e5e5e5;\"/>\n   </g>\n   <g id=\"matplotlib.axis_1\">\n    <g id=\"xtick_1\">\n     <g id=\"line2d_1\">\n      <path clip-path=\"url(#pa61722192d)\" d=\"M 74.264886 295.94175 \nL 74.264886 24.14175 \n\" style=\"fill:none;stroke:#ffffff;stroke-linecap:square;stroke-width:0.8;\"/>\n     </g>\n     <g id=\"line2d_2\">\n      <defs>\n       <path d=\"M 0 0 \nL 0 3.5 \n\" id=\"m935c185b3d\" style=\"stroke:#555555;stroke-width:0.8;\"/>\n      </defs>\n      <g>\n       <use style=\"fill:#555555;stroke:#555555;stroke-width:0.8;\" x=\"74.264886\" xlink:href=\"#m935c185b3d\" y=\"295.94175\"/>\n      </g>\n     </g>\n     <g id=\"text_1\">\n      <!-- 1 -->\n      <defs>\n       <path d=\"M 12.40625 8.296875 \nL 28.515625 8.296875 \nL 28.515625 63.921875 \nL 10.984375 60.40625 \nL 10.984375 69.390625 \nL 28.421875 72.90625 \nL 38.28125 72.90625 \nL 38.28125 8.296875 \nL 54.390625 8.296875 \nL 54.390625 0 \nL 12.40625 0 \nz\n\" id=\"DejaVuSans-49\"/>\n      </defs>\n      <g style=\"fill:#555555;\" transform=\"translate(71.083636 310.540188)scale(0.1 -0.1)\">\n       <use xlink:href=\"#DejaVuSans-49\"/>\n      </g>\n     </g>\n    </g>\n    <g id=\"xtick_2\">\n     <g id=\"line2d_3\">\n      <path clip-path=\"url(#pa61722192d)\" d=\"M 158.810341 295.94175 \nL 158.810341 24.14175 \n\" style=\"fill:none;stroke:#ffffff;stroke-linecap:square;stroke-width:0.8;\"/>\n     </g>\n     <g id=\"line2d_4\">\n      <g>\n       <use style=\"fill:#555555;stroke:#555555;stroke-width:0.8;\" x=\"158.810341\" xlink:href=\"#m935c185b3d\" y=\"295.94175\"/>\n      </g>\n     </g>\n     <g id=\"text_2\">\n      <!-- 2 -->\n      <defs>\n       <path d=\"M 19.1875 8.296875 \nL 53.609375 8.296875 \nL 53.609375 0 \nL 7.328125 0 \nL 7.328125 8.296875 \nQ 12.9375 14.109375 22.625 23.890625 \nQ 32.328125 33.6875 34.8125 36.53125 \nQ 39.546875 41.84375 41.421875 45.53125 \nQ 43.3125 49.21875 43.3125 52.78125 \nQ 43.3125 58.59375 39.234375 62.25 \nQ 35.15625 65.921875 28.609375 65.921875 \nQ 23.96875 65.921875 18.8125 64.3125 \nQ 13.671875 62.703125 7.8125 59.421875 \nL 7.8125 69.390625 \nQ 13.765625 71.78125 18.9375 73 \nQ 24.125 74.21875 28.421875 74.21875 \nQ 39.75 74.21875 46.484375 68.546875 \nQ 53.21875 62.890625 53.21875 53.421875 \nQ 53.21875 48.921875 51.53125 44.890625 \nQ 49.859375 40.875 45.40625 35.40625 \nQ 44.1875 33.984375 37.640625 27.21875 \nQ 31.109375 20.453125 19.1875 8.296875 \nz\n\" id=\"DejaVuSans-50\"/>\n      </defs>\n      <g style=\"fill:#555555;\" transform=\"translate(155.629091 310.540188)scale(0.1 -0.1)\">\n       <use xlink:href=\"#DejaVuSans-50\"/>\n      </g>\n     </g>\n    </g>\n    <g id=\"xtick_3\">\n     <g id=\"line2d_5\">\n      <path clip-path=\"url(#pa61722192d)\" d=\"M 243.355795 295.94175 \nL 243.355795 24.14175 \n\" style=\"fill:none;stroke:#ffffff;stroke-linecap:square;stroke-width:0.8;\"/>\n     </g>\n     <g id=\"line2d_6\">\n      <g>\n       <use style=\"fill:#555555;stroke:#555555;stroke-width:0.8;\" x=\"243.355795\" xlink:href=\"#m935c185b3d\" y=\"295.94175\"/>\n      </g>\n     </g>\n     <g id=\"text_3\">\n      <!-- 3 -->\n      <defs>\n       <path d=\"M 40.578125 39.3125 \nQ 47.65625 37.796875 51.625 33 \nQ 55.609375 28.21875 55.609375 21.1875 \nQ 55.609375 10.40625 48.1875 4.484375 \nQ 40.765625 -1.421875 27.09375 -1.421875 \nQ 22.515625 -1.421875 17.65625 -0.515625 \nQ 12.796875 0.390625 7.625 2.203125 \nL 7.625 11.71875 \nQ 11.71875 9.328125 16.59375 8.109375 \nQ 21.484375 6.890625 26.8125 6.890625 \nQ 36.078125 6.890625 40.9375 10.546875 \nQ 45.796875 14.203125 45.796875 21.1875 \nQ 45.796875 27.640625 41.28125 31.265625 \nQ 36.765625 34.90625 28.71875 34.90625 \nL 20.21875 34.90625 \nL 20.21875 43.015625 \nL 29.109375 43.015625 \nQ 36.375 43.015625 40.234375 45.921875 \nQ 44.09375 48.828125 44.09375 54.296875 \nQ 44.09375 59.90625 40.109375 62.90625 \nQ 36.140625 65.921875 28.71875 65.921875 \nQ 24.65625 65.921875 20.015625 65.03125 \nQ 15.375 64.15625 9.8125 62.3125 \nL 9.8125 71.09375 \nQ 15.4375 72.65625 20.34375 73.4375 \nQ 25.25 74.21875 29.59375 74.21875 \nQ 40.828125 74.21875 47.359375 69.109375 \nQ 53.90625 64.015625 53.90625 55.328125 \nQ 53.90625 49.265625 50.4375 45.09375 \nQ 46.96875 40.921875 40.578125 39.3125 \nz\n\" id=\"DejaVuSans-51\"/>\n      </defs>\n      <g style=\"fill:#555555;\" transform=\"translate(240.174545 310.540188)scale(0.1 -0.1)\">\n       <use xlink:href=\"#DejaVuSans-51\"/>\n      </g>\n     </g>\n    </g>\n    <g id=\"xtick_4\">\n     <g id=\"line2d_7\">\n      <path clip-path=\"url(#pa61722192d)\" d=\"M 327.90125 295.94175 \nL 327.90125 24.14175 \n\" style=\"fill:none;stroke:#ffffff;stroke-linecap:square;stroke-width:0.8;\"/>\n     </g>\n     <g id=\"line2d_8\">\n      <g>\n       <use style=\"fill:#555555;stroke:#555555;stroke-width:0.8;\" x=\"327.90125\" xlink:href=\"#m935c185b3d\" y=\"295.94175\"/>\n      </g>\n     </g>\n     <g id=\"text_4\">\n      <!-- 4 -->\n      <defs>\n       <path d=\"M 37.796875 64.3125 \nL 12.890625 25.390625 \nL 37.796875 25.390625 \nz\nM 35.203125 72.90625 \nL 47.609375 72.90625 \nL 47.609375 25.390625 \nL 58.015625 25.390625 \nL 58.015625 17.1875 \nL 47.609375 17.1875 \nL 47.609375 0 \nL 37.796875 0 \nL 37.796875 17.1875 \nL 4.890625 17.1875 \nL 4.890625 26.703125 \nz\n\" id=\"DejaVuSans-52\"/>\n      </defs>\n      <g style=\"fill:#555555;\" transform=\"translate(324.72 310.540188)scale(0.1 -0.1)\">\n       <use xlink:href=\"#DejaVuSans-52\"/>\n      </g>\n     </g>\n    </g>\n    <g id=\"xtick_5\">\n     <g id=\"line2d_9\">\n      <path clip-path=\"url(#pa61722192d)\" d=\"M 412.446705 295.94175 \nL 412.446705 24.14175 \n\" style=\"fill:none;stroke:#ffffff;stroke-linecap:square;stroke-width:0.8;\"/>\n     </g>\n     <g id=\"line2d_10\">\n      <g>\n       <use style=\"fill:#555555;stroke:#555555;stroke-width:0.8;\" x=\"412.446705\" xlink:href=\"#m935c185b3d\" y=\"295.94175\"/>\n      </g>\n     </g>\n     <g id=\"text_5\">\n      <!-- 5 -->\n      <defs>\n       <path d=\"M 10.796875 72.90625 \nL 49.515625 72.90625 \nL 49.515625 64.59375 \nL 19.828125 64.59375 \nL 19.828125 46.734375 \nQ 21.96875 47.46875 24.109375 47.828125 \nQ 26.265625 48.1875 28.421875 48.1875 \nQ 40.625 48.1875 47.75 41.5 \nQ 54.890625 34.8125 54.890625 23.390625 \nQ 54.890625 11.625 47.5625 5.09375 \nQ 40.234375 -1.421875 26.90625 -1.421875 \nQ 22.3125 -1.421875 17.546875 -0.640625 \nQ 12.796875 0.140625 7.71875 1.703125 \nL 7.71875 11.625 \nQ 12.109375 9.234375 16.796875 8.0625 \nQ 21.484375 6.890625 26.703125 6.890625 \nQ 35.15625 6.890625 40.078125 11.328125 \nQ 45.015625 15.765625 45.015625 23.390625 \nQ 45.015625 31 40.078125 35.4375 \nQ 35.15625 39.890625 26.703125 39.890625 \nQ 22.75 39.890625 18.8125 39.015625 \nQ 14.890625 38.140625 10.796875 36.28125 \nz\n\" id=\"DejaVuSans-53\"/>\n      </defs>\n      <g style=\"fill:#555555;\" transform=\"translate(409.265455 310.540188)scale(0.1 -0.1)\">\n       <use xlink:href=\"#DejaVuSans-53\"/>\n      </g>\n     </g>\n    </g>\n    <g id=\"xtick_6\">\n     <g id=\"line2d_11\">\n      <path clip-path=\"url(#pa61722192d)\" d=\"M 496.992159 295.94175 \nL 496.992159 24.14175 \n\" style=\"fill:none;stroke:#ffffff;stroke-linecap:square;stroke-width:0.8;\"/>\n     </g>\n     <g id=\"line2d_12\">\n      <g>\n       <use style=\"fill:#555555;stroke:#555555;stroke-width:0.8;\" x=\"496.992159\" xlink:href=\"#m935c185b3d\" y=\"295.94175\"/>\n      </g>\n     </g>\n     <g id=\"text_6\">\n      <!-- 6 -->\n      <defs>\n       <path d=\"M 33.015625 40.375 \nQ 26.375 40.375 22.484375 35.828125 \nQ 18.609375 31.296875 18.609375 23.390625 \nQ 18.609375 15.53125 22.484375 10.953125 \nQ 26.375 6.390625 33.015625 6.390625 \nQ 39.65625 6.390625 43.53125 10.953125 \nQ 47.40625 15.53125 47.40625 23.390625 \nQ 47.40625 31.296875 43.53125 35.828125 \nQ 39.65625 40.375 33.015625 40.375 \nz\nM 52.59375 71.296875 \nL 52.59375 62.3125 \nQ 48.875 64.0625 45.09375 64.984375 \nQ 41.3125 65.921875 37.59375 65.921875 \nQ 27.828125 65.921875 22.671875 59.328125 \nQ 17.53125 52.734375 16.796875 39.40625 \nQ 19.671875 43.65625 24.015625 45.921875 \nQ 28.375 48.1875 33.59375 48.1875 \nQ 44.578125 48.1875 50.953125 41.515625 \nQ 57.328125 34.859375 57.328125 23.390625 \nQ 57.328125 12.15625 50.6875 5.359375 \nQ 44.046875 -1.421875 33.015625 -1.421875 \nQ 20.359375 -1.421875 13.671875 8.265625 \nQ 6.984375 17.96875 6.984375 36.375 \nQ 6.984375 53.65625 15.1875 63.9375 \nQ 23.390625 74.21875 37.203125 74.21875 \nQ 40.921875 74.21875 44.703125 73.484375 \nQ 48.484375 72.75 52.59375 71.296875 \nz\n\" id=\"DejaVuSans-54\"/>\n      </defs>\n      <g style=\"fill:#555555;\" transform=\"translate(493.810909 310.540188)scale(0.1 -0.1)\">\n       <use xlink:href=\"#DejaVuSans-54\"/>\n      </g>\n     </g>\n    </g>\n    <g id=\"xtick_7\">\n     <g id=\"line2d_13\">\n      <path clip-path=\"url(#pa61722192d)\" d=\"M 581.537614 295.94175 \nL 581.537614 24.14175 \n\" style=\"fill:none;stroke:#ffffff;stroke-linecap:square;stroke-width:0.8;\"/>\n     </g>\n     <g id=\"line2d_14\">\n      <g>\n       <use style=\"fill:#555555;stroke:#555555;stroke-width:0.8;\" x=\"581.537614\" xlink:href=\"#m935c185b3d\" y=\"295.94175\"/>\n      </g>\n     </g>\n     <g id=\"text_7\">\n      <!-- 7 -->\n      <defs>\n       <path d=\"M 8.203125 72.90625 \nL 55.078125 72.90625 \nL 55.078125 68.703125 \nL 28.609375 0 \nL 18.3125 0 \nL 43.21875 64.59375 \nL 8.203125 64.59375 \nz\n\" id=\"DejaVuSans-55\"/>\n      </defs>\n      <g style=\"fill:#555555;\" transform=\"translate(578.356364 310.540188)scale(0.1 -0.1)\">\n       <use xlink:href=\"#DejaVuSans-55\"/>\n      </g>\n     </g>\n    </g>\n    <g id=\"text_8\">\n     <!-- n_clusters -->\n     <defs>\n      <path d=\"M 54.890625 33.015625 \nL 54.890625 0 \nL 45.90625 0 \nL 45.90625 32.71875 \nQ 45.90625 40.484375 42.875 44.328125 \nQ 39.84375 48.1875 33.796875 48.1875 \nQ 26.515625 48.1875 22.3125 43.546875 \nQ 18.109375 38.921875 18.109375 30.90625 \nL 18.109375 0 \nL 9.078125 0 \nL 9.078125 54.6875 \nL 18.109375 54.6875 \nL 18.109375 46.1875 \nQ 21.34375 51.125 25.703125 53.5625 \nQ 30.078125 56 35.796875 56 \nQ 45.21875 56 50.046875 50.171875 \nQ 54.890625 44.34375 54.890625 33.015625 \nz\n\" id=\"DejaVuSans-110\"/>\n      <path d=\"M 50.984375 -16.609375 \nL 50.984375 -23.578125 \nL -0.984375 -23.578125 \nL -0.984375 -16.609375 \nz\n\" id=\"DejaVuSans-95\"/>\n      <path d=\"M 48.78125 52.59375 \nL 48.78125 44.1875 \nQ 44.96875 46.296875 41.140625 47.34375 \nQ 37.3125 48.390625 33.40625 48.390625 \nQ 24.65625 48.390625 19.8125 42.84375 \nQ 14.984375 37.3125 14.984375 27.296875 \nQ 14.984375 17.28125 19.8125 11.734375 \nQ 24.65625 6.203125 33.40625 6.203125 \nQ 37.3125 6.203125 41.140625 7.25 \nQ 44.96875 8.296875 48.78125 10.40625 \nL 48.78125 2.09375 \nQ 45.015625 0.34375 40.984375 -0.53125 \nQ 36.96875 -1.421875 32.421875 -1.421875 \nQ 20.0625 -1.421875 12.78125 6.34375 \nQ 5.515625 14.109375 5.515625 27.296875 \nQ 5.515625 40.671875 12.859375 48.328125 \nQ 20.21875 56 33.015625 56 \nQ 37.15625 56 41.109375 55.140625 \nQ 45.0625 54.296875 48.78125 52.59375 \nz\n\" id=\"DejaVuSans-99\"/>\n      <path d=\"M 9.421875 75.984375 \nL 18.40625 75.984375 \nL 18.40625 0 \nL 9.421875 0 \nz\n\" id=\"DejaVuSans-108\"/>\n      <path d=\"M 8.5 21.578125 \nL 8.5 54.6875 \nL 17.484375 54.6875 \nL 17.484375 21.921875 \nQ 17.484375 14.15625 20.5 10.265625 \nQ 23.53125 6.390625 29.59375 6.390625 \nQ 36.859375 6.390625 41.078125 11.03125 \nQ 45.3125 15.671875 45.3125 23.6875 \nL 45.3125 54.6875 \nL 54.296875 54.6875 \nL 54.296875 0 \nL 45.3125 0 \nL 45.3125 8.40625 \nQ 42.046875 3.421875 37.71875 1 \nQ 33.40625 -1.421875 27.6875 -1.421875 \nQ 18.265625 -1.421875 13.375 4.4375 \nQ 8.5 10.296875 8.5 21.578125 \nz\nM 31.109375 56 \nz\n\" id=\"DejaVuSans-117\"/>\n      <path d=\"M 44.28125 53.078125 \nL 44.28125 44.578125 \nQ 40.484375 46.53125 36.375 47.5 \nQ 32.28125 48.484375 27.875 48.484375 \nQ 21.1875 48.484375 17.84375 46.4375 \nQ 14.5 44.390625 14.5 40.28125 \nQ 14.5 37.15625 16.890625 35.375 \nQ 19.28125 33.59375 26.515625 31.984375 \nL 29.59375 31.296875 \nQ 39.15625 29.25 43.1875 25.515625 \nQ 47.21875 21.78125 47.21875 15.09375 \nQ 47.21875 7.46875 41.1875 3.015625 \nQ 35.15625 -1.421875 24.609375 -1.421875 \nQ 20.21875 -1.421875 15.453125 -0.5625 \nQ 10.6875 0.296875 5.421875 2 \nL 5.421875 11.28125 \nQ 10.40625 8.6875 15.234375 7.390625 \nQ 20.0625 6.109375 24.8125 6.109375 \nQ 31.15625 6.109375 34.5625 8.28125 \nQ 37.984375 10.453125 37.984375 14.40625 \nQ 37.984375 18.0625 35.515625 20.015625 \nQ 33.0625 21.96875 24.703125 23.78125 \nL 21.578125 24.515625 \nQ 13.234375 26.265625 9.515625 29.90625 \nQ 5.8125 33.546875 5.8125 39.890625 \nQ 5.8125 47.609375 11.28125 51.796875 \nQ 16.75 56 26.8125 56 \nQ 31.78125 56 36.171875 55.265625 \nQ 40.578125 54.546875 44.28125 53.078125 \nz\n\" id=\"DejaVuSans-115\"/>\n      <path d=\"M 18.3125 70.21875 \nL 18.3125 54.6875 \nL 36.8125 54.6875 \nL 36.8125 47.703125 \nL 18.3125 47.703125 \nL 18.3125 18.015625 \nQ 18.3125 11.328125 20.140625 9.421875 \nQ 21.96875 7.515625 27.59375 7.515625 \nL 36.8125 7.515625 \nL 36.8125 0 \nL 27.59375 0 \nQ 17.1875 0 13.234375 3.875 \nQ 9.28125 7.765625 9.28125 18.015625 \nL 9.28125 47.703125 \nL 2.6875 47.703125 \nL 2.6875 54.6875 \nL 9.28125 54.6875 \nL 9.28125 70.21875 \nz\n\" id=\"DejaVuSans-116\"/>\n      <path d=\"M 56.203125 29.59375 \nL 56.203125 25.203125 \nL 14.890625 25.203125 \nQ 15.484375 15.921875 20.484375 11.0625 \nQ 25.484375 6.203125 34.421875 6.203125 \nQ 39.59375 6.203125 44.453125 7.46875 \nQ 49.3125 8.734375 54.109375 11.28125 \nL 54.109375 2.78125 \nQ 49.265625 0.734375 44.1875 -0.34375 \nQ 39.109375 -1.421875 33.890625 -1.421875 \nQ 20.796875 -1.421875 13.15625 6.1875 \nQ 5.515625 13.8125 5.515625 26.8125 \nQ 5.515625 40.234375 12.765625 48.109375 \nQ 20.015625 56 32.328125 56 \nQ 43.359375 56 49.78125 48.890625 \nQ 56.203125 41.796875 56.203125 29.59375 \nz\nM 47.21875 32.234375 \nQ 47.125 39.59375 43.09375 43.984375 \nQ 39.0625 48.390625 32.421875 48.390625 \nQ 24.90625 48.390625 20.390625 44.140625 \nQ 15.875 39.890625 15.1875 32.171875 \nz\n\" id=\"DejaVuSans-101\"/>\n      <path d=\"M 41.109375 46.296875 \nQ 39.59375 47.171875 37.8125 47.578125 \nQ 36.03125 48 33.890625 48 \nQ 26.265625 48 22.1875 43.046875 \nQ 18.109375 38.09375 18.109375 28.8125 \nL 18.109375 0 \nL 9.078125 0 \nL 9.078125 54.6875 \nL 18.109375 54.6875 \nL 18.109375 46.1875 \nQ 20.953125 51.171875 25.484375 53.578125 \nQ 30.03125 56 36.53125 56 \nQ 37.453125 56 38.578125 55.875 \nQ 39.703125 55.765625 41.0625 55.515625 \nz\n\" id=\"DejaVuSans-114\"/>\n     </defs>\n     <g style=\"fill:#555555;\" transform=\"translate(297.568438 325.738)scale(0.12 -0.12)\">\n      <use xlink:href=\"#DejaVuSans-110\"/>\n      <use x=\"63.378906\" xlink:href=\"#DejaVuSans-95\"/>\n      <use x=\"113.378906\" xlink:href=\"#DejaVuSans-99\"/>\n      <use x=\"168.359375\" xlink:href=\"#DejaVuSans-108\"/>\n      <use x=\"196.142578\" xlink:href=\"#DejaVuSans-117\"/>\n      <use x=\"259.521484\" xlink:href=\"#DejaVuSans-115\"/>\n      <use x=\"311.621094\" xlink:href=\"#DejaVuSans-116\"/>\n      <use x=\"350.830078\" xlink:href=\"#DejaVuSans-101\"/>\n      <use x=\"412.353516\" xlink:href=\"#DejaVuSans-114\"/>\n      <use x=\"453.466797\" xlink:href=\"#DejaVuSans-115\"/>\n     </g>\n    </g>\n   </g>\n   <g id=\"matplotlib.axis_2\">\n    <g id=\"ytick_1\">\n     <g id=\"line2d_15\">\n      <path clip-path=\"url(#pa61722192d)\" d=\"M 48.90125 295.94175 \nL 606.90125 295.94175 \n\" style=\"fill:none;stroke:#ffffff;stroke-linecap:square;stroke-width:0.8;\"/>\n     </g>\n     <g id=\"line2d_16\">\n      <defs>\n       <path d=\"M 0 0 \nL -3.5 0 \n\" id=\"m9719ebf2c8\" style=\"stroke:#555555;stroke-width:0.8;\"/>\n      </defs>\n      <g>\n       <use style=\"fill:#555555;stroke:#555555;stroke-width:0.8;\" x=\"48.90125\" xlink:href=\"#m9719ebf2c8\" y=\"295.94175\"/>\n      </g>\n     </g>\n     <g id=\"text_9\">\n      <!-- 0 -->\n      <defs>\n       <path d=\"M 31.78125 66.40625 \nQ 24.171875 66.40625 20.328125 58.90625 \nQ 16.5 51.421875 16.5 36.375 \nQ 16.5 21.390625 20.328125 13.890625 \nQ 24.171875 6.390625 31.78125 6.390625 \nQ 39.453125 6.390625 43.28125 13.890625 \nQ 47.125 21.390625 47.125 36.375 \nQ 47.125 51.421875 43.28125 58.90625 \nQ 39.453125 66.40625 31.78125 66.40625 \nz\nM 31.78125 74.21875 \nQ 44.046875 74.21875 50.515625 64.515625 \nQ 56.984375 54.828125 56.984375 36.375 \nQ 56.984375 17.96875 50.515625 8.265625 \nQ 44.046875 -1.421875 31.78125 -1.421875 \nQ 19.53125 -1.421875 13.0625 8.265625 \nQ 6.59375 17.96875 6.59375 36.375 \nQ 6.59375 54.828125 13.0625 64.515625 \nQ 19.53125 74.21875 31.78125 74.21875 \nz\n\" id=\"DejaVuSans-48\"/>\n      </defs>\n      <g style=\"fill:#555555;\" transform=\"translate(35.53875 299.740969)scale(0.1 -0.1)\">\n       <use xlink:href=\"#DejaVuSans-48\"/>\n      </g>\n     </g>\n    </g>\n    <g id=\"ytick_2\">\n     <g id=\"line2d_17\">\n      <path clip-path=\"url(#pa61722192d)\" d=\"M 48.90125 241.58175 \nL 606.90125 241.58175 \n\" style=\"fill:none;stroke:#ffffff;stroke-linecap:square;stroke-width:0.8;\"/>\n     </g>\n     <g id=\"line2d_18\">\n      <g>\n       <use style=\"fill:#555555;stroke:#555555;stroke-width:0.8;\" x=\"48.90125\" xlink:href=\"#m9719ebf2c8\" y=\"241.58175\"/>\n      </g>\n     </g>\n     <g id=\"text_10\">\n      <!-- 20 -->\n      <g style=\"fill:#555555;\" transform=\"translate(29.17625 245.380969)scale(0.1 -0.1)\">\n       <use xlink:href=\"#DejaVuSans-50\"/>\n       <use x=\"63.623047\" xlink:href=\"#DejaVuSans-48\"/>\n      </g>\n     </g>\n    </g>\n    <g id=\"ytick_3\">\n     <g id=\"line2d_19\">\n      <path clip-path=\"url(#pa61722192d)\" d=\"M 48.90125 187.22175 \nL 606.90125 187.22175 \n\" style=\"fill:none;stroke:#ffffff;stroke-linecap:square;stroke-width:0.8;\"/>\n     </g>\n     <g id=\"line2d_20\">\n      <g>\n       <use style=\"fill:#555555;stroke:#555555;stroke-width:0.8;\" x=\"48.90125\" xlink:href=\"#m9719ebf2c8\" y=\"187.22175\"/>\n      </g>\n     </g>\n     <g id=\"text_11\">\n      <!-- 40 -->\n      <g style=\"fill:#555555;\" transform=\"translate(29.17625 191.020969)scale(0.1 -0.1)\">\n       <use xlink:href=\"#DejaVuSans-52\"/>\n       <use x=\"63.623047\" xlink:href=\"#DejaVuSans-48\"/>\n      </g>\n     </g>\n    </g>\n    <g id=\"ytick_4\">\n     <g id=\"line2d_21\">\n      <path clip-path=\"url(#pa61722192d)\" d=\"M 48.90125 132.86175 \nL 606.90125 132.86175 \n\" style=\"fill:none;stroke:#ffffff;stroke-linecap:square;stroke-width:0.8;\"/>\n     </g>\n     <g id=\"line2d_22\">\n      <g>\n       <use style=\"fill:#555555;stroke:#555555;stroke-width:0.8;\" x=\"48.90125\" xlink:href=\"#m9719ebf2c8\" y=\"132.86175\"/>\n      </g>\n     </g>\n     <g id=\"text_12\">\n      <!-- 60 -->\n      <g style=\"fill:#555555;\" transform=\"translate(29.17625 136.660969)scale(0.1 -0.1)\">\n       <use xlink:href=\"#DejaVuSans-54\"/>\n       <use x=\"63.623047\" xlink:href=\"#DejaVuSans-48\"/>\n      </g>\n     </g>\n    </g>\n    <g id=\"ytick_5\">\n     <g id=\"line2d_23\">\n      <path clip-path=\"url(#pa61722192d)\" d=\"M 48.90125 78.50175 \nL 606.90125 78.50175 \n\" style=\"fill:none;stroke:#ffffff;stroke-linecap:square;stroke-width:0.8;\"/>\n     </g>\n     <g id=\"line2d_24\">\n      <g>\n       <use style=\"fill:#555555;stroke:#555555;stroke-width:0.8;\" x=\"48.90125\" xlink:href=\"#m9719ebf2c8\" y=\"78.50175\"/>\n      </g>\n     </g>\n     <g id=\"text_13\">\n      <!-- 80 -->\n      <defs>\n       <path d=\"M 31.78125 34.625 \nQ 24.75 34.625 20.71875 30.859375 \nQ 16.703125 27.09375 16.703125 20.515625 \nQ 16.703125 13.921875 20.71875 10.15625 \nQ 24.75 6.390625 31.78125 6.390625 \nQ 38.8125 6.390625 42.859375 10.171875 \nQ 46.921875 13.96875 46.921875 20.515625 \nQ 46.921875 27.09375 42.890625 30.859375 \nQ 38.875 34.625 31.78125 34.625 \nz\nM 21.921875 38.8125 \nQ 15.578125 40.375 12.03125 44.71875 \nQ 8.5 49.078125 8.5 55.328125 \nQ 8.5 64.0625 14.71875 69.140625 \nQ 20.953125 74.21875 31.78125 74.21875 \nQ 42.671875 74.21875 48.875 69.140625 \nQ 55.078125 64.0625 55.078125 55.328125 \nQ 55.078125 49.078125 51.53125 44.71875 \nQ 48 40.375 41.703125 38.8125 \nQ 48.828125 37.15625 52.796875 32.3125 \nQ 56.78125 27.484375 56.78125 20.515625 \nQ 56.78125 9.90625 50.3125 4.234375 \nQ 43.84375 -1.421875 31.78125 -1.421875 \nQ 19.734375 -1.421875 13.25 4.234375 \nQ 6.78125 9.90625 6.78125 20.515625 \nQ 6.78125 27.484375 10.78125 32.3125 \nQ 14.796875 37.15625 21.921875 38.8125 \nz\nM 18.3125 54.390625 \nQ 18.3125 48.734375 21.84375 45.5625 \nQ 25.390625 42.390625 31.78125 42.390625 \nQ 38.140625 42.390625 41.71875 45.5625 \nQ 45.3125 48.734375 45.3125 54.390625 \nQ 45.3125 60.0625 41.71875 63.234375 \nQ 38.140625 66.40625 31.78125 66.40625 \nQ 25.390625 66.40625 21.84375 63.234375 \nQ 18.3125 60.0625 18.3125 54.390625 \nz\n\" id=\"DejaVuSans-56\"/>\n      </defs>\n      <g style=\"fill:#555555;\" transform=\"translate(29.17625 82.300969)scale(0.1 -0.1)\">\n       <use xlink:href=\"#DejaVuSans-56\"/>\n       <use x=\"63.623047\" xlink:href=\"#DejaVuSans-48\"/>\n      </g>\n     </g>\n    </g>\n    <g id=\"ytick_6\">\n     <g id=\"line2d_25\">\n      <path clip-path=\"url(#pa61722192d)\" d=\"M 48.90125 24.14175 \nL 606.90125 24.14175 \n\" style=\"fill:none;stroke:#ffffff;stroke-linecap:square;stroke-width:0.8;\"/>\n     </g>\n     <g id=\"line2d_26\">\n      <g>\n       <use style=\"fill:#555555;stroke:#555555;stroke-width:0.8;\" x=\"48.90125\" xlink:href=\"#m9719ebf2c8\" y=\"24.14175\"/>\n      </g>\n     </g>\n     <g id=\"text_14\">\n      <!-- 100 -->\n      <g style=\"fill:#555555;\" transform=\"translate(22.81375 27.940969)scale(0.1 -0.1)\">\n       <use xlink:href=\"#DejaVuSans-49\"/>\n       <use x=\"63.623047\" xlink:href=\"#DejaVuSans-48\"/>\n       <use x=\"127.246094\" xlink:href=\"#DejaVuSans-48\"/>\n      </g>\n     </g>\n    </g>\n    <g id=\"text_15\">\n     <!-- Percentage of variance explained -->\n     <defs>\n      <path d=\"M 19.671875 64.796875 \nL 19.671875 37.40625 \nL 32.078125 37.40625 \nQ 38.96875 37.40625 42.71875 40.96875 \nQ 46.484375 44.53125 46.484375 51.125 \nQ 46.484375 57.671875 42.71875 61.234375 \nQ 38.96875 64.796875 32.078125 64.796875 \nz\nM 9.8125 72.90625 \nL 32.078125 72.90625 \nQ 44.34375 72.90625 50.609375 67.359375 \nQ 56.890625 61.8125 56.890625 51.125 \nQ 56.890625 40.328125 50.609375 34.8125 \nQ 44.34375 29.296875 32.078125 29.296875 \nL 19.671875 29.296875 \nL 19.671875 0 \nL 9.8125 0 \nz\n\" id=\"DejaVuSans-80\"/>\n      <path d=\"M 34.28125 27.484375 \nQ 23.390625 27.484375 19.1875 25 \nQ 14.984375 22.515625 14.984375 16.5 \nQ 14.984375 11.71875 18.140625 8.90625 \nQ 21.296875 6.109375 26.703125 6.109375 \nQ 34.1875 6.109375 38.703125 11.40625 \nQ 43.21875 16.703125 43.21875 25.484375 \nL 43.21875 27.484375 \nz\nM 52.203125 31.203125 \nL 52.203125 0 \nL 43.21875 0 \nL 43.21875 8.296875 \nQ 40.140625 3.328125 35.546875 0.953125 \nQ 30.953125 -1.421875 24.3125 -1.421875 \nQ 15.921875 -1.421875 10.953125 3.296875 \nQ 6 8.015625 6 15.921875 \nQ 6 25.140625 12.171875 29.828125 \nQ 18.359375 34.515625 30.609375 34.515625 \nL 43.21875 34.515625 \nL 43.21875 35.40625 \nQ 43.21875 41.609375 39.140625 45 \nQ 35.0625 48.390625 27.6875 48.390625 \nQ 23 48.390625 18.546875 47.265625 \nQ 14.109375 46.140625 10.015625 43.890625 \nL 10.015625 52.203125 \nQ 14.9375 54.109375 19.578125 55.046875 \nQ 24.21875 56 28.609375 56 \nQ 40.484375 56 46.34375 49.84375 \nQ 52.203125 43.703125 52.203125 31.203125 \nz\n\" id=\"DejaVuSans-97\"/>\n      <path d=\"M 45.40625 27.984375 \nQ 45.40625 37.75 41.375 43.109375 \nQ 37.359375 48.484375 30.078125 48.484375 \nQ 22.859375 48.484375 18.828125 43.109375 \nQ 14.796875 37.75 14.796875 27.984375 \nQ 14.796875 18.265625 18.828125 12.890625 \nQ 22.859375 7.515625 30.078125 7.515625 \nQ 37.359375 7.515625 41.375 12.890625 \nQ 45.40625 18.265625 45.40625 27.984375 \nz\nM 54.390625 6.78125 \nQ 54.390625 -7.171875 48.1875 -13.984375 \nQ 42 -20.796875 29.203125 -20.796875 \nQ 24.46875 -20.796875 20.265625 -20.09375 \nQ 16.0625 -19.390625 12.109375 -17.921875 \nL 12.109375 -9.1875 \nQ 16.0625 -11.328125 19.921875 -12.34375 \nQ 23.78125 -13.375 27.78125 -13.375 \nQ 36.625 -13.375 41.015625 -8.765625 \nQ 45.40625 -4.15625 45.40625 5.171875 \nL 45.40625 9.625 \nQ 42.625 4.78125 38.28125 2.390625 \nQ 33.9375 0 27.875 0 \nQ 17.828125 0 11.671875 7.65625 \nQ 5.515625 15.328125 5.515625 27.984375 \nQ 5.515625 40.671875 11.671875 48.328125 \nQ 17.828125 56 27.875 56 \nQ 33.9375 56 38.28125 53.609375 \nQ 42.625 51.21875 45.40625 46.390625 \nL 45.40625 54.6875 \nL 54.390625 54.6875 \nz\n\" id=\"DejaVuSans-103\"/>\n      <path id=\"DejaVuSans-32\"/>\n      <path d=\"M 30.609375 48.390625 \nQ 23.390625 48.390625 19.1875 42.75 \nQ 14.984375 37.109375 14.984375 27.296875 \nQ 14.984375 17.484375 19.15625 11.84375 \nQ 23.34375 6.203125 30.609375 6.203125 \nQ 37.796875 6.203125 41.984375 11.859375 \nQ 46.1875 17.53125 46.1875 27.296875 \nQ 46.1875 37.015625 41.984375 42.703125 \nQ 37.796875 48.390625 30.609375 48.390625 \nz\nM 30.609375 56 \nQ 42.328125 56 49.015625 48.375 \nQ 55.71875 40.765625 55.71875 27.296875 \nQ 55.71875 13.875 49.015625 6.21875 \nQ 42.328125 -1.421875 30.609375 -1.421875 \nQ 18.84375 -1.421875 12.171875 6.21875 \nQ 5.515625 13.875 5.515625 27.296875 \nQ 5.515625 40.765625 12.171875 48.375 \nQ 18.84375 56 30.609375 56 \nz\n\" id=\"DejaVuSans-111\"/>\n      <path d=\"M 37.109375 75.984375 \nL 37.109375 68.5 \nL 28.515625 68.5 \nQ 23.6875 68.5 21.796875 66.546875 \nQ 19.921875 64.59375 19.921875 59.515625 \nL 19.921875 54.6875 \nL 34.71875 54.6875 \nL 34.71875 47.703125 \nL 19.921875 47.703125 \nL 19.921875 0 \nL 10.890625 0 \nL 10.890625 47.703125 \nL 2.296875 47.703125 \nL 2.296875 54.6875 \nL 10.890625 54.6875 \nL 10.890625 58.5 \nQ 10.890625 67.625 15.140625 71.796875 \nQ 19.390625 75.984375 28.609375 75.984375 \nz\n\" id=\"DejaVuSans-102\"/>\n      <path d=\"M 2.984375 54.6875 \nL 12.5 54.6875 \nL 29.59375 8.796875 \nL 46.6875 54.6875 \nL 56.203125 54.6875 \nL 35.6875 0 \nL 23.484375 0 \nz\n\" id=\"DejaVuSans-118\"/>\n      <path d=\"M 9.421875 54.6875 \nL 18.40625 54.6875 \nL 18.40625 0 \nL 9.421875 0 \nz\nM 9.421875 75.984375 \nL 18.40625 75.984375 \nL 18.40625 64.59375 \nL 9.421875 64.59375 \nz\n\" id=\"DejaVuSans-105\"/>\n      <path d=\"M 54.890625 54.6875 \nL 35.109375 28.078125 \nL 55.90625 0 \nL 45.3125 0 \nL 29.390625 21.484375 \nL 13.484375 0 \nL 2.875 0 \nL 24.125 28.609375 \nL 4.6875 54.6875 \nL 15.28125 54.6875 \nL 29.78125 35.203125 \nL 44.28125 54.6875 \nz\n\" id=\"DejaVuSans-120\"/>\n      <path d=\"M 18.109375 8.203125 \nL 18.109375 -20.796875 \nL 9.078125 -20.796875 \nL 9.078125 54.6875 \nL 18.109375 54.6875 \nL 18.109375 46.390625 \nQ 20.953125 51.265625 25.265625 53.625 \nQ 29.59375 56 35.59375 56 \nQ 45.5625 56 51.78125 48.09375 \nQ 58.015625 40.1875 58.015625 27.296875 \nQ 58.015625 14.40625 51.78125 6.484375 \nQ 45.5625 -1.421875 35.59375 -1.421875 \nQ 29.59375 -1.421875 25.265625 0.953125 \nQ 20.953125 3.328125 18.109375 8.203125 \nz\nM 48.6875 27.296875 \nQ 48.6875 37.203125 44.609375 42.84375 \nQ 40.53125 48.484375 33.40625 48.484375 \nQ 26.265625 48.484375 22.1875 42.84375 \nQ 18.109375 37.203125 18.109375 27.296875 \nQ 18.109375 17.390625 22.1875 11.75 \nQ 26.265625 6.109375 33.40625 6.109375 \nQ 40.53125 6.109375 44.609375 11.75 \nQ 48.6875 17.390625 48.6875 27.296875 \nz\n\" id=\"DejaVuSans-112\"/>\n      <path d=\"M 45.40625 46.390625 \nL 45.40625 75.984375 \nL 54.390625 75.984375 \nL 54.390625 0 \nL 45.40625 0 \nL 45.40625 8.203125 \nQ 42.578125 3.328125 38.25 0.953125 \nQ 33.9375 -1.421875 27.875 -1.421875 \nQ 17.96875 -1.421875 11.734375 6.484375 \nQ 5.515625 14.40625 5.515625 27.296875 \nQ 5.515625 40.1875 11.734375 48.09375 \nQ 17.96875 56 27.875 56 \nQ 33.9375 56 38.25 53.625 \nQ 42.578125 51.265625 45.40625 46.390625 \nz\nM 14.796875 27.296875 \nQ 14.796875 17.390625 18.875 11.75 \nQ 22.953125 6.109375 30.078125 6.109375 \nQ 37.203125 6.109375 41.296875 11.75 \nQ 45.40625 17.390625 45.40625 27.296875 \nQ 45.40625 37.203125 41.296875 42.84375 \nQ 37.203125 48.484375 30.078125 48.484375 \nQ 22.953125 48.484375 18.875 42.84375 \nQ 14.796875 37.203125 14.796875 27.296875 \nz\n\" id=\"DejaVuSans-100\"/>\n     </defs>\n     <g style=\"fill:#555555;\" transform=\"translate(16.318125 260.386125)rotate(-90)scale(0.12 -0.12)\">\n      <use xlink:href=\"#DejaVuSans-80\"/>\n      <use x=\"56.677734\" xlink:href=\"#DejaVuSans-101\"/>\n      <use x=\"118.201172\" xlink:href=\"#DejaVuSans-114\"/>\n      <use x=\"157.064453\" xlink:href=\"#DejaVuSans-99\"/>\n      <use x=\"212.044922\" xlink:href=\"#DejaVuSans-101\"/>\n      <use x=\"273.568359\" xlink:href=\"#DejaVuSans-110\"/>\n      <use x=\"336.947266\" xlink:href=\"#DejaVuSans-116\"/>\n      <use x=\"376.15625\" xlink:href=\"#DejaVuSans-97\"/>\n      <use x=\"437.435547\" xlink:href=\"#DejaVuSans-103\"/>\n      <use x=\"500.912109\" xlink:href=\"#DejaVuSans-101\"/>\n      <use x=\"562.435547\" xlink:href=\"#DejaVuSans-32\"/>\n      <use x=\"594.222656\" xlink:href=\"#DejaVuSans-111\"/>\n      <use x=\"655.404297\" xlink:href=\"#DejaVuSans-102\"/>\n      <use x=\"690.609375\" xlink:href=\"#DejaVuSans-32\"/>\n      <use x=\"722.396484\" xlink:href=\"#DejaVuSans-118\"/>\n      <use x=\"781.576172\" xlink:href=\"#DejaVuSans-97\"/>\n      <use x=\"842.855469\" xlink:href=\"#DejaVuSans-114\"/>\n      <use x=\"883.96875\" xlink:href=\"#DejaVuSans-105\"/>\n      <use x=\"911.751953\" xlink:href=\"#DejaVuSans-97\"/>\n      <use x=\"973.03125\" xlink:href=\"#DejaVuSans-110\"/>\n      <use x=\"1036.410156\" xlink:href=\"#DejaVuSans-99\"/>\n      <use x=\"1091.390625\" xlink:href=\"#DejaVuSans-101\"/>\n      <use x=\"1152.914062\" xlink:href=\"#DejaVuSans-32\"/>\n      <use x=\"1184.701172\" xlink:href=\"#DejaVuSans-101\"/>\n      <use x=\"1244.474609\" xlink:href=\"#DejaVuSans-120\"/>\n      <use x=\"1303.654297\" xlink:href=\"#DejaVuSans-112\"/>\n      <use x=\"1367.130859\" xlink:href=\"#DejaVuSans-108\"/>\n      <use x=\"1394.914062\" xlink:href=\"#DejaVuSans-97\"/>\n      <use x=\"1456.193359\" xlink:href=\"#DejaVuSans-105\"/>\n      <use x=\"1483.976562\" xlink:href=\"#DejaVuSans-110\"/>\n      <use x=\"1547.355469\" xlink:href=\"#DejaVuSans-101\"/>\n      <use x=\"1608.878906\" xlink:href=\"#DejaVuSans-100\"/>\n     </g>\n    </g>\n   </g>\n   <g id=\"line2d_27\">\n    <path clip-path=\"url(#pa61722192d)\" d=\"M 74.264886 182.625715 \nL 158.810341 118.411148 \nL 243.355795 65.45229 \nL 327.90125 56.624259 \nL 412.446705 50.052651 \nL 496.992159 44.703891 \nL 581.537614 42.058789 \n\" style=\"fill:none;stroke:#4682b4;stroke-linecap:square;stroke-width:2.5;\"/>\n    <defs>\n     <path d=\"M 0 -3 \nL -0.673542 -0.927051 \nL -2.85317 -0.927051 \nL -1.089814 0.354102 \nL -1.763356 2.427051 \nL -0 1.145898 \nL 1.763356 2.427051 \nL 1.089814 0.354102 \nL 2.85317 -0.927051 \nL 0.673542 -0.927051 \nz\n\" id=\"m7b60479793\" style=\"stroke:#4682b4;stroke-linejoin:bevel;\"/>\n    </defs>\n    <g clip-path=\"url(#pa61722192d)\">\n     <use style=\"fill:#4682b4;stroke:#4682b4;stroke-linejoin:bevel;\" x=\"74.264886\" xlink:href=\"#m7b60479793\" y=\"182.625715\"/>\n     <use style=\"fill:#4682b4;stroke:#4682b4;stroke-linejoin:bevel;\" x=\"158.810341\" xlink:href=\"#m7b60479793\" y=\"118.411148\"/>\n     <use style=\"fill:#4682b4;stroke:#4682b4;stroke-linejoin:bevel;\" x=\"243.355795\" xlink:href=\"#m7b60479793\" y=\"65.45229\"/>\n     <use style=\"fill:#4682b4;stroke:#4682b4;stroke-linejoin:bevel;\" x=\"327.90125\" xlink:href=\"#m7b60479793\" y=\"56.624259\"/>\n     <use style=\"fill:#4682b4;stroke:#4682b4;stroke-linejoin:bevel;\" x=\"412.446705\" xlink:href=\"#m7b60479793\" y=\"50.052651\"/>\n     <use style=\"fill:#4682b4;stroke:#4682b4;stroke-linejoin:bevel;\" x=\"496.992159\" xlink:href=\"#m7b60479793\" y=\"44.703891\"/>\n     <use style=\"fill:#4682b4;stroke:#4682b4;stroke-linejoin:bevel;\" x=\"581.537614\" xlink:href=\"#m7b60479793\" y=\"42.058789\"/>\n    </g>\n   </g>\n   <g id=\"patch_3\">\n    <path d=\"M 48.90125 295.94175 \nL 48.90125 24.14175 \n\" style=\"fill:none;stroke:#ffffff;stroke-linecap:square;stroke-linejoin:miter;\"/>\n   </g>\n   <g id=\"patch_4\">\n    <path d=\"M 606.90125 295.94175 \nL 606.90125 24.14175 \n\" style=\"fill:none;stroke:#ffffff;stroke-linecap:square;stroke-linejoin:miter;\"/>\n   </g>\n   <g id=\"patch_5\">\n    <path d=\"M 48.90125 295.94175 \nL 606.90125 295.94175 \n\" style=\"fill:none;stroke:#ffffff;stroke-linecap:square;stroke-linejoin:miter;\"/>\n   </g>\n   <g id=\"patch_6\">\n    <path d=\"M 48.90125 24.14175 \nL 606.90125 24.14175 \n\" style=\"fill:none;stroke:#ffffff;stroke-linecap:square;stroke-linejoin:miter;\"/>\n   </g>\n   <g id=\"text_16\">\n    <!-- Variance explained vs. k -->\n    <defs>\n     <path d=\"M 28.609375 0 \nL 0.78125 72.90625 \nL 11.078125 72.90625 \nL 34.1875 11.53125 \nL 57.328125 72.90625 \nL 67.578125 72.90625 \nL 39.796875 0 \nz\n\" id=\"DejaVuSans-86\"/>\n     <path d=\"M 10.6875 12.40625 \nL 21 12.40625 \nL 21 0 \nL 10.6875 0 \nz\n\" id=\"DejaVuSans-46\"/>\n     <path d=\"M 9.078125 75.984375 \nL 18.109375 75.984375 \nL 18.109375 31.109375 \nL 44.921875 54.6875 \nL 56.390625 54.6875 \nL 27.390625 29.109375 \nL 57.625 0 \nL 45.90625 0 \nL 18.109375 26.703125 \nL 18.109375 0 \nL 9.078125 0 \nz\n\" id=\"DejaVuSans-107\"/>\n    </defs>\n    <g transform=\"translate(240.34925 18.14175)scale(0.144 -0.144)\">\n     <use xlink:href=\"#DejaVuSans-86\"/>\n     <use x=\"60.658203\" xlink:href=\"#DejaVuSans-97\"/>\n     <use x=\"121.9375\" xlink:href=\"#DejaVuSans-114\"/>\n     <use x=\"163.050781\" xlink:href=\"#DejaVuSans-105\"/>\n     <use x=\"190.833984\" xlink:href=\"#DejaVuSans-97\"/>\n     <use x=\"252.113281\" xlink:href=\"#DejaVuSans-110\"/>\n     <use x=\"315.492188\" xlink:href=\"#DejaVuSans-99\"/>\n     <use x=\"370.472656\" xlink:href=\"#DejaVuSans-101\"/>\n     <use x=\"431.996094\" xlink:href=\"#DejaVuSans-32\"/>\n     <use x=\"463.783203\" xlink:href=\"#DejaVuSans-101\"/>\n     <use x=\"523.556641\" xlink:href=\"#DejaVuSans-120\"/>\n     <use x=\"582.736328\" xlink:href=\"#DejaVuSans-112\"/>\n     <use x=\"646.212891\" xlink:href=\"#DejaVuSans-108\"/>\n     <use x=\"673.996094\" xlink:href=\"#DejaVuSans-97\"/>\n     <use x=\"735.275391\" xlink:href=\"#DejaVuSans-105\"/>\n     <use x=\"763.058594\" xlink:href=\"#DejaVuSans-110\"/>\n     <use x=\"826.4375\" xlink:href=\"#DejaVuSans-101\"/>\n     <use x=\"887.960938\" xlink:href=\"#DejaVuSans-100\"/>\n     <use x=\"951.4375\" xlink:href=\"#DejaVuSans-32\"/>\n     <use x=\"983.224609\" xlink:href=\"#DejaVuSans-118\"/>\n     <use x=\"1042.404297\" xlink:href=\"#DejaVuSans-115\"/>\n     <use x=\"1094.503906\" xlink:href=\"#DejaVuSans-46\"/>\n     <use x=\"1126.291016\" xlink:href=\"#DejaVuSans-32\"/>\n     <use x=\"1158.078125\" xlink:href=\"#DejaVuSans-107\"/>\n    </g>\n   </g>\n  </g>\n </g>\n <defs>\n  <clipPath id=\"pa61722192d\">\n   <rect height=\"271.8\" width=\"558\" x=\"48.90125\" y=\"24.14175\"/>\n  </clipPath>\n </defs>\n</svg>\n"
          },
          "metadata": {
            "tags": []
          }
        }
      ]
    },
    {
      "cell_type": "markdown",
      "metadata": {
        "id": "LPwuOIpIDtrE",
        "colab_type": "text"
      },
      "source": [
        "\n",
        "\n",
        "Se ha demostrado que los resultados obtenidos por ambos métodos son consistentes y por lo tanto estadisticamente robustos. Podemos entonces concluir que existen tres segmentos en nuestros datos."
      ]
    },
    {
      "cell_type": "markdown",
      "metadata": {
        "id": "BXBjvr5WDtrF",
        "colab_type": "text"
      },
      "source": [
        "\n",
        "\n",
        "### h) Perfil de los segmentos\n",
        "\n",
        "Habiendo decidido por el momento cuantos clusters usar, vamos a perfilar qué tipo de clientes pertencen a cada segmento. Para ellos vamos a describir cada segmento mediante la media de cada atributo por segmento. Usando los resultados obtenidos con el método de clustering jerárquico, tenemos:"
      ]
    },
    {
      "cell_type": "code",
      "metadata": {
        "id": "hUs95BYeDtrF",
        "colab_type": "code",
        "colab": {
          "base_uri": "https://localhost:8080/",
          "height": 390
        },
        "outputId": "614f9f14-0b6d-4d9c-e92c-88af0d4e6d0d"
      },
      "source": [
        "hierarchical_profile = pd.DataFrame({\n",
        "    'population': raw_data.apply(np.mean, axis=0),\n",
        "    'segment.1': raw_data[raw_data['cluster_h'] == 1].apply(np.mean, axis=0),\n",
        "    'segment.2': raw_data[raw_data['cluster_h'] == 2].apply(np.mean, axis=0),\n",
        "    'segment.3': raw_data[raw_data['cluster_h'] == 3].apply(np.mean, axis=0)})\n",
        "\n",
        "hierarchical_profile = pd.DataFrame({\n",
        "    'population': data_norm.apply(np.mean, axis=0),\n",
        "    'segment.1': data_norm[data_norm['cluster_h'] == 1].apply(np.mean, axis=0),\n",
        "    'segment.2': data_norm[data_norm['cluster_h'] == 2].apply(np.mean, axis=0),\n",
        "    'segment.3': data_norm[data_norm['cluster_h'] == 3].apply(np.mean, axis=0)})\n",
        "\n",
        "hierarchical_profile"
      ],
      "execution_count": null,
      "outputs": [
        {
          "output_type": "execute_result",
          "data": {
            "text/html": [
              "<div>\n",
              "<style scoped>\n",
              "    .dataframe tbody tr th:only-of-type {\n",
              "        vertical-align: middle;\n",
              "    }\n",
              "\n",
              "    .dataframe tbody tr th {\n",
              "        vertical-align: top;\n",
              "    }\n",
              "\n",
              "    .dataframe thead th {\n",
              "        text-align: right;\n",
              "    }\n",
              "</style>\n",
              "<table border=\"1\" class=\"dataframe\">\n",
              "  <thead>\n",
              "    <tr style=\"text-align: right;\">\n",
              "      <th></th>\n",
              "      <th>population</th>\n",
              "      <th>segment.1</th>\n",
              "      <th>segment.2</th>\n",
              "      <th>segment.3</th>\n",
              "    </tr>\n",
              "  </thead>\n",
              "  <tbody>\n",
              "    <tr>\n",
              "      <th>ID</th>\n",
              "      <td>4.440892e-17</td>\n",
              "      <td>-1.624305e-01</td>\n",
              "      <td>-0.043315</td>\n",
              "      <td>0.259889</td>\n",
              "    </tr>\n",
              "    <tr>\n",
              "      <th>V1</th>\n",
              "      <td>-3.053113e-17</td>\n",
              "      <td>1.026278e+00</td>\n",
              "      <td>-1.179319</td>\n",
              "      <td>-0.189051</td>\n",
              "    </tr>\n",
              "    <tr>\n",
              "      <th>V2</th>\n",
              "      <td>2.664535e-16</td>\n",
              "      <td>-3.455117e-01</td>\n",
              "      <td>-0.800132</td>\n",
              "      <td>1.260814</td>\n",
              "    </tr>\n",
              "    <tr>\n",
              "      <th>V3</th>\n",
              "      <td>-9.159340e-17</td>\n",
              "      <td>1.045116e+00</td>\n",
              "      <td>-1.079104</td>\n",
              "      <td>-0.314385</td>\n",
              "    </tr>\n",
              "    <tr>\n",
              "      <th>V4</th>\n",
              "      <td>1.828399e-16</td>\n",
              "      <td>-6.588439e-01</td>\n",
              "      <td>-0.405442</td>\n",
              "      <td>1.283901</td>\n",
              "    </tr>\n",
              "    <tr>\n",
              "      <th>V5</th>\n",
              "      <td>-1.110223e-16</td>\n",
              "      <td>-9.173893e-01</td>\n",
              "      <td>1.194062</td>\n",
              "      <td>0.029123</td>\n",
              "    </tr>\n",
              "    <tr>\n",
              "      <th>V6</th>\n",
              "      <td>2.664535e-16</td>\n",
              "      <td>-3.256558e-01</td>\n",
              "      <td>-0.697018</td>\n",
              "      <td>1.131225</td>\n",
              "    </tr>\n",
              "    <tr>\n",
              "      <th>Income</th>\n",
              "      <td>0.000000e+00</td>\n",
              "      <td>8.235294e-01</td>\n",
              "      <td>-0.205882</td>\n",
              "      <td>-0.892157</td>\n",
              "    </tr>\n",
              "    <tr>\n",
              "      <th>Mall.Visits</th>\n",
              "      <td>-5.551115e-18</td>\n",
              "      <td>-2.428613e-17</td>\n",
              "      <td>-1.171700</td>\n",
              "      <td>1.171700</td>\n",
              "    </tr>\n",
              "    <tr>\n",
              "      <th>cluster_h</th>\n",
              "      <td>1.900000e+00</td>\n",
              "      <td>1.000000e+00</td>\n",
              "      <td>2.000000</td>\n",
              "      <td>3.000000</td>\n",
              "    </tr>\n",
              "    <tr>\n",
              "      <th>cluster_k</th>\n",
              "      <td>1.000000e+00</td>\n",
              "      <td>1.000000e+00</td>\n",
              "      <td>0.000000</td>\n",
              "      <td>2.000000</td>\n",
              "    </tr>\n",
              "  </tbody>\n",
              "</table>\n",
              "</div>"
            ],
            "text/plain": [
              "               population     segment.1  segment.2  segment.3\n",
              "ID           4.440892e-17 -1.624305e-01  -0.043315   0.259889\n",
              "V1          -3.053113e-17  1.026278e+00  -1.179319  -0.189051\n",
              "V2           2.664535e-16 -3.455117e-01  -0.800132   1.260814\n",
              "V3          -9.159340e-17  1.045116e+00  -1.079104  -0.314385\n",
              "V4           1.828399e-16 -6.588439e-01  -0.405442   1.283901\n",
              "V5          -1.110223e-16 -9.173893e-01   1.194062   0.029123\n",
              "V6           2.664535e-16 -3.256558e-01  -0.697018   1.131225\n",
              "Income       0.000000e+00  8.235294e-01  -0.205882  -0.892157\n",
              "Mall.Visits -5.551115e-18 -2.428613e-17  -1.171700   1.171700\n",
              "cluster_h    1.900000e+00  1.000000e+00   2.000000   3.000000\n",
              "cluster_k    1.000000e+00  1.000000e+00   0.000000   2.000000"
            ]
          },
          "metadata": {
            "tags": []
          },
          "execution_count": 31
        }
      ]
    },
    {
      "cell_type": "markdown",
      "metadata": {
        "id": "WiVGKh_ODtrH",
        "colab_type": "text"
      },
      "source": [
        "\n",
        "\n",
        "También podemos obtener una representación similar usando los resultados obtenidos con k-means:"
      ]
    },
    {
      "cell_type": "code",
      "metadata": {
        "id": "EB1LvrfJDtrJ",
        "colab_type": "code",
        "colab": {
          "base_uri": "https://localhost:8080/",
          "height": 390
        },
        "outputId": "8c1961f3-442e-4fb7-dd9b-784ae306da98"
      },
      "source": [
        "profile_kmeans = pd.DataFrame({\n",
        "    'population': raw_data.apply(np.mean, axis=0),\n",
        "    'segment.1': raw_data[raw_data['cluster_k'] == 1].apply(np.mean, axis=0),\n",
        "    'segment.2': raw_data[raw_data['cluster_k'] == 2].apply(np.mean, axis=0),\n",
        "    'segment.3': raw_data[raw_data['cluster_k'] == 0].apply(np.mean, axis=0)})\n",
        "\n",
        "profile_kmeans_norm = pd.DataFrame({\n",
        "    'population': data_norm.apply(np.mean, axis=0),\n",
        "    'segment.1': data_norm[data_norm['cluster_k'] == 1].apply(np.mean, axis=0),\n",
        "    'segment.2': data_norm[data_norm['cluster_k'] == 2].apply(np.mean, axis=0),\n",
        "    'segment.3': data_norm[data_norm['cluster_k'] == 0].apply(np.mean, axis=0)})\n",
        "profile_kmeans"
      ],
      "execution_count": null,
      "outputs": [
        {
          "output_type": "execute_result",
          "data": {
            "text/html": [
              "<div>\n",
              "<style scoped>\n",
              "    .dataframe tbody tr th:only-of-type {\n",
              "        vertical-align: middle;\n",
              "    }\n",
              "\n",
              "    .dataframe tbody tr th {\n",
              "        vertical-align: top;\n",
              "    }\n",
              "\n",
              "    .dataframe thead th {\n",
              "        text-align: right;\n",
              "    }\n",
              "</style>\n",
              "<table border=\"1\" class=\"dataframe\">\n",
              "  <thead>\n",
              "    <tr style=\"text-align: right;\">\n",
              "      <th></th>\n",
              "      <th>population</th>\n",
              "      <th>segment.1</th>\n",
              "      <th>segment.2</th>\n",
              "      <th>segment.3</th>\n",
              "    </tr>\n",
              "  </thead>\n",
              "  <tbody>\n",
              "    <tr>\n",
              "      <th>ID</th>\n",
              "      <td>20.50</td>\n",
              "      <td>20.000000</td>\n",
              "      <td>23.500000</td>\n",
              "      <td>18.625</td>\n",
              "    </tr>\n",
              "    <tr>\n",
              "      <th>V1</th>\n",
              "      <td>3.85</td>\n",
              "      <td>1.666667</td>\n",
              "      <td>3.500000</td>\n",
              "      <td>5.750</td>\n",
              "    </tr>\n",
              "    <tr>\n",
              "      <th>V2</th>\n",
              "      <td>4.10</td>\n",
              "      <td>3.000000</td>\n",
              "      <td>5.833333</td>\n",
              "      <td>3.625</td>\n",
              "    </tr>\n",
              "    <tr>\n",
              "      <th>V3</th>\n",
              "      <td>3.95</td>\n",
              "      <td>1.833333</td>\n",
              "      <td>3.333333</td>\n",
              "      <td>6.000</td>\n",
              "    </tr>\n",
              "    <tr>\n",
              "      <th>V4</th>\n",
              "      <td>4.10</td>\n",
              "      <td>3.500000</td>\n",
              "      <td>6.000000</td>\n",
              "      <td>3.125</td>\n",
              "    </tr>\n",
              "    <tr>\n",
              "      <th>V5</th>\n",
              "      <td>3.45</td>\n",
              "      <td>5.500000</td>\n",
              "      <td>3.500000</td>\n",
              "      <td>1.875</td>\n",
              "    </tr>\n",
              "    <tr>\n",
              "      <th>V6</th>\n",
              "      <td>4.35</td>\n",
              "      <td>3.333333</td>\n",
              "      <td>6.000000</td>\n",
              "      <td>3.875</td>\n",
              "    </tr>\n",
              "    <tr>\n",
              "      <th>Income</th>\n",
              "      <td>46000.00</td>\n",
              "      <td>42500.000000</td>\n",
              "      <td>30833.333333</td>\n",
              "      <td>60000.000</td>\n",
              "    </tr>\n",
              "    <tr>\n",
              "      <th>Mall.Visits</th>\n",
              "      <td>3.25</td>\n",
              "      <td>1.000000</td>\n",
              "      <td>5.500000</td>\n",
              "      <td>3.250</td>\n",
              "    </tr>\n",
              "    <tr>\n",
              "      <th>cluster_h</th>\n",
              "      <td>1.90</td>\n",
              "      <td>2.000000</td>\n",
              "      <td>3.000000</td>\n",
              "      <td>1.000</td>\n",
              "    </tr>\n",
              "    <tr>\n",
              "      <th>cluster_k</th>\n",
              "      <td>0.90</td>\n",
              "      <td>1.000000</td>\n",
              "      <td>2.000000</td>\n",
              "      <td>0.000</td>\n",
              "    </tr>\n",
              "  </tbody>\n",
              "</table>\n",
              "</div>"
            ],
            "text/plain": [
              "             population     segment.1     segment.2  segment.3\n",
              "ID                20.50     20.000000     23.500000     18.625\n",
              "V1                 3.85      1.666667      3.500000      5.750\n",
              "V2                 4.10      3.000000      5.833333      3.625\n",
              "V3                 3.95      1.833333      3.333333      6.000\n",
              "V4                 4.10      3.500000      6.000000      3.125\n",
              "V5                 3.45      5.500000      3.500000      1.875\n",
              "V6                 4.35      3.333333      6.000000      3.875\n",
              "Income         46000.00  42500.000000  30833.333333  60000.000\n",
              "Mall.Visits        3.25      1.000000      5.500000      3.250\n",
              "cluster_h          1.90      2.000000      3.000000      1.000\n",
              "cluster_k          0.90      1.000000      2.000000      0.000"
            ]
          },
          "metadata": {
            "tags": []
          },
          "execution_count": 32
        }
      ]
    },
    {
      "cell_type": "markdown",
      "metadata": {
        "id": "lg1j0B_PDtrN",
        "colab_type": "text"
      },
      "source": [
        "\n",
        "\n",
        "**¿Qué conclusiones sobre los clientes del centro comercial podemos sacar a partir de estos resultados?**"
      ]
    },
    {
      "cell_type": "markdown",
      "metadata": {
        "id": "Jl91mEE3DtrN",
        "colab_type": "text"
      },
      "source": [
        "\n",
        "\n",
        "#### Comparacion del resultado con ambos metodos de clustering"
      ]
    },
    {
      "cell_type": "markdown",
      "metadata": {
        "id": "mtePbSuUDtrO",
        "colab_type": "text"
      },
      "source": [
        "\n",
        "\n",
        "Poner el numero de cluster que corresponda. En cada ejecucion se cambia el identifcador de los clusters"
      ]
    },
    {
      "cell_type": "code",
      "metadata": {
        "id": "eIuL2LM2DtrO",
        "colab_type": "code",
        "colab": {
          "base_uri": "https://localhost:8080/",
          "height": 328
        },
        "outputId": "a2301d83-976e-41e6-80ba-e61377eb87f4"
      },
      "source": [
        "comp = pd.DataFrame({\n",
        "                    'segment.1 %': 100*(hierarchical_profile['segment.1'] == profile_kmeans['segment.1']),\n",
        "                    'segment.2 %': 100*(hierarchical_profile['segment.2'] == profile_kmeans['segment.3']),\n",
        "                    'segment.3 %': 100*(hierarchical_profile['segment.3'] == profile_kmeans['segment.2'])})\n",
        "comp.iloc[:-2,:]"
      ],
      "execution_count": null,
      "outputs": [
        {
          "output_type": "execute_result",
          "data": {
            "text/html": [
              "<div>\n",
              "<style scoped>\n",
              "    .dataframe tbody tr th:only-of-type {\n",
              "        vertical-align: middle;\n",
              "    }\n",
              "\n",
              "    .dataframe tbody tr th {\n",
              "        vertical-align: top;\n",
              "    }\n",
              "\n",
              "    .dataframe thead th {\n",
              "        text-align: right;\n",
              "    }\n",
              "</style>\n",
              "<table border=\"1\" class=\"dataframe\">\n",
              "  <thead>\n",
              "    <tr style=\"text-align: right;\">\n",
              "      <th></th>\n",
              "      <th>segment.1 %</th>\n",
              "      <th>segment.2 %</th>\n",
              "      <th>segment.3 %</th>\n",
              "    </tr>\n",
              "  </thead>\n",
              "  <tbody>\n",
              "    <tr>\n",
              "      <th>ID</th>\n",
              "      <td>0</td>\n",
              "      <td>0</td>\n",
              "      <td>0</td>\n",
              "    </tr>\n",
              "    <tr>\n",
              "      <th>V1</th>\n",
              "      <td>0</td>\n",
              "      <td>0</td>\n",
              "      <td>0</td>\n",
              "    </tr>\n",
              "    <tr>\n",
              "      <th>V2</th>\n",
              "      <td>0</td>\n",
              "      <td>0</td>\n",
              "      <td>0</td>\n",
              "    </tr>\n",
              "    <tr>\n",
              "      <th>V3</th>\n",
              "      <td>0</td>\n",
              "      <td>0</td>\n",
              "      <td>0</td>\n",
              "    </tr>\n",
              "    <tr>\n",
              "      <th>V4</th>\n",
              "      <td>0</td>\n",
              "      <td>0</td>\n",
              "      <td>0</td>\n",
              "    </tr>\n",
              "    <tr>\n",
              "      <th>V5</th>\n",
              "      <td>0</td>\n",
              "      <td>0</td>\n",
              "      <td>0</td>\n",
              "    </tr>\n",
              "    <tr>\n",
              "      <th>V6</th>\n",
              "      <td>0</td>\n",
              "      <td>0</td>\n",
              "      <td>0</td>\n",
              "    </tr>\n",
              "    <tr>\n",
              "      <th>Income</th>\n",
              "      <td>0</td>\n",
              "      <td>0</td>\n",
              "      <td>0</td>\n",
              "    </tr>\n",
              "    <tr>\n",
              "      <th>Mall.Visits</th>\n",
              "      <td>0</td>\n",
              "      <td>0</td>\n",
              "      <td>0</td>\n",
              "    </tr>\n",
              "  </tbody>\n",
              "</table>\n",
              "</div>"
            ],
            "text/plain": [
              "             segment.1 %  segment.2 %  segment.3 %\n",
              "ID                     0            0            0\n",
              "V1                     0            0            0\n",
              "V2                     0            0            0\n",
              "V3                     0            0            0\n",
              "V4                     0            0            0\n",
              "V5                     0            0            0\n",
              "V6                     0            0            0\n",
              "Income                 0            0            0\n",
              "Mall.Visits            0            0            0"
            ]
          },
          "metadata": {
            "tags": []
          },
          "execution_count": 33
        }
      ]
    }
  ]
}