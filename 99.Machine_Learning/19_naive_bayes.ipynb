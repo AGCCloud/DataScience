{
  "nbformat": 4,
  "nbformat_minor": 0,
  "metadata": {
    "language_info": {
      "pygments_lexer": "ipython3",
      "file_extension": ".py",
      "codemirror_mode": {
        "version": 3,
        "name": "ipython"
      },
      "nbconvert_exporter": "python",
      "version": "3.7.1",
      "mimetype": "text/x-python",
      "name": "python"
    },
    "kernelspec": {
      "display_name": "Python 3",
      "language": "python",
      "name": "python3"
    },
    "colab": {
      "name": "18_naive_bayes.ipynb",
      "provenance": [],
      "include_colab_link": true
    }
  },
  "cells": [
    {
      "cell_type": "markdown",
      "metadata": {
        "id": "view-in-github",
        "colab_type": "text"
      },
      "source": [
        "<a href=\"https://colab.research.google.com/github/al34n1x/DataScience/blob/master/99.Machine_Learning/19_naive_bayes.ipynb\" target=\"_parent\"><img src=\"https://colab.research.google.com/assets/colab-badge.svg\" alt=\"Open In Colab\"/></a>"
      ]
    },
    {
      "cell_type": "markdown",
      "metadata": {
        "id": "r_ePuEIUYJFC",
        "colab_type": "text"
      },
      "source": [
        "\n",
        "\n",
        "# Naive Bayes"
      ]
    },
    {
      "cell_type": "markdown",
      "metadata": {
        "id": "tVmzKAPjYJFC",
        "colab_type": "text"
      },
      "source": [
        "\n",
        "\n",
        "## Teorema de Bayes"
      ]
    },
    {
      "cell_type": "markdown",
      "metadata": {
        "id": "Vq74A8R2YJFD",
        "colab_type": "text"
      },
      "source": [
        "\n",
        "\n",
        "<img src=\"https://upload.wikimedia.org/wikipedia/commons/thumb/1/18/Bayes%27_Theorem_MMB_01.jpg/1024px-Bayes%27_Theorem_MMB_01.jpg\">\n",
        "El teorema de Bayes (o Ley de Bayres o Regla de Bayes) se considera una de las reglas más poderosas en el cálculo de probabilidades y estadística.\n",
        "Describa la probabilidad de un evente, basado en conocimiento previo de condiciones que podrían estar relacionadas con el evento.\n",
        "\n",
        " \n",
        "<img src=\"https://miro.medium.com/max/1994/1*CnoTGGO7XeUpUMeXDrIfvA.png\">\n",
        "\n",
        "<img src=\"https://www.saedsayad.com/images/Bayes_rule.png\">\n",
        "\n",
        "\n",
        "- P(c|x) es la probabilidad a posteriori de la clase c dado los predictores x.\n",
        "- P(c) es la probabilidad a priori de la clase.\n",
        "- P(x) es la probabilidad a priori del predictor (o predictores).\n",
        "- P(x|c) es la probabilidad del predictor, dada la clase (*likelihood*)."
      ]
    },
    {
      "cell_type": "markdown",
      "metadata": {
        "id": "6LaO9ihwYJFE",
        "colab_type": "text"
      },
      "source": [
        "\n",
        "\n",
        "## Naive Bayes"
      ]
    },
    {
      "cell_type": "markdown",
      "metadata": {
        "id": "WCFjoD_1YJFE",
        "colab_type": "text"
      },
      "source": [
        "\n",
        "\n",
        "Los algoritmos de Naive Bayes son algoritmos de aprendizaje supervisado basados en la aplicación del Teorema de Bayes con una suposición *naive* (inocente): **asume independencia** entre cada par de variables de predicción."
      ]
    },
    {
      "cell_type": "markdown",
      "metadata": {
        "id": "UopXEFQ0YJFF",
        "colab_type": "text"
      },
      "source": [
        "\n",
        "\n",
        "- Uso más común: como algoritmo de clasificación. Predice la clase de los datos.\n",
        "- Ventaja de Naive Bayes: es relativamente rápido comparado con otros algoritmos de clasificación.\n",
        "- Útil con datasets grandes.\n",
        "- Aplicaciones: predicciones en tiempo real, predicciones multiclase, clasificación de textos / filtrado de spam / analisis de sentimientos, sistema de recomendaciones..."
      ]
    },
    {
      "cell_type": "markdown",
      "metadata": {
        "id": "nNEHZjz7YJFF",
        "colab_type": "text"
      },
      "source": [
        "\n",
        "\n",
        "### Naive Bayes con Scikit Learn"
      ]
    },
    {
      "cell_type": "markdown",
      "metadata": {
        "id": "gDw_oaeoYJFG",
        "colab_type": "text"
      },
      "source": [
        "\n",
        "\n",
        "Los diferentes algoritmos de Naive Bayes difieren en las suposiciones relativas a la distribución de las variables continuas predictoras.\n",
        "\n",
        "En **Scikit** Learn tenemos:\n",
        "- **GaussianNB**: implementa el algoritmo Gaussian Naive Bayes para clasificación. Asume que la distribución de los datos es gaussiana (normal).\n",
        "- **MultinomialNB**: implementa el algoritmo de naive Bayes para datos dcon una distribución multinomial. Útil cuando las variables son discretas.\n",
        "- **BernoulliNB**: impelmenta naive Bayes para datos con una distribución de Bernoulli multivariante. Útil cuando las variables son binarias."
      ]
    },
    {
      "cell_type": "markdown",
      "metadata": {
        "id": "YduraK_5YJFG",
        "colab_type": "text"
      },
      "source": [
        "\n",
        "\n",
        "Antes de utilizar un modelo, deberíamos verificar si la distribución de las variables sigue uno de los tres modelos recien mencionados. Porque si no lo hiciese, podríamos ver que las distribuciones no ajustan bien los datos.\n",
        "\n",
        "Si las variables no siguen una distribución normal por ejemplo, podríamos usar transformaciones u otros métodos para convertirlas en una distribución normal."
      ]
    },
    {
      "cell_type": "code",
      "metadata": {
        "id": "gDV6m9fgYJFH",
        "colab_type": "code",
        "colab": {}
      },
      "source": [
        "import pandas as pd\n",
        "from sklearn.model_selection import train_test_split\n",
        "import matplotlib.pyplot as plt"
      ],
      "execution_count": null,
      "outputs": []
    },
    {
      "cell_type": "code",
      "metadata": {
        "id": "EKD4MztfYJFJ",
        "colab_type": "code",
        "colab": {}
      },
      "source": [
        "data = spark.read.csv(DATA_PATH+\"titanic_train.csv\", header=True, \n",
        "                      inferSchema=True).toPandas().set_index('PassengerId', inplace=True)\n",
        "\n",
        "# Local\n",
        "# data = pd.read_csv(\"data/titanic_train.csv\",index_col=\"PassengerId\")"
      ],
      "execution_count": null,
      "outputs": []
    },
    {
      "cell_type": "code",
      "metadata": {
        "id": "lhJJjmrXYJFM",
        "colab_type": "code",
        "colab": {}
      },
      "source": [
        "CAge=pd.cut(data[\"Age\"], bins = [0,10,18,40,max(data[\"Age\"])] ,labels=[\"Child\",\"MYoung\",\"Young\",\"Older\"])\n",
        "\n",
        "#create dummy variables for the column\n",
        "dummies = pd.get_dummies(CAge)"
      ],
      "execution_count": null,
      "outputs": []
    },
    {
      "cell_type": "markdown",
      "metadata": {
        "id": "PqP696C3YJFP",
        "colab_type": "text"
      },
      "source": [
        "\n",
        "\n",
        "En la versión 0.19.0 de pandas es necesario un paso adicional"
      ]
    },
    {
      "cell_type": "code",
      "metadata": {
        "id": "-9GbZPe-YJFQ",
        "colab_type": "code",
        "colab": {}
      },
      "source": [
        "dummies_tmp = pd.get_dummies(CAge)\n",
        "dummies = pd.DataFrame(data = dummies_tmp.values,\n",
        "                       index = dummies_tmp.index)\n",
        "dummies.index.name=\"PassengerId\""
      ],
      "execution_count": null,
      "outputs": []
    },
    {
      "cell_type": "markdown",
      "metadata": {
        "id": "vtxXei9mYJFS",
        "colab_type": "text"
      },
      "source": [
        "\n",
        "\n",
        "añadimos las variables *dummy*"
      ]
    },
    {
      "cell_type": "code",
      "metadata": {
        "id": "goZ_UTLWYJFS",
        "colab_type": "code",
        "colab": {}
      },
      "source": [
        "data = data.join(dummies)"
      ],
      "execution_count": null,
      "outputs": []
    },
    {
      "cell_type": "code",
      "metadata": {
        "id": "v0BHIq1hYJFV",
        "colab_type": "code",
        "colab": {}
      },
      "source": [
        "data['Sex'] = data['Sex'].replace(to_replace=['male', 'female'], value=[0, 1])"
      ],
      "execution_count": null,
      "outputs": []
    },
    {
      "cell_type": "code",
      "metadata": {
        "id": "jtyAiPnZYJFX",
        "colab_type": "code",
        "colab": {}
      },
      "source": [
        "train, test = train_test_split(data, test_size=0.5)\n",
        "\n",
        "survived = train[(train.Survived==1)]"
      ],
      "execution_count": null,
      "outputs": []
    },
    {
      "cell_type": "code",
      "metadata": {
        "id": "vt0H7Zh_YJFZ",
        "colab_type": "code",
        "colab": {}
      },
      "source": [
        "train.head()"
      ],
      "execution_count": null,
      "outputs": []
    },
    {
      "cell_type": "markdown",
      "metadata": {
        "id": "4RBmLpvYYJFb",
        "colab_type": "text"
      },
      "source": [
        "\n",
        "\n",
        "## Prediciendo con la variable Fare"
      ]
    },
    {
      "cell_type": "code",
      "metadata": {
        "id": "GDfizraxYJFc",
        "colab_type": "code",
        "colab": {}
      },
      "source": [
        "fig7, axs7 = plt.subplots(1,2)\n",
        "\n",
        "train['Fare'].plot.hist(ax=axs7[0], figsize=(12, 6), fontsize=16)\n",
        "survived['Fare'].plot.hist(ax=axs7[1], fontsize=16)\n",
        "\n",
        "axs7[0].set_title(\"People on the Titanic\", fontsize=20)\n",
        "axs7[1].set_title(\"People who survived\", fontsize=20)"
      ],
      "execution_count": null,
      "outputs": []
    },
    {
      "cell_type": "code",
      "metadata": {
        "id": "kzOcMS5nYJFf",
        "colab_type": "code",
        "colab": {}
      },
      "source": [
        "from sklearn.naive_bayes import GaussianNB, BernoulliNB, MultinomialNB"
      ],
      "execution_count": null,
      "outputs": []
    },
    {
      "cell_type": "code",
      "metadata": {
        "id": "TLoQ9u7gYJFi",
        "colab_type": "code",
        "colab": {}
      },
      "source": [
        "gnb = GaussianNB()\n",
        "\n",
        "used_features = ['Fare']\n",
        "\n",
        "y_pred = gnb.fit(train[used_features], train[\"Survived\"])\n",
        "\n",
        "y_pred = gnb.predict(test[used_features])"
      ],
      "execution_count": null,
      "outputs": []
    },
    {
      "cell_type": "markdown",
      "metadata": {
        "id": "0bHJlAnoYJFk",
        "colab_type": "text"
      },
      "source": [
        "\n",
        "\n",
        "Accuracy"
      ]
    },
    {
      "cell_type": "code",
      "metadata": {
        "id": "z5vWJ3ERYJFk",
        "colab_type": "code",
        "colab": {}
      },
      "source": [
        "from sklearn.metrics import accuracy_score, confusion_matrix\n",
        "\n",
        "acc = accuracy_score(test[\"Survived\"], y_pred)\n",
        "acc"
      ],
      "execution_count": null,
      "outputs": []
    },
    {
      "cell_type": "code",
      "metadata": {
        "id": "5VHOa4CZYJFm",
        "colab_type": "code",
        "colab": {}
      },
      "source": [
        "print(confusion_matrix(test[\"Survived\"], y_pred))"
      ],
      "execution_count": null,
      "outputs": []
    },
    {
      "cell_type": "markdown",
      "metadata": {
        "id": "tfBzkYrnYJFo",
        "colab_type": "text"
      },
      "source": [
        "\n",
        "\n",
        "## Prediciendo con la variable Age"
      ]
    },
    {
      "cell_type": "code",
      "metadata": {
        "id": "O08pvfs2YJFo",
        "colab_type": "code",
        "colab": {}
      },
      "source": [
        "fig3, axs3 = plt.subplots(1,2)\n",
        "\n",
        "train['Age'].plot.hist(ax=axs3[0], figsize=(12, 6), fontsize=16)\n",
        "survived['Age'].plot.hist(ax=axs3[1], fontsize=16)\n",
        "\n",
        "axs3[0].set_title(\"People on the Titanic\", fontsize=20)\n",
        "axs3[1].set_title(\"People who survived\", fontsize=20)"
      ],
      "execution_count": null,
      "outputs": []
    },
    {
      "cell_type": "code",
      "metadata": {
        "id": "Awvjm1-XYJFs",
        "colab_type": "code",
        "colab": {}
      },
      "source": [
        "used_features = [\"Child\",\"MYoung\",\"Young\",\"Older\"]"
      ],
      "execution_count": null,
      "outputs": []
    },
    {
      "cell_type": "code",
      "metadata": {
        "id": "FjpdDV4GYJFu",
        "colab_type": "code",
        "colab": {}
      },
      "source": [
        "gnb = BernoulliNB()\n",
        "\n",
        "y_pred = gnb.fit(train[used_features], train[\"Survived\"])\n",
        "\n",
        "y_pred = gnb.predict(test[used_features])\n",
        "\n",
        "acc = accuracy_score(test[\"Survived\"], y_pred)\n",
        "acc"
      ],
      "execution_count": null,
      "outputs": []
    },
    {
      "cell_type": "code",
      "metadata": {
        "id": "I73Y-KyjYJFw",
        "colab_type": "code",
        "colab": {}
      },
      "source": [
        "print(confusion_matrix(test[\"Survived\"], y_pred))"
      ],
      "execution_count": null,
      "outputs": []
    },
    {
      "cell_type": "markdown",
      "metadata": {
        "id": "9NY1tAs2YJFx",
        "colab_type": "text"
      },
      "source": [
        "\n",
        "\n",
        "## Prediciendo con la variable Sex"
      ]
    },
    {
      "cell_type": "code",
      "metadata": {
        "id": "kvW4o7qDYJFx",
        "colab_type": "code",
        "colab": {}
      },
      "source": [
        "fig2, axs2 = plt.subplots(1,2)\n",
        "\n",
        "train['Sex'].value_counts().sort_index().plot.bar(ax=axs2[0], figsize=(12, 6), fontsize=16)\n",
        "survived['Sex'].value_counts().sort_index().plot.bar(ax=axs2[1], fontsize=16)\n",
        "\n",
        "axs2[0].set_title(\"People on the Titanic\", fontsize=20)\n",
        "axs2[1].set_title(\"People who survived\", fontsize=20)\n"
      ],
      "execution_count": null,
      "outputs": []
    },
    {
      "cell_type": "code",
      "metadata": {
        "id": "Lc8c6fsqYJFz",
        "colab_type": "code",
        "colab": {}
      },
      "source": [
        "used_features = [\"Sex\"]\n",
        "\n",
        "gnb = BernoulliNB()\n",
        "\n",
        "y_pred = gnb.fit(train[used_features], train[\"Survived\"])\n",
        "\n",
        "y_pred = gnb.predict(test[used_features])\n",
        "\n",
        "acc = accuracy_score(test[\"Survived\"], y_pred)\n",
        "acc\n"
      ],
      "execution_count": null,
      "outputs": []
    },
    {
      "cell_type": "code",
      "metadata": {
        "id": "lHyt6kZ_YJF1",
        "colab_type": "code",
        "colab": {}
      },
      "source": [
        "print(confusion_matrix(test[\"Survived\"], y_pred))"
      ],
      "execution_count": null,
      "outputs": []
    },
    {
      "cell_type": "markdown",
      "metadata": {
        "id": "4FLwQbXSYJF2",
        "colab_type": "text"
      },
      "source": [
        "\n",
        "\n",
        "## Notas\n",
        "\n",
        "- Remover las variables correlacionadas puede mejorar el modelo\n",
        "- Laplace Correction: si una variable categórica (en los datos de test), tiene una categoría no observada en los datos de entrenamiento, el modelo le asignará una probabilidad de 0, y no podrá hacer una predicción. A esto se le llama *Zero Frequency*. Para remediarlo podemos usar una técnica llamada estimación de Laplace. "
      ]
    },
    {
      "cell_type": "markdown",
      "metadata": {
        "id": "iADO1EtvYJF2",
        "colab_type": "text"
      },
      "source": [
        "\n",
        "\n",
        "# Naive Bayes casos prácticos\n",
        "\n",
        "Veamos algunos ejemplos aplicando el teorema de Bayes"
      ]
    },
    {
      "cell_type": "markdown",
      "metadata": {
        "id": "udTYH0-5YJF3",
        "colab_type": "text"
      },
      "source": [
        "\n",
        "\n",
        "<center><img src=\"https://www.saedsayad.com/images/Bayes_rule.png\"></center>"
      ]
    },
    {
      "cell_type": "markdown",
      "metadata": {
        "id": "aIOK1VKhYJF3",
        "colab_type": "text"
      },
      "source": [
        "\n",
        "\n",
        "Supongamos unos datos como los de la imagen inferior, en la que tenemos las condiciones metereológicas (Weather) y la variable a predecir (Play) que representa el que un equipo salga a jugar o no."
      ]
    },
    {
      "cell_type": "markdown",
      "metadata": {
        "id": "O6tH6DDfYJF3",
        "colab_type": "text"
      },
      "source": [
        "\n",
        "\n",
        "<center><img src=\"https://www.saedsayad.com/images/naive_bayes_data.png\"></center>"
      ]
    },
    {
      "cell_type": "markdown",
      "metadata": {
        "id": "1DqtXD4RYJF4",
        "colab_type": "text"
      },
      "source": [
        "\n",
        "\n",
        "El primer caso consiste en convertir los datos anteriores a una tabla de frecuencia y luego creamos las tablas de likelihood, donde tenemos las probabilidades de cada weather y de Play (Yes/No)"
      ]
    },
    {
      "cell_type": "markdown",
      "metadata": {
        "id": "m2fCXlWzYJF7",
        "colab_type": "text"
      },
      "source": [
        "\n",
        "\n",
        "Mediante estas tablas y  Naive Bayes podemos calcular la probabilidad por ejemplo de si se **jugará (Play=YES) si el tiempo es Sunny**. En nuestro caso, quedaría así la ecuación planteda inicialmente:\n",
        "\n",
        "\n",
        "                             P(Yes | Sunny) = P( Sunny | Yes) * P(Yes) / P (Sunny)\n",
        "                                                        \n",
        "                                                        \n",
        "Donde tenemos, de las tablas anteriores:\n",
        "\n",
        "                                         P (Sunny |Yes) = 3/9 = 0.33\n",
        "                                         P(Sunny) = 5/14 = 0.36\n",
        "                                         P(Yes)= 9/14 = 0.64\n",
        "\n",
        "Lo que nos queda sustituyendo:\n",
        "                                                                 \n",
        "                                 P (Yes | Sunny) = 0.33 * 0.64 / 0.36 = 0.60\n",
        "                                                                 \n"
      ]
    },
    {
      "cell_type": "markdown",
      "metadata": {
        "id": "HEJgX61tYJF4",
        "colab_type": "text"
      },
      "source": [
        "\n",
        "\n",
        "<center><img src=\"https://www.saedsayad.com/images/Bayes_3.png\"></center>"
      ]
    },
    {
      "cell_type": "markdown",
      "metadata": {
        "id": "0PkvQB57YJF7",
        "colab_type": "text"
      },
      "source": [
        "\n",
        "\n",
        "# Ejercicio \n",
        "\n",
        "El teorema de Naive Bayes se encuentra implementado en scikit-learn:"
      ]
    },
    {
      "cell_type": "code",
      "metadata": {
        "id": "92sGYNtLYJF8",
        "colab_type": "code",
        "colab": {}
      },
      "source": [
        "from sklearn.naive_bayes import GaussianNB, MultinomialNB, BernoulliNB"
      ],
      "execution_count": null,
      "outputs": []
    },
    {
      "cell_type": "markdown",
      "metadata": {
        "id": "9DVroznjYJGA",
        "colab_type": "text"
      },
      "source": [
        "\n",
        "\n",
        "Con lo que se puede podemos construir un clasificador de correo ham/spam que obtiene buenos resultados.\n",
        "\n",
        "Dado el dataset 'data/spam.csv', construya un clasificador de correo con el que predecir si el correo es ham o spam.\n",
        "\n",
        "\n",
        "Nota: La estructura inicial del dataset consiste en el contenido del correo y una etiqueta que lo identifica como ham/spam. Es necesario transformar el contenido del correo en variables numéricas que representen la frecuencia de aparición de cada término en el dataset.\n",
        "\n",
        "Esta transformación se puede realizar mediante el siguiente código:"
      ]
    },
    {
      "cell_type": "markdown",
      "metadata": {
        "id": "KUhQykZrYJGA",
        "colab_type": "text"
      },
      "source": [
        "\n",
        "\n",
        "Dividimos el conjunto de datos iniciales en train y test, con 10% de test"
      ]
    },
    {
      "cell_type": "code",
      "metadata": {
        "id": "fSemm1MpYJGA",
        "colab_type": "code",
        "colab": {}
      },
      "source": [
        "# Respuesta aqui"
      ],
      "execution_count": null,
      "outputs": []
    },
    {
      "cell_type": "markdown",
      "metadata": {
        "id": "-uksm-zwYJGC",
        "colab_type": "text"
      },
      "source": [
        "\n",
        "\n",
        "convertimos la estructura de texto en términos de frecuencia  de cada término"
      ]
    },
    {
      "cell_type": "code",
      "metadata": {
        "id": "rsk6xkvIYJGC",
        "colab_type": "code",
        "colab": {}
      },
      "source": [
        "# Respuesta aqui"
      ],
      "execution_count": null,
      "outputs": []
    },
    {
      "cell_type": "markdown",
      "metadata": {
        "id": "BzNZYyZQYJGD",
        "colab_type": "text"
      },
      "source": [
        "\n",
        "\n",
        "seleccionamos aquellos términos más frecuentes"
      ]
    },
    {
      "cell_type": "code",
      "metadata": {
        "id": "X8uJiqknYJGE",
        "colab_type": "code",
        "colab": {}
      },
      "source": [
        "# Respuesta aqui"
      ],
      "execution_count": null,
      "outputs": []
    },
    {
      "cell_type": "markdown",
      "metadata": {
        "id": "AzMiWumNYJGG",
        "colab_type": "text"
      },
      "source": [
        "\n",
        "\n",
        "- a. Construya un clasificador con sklearn usando las distintas opciones (GaussianNB, MultinomialNB, BernoulliNB) y evalúe el resultado mediante la accuracy y la matriz de confusión:\n",
        "\n",
        "from sklearn.metrics import accuracy_score, confusion_matrix\n"
      ]
    },
    {
      "cell_type": "code",
      "metadata": {
        "id": "PY7Jfem2YJGH",
        "colab_type": "code",
        "colab": {}
      },
      "source": [
        "# Respuesta aqui"
      ],
      "execution_count": null,
      "outputs": []
    },
    {
      "cell_type": "code",
      "metadata": {
        "id": "jhQiOePqYJGI",
        "colab_type": "code",
        "colab": {}
      },
      "source": [
        "# Respuesta aqui"
      ],
      "execution_count": null,
      "outputs": []
    },
    {
      "cell_type": "code",
      "metadata": {
        "id": "rzDPi-9FYJGK",
        "colab_type": "code",
        "colab": {}
      },
      "source": [
        "# Respuesta aqui"
      ],
      "execution_count": null,
      "outputs": []
    }
  ]
}