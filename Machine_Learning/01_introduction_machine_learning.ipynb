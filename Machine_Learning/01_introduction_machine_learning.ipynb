{
  "nbformat": 4,
  "nbformat_minor": 0,
  "metadata": {
    "language_info": {
      "pygments_lexer": "ipython3",
      "file_extension": ".py",
      "codemirror_mode": {
        "version": 3,
        "name": "ipython"
      },
      "nbconvert_exporter": "python",
      "version": "3.7.1",
      "mimetype": "text/x-python",
      "name": "python"
    },
    "kernelspec": {
      "display_name": "Python 3",
      "language": "python",
      "name": "python3"
    },
    "colab": {
      "name": "01_introduction_machine_learning.ipynb",
      "provenance": [],
      "include_colab_link": true
    }
  },
  "cells": [
    {
      "cell_type": "markdown",
      "metadata": {
        "id": "view-in-github",
        "colab_type": "text"
      },
      "source": [
        "<a href=\"https://colab.research.google.com/github/al34n1x/DataScience/blob/master/Machine_Learning/01_introduction_machine_learning.ipynb\" target=\"_parent\"><img src=\"https://colab.research.google.com/assets/colab-badge.svg\" alt=\"Open In Colab\"/></a>"
      ]
    },
    {
      "cell_type": "markdown",
      "metadata": {
        "id": "MRWL5MOlYocc",
        "colab_type": "text"
      },
      "source": [
        "\n",
        "\n",
        "# Machine Learning con Python\n",
        "\n",
        "Haremos un ejercicio básico de un problema supervisado de regresión para predecir el costo de una casa y veremos como se puede resolver en Python."
      ]
    },
    {
      "cell_type": "markdown",
      "metadata": {
        "id": "R0KfDO34Yh8S",
        "colab_type": "text"
      },
      "source": [
        "\n",
        "\n",
        "## Introducción\n",
        "\n",
        "Los primeros pasos a seguir para ajustar un modelo de predicción usando Python son:\n",
        "\n",
        "1. **Preparar los datos**. Como hemos visto, para llegar a este punto hemos aprendido a cargar los datos de diferentes maneras y de diferentes fuentes, a limpiarlos, a organizarlos, agruparlos, etc, y a hacer un análisis exploratorio de datos con el objetivo de entender mejor los datos y el problema.\n",
        "\n",
        "2. **Identificar la variable objetivo**. Si ya está definida, identificarla y separarla del resto de las variables independientes. Si no está definida, construírla a partir del contexto del problema.\n",
        "\n",
        "3. **División train/test de los datos**. La división puede ser aleatoria o predefinida según el contexto, con muestreo, despendiendo de la naturaleza del problema.\n",
        "\n",
        "4. **Instanciación del modelo para el entrenamiento**. Usaremos una librería para cargar los algoritmos predefinidos llamada sklearn. \n",
        "\n",
        "5. **Ajuste del modelo**. Utilizaremos el método ```fit``` del modelo.\n",
        "\n",
        "6. **Predicción**. Utilización del método ```predict``` del modelo.\n",
        "\n",
        "7. **Elección y implemetación de un métrica**. Para poder estimar el error de prueba."
      ]
    },
    {
      "cell_type": "markdown",
      "metadata": {
        "id": "PyDW9dpbR98R",
        "colab_type": "text"
      },
      "source": [
        "\n",
        "\n",
        "Primeramente vamos a llamar a la librería ```scikit-learn```, ésta contiene varios módulos en donde están cargadas las diferentes herramientas de ML.\n",
        "Por ejemplo de model_selection obtendremos el método ```train_test_split```, de ```linear_model``` obtendremos el objeto ```LinearRegression``` la cuál contiene el algorítmo de regresión lineal cargado, etc."
      ]
    },
    {
      "cell_type": "code",
      "metadata": {
        "id": "Ku2MRUn_ermJ",
        "colab_type": "code",
        "colab": {}
      },
      "source": [
        "import pandas as pd\n",
        "import numpy as np\n",
        "\n",
        "%matplotlib inline\n",
        "import matplotlib.pyplot as plt\n",
        "\n",
        "from sklearn.model_selection import train_test_split\n",
        "from sklearn.linear_model import LinearRegression\n",
        "from sklearn.metrics import mean_absolute_error, mean_squared_error\n",
        "from sklearn.preprocessing import StandardScaler"
      ],
      "execution_count": 0,
      "outputs": []
    },
    {
      "cell_type": "markdown",
      "metadata": {
        "id": "5HXUKiXzemiP",
        "colab_type": "text"
      },
      "source": [
        "\n",
        "\n",
        "## Preparar los datos: valores de las casas de los suburbios de Boston\n",
        "\n",
        "* [Fuente:](http://cdn.jsdelivr.net/gh/al34n1x/DataScience/data/Boston.csv)\n",
        "\n",
        "\n",
        "\n",
        "Lo podemos leer de la siguiente forma:"
      ]
    },
    {
      "cell_type": "code",
      "metadata": {
        "id": "ASunJ-aBmS5c",
        "colab_type": "code",
        "colab": {}
      },
      "source": [
        "df = pd.read_csv('https://github.com/al34n1x/DataScience/raw/master/data/Boston.csv',squeeze=True, delimiter=',', header=0, index_col=0)"
      ],
      "execution_count": 0,
      "outputs": []
    },
    {
      "cell_type": "markdown",
      "metadata": {
        "id": "YFPll5aZUDlE",
        "colab_type": "text"
      },
      "source": [
        "\n",
        "\n",
        "El archivo contiene datos de las casas de los suburbios de Boston, cada registro representa una casa y tiene varios atributos.\n",
        "\n",
        "Tanto caracteristicas físicas de la casa como atributos demográficos de la zona: número de habitaciones, el procentaje de crimen por zona, el ratio de alumno/maestro, etc... \n",
        "\n",
        "Estos datos ya vienen en una estructura que, a parte de estructurada de manera adecuada, no viene con registro repetidos, nulos, o atípicos. Podemos decir que fueron previamente tratados y que están listos para entrenar un modelo."
      ]
    },
    {
      "cell_type": "code",
      "metadata": {
        "colab_type": "code",
        "id": "FEwn_Wx9kLUr",
        "outputId": "24d352f7-2416-4d98-ca6e-454daae130ca",
        "colab": {
          "base_uri": "https://localhost:8080/",
          "height": 237
        }
      },
      "source": [
        "df.head()"
      ],
      "execution_count": 41,
      "outputs": [
        {
          "output_type": "execute_result",
          "data": {
            "text/html": [
              "<div>\n",
              "<style scoped>\n",
              "    .dataframe tbody tr th:only-of-type {\n",
              "        vertical-align: middle;\n",
              "    }\n",
              "\n",
              "    .dataframe tbody tr th {\n",
              "        vertical-align: top;\n",
              "    }\n",
              "\n",
              "    .dataframe thead th {\n",
              "        text-align: right;\n",
              "    }\n",
              "</style>\n",
              "<table border=\"1\" class=\"dataframe\">\n",
              "  <thead>\n",
              "    <tr style=\"text-align: right;\">\n",
              "      <th></th>\n",
              "      <th>crim</th>\n",
              "      <th>zn</th>\n",
              "      <th>indus</th>\n",
              "      <th>chas</th>\n",
              "      <th>nox</th>\n",
              "      <th>rm</th>\n",
              "      <th>age</th>\n",
              "      <th>dis</th>\n",
              "      <th>rad</th>\n",
              "      <th>tax</th>\n",
              "      <th>ptratio</th>\n",
              "      <th>black</th>\n",
              "      <th>lstat</th>\n",
              "      <th>medv</th>\n",
              "    </tr>\n",
              "    <tr>\n",
              "      <th>Index</th>\n",
              "      <th></th>\n",
              "      <th></th>\n",
              "      <th></th>\n",
              "      <th></th>\n",
              "      <th></th>\n",
              "      <th></th>\n",
              "      <th></th>\n",
              "      <th></th>\n",
              "      <th></th>\n",
              "      <th></th>\n",
              "      <th></th>\n",
              "      <th></th>\n",
              "      <th></th>\n",
              "      <th></th>\n",
              "    </tr>\n",
              "  </thead>\n",
              "  <tbody>\n",
              "    <tr>\n",
              "      <th>1</th>\n",
              "      <td>0.00632</td>\n",
              "      <td>18.0</td>\n",
              "      <td>2.31</td>\n",
              "      <td>0</td>\n",
              "      <td>0.538</td>\n",
              "      <td>6.575</td>\n",
              "      <td>65.2</td>\n",
              "      <td>4.0900</td>\n",
              "      <td>1</td>\n",
              "      <td>296</td>\n",
              "      <td>15.3</td>\n",
              "      <td>396.90</td>\n",
              "      <td>4.98</td>\n",
              "      <td>24.0</td>\n",
              "    </tr>\n",
              "    <tr>\n",
              "      <th>2</th>\n",
              "      <td>0.02731</td>\n",
              "      <td>0.0</td>\n",
              "      <td>7.07</td>\n",
              "      <td>0</td>\n",
              "      <td>0.469</td>\n",
              "      <td>6.421</td>\n",
              "      <td>78.9</td>\n",
              "      <td>4.9671</td>\n",
              "      <td>2</td>\n",
              "      <td>242</td>\n",
              "      <td>17.8</td>\n",
              "      <td>396.90</td>\n",
              "      <td>9.14</td>\n",
              "      <td>21.6</td>\n",
              "    </tr>\n",
              "    <tr>\n",
              "      <th>3</th>\n",
              "      <td>0.02729</td>\n",
              "      <td>0.0</td>\n",
              "      <td>7.07</td>\n",
              "      <td>0</td>\n",
              "      <td>0.469</td>\n",
              "      <td>7.185</td>\n",
              "      <td>61.1</td>\n",
              "      <td>4.9671</td>\n",
              "      <td>2</td>\n",
              "      <td>242</td>\n",
              "      <td>17.8</td>\n",
              "      <td>392.83</td>\n",
              "      <td>4.03</td>\n",
              "      <td>34.7</td>\n",
              "    </tr>\n",
              "    <tr>\n",
              "      <th>4</th>\n",
              "      <td>0.03237</td>\n",
              "      <td>0.0</td>\n",
              "      <td>2.18</td>\n",
              "      <td>0</td>\n",
              "      <td>0.458</td>\n",
              "      <td>6.998</td>\n",
              "      <td>45.8</td>\n",
              "      <td>6.0622</td>\n",
              "      <td>3</td>\n",
              "      <td>222</td>\n",
              "      <td>18.7</td>\n",
              "      <td>394.63</td>\n",
              "      <td>2.94</td>\n",
              "      <td>33.4</td>\n",
              "    </tr>\n",
              "    <tr>\n",
              "      <th>5</th>\n",
              "      <td>0.06905</td>\n",
              "      <td>0.0</td>\n",
              "      <td>2.18</td>\n",
              "      <td>0</td>\n",
              "      <td>0.458</td>\n",
              "      <td>7.147</td>\n",
              "      <td>54.2</td>\n",
              "      <td>6.0622</td>\n",
              "      <td>3</td>\n",
              "      <td>222</td>\n",
              "      <td>18.7</td>\n",
              "      <td>396.90</td>\n",
              "      <td>5.33</td>\n",
              "      <td>36.2</td>\n",
              "    </tr>\n",
              "  </tbody>\n",
              "</table>\n",
              "</div>"
            ],
            "text/plain": [
              "          crim    zn  indus  chas    nox  ...  tax  ptratio   black  lstat  medv\n",
              "Index                                     ...                                   \n",
              "1      0.00632  18.0   2.31     0  0.538  ...  296     15.3  396.90   4.98  24.0\n",
              "2      0.02731   0.0   7.07     0  0.469  ...  242     17.8  396.90   9.14  21.6\n",
              "3      0.02729   0.0   7.07     0  0.469  ...  242     17.8  392.83   4.03  34.7\n",
              "4      0.03237   0.0   2.18     0  0.458  ...  222     18.7  394.63   2.94  33.4\n",
              "5      0.06905   0.0   2.18     0  0.458  ...  222     18.7  396.90   5.33  36.2\n",
              "\n",
              "[5 rows x 14 columns]"
            ]
          },
          "metadata": {
            "tags": []
          },
          "execution_count": 41
        }
      ]
    },
    {
      "cell_type": "markdown",
      "metadata": {
        "id": "0xO3I8xm539D",
        "colab_type": "text"
      },
      "source": [
        "\n",
        "\n",
        "## Identificar la variable objetivo\n",
        "En este caso la variable objetivo está dada, no tenemos que hacer una transformación para obtenerla, simplemente la obtenemos a partir de la columna del dataframe ```df```. Las demás columnas ya son variables númericas que pueden servir como *input* de un modelo."
      ]
    },
    {
      "cell_type": "code",
      "metadata": {
        "id": "W8A0cGTq57LA",
        "colab_type": "code",
        "colab": {}
      },
      "source": [
        "features = list(df.columns)[:-1]"
      ],
      "execution_count": 0,
      "outputs": []
    },
    {
      "cell_type": "code",
      "metadata": {
        "id": "p5xFi_rD6dbf",
        "colab_type": "code",
        "colab": {}
      },
      "source": [
        "X = df[features]\n",
        "y = df.medv"
      ],
      "execution_count": 0,
      "outputs": []
    },
    {
      "cell_type": "markdown",
      "metadata": {
        "id": "Rghisksijg44",
        "colab_type": "text"
      },
      "source": [
        "\n",
        "\n",
        "## Hacer la separacion train/test\n",
        "El método ```train_test_split``` regresa 4 outputs, las features divididas en entrenamiento y prueba, y la variable objetivo divida en entrenamiento y prueba respectivamente. Por convención (como en muchos casos en Python) en este contexto les llamamos ```X_train```, ```X_test```, ```y_train```, ```y_test```.\n",
        "\n",
        "Por defecto se hace una particion aleatoria del 75% de entrenamiento, 25% de prueba.\n",
        "\n",
        "¿En todos los casos es válido hacer un muestreo aleatorio? ¿En qué casos cambiarías el porcentaje de observaciones en cada muestra?"
      ]
    },
    {
      "cell_type": "code",
      "metadata": {
        "id": "0bIoh104j7ex",
        "colab_type": "code",
        "colab": {}
      },
      "source": [
        "X_train, X_test, y_train, y_test = train_test_split(X, y)"
      ],
      "execution_count": 0,
      "outputs": []
    },
    {
      "cell_type": "code",
      "metadata": {
        "id": "POTA8L7ErSke",
        "colab_type": "code",
        "colab": {
          "base_uri": "https://localhost:8080/",
          "height": 90
        },
        "outputId": "f3e83547-5c51-443d-e527-455e848dcce4"
      },
      "source": [
        "print('Features_train:',X_train.shape)\n",
        "print('Features_test:',X_test.shape)\n",
        "print('Target_train:',y_train.shape)\n",
        "print('Target_test:',y_test.shape)"
      ],
      "execution_count": 45,
      "outputs": [
        {
          "output_type": "stream",
          "text": [
            "Features_train: (379, 13)\n",
            "Features_test: (127, 13)\n",
            "Target_train: (379,)\n",
            "Target_test: (127,)\n"
          ],
          "name": "stdout"
        }
      ]
    },
    {
      "cell_type": "markdown",
      "metadata": {
        "id": "HUx-Kgqqkr1G",
        "colab_type": "text"
      },
      "source": [
        "\n",
        "\n",
        "## Instanciación del modelo para el entrenamiento\n",
        "Se instancia el objeto en donde van a cargar los métodos y atributos que harán el entrenamiento y ajuste para crear un modelo de aprendizaje de máquina.\n",
        "\n",
        "En este caso ```LinearRegression``` es una instancia de la clase ```LinearRegression```, que contiene el algoritmo para obtener los coeficientes de mínimos de cuadrados. "
      ]
    },
    {
      "cell_type": "code",
      "metadata": {
        "id": "LY7ATuo9kvDS",
        "colab_type": "code",
        "colab": {}
      },
      "source": [
        "lr = LinearRegression()"
      ],
      "execution_count": 0,
      "outputs": []
    },
    {
      "cell_type": "markdown",
      "metadata": {
        "id": "pw2GztJ60TTi",
        "colab_type": "text"
      },
      "source": [
        "\n",
        "\n",
        "## Ajuste del modelo\n",
        "\n",
        "Para ejecutar el algoritmo se hace a través de un método llamado **fit**.\n",
        "\n",
        "Una vez hecha una separación de entrenamiento y de prueba, realizamos el ajuste o entrenamiento, es decir, a partir de una muestra de los datos se van a obtener los coeficientes que minimizan el error.\n",
        "\n",
        "Estos coeficientes define un modelo específico generado por esos datos. Por claridad lo vamos a guardar en una objeto llamado lr_model."
      ]
    },
    {
      "cell_type": "code",
      "metadata": {
        "colab_type": "code",
        "id": "EdttOM8n0TTj",
        "outputId": "dfd89f7f-e5ca-4109-dbeb-8e01787b2237",
        "colab": {
          "base_uri": "https://localhost:8080/",
          "height": 90
        }
      },
      "source": [
        "lr_model = lr.fit(X_train, y_train)\n",
        "print ('Coeficientes: ',  lr_model.intercept_, lr_model.coef_)"
      ],
      "execution_count": 47,
      "outputs": [
        {
          "output_type": "stream",
          "text": [
            "Coeficientes:  32.231672736135884 [-5.20560501e-02  4.53011189e-02  4.07574647e-02  2.37978265e+00\n",
            " -1.73573719e+01  4.21671429e+00  7.81740791e-03 -1.33848571e+00\n",
            "  2.50314221e-01 -1.17325703e-02 -9.21494518e-01  9.54196613e-03\n",
            " -5.50093878e-01]\n"
          ],
          "name": "stdout"
        }
      ]
    },
    {
      "cell_type": "markdown",
      "metadata": {
        "id": "HBCaynZH0TTn",
        "colab_type": "text"
      },
      "source": [
        "\n",
        "\n",
        "## Predicción\n",
        "\n",
        "Una vez que ha sido entrenado el modelo, podemos probar con una observación de una muestra diferente, o sea, con la muestra de prueba. Notese que la muestra de prueba no ha sido usada en el método fit."
      ]
    },
    {
      "cell_type": "code",
      "metadata": {
        "colab_type": "code",
        "id": "rBKMQ6gq0TTn",
        "outputId": "4be20096-7fa9-4bef-8e7b-3efe0d2c27c0",
        "colab": {
          "base_uri": "https://localhost:8080/",
          "height": 53
        }
      },
      "source": [
        "predictions_lr = lr_model.predict(X_test)\n",
        "predictions_lr[:10]"
      ],
      "execution_count": 48,
      "outputs": [
        {
          "output_type": "execute_result",
          "data": {
            "text/plain": [
              "array([20.49860646, 22.60217077, 31.84871082, 12.78439381, 24.18804792,\n",
              "        9.94185845, 34.44160759, 31.89530115, 22.9808749 , 20.53989888])"
            ]
          },
          "metadata": {
            "tags": []
          },
          "execution_count": 48
        }
      ]
    },
    {
      "cell_type": "markdown",
      "metadata": {
        "id": "oOKrOIfpfeDS",
        "colab_type": "text"
      },
      "source": [
        "\n",
        "\n",
        "Observamos que el output del método **predict** es un array en donde están las predicciones de los valores de las casas.\n",
        "\n",
        "El output dependerá del problema, si es supervisado de regresión o de clasificación.\n",
        "\n",
        "¿Cómo sería el output en un contexto de apredizaje supervisado de clasificación? ¿Y de regresión? ¿Y de aprendizaje no supervisado?"
      ]
    },
    {
      "cell_type": "markdown",
      "metadata": {
        "id": "bxB7UzJx0TTs",
        "colab_type": "text"
      },
      "source": [
        "\n",
        "\n",
        "## Elección de un métrica\n",
        "La métrica que se elige es para medir qué tan bien tu modelo va a predecir cuando se tengan datos no observados previamente. Más adelante veremos los detalles de las distintas métricas que existen."
      ]
    },
    {
      "cell_type": "code",
      "metadata": {
        "colab_type": "code",
        "id": "7R2Cwpq30TTs",
        "outputId": "d760f663-acda-4b82-be07-bc14b61eea0b",
        "colab": {
          "base_uri": "https://localhost:8080/",
          "height": 53
        }
      },
      "source": [
        "print ('Error medio absoluto: ', mean_absolute_error(y_test,predictions_lr))\n",
        "print ('Error cuadrático medio: ', mean_squared_error(y_test,predictions_lr))"
      ],
      "execution_count": 49,
      "outputs": [
        {
          "output_type": "stream",
          "text": [
            "Error medio absoluto:  3.41492733531393\n",
            "Error cuadrático medio:  26.795273425944014\n"
          ],
          "name": "stdout"
        }
      ]
    },
    {
      "cell_type": "markdown",
      "metadata": {
        "id": "KyVmCPvuhR3o",
        "colab_type": "text"
      },
      "source": [
        "\n",
        "\n",
        "## Conclusión\n",
        "\n",
        "Como se ha mencionado este es un ejemplo introductorio del marco de trabajo básico del que partiremos.\n",
        "A partir de aquí vamos a profundizar en cada uno de los pasos que hemos mencionado, a responder varias preguntas que han quedado inconclusas y estudiar problemas de naturaleza distinta como aprendizaje supervisado de clasificación, de regresión y apredizaje no supervisado."
      ]
    }
  ]
}