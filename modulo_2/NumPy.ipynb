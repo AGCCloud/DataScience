{
  "nbformat": 4,
  "nbformat_minor": 0,
  "metadata": {
    "colab": {
      "name": "NumPy.ipynb",
      "provenance": [],
      "collapsed_sections": [],
      "authorship_tag": "ABX9TyNM0iETbudHtlm5gXZKzJ/k",
      "include_colab_link": true
    },
    "kernelspec": {
      "name": "python3",
      "display_name": "Python 3"
    }
  },
  "cells": [
    {
      "cell_type": "markdown",
      "metadata": {
        "id": "view-in-github",
        "colab_type": "text"
      },
      "source": [
        "<a href=\"https://colab.research.google.com/github/al34n1x/datascience/blob/master/modulo_2/NumPy.ipynb\" target=\"_parent\"><img src=\"https://colab.research.google.com/assets/colab-badge.svg\" alt=\"Open In Colab\"/></a>"
      ]
    },
    {
      "cell_type": "markdown",
      "metadata": {
        "id": "KDeHW28d5TBn",
        "colab_type": "toc"
      },
      "source": [
        ">[Numpy](#scrollTo=N0GJeEJQRGBh)\n",
        "\n",
        ">>[Comparando nmarrays y Python Arrays](#scrollTo=Q_VOhzu1VVkE)\n",
        "\n",
        ">>[NumPy ndarray: Un objeto Array Multidimensional](#scrollTo=DlQjmD-7YZns)\n",
        "\n",
        ">>[Creando Arrays](#scrollTo=9PWddxWrce5U)\n",
        "\n",
        ">>[Tipo de datos](#scrollTo=UVBAQBG0gOTV)\n",
        "\n",
        ">>[Aritmética con NumPy Array](#scrollTo=DQhuGqqahFe8)\n",
        "\n",
        ">>[Slicing e Indexing básico](#scrollTo=_tF-mjZ_idWJ)\n",
        "\n",
        ">>[Indexing con Slicing](#scrollTo=2pYCvStZoeUk)\n",
        "\n",
        ">>[Slicing en array de dos dimensiones](#scrollTo=EtaiNVier6XI)\n",
        "\n",
        ">>[Fancy Indexing](#scrollTo=BO0IJOvc0U7z)\n",
        "\n",
        ">>[Funciones universales para el manejo de arrays](#scrollTo=qGdasrMY1sK8)\n",
        "\n",
        ">[Programación con arrays](#scrollTo=bjMDpJi93Apj)\n",
        "\n"
      ]
    },
    {
      "cell_type": "markdown",
      "metadata": {
        "id": "N0GJeEJQRGBh",
        "colab_type": "text"
      },
      "source": [
        "#Numpy\n",
        "\n",
        "Numpy, es una combinación de palabras, `Numerical` y `Python`. Es uno de los paquetes más importantes en Python para el computo númerico.\n",
        "La mayoría de los paquetes que proveen cálculos científicos utilizan objetos **NumPy** como elemento para intercambio de datos.\n",
        "\n",
        "Estás son algunos elementos que utilizaremos con NumPy:\n",
        "\n",
        "* **ndarray**: Una eficiente matriz *(Array=Arreglo)* multidimensional que provee operaciones aritmeticas entre arrays de forma flexible y rápidas.\n",
        "\n",
        "* Funciones matemáticas para operar entre arrays de datos sin tener que escribir Loops. **AHHHH!**\n",
        "\n",
        "\n",
        "\n",
        "&nbsp; &nbsp; &nbsp; &nbsp;&nbsp; &nbsp; &nbsp; &nbsp; &nbsp; &nbsp; &nbsp; &nbsp;&nbsp; &nbsp; &nbsp; &nbsp; &nbsp; &nbsp; &nbsp; &nbsp; &nbsp; &nbsp; &nbsp; &nbsp; <img src=\"https://pm1.narvii.com/6240/84538693599c0871fec9e10f1fd0586fd3c284c4_hq.jpg\"  width=\"250\" height=\"250\" />\n",
        "\n",
        "* Herramientas para escribir array en disco y trabajarlos con archivos mapeados en memoria\n",
        "\n",
        "* Algebra lineal, generación aleatoria de números, y algunas transformaciones.\n",
        "\n",
        "Debido a que NumPy provee una facil de usar API (Application Programming Interface) para interactuar con otros lenguajes como C, es muy directo pasar datos de una libería externa en bajo nivel a Python.\n",
        "\n",
        "Mientras que NumPy por si mismo no provee ninguna funcionalidad de modelado o científica, entender arrays NumPy y computo de arrays, te ayudará a usar otras herramientas como **Pandas** más eficientemente.\n",
        "\n",
        "Principalmente nos focalizaremos en: \n",
        "\n",
        "* Operaciones entre arrays, data mining, y data cleaning, Filtering y transformaciones.\n",
        "\n",
        "* Operaciones entre Arrays.\n",
        "\n",
        "* Manipulación de datos mediante unión y consolidación (Join, Merge) utilizando datasets heterogéneos.\n",
        "\n",
        "* Condiciones lógicas aplicadas a arrays.\n",
        "\n",
        "Mientras que NumPy provee las bases para calculo computacional genérico, científicos de datos utilizan Pandas como el pilar de la mayoría de los desarrollos estadísticos y analíticos, especialmente con Datos tabulares. Panda también provee algunas funcionalidades que son específicas del dominio como manipulación de series.\n"
      ]
    },
    {
      "cell_type": "markdown",
      "metadata": {
        "id": "Q_VOhzu1VVkE",
        "colab_type": "text"
      },
      "source": [
        "## Comparando nmarrays y Python Arrays\n",
        "\n",
        "Una de las razones por las que NumPy es tan importante para computo númerico en Python es debido a su eficiencia en el manejo de largos arrays (Arreglos) de datos.\n",
        "\n",
        "NumPy internamente almacena los datos de forma contigua en bloques de memoria, independientemente de otros objetos Python. La librería Numpy de algoritmo puede operar en memoria sin perdida de performance. Los arrays de Numpy ocupan menos espacio que las listas de Python.\n",
        "\n",
        "**Cuál será la razón?**\n",
        "\n",
        "![](https://media1.tenor.com/images/4704d511d603640b82c2aeed0cc3af31/tenor.gif?itemid=11691381)\n",
        "\n",
        ".. Sigamos\n",
        "\n",
        "Las operaciones NumPy se comportan mejor en operaciones computacionales complejas en arrays sin la necesidad de utilizar loops de Python.\n",
        "\n",
        "Para darles una idea de la diferencia de performance, veamos el siguiente código aplicando NumPy Arrays y listas Python\n"
      ]
    },
    {
      "cell_type": "code",
      "metadata": {
        "id": "t2v-Iq6WQ_yV",
        "colab_type": "code",
        "colab": {}
      },
      "source": [
        "import numpy as np\n",
        "my_arr = np.arange(10000000)  # Utilizando NumPy Arrays\n",
        "my_list = list(range(10000000)) # Utilizando Listas Python"
      ],
      "execution_count": 0,
      "outputs": []
    },
    {
      "cell_type": "code",
      "metadata": {
        "id": "oeSMbSq7YAL0",
        "colab_type": "code",
        "outputId": "72d7395b-30e5-4980-af2b-576632428391",
        "colab": {
          "base_uri": "https://localhost:8080/",
          "height": 85
        }
      },
      "source": [
        "%time for _ in range(10): my_arr2 = my_arr * 2\n",
        "%time for _ in range(10): my_list2 = [x * 2 for x in my_list]"
      ],
      "execution_count": 0,
      "outputs": [
        {
          "output_type": "stream",
          "text": [
            "CPU times: user 186 ms, sys: 10.3 ms, total: 196 ms\n",
            "Wall time: 202 ms\n",
            "CPU times: user 6.37 s, sys: 1.5 s, total: 7.87 s\n",
            "Wall time: 7.88 s\n"
          ],
          "name": "stdout"
        }
      ]
    },
    {
      "cell_type": "markdown",
      "metadata": {
        "id": "DlQjmD-7YZns",
        "colab_type": "text"
      },
      "source": [
        "## NumPy ndarray: Un objeto Array Multidimensional\n",
        "Uno de las principales capacidad de NumPy es el N-Dimensional array, o también conocido como **ndarray**, cual es un rápido, y flexible container de largos datasets.\n",
        "Los arreglos permiten ejecutar operaciones matemáticas en un bloque completo usando sintaxis equivalente a elementos escalares.\n",
        "\n",
        "Para darte una pequeña introducción de como NumPy puede gestionar arrays de forma similar que objetos Python, ejecutemos el siguiente código.\n"
      ]
    },
    {
      "cell_type": "code",
      "metadata": {
        "id": "JXPTW_eyYW-C",
        "colab_type": "code",
        "outputId": "9c204aa5-e00f-44ab-a393-58e50837fb0b",
        "colab": {
          "base_uri": "https://localhost:8080/",
          "height": 51
        }
      },
      "source": [
        "import numpy as np #Importamos Numpy\n",
        "# Generamos Data random\n",
        "data = np.random.randn(2, 3)\n",
        "data"
      ],
      "execution_count": 0,
      "outputs": [
        {
          "output_type": "execute_result",
          "data": {
            "text/plain": [
              "array([[ 0.26510728, -2.4343054 ,  1.69135634],\n",
              "       [-0.59523144,  0.40002331, -0.68995011]])"
            ]
          },
          "metadata": {
            "tags": []
          },
          "execution_count": 31
        }
      ]
    },
    {
      "cell_type": "code",
      "metadata": {
        "id": "pvO4TysUZVys",
        "colab_type": "code",
        "colab": {}
      },
      "source": [
        "data * 10"
      ],
      "execution_count": 0,
      "outputs": []
    },
    {
      "cell_type": "code",
      "metadata": {
        "id": "hKgOdJU-aBPP",
        "colab_type": "code",
        "outputId": "d5e71e98-0121-4c7e-d0db-3801dd5b4cd3",
        "colab": {
          "base_uri": "https://localhost:8080/",
          "height": 51
        }
      },
      "source": [
        "data * data #Multiplo - Corregir agregar Multiplo matrices 3 x 3"
      ],
      "execution_count": 0,
      "outputs": [
        {
          "output_type": "execute_result",
          "data": {
            "text/plain": [
              "array([[0.07028187, 5.92584279, 2.86068626],\n",
              "       [0.35430047, 0.16001865, 0.47603115]])"
            ]
          },
          "metadata": {
            "tags": []
          },
          "execution_count": 104
        }
      ]
    },
    {
      "cell_type": "code",
      "metadata": {
        "id": "eKq3zYeLZYgk",
        "colab_type": "code",
        "colab": {}
      },
      "source": [
        "data.shape"
      ],
      "execution_count": 0,
      "outputs": []
    },
    {
      "cell_type": "code",
      "metadata": {
        "id": "6EJx2tebu1JI",
        "colab_type": "code",
        "colab": {}
      },
      "source": [
        "data?"
      ],
      "execution_count": 0,
      "outputs": []
    },
    {
      "cell_type": "code",
      "metadata": {
        "id": "i_tQHeYBZugL",
        "colab_type": "code",
        "outputId": "63e50b04-9fec-4b44-d3a1-1fcb8202e905",
        "colab": {
          "base_uri": "https://localhost:8080/",
          "height": 34
        }
      },
      "source": [
        "data.dtype"
      ],
      "execution_count": 0,
      "outputs": [
        {
          "output_type": "execute_result",
          "data": {
            "text/plain": [
              "dtype('float64')"
            ]
          },
          "metadata": {
            "tags": []
          },
          "execution_count": 42
        }
      ]
    },
    {
      "cell_type": "code",
      "metadata": {
        "id": "53gcV4d-0_8w",
        "colab_type": "code",
        "outputId": "1e4c4b9d-c604-4b7e-da6a-bc50bea2d8bd",
        "colab": {
          "base_uri": "https://localhost:8080/",
          "height": 51
        }
      },
      "source": [
        "# Producto entre matrices\n",
        "a = np.matrix([[1, 2], [3, 4]]) \n",
        "b = np.matrix([[2,3], [1,2]])\n",
        "\n",
        "c = np.dot(a,b) #función producto de matrices\n",
        "c\n"
      ],
      "execution_count": 0,
      "outputs": [
        {
          "output_type": "execute_result",
          "data": {
            "text/plain": [
              "matrix([[ 4,  7],\n",
              "        [10, 17]])"
            ]
          },
          "metadata": {
            "tags": []
          },
          "execution_count": 16
        }
      ]
    },
    {
      "cell_type": "markdown",
      "metadata": {
        "id": "9PWddxWrce5U",
        "colab_type": "text"
      },
      "source": [
        "## Creando Arrays\n",
        "\n",
        "La forma más simple de crear arrays es utilizando la función array. Dicha función acepta secuencia de objetos, incluidos otros arrays, y produce un nuevo array NumPy que contiene la data que se ha pasado. Por ejemplo:"
      ]
    },
    {
      "cell_type": "code",
      "metadata": {
        "id": "9hB38rp4cf8l",
        "colab_type": "code",
        "colab": {}
      },
      "source": [
        "data1 = [6, 7.5, 8, 0, 1] #Lista Python\n",
        "arr1 = np.array(data1) #NumPy Array\n",
        "arr1\n"
      ],
      "execution_count": 0,
      "outputs": []
    },
    {
      "cell_type": "markdown",
      "metadata": {
        "id": "remDj1B-dl9d",
        "colab_type": "text"
      },
      "source": [
        "Secuencias anidades, son convertidas a arrays multidimensionales.\n"
      ]
    },
    {
      "cell_type": "code",
      "metadata": {
        "id": "yYjbd1A7cfj_",
        "colab_type": "code",
        "outputId": "98a30903-d37f-4a10-90b3-0ee1752205c5",
        "colab": {
          "base_uri": "https://localhost:8080/",
          "height": 51
        }
      },
      "source": [
        "data2 = [[1, 2, 3, 4], [5, 6, 7, 8]] # Anido dos Listas\n",
        "arr2 = np.array(data2) # Lo convierto en Array\n",
        "arr2"
      ],
      "execution_count": 0,
      "outputs": [
        {
          "output_type": "execute_result",
          "data": {
            "text/plain": [
              "array([[1, 2, 3, 4],\n",
              "       [5, 6, 7, 8]])"
            ]
          },
          "metadata": {
            "tags": []
          },
          "execution_count": 46
        }
      ]
    },
    {
      "cell_type": "code",
      "metadata": {
        "id": "Zp2IMdMIcehN",
        "colab_type": "code",
        "outputId": "816bf21b-b41a-4f70-96f8-60785854576c",
        "colab": {
          "base_uri": "https://localhost:8080/",
          "height": 34
        }
      },
      "source": [
        "arr2.ndim"
      ],
      "execution_count": 0,
      "outputs": [
        {
          "output_type": "execute_result",
          "data": {
            "text/plain": [
              "2"
            ]
          },
          "metadata": {
            "tags": []
          },
          "execution_count": 47
        }
      ]
    },
    {
      "cell_type": "code",
      "metadata": {
        "id": "Te6ZYfabc4IM",
        "colab_type": "code",
        "outputId": "fca70b61-6180-42b9-e63b-5e868b9723d3",
        "colab": {
          "base_uri": "https://localhost:8080/",
          "height": 34
        }
      },
      "source": [
        "arr2.shape"
      ],
      "execution_count": 0,
      "outputs": [
        {
          "output_type": "execute_result",
          "data": {
            "text/plain": [
              "(2, 4)"
            ]
          },
          "metadata": {
            "tags": []
          },
          "execution_count": 48
        }
      ]
    },
    {
      "cell_type": "code",
      "metadata": {
        "id": "T-2AxsgZRv5i",
        "colab_type": "code",
        "colab": {}
      },
      "source": [
        "data3 = [[1,2,3,4], arr1] #Que sucede aquí?\n",
        "data3"
      ],
      "execution_count": 0,
      "outputs": []
    },
    {
      "cell_type": "markdown",
      "metadata": {
        "id": "iLdTYwT2d28c",
        "colab_type": "text"
      },
      "source": [
        "Al menos que se especifique, **np.array** intenta inferir el mejor tipo de dato para el array creado. El tipo de dato es almacenado en un tipo especial de metadato. Por ejemplo:"
      ]
    },
    {
      "cell_type": "code",
      "metadata": {
        "id": "Vk_bDoGAceS_",
        "colab_type": "code",
        "outputId": "b61bdd94-7e24-459d-a9ff-b81cb9f88d1e",
        "colab": {
          "base_uri": "https://localhost:8080/",
          "height": 34
        }
      },
      "source": [
        "arr1.dtype # Tipo de dato array1"
      ],
      "execution_count": 0,
      "outputs": [
        {
          "output_type": "execute_result",
          "data": {
            "text/plain": [
              "dtype('float64')"
            ]
          },
          "metadata": {
            "tags": []
          },
          "execution_count": 50
        }
      ]
    },
    {
      "cell_type": "code",
      "metadata": {
        "id": "hmAiRMgLc8uu",
        "colab_type": "code",
        "outputId": "00fdb14d-2d01-4b4f-8564-7ad70faad2ad",
        "colab": {
          "base_uri": "https://localhost:8080/",
          "height": 34
        }
      },
      "source": [
        "arr2.dtype # Tipo de dato array2"
      ],
      "execution_count": 0,
      "outputs": [
        {
          "output_type": "execute_result",
          "data": {
            "text/plain": [
              "dtype('int64')"
            ]
          },
          "metadata": {
            "tags": []
          },
          "execution_count": 51
        }
      ]
    },
    {
      "cell_type": "markdown",
      "metadata": {
        "id": "OlzcMwHSePKv",
        "colab_type": "text"
      },
      "source": [
        "Adicionalmente, **np.array** posee un número de funciones para crear nuevos arrays. Por ejemplo, crear arrays solo con ceros y unos respectivamente, con una dada longitud y forma.\n"
      ]
    },
    {
      "cell_type": "code",
      "metadata": {
        "id": "cfPJxRgAcqJ7",
        "colab_type": "code",
        "outputId": "f091a3a4-9a9a-4f88-a56d-6965e60a55b6",
        "colab": {
          "base_uri": "https://localhost:8080/",
          "height": 34
        }
      },
      "source": [
        "np.zeros(10)"
      ],
      "execution_count": 0,
      "outputs": [
        {
          "output_type": "execute_result",
          "data": {
            "text/plain": [
              "array([0., 0., 0., 0., 0., 0., 0., 0., 0., 0.])"
            ]
          },
          "metadata": {
            "tags": []
          },
          "execution_count": 52
        }
      ]
    },
    {
      "cell_type": "code",
      "metadata": {
        "id": "XhMOOZDheo6A",
        "colab_type": "code",
        "outputId": "eb5bd410-2a6a-45ff-a6b9-2ff2ff4f4b09",
        "colab": {
          "base_uri": "https://localhost:8080/",
          "height": 102
        }
      },
      "source": [
        "arr4 = np.zeros((5, 10)) #3 filas 6 columnas de ceros\n",
        "arr4"
      ],
      "execution_count": 0,
      "outputs": [
        {
          "output_type": "execute_result",
          "data": {
            "text/plain": [
              "array([[0., 0., 0., 0., 0., 0., 0., 0., 0., 0.],\n",
              "       [0., 0., 0., 0., 0., 0., 0., 0., 0., 0.],\n",
              "       [0., 0., 0., 0., 0., 0., 0., 0., 0., 0.],\n",
              "       [0., 0., 0., 0., 0., 0., 0., 0., 0., 0.],\n",
              "       [0., 0., 0., 0., 0., 0., 0., 0., 0., 0.]])"
            ]
          },
          "metadata": {
            "tags": []
          },
          "execution_count": 57
        }
      ]
    },
    {
      "cell_type": "markdown",
      "metadata": {
        "id": "Mle0OOiTe77_",
        "colab_type": "text"
      },
      "source": [
        "Con una longitud particular, **np.empty** crea un array sin inicializar y sin valores particulares."
      ]
    },
    {
      "cell_type": "code",
      "metadata": {
        "id": "U91sWuI4eomP",
        "colab_type": "code",
        "colab": {}
      },
      "source": [
        "np.empty((4,3, 2)) #Array de 2 objetos de 3 filas y 2 columnas cada uno"
      ],
      "execution_count": 0,
      "outputs": []
    },
    {
      "cell_type": "code",
      "metadata": {
        "id": "i05aMkUycspA",
        "colab_type": "code",
        "colab": {}
      },
      "source": [
        "np.arange(15)"
      ],
      "execution_count": 0,
      "outputs": []
    },
    {
      "cell_type": "markdown",
      "metadata": {
        "id": "UVBAQBG0gOTV",
        "colab_type": "text"
      },
      "source": [
        "## Tipo de datos\n",
        "\n",
        "Puedes explicitamente convertir o castear un array de un tipo de dato a otro usando el método **astype** \n"
      ]
    },
    {
      "cell_type": "code",
      "metadata": {
        "id": "RyyZspZ2gOB4",
        "colab_type": "code",
        "outputId": "6bad8472-b04b-49ef-db97-f3ad9babee7b",
        "colab": {
          "base_uri": "https://localhost:8080/",
          "height": 34
        }
      },
      "source": [
        "arr = np.array([1, 2, 3, 4, 5])\n",
        "arr.dtype"
      ],
      "execution_count": 0,
      "outputs": [
        {
          "output_type": "execute_result",
          "data": {
            "text/plain": [
              "dtype('int64')"
            ]
          },
          "metadata": {
            "tags": []
          },
          "execution_count": 64
        }
      ]
    },
    {
      "cell_type": "code",
      "metadata": {
        "id": "UaJhu9GIg1Rl",
        "colab_type": "code",
        "outputId": "6e9e4526-f3ae-470b-e943-101a41cef1f0",
        "colab": {
          "base_uri": "https://localhost:8080/",
          "height": 34
        }
      },
      "source": [
        "float_arr = arr.astype(np.float64) # Tomamos el array arr y lo casteamos a float\n",
        "float_arr.dtype\n",
        "print (float_arr)"
      ],
      "execution_count": 0,
      "outputs": [
        {
          "output_type": "stream",
          "text": [
            "[1. 2. 3. 4. 5.]\n"
          ],
          "name": "stdout"
        }
      ]
    },
    {
      "cell_type": "markdown",
      "metadata": {
        "id": "DQhuGqqahFe8",
        "colab_type": "text"
      },
      "source": [
        "## Aritmética con NumPy Array\n",
        "\n",
        "Arrays son importante porque permite expresar operaciones batch en datos sin tener que escribir loops. Cualquier operación aritmética entre arrays del mismo tamaño aplica la operación a través de los elementos.\n"
      ]
    },
    {
      "cell_type": "code",
      "metadata": {
        "id": "wT__zk1khf2F",
        "colab_type": "code",
        "colab": {}
      },
      "source": [
        "arr = np.array([[1., 2., 3.], [4., 5., 6.]])\n",
        "print (arr)\n",
        "print ('\\n')\n",
        "print (arr * arr)\n",
        "print ('\\n')\n",
        "print (arr - arr)\n",
        "print ('\\n')"
      ],
      "execution_count": 0,
      "outputs": []
    },
    {
      "cell_type": "code",
      "metadata": {
        "id": "3EsdOBMOiCtL",
        "colab_type": "code",
        "colab": {}
      },
      "source": [
        "print (1 / arr)\n",
        "print ('\\n')\n",
        "print (arr ** 0.5)"
      ],
      "execution_count": 0,
      "outputs": []
    },
    {
      "cell_type": "code",
      "metadata": {
        "id": "6isJZhSyiGfw",
        "colab_type": "code",
        "outputId": "ef6b7b07-0517-4990-e1a6-53ab43b92122",
        "colab": {
          "base_uri": "https://localhost:8080/",
          "height": 51
        }
      },
      "source": [
        "arr2 = np.array([[0., 4., 1.], [7., 2., 12.]])\n",
        "arr2"
      ],
      "execution_count": 0,
      "outputs": [
        {
          "output_type": "execute_result",
          "data": {
            "text/plain": [
              "array([[ 0.,  4.,  1.],\n",
              "       [ 7.,  2., 12.]])"
            ]
          },
          "metadata": {
            "tags": []
          },
          "execution_count": 70
        }
      ]
    },
    {
      "cell_type": "code",
      "metadata": {
        "id": "sKaMGP8WiJk7",
        "colab_type": "code",
        "outputId": "ea3a1666-d74a-48f7-98ac-34d273c79123",
        "colab": {
          "base_uri": "https://localhost:8080/",
          "height": 51
        }
      },
      "source": [
        "arr2 > arr #Devolverá un True o False"
      ],
      "execution_count": 0,
      "outputs": [
        {
          "output_type": "execute_result",
          "data": {
            "text/plain": [
              "array([[False,  True, False],\n",
              "       [ True, False,  True]])"
            ]
          },
          "metadata": {
            "tags": []
          },
          "execution_count": 71
        }
      ]
    },
    {
      "cell_type": "markdown",
      "metadata": {
        "id": "_tF-mjZ_idWJ",
        "colab_type": "text"
      },
      "source": [
        "## Slicing e Indexing básico\n",
        "\n",
        "Los índices en arrays NumPuy permiten seleccionar un subset individual de elementos. Los arrays simples son similares en comportamiento a las listas. Pero a medida que avanzamos, utilizar NumPy arrays es mucho mas útil."
      ]
    },
    {
      "cell_type": "code",
      "metadata": {
        "id": "bbDcV427i_Il",
        "colab_type": "code",
        "outputId": "b6688f0e-ea0d-4eae-e0ea-ad2b29241491",
        "colab": {
          "base_uri": "https://localhost:8080/",
          "height": 34
        }
      },
      "source": [
        "arr = np.arange(10)\n",
        "arr"
      ],
      "execution_count": 0,
      "outputs": [
        {
          "output_type": "execute_result",
          "data": {
            "text/plain": [
              "array([0, 1, 2, 3, 4, 5, 6, 7, 8, 9])"
            ]
          },
          "metadata": {
            "tags": []
          },
          "execution_count": 72
        }
      ]
    },
    {
      "cell_type": "code",
      "metadata": {
        "id": "HhBy6uhmjDhf",
        "colab_type": "code",
        "colab": {}
      },
      "source": [
        "print (arr[5])\n",
        "print (arr[5:8])\n",
        "arr[5:8] = 12\n",
        "print (arr)"
      ],
      "execution_count": 0,
      "outputs": []
    },
    {
      "cell_type": "markdown",
      "metadata": {
        "id": "Bvy-8GSqjiZv",
        "colab_type": "text"
      },
      "source": [
        "El slice vacío asignará el mismo valor a todo el array\n"
      ]
    },
    {
      "cell_type": "code",
      "metadata": {
        "id": "j_pe8YHqjp3w",
        "colab_type": "code",
        "outputId": "e5de576d-46f5-4c75-84e4-134a7543f8ab",
        "colab": {
          "base_uri": "https://localhost:8080/",
          "height": 51
        }
      },
      "source": [
        "arr_slice = np.zeros(10)\n",
        "print(arr_slice)\n",
        "arr_slice[:] = 64\n",
        "arr_slice"
      ],
      "execution_count": 0,
      "outputs": [
        {
          "output_type": "stream",
          "text": [
            "[0. 0. 0. 0. 0. 0. 0. 0. 0. 0.]\n"
          ],
          "name": "stdout"
        },
        {
          "output_type": "execute_result",
          "data": {
            "text/plain": [
              "array([64., 64., 64., 64., 64., 64., 64., 64., 64., 64.])"
            ]
          },
          "metadata": {
            "tags": []
          },
          "execution_count": 75
        }
      ]
    },
    {
      "cell_type": "markdown",
      "metadata": {
        "id": "Jq3-CKKhkJ8p",
        "colab_type": "text"
      },
      "source": [
        "Con arrays de mayor dimensión, tienes muchas opciones. En un array de dos dimensiones, los elementos de cada índice no son más escalare, sino arrays de una dimensión.\n"
      ]
    },
    {
      "cell_type": "code",
      "metadata": {
        "id": "7uHsf8p0khHK",
        "colab_type": "code",
        "outputId": "49dd24bb-8086-4f69-e232-a20e82929c37",
        "colab": {
          "base_uri": "https://localhost:8080/",
          "height": 51
        }
      },
      "source": [
        "import numpy as np\n",
        "arr2d = np.array([[1, 2, 3], [4, 5, 6], [7, 8, 9]])\n",
        "arr2d[1:, :2]\n"
      ],
      "execution_count": 0,
      "outputs": [
        {
          "output_type": "execute_result",
          "data": {
            "text/plain": [
              "array([[4, 5],\n",
              "       [7, 8]])"
            ]
          },
          "metadata": {
            "tags": []
          },
          "execution_count": 7
        }
      ]
    },
    {
      "cell_type": "markdown",
      "metadata": {
        "id": "1fnPvP0YlYm7",
        "colab_type": "text"
      },
      "source": [
        "Una forma fácil de ver los arrays multidimensionales es por ejemplo de la siguiente forma.\n",
        "Tomamos el Eje 0 (axis 0) como las filas, y el Eje 1 (axis 1) como las columnas\n",
        "\n",
        "<img src=\"https://github.com/al34n1x/datascience/blob/master/img/array.png?raw=true\" width=\"400\" height=\"300\" />\n",
        "\n"
      ]
    },
    {
      "cell_type": "markdown",
      "metadata": {
        "id": "2pYCvStZoeUk",
        "colab_type": "text"
      },
      "source": [
        "## Indexing con Slicing\n",
        "\n",
        "Indices y Slices funcionan de la misma manera en arrays que en listas.\n",
        "Así mismo podemos combinar el uso de índices con slices para extraer subitems de posiciones específicas del array."
      ]
    },
    {
      "cell_type": "code",
      "metadata": {
        "id": "HmHSPWrYoeBw",
        "colab_type": "code",
        "colab": {}
      },
      "source": [
        "print (arr2d)\n",
        "print ('\\n')\n",
        "arr2d[:2, 1:] # Del primer item extraemos los números desde la posición 1 en adelante, \n",
        "              # y del segundo ítem del array extraemos desde la posición 1 en adelante"
      ],
      "execution_count": 0,
      "outputs": []
    },
    {
      "cell_type": "code",
      "metadata": {
        "id": "8v0fX8YtUIWq",
        "colab_type": "code",
        "outputId": "165e4e05-f839-42e7-c0b9-d806d5b49a48",
        "colab": {
          "base_uri": "https://localhost:8080/",
          "height": 34
        }
      },
      "source": [
        "list = [1,2,3,4,5]\n",
        "list [1:3]"
      ],
      "execution_count": 0,
      "outputs": [
        {
          "output_type": "execute_result",
          "data": {
            "text/plain": [
              "[2, 3]"
            ]
          },
          "metadata": {
            "tags": []
          },
          "execution_count": 3
        }
      ]
    },
    {
      "cell_type": "markdown",
      "metadata": {
        "id": "0rNcdGXDqAA6",
        "colab_type": "text"
      },
      "source": [
        "Cuando rebanamos de esta forma, obtenemos vista de arrays dentro del mismo numero de dimensiones. Mezclando índices enteros y slides, podes obtener  rebanadas de una dimensión inferior.\n",
        "\n",
        "Por ejemplo, puedo seleccionar la segunda fila pero solo las primeras dos columnas de la misma mediante la siguiente sentencia.\n"
      ]
    },
    {
      "cell_type": "code",
      "metadata": {
        "id": "7hhvkJUzpvdy",
        "colab_type": "code",
        "outputId": "32ac55f3-fb6c-4c5c-fbc4-b16c7507b71d",
        "colab": {
          "base_uri": "https://localhost:8080/",
          "height": 34
        }
      },
      "source": [
        "arr2d[:2, 0]"
      ],
      "execution_count": 0,
      "outputs": [
        {
          "output_type": "execute_result",
          "data": {
            "text/plain": [
              "array([1, 4])"
            ]
          },
          "metadata": {
            "tags": []
          },
          "execution_count": 81
        }
      ]
    },
    {
      "cell_type": "markdown",
      "metadata": {
        "id": "vbDP5MBbqlCH",
        "colab_type": "text"
      },
      "source": [
        "Similarmente, puedes seleccionar la tercera columna pero solo la primera fila con la siguiente sentencia.\n",
        "\n"
      ]
    },
    {
      "cell_type": "code",
      "metadata": {
        "id": "APlzNugyqxH9",
        "colab_type": "code",
        "outputId": "1fe4a085-1b2d-4b67-8455-fb5be28027cf",
        "colab": {
          "base_uri": "https://localhost:8080/",
          "height": 119
        }
      },
      "source": [
        "print (arr2d)\n",
        "print ('\\n')\n",
        "arr2d[:2, 2]"
      ],
      "execution_count": 0,
      "outputs": [
        {
          "output_type": "stream",
          "text": [
            "[[1 2 3]\n",
            " [4 5 6]\n",
            " [7 8 9]]\n",
            "\n",
            "\n"
          ],
          "name": "stdout"
        },
        {
          "output_type": "execute_result",
          "data": {
            "text/plain": [
              "array([3, 6])"
            ]
          },
          "metadata": {
            "tags": []
          },
          "execution_count": 82
        }
      ]
    },
    {
      "cell_type": "code",
      "metadata": {
        "id": "M7V5YCF_rYin",
        "colab_type": "code",
        "outputId": "5232efc1-3c91-4a61-bec4-46a25ea2cada",
        "colab": {
          "base_uri": "https://localhost:8080/",
          "height": 153
        }
      },
      "source": [
        "print (arr2d)\n",
        "print ('\\n')\n",
        "arr2d[:, :1] #Que me mostrará?"
      ],
      "execution_count": 0,
      "outputs": [
        {
          "output_type": "stream",
          "text": [
            "[[1 2 3]\n",
            " [4 5 6]\n",
            " [7 8 9]]\n",
            "\n",
            "\n"
          ],
          "name": "stdout"
        },
        {
          "output_type": "execute_result",
          "data": {
            "text/plain": [
              "array([[1],\n",
              "       [4],\n",
              "       [7]])"
            ]
          },
          "metadata": {
            "tags": []
          },
          "execution_count": 83
        }
      ]
    },
    {
      "cell_type": "markdown",
      "metadata": {
        "id": "EtaiNVier6XI",
        "colab_type": "text"
      },
      "source": [
        "## Slicing en array de dos dimensiones\n",
        "\n",
        "Este gráfico puede ayudarte durante tu trabajo desarrollando código con NumPy.\n",
        "\n",
        "\n",
        "<img src=\"https://github.com/al34n1x/datascience/blob/master/img/array_shapes.png?raw=true\" width=\"380\" height=\"400\" />\n"
      ]
    },
    {
      "cell_type": "code",
      "metadata": {
        "id": "MWdgCsa4sR6y",
        "colab_type": "code",
        "outputId": "07f9a265-3935-46ae-a7df-eb53599c7fd8",
        "colab": {
          "base_uri": "https://localhost:8080/",
          "height": 68
        }
      },
      "source": [
        "arr2d[:2, 1:] = 0\n",
        "arr2d"
      ],
      "execution_count": 0,
      "outputs": [
        {
          "output_type": "execute_result",
          "data": {
            "text/plain": [
              "array([[1, 0, 0],\n",
              "       [4, 0, 0],\n",
              "       [7, 8, 9]])"
            ]
          },
          "metadata": {
            "tags": []
          },
          "execution_count": 84
        }
      ]
    },
    {
      "cell_type": "markdown",
      "metadata": {
        "id": "BO0IJOvc0U7z",
        "colab_type": "text"
      },
      "source": [
        "## Fancy Indexing\n",
        "\n",
        "Fancy Indexing es un termino adoptado por NumPy para describir el uso de índices utilizando arreglos de enteros. Supongamos un array de  8 x 4:"
      ]
    },
    {
      "cell_type": "code",
      "metadata": {
        "id": "A8C1osX90pH8",
        "colab_type": "code",
        "outputId": "c1b0de60-6c5c-4011-9811-7b68b65d5abd",
        "colab": {
          "base_uri": "https://localhost:8080/",
          "height": 153
        }
      },
      "source": [
        "arr = np.empty((8, 4))\n",
        "for i in range(8):\n",
        "  arr[i] = i\n",
        "\n",
        "arr"
      ],
      "execution_count": 0,
      "outputs": [
        {
          "output_type": "execute_result",
          "data": {
            "text/plain": [
              "array([[0., 0., 0., 0.],\n",
              "       [1., 1., 1., 1.],\n",
              "       [2., 2., 2., 2.],\n",
              "       [3., 3., 3., 3.],\n",
              "       [4., 4., 4., 4.],\n",
              "       [5., 5., 5., 5.],\n",
              "       [6., 6., 6., 6.],\n",
              "       [7., 7., 7., 7.]])"
            ]
          },
          "metadata": {
            "tags": []
          },
          "execution_count": 85
        }
      ]
    },
    {
      "cell_type": "markdown",
      "metadata": {
        "id": "kf69K1w609_6",
        "colab_type": "text"
      },
      "source": [
        "Para seleccionar un subset de filas en un orden particular, simplemente le pasas una lista o un ndarray de enteros especificando el orden deseado:\n"
      ]
    },
    {
      "cell_type": "code",
      "metadata": {
        "id": "edm246U309T4",
        "colab_type": "code",
        "colab": {}
      },
      "source": [
        "arr[[4, 3, 0, 6]]"
      ],
      "execution_count": 0,
      "outputs": []
    },
    {
      "cell_type": "markdown",
      "metadata": {
        "id": "qGdasrMY1sK8",
        "colab_type": "text"
      },
      "source": [
        "## Funciones universales para el manejo de arrays\n",
        "\n",
        "Una función universal o **ufunc** es una función que puede aplicarse a todos los datos del ndarray. Puedes pensar como funciones simples que pueden tomar un valor escalar y producir muchos escalares como resultado.\n"
      ]
    },
    {
      "cell_type": "code",
      "metadata": {
        "id": "xGo-qR_a2IQz",
        "colab_type": "code",
        "outputId": "d566040c-9dd4-4c09-d61d-c4c00b10bf9c",
        "colab": {
          "base_uri": "https://localhost:8080/",
          "height": 68
        }
      },
      "source": [
        "arr = np.arange(10)\n",
        "print(arr)\n",
        "np.sqrt(arr) # Nos dara la raíz cuadrada de todos los elementos del array."
      ],
      "execution_count": 0,
      "outputs": [
        {
          "output_type": "stream",
          "text": [
            "[0 1 2 3 4 5 6 7 8 9]\n"
          ],
          "name": "stdout"
        },
        {
          "output_type": "execute_result",
          "data": {
            "text/plain": [
              "array([0.        , 1.        , 1.41421356, 1.73205081, 2.        ,\n",
              "       2.23606798, 2.44948974, 2.64575131, 2.82842712, 3.        ])"
            ]
          },
          "metadata": {
            "tags": []
          },
          "execution_count": 88
        }
      ]
    },
    {
      "cell_type": "code",
      "metadata": {
        "id": "xzuoEYag2Wf6",
        "colab_type": "code",
        "colab": {}
      },
      "source": [
        "np.exp(arr) # Que hará esta función?\n",
        "np"
      ],
      "execution_count": 0,
      "outputs": []
    },
    {
      "cell_type": "markdown",
      "metadata": {
        "id": "7qH18aun2nlX",
        "colab_type": "text"
      },
      "source": [
        "Existen otras funciones binarias, que necesitan de dos argumentos para operar, por ejemplo las funciones Max o Min"
      ]
    },
    {
      "cell_type": "code",
      "metadata": {
        "id": "zEIZqFX22u-b",
        "colab_type": "code",
        "outputId": "54b1089e-1b13-40ad-ca03-6c72a19cfd92",
        "colab": {
          "base_uri": "https://localhost:8080/",
          "height": 51
        }
      },
      "source": [
        "x = np.random.randn(8)\n",
        "y = np.random.randn(8)\n",
        "np.maximum(x, y)"
      ],
      "execution_count": 0,
      "outputs": [
        {
          "output_type": "execute_result",
          "data": {
            "text/plain": [
              "array([ 0.11324984,  0.84642197, -1.40405964,  1.45160208, -0.54261713,\n",
              "       -0.96082837,  1.21378291,  0.29392378])"
            ]
          },
          "metadata": {
            "tags": []
          },
          "execution_count": 91
        }
      ]
    },
    {
      "cell_type": "markdown",
      "metadata": {
        "id": "bjMDpJi93Apj",
        "colab_type": "text"
      },
      "source": [
        "# Programación con arrays\n",
        "\n",
        "Usar arrays Numpy permite expresar diferentes tipo de datos como expresiones concisas de arrays, que de otra manera requerirían utilizar loops.\n",
        "Está práctica de reemplazaz de forma explicita el uso de loops con expresiones de array se conoce comunment como vectorización. En general, vectorizar operacioes de array serán mucho más rápidas que su contraparte pura en Python.\n",
        "\n",
        "Como ejemplo, supongamos evaluar la función `sqrt(x^2 + y^2)` a través de una grilla de valores. La función **np.meshgrid** toma dos arrays de 1 dimension y produce dos arrays de dos dimensiones correspondiente al par (x,y) en dos arrays:\n",
        "\n"
      ]
    },
    {
      "cell_type": "code",
      "metadata": {
        "id": "jRWneVHU3ART",
        "colab_type": "code",
        "outputId": "3ad2e1fd-4b87-4d65-f181-9fd0afde2326",
        "colab": {
          "base_uri": "https://localhost:8080/",
          "height": 255
        }
      },
      "source": [
        "points = np.arange(0, 10, 0.01) # 1000 equally spaced points\n",
        "xs = np.meshgrid(points, points)\n",
        "ys = np.meshgrid(points, points)\n",
        "ys"
      ],
      "execution_count": 0,
      "outputs": [
        {
          "output_type": "execute_result",
          "data": {
            "text/plain": [
              "[array([[0.  , 0.01, 0.02, ..., 9.97, 9.98, 9.99],\n",
              "        [0.  , 0.01, 0.02, ..., 9.97, 9.98, 9.99],\n",
              "        [0.  , 0.01, 0.02, ..., 9.97, 9.98, 9.99],\n",
              "        ...,\n",
              "        [0.  , 0.01, 0.02, ..., 9.97, 9.98, 9.99],\n",
              "        [0.  , 0.01, 0.02, ..., 9.97, 9.98, 9.99],\n",
              "        [0.  , 0.01, 0.02, ..., 9.97, 9.98, 9.99]]),\n",
              " array([[0.  , 0.  , 0.  , ..., 0.  , 0.  , 0.  ],\n",
              "        [0.01, 0.01, 0.01, ..., 0.01, 0.01, 0.01],\n",
              "        [0.02, 0.02, 0.02, ..., 0.02, 0.02, 0.02],\n",
              "        ...,\n",
              "        [9.97, 9.97, 9.97, ..., 9.97, 9.97, 9.97],\n",
              "        [9.98, 9.98, 9.98, ..., 9.98, 9.98, 9.98],\n",
              "        [9.99, 9.99, 9.99, ..., 9.99, 9.99, 9.99]])]"
            ]
          },
          "metadata": {
            "tags": []
          },
          "execution_count": 92
        }
      ]
    },
    {
      "cell_type": "code",
      "metadata": {
        "id": "Zsb41P2M427t",
        "colab_type": "code",
        "outputId": "154b4d50-a763-4cd0-9e34-afa938cf8745",
        "colab": {
          "base_uri": "https://localhost:8080/",
          "height": 952
        }
      },
      "source": [
        "z = np.sqrt(xs + ys)\n",
        "z"
      ],
      "execution_count": 0,
      "outputs": [
        {
          "output_type": "execute_result",
          "data": {
            "text/plain": [
              "array([[[0.        , 0.1       , 0.14142136, ..., 3.15753068,\n",
              "         3.1591138 , 3.16069613],\n",
              "        [0.        , 0.1       , 0.14142136, ..., 3.15753068,\n",
              "         3.1591138 , 3.16069613],\n",
              "        [0.        , 0.1       , 0.14142136, ..., 3.15753068,\n",
              "         3.1591138 , 3.16069613],\n",
              "        ...,\n",
              "        [0.        , 0.1       , 0.14142136, ..., 3.15753068,\n",
              "         3.1591138 , 3.16069613],\n",
              "        [0.        , 0.1       , 0.14142136, ..., 3.15753068,\n",
              "         3.1591138 , 3.16069613],\n",
              "        [0.        , 0.1       , 0.14142136, ..., 3.15753068,\n",
              "         3.1591138 , 3.16069613]],\n",
              "\n",
              "       [[0.        , 0.        , 0.        , ..., 0.        ,\n",
              "         0.        , 0.        ],\n",
              "        [0.1       , 0.1       , 0.1       , ..., 0.1       ,\n",
              "         0.1       , 0.1       ],\n",
              "        [0.14142136, 0.14142136, 0.14142136, ..., 0.14142136,\n",
              "         0.14142136, 0.14142136],\n",
              "        ...,\n",
              "        [3.15753068, 3.15753068, 3.15753068, ..., 3.15753068,\n",
              "         3.15753068, 3.15753068],\n",
              "        [3.1591138 , 3.1591138 , 3.1591138 , ..., 3.1591138 ,\n",
              "         3.1591138 , 3.1591138 ],\n",
              "        [3.16069613, 3.16069613, 3.16069613, ..., 3.16069613,\n",
              "         3.16069613, 3.16069613]],\n",
              "\n",
              "       [[0.        , 0.1       , 0.14142136, ..., 3.15753068,\n",
              "         3.1591138 , 3.16069613],\n",
              "        [0.        , 0.1       , 0.14142136, ..., 3.15753068,\n",
              "         3.1591138 , 3.16069613],\n",
              "        [0.        , 0.1       , 0.14142136, ..., 3.15753068,\n",
              "         3.1591138 , 3.16069613],\n",
              "        ...,\n",
              "        [0.        , 0.1       , 0.14142136, ..., 3.15753068,\n",
              "         3.1591138 , 3.16069613],\n",
              "        [0.        , 0.1       , 0.14142136, ..., 3.15753068,\n",
              "         3.1591138 , 3.16069613],\n",
              "        [0.        , 0.1       , 0.14142136, ..., 3.15753068,\n",
              "         3.1591138 , 3.16069613]],\n",
              "\n",
              "       [[0.        , 0.        , 0.        , ..., 0.        ,\n",
              "         0.        , 0.        ],\n",
              "        [0.1       , 0.1       , 0.1       , ..., 0.1       ,\n",
              "         0.1       , 0.1       ],\n",
              "        [0.14142136, 0.14142136, 0.14142136, ..., 0.14142136,\n",
              "         0.14142136, 0.14142136],\n",
              "        ...,\n",
              "        [3.15753068, 3.15753068, 3.15753068, ..., 3.15753068,\n",
              "         3.15753068, 3.15753068],\n",
              "        [3.1591138 , 3.1591138 , 3.1591138 , ..., 3.1591138 ,\n",
              "         3.1591138 , 3.1591138 ],\n",
              "        [3.16069613, 3.16069613, 3.16069613, ..., 3.16069613,\n",
              "         3.16069613, 3.16069613]]])"
            ]
          },
          "metadata": {
            "tags": []
          },
          "execution_count": 93
        }
      ]
    }
  ]
}