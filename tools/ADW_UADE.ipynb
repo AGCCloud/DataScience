{
  "nbformat": 4,
  "nbformat_minor": 0,
  "metadata": {
    "colab": {
      "name": "ADW_UADE.ipynb",
      "provenance": [],
      "collapsed_sections": [],
      "include_colab_link": true
    },
    "kernelspec": {
      "name": "python3",
      "display_name": "Python 3"
    }
  },
  "cells": [
    {
      "cell_type": "markdown",
      "metadata": {
        "id": "view-in-github",
        "colab_type": "text"
      },
      "source": [
        "<a href=\"https://colab.research.google.com/github/al34n1x/DataScience/blob/master/tools/ADW_UADE.ipynb\" target=\"_parent\"><img src=\"https://colab.research.google.com/assets/colab-badge.svg\" alt=\"Open In Colab\"/></a>"
      ]
    },
    {
      "cell_type": "code",
      "metadata": {
        "id": "BWmqnr9rcmEH",
        "colab_type": "code",
        "colab": {}
      },
      "source": [
        "from google.colab import drive # Necesario solo si tienen algo almacenado en drive, puedes skippear este paso de otra manera\n",
        "ROOT = \"/content/driver\"\n",
        "drive.mount(ROOT)"
      ],
      "execution_count": null,
      "outputs": []
    },
    {
      "cell_type": "code",
      "metadata": {
        "id": "s9scmNeukImD",
        "colab_type": "code",
        "colab": {}
      },
      "source": [
        "! ls -l oracle-instantclient*-basiclite-*.rpm || wget https://yum.oracle.com/repo/OracleLinux/OL7/oracle/instantclient/x86_64/getPackage/oracle-instantclient19.3-basiclite-19.3.0.0.0-1.x86_64.rpm\n",
        "! ls -l oracle-instantclient*-sqlplus-*.rpm   || wget https://yum.oracle.com/repo/OracleLinux/OL7/oracle/instantclient/x86_64/getPackage/oracle-instantclient19.3-sqlplus-19.3.0.0.0-1.x86_64.rpm"
      ],
      "execution_count": null,
      "outputs": []
    },
    {
      "cell_type": "code",
      "metadata": {
        "id": "vvJSDVhrkPxk",
        "colab_type": "code",
        "colab": {}
      },
      "source": [
        "! sudo apt-get install alien libaio1"
      ],
      "execution_count": null,
      "outputs": []
    },
    {
      "cell_type": "code",
      "metadata": {
        "id": "3ehTzxEtdAiN",
        "colab_type": "code",
        "colab": {}
      },
      "source": [
        "#!pip install cx_Oracle #install Oracle client library\n",
        "#!apt install alien\n",
        "#!alien -i /content/driver/My\\ Drive/oracle-instantclient19.3-basiclite-19.3.0.0.0-1.x86_64.rpm\n",
        "\n",
        "! sudo alien -i oracle-instantclient19.3-basiclite-19.3.0.0.0-1.x86_64.rpm\n",
        "\n"
      ],
      "execution_count": null,
      "outputs": []
    },
    {
      "cell_type": "code",
      "metadata": {
        "id": "r_wQn0zpkZf2",
        "colab_type": "code",
        "colab": {}
      },
      "source": [
        "! sudo alien -i --scripts oracle-instantclient19.3-sqlplus-19.3.0.0.0-1.x86_64.rpm"
      ],
      "execution_count": null,
      "outputs": []
    },
    {
      "cell_type": "code",
      "metadata": {
        "id": "7_rz7oFOkf16",
        "colab_type": "code",
        "colab": {}
      },
      "source": [
        "from google.colab import files #Upload Wallet\n",
        "uploaded = files.upload()"
      ],
      "execution_count": null,
      "outputs": []
    },
    {
      "cell_type": "code",
      "metadata": {
        "id": "E9s2mzPGkiWl",
        "colab_type": "code",
        "colab": {}
      },
      "source": [
        "!unzip -o -d /usr/lib/oracle/19.3/client64/lib/network/admin Wallet_*.zip"
      ],
      "execution_count": null,
      "outputs": []
    },
    {
      "cell_type": "code",
      "metadata": {
        "id": "E-SocLb1kxsX",
        "colab_type": "code",
        "colab": {}
      },
      "source": [
        "!cat /usr/lib/oracle/19.3/client64/lib/network/admin/tnsnames.ora"
      ],
      "execution_count": null,
      "outputs": []
    },
    {
      "cell_type": "code",
      "metadata": {
        "id": "FR8Vi7JIkzn7",
        "colab_type": "code",
        "colab": {}
      },
      "source": [
        "!cat /usr/lib/oracle/19.3/client64/lib/network/admin/sqlnet.ora"
      ],
      "execution_count": null,
      "outputs": []
    },
    {
      "cell_type": "code",
      "metadata": {
        "id": "9AKk0cj4k2Fd",
        "colab_type": "code",
        "colab": {}
      },
      "source": [
        "from getpass import getpass\n",
        "password = getpass('Enter the user password:')"
      ],
      "execution_count": null,
      "outputs": []
    },
    {
      "cell_type": "code",
      "metadata": {
        "id": "luKmRyuGuGCf",
        "colab_type": "code",
        "colab": {}
      },
      "source": [
        "! sqlplus -L admin/$password@dbuadeds2020_high <<<'show user' # Change User Name to Group"
      ],
      "execution_count": null,
      "outputs": []
    },
    {
      "cell_type": "code",
      "metadata": {
        "id": "LZd3vKu1l4f2",
        "colab_type": "code",
        "colab": {}
      },
      "source": [
        "pip install cx_Oracle"
      ],
      "execution_count": null,
      "outputs": []
    },
    {
      "cell_type": "code",
      "metadata": {
        "id": "HcU9vq4-_NN9",
        "colab_type": "code",
        "colab": {}
      },
      "source": [
        "! sudo apt-get install libaio1"
      ],
      "execution_count": null,
      "outputs": []
    },
    {
      "cell_type": "code",
      "metadata": {
        "id": "gbrBADxzuXdf",
        "colab_type": "code",
        "colab": {}
      },
      "source": [
        "import cx_Oracle\n",
        "con = cx_Oracle.connect(\"admin\", password, \"dbuadeds2020_high\")\n",
        "cur = con.cursor()\n",
        "cur.execute(\"select current_timestamp,sys_context('userenv','instance_name') from dual\")\n",
        "row = cur.fetchone()\n",
        "print(row)"
      ],
      "execution_count": null,
      "outputs": []
    },
    {
      "cell_type": "code",
      "metadata": {
        "id": "7JwJnqS6d8vt",
        "colab_type": "code",
        "colab": {}
      },
      "source": [
        "import os \n",
        "import cx_Oracle as cx\n",
        "import pandas as pd\n",
        "import sqlalchemy as db\n",
        "import numpy as np\n",
        "from sqlalchemy import create_engine\n",
        "from sqlalchemy.ext.declarative import declarative_base\n",
        "from sqlalchemy import Column, String, Integer\n",
        "from sqlalchemy.orm import sessionmaker\n",
        "import warnings\n",
        "warnings.filterwarnings('ignore')\n",
        "\n",
        "con = cx.connect(\"ADMIN\", password, \"dbuadeds2020_high\")\n",
        "query = 'SELECT * from D_SRC where NUMERO_DE_CLIENTE = 5609981'\n",
        "data_train_2 = pd.read_sql(query, con=con)\n",
        "data_train_2.head()"
      ],
      "execution_count": null,
      "outputs": []
    }
  ]
}